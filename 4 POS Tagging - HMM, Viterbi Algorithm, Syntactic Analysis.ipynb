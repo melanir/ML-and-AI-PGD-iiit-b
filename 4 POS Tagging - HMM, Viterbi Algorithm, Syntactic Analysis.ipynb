{
 "cells": [
  {
   "cell_type": "markdown",
   "metadata": {},
   "source": [
    "# POS tagging using modified Viterbi"
   ]
  },
  {
   "cell_type": "markdown",
   "metadata": {},
   "source": [
    "### Data Preparation"
   ]
  },
  {
   "cell_type": "code",
   "execution_count": 34,
   "metadata": {},
   "outputs": [],
   "source": [
    "#Importing libraries\n",
    "import nltk\n",
    "from sklearn.model_selection import train_test_split\n",
    "import numpy as np\n",
    "import pandas as pd\n",
    "import matplotlib.pyplot as plt\n",
    "import seaborn as sns"
   ]
  },
  {
   "cell_type": "code",
   "execution_count": 35,
   "metadata": {},
   "outputs": [],
   "source": [
    "import time\n",
    "import gc\n",
    "from collections import Counter\n",
    "import re\n",
    "from sklearn.metrics import confusion_matrix"
   ]
  },
  {
   "cell_type": "markdown",
   "metadata": {},
   "source": [
    "#### Please skip the block below if the universal tagset is already available"
   ]
  },
  {
   "cell_type": "code",
   "execution_count": 36,
   "metadata": {},
   "outputs": [
    {
     "name": "stderr",
     "output_type": "stream",
     "text": [
      "[nltk_data] Downloading package universal_tagset to\n",
      "[nltk_data]     C:\\Users\\Niraj\\AppData\\Roaming\\nltk_data...\n",
      "[nltk_data]   Package universal_tagset is already up-to-date!\n"
     ]
    },
    {
     "data": {
      "text/plain": [
       "True"
      ]
     },
     "execution_count": 36,
     "metadata": {},
     "output_type": "execute_result"
    }
   ],
   "source": [
    "#Downloading the universal tagset\n",
    "nltk.download('universal_tagset')"
   ]
  },
  {
   "cell_type": "code",
   "execution_count": 37,
   "metadata": {},
   "outputs": [],
   "source": [
    "# reading the Treebank sentences with tags from the universal tagset\n",
    "nltk_data = list(nltk.corpus.treebank.tagged_sents(tagset='universal'))"
   ]
  },
  {
   "cell_type": "code",
   "execution_count": 38,
   "metadata": {},
   "outputs": [
    {
     "name": "stdout",
     "output_type": "stream",
     "text": [
      "[[('Pierre', 'NOUN'), ('Vinken', 'NOUN'), (',', '.'), ('61', 'NUM'), ('years', 'NOUN'), ('old', 'ADJ'), (',', '.'), ('will', 'VERB'), ('join', 'VERB'), ('the', 'DET'), ('board', 'NOUN'), ('as', 'ADP'), ('a', 'DET'), ('nonexecutive', 'ADJ'), ('director', 'NOUN'), ('Nov.', 'NOUN'), ('29', 'NUM'), ('.', '.')], [('Mr.', 'NOUN'), ('Vinken', 'NOUN'), ('is', 'VERB'), ('chairman', 'NOUN'), ('of', 'ADP'), ('Elsevier', 'NOUN'), ('N.V.', 'NOUN'), (',', '.'), ('the', 'DET'), ('Dutch', 'NOUN'), ('publishing', 'VERB'), ('group', 'NOUN'), ('.', '.')]]\n"
     ]
    }
   ],
   "source": [
    "# viewing the first three tagged sentences\n",
    "print(nltk_data[:2])"
   ]
  },
  {
   "cell_type": "code",
   "execution_count": 39,
   "metadata": {},
   "outputs": [
    {
     "name": "stdout",
     "output_type": "stream",
     "text": [
      "100676\n"
     ]
    },
    {
     "data": {
      "text/plain": [
       "[('Pierre', 'NOUN'),\n",
       " ('Vinken', 'NOUN'),\n",
       " (',', '.'),\n",
       " ('61', 'NUM'),\n",
       " ('years', 'NOUN')]"
      ]
     },
     "execution_count": 39,
     "metadata": {},
     "output_type": "execute_result"
    }
   ],
   "source": [
    "# Converting the list of sentences into a list of words\n",
    "\n",
    "tagged_words_corpus = [tagged_word for sentence in nltk_data for tagged_word in sentence]\n",
    "print(len(tagged_words_corpus))\n",
    "tagged_words_corpus[:5]"
   ]
  },
  {
   "cell_type": "code",
   "execution_count": 40,
   "metadata": {},
   "outputs": [
    {
     "name": "stdout",
     "output_type": "stream",
     "text": [
      "100676\n",
      "100676\n"
     ]
    }
   ],
   "source": [
    "#Converting the words to lower case\n",
    "tagged_words = [tagged_word[0].lower() for tagged_word in tagged_words_corpus]\n",
    "\n",
    "#Creating a list of tags as they'll need to be zipped with the words to regenerate the corpus\n",
    "tags_for_words = [tagged_word[1] for tagged_word in tagged_words_corpus]\n",
    "\n",
    "#Checking if the number of words and tags is the same (to verify that all words have tags)\n",
    "print(len(tagged_words))\n",
    "print(len(tags_for_words))"
   ]
  },
  {
   "cell_type": "code",
   "execution_count": 41,
   "metadata": {},
   "outputs": [
    {
     "name": "stdout",
     "output_type": "stream",
     "text": [
      "100676\n"
     ]
    },
    {
     "data": {
      "text/plain": [
       "[('pierre', 'NOUN'),\n",
       " ('vinken', 'NOUN'),\n",
       " (',', '.'),\n",
       " ('61', 'NUM'),\n",
       " ('years', 'NOUN')]"
      ]
     },
     "execution_count": 41,
     "metadata": {},
     "output_type": "execute_result"
    }
   ],
   "source": [
    "#Zipping the words and their corresponding tags back together\n",
    "tagged_words_corpus = list(zip(tagged_words, tags_for_words))\n",
    "\n",
    "#Viewing the length of the corpus and the first five word-tag pairs in the corpus\n",
    "print(len(tagged_words_corpus))\n",
    "tagged_words_corpus[:5]"
   ]
  },
  {
   "cell_type": "code",
   "execution_count": 42,
   "metadata": {},
   "outputs": [
    {
     "name": "stdout",
     "output_type": "stream",
     "text": [
      "95642\n",
      "5034\n",
      "[('``', '.'), ('tool', 'NOUN'), ('is', 'VERB'), ('for', 'ADP'), ('and', 'CONJ'), ('future', 'ADJ'), ('to', 'PRT'), ('surfaced', 'VERB'), ('$', '.'), ('this', 'DET')]\n"
     ]
    }
   ],
   "source": [
    "# Splitting into training and validation sets and checking the first 10 pairs in the train set\n",
    "\n",
    "train_set, validation_set = train_test_split(tagged_words_corpus, test_size=0.05, random_state = 100)\n",
    "print(len(train_set))\n",
    "print(len(validation_set))\n",
    "print(train_set[:10])"
   ]
  },
  {
   "cell_type": "code",
   "execution_count": 43,
   "metadata": {},
   "outputs": [
    {
     "data": {
      "text/plain": [
       "50"
      ]
     },
     "execution_count": 43,
     "metadata": {},
     "output_type": "execute_result"
    }
   ],
   "source": [
    "#Deleting variables that we don't need and triggering garbage collection\n",
    "\n",
    "del tagged_words, tags_for_words\n",
    "gc.collect()"
   ]
  },
  {
   "cell_type": "code",
   "execution_count": 44,
   "metadata": {},
   "outputs": [
    {
     "name": "stdout",
     "output_type": "stream",
     "text": [
      "11062\n"
     ]
    }
   ],
   "source": [
    "# Creating a vocabulary to check the number of unique words in the train set\n",
    "\n",
    "words = [pair[0] for pair in train_set]\n",
    "Vocab = list(set(words))\n",
    "print(len(Vocab))"
   ]
  },
  {
   "cell_type": "code",
   "execution_count": 47,
   "metadata": {},
   "outputs": [
    {
     "name": "stdout",
     "output_type": "stream",
     "text": [
      "12\n",
      "12\n"
     ]
    }
   ],
   "source": [
    "# number of tags\n",
    "T = set([pair[1] for pair in train_set])\n",
    "POS_tags = list(T)\n",
    "\n",
    "#Sorting the POS tags so that the same tag is at the start of the transition probabilities matrix\n",
    "POS_tags = sorted(POS_tags)\n",
    "print(len(T))\n",
    "print(len(POS_tags))"
   ]
  },
  {
   "cell_type": "code",
   "execution_count": 48,
   "metadata": {},
   "outputs": [
    {
     "name": "stdout",
     "output_type": "stream",
     "text": [
      "['.', 'ADJ', 'ADP', 'ADV', 'CONJ', 'DET', 'NOUN', 'NUM', 'PRON', 'PRT', 'VERB', 'X']\n"
     ]
    }
   ],
   "source": [
    "#Taking a look at the tags in the universal tagset\n",
    "print(POS_tags)"
   ]
  },
  {
   "cell_type": "code",
   "execution_count": 49,
   "metadata": {},
   "outputs": [
    {
     "data": {
      "text/plain": [
       "120"
      ]
     },
     "execution_count": 49,
     "metadata": {},
     "output_type": "execute_result"
    }
   ],
   "source": [
    "#Deleting variables that we don't need and triggering garbage collection\n",
    "\n",
    "del words\n",
    "gc.collect()"
   ]
  },
  {
   "cell_type": "markdown",
   "metadata": {},
   "source": [
    "## Vanilla Viterbi based POS tagger"
   ]
  },
  {
   "cell_type": "markdown",
   "metadata": {},
   "source": [
    "### Emission Probabilities"
   ]
  },
  {
   "cell_type": "code",
   "execution_count": 50,
   "metadata": {},
   "outputs": [],
   "source": [
    "# Creating a matrix of zeros to store the p(w/t) values\n",
    "t = len(POS_tags)\n",
    "v = len(Vocab)\n",
    "w_given_t = np.zeros((t, v))"
   ]
  },
  {
   "cell_type": "code",
   "execution_count": 51,
   "metadata": {},
   "outputs": [
    {
     "data": {
      "text/plain": [
       "(12, 11062)"
      ]
     },
     "execution_count": 51,
     "metadata": {},
     "output_type": "execute_result"
    }
   ],
   "source": [
    "w_given_t.shape"
   ]
  },
  {
   "cell_type": "code",
   "execution_count": 52,
   "metadata": {},
   "outputs": [
    {
     "data": {
      "text/plain": [
       "list"
      ]
     },
     "execution_count": 52,
     "metadata": {},
     "output_type": "execute_result"
    }
   ],
   "source": [
    "type(train_set)"
   ]
  },
  {
   "cell_type": "code",
   "execution_count": 53,
   "metadata": {},
   "outputs": [],
   "source": [
    "#Function to calculate the number of instances of a word with a given tag \n",
    "\n",
    "def word_given_tag(word, tag):\n",
    "    tag_list = [pair for pair in train_set if pair[1]==tag]\n",
    "    count_tag = len(tag_list)\n",
    "    word_given_tag_list = [pair[0] for pair in tag_list if pair[0]==word]\n",
    "    count_word_given_tag = len(word_given_tag_list)\n",
    "    \n",
    "    return (count_word_given_tag, count_tag)"
   ]
  },
  {
   "cell_type": "code",
   "execution_count": 58,
   "metadata": {},
   "outputs": [
    {
     "name": "stdout",
     "output_type": "stream",
     "text": [
      "(0, 27481)\n",
      "(5, 12894)\n",
      "(0, 6076)\n"
     ]
    }
   ],
   "source": [
    "print(word_given_tag('ran', 'NOUN'))\n",
    "print(word_given_tag('ran', 'VERB'))\n",
    "print(word_given_tag('ran', 'ADJ'))"
   ]
  },
  {
   "cell_type": "markdown",
   "metadata": {},
   "source": [
    "### Transition Probabilities"
   ]
  },
  {
   "cell_type": "code",
   "execution_count": 55,
   "metadata": {},
   "outputs": [],
   "source": [
    "# compute tag given tag: tag2(t2) given tag1 (t1), i.e. Transition Probability\n",
    "\n",
    "def t2_given_t1(t2, t1):\n",
    "    tags = [pair[1] for pair in train_set]\n",
    "    count_t1 = len([t for t in tags if t == t1])\n",
    "    count_t2_t1 = 0\n",
    "    for index in range(len(tags)-1):\n",
    "        if (tags[index] == t1) and (tags[index+1] == t2):\n",
    "            count_t2_t1 += 1\n",
    "    return (count_t2_t1, count_t1)"
   ]
  },
  {
   "cell_type": "code",
   "execution_count": 57,
   "metadata": {},
   "outputs": [
    {
     "name": "stdout",
     "output_type": "stream",
     "text": [
      "(1731, 6076)\n",
      "(390, 3008)\n",
      "(589, 2154)\n",
      "(325, 2593)\n",
      "(2668, 9345)\n"
     ]
    }
   ],
   "source": [
    "#Checking which  tags precede the noun and verb tags\n",
    "print(t2_given_t1('NOUN', 'ADJ'))\n",
    "print(t2_given_t1('VERB', 'ADV'))\n",
    "print(t2_given_t1('NOUN', 'CONJ'))\n",
    "print(t2_given_t1('VERB', 'PRON'))\n",
    "print(t2_given_t1('NOUN', 'ADP'))"
   ]
  },
  {
   "cell_type": "markdown",
   "metadata": {},
   "source": [
    "The output of this function can be interpreted in this way: the tag 'ADJ' appears 6076 times in the training set. In 1731 of these 6076 occurrences, the tag 'NOUN' follows the tag 'ADJ'."
   ]
  },
  {
   "cell_type": "code",
   "execution_count": 59,
   "metadata": {},
   "outputs": [],
   "source": [
    "# creating t x t transition matrix of tags\n",
    "# each column is t2, each row is t1\n",
    "# thus M(i, j) represents P(tj given ti)\n",
    "\n",
    "tags_matrix = np.zeros((len(POS_tags), len(POS_tags)), dtype='float32')\n",
    "for i, t1 in enumerate(list(POS_tags)):\n",
    "    for j, t2 in enumerate(list(POS_tags)):\n",
    "        tags_matrix[i, j] = t2_given_t1(t2, t1)[0]/t2_given_t1(t2, t1)[1]"
   ]
  },
  {
   "cell_type": "code",
   "execution_count": 60,
   "metadata": {
    "scrolled": true
   },
   "outputs": [
    {
     "name": "stdout",
     "output_type": "stream",
     "text": [
      "(12, 12)\n"
     ]
    }
   ],
   "source": [
    "print(tags_matrix.shape)"
   ]
  },
  {
   "cell_type": "code",
   "execution_count": 61,
   "metadata": {},
   "outputs": [],
   "source": [
    "# convert the matrix to a df for better readability\n",
    "tags_df = pd.DataFrame(tags_matrix, columns = list(POS_tags), index=list(POS_tags))"
   ]
  },
  {
   "cell_type": "code",
   "execution_count": 62,
   "metadata": {},
   "outputs": [
    {
     "name": "stdout",
     "output_type": "stream",
     "text": [
      "(12, 12)\n"
     ]
    },
    {
     "data": {
      "text/html": [
       "<div>\n",
       "<style scoped>\n",
       "    .dataframe tbody tr th:only-of-type {\n",
       "        vertical-align: middle;\n",
       "    }\n",
       "\n",
       "    .dataframe tbody tr th {\n",
       "        vertical-align: top;\n",
       "    }\n",
       "\n",
       "    .dataframe thead th {\n",
       "        text-align: right;\n",
       "    }\n",
       "</style>\n",
       "<table border=\"1\" class=\"dataframe\">\n",
       "  <thead>\n",
       "    <tr style=\"text-align: right;\">\n",
       "      <th></th>\n",
       "      <th>.</th>\n",
       "      <th>ADJ</th>\n",
       "      <th>ADP</th>\n",
       "      <th>ADV</th>\n",
       "      <th>CONJ</th>\n",
       "      <th>DET</th>\n",
       "      <th>NOUN</th>\n",
       "      <th>NUM</th>\n",
       "      <th>PRON</th>\n",
       "      <th>PRT</th>\n",
       "      <th>VERB</th>\n",
       "      <th>X</th>\n",
       "    </tr>\n",
       "  </thead>\n",
       "  <tbody>\n",
       "    <tr>\n",
       "      <th>.</th>\n",
       "      <td>0.117366</td>\n",
       "      <td>0.059719</td>\n",
       "      <td>0.098000</td>\n",
       "      <td>0.032697</td>\n",
       "      <td>0.020177</td>\n",
       "      <td>0.087732</td>\n",
       "      <td>0.285804</td>\n",
       "      <td>0.035129</td>\n",
       "      <td>0.027563</td>\n",
       "      <td>0.031706</td>\n",
       "      <td>0.135201</td>\n",
       "      <td>0.068907</td>\n",
       "    </tr>\n",
       "    <tr>\n",
       "      <th>ADJ</th>\n",
       "      <td>0.117676</td>\n",
       "      <td>0.062870</td>\n",
       "      <td>0.094305</td>\n",
       "      <td>0.031764</td>\n",
       "      <td>0.023864</td>\n",
       "      <td>0.085912</td>\n",
       "      <td>0.284891</td>\n",
       "      <td>0.034727</td>\n",
       "      <td>0.028802</td>\n",
       "      <td>0.030941</td>\n",
       "      <td>0.136109</td>\n",
       "      <td>0.068137</td>\n",
       "    </tr>\n",
       "    <tr>\n",
       "      <th>ADP</th>\n",
       "      <td>0.111825</td>\n",
       "      <td>0.066239</td>\n",
       "      <td>0.098555</td>\n",
       "      <td>0.031033</td>\n",
       "      <td>0.021830</td>\n",
       "      <td>0.083039</td>\n",
       "      <td>0.285500</td>\n",
       "      <td>0.035634</td>\n",
       "      <td>0.028143</td>\n",
       "      <td>0.033815</td>\n",
       "      <td>0.141894</td>\n",
       "      <td>0.062386</td>\n",
       "    </tr>\n",
       "    <tr>\n",
       "      <th>ADV</th>\n",
       "      <td>0.111702</td>\n",
       "      <td>0.063830</td>\n",
       "      <td>0.102061</td>\n",
       "      <td>0.028258</td>\n",
       "      <td>0.027261</td>\n",
       "      <td>0.082447</td>\n",
       "      <td>0.301529</td>\n",
       "      <td>0.036237</td>\n",
       "      <td>0.024269</td>\n",
       "      <td>0.028590</td>\n",
       "      <td>0.129654</td>\n",
       "      <td>0.064162</td>\n",
       "    </tr>\n",
       "    <tr>\n",
       "      <th>CONJ</th>\n",
       "      <td>0.121170</td>\n",
       "      <td>0.059424</td>\n",
       "      <td>0.100743</td>\n",
       "      <td>0.029248</td>\n",
       "      <td>0.018570</td>\n",
       "      <td>0.096100</td>\n",
       "      <td>0.273445</td>\n",
       "      <td>0.032033</td>\n",
       "      <td>0.025070</td>\n",
       "      <td>0.028319</td>\n",
       "      <td>0.149025</td>\n",
       "      <td>0.066852</td>\n",
       "    </tr>\n",
       "  </tbody>\n",
       "</table>\n",
       "</div>"
      ],
      "text/plain": [
       "             .       ADJ       ADP       ADV      CONJ       DET      NOUN  \\\n",
       ".     0.117366  0.059719  0.098000  0.032697  0.020177  0.087732  0.285804   \n",
       "ADJ   0.117676  0.062870  0.094305  0.031764  0.023864  0.085912  0.284891   \n",
       "ADP   0.111825  0.066239  0.098555  0.031033  0.021830  0.083039  0.285500   \n",
       "ADV   0.111702  0.063830  0.102061  0.028258  0.027261  0.082447  0.301529   \n",
       "CONJ  0.121170  0.059424  0.100743  0.029248  0.018570  0.096100  0.273445   \n",
       "\n",
       "           NUM      PRON       PRT      VERB         X  \n",
       ".     0.035129  0.027563  0.031706  0.135201  0.068907  \n",
       "ADJ   0.034727  0.028802  0.030941  0.136109  0.068137  \n",
       "ADP   0.035634  0.028143  0.033815  0.141894  0.062386  \n",
       "ADV   0.036237  0.024269  0.028590  0.129654  0.064162  \n",
       "CONJ  0.032033  0.025070  0.028319  0.149025  0.066852  "
      ]
     },
     "execution_count": 62,
     "metadata": {},
     "output_type": "execute_result"
    }
   ],
   "source": [
    "print(tags_df.shape)\n",
    "tags_df.head()"
   ]
  },
  {
   "cell_type": "code",
   "execution_count": 63,
   "metadata": {},
   "outputs": [
    {
     "data": {
      "text/plain": [
       ".       0.117366\n",
       "ADJ     0.059719\n",
       "ADP     0.098000\n",
       "ADV     0.032697\n",
       "CONJ    0.020177\n",
       "DET     0.087732\n",
       "NOUN    0.285804\n",
       "NUM     0.035129\n",
       "PRON    0.027563\n",
       "PRT     0.031706\n",
       "VERB    0.135201\n",
       "X       0.068907\n",
       "Name: ., dtype: float32"
      ]
     },
     "execution_count": 63,
     "metadata": {},
     "output_type": "execute_result"
    }
   ],
   "source": [
    "#Checking the probability of different POS tags after a period tag\n",
    "tags_df.loc['.', :]"
   ]
  },
  {
   "cell_type": "code",
   "execution_count": 64,
   "metadata": {},
   "outputs": [
    {
     "data": {
      "image/png": "[encoded data removed]",
      "text/plain": [
       "<Figure size 1296x864 with 2 Axes>"
      ]
     },
     "metadata": {
      "needs_background": "light"
     },
     "output_type": "display_data"
    }
   ],
   "source": [
    "# heatmap of tags matrix\n",
    "# T(i, j) indicates P(tag j given tag i)\n",
    "plt.figure(figsize=(18, 12))\n",
    "sns.heatmap(tags_df)\n",
    "plt.show()"
   ]
  },
  {
   "cell_type": "code",
   "execution_count": 65,
   "metadata": {},
   "outputs": [
    {
     "data": {
      "image/png": "[encoded data removed]",
      "text/plain": [
       "<Figure size 1296x864 with 2 Axes>"
      ]
     },
     "metadata": {
      "needs_background": "light"
     },
     "output_type": "display_data"
    }
   ],
   "source": [
    "# frequent tags\n",
    "# filter the df to get P(t2, t1) > 0.15\n",
    "tags_frequent = tags_df[tags_df>0.15]\n",
    "plt.figure(figsize=(18, 12))\n",
    "sns.heatmap(tags_frequent)\n",
    "plt.show()"
   ]
  },
  {
   "cell_type": "markdown",
   "metadata": {},
   "source": [
    "#### The second heat map shows that the transition probability is highest for nouns. This means that for any given t1, the (transition) probability of getting 'NOUN' as t2 is higher than the probability of getting any other POS tag as t2."
   ]
  },
  {
   "cell_type": "code",
   "execution_count": 66,
   "metadata": {},
   "outputs": [
    {
     "data": {
      "text/plain": [
       "8486"
      ]
     },
     "execution_count": 66,
     "metadata": {},
     "output_type": "execute_result"
    }
   ],
   "source": [
    "#Triggering garbage collection\n",
    "gc.collect()"
   ]
  },
  {
   "cell_type": "markdown",
   "metadata": {},
   "source": [
    "#### Writing a function that follows the vanilla viterbi heuristic"
   ]
  },
  {
   "cell_type": "code",
   "execution_count": 67,
   "metadata": {},
   "outputs": [],
   "source": [
    "# Viterbi Heuristic\n",
    "def Viterbi(words):\n",
    "    #initialising a list to store the tag with the max state probability for each word\n",
    "    tags_list = []\n",
    "    \n",
    "    for key, word in enumerate(words):\n",
    "        \n",
    "        #initialising a list to calculate state probability for all tags for each word\n",
    "        prob_list = []\n",
    "        \n",
    "        for tag in POS_tags:\n",
    "            if key == 0:\n",
    "                transition_p = tags_df.loc['.', tag]\n",
    "            else:\n",
    "                transition_p = tags_df.loc[tags_list[-1], tag]\n",
    "            \n",
    "            # calculating the emission probability for the current word and tag\n",
    "            emission_p = word_given_tag(words[key], tag)[0]/word_given_tag(words[key], tag)[1]\n",
    "            \n",
    "            # computing the state probability for the current word and tag\n",
    "            state_probability = emission_p * transition_p    \n",
    "            \n",
    "            # appending state probability to list of state probabilities for current word and tag\n",
    "            prob_list.append(state_probability)\n",
    "        \n",
    "        # finding the max state probability for this word\n",
    "        prob_max = max(prob_list)\n",
    "        \n",
    "        # getting the tag with the max state probability for this word\n",
    "        tag_with_max_state_prob = POS_tags[prob_list.index(prob_max)] \n",
    "        tags_list.append(tag_with_max_state_prob)\n",
    "        \n",
    "    return list(zip(words, tags_list))\n"
   ]
  },
  {
   "cell_type": "markdown",
   "metadata": {},
   "source": [
    "#### Preparing the validation set to check the performance of the algorithm"
   ]
  },
  {
   "cell_type": "code",
   "execution_count": 68,
   "metadata": {},
   "outputs": [
    {
     "data": {
      "text/plain": [
       "5034"
      ]
     },
     "execution_count": 68,
     "metadata": {},
     "output_type": "execute_result"
    }
   ],
   "source": [
    "# Creating a list of tagged words in the validation set\n",
    "validation_words = [tagged_word[0] for tagged_word in validation_set]\n",
    "len(validation_words)"
   ]
  },
  {
   "cell_type": "code",
   "execution_count": 69,
   "metadata": {},
   "outputs": [
    {
     "data": {
      "text/plain": [
       "5034"
      ]
     },
     "execution_count": 69,
     "metadata": {},
     "output_type": "execute_result"
    }
   ],
   "source": [
    "# Creating a list of POS tags in the validation set\n",
    "validation_tags = [tagged_word[1] for tagged_word in validation_set]\n",
    "len(validation_tags)"
   ]
  },
  {
   "cell_type": "markdown",
   "metadata": {},
   "source": [
    "## Model Building"
   ]
  },
  {
   "cell_type": "markdown",
   "metadata": {},
   "source": [
    "### 1. Using the vanilla Viterbi algorithm to tag the words in the validation set and check the performance of the algorithm"
   ]
  },
  {
   "cell_type": "code",
   "execution_count": 70,
   "metadata": {},
   "outputs": [],
   "source": [
    "# tagging the test sentences\n",
    "start = time.time()\n",
    "tagged_seq = Viterbi(validation_words)\n",
    "end = time.time()\n",
    "difference = end-start"
   ]
  },
  {
   "cell_type": "code",
   "execution_count": 71,
   "metadata": {},
   "outputs": [
    {
     "name": "stdout",
     "output_type": "stream",
     "text": [
      "Time taken in seconds:  1564.2469232082367\n",
      "[('61', 'NUM'), ('noodles', '.'), ('tokyo', 'NOUN'), ('the', 'DET'), ('buy', 'VERB'), ('beginning', 'VERB'), ('of', 'ADP'), ('circulation', 'NOUN'), ('bill', 'NOUN'), ('account', 'NOUN'), ('of', 'ADP'), ('``', '.'), ('a', 'DET'), ('*-2', 'X'), ('persuasive', '.'), ('*', 'X'), ('traders', 'NOUN'), ('over', 'ADP'), ('a', 'DET'), ('a', 'DET'), ('*-1', 'X'), ('there', 'DET'), ('miami', 'NOUN'), (',', '.'), ('hefty', 'ADJ'), (\"'s\", 'PRT'), ('be', 'VERB'), ('noting', 'VERB'), ('1990', 'NUM'), ('stores', 'NOUN'), ('of', 'ADP'), ('*t*-133', '.'), ('estimated', 'VERB'), ('company', 'NOUN'), ('of', 'ADP'), ('talks', 'NOUN'), ('4.6', 'NUM'), ('japanese', 'ADJ'), ('due', 'ADJ'), ('*rnr*-1', 'X'), ('comment', 'NOUN'), ('a.l.', '.'), ('of', 'ADP'), (',', '.'), ('.', '.'), ('the', 'DET'), ('concern', 'NOUN'), ('of', 'ADP'), ('they', 'PRON'), ('of', 'ADP'), ('reached', 'VERB'), ('april', 'NOUN'), ('helped', 'VERB'), ('exact', 'ADJ'), ('form', 'NOUN'), ('his', 'PRON'), ('would', 'VERB'), (',', '.'), ('major', 'ADJ'), ('markdown', 'NOUN'), ('3648.82', '.'), ('construction', 'NOUN'), ('to', 'PRT'), (',', '.'), ('said', 'VERB'), (',', '.'), (',', '.'), ('was', 'VERB'), ('case', 'NOUN'), ('*-1', 'X'), ('differences', 'NOUN'), ('the', 'DET'), (',', '.'), ('wanted', 'VERB'), ('things', 'NOUN'), ('sharply', 'ADV'), ('financier', 'NOUN'), ('and', 'CONJ'), ('in', 'ADP'), ('are', 'VERB'), ('.', '.'), (\"'s\", 'PRT'), ('in', 'ADP'), ('advantage', 'NOUN'), ('place', 'NOUN'), ('0', 'X'), ('milk', 'NOUN'), ('wayne', 'NOUN'), ('million', 'NUM'), ('evaluated', '.'), ('onto', 'ADP'), ('altruistic', '.'), ('quarterly', 'ADJ'), ('the', 'DET'), ('inc.', 'NOUN'), ('how', 'ADV'), ('million', 'NUM'), ('a', 'DET'), ('*-2', 'X'), ('100-share', 'ADJ'), ('charles', 'NOUN'), ('.', '.'), ('to', 'PRT'), ('chief', 'NOUN'), ('posting', 'VERB'), ('in', 'ADP'), ('in', 'ADP'), ('the', 'DET'), ('10.5', '.'), ('is', 'VERB'), ('the', 'DET'), ('dollars', 'NOUN'), ('portrayed', '.'), ('*-1', 'X'), ('of', 'ADP'), ('ill.', 'NOUN'), ('to', 'PRT'), ('at', 'ADP'), ('chief', 'NOUN'), (',', '.'), ('*t*-2', 'X'), ('inside', '.'), ('offering', 'NOUN'), ('customers', 'NOUN'), ('impact', 'NOUN'), ('refused', 'VERB'), ('was', 'VERB'), ('*t*-93', '.'), ('of', 'ADP'), ('and', 'CONJ'), ('and', 'CONJ'), ('even', 'ADV'), ('more', 'ADJ'), ('and', 'CONJ'), ('the', 'DET'), ('n.j.', 'NOUN'), ('than', 'ADP'), ('government', 'NOUN'), ('lights', 'NOUN'), ('aid', 'NOUN'), ('would', 'VERB'), ('.', '.'), ('shares', 'NOUN'), ('*t*-161', '.'), ('announced', 'VERB'), ('of', 'ADP'), ('give', 'VERB'), ('consecutive', 'ADJ'), ('factors', 'NOUN'), ('in', 'ADP'), ('planes', '.'), ('be', 'VERB'), (',', '.'), ('haul', 'NOUN'), ('individual', 'ADJ'), ('the', 'DET'), ('and', 'CONJ'), ('valley', 'NOUN'), ('eveready', '.'), ('*', 'X'), ('also', 'ADV'), ('whiting', 'NOUN'), ('at&t', 'NOUN'), ('acted', '.'), ('``', '.'), ('0', 'X'), (';', '.'), ('.', '.'), ('0', 'X'), ('operations', 'NOUN'), ('it', 'PRON'), ('for', 'ADP'), ('influence', 'NOUN'), ('was', 'VERB'), ('disregard', '.'), ('himself', 'PRON'), ('-lrb-', '.'), ('the', 'DET'), ('sharply', 'ADV'), ('case', 'NOUN'), ('the', 'DET'), ('up', 'PRT'), ('radio', 'NOUN'), ('and', 'CONJ'), ('value', 'NOUN'), ('filters', 'NOUN'), ('at', 'ADP'), ('.', '.'), ('a', 'DET'), ('do', 'VERB'), ('department', 'NOUN'), ('referrals', '.'), ('the', 'DET'), ('watchdogs', '.'), ('then-speaker', '.'), ('get', 'VERB'), ('and', 'CONJ'), ('up', 'PRT'), ('term', 'NOUN'), ('deficit', 'NOUN'), ('it', 'PRON'), ('tell', '.'), ('managers', 'NOUN'), ('farmers', 'NOUN'), ('heavily', 'ADV'), ('justices', 'NOUN'), ('educational', 'ADJ'), ('sale', 'NOUN'), ('sue', '.'), ('its', 'PRON'), (',', '.'), ('members', 'NOUN'), ('to', 'PRT'), ('lot', 'NOUN'), ('annual', 'ADJ'), ('further', 'ADJ'), ('markets', 'NOUN'), ('*-1', 'X'), ('evidence', 'NOUN'), ('gulf', 'NOUN'), ('an', 'DET'), ('of', 'ADP'), ('card', 'NOUN'), ('.', '.'), ('schoolchildren', '.'), ('a', 'DET'), ('the', 'DET'), ('to', 'PRT'), ('on', 'ADP'), ('would', 'VERB'), ('of', 'ADP'), (',', '.'), ('global', 'ADJ'), ('*-2', 'X'), ('as', 'ADP'), ('christmas', '.'), ('stressing', 'VERB'), ('it', 'PRON'), ('careers', 'NOUN'), ('experience', 'NOUN'), ('club', 'NOUN'), ('.', '.'), ('while', 'ADP'), ('the', 'DET'), (',', '.'), ('shops', 'NOUN'), ('if', 'ADP'), ('problems', 'NOUN'), ('*t*-1', 'X'), ('few', 'ADJ'), ('the', 'DET'), ('percentage', 'NOUN'), ('.', '.'), ('the', 'DET'), ('lieberman', 'NOUN'), ('continue', 'VERB'), ('initiating', '.'), ('0', 'X'), ('light', 'ADJ'), ('a', 'DET'), ('familiar', 'ADJ'), ('investors', 'NOUN'), ('of', 'ADP'), ('be', 'VERB'), (',', '.'), ('.', '.'), (',', '.'), (\"'s\", 'PRT'), ('the', 'DET'), ('oshkosh', 'NOUN'), ('concerns', 'NOUN'), ('with', 'ADP'), ('miles', 'NOUN'), ('%', 'NOUN'), ('*t*-2', 'X'), ('with', 'ADP'), ('management', 'NOUN'), ('before', 'ADP'), ('example', 'NOUN'), ('make', 'VERB'), ('8.48', '.'), ('interesting', 'ADJ'), ('different', 'ADJ'), ('of', 'ADP'), ('exit', '.'), ('0', 'X'), ('bush', 'NOUN'), (',', '.'), ('.', '.'), ('he', 'PRON'), ('50-50', '.'), ('losses', 'NOUN'), ('gave', 'VERB'), ('fifteen', '.'), ('-rrb-', '.'), ('river', 'NOUN'), ('*t*-165', '.'), ('district', 'NOUN'), ('as', 'ADP'), ('goes', 'VERB'), ('billion', 'NUM'), ('sales', 'NOUN'), (',', '.'), ('bidding', 'NOUN'), ('other', 'ADJ'), ('.', '.'), ('decrease', 'VERB'), ('shares', 'NOUN'), ('match', 'NOUN'), ('to', 'PRT'), ('due', 'ADJ'), ('software', 'NOUN'), (',', '.'), ('year', 'NOUN'), ('rose', 'VERB'), ('been', 'VERB'), ('*t*-2', 'X'), ('wage', 'NOUN'), ('at', 'ADP'), ('news', 'NOUN'), ('.', '.'), ('traditionally', 'ADV'), ('*u*', 'X'), (\"'s\", 'PRT'), ('international', 'NOUN'), (\"n't\", 'ADV'), ('operations', 'NOUN'), ('as', 'ADP'), ('.', '.'), ('their', 'PRON'), ('say', 'VERB'), ('week', 'NOUN'), ('.', '.'), ('a', 'DET'), ('if', 'ADP'), ('survey', 'NOUN'), ('contradictions', '.'), ('while', 'ADP'), ('developments', '.'), ('frankfurt', 'NOUN'), ('of', 'ADP'), ('the', 'DET'), ('the', 'DET'), ('supercomputer', 'NOUN'), ('*-1', 'X'), ('get', 'VERB'), ('government', 'NOUN'), ('pace', 'NOUN'), ('the', 'DET'), ('in', 'ADP'), (\"'s\", 'PRT'), ('been', 'VERB'), (',', '.'), (',', '.'), ('hit', 'VERB'), ('reading', 'NOUN'), ('.', '.'), ('in', 'ADP'), ('said', 'VERB'), ('.', '.'), ('barely', '.'), ('returned', 'VERB'), ('international', 'NOUN'), ('drugs', 'NOUN'), ('power', 'NOUN'), ('drop', 'NOUN'), ('but', 'CONJ'), ('new', 'ADJ'), ('most', 'ADJ'), ('cents', 'NOUN'), ('are', 'VERB'), ('corp.', 'NOUN'), ('growth', 'NOUN'), ('to', 'PRT'), ('are', 'VERB'), ('the', 'DET'), (\"'s\", 'PRT'), ('to', 'PRT'), ('student', 'NOUN'), ('market', 'NOUN'), (',', '.'), ('east', 'NOUN'), ('the', 'DET'), ('points', 'NOUN'), ('scenes', 'NOUN'), ('associated', 'VERB'), ('50,000', 'NUM'), ('ftc', 'NOUN'), ('right', 'NOUN'), ('a', 'DET'), ('cabernet', 'NOUN'), ('because', 'ADP'), ('financial', 'ADJ'), ('trotter', 'NOUN'), ('year', 'NOUN'), ('%', 'NOUN'), ('a', 'DET'), ('to', 'PRT'), ('*-1', 'X'), ('withdrawal', 'NOUN'), (',', '.'), ('.', '.'), ('there', 'DET'), ('tunes', '.'), ('*u*', 'X'), ('will', 'VERB'), ('*t*-2', 'X'), (',', '.'), ('due', 'ADJ'), ('one', 'NUM'), ('could', 'VERB'), ('anti-abortionists', 'NOUN'), ('*', 'X'), ('declined', 'VERB'), ('cases', 'NOUN'), (',', '.'), ('housing', 'NOUN'), ('versions', 'NOUN'), ('in', 'ADP'), ('or', 'CONJ'), ('*-150', '.'), ('traditional', 'ADJ'), ('on', 'ADP'), ('a', 'DET'), ('saying', 'VERB'), ('$', '.'), ('now', 'ADV'), ('is', 'VERB'), ('.', '.'), (',', '.'), ('last', 'ADJ'), ('army', 'NOUN'), (':', '.'), ('been', 'VERB'), ('#', '.'), ('issue', 'NOUN'), ('0', 'X'), ('one', 'NUM'), ('bramalea', 'NOUN'), ('the', 'DET'), ('much', 'ADJ'), ('pleaded', 'VERB'), ('$', '.'), ('st.', 'NOUN'), ('in', 'ADP'), ('statement', 'NOUN'), ('economy', 'NOUN'), ('national', 'NOUN'), ('most', 'ADJ'), (\"'s\", 'PRT'), ('it', 'PRON'), ('&', 'CONJ'), (',', '.'), ('1979', 'NUM'), ('fails', 'VERB'), ('will', 'VERB'), ('which', 'DET'), ('because', 'ADP'), ('the', 'DET'), ('record', 'NOUN'), (',', '.'), ('228', 'NUM'), ('to', 'PRT'), ('the', 'DET'), (',', '.'), ('for', 'ADP'), ('50', 'NUM'), ('of', 'ADP'), ('near-limit', '.'), ('says', 'VERB'), ('but', 'CONJ'), ('evidence', 'NOUN'), ('takeover', 'NOUN'), ('the', 'DET'), ('factory', 'NOUN'), ('congress', 'NOUN'), ('u.s.', 'NOUN'), ('companies', 'NOUN'), ('confidence', 'NOUN'), ('sold', 'VERB'), ('regional', 'ADJ'), ('.', '.'), ('rubber', 'NOUN'), ('ground', 'NOUN'), ('a', 'DET'), ('was', 'VERB'), ('lungs', '.'), ('outsiders', '.'), ('they', 'PRON'), ('u.s.', 'NOUN'), ('staying', '.'), ('or', 'CONJ'), ('built', 'VERB'), ('audiocassettes', '.'), ('*u*', 'X'), ('the', 'DET'), ('department', 'NOUN'), ('that', 'ADP'), ('continuing', 'VERB'), ('.', '.'), ('average', 'ADJ'), ('and', 'CONJ'), ('49', 'NUM'), ('to', 'PRT'), ('swing', 'VERB'), ('adopted', 'VERB'), (\"n't\", 'ADV'), ('secretary', 'NOUN'), ('and', 'CONJ'), ('manufacturing', 'NOUN'), ('world', 'NOUN'), ('these', 'DET'), ('shares', 'NOUN'), ('billion', 'NUM'), ('that', 'ADP'), ('worker', 'NOUN'), ('farmers', 'NOUN'), ('0', 'X'), ('nonexecutive', 'ADJ'), ('exports', 'NOUN'), ('reports', 'NOUN'), (',', '.'), ('and', 'CONJ'), ('vicar', 'NOUN'), ('wanted', 'VERB'), ('no', 'DET'), ('*u*', 'X'), ('even', 'ADV'), ('export', 'NOUN'), ('slowly', 'ADV'), ('chief', 'NOUN'), ('office', 'NOUN'), ('increase', 'NOUN'), ('in', 'ADP'), ('not', 'ADV'), ('*u*', 'X'), ('the', 'DET'), (',', '.'), ('stand', 'VERB'), ('older', 'ADJ'), ('late', 'ADJ'), ('in', 'ADP'), (',', '.'), ('is', 'VERB'), ('end', 'NOUN'), ('before', 'ADP'), ('on', 'ADP'), ('mrs.', 'NOUN'), ('0', 'X'), ('and', 'CONJ'), ('contends', 'VERB'), ('was', 'VERB'), ('*t*-2', 'X'), ('*u*', 'X'), ('then', 'ADV'), ('that', 'ADP'), ('says', 'VERB'), ('for', 'ADP'), ('.', '.'), ('such', 'ADJ'), ('in', 'ADP'), ('1988', 'NUM'), ('tramp', 'NOUN'), ('taccetta', 'NOUN'), ('avoid', 'VERB'), ('already', 'ADV'), ('.', '.'), ('and', 'CONJ'), ('videocassette', 'NOUN'), ('*u*', 'X'), ('said', 'VERB'), ('small', 'ADJ'), ('other', 'ADJ'), ('.', '.'), ('effort', 'NOUN'), ('w.', 'NOUN'), ('but', 'CONJ'), ('drive', 'VERB'), ('fine', 'NOUN'), ('issues', 'NOUN'), ('.', '.'), ('on', 'ADP'), ('*-1', 'X'), ('*t*-12', 'X'), ('they', 'PRON'), ('numerous', 'ADJ'), ('the', 'DET'), ('a', 'DET'), ('the', 'DET'), ('*-1', 'X'), ('*', 'X'), ('of', 'ADP'), ('switch', 'VERB'), ('of', 'ADP'), ('*', 'X'), ('said', 'VERB'), ('*t*-51', 'X'), ('present', 'VERB'), ('1985', 'NUM'), ('number', 'NOUN'), ('as', 'ADP'), ('*-52', 'X'), ('regulators', 'NOUN'), (',', '.'), ('re-thought', '.'), ('gross', 'ADJ'), ('promises', 'VERB'), ('.', '.'), ('a', 'DET'), (',', '.'), ('of', 'ADP'), ('as', 'ADP'), ('championing', '.'), ('changed', 'VERB'), ('.', '.'), ('0', 'X'), ('the', 'DET'), ('0', 'X'), ('the', 'DET'), ('``', '.'), ('0', 'X'), ('entirely', 'ADV'), ('be', 'VERB'), ('$', '.'), ('in', 'ADP'), ('26,000', '.'), ('in', 'ADP'), ('ballot', 'NOUN'), ('kidney', '.'), ('not', 'ADV'), ('of', 'ADP'), ('before', 'ADP'), ('*-1', 'X'), ('river', 'NOUN'), ('.', '.'), ('trading', 'NOUN'), ('replaced', 'VERB'), ('the', 'DET'), ('would-be', '.'), ('or', 'CONJ'), ('li', 'NOUN'), ('male', 'NOUN'), (\"''\", '.'), ('to', 'PRT'), ('rose', 'VERB'), ('for', 'ADP'), ('world', 'NOUN'), ('traders', 'NOUN'), ('.', '.'), ('.', '.'), ('in', 'ADP'), ('it', 'PRON'), ('of', 'ADP'), ('*t*-159', '.'), ('that', 'ADP'), ('at', 'ADP'), ('public', 'ADJ'), ('veto', 'NOUN'), ('into', 'ADP'), ('pencil', '.'), ('will', 'VERB'), ('tax', 'NOUN'), ('in', 'ADP'), ('.', '.'), ('.', '.'), ('firings', '.'), ('the', 'DET'), ('it', 'PRON'), ('``', '.'), ('acquisition', 'NOUN'), (',', '.'), ('the', 'DET'), ('largest', 'ADJ'), ('reflected', 'VERB'), ('accused', 'VERB'), (\"n't\", 'ADV'), ('may', 'VERB'), ('new', 'ADJ'), ('3.3', 'NUM'), ('*t*-1', 'X'), ('transportation', 'NOUN'), ('get', 'VERB'), ('persons', 'NOUN'), ('broader', 'ADJ'), ('report', 'NOUN'), ('obtaining', '.'), ('of', 'ADP'), (',', '.'), ('students', 'NOUN'), (',', '.'), ('market-based', '.'), ('preference', 'NOUN'), ('price', 'NOUN'), ('street', 'NOUN'), ('traded', 'VERB'), ('the', 'DET'), ('.', '.'), (',', '.'), ('paper', 'NOUN'), (\"''\", '.'), ('silver', 'NOUN'), ('moreover', 'ADV'), ('few', 'ADJ'), ('very', 'ADV'), ('*-2', 'X'), ('but', 'CONJ'), ('pressure', 'NOUN'), ('and', 'CONJ'), ('a', 'DET'), ('the', 'DET'), ('investors', 'NOUN'), (\"''\", '.'), ('acquisition', 'NOUN'), (',', '.'), ('germany', 'NOUN'), ('.', '.'), (',', '.'), ('*', 'X'), ('would', 'VERB'), ('much', 'ADV'), ('from', 'ADP'), ('0', 'X'), ('dramatically', 'ADV'), ('vineyard', 'NOUN'), ('0', 'X'), ('violations', 'NOUN'), (',', '.'), ('of', 'ADP'), ('trend', 'NOUN'), ('knows', 'VERB'), ('shortage', 'NOUN'), ('voluntary', '.'), ('at', 'ADP'), ('.', '.'), ('for', 'ADP'), ('with', 'ADP'), ('.', '.'), (\"'s\", 'PRT'), ('*ich*-2', 'X'), ('crucial', '.'), ('increase', 'NOUN'), ('gains', 'NOUN'), ('steel', 'NOUN'), (',', '.'), ('transportation', 'NOUN'), ('been', 'VERB'), ('in', 'ADP'), ('dropped', 'VERB'), ('whose', 'PRON'), ('zaharah', '.'), ('reorganization', 'NOUN'), ('parents', 'NOUN'), ('impose', 'VERB'), ('mr.', 'NOUN'), ('months', 'NOUN'), ('will', 'VERB'), ('at', 'ADP'), ('705.6', '.'), ('cars', 'NOUN'), ('would', 'VERB'), ('section', 'NOUN'), ('``', '.'), ('.', '.'), (',', '.'), ('.', '.'), ('concerns', 'NOUN'), ('big', 'ADJ'), (',', '.'), ('the', 'DET'), ('prices', 'NOUN'), ('he', 'PRON'), ('in', 'ADP'), ('rectified', '.'), (':', '.'), ('*-1', 'X'), ('chip', 'NOUN'), ('given', 'VERB'), (\"'\", 'PRT'), ('a', 'DET'), ('``', '.'), ('those', 'DET'), ('.', '.'), (',', '.'), (',', '.'), ('were', 'VERB'), ('u.k.', 'NOUN'), ('at', 'ADP'), (',', '.'), ('both', 'DET'), ('odd', 'ADJ'), (',', '.'), ('today', 'NOUN'), ('the', 'DET'), ('have', 'VERB'), ('$', '.'), ('by', 'ADP'), ('and', 'CONJ'), ('places', 'NOUN'), ('ran', 'VERB'), ('by', 'ADP'), ('.', '.'), ('13', 'NUM'), (',', '.'), ('non-encapsulating', '.'), ('heads', 'VERB'), ('a', 'DET'), ('hills', 'NOUN'), ('with', 'ADP'), ('hand', 'NOUN'), ('*u*', 'X'), ('of', 'ADP'), ('conditions', 'NOUN'), ('1.76', 'NUM'), ('based', 'VERB'), ('is', 'VERB'), ('latter', '.'), ('veselich', '.'), ('put', 'VERB'), ('start', 'VERB'), ('says', 'VERB'), ('in', 'ADP'), ('.', '.'), ('is', 'VERB'), ('you', 'PRON'), (',', '.'), ('*?*', 'X'), ('sacramento', 'NOUN'), ('selected', 'VERB'), ('number', 'NOUN'), (',', '.'), ('to', 'PRT'), ('would', 'VERB'), ('america', 'NOUN'), ('predicting', 'VERB'), ('*-3', 'X'), ('florio', 'NOUN'), ('moscow', 'NOUN'), ('*-1', 'X'), ('peripheral', 'ADJ'), ('some', 'DET'), ('performance', 'NOUN'), ('can', 'VERB'), ('no', 'DET'), ('``', '.'), ('woolworth', '.'), ('bushel', 'NOUN'), ('to', 'PRT'), ('*t*-1', 'X'), ('problems', 'NOUN'), ('retaining', 'VERB'), ('a', 'DET'), (',', '.'), ('0', 'X'), ('``', '.'), ('pre-emptive', '.'), ('lazzaroni', '.'), ('chateau', 'NOUN'), ('over', 'ADP'), ('just', 'ADV'), ('in', 'ADP'), ('according', 'VERB'), ('of', 'ADP'), ('blue-chips', '.'), ('notably', 'ADV'), ('in', 'ADP'), ('quantitive', '.'), ('reached', 'VERB'), ('wide', 'ADJ'), ('the', 'DET'), ('when', 'ADV'), ('less', 'ADJ'), ('novel', 'NOUN'), ('the', 'DET'), ('a', 'DET'), ('untrue', '.'), ('jack', 'NOUN'), ('was', 'VERB'), ('people', 'NOUN'), ('to', 'PRT'), ('*t*-1', 'X'), ('most', 'ADJ'), ('.', '.'), ('decide', 'VERB'), ('.', '.'), ('form', 'NOUN'), ('until', 'ADP'), ('annually', 'ADV'), ('covered', 'VERB'), ('the', 'DET'), ('before', 'ADP'), ('n.y.', 'NOUN'), ('daily', 'ADJ'), ('intelogic', 'NOUN'), ('bankers', 'NOUN'), ('discontinue', '.'), (',', '.'), ('increased', 'VERB'), ('angeles', 'NOUN'), ('*', 'X'), ('yesterday', 'NOUN'), ('*-3', 'X'), ('value', 'NOUN'), ('join', 'VERB'), ('fail', 'VERB'), ('many', 'ADJ'), ('new', 'ADJ'), ('computers', 'NOUN'), ('whether', 'ADP'), ('1\\\\/4', 'NUM'), ('*t*-2', 'X'), ('*-155', '.'), ('will', 'VERB'), ('900', 'NUM'), ('and', 'CONJ'), ('lentjes', 'NOUN'), ('on', 'ADP'), ('shut', 'VERB'), ('can', 'VERB'), ('for', 'ADP'), ('than', 'ADP'), ('of', 'ADP'), (',', '.'), ('exporter', 'NOUN'), ('or', 'CONJ'), ('the', 'DET'), ('type', 'NOUN'), ('be', 'VERB'), ('solely', '.'), ('fall', 'NOUN'), ('me', 'PRON'), (',', '.'), ('u.s.', 'NOUN'), ('the', 'DET'), ('270', 'NUM'), ('sport-utility', '.'), (',', '.'), (\"'s\", 'PRT'), ('gelatin', '.'), ('1988', 'NUM'), ('it', 'PRON'), ('campaigning', 'NOUN'), ('on', 'ADP'), ('is', 'VERB'), ('iowa', 'NOUN'), ('two', 'NUM'), ('only', 'ADV'), ('be', 'VERB'), ('card', 'NOUN'), ('light', 'ADJ'), ('free', 'ADJ'), ('to', 'PRT'), ('to', 'PRT'), ('billion', 'NUM'), ('the', 'DET'), ('.', '.'), ('a', 'DET'), ('totally', '.'), ('-lrb-', '.'), ('a', 'DET'), ('offered', 'VERB'), ('the', 'DET'), ('japan', 'NOUN'), ('japanese', 'ADJ'), ('seem', 'VERB'), ('from', 'ADP'), ('their', 'PRON'), ('by', 'ADP'), ('internal', 'ADJ'), ('billion', 'NUM'), ('contain', 'VERB'), ('just', 'ADV'), ('.', '.'), ('islands', '.'), (':', '.'), ('it', 'PRON'), ('year-earlier', 'ADJ'), ('wait', 'VERB'), ('hospital', 'NOUN'), ('get', 'VERB'), ('all', 'DET'), ('market', 'NOUN'), ('its', 'PRON'), ('small', 'ADJ'), ('the', 'DET'), ('wage', 'NOUN'), ('to', 'PRT'), ('in', 'ADP'), ('%', 'NOUN'), (';', '.'), ('novello', 'NOUN'), ('degenerative', '.'), ('sony', 'NOUN'), ('to', 'PRT'), ('current-carrying', 'ADJ'), ('a', 'DET'), ('increases', 'NOUN'), ('futures', 'NOUN'), ('and', 'CONJ'), ('they', 'PRON'), (',', '.'), ('is', 'VERB'), ('he', 'PRON'), ('do', 'VERB'), ('*t*-19', 'X'), (',', '.'), ('bowman', 'NOUN'), ('lasting', '.'), ('zayed', '.'), ('test', 'NOUN'), ('estimates', 'NOUN'), ('a', 'DET'), ('co.', 'NOUN'), ('year', 'NOUN'), (',', '.'), ('of', 'ADP'), (',', '.'), ('mechanism', 'NOUN'), ('$', '.'), ('*-2', 'X'), ('resulting', 'VERB'), ('because', 'ADP'), ('own', 'ADJ'), ('of', 'ADP'), ('exchange', 'NOUN'), ('the', 'DET'), ('no', 'DET'), ('in', 'ADP'), ('*t*-43', 'X'), ('*-1', 'X'), ('arbitrage', 'NOUN'), ('fallen', 'VERB'), ('week', 'NOUN'), ('the', 'DET'), ('of', 'ADP'), ('address', 'VERB'), ('0', 'X'), ('the', 'DET'), ('the', 'DET'), ('was', 'VERB'), ('says', 'VERB'), ('mandates', '.'), ('if', 'ADP'), ('so', 'ADV'), ('cold', 'NOUN'), ('diversification', '.'), ('for', 'ADP'), ('retained', 'VERB'), ('said', 'VERB'), (\"n't\", 'ADV'), ('if', 'ADP'), ('bend', '.'), (',', '.'), ('*t*-247', '.'), ('but', 'CONJ'), ('in', 'ADP'), ('500', 'NUM'), ('declining', 'VERB'), ('trade', 'NOUN'), ('short', 'ADJ'), ('church', 'NOUN'), ('to', 'PRT'), (',', '.'), ('the', 'DET'), ('financial', 'ADJ'), ('ohio', 'NOUN'), ('conduct', 'NOUN'), ('his', 'PRON'), ('committee', 'NOUN'), ('.', '.'), ('book', 'NOUN'), ('companies', 'NOUN'), ('olympic', 'NOUN'), ('have', 'VERB'), ('escape', '.'), ('buildup', '.'), ('the', 'DET'), (',', '.'), ('reduce', 'VERB'), ('what', 'PRON'), ('in', 'ADP'), ('fund', 'NOUN'), ('economy', 'NOUN'), ('have', 'VERB'), ('leaves', 'VERB'), ('exceedingly', '.'), ('series', 'NOUN'), ('million', 'NUM'), (',', '.'), ('*t*-194', '.'), ('*t*-2', 'X'), ('.', '.'), ('weddings', 'NOUN'), ('questioned', '.'), ('by', 'ADP'), ('the', 'DET'), ('someone', 'NOUN'), ('competing', 'VERB'), ('.', '.'), ('packed', '.'), ('promise', 'NOUN'), ('.', '.'), ('*-1', 'X'), ('s&p', 'NOUN'), ('priced', 'VERB'), ('0', 'X'), ('failed', 'VERB'), ('to', 'PRT'), ('smith', 'NOUN'), ('garbage', 'NOUN'), ('.', '.'), ('10,000', 'NUM'), ('time', 'NOUN'), ('2.375', '.'), ('projector', '.'), ('mr.', 'NOUN'), ('*-1', 'X'), ('areas', 'NOUN'), ('is', 'VERB'), ('the', 'DET'), (',', '.'), ('from', 'ADP'), ('mood', '.'), ('for', 'ADP'), ('stars', 'NOUN'), ('norfolk', '.'), ('mrs.', 'NOUN'), ('group', 'NOUN'), ('do', 'VERB'), ('york', 'NOUN'), ('may', 'VERB'), ('the', 'DET'), ('put', 'VERB'), ('will', 'VERB'), ('picture', 'NOUN'), ('inched', 'VERB'), ('companies', 'NOUN'), ('packaging', 'NOUN'), ('neither', 'DET'), ('.', '.'), (',', '.'), ('an', 'DET'), (',', '.'), ('*t*-1', 'X'), ('as', 'ADP'), (\"''\", '.'), (',', '.'), ('loss', 'NOUN'), ('solidarity', '.'), (\"'s\", 'PRT'), ('maintain', 'VERB'), ('julia', '.'), ('to', 'PRT'), ('for', 'ADP'), ('serial', 'NOUN'), ('british', 'ADJ'), ('that', 'ADP'), ('*t*-2', 'X'), ('drobnick', '.'), ('tuesday', 'NOUN'), ('surprised', 'VERB'), ('in', 'ADP'), ('the', 'DET'), ('and', 'CONJ'), ('futures', 'NOUN'), ('15', 'NUM'), ('unfair', 'ADJ'), (',', '.'), ('people', 'NOUN'), ('0', 'X'), ('with', 'ADP'), ('is', 'VERB'), ('kind', 'NOUN'), ('to', 'PRT'), ('*-1', 'X'), ('in', 'ADP'), ('``', '.'), ('of', 'ADP'), ('next', 'ADJ'), ('*', 'X'), ('dallara', 'NOUN'), ('two', 'NUM'), ('nine', 'NUM'), ('.', '.'), ('stamford', 'NOUN'), ('is', 'VERB'), (\"'d\", 'VERB'), ('bedding', '.'), ('i', 'PRON'), ('.', '.'), ('today', 'NOUN'), ('reforms', 'NOUN'), ('nemeth', 'NOUN'), ('the', 'DET'), ('*-1', 'X'), ('the', 'DET'), ('in', 'ADP'), ('armed', '.'), ('in', 'ADP'), ('also', 'ADV'), ('bob', 'NOUN'), ('``', '.'), ('the', 'DET'), ('which', 'DET'), ('the', 'DET'), ('an', 'DET'), ('accomplishments', '.'), ('totaled', 'VERB'), ('the', 'DET'), ('return', 'NOUN'), (\"n't\", 'ADV'), ('1', 'NUM'), ('right', 'NOUN'), ('upjohn', 'NOUN'), (',', '.'), ('had', 'VERB'), ('english', 'NOUN'), (',', '.'), (',', '.'), ('30-day', 'ADJ'), ('yield', 'VERB'), ('the', 'DET'), ('could', 'VERB'), ('man', 'NOUN'), ('in', 'ADP'), ('machinery', 'NOUN'), ('swiftly', 'ADV'), ('mr.', 'NOUN'), ('favored', 'VERB'), ('to', 'PRT'), ('of', 'ADP'), ('the', 'DET'), ('that', 'ADP'), ('administration', 'NOUN'), ('the', 'DET'), ('.', '.'), ('place', 'NOUN'), ('noncompetitively', '.'), ('folks', 'NOUN'), ('the', 'DET'), ('or', 'CONJ'), (',', '.'), ('saudi', 'NOUN'), ('and', 'CONJ'), ('both', 'DET'), ('fiber', '.'), ('a', 'DET'), ('insurance', 'NOUN'), ('*', 'X'), ('were', 'VERB'), ('an', 'DET'), ('*t*-1', 'X'), ('dealers', 'NOUN'), ('of', 'ADP'), ('inc.', 'NOUN'), ('7.90', 'NUM'), ('are', 'VERB'), ('trade', 'NOUN'), ('sound', 'NOUN'), ('or', 'CONJ'), ('the', 'DET'), ('gains', 'NOUN'), ('earlier', 'ADJ'), ('the', 'DET'), ('increasing', 'VERB'), ('bank', 'NOUN'), (',', '.'), ('growing', 'VERB'), ('*', 'X'), ('columbia', 'NOUN'), ('difference', 'NOUN'), ('your', 'PRON'), ('money', 'NOUN'), ('lane', 'NOUN'), ('the', 'DET'), ('said', 'VERB'), ('end', 'NOUN'), ('telling', 'VERB'), ('70', 'NUM'), ('on', 'ADP'), ('quoting', '.'), (',', '.'), ('heavily', 'ADV'), ('of', 'ADP'), ('0', 'X'), ('the', 'DET'), ('beer-belly', '.'), ('particularly', 'ADV'), ('that', 'ADP'), ('a', 'DET'), ('monday', 'NOUN'), ('begins', 'VERB'), ('billion', 'NUM'), ('and', 'CONJ'), ('sells', 'VERB'), ('the', 'DET'), ('*t*-31', 'X'), ('all', 'DET'), ('be', 'VERB'), ('space', 'NOUN'), ('implicitly', '.'), ('raise', 'VERB'), ('hoffman', '.'), (\"'s\", 'PRT'), ('unfortunately', '.'), ('mr.', 'NOUN'), ('reviewing', '.'), ('soviet', 'ADJ'), ('zip', '.'), ('was', 'VERB'), ('effect', 'NOUN'), ('of', 'ADP'), (',', '.'), ('extended', 'VERB'), ('such', 'ADJ'), ('taxes', 'NOUN'), (\"''\", '.'), ('percentage', 'NOUN'), ('*-1', 'X'), (';', '.'), ('in', 'ADP'), (',', '.'), ('such', 'ADJ'), (\"'s\", 'PRT'), ('*-4', 'X'), ('*-1', 'X'), ('this', 'DET'), ('the', 'DET'), ('information', 'NOUN'), ('125', 'NUM'), ('assets', 'NOUN'), ('declined', 'VERB'), ('*-66', '.'), ('increases', 'NOUN'), ('republican', 'ADJ'), ('yesterday', 'NOUN'), ('local', 'ADJ'), ('the', 'DET'), ('japanese', 'ADJ'), ('feelings', '.'), ('0', 'X'), ('currently', 'ADV'), ('jonas', '.'), ('may', 'VERB'), ('have', 'VERB'), ('out', 'PRT'), ('quarters', 'NOUN'), ('0', 'X'), ('told', 'VERB'), ('and', 'CONJ'), ('normally', 'ADV'), ('the', 'DET'), ('aptitude', '.'), ('those', 'DET'), ('greatly', 'ADV'), ('of', 'ADP'), ('cars', 'NOUN'), ('.', '.'), ('*-2', 'X'), (',', '.'), ('of', 'ADP'), ('for', 'ADP'), ('a', 'DET'), (',', '.'), ('.', '.'), ('guffey', 'NOUN'), ('fired', 'VERB'), ('nl', 'NOUN'), ('probably', 'ADV'), ('88', 'NUM'), ('georgia-pacific', 'NOUN'), ('england', 'NOUN'), ('.', '.'), ('reflecting', 'VERB'), ('companies', 'NOUN'), ('facing', 'VERB'), ('the', 'DET'), ('his', 'PRON'), ('dealers', 'NOUN'), ('b.', 'NOUN'), ('mistakenly', '.'), ('a', 'DET'), ('added', 'VERB'), ('sell', 'VERB'), ('400', 'NUM'), ('.', '.'), ('instruments', 'NOUN'), ('the', 'DET'), ('individuals', 'NOUN'), ('trockenbeerenauslesen', '.'), ('blind', 'ADJ'), ('.', '.'), ('trading', 'NOUN'), ('.', '.'), ('a', 'DET'), ('polish', 'ADJ'), ('seeking', 'VERB'), ('of', 'ADP'), ('--', '.'), ('days', 'NOUN'), ('those', 'DET'), (',', '.'), ('467', '.'), ('*u*', 'X'), ('*t*-1', 'X'), ('service', 'NOUN'), (',', '.'), ('transaction', 'NOUN'), ('producing', 'VERB'), ('that', 'ADP'), ('was', 'VERB'), ('to', 'PRT'), ('who', 'PRON'), ('calif.', 'NOUN'), ('on', 'ADP'), ('not', 'ADV'), ('of', 'ADP'), ('test', 'NOUN'), ('members', 'NOUN'), ('by', 'ADP'), ('ringers', 'NOUN'), ('*', 'X'), ('bald-faced', '.'), ('0', 'X'), ('in', 'ADP'), ('co', 'NOUN'), ('two', 'NUM'), ('an', 'DET'), ('state', 'NOUN'), ('a', 'DET'), ('in', 'ADP'), ('purchasing', 'NOUN'), ('might', 'VERB'), ('they', 'PRON'), ('balls', '.'), ('them', 'PRON'), ('agriculture', 'NOUN'), ('for', 'ADP'), ('europe', 'NOUN'), ('``', '.'), ('.', '.'), ('as', 'ADP'), ('asking', 'VERB'), ('of', 'ADP'), ('funding', 'NOUN'), (\"o'neill\", '.'), ('and', 'CONJ'), ('it', 'PRON'), ('brownell', 'NOUN'), ('explorer', '.'), ('special', 'ADJ'), ('space', 'NOUN'), ('for', 'ADP'), ('last', 'ADJ'), ('said', 'VERB'), ('on', 'ADP'), ('*t*-1', 'X'), ('however', 'ADV'), ('layer', '.'), ('100', 'NUM'), ('4', 'NUM'), ('-lrb-', '.'), ('of', 'ADP'), ('was', 'VERB'), ('$', '.'), ('me', 'PRON'), ('*t*-77', '.'), ('when', 'ADV'), ('series', 'NOUN'), ('expanding', 'VERB'), ('firms', 'NOUN'), ('the', 'DET'), ('its', 'PRON'), ('%', 'NOUN'), ('said', 'VERB'), ('yield', 'VERB'), ('fairless', 'NOUN'), ('the', 'DET'), ('no', 'DET'), ('said', 'VERB'), ('been', 'VERB'), ('s.', 'NOUN'), ('force', 'NOUN'), ('they', 'PRON'), ('liability', 'NOUN'), ('mr.', 'NOUN'), ('of', 'ADP'), ('house', 'NOUN'), ('7.95', 'NUM'), ('*t*-2', 'X'), ('amount', 'NOUN'), ('with', 'ADP'), ('program', 'NOUN'), ('potential', 'ADJ'), ('*u*', 'X'), ('*t*-1', 'X'), ('*u*', 'X'), ('to', 'PRT'), ('funds', 'NOUN'), ('meaning', 'NOUN'), ('been', 'VERB'), ('clients', 'NOUN'), ('a', 'DET'), ('share', 'NOUN'), ('lung', 'NOUN'), ('commission', 'NOUN'), ('billion', 'NUM'), ('.', '.'), ('acid', 'NOUN'), ('well', 'ADV'), ('banks', 'NOUN'), ('deprived', '.'), ('with', 'ADP'), ('do', 'VERB'), (';', '.'), ('is', 'VERB'), ('.', '.'), ('rieslings', '.'), ('.', '.'), ('*-3', 'X'), ('an', 'DET'), (',', '.'), ('november', 'NOUN'), ('$', '.'), ('.', '.'), ('concern', 'NOUN'), ('rally', 'NOUN'), ('year', 'NOUN'), (',', '.'), ('the', 'DET'), ('of', 'ADP'), ('inc.', 'NOUN'), ('nations', 'NOUN'), ('playing', 'VERB'), ('111', 'NUM'), ('-lrb-', '.'), ('international', 'NOUN'), ('you', 'PRON'), ('to', 'PRT'), ('growing', 'VERB'), ('really', 'ADV'), ('reduce', 'VERB'), ('.', '.'), ('northeast', 'NOUN'), ('compound', 'NOUN'), ('have', 'VERB'), ('the', 'DET'), (',', '.'), ('example', 'NOUN'), ('railroad', 'NOUN'), ('hegemony', '.'), ('gain', 'NOUN'), ('the', 'DET'), ('the', 'DET'), ('orders', 'NOUN'), ('to', 'PRT'), ('has', 'VERB'), ('an', 'DET'), ('.', '.'), ('of', 'ADP'), ('public', 'ADJ'), ('plan', 'NOUN'), ('*', 'X'), ('to', 'PRT'), ('reading', 'NOUN'), ('*-1', 'X'), (\"''\", '.'), ('.', '.'), ('its', 'PRON'), ('life-insurance', '.'), ('corn', 'NOUN'), ('looming', 'VERB'), ('won', 'VERB'), (',', '.'), ('.', '.'), ('sell', 'VERB'), ('between', 'ADP'), ('securities', 'NOUN'), ('include', 'VERB'), ('other', 'ADJ'), ('million', 'NUM'), ('worth', 'NOUN'), ('to', 'PRT'), ('to', 'PRT'), ('faces', 'VERB'), ('crucial', '.'), ('of', 'ADP'), ('buyer', 'NOUN'), ('classes', 'NOUN'), ('year', 'NOUN'), ('view', 'NOUN'), ('criminal', 'ADJ'), ('because', 'ADP'), (',', '.'), ('but', 'CONJ'), ('have', 'VERB'), ('ought', 'VERB'), (',', '.'), ('common', 'ADJ'), ('costs', 'NOUN'), ('*-1', 'X'), ('for', 'ADP'), (',', '.'), ('said', 'VERB'), ('tests', 'NOUN'), ('continue', 'VERB'), ('pick', 'VERB'), ('stores', 'NOUN'), ('to', 'PRT'), ('the', 'DET'), ('mr.', 'NOUN'), ('law', 'NOUN'), ('of', 'ADP'), ('to', 'PRT'), ('.', '.'), ('*-2', 'X'), ('as', 'ADP'), ('mr.', 'NOUN'), ('of', 'ADP'), ('*-3', 'X'), ('a', 'DET'), ('sales', 'NOUN'), ('quarter', 'NOUN'), ('said', 'VERB'), ('tune', 'VERB'), ('salmore', 'NOUN'), ('leming', 'NOUN'), ('stage', 'NOUN'), ('the', 'DET'), ('spurred', 'VERB'), ('to', 'PRT'), ('economy', 'NOUN'), ('the', 'DET'), ('*-1', 'X'), ('mr.', 'NOUN'), ('depression', '.'), ('bell', 'NOUN'), ('buy', 'VERB'), ('the', 'DET'), ('nev.', 'NOUN'), ('.', '.'), ('workers', 'NOUN'), ('were', 'VERB'), ('after', 'ADP'), ('from', 'ADP'), ('if', 'ADP'), ('a', 'DET'), ('to', 'PRT'), ('.', '.'), ('%', 'NOUN'), ('on', 'ADP'), (\"n't\", 'ADV'), ('demands', '.'), ('just', 'ADV'), ('are', 'VERB'), ('co', 'NOUN'), ('500', 'NUM'), ('0', 'X'), ('university', 'NOUN'), ('del.', 'NOUN'), ('of', 'ADP'), ('begin', 'VERB'), ('latest', 'ADJ'), ('*-1', 'X'), ('over', 'ADP'), ('.', '.'), ('midwest', 'NOUN'), ('significantly', 'ADV'), ('.', '.'), ('and', 'CONJ'), (',', '.'), ('artist', 'NOUN'), ('clients', 'NOUN'), ('violations', 'NOUN'), ('court', 'NOUN'), (',', '.'), (',', '.'), ('shelf', '.'), ('problem', 'NOUN'), ('*-1', 'X'), ('chest', '.'), ('*-2', 'X'), ('veraldi', 'NOUN'), ('which', 'DET'), ('items', 'NOUN'), ('president', 'NOUN'), ('``', '.'), ('soviets', 'NOUN'), (',', '.'), (\"'s\", 'PRT'), ('strength', 'NOUN'), ('by', 'ADP'), ('.', '.'), ('listing', 'NOUN'), ('``', '.'), ('receipt', '.'), ('months', 'NOUN'), ('also', 'ADV'), ('us', 'PRON'), ('they', 'PRON'), (';', '.'), ('federal', 'ADJ'), ('free', 'ADJ'), ('past', 'ADJ'), ('international', 'NOUN'), ('this', 'DET'), ('.', '.'), ('to', 'PRT'), ('he', 'PRON'), ('the', 'DET'), ('on', 'ADP'), ('ca', 'VERB'), ('classroom', 'NOUN'), ('terms', 'NOUN'), ('can', 'VERB'), (\"n't\", 'ADV'), ('a', 'DET'), ('trucks', 'NOUN'), ('funds', 'NOUN'), ('few', 'ADJ'), ('mercury', 'NOUN'), ('the', 'DET'), ('structural', 'NOUN'), ('and', 'CONJ'), ('telerate', 'NOUN'), ('stock', 'NOUN'), ('to', 'PRT'), ('$', '.'), ('in', 'ADP'), ('.', '.'), ('japan', 'NOUN'), ('protests', 'NOUN'), ('an', 'DET'), ('mainland', '.'), ('319.75', '.'), ('both', 'DET'), ('issue', 'NOUN'), ('agreement', 'NOUN'), ('at', 'ADP'), ('the', 'DET'), ('writers', 'NOUN'), ('a', 'DET'), ('any', 'DET'), ('to', 'PRT'), ('about', 'ADP'), ('*', 'X'), ('and', 'CONJ'), ('*t*-2', 'X'), ('flag', 'NOUN'), ('such', 'ADJ'), ('hearst', 'NOUN'), ('asia', 'NOUN'), ('speculation', 'NOUN'), ('apparently', 'ADV'), ('the', 'DET'), (':', '.'), ('ringer', 'NOUN'), ('pay', 'VERB'), ('that', 'ADP'), ('a.l.', '.'), ('plans', 'VERB'), ('acquire', 'VERB'), ('.', '.'), ('we', 'PRON'), ('six-month', 'ADJ'), ('schools', 'NOUN'), ('conference', 'NOUN'), ('announcement', 'NOUN'), ('and', 'CONJ'), ('common', 'ADJ'), ('other', 'ADJ'), ('sino-u.s.', 'ADJ'), ('soviets', 'NOUN'), ('.', '.'), (\"'s\", 'PRT'), ('the', 'DET'), ('some', 'DET'), ('.', '.'), ('make', 'VERB'), ('largest', 'ADJ'), ('taiwan', 'NOUN'), ('18', 'NUM'), ('treasury', 'NOUN'), (\"n't\", 'ADV'), ('and', 'CONJ'), ('other', 'ADJ'), ('.', '.'), ('80.50', '.'), ('*', 'X'), (\"''\", '.'), ('increasing', 'VERB'), ('*-1', 'X'), ('two', 'NUM'), (',', '.'), ('.', '.'), ('*', 'X'), ('peter', 'NOUN'), ('*', 'X'), ('.', '.'), ('less-than-brilliant', '.'), ('markets', 'NOUN'), ('be', 'VERB'), ('sulaiman', '.'), ('not', 'ADV'), ('are', 'VERB'), ('was', 'VERB'), ('.', '.'), ('three', 'NUM'), ('bill', 'NOUN'), ('far', 'ADV'), ('9', 'NUM'), (',', '.'), ('*', 'X'), ('the', 'DET'), ('fraud', 'NOUN'), ('has', 'VERB'), ('in', 'ADP'), ('a', 'DET'), ('one', 'NUM'), ('tony', 'NOUN'), ('president', 'NOUN'), ('*t*-1', 'X'), ('the', 'DET'), ('they', 'PRON'), ('0', 'X'), ('only', 'ADV'), ('company', 'NOUN'), ('curry', 'NOUN'), ('.', '.'), (',', '.'), ('to', 'PRT'), ('*t*-3', 'X'), (',', '.'), ('holdings', 'NOUN'), (',', '.'), (',', '.'), (',', '.'), ('coleman', 'NOUN'), ('$', '.'), ('reported', 'VERB'), (',', '.'), ('choose', 'VERB'), ('at&t', 'NOUN'), ('0', 'X'), ('they', 'PRON'), ('valley', 'NOUN'), ('$', '.'), ('of', 'ADP'), ('.', '.'), ('in', 'ADP'), (\"''\", '.'), ('*', 'X'), ('from', 'ADP'), ('modestly', 'ADV'), ('go', 'VERB'), ('the', 'DET'), ('cataract', 'NOUN'), ('and', 'CONJ'), ('shares', 'NOUN'), ('complex', 'ADJ'), ('*-41', 'X'), ('strapped', '.'), ('situation', 'NOUN'), ('inc.', 'NOUN'), ('number', 'NOUN'), ('and', 'CONJ'), ('said', 'VERB'), ('recently', 'ADV'), ('in', 'ADP'), ('co.', 'NOUN'), ('profited', '.'), ('lacks', 'VERB'), ('transaction', 'NOUN'), (',', '.'), ('of', 'ADP'), ('%', 'NOUN'), ('are', 'VERB'), ('.', '.'), ('new', 'ADJ'), (',', '.'), ('passed', 'VERB'), ('six', 'NUM'), ('million', 'NUM'), ('as', 'ADP'), ('and', 'CONJ'), ('they', 'PRON'), (\"''\", '.'), ('and', 'CONJ'), ('asia', 'NOUN'), ('u.s.', 'NOUN'), ('30.6', '.'), ('the', 'DET'), ('$', '.'), ('to', 'PRT'), ('warning', 'VERB'), ('pcs', 'NOUN'), ('the', 'DET'), ('fully', 'ADV'), (',', '.'), ('u.s.', 'NOUN'), ('plan', 'NOUN'), ('relatively', 'ADV'), ('the', 'DET'), ('survey', 'NOUN'), ('whether', 'ADP'), ('american', 'NOUN'), ('years', 'NOUN'), ('.', '.'), ('their', 'PRON'), ('because', 'ADP'), ('*t*-1', 'X'), ('earn', 'VERB'), (\"''\", '.'), ('facilities', 'NOUN'), ('0', 'X'), ('yesterday', 'NOUN'), ('as', 'ADP'), ('.', '.'), ('half-hour', 'NOUN'), ('the', 'DET'), ('.', '.'), ('smothering', '.'), ('to', 'PRT'), ('recently', 'ADV'), ('.', '.'), ('president', 'NOUN'), ('as', 'ADP'), ('stock', 'NOUN'), ('%', 'NOUN'), ('*-1', 'X'), ('top', 'ADJ'), ('for', 'ADP'), ('bid', 'NOUN'), ('small', 'ADJ'), ('the', 'DET'), ('finally', 'ADV'), ('further', 'ADJ'), ('airline', 'NOUN'), ('of', 'ADP'), ('resembles', '.'), ('a', 'DET'), ('-lcb-', '.'), ('...', '.'), ('of', 'ADP'), ('they', 'PRON'), ('a', 'DET'), ('.', '.'), ('sometimes-exhausting', '.'), ('changes', 'NOUN'), ('*ppa*-2', 'X'), ('each', 'DET'), ('mich.', 'NOUN'), ('instructed', '.'), ('*', 'X'), ('a', 'DET'), ('assemble', '.'), (':', '.'), ('officials', 'NOUN'), ('by', 'ADP'), ('to', 'PRT'), ('wines', 'NOUN'), (\"'s\", 'PRT'), ('new', 'ADJ'), ('doctor', '.'), ('``', '.'), ('or', 'CONJ'), ('of', 'ADP'), ('of', 'ADP'), ('*t*-1', 'X'), ('the', 'DET'), ('america', 'NOUN'), ('spur', 'VERB'), ('pro-choice', 'ADJ'), ('an', 'DET'), ('a', 'DET'), ('like', 'ADP'), ('military', 'ADJ'), (',', '.'), (',', '.'), ('government', 'NOUN'), ('17', 'NUM'), ('in', 'ADP'), ('stations', 'NOUN'), ('follows', 'VERB'), ('accounts', 'NOUN'), ('without', 'ADP'), ('over-the-counter', 'ADJ'), ('outnumbered', '.'), ('will', 'VERB'), ('it', 'PRON'), ('with', 'ADP'), ('*t*-1', 'X'), ('penalties', 'NOUN'), ('away', 'ADV'), ('.', '.'), ('that', 'ADP'), ('*t*-1', 'X'), ('%', 'NOUN'), ('who', 'PRON'), ('volatile', 'ADJ'), ('to', 'PRT'), (',', '.'), ('*-1', 'X'), ('club', 'NOUN'), ('1903', '.'), ('england', 'NOUN'), ('*t*-1', 'X'), ('20', 'NUM'), (',', '.'), ('observance', '.'), ('traditionalists', '.'), ('others', 'NOUN'), ('officials', 'NOUN'), ('doing', 'VERB'), ('among', 'ADP'), ('new', 'ADJ'), ('mr.', 'NOUN'), ('would', 'VERB'), (',', '.'), ('attention', 'NOUN'), ('became', 'VERB'), ('telegraph', 'NOUN'), ('.', '.'), ('terms', 'NOUN'), ('*-1', 'X'), ('that', 'ADP'), ('*u*', 'X'), ('from', 'ADP'), ('recovered', 'VERB'), ('of', 'ADP'), ('about', 'ADP'), ('figure', 'VERB'), ('0', 'X'), ('semiconductors', '.'), ('progress', 'NOUN'), ('and', 'CONJ'), ('average', 'ADJ'), ('new', 'ADJ'), ('of', 'ADP'), ('basic', 'ADJ'), ('followed', 'VERB'), ('repeatedly', '.'), ('the', 'DET'), ('and', 'CONJ'), ('yesterday', 'NOUN'), ('of', 'ADP'), ('of', 'ADP'), ('explanatory', '.'), ('seymour', 'NOUN'), ('l.', 'NOUN'), ('containers', 'NOUN'), ('i', 'PRON'), ('new', 'ADJ'), ('media', 'NOUN'), ('and', 'CONJ'), ('*t*-1', 'X'), ('whether', 'ADP'), ('drawing', 'VERB'), ('the', 'DET'), ('*t*-202', '.'), ('with', 'ADP'), ('support', 'NOUN'), ('bring', 'VERB'), ('requires', 'VERB'), ('*', 'X'), ('in', 'ADP'), ('of', 'ADP'), ('scripts', 'NOUN'), ('bushels', 'NOUN'), ('association', 'NOUN'), ('million', 'NUM'), ('u.s.', 'NOUN'), ('150', 'NUM'), ('justice', 'NOUN'), ('*-1', 'X'), ('shares', 'NOUN'), (',', '.'), ('house', 'NOUN'), ('failed', 'VERB'), ('220.45', '.'), ('language', 'NOUN'), ('cdc', '.'), ('line', 'NOUN'), ('about', 'ADP'), ('$', '.'), ('investment', 'NOUN'), ('-lrb-', '.'), ('history', 'NOUN'), ('undisclosed', '.'), ('to', 'PRT'), ('princely', '.'), ('%', 'NOUN'), ('.', '.'), ('low', 'ADJ'), ('.', '.'), ('at', 'ADP'), ('safety', 'NOUN'), ('that', 'ADP'), ('%', 'NOUN'), ('were', 'VERB'), ('which', 'DET'), ('fetal-tissue', 'ADJ'), (',', '.'), ('national', 'NOUN'), ('moines', 'NOUN'), ('c.d.s', '.'), ('the', 'DET'), ('to', 'PRT'), (',', '.'), ('the', 'DET'), ('abuse', 'NOUN'), ('the', 'DET'), (\"'s\", 'PRT'), ('islands', '.'), ('being', 'VERB'), ('of', 'ADP'), ('fifth-grade', 'NOUN'), ('*ich*-1', 'X'), ('is', 'VERB'), ('opportunities', 'NOUN'), ('``', '.'), ('%', 'NOUN'), ('they', 'PRON'), ('said', 'VERB'), ('notes', 'NOUN'), ('dislike', 'NOUN'), ('in', 'ADP'), ('someone', 'NOUN'), ('of', 'ADP'), ('.', '.'), ('it', 'PRON'), ('current', 'ADJ'), ('through', 'ADP'), ('generate', '.'), ('*ich*-2', 'X'), ('extent', 'NOUN'), ('will', 'VERB'), ('below', 'ADP'), ('bigger', 'ADJ'), ('your', 'PRON'), ('7', 'NUM'), ('to', 'PRT'), ('broader', 'ADJ'), (',', '.'), ('0', 'X'), ('and', 'CONJ'), ('year', 'NOUN'), ('--', '.'), (',', '.'), ('japan', 'NOUN'), (\"'s\", 'PRT'), ('monthly', 'ADJ'), ('yen', 'NOUN'), ('were', 'VERB'), ('matters', 'NOUN'), ('graphs', '.'), ('on', 'ADP'), ('notes', 'NOUN'), ('brazil', 'NOUN'), ('*-1', 'X'), ('virgin', 'NOUN'), ('of', 'ADP'), ('at', 'ADP'), ('our', 'PRON'), ('after', 'ADP'), ('practice', 'NOUN'), ('awaits', '.'), ('*t*-2', 'X'), ('-rrb-', '.'), (',', '.'), ('including', 'VERB'), ('when', 'ADV'), ('*rnr*-2', 'X'), ('half', 'DET'), ('been', 'VERB'), ('of', 'ADP'), ('make', 'VERB'), ('.', '.'), (',', '.'), ('to', 'PRT'), ('unpopularity', '.'), ('reclaimed', '.'), ('in', 'ADP'), ('management', 'NOUN'), (\"'s\", 'PRT'), ('simmons', 'NOUN'), ('banks', 'NOUN'), ('the', 'DET'), ('has', 'VERB'), ('market', 'NOUN'), ('while', 'ADP'), ('world', 'NOUN'), ('of', 'ADP'), ('by', 'ADP'), ('law', 'NOUN'), ('a', 'DET'), ('attached', 'VERB'), ('country', 'NOUN'), ('framers', 'NOUN'), ('*ich*-2', 'X'), (',', '.'), ('who', 'PRON'), ('.', '.'), ('as', 'ADP'), ('added', 'VERB'), ('week', 'NOUN'), ('into', 'ADP'), ('a', 'DET'), ('*u*', 'X'), ('a', 'DET'), ('early', 'ADJ'), ('insisted', 'VERB'), ('d.', 'NOUN'), ('merit', 'NOUN'), ('have', 'VERB'), (\"''\", '.'), ('.', '.'), ('``', '.'), ('gains', 'NOUN'), ('proposal', 'NOUN'), (\"'s\", 'PRT'), ('run-down', 'ADJ'), ('difficult', 'ADJ'), ('a', 'DET'), ('was', 'VERB'), ('within', 'ADP'), ('priced', 'VERB'), ('was', 'VERB'), ('direct', 'ADJ'), ('that', 'ADP'), ('7\\\\/8', 'NUM'), ('*exp*-1', 'X'), ('*', 'X'), ('national', 'NOUN'), ('slip', '.'), ('mailed', '.'), ('corp.', 'NOUN'), ('by', 'ADP'), ('to', 'PRT'), ('owed', 'VERB'), ('said', 'VERB'), ('made', 'VERB'), ('is', 'VERB'), ('an', 'DET'), ('.', '.'), ('by', 'ADP'), ('*t*-198', '.'), ('form', 'NOUN'), ('ordered', 'VERB'), ('have', 'VERB'), ('stock', 'NOUN'), ('15', 'NUM'), ('common', 'ADJ'), ('the', 'DET'), ('of', 'ADP'), ('a', 'DET'), ('the', 'DET'), ('10', 'NUM'), ('the', 'DET'), ('trading', 'NOUN'), ('for', 'ADP'), ('ordered', 'VERB'), ('will', 'VERB'), ('of', 'ADP'), ('another', 'DET'), ('group', 'NOUN'), ('.', '.'), ('yon', '.'), ('and', 'CONJ'), ('$', '.'), ('number', 'NOUN'), ('orders', 'NOUN'), ('copper', 'NOUN'), ('stadium', 'NOUN'), ('shrinks', 'VERB'), ('fixed-rate', 'ADJ'), ('of', 'ADP'), ('*u*', 'X'), ('parallels', 'VERB'), ('hahn', 'NOUN'), ('of', 'ADP'), ('cut', 'VERB'), ('a', 'DET'), ('does', 'VERB'), ('show', 'NOUN'), ('0', 'X'), ('the', 'DET'), ('mergers', 'NOUN'), ('.', '.'), ('jack', 'NOUN'), ('of', 'ADP'), ('.', '.'), ('quitting', '.'), (',', '.'), ('terms', 'NOUN'), ('by', 'ADP'), ('said', 'VERB'), ('car', 'NOUN'), ('a', 'DET'), ('systems', 'NOUN'), ('mcgovern', 'NOUN'), ('financing', 'NOUN'), ('.', '.'), ('or', 'CONJ'), ('and', 'CONJ'), ('*-1', 'X'), ('more', 'ADJ'), ('of', 'ADP'), ('the', 'DET'), ('*', 'X'), ('expanded', 'VERB'), ('you', 'PRON'), ('courtroom', 'NOUN'), ('the', 'DET'), ('off', 'PRT'), ('new', 'ADJ'), ('mr.', 'NOUN'), ('purchase', 'NOUN'), ('*t*-1', 'X'), ('share', 'NOUN'), ('sauvignon', '.'), ('bridge', 'NOUN'), ('they', 'PRON'), (',', '.'), ('leader', 'NOUN'), ('at', 'ADP'), ('*t*-4', 'X'), ('.', '.'), ('the', 'DET'), ('short-term', 'ADJ'), ('*t*-1', 'X'), ('congress', 'NOUN'), ('4', 'NUM'), ('9.37', '.'), ('``', '.'), ('regarded', 'VERB'), ('as', 'ADP'), ('a.', 'NOUN'), ('as', 'ADP'), ('into', 'ADP'), ('junk-bond', 'NOUN'), ('publishing', 'NOUN'), ('and', 'CONJ'), ('to', 'PRT'), ('$', '.'), ('a', 'DET'), (',', '.'), ('however', 'ADV'), ('yesterday', 'NOUN'), ('at', 'ADP'), ('lessen', '.'), ('*t*-1', 'X'), (\"'s\", 'PRT'), ('caldor', 'NOUN'), ('about', 'ADP'), ('from', 'ADP'), ('his', 'PRON'), ('is', 'VERB'), ('for', 'ADP'), ('performance', 'NOUN'), ('but', 'CONJ'), ('been', 'VERB'), ('going', 'VERB'), ('has', 'VERB'), (',', '.'), ('serious', 'ADJ'), ('already', 'ADV'), ('to', 'PRT'), ('boosters', 'NOUN'), ('they', 'PRON'), ('62', 'NUM'), ('the', 'DET'), ('charles', 'NOUN'), ('mixed', 'VERB'), ('slowing', 'VERB'), ('lord', 'NOUN'), ('hurricane', 'NOUN'), ('violations', 'NOUN'), ('unit', 'NOUN'), ('japan', 'NOUN'), ('when', 'ADV'), ('one', 'NUM'), ('showed', 'VERB'), ('representative', 'NOUN'), ('democrats', 'NOUN'), ('launched', 'VERB'), ('trade', 'NOUN'), ('family', 'NOUN'), ('reflect', 'VERB'), ('into', 'ADP'), ('$', '.'), ('$', '.'), ('.', '.'), ('million', 'NUM'), ('let', 'VERB'), ('america', 'NOUN'), ('ual', 'NOUN'), ('is', 'VERB'), ('paris', '.'), ('in', 'ADP'), ('``', '.'), ('faultlessly', '.'), ('his', 'PRON'), ('asserts', '.'), ('*u*', 'X'), ('the', 'DET'), ('billion', 'NUM'), ('*t*-9', 'X'), ('casting', 'VERB'), ('of', 'ADP'), ('the', 'DET'), ('warning', 'NOUN'), ('china', 'NOUN'), ('market', 'NOUN'), ('of', 'ADP'), ('million', 'NUM'), (',', '.'), ('the', 'DET'), ('all', 'DET'), ('eastern', 'NOUN'), ('.', '.'), (',', '.'), ('recommended', '.'), ('in', 'ADP'), ('here', 'ADV'), ('shareholder-rights', '.'), (\"''\", '.'), ('.', '.'), ('if', 'ADP'), ('the', 'DET'), ('mortgage', 'NOUN'), ('over', 'ADP'), ('good', 'ADJ'), ('the', 'DET'), ('and', 'CONJ'), ('upheld', 'VERB'), ('heavily', 'ADV'), ('is', 'VERB'), ('in', 'ADP'), ('sheaf', '.'), ('victory', 'NOUN'), ('is', 'VERB'), ('the', 'DET'), ('a', 'DET'), (\"'re\", 'VERB'), (',', '.'), ('to', 'PRT'), ('arbitrage', 'NOUN'), ('two', 'NUM'), ('3\\\\/4', 'NUM'), ('action', 'NOUN'), ('.', '.'), (',', '.'), ('a', 'DET'), ('a', 'DET'), ('``', '.'), ('``', '.'), ('a', 'DET'), ('numbered', '.'), ('and', 'CONJ'), (\"''\", '.'), ('leaving', 'VERB'), ('tray', '.'), ('graduate', 'NOUN'), ('home', 'NOUN'), ('by', 'ADP'), ('falls', 'VERB'), ('acquisition', 'NOUN'), (',', '.'), ('u.s.', 'NOUN'), ('commission', 'NOUN'), ('government-funded', '.'), ('to', 'PRT'), (',', '.'), ('the', 'DET'), ('one', 'NUM'), ('to', 'PRT'), (\"'s\", 'PRT'), ('plan', 'NOUN'), ('widgets', '.'), ('fundamental', 'ADJ'), ('by', 'ADP'), ('the', 'DET'), ('to', 'PRT'), ('available', 'ADJ'), ('stability', 'NOUN'), ('at', 'ADP'), ('managing', 'VERB'), ('the', 'DET'), ('the', 'DET'), ('flat', 'ADJ'), (',', '.'), ('12', 'NUM'), ('a', 'DET'), ('are', 'VERB'), ('is', 'VERB'), ('largest', 'ADJ'), ('for', 'ADP'), ('in', 'ADP'), ('cray-3', 'NOUN'), ('maker', 'NOUN'), (':', '.'), ('this', 'DET'), ('processing', 'NOUN'), ('of', 'ADP'), ('wrestling', '.'), ('some', 'DET'), ('avid', '.'), ('or', 'CONJ'), ('case', 'NOUN'), ('open-end', '.'), ('to', 'PRT'), ('0', 'X'), ('plans', 'VERB'), ('to', 'PRT'), ('and', 'CONJ'), ('that', 'ADP'), ('points', 'NOUN'), ('i', 'PRON'), ('as', 'ADP'), ('sold', 'VERB'), ('will', 'VERB'), ('financial', 'ADJ'), ('above', 'ADP'), ('0', 'X'), ('moleculon', 'NOUN'), ('u.s.', 'NOUN'), (',', '.'), ('the', 'DET'), ('sold', 'VERB'), ('curbing', '.'), ('24', 'NUM'), ('but', 'CONJ'), ('the', 'DET'), ('*u*', 'X'), ('--', '.'), ('profitable', 'ADJ'), ('the', 'DET'), ('have', 'VERB'), ('a', 'DET'), ('manager', 'NOUN'), ('alive', 'ADJ'), ('classroom', 'NOUN'), ('this', 'DET'), ('for', 'ADP'), ('series', 'NOUN'), ('biscayne', 'NOUN'), ('starting', 'VERB'), ('to', 'PRT'), ('%', 'NOUN'), (',', '.'), ('capital', 'NOUN'), ('*u*', 'X'), ('.', '.'), ('strong', 'ADJ'), ('votes', 'NOUN'), ('money', 'NOUN'), ('investors', 'NOUN'), ('377.60', '.'), ('``', '.'), ('``', '.'), ('poor', 'NOUN'), ('the', 'DET'), ('public', 'ADJ'), ('or', 'CONJ'), ('many', 'ADJ'), ('by', 'ADP'), ('control', 'NOUN'), ('decline', 'NOUN'), ('transplants', 'NOUN'), ('reported', 'VERB'), ('considered', 'VERB'), ('firms', 'NOUN'), ('that', 'ADP'), ('and', 'CONJ'), (\"'s\", 'PRT'), ('*t*-1', 'X'), ('cents', 'NOUN'), (\"'s\", 'PRT'), ('1997', '.'), ('global', 'ADJ'), ('s&p', 'NOUN'), ('600', 'NUM'), ('*t*-1', 'X'), ('stand', 'VERB'), ('chief', 'NOUN'), ('globe', 'NOUN'), ('as', 'ADP'), ('in', 'ADP'), ('to', 'PRT'), ('edison', 'NOUN'), ('well', 'ADV'), ('wa', 'NOUN'), ('gulf', 'NOUN'), (',', '.'), ('extramarital', '.'), ('causing', 'VERB'), ('places', 'NOUN'), ('asbestos', 'NOUN'), ('still', 'ADV'), ('n.j.-based', '.'), ('vice', 'NOUN'), ('fees', 'NOUN'), ('separate', 'ADJ'), ('operation', 'NOUN'), ('billion', 'NUM'), ('from', 'ADP'), ('hills', 'NOUN'), ('farmers', 'NOUN'), ('they', 'PRON'), ('u.s.', 'NOUN'), ('shareholders', 'NOUN'), ('network', 'NOUN'), ('securities', 'NOUN'), ('of', 'ADP'), ('conduct', 'VERB'), ('he', 'PRON'), ('homeless', 'NOUN'), ('%', 'NOUN'), ('by', 'ADP'), ('economic', 'ADJ'), ('require', 'VERB'), ('a', 'DET'), (',', '.'), ('ingredients', '.'), ('have', 'VERB'), (',', '.'), ('hustlers', '.'), ('laws', 'NOUN'), ('japanese', 'ADJ'), ('banks', 'NOUN'), ('business', 'NOUN'), ('often', 'ADV'), ('as', 'ADP'), ('hudson', 'NOUN'), ('of', 'ADP'), ('.', '.'), ('7.20', '.'), ('such', 'ADJ'), ('*u*', 'X'), ('economics', 'NOUN'), ('chrysler', 'NOUN'), ('had', 'VERB'), ('mr.', 'NOUN'), ('jr.', 'NOUN'), ('miller', 'NOUN'), ('the', 'DET'), ('the', 'DET'), ('small', 'ADJ'), ('japan', 'NOUN'), ('it', 'PRON'), ('clears', '.'), ('able', 'ADJ'), ('network', 'NOUN'), ('.', '.'), ('colleagues', 'NOUN'), ('*-1', 'X'), ('.', '.'), (',', '.'), ('dividends', 'NOUN'), ('slowly', 'ADV'), ('of', 'ADP'), ('of', 'ADP'), ('plants', 'NOUN'), ('will', 'VERB'), ('drag-down', '.'), ('$', '.'), (',', '.'), ('to', 'PRT'), ('of', 'ADP'), ('no', 'DET'), (',', '.'), ('*-1', 'X'), ('to', 'PRT'), ('new', 'ADJ'), ('afternoon', 'NOUN'), ('nearly', 'ADV'), ('*', 'X'), ('value', 'NOUN'), ('program', 'NOUN'), ('or', 'CONJ'), ('to', 'PRT'), ('$', '.'), ('mr.', 'NOUN'), ('.', '.'), (',', '.'), ('because', 'ADP'), ('26', 'NUM'), ('transportation', 'NOUN'), ('spitler', '.'), ('canadian', 'ADJ'), ('banks', 'NOUN'), ('added', 'VERB'), ('are', 'VERB'), ('``', '.'), ('off', 'PRT'), ('and', 'CONJ'), ('*-1', 'X'), ('seeing', 'VERB'), ('10', 'NUM'), ('balance', 'NOUN'), ('a', 'DET'), ('.', '.'), ('the', 'DET'), ('ward', 'NOUN'), ('the', 'DET'), ('%', 'NOUN'), ('under', 'ADP'), (\"'s\", 'PRT'), (',', '.'), ('acting', '.'), ('of', 'ADP'), ('support', 'NOUN'), ('the', 'DET'), ('--', '.'), ('1.6', 'NUM'), (\"'\", 'PRT'), ('several', 'ADJ'), ('$', '.'), ('to', 'PRT'), ('suspended', 'VERB'), ('.', '.'), ('million', 'NUM'), ('i', 'PRON'), ('were', 'VERB'), ('that', 'ADP'), ('share', 'NOUN'), ('medical', 'ADJ'), ('about', 'ADP'), (',', '.'), ('investors', 'NOUN'), ('edwards', 'NOUN'), ('of', 'ADP'), ('*t*-32', 'X'), ('``', '.'), ('.', '.'), ('questions', 'NOUN'), (',', '.'), ('deal', 'NOUN'), ('payouts', 'NOUN'), ('for', 'ADP'), ('president', 'NOUN'), ('the', 'DET'), ('october', 'NOUN'), ('tender', 'NOUN'), ('bowl', '.'), ('in', 'ADP'), ('fare', 'VERB'), ('before', 'ADP'), ('authorized', '.'), ('the', 'DET'), ('the', 'DET'), ('as', 'ADP'), ('filling', 'VERB'), ('by', 'ADP'), ('for', 'ADP'), ('utsumi', '.'), ('paid', 'VERB'), ('1.5', 'NUM'), ('to', 'PRT'), ('increased', 'VERB'), ('of', 'ADP'), ('3\\\\/4', 'NUM'), ('.', '.'), ('makers', 'NOUN'), ('first', 'ADJ'), ('.', '.'), ('a', 'DET'), ('the', 'DET'), ('could', 'VERB'), ('contract', 'NOUN'), ('the', 'DET'), ('of', 'ADP'), ('immune', 'ADJ'), ('to', 'PRT'), ('company', 'NOUN'), ('*u*', 'X'), ('xiaoping', '.'), ('companies', 'NOUN'), ('within', 'ADP'), ('$', '.'), ('company', 'NOUN'), ('massachusetts', 'NOUN'), ('&', 'CONJ'), ('scheduled', 'VERB'), ('and', 'CONJ'), ('of', 'ADP'), ('1', 'NUM'), ('he', 'PRON'), ('7.8', '.'), ('this', 'DET'), ('is', 'VERB'), ('corp.', 'NOUN'), ('wilcox', '.'), ('had', 'VERB'), ('any', 'DET'), ('constitutional', 'ADJ'), (',', '.'), ('valuation', '.'), ('830,000', '.'), ('.', '.'), ('those', 'DET'), ('the', 'DET'), ('were', 'VERB'), ('its', 'PRON'), ('it', 'PRON'), ('plo', '.'), ('a', 'DET'), ('.', '.'), ('dismissed', 'VERB'), ('church', 'NOUN'), ('mcgovern', 'NOUN'), ('should', 'VERB'), (',', '.'), ('the', 'DET'), ('1\\\\/2', 'NUM'), ('or', 'CONJ'), ('challenge', 'NOUN'), ('garbage', 'NOUN'), ('spending', 'NOUN'), ('disciplinary', 'ADJ'), ('team', 'NOUN'), ('minister', 'NOUN'), ('some', 'DET'), ('16.9', '.'), ('still', 'ADV'), (\"'\", 'PRT'), ('expects', 'VERB'), ('.', '.'), ('until', 'ADP'), ('proceeds', 'NOUN'), ('from', 'ADP'), ('purchase', 'NOUN'), ('futures', 'NOUN'), ('easier', 'ADJ'), ('*-3', 'X'), ('because', 'ADP'), (',', '.'), ('net', 'ADJ'), ('fell', 'VERB'), ('from', 'ADP'), ('of', 'ADP'), ('mayor', 'NOUN'), ('a', 'DET'), ('joined', 'VERB'), ('0', 'X'), ('$', '.'), ('about', 'ADP'), ('for', 'ADP'), ('its', 'PRON'), ('.', '.'), ('rose', 'VERB'), ('to', 'PRT'), ('hampshire', 'NOUN'), ('irs', 'NOUN'), ('the', 'DET'), ('even', 'ADV'), ('identify', 'VERB'), ('sell', 'VERB'), ('at', 'ADP'), ('0', 'X'), ('the', 'DET'), ('issue', 'NOUN'), ('mortgage-backed', 'ADJ'), ('to', 'PRT'), ('have', 'VERB'), ('bowed', 'VERB'), ('the', 'DET'), ('might', 'VERB'), ('in', 'ADP'), ('the', 'DET'), ('cents', 'NOUN'), ('to', 'PRT'), ('of', 'ADP'), (',', '.'), ('abrupt', '.'), ('to', 'PRT'), ('13', 'NUM'), ('was', 'VERB'), ('number', 'NOUN'), ('fit', 'NOUN'), ('that', 'ADP'), ('day', 'NOUN'), ('*-59', 'X'), ('president', 'NOUN'), ('.', '.'), (\"'s\", 'PRT'), ('playing', 'VERB'), ('interior', '.'), ('kids', 'NOUN'), ('dunkin', '.'), ('*t*-1', 'X'), (\"'s\", 'PRT'), ('sketch', 'NOUN'), ('``', '.'), ('dreamed', '.'), ('to', 'PRT'), ('do', 'VERB'), (',', '.'), ('at', 'ADP'), ('exchange', 'NOUN'), ('widgets', '.'), ('sub-markets', '.'), ('or', 'CONJ'), ('.', '.'), ('*-1', 'X'), ('methods', 'NOUN'), ('days', 'NOUN'), ('who', 'PRON'), (',', '.'), ('creating', 'VERB'), ('$', '.'), ('who', 'PRON'), ('executives', 'NOUN'), ('for', 'ADP'), ('engaged', 'VERB'), ('at', 'ADP'), ('and', 'CONJ'), ('and', 'CONJ'), ('of', 'ADP'), ('*t*-1', 'X'), ('*-1', 'X'), ('further', 'ADJ'), ('92.9', '.'), (',', '.'), ('of', 'ADP'), ('had', 'VERB'), (',', '.'), ('to', 'PRT'), ('-rcb-', '.'), ('filed', 'VERB'), ('recent', 'ADJ'), ('post', 'NOUN'), ('heating', 'NOUN'), ('offer', 'NOUN'), (';', '.'), ('at', 'ADP'), ('wants', 'VERB'), ('*-1', 'X'), (',', '.'), ('theory', 'NOUN'), ('60', 'NUM'), ('.', '.'), ('ross', 'NOUN'), (',', '.'), ('and', 'CONJ'), ('a', 'DET'), ('.', '.'), ('even', 'ADV'), ('her', 'PRON'), ('rapanelli', 'NOUN'), ('up', 'PRT'), ('we', 'PRON'), ('he', 'PRON'), ('to', 'PRT'), ('.', '.'), (',', '.'), ('breaker', 'NOUN'), ('$', '.'), ('.', '.'), ('--', '.'), ('*t*-1', 'X'), ('terminated', 'VERB'), ('bangkok', '.'), (',', '.'), ('what', 'PRON'), ('knew', 'VERB'), ('state', 'NOUN'), ('of', 'ADP'), ('business', 'NOUN'), ('*t*-1', 'X'), ('so-called', 'ADJ'), ('it', 'PRON'), ('october', 'NOUN'), ('ways', 'NOUN'), ('*t*-26', 'X'), ('reuter', '.'), ('24', 'NUM'), ('.', '.'), ('fall', 'NOUN'), ('china', 'NOUN'), ('stand', 'VERB'), ('william', 'NOUN'), ('the', 'DET'), ('to', 'PRT'), ('hermitage', 'NOUN'), ('which', 'DET'), ('*-1', 'X'), ('to', 'PRT'), ('magazine', 'NOUN'), ('budget', 'NOUN'), ('dawn', '.'), ('squier', '.'), ('grain', 'NOUN'), ('a', 'DET'), ('sales', 'NOUN'), ('trades', 'NOUN'), ('auto-safety', '.'), ('she', 'PRON'), ('for', 'ADP'), ('stated', 'VERB'), ('a', 'DET'), ('boy', '.'), ('f.w.', '.'), ('program', 'NOUN'), ('co.', 'NOUN'), ('planned', 'VERB'), ('losing', 'VERB'), (',', '.'), ('*-2', 'X'), ('billion', 'NUM'), ('cat', 'NOUN'), ('that', 'ADP'), (\"'\", 'PRT'), (',', '.'), ('hands', 'NOUN'), ('grant', 'NOUN'), ('over', 'ADP'), ('the', 'DET'), ('to', 'PRT'), ('than', 'ADP'), ('*-1', 'X'), ('obligation', 'NOUN'), ('commission', 'NOUN'), ('.', '.'), ('its', 'PRON'), ('term', 'NOUN'), ('have', 'VERB'), ('she', 'PRON'), ('it', 'PRON'), ('his', 'PRON'), (',', '.'), ('american', 'NOUN'), ('in', 'ADP'), ('for', 'ADP'), (\"n't\", 'ADV'), ('numeral', '.'), ('with', 'ADP'), ('back', 'ADV'), ('been', 'VERB'), ('these', 'DET'), ('run', 'VERB'), ('and', 'CONJ'), ('for', 'ADP'), (\"''\", '.'), ('in', 'ADP'), ('*-1', 'X'), ('0', 'X'), ('though', 'ADP'), ('to', 'PRT'), ('by', 'ADP'), ('workers', 'NOUN'), ('the', 'DET'), ('with', 'ADP'), ('&', 'CONJ'), ('its', 'PRON'), ('$', '.'), ('hurt', 'VERB'), ('over', 'ADP'), ('of', 'ADP'), ('.', '.'), ('on', 'ADP'), (',', '.'), ('a', 'DET'), ('in', 'ADP'), ('company', 'NOUN'), ('only', 'ADV'), ('``', '.'), ('ill.', 'NOUN'), ('containers', 'NOUN'), ('resilient', '.'), ('that', 'ADP'), ('machinists', '.'), ('of', 'ADP'), ('before', 'ADP'), ('treasury', 'NOUN'), (':', '.'), ('knowledgeable', '.'), ('chief', 'NOUN'), ('``', '.'), ('a', 'DET'), ('0', 'X'), ('first', 'ADJ'), ('.', '.'), ('ymca', '.'), ('jobs', 'NOUN'), ('banks', 'NOUN'), ('any', 'DET'), ('--', '.'), ('volatility', 'NOUN'), ('bottom-line', '.'), ('latest', 'ADJ'), ('fuel', 'NOUN'), ('was', 'VERB'), ('by', 'ADP'), (',', '.'), (';', '.'), ('would', 'VERB'), ('is', 'VERB'), (\"''\", '.'), ('the', 'DET'), ('to', 'PRT'), ('the', 'DET'), ('angle', 'NOUN'), ('over', 'ADP'), ('are', 'VERB'), ('of', 'ADP'), ('highest', 'ADJ'), (\"'s\", 'PRT'), ('enters', 'VERB'), ('is', 'VERB'), ('funny', 'ADJ'), ('to', 'PRT'), ('new', 'ADJ'), ('*t*-246', '.'), ('*ich*-2', 'X'), ('the', 'DET'), ('unit', 'NOUN'), (',', '.'), ('down', 'ADV'), ('.', '.'), ('other', 'ADJ'), ('there', 'DET'), ('foot', 'NOUN'), ('.', '.'), ('pretax', 'NOUN'), ('described', 'VERB'), ('48', 'NUM'), ('be', 'VERB'), ('*-1', 'X'), (',', '.'), ('$', '.'), ('a', 'DET'), ('transamerica', 'NOUN'), ('*ppa*-1', 'X'), ('surged', 'VERB'), ('a', 'DET'), ('cents', 'NOUN'), ('be', 'VERB'), ('even', 'ADV'), ('cry', '.'), ('see', 'VERB'), ('hold', 'VERB'), ('0', 'X'), ('2.80', '.'), ('we', 'PRON'), ('of', 'ADP'), ('said', 'VERB'), ('complicated', 'ADJ'), ('in', 'ADP'), ('capital', 'NOUN'), ('seems', 'VERB'), ('device', 'NOUN'), ('lower', 'ADJ'), ('coaching', 'NOUN'), ('his', 'PRON'), ('intermediate', 'NOUN'), ('6', 'NUM'), (',', '.'), ('.', '.'), ('steel', 'NOUN'), ('and', 'CONJ'), ('which', 'DET'), ('evenly', 'ADV'), (',', '.'), ('estimated', 'VERB'), ('*t*-49', 'X'), ('random', 'NOUN'), ('kidder', 'NOUN'), (',', '.'), ('markets', 'NOUN'), ('to', 'PRT'), ('also', 'ADV'), ('to', 'PRT'), (',', '.'), ('new', 'ADJ'), ('design', 'NOUN'), ('in', 'ADP'), ('eventually', 'ADV'), ('due', 'ADJ'), ('yesterday', 'NOUN'), ('*', 'X'), ('compound', 'NOUN'), ('*-2', 'X'), ('.', '.'), ('even', 'ADV'), (',', '.'), ('investment', 'NOUN'), ('read', 'VERB'), ('represent', 'VERB'), (';', '.'), ('he', 'PRON'), ('and', 'CONJ'), ('bought', 'VERB'), ('.', '.'), ('0', 'X'), ('president', 'NOUN'), ('on', 'ADP'), ('researchers', 'NOUN'), ('0', 'X'), ('light', 'ADJ'), ('with', 'ADP'), ('more', 'ADJ'), ('way', 'NOUN'), ('inadequate', 'ADJ'), ('next', 'ADJ'), ('risks', 'NOUN'), ('so', 'ADV'), ('sec', 'NOUN'), ('the', 'DET'), ('500', 'NUM'), ('investor', 'NOUN'), ('three', 'NUM'), ('500', 'NUM'), ('in', 'ADP'), ('vindication', 'NOUN'), ('our', 'PRON'), ('a', 'DET'), ('only', 'ADV'), ('*t*-3', 'X'), ('might', 'VERB'), ('programs', 'NOUN'), ('in', 'ADP'), ('*u*', 'X'), ('auction', 'NOUN'), ('restore', 'VERB'), ('number', 'NOUN'), ('high', 'ADJ'), ('nih', 'NOUN'), ('placing', 'VERB'), ('are', 'VERB'), ('out', 'PRT'), ('rules', 'NOUN'), ('1988', 'NUM'), ('of', 'ADP'), ('to', 'PRT'), ('despite', 'ADP'), ('germany', 'NOUN'), ('in', 'ADP'), ('more', 'ADJ'), ('comedies', '.'), ('landis', '.'), ('commonwealth', 'NOUN'), ('agents', 'NOUN'), ('programs', 'NOUN'), ('ideas', 'NOUN'), ('back', 'ADV'), ('is', 'VERB'), ('transplants', 'NOUN'), ('is', 'VERB'), ('trader', 'NOUN'), ('investors', 'NOUN'), ('equitable', 'NOUN'), ('were', 'VERB'), ('said', 'VERB'), ('resign', '.'), ('the', 'DET'), ('whether', 'ADP'), ('new', 'ADJ'), ('reflected', 'VERB'), ('truce', 'NOUN'), ('portfolio', 'NOUN'), ('faulding', 'NOUN'), (',', '.'), ('*-1', 'X'), ('they', 'PRON'), ('the', 'DET'), ('secretary', 'NOUN'), ('limited', 'VERB'), ('came', 'VERB'), ('a', 'DET'), ('south', 'NOUN'), ('ceiling', 'NOUN'), ('$', '.'), ('an', 'DET'), ('is', 'VERB'), ('peter', 'NOUN'), ('*', 'X'), ('an', 'DET'), ('*-1', 'X'), ('potential', 'ADJ'), ('0', 'X'), ('the', 'DET'), (',', '.'), ('luck', '.'), ('was', 'VERB'), ('has', 'VERB'), ('*', 'X'), ('targets', 'VERB'), ('had', 'VERB'), (',', '.'), (',', '.'), ('out', 'PRT'), ('foster', 'NOUN'), ('on', 'ADP'), ('of', 'ADP'), ('50', 'NUM'), ('anticipated', 'VERB'), ('451', '.'), ('r.i.', '.'), ('yen', 'NOUN'), ('was', 'VERB'), ('a', 'DET'), ('.', '.'), ('they', 'PRON'), ('*ich*-2', 'X'), ('the', 'DET'), ('stock-market', 'NOUN'), ('*', 'X'), ('the', 'DET'), ('.', '.'), ('the', 'DET'), ('bidder', '.'), ('the', 'DET'), ('.', '.'), ('vaccines', '.'), ('conditional', 'ADJ'), ('gold', 'NOUN'), ('closed', 'VERB'), ('debt', 'NOUN'), ('``', '.'), ('*u*', 'X'), ('.', '.'), (\"'s\", 'PRT'), ('*-2', 'X'), ('london', 'NOUN'), ('england', 'NOUN'), ('computers', 'NOUN'), ('yield', 'VERB'), ('and', 'CONJ'), ('alternatives', 'NOUN'), ('legislation', 'NOUN'), ('.', '.'), ('eurodollars', '.'), ('borough', 'NOUN'), (',', '.'), ('provides', 'VERB'), ('firm', 'NOUN'), ('bounce', '.'), ('disagrees', '.'), ('executives', 'NOUN'), ('*-1', 'X'), ('contel', 'NOUN'), (',', '.'), ('set', 'VERB'), ('electronics', 'NOUN'), ('contracts', 'NOUN'), ('and', 'CONJ'), ('corp.', 'NOUN'), ('and', 'CONJ'), ('indexing', '.'), ('*-2', 'X'), (',', '.'), ('``', '.'), ('help', 'VERB'), ('attractive', 'ADJ'), ('of', 'ADP'), ('a', 'DET'), ('because', 'ADP'), ('herald', 'NOUN'), ('cars', 'NOUN'), ('oxnard', 'NOUN'), ('0', 'X'), ('you', 'PRON'), (',', '.'), ('herald', 'NOUN'), ('0', 'X'), ('simultaneous', '.'), ('recently', 'ADV'), ('review', 'NOUN'), ('``', '.'), ('are', 'VERB'), ('japan', 'NOUN'), ('r.', 'NOUN'), ('spirit', 'NOUN'), ('for', 'ADP'), ('hahn', 'NOUN'), ('*t*-1', 'X'), ('the', 'DET'), ('chance', 'NOUN'), ('solid', 'ADJ'), ('has', 'VERB'), ('funds', 'NOUN'), ('strictly', '.'), ('share', 'NOUN'), ('down', 'ADV'), ('notes', 'NOUN'), ('3.8', 'NUM'), ('the', 'DET'), ('material', 'NOUN'), ('innovative', '.'), ('for', 'ADP'), (\"'m\", 'VERB'), ('mr.', 'NOUN'), ('america', 'NOUN'), ('be', 'VERB'), (',', '.'), ('to', 'PRT'), ('*-1', 'X'), ('i', 'PRON'), ('shares', 'NOUN'), ('in', 'ADP'), ('that', 'ADP'), ('``', '.'), ('industrial', 'ADJ'), ('*-1', 'X'), ('spending', 'NOUN'), ('to', 'PRT'), ('6,000', 'NUM'), ('learned', 'VERB'), ('*-121', '.'), ('bills', 'NOUN'), ('either', 'DET'), (\"n't\", 'ADV'), ('they', 'PRON'), ('by', 'ADP'), ('magleby', '.'), (\"''\", '.'), ('angola', '.'), ('wilfred', '.'), ('throughout', 'ADP'), ('in', 'ADP'), ('they', 'PRON'), ('of', 'ADP'), ('0', 'X'), ('financial', 'ADJ'), (',', '.'), ('yen', 'NOUN'), ('the', 'DET'), ('the', 'DET'), ('demand', 'NOUN'), ('words', 'NOUN'), ('to', 'PRT'), ('that', 'ADP'), ('debt', 'NOUN'), ('sometimes', 'ADV'), ('to', 'PRT'), ('big', 'ADJ'), ('similar', 'ADJ'), ('many', 'ADJ'), ('perceives', '.'), ('more', 'ADJ'), ('basket', 'NOUN'), ('225.6', '.'), ('bankruptcy', 'NOUN'), ('is', 'VERB'), ('.', '.'), ('as', 'ADP'), ('in', 'ADP'), ('exhaust', 'VERB'), ('manager', 'NOUN'), ('yesterday', 'NOUN'), ('day', 'NOUN'), ('shares', 'NOUN'), ('in', 'ADP'), (',', '.'), ('ftc', 'NOUN'), ('0', 'X'), ('keep', 'VERB'), ('problem', 'NOUN'), (\"'s\", 'PRT'), ('source', 'NOUN'), ('*-1', 'X'), ('it', 'PRON'), ('one', 'NUM'), ('of', 'ADP'), ('a', 'DET'), ('about', 'ADP'), ('increases', 'NOUN'), (',', '.'), (',', '.'), ('already', 'ADV'), ('edison', 'NOUN'), ('one', 'NUM'), ('a', 'DET'), ('said', 'VERB'), ('has', 'VERB'), ('in', 'ADP'), ('would', 'VERB'), ('its', 'PRON'), ('and', 'CONJ'), ('the', 'DET'), ('enough', 'ADV'), ('declare', '.'), ('850', '.'), (\"''\", '.'), ('*t*-1', 'X'), ('*u*', 'X'), ('it', 'PRON'), ('dodge', 'NOUN'), ('.', '.'), ('strong', 'ADJ'), ('giant', 'NOUN'), ('but', 'CONJ'), ('11th', '.'), ('investment', 'NOUN'), ('about', 'ADP'), ('to', 'PRT'), ('1990', 'NUM'), ('stock', 'NOUN'), (',', '.'), ('ec', '.'), ('that', 'ADP'), ('two', 'NUM'), (',', '.'), ('grant', 'NOUN'), ('million', 'NUM'), ('trust', 'NOUN'), ('a', 'DET'), ('.', '.'), ('really', 'ADV'), (',', '.'), ('superconductors', 'NOUN'), ('completed', 'VERB'), ('sets', 'NOUN'), ('necessarily', 'ADV'), ('appeared', 'VERB'), ('of', 'ADP'), ('record', 'NOUN'), ('new', 'ADJ'), ('unusually', 'ADV'), ('countries', 'NOUN'), ('deadline', 'NOUN'), ('traditional', 'ADJ'), ('grows', 'VERB'), ('beat', 'VERB'), (',', '.'), ('rates', 'NOUN'), ('wilbur', '.'), ('14.53', '.'), ('own', 'ADJ'), ('playwright', '.'), ('thrift', 'NOUN'), ('excess', 'ADJ'), ('torrent', '.'), ('demise', 'NOUN'), ('pretax', 'NOUN'), ('international', 'NOUN'), ('the', 'DET'), ('to', 'PRT'), ('.', '.'), (\"''\", '.'), ('office', 'NOUN'), ('advice', 'NOUN'), ('1989', 'NUM'), ('have', 'VERB'), ('examined', 'VERB'), ('will', 'VERB'), ('of', 'ADP'), ('--', '.'), (\"'\", 'PRT'), ('were', 'VERB'), (\"'s\", 'PRT'), ('.', '.'), ('higher', 'ADJ'), ('next', 'ADJ'), ('october', 'NOUN'), ('over', 'ADP'), ('new', 'ADJ'), ('america', 'NOUN'), ('.', '.'), ('ban', 'NOUN'), ('in', 'ADP'), ('112.9', '.'), ('the', 'DET'), ('.', '.'), ('*t*-2', 'X'), ('growing', 'VERB'), ('managing', 'VERB'), (\"'s\", 'PRT'), ('.', '.'), ('run', 'VERB'), ('achievement-test', '.'), ('arbitrage', 'NOUN'), ('the', 'DET'), ('minimum', 'ADJ'), ('up', 'PRT'), ('that', 'ADP'), ('unfairly', 'ADV'), ('from', 'ADP'), ('is', 'VERB'), ('but', 'CONJ'), ('and', 'CONJ'), ('markets', 'NOUN'), ('the', 'DET'), (',', '.'), ('suspension', 'NOUN'), ('had', 'VERB'), ('some', 'DET'), ('10-day', 'ADJ'), ('fiscal', 'ADJ'), ('and', 'CONJ'), ('dogs', '.'), (',', '.'), ('significant', 'ADJ'), ('*u*', 'X'), ('with', 'ADP'), ('*', 'X'), ('ago', 'ADP'), ('central', 'ADJ'), ('the', 'DET'), ('described', 'VERB'), ('no', 'DET'), ('0', 'X'), ('$', '.'), ('run', 'VERB'), ('terms', 'NOUN'), ('*-1', 'X'), ('to', 'PRT'), ('30', 'NUM'), ('fed', 'NOUN'), ('ad', 'NOUN'), ('few', 'ADJ'), ('*t*-1', 'X'), ('its', 'PRON'), ('capability', '.'), ('voice', 'NOUN'), ('even', 'ADV'), ('dealers', 'NOUN'), ('making', 'VERB'), ('said', 'VERB'), ('wall', 'NOUN'), ('the', 'DET'), ('it', 'PRON'), ('for', 'ADP'), ('compared', 'VERB'), ('though', 'ADP'), ('investor', 'NOUN'), ('revival', 'NOUN'), ('set', 'VERB'), ('collected', 'VERB'), ('an', 'DET'), ('.', '.'), ('spreads', 'NOUN'), ('income', 'NOUN'), ('and', 'CONJ'), ('next', 'ADJ'), ('ad', 'NOUN'), ('128', '.'), ('trucks', 'NOUN'), ('*-1', 'X'), ('he', 'PRON'), ('qualify', 'VERB'), ('receive', 'VERB'), ('mr.', 'NOUN'), ('measure', 'NOUN'), ('for', 'ADP'), ('they', 'PRON'), ('traitor', '.'), ('talking', 'VERB'), ('the', 'DET'), ('harsh', 'ADJ'), ('``', '.'), ('improve', 'VERB'), ('.', '.'), ('school', 'NOUN'), ('research', 'NOUN'), ('new', 'ADJ'), ('the', 'DET'), ('involving', 'VERB'), ('``', '.'), ('retain', 'VERB'), ('retirement', 'NOUN'), ('madison', 'NOUN'), ('international', 'NOUN'), ('money', 'NOUN'), ('necessary', 'ADJ'), ('.', '.'), ('georgia', 'NOUN'), ('of', 'ADP'), ('that', 'ADP'), ('in', 'ADP'), ('*', 'X'), ('wide', 'ADJ'), ('a', 'DET'), ('spurring', '.'), ('the', 'DET'), ('significant', 'ADJ'), ('51', 'NUM'), ('to', 'PRT'), ('.', '.'), ('.', '.'), (',', '.'), ('need', 'VERB'), ('from', 'ADP'), ('continuing', 'VERB'), ('and', 'CONJ'), ('ward', 'NOUN'), ('dividends', 'NOUN'), ('or', 'CONJ'), ('fired', 'VERB'), ('ward', 'NOUN'), ('rep.', 'NOUN'), ('on', 'ADP'), ('a', 'DET'), ('haven', 'NOUN'), ('first', 'ADJ'), ('higher', 'ADJ'), ('we', 'PRON'), ('and', 'CONJ'), ('year', 'NOUN'), ('teachers', 'NOUN'), ('its', 'PRON'), ('its', 'PRON'), (',', '.'), ('much', 'ADV'), ('washington', 'NOUN'), ('of', 'ADP'), ('ultimately', 'ADV'), ('they', 'PRON'), ('declines', 'NOUN'), ('street', 'NOUN'), ('.', '.'), ('indexes', '.'), ('*t*-24', 'X'), ('aggressively', 'ADV'), (',', '.'), ('it', 'PRON'), ('.', '.'), ('the', 'DET'), ('as', 'ADP'), ('in', 'ADP'), (',', '.'), (\"n't\", 'ADV'), ('ford', 'NOUN'), ('.', '.'), ('performing', 'VERB'), ('to', 'PRT'), ('the', 'DET'), ('as', 'ADP'), ('3\\\\/4', 'NUM'), ('spokesman', 'NOUN'), ('of', 'ADP'), ('of', 'ADP'), ('saying', 'VERB'), (',', '.'), ('rebuilding', '.'), ('very', 'ADV'), ('and', 'CONJ'), ('with', 'ADP'), (',', '.'), ('list', 'NOUN'), (\"n't\", 'ADV'), ('but', 'CONJ'), ('parties', 'NOUN'), ('common', 'ADJ'), ('these', 'DET'), ('*-1', 'X'), ('the', 'DET'), ('that', 'ADP'), ('*t*-3', 'X'), ('.', '.'), ('folks', 'NOUN'), ('if', 'ADP'), ('computer', 'NOUN'), ('skittishness', '.'), ('the', 'DET'), ('sphere', 'NOUN'), ('.', '.'), ('been', 'VERB'), ('a', 'DET'), ('work', 'NOUN'), ('$', '.'), ('him', 'PRON'), ('into', 'ADP'), ('in', 'ADP'), ('parent', 'NOUN'), ('long', 'ADJ'), ('third', 'ADJ'), ('%', 'NOUN'), ('the', 'DET'), ('value', 'NOUN'), ('*-2', 'X'), ('that', 'ADP'), ('and', 'CONJ'), ('redeemed', 'VERB'), ('of', 'ADP'), ('.', '.'), ('court', 'NOUN'), ('has', 'VERB'), ('funding', 'NOUN'), ('of', 'ADP'), ('indicated', 'VERB'), ('trade', 'NOUN'), ('signifying', '.'), ('labor', 'NOUN'), ('to', 'PRT'), ('stake', 'NOUN'), ('176', '.'), ('full', 'ADJ'), ('program', 'NOUN'), ('sectors', '.'), ('besuboru', '.'), ('that', 'ADP'), ('younkers', 'NOUN'), ('sony', 'NOUN'), ('into', 'ADP'), ('in', 'ADP'), ('with', 'ADP'), ('--', '.'), ('the', 'DET'), ('%', 'NOUN'), ('51', 'NUM'), ('the', 'DET'), ('plastic', 'ADJ'), ('is', 'VERB'), ('frozen', 'VERB'), ('ballpark', 'NOUN'), ('and', 'CONJ'), ('the', 'DET'), ('0', 'X'), ('.', '.'), ('the', 'DET'), ('other', 'ADJ'), ('increase', 'NOUN'), ('particular', 'ADJ'), ('of', 'ADP'), ('that', 'ADP'), ('nations', 'NOUN'), ('well-known', 'ADJ'), ('for', 'ADP'), ('department', 'NOUN'), ('sounded', 'VERB'), ('signing', 'VERB'), ('in', 'ADP'), ('chinese', 'ADJ'), ('young', 'ADJ'), (',', '.'), ('strength', 'NOUN'), ('*t*-1', 'X'), ('as', 'ADP'), ('self', '.'), ('he', 'PRON'), (\"'s\", 'PRT'), ('by', 'ADP'), ('vitulli', 'NOUN'), ('had', 'VERB'), (';', '.'), ('the', 'DET'), ('said', 'VERB'), ('market', 'NOUN'), ('taken', 'VERB'), ('and', 'CONJ'), (',', '.'), ('in', 'ADP'), ('is', 'VERB'), ('2', 'NUM'), ('have', 'VERB'), ('director', 'NOUN'), ('do', 'VERB'), ('have', 'VERB'), ('--', '.'), ('wine', 'NOUN'), ('-rrb-', '.'), ('will', 'VERB'), ('sonnett', 'NOUN'), ('interpretation', 'NOUN'), ('it', 'PRON'), ('story', 'NOUN'), ('industrial', 'ADJ'), ('the', 'DET'), ('cabernet', 'NOUN'), ('.', '.'), ('big', 'ADJ'), ('*u*', 'X'), ('``', '.'), ('massachusetts', 'NOUN'), ('own', 'ADJ'), ('business', 'NOUN'), (',', '.'), ('china', 'NOUN'), ('thrift', 'NOUN'), (\"''\", '.'), ('which', 'DET'), ('members', 'NOUN'), ('of', 'ADP'), ('to', 'PRT'), (',', '.'), ('0', 'X'), ('corp.', 'NOUN'), ('the', 'DET'), ('go', 'VERB'), ('shares', 'NOUN'), ('2,500', 'NUM'), ('and', 'CONJ'), ('things', 'NOUN'), ('a', 'DET'), ('18', 'NUM'), ('addition', 'NOUN'), (',', '.'), ('are', 'VERB'), ('%', 'NOUN'), ('are', 'VERB'), ('the', 'DET'), ('could', 'VERB'), ('his', 'PRON'), ('in', 'ADP'), ('delivery', 'NOUN'), ('*t*-1', 'X'), ('inventor', '.'), ('roll', 'VERB'), ('0', 'X'), ('that', 'ADP'), ('so', 'ADV'), ('the', 'DET'), ('executive', 'NOUN'), ('company', 'NOUN'), ('provision', 'NOUN'), ('at', 'ADP'), ('of', 'ADP'), ('*-2', 'X'), ('says', 'VERB'), ('ownership', 'NOUN'), ('weaker', 'ADJ'), ('year', 'NOUN'), ('%', 'NOUN'), ('it', 'PRON'), ('administrator', 'NOUN'), ('memorize', '.'), ('information', 'NOUN'), ('recent', 'ADJ'), ('the', 'DET'), ('of', 'ADP'), ('.', '.'), ('*?*', 'X'), ('--', '.'), ('unsecured', 'ADJ'), ('45', 'NUM'), ('and', 'CONJ'), (',', '.'), ('independent', 'ADJ'), (\"'re\", 'VERB'), ('the', 'DET'), ('idea', 'NOUN'), ('la', 'NOUN'), ('180', 'NUM'), ('signal', 'NOUN'), ('for', 'ADP'), (\"n't\", 'ADV'), ('company', 'NOUN'), ('about', 'ADP'), ('the', 'DET'), ('less', 'ADJ'), ('bureaucracy', 'NOUN'), ('officials', 'NOUN'), ('in', 'ADP'), ('of', 'ADP'), ('the', 'DET'), ('*t*-220', '.'), ('or', 'CONJ'), ('corp', 'NOUN'), ('*-2', 'X'), ('traders', 'NOUN'), ('*t*-48', 'X'), ('donuts', '.'), ('same', 'ADJ'), ('the', 'DET'), ('the', 'DET'), ('veto', 'NOUN'), (',', '.'), ('it', 'PRON'), ('like', 'ADP'), ('interrogation', '.'), ('georgia', 'NOUN'), ('be', 'VERB'), ('consensus', 'NOUN'), ('high', 'ADJ'), ('women', 'NOUN'), ('are', 'VERB'), ('commerce', 'NOUN'), ('pcs', 'NOUN'), ('watchers', 'NOUN'), ('tire', 'NOUN'), ('durable-goods', '.'), ('a', 'DET'), ('be', 'VERB'), ('fighting', 'VERB'), ('into', 'ADP'), ('comprehensive', 'NOUN'), ('with', 'ADP'), ('get', 'VERB'), ('.', '.'), ('the', 'DET'), ('as', 'ADP'), (\"''\", '.'), ('lawyers', 'NOUN'), ('trading', 'NOUN'), ('the', 'DET'), (\"''\", '.'), ('to', 'PRT'), ('launched', 'VERB'), ('often', 'ADV'), ('bribery', '.'), ('of', 'ADP'), ('*u*', 'X'), ('the', 'DET'), ('products', 'NOUN'), ('and', 'CONJ'), ('age', 'NOUN'), ('*t*-3', 'X'), ('in', 'ADP'), ('crops', 'NOUN'), ('carnival', 'NOUN'), ('*-3', 'X'), ('needed', 'VERB'), ('force', 'NOUN'), ('*u*', 'X'), ('it', 'PRON'), ('0', 'X'), ('hampshire', 'NOUN'), ('thousands', 'NOUN'), ('same', 'ADJ'), ('approved', 'VERB'), ('the', 'DET'), ('*', 'X'), ('*-1', 'X'), ('for', 'ADP'), ('but', 'CONJ'), ('it', 'PRON'), ('than', 'ADP'), ('successfully', '.'), ('after', 'ADP'), ('able', 'ADJ'), ('ohio', 'NOUN'), ('retail', 'ADJ'), ('40', 'NUM'), ('stronger', 'ADJ'), ('furniture', 'NOUN'), ('the', 'DET'), ('never', 'ADV'), ('says', 'VERB'), ('in', 'ADP'), ('years', 'NOUN'), ('speed', 'NOUN'), ('corporate', 'ADJ'), ('0', 'X'), ('assisted', '.'), ('chemical', 'NOUN'), ('by', 'ADP'), ('--', '.'), ('czechoslovakia', 'NOUN'), ('hearst', 'NOUN'), ('it', 'PRON'), ('118', 'NUM'), (',', '.'), ('in', 'ADP'), ('and', 'CONJ'), ('operations', 'NOUN'), ('card', 'NOUN'), ('.', '.'), ('of', 'ADP'), ('1.64', 'NUM'), ('comment', 'NOUN'), ('absurd', '.'), ('yet', 'ADV'), ('of', 'ADP'), (',', '.'), ('sought', 'VERB'), ('the', 'DET'), ('*rnr*-4', 'X'), ('they', 'PRON'), ('.', '.'), (\"'s\", 'PRT'), ('irvine', 'NOUN'), ('white', 'NOUN'), ('for', 'ADP'), ('fiscal', 'ADJ'), (';', '.'), ('$', '.'), ('next', 'ADJ'), ('up', 'PRT'), ('investors', 'NOUN'), ('10', 'NUM'), ('a', 'DET'), ('``', '.'), ('acquired', 'VERB'), ('from', 'ADP'), ('malignant', '.'), ('outside', 'ADJ'), (',', '.'), ('this', 'DET'), ('reuters', 'NOUN'), ('considerable', 'ADJ'), ('*t*-2', 'X'), ('8.07', 'NUM'), ('is', 'VERB'), ('mcdermott', '.'), ('.', '.'), ('as', 'ADP'), ('consideration', 'NOUN'), ('our', 'PRON'), ('a', 'DET'), ('research', 'NOUN'), ('to', 'PRT'), ('in', 'ADP'), ('president', 'NOUN'), ('contract', 'NOUN'), ('march', 'NOUN'), (',', '.'), ('lives', 'NOUN'), ('side', 'NOUN'), ('.', '.'), ('by', 'ADP'), ('the', 'DET'), ('a', 'DET'), ('13.8', 'NUM'), ('.', '.'), (',', '.'), ('bank', 'NOUN'), ('tribe', 'NOUN'), (',', '.'), ('since', 'ADP'), ('*t*-2', 'X'), ('in', 'ADP'), ('which', 'DET'), ('they', 'PRON'), (\"''\", '.'), ('a', 'DET'), ('*-1', 'X'), ('tower', 'NOUN'), ('the', 'DET'), ('has', 'VERB'), ('combined', 'VERB'), ('these', 'DET'), ('rash', '.'), ('to', 'PRT'), ('*-2', 'X'), ('43', 'NUM'), ('earnings', 'NOUN'), ('maker', 'NOUN'), ('the', 'DET'), ('according', 'VERB'), ('a', 'DET'), ('for', 'ADP'), ('.', '.'), ('megabytes', '.'), ('called', 'VERB'), ('the', 'DET'), ('and', 'CONJ'), ('*t*-77', '.'), ('homelessness', 'NOUN'), ('mrs.', 'NOUN'), ('waiver', '.'), ('some', 'DET'), ('continue', 'VERB'), ('interest', 'NOUN'), ('prove', 'VERB'), ('meeting', 'NOUN'), ('the', 'DET'), ('denouncing', 'VERB'), ('*-1', 'X'), ('a', 'DET'), ('ceiling', 'NOUN'), ('be', 'VERB'), ('62%-owned', 'ADJ'), ('if', 'ADP'), ('all', 'DET'), ('discussions', 'NOUN'), ('of', 'ADP'), ('valuation', '.'), ('*-3', 'X'), ('real-estate', 'NOUN'), (',', '.'), ('as', 'ADP'), ('become', 'VERB'), ('of', 'ADP'), ('a', 'DET'), ('securities', 'NOUN'), ('requirements', 'NOUN'), ('*', 'X'), ('under', 'ADP'), ('*', 'X'), ('in', 'ADP'), ('pleased', 'VERB'), ('individual', 'ADJ'), ('u.s.', 'NOUN'), (\"''\", '.'), ('``', '.'), ('0', 'X'), ('an', 'DET'), ('0', 'X'), ('concerns', 'NOUN'), ('.', '.'), ('hard', 'ADJ'), (\"''\", '.'), ('*t*-1', 'X'), ('2019', 'NUM'), ('the', 'DET'), ('get', 'VERB'), ('executives', 'NOUN'), ('cutting', 'VERB'), ('the', 'DET'), ('%', 'NOUN'), ('treasury', 'NOUN'), ('capital', 'NOUN'), ('by', 'ADP'), ('markets', 'NOUN'), ('of', 'ADP'), ('iii', 'NOUN'), ('500', 'NUM'), ('to', 'PRT'), ('j.l.', 'NOUN'), ('said', 'VERB'), ('sports', 'NOUN'), ('first', 'ADJ'), ('say', 'VERB'), ('a', 'DET'), ('of', 'ADP'), ('proposing', 'VERB'), ('own', 'ADJ'), ('days', 'NOUN'), ('crunch', 'NOUN'), ('.', '.'), ('in', 'ADP'), ('would', 'VERB'), ('*-61', 'X'), ('4.4', 'NUM'), ('year', 'NOUN'), ('the', 'DET'), ('out', 'PRT'), ('*t*-1', 'X'), ('england', 'NOUN'), ('rising', 'VERB'), ('way', 'NOUN'), ('upjohn', 'NOUN'), (',', '.'), ('that', 'ADP'), ('demand', 'NOUN'), ('the', 'DET'), ('in', 'ADP'), ('swallow', '.'), (',', '.'), ('current-carrying', 'ADJ'), ('the', 'DET'), ('that', 'ADP'), (',', '.'), ('98.3', '.'), ('says', 'VERB'), ('were', 'VERB'), (',', '.'), ('on', 'ADP'), ('make', 'VERB'), ('.', '.'), ('opposition', 'NOUN'), ('more', 'ADJ'), ('cast-iron', '.'), ('long', 'ADJ'), ('found', 'VERB'), ('.', '.'), ('tuesday', 'NOUN'), ('``', '.'), ('of', 'ADP'), ('of', 'ADP'), ('new', 'ADJ'), ('said', 'VERB'), ('say', 'VERB'), ('that', 'ADP'), ('swiftly', 'ADV'), ('thrift', 'NOUN'), ('mae', 'NOUN'), ('full', 'ADJ'), ('here', 'ADV'), ('about', 'ADP'), ('as', 'ADP'), ('print', 'VERB'), ('139', '.'), ('morning', 'NOUN'), ('to', 'PRT'), ('wafa', '.'), (\"'s\", 'PRT'), ('dexterity', '.'), ('a', 'DET'), ('from', 'ADP'), ('the', 'DET'), ('compared', 'VERB'), ('$', '.'), ('its', 'PRON'), ('professional', 'ADJ'), ('compromise', 'NOUN'), ('formed', 'VERB'), ('.', '.'), ('health', 'NOUN'), ('``', '.'), ('farmers', 'NOUN'), ('pay', 'VERB'), ('insurance-company', '.'), (',', '.'), ('builders', '.'), ('*', 'X'), ('billion', 'NUM'), ('france', 'NOUN'), ('critics', 'NOUN'), ('*', 'X'), ('view', 'NOUN'), ('through', 'ADP'), ('these', 'DET'), ('duties', 'NOUN'), ('the', 'DET'), ('evidence', 'NOUN'), ('international', 'NOUN'), ('assets', 'NOUN'), (',', '.'), (',', '.'), ('a', 'DET'), ('%', 'NOUN'), ('how', 'ADV'), ('*', 'X'), ('common', 'ADJ'), ('to', 'PRT'), ('a', 'DET'), ('*-2', 'X'), ('income', 'NOUN'), ('chief', 'NOUN'), ('in', 'ADP'), ('to', 'PRT'), ('skin', 'NOUN'), ('of', 'ADP'), ('the', 'DET'), ('for', 'ADP'), ('an', 'DET'), ('net', 'ADJ'), ('to', 'PRT'), ('*u*', 'X'), (',', '.'), ('veto', 'NOUN'), ('italian', 'ADJ'), ('yellow', '.'), ('*-1', 'X'), ('for', 'ADP'), ('father-in-law', '.'), ('450', 'NUM'), ('initiative', 'NOUN'), ('rose', 'VERB'), ('negus', '.'), ('to', 'PRT'), ('account', 'NOUN'), ('funds', 'NOUN'), ('very', 'ADV'), ('rate', 'NOUN'), ('six-bottle', '.'), ('one', 'NUM'), (',', '.'), ('systems', 'NOUN'), ('size', 'NOUN'), ('both', 'DET'), ('of', 'ADP'), ('0', 'X'), ('quips', '.'), ('it', 'PRON'), (',', '.'), ('fully', 'ADV'), ('softening', 'VERB'), ('are', 'VERB'), ('before', 'ADP'), (',', '.'), ('a', 'DET'), ('big', 'ADJ'), ('the', 'DET'), ('net', 'ADJ'), ('railcars', 'NOUN'), ('burnham', 'NOUN'), ('an', 'DET'), ('.', '.'), ('$', '.'), ('not', 'ADV'), ('$', '.'), ('and', 'CONJ'), ('and', 'CONJ'), ('*t*-127', '.'), ('said', 'VERB'), (\"'s\", 'PRT'), ('automobile', 'NOUN'), ('*-1', 'X'), ('71', 'NUM'), ('for', 'ADP'), ('said', 'VERB'), ('markets', 'NOUN'), ('continued', 'VERB'), ('and', 'CONJ'), ('0', 'X'), ('market', 'NOUN'), ('posing', '.'), ('900', 'NUM'), ('in', 'ADP'), ('a', 'DET'), ('japan', 'NOUN'), ('a', 'DET'), ('monthly', 'ADJ'), ('*t*-1', 'X'), ('highly', 'ADV'), ('make', 'VERB'), ('400', 'NUM'), ('*', 'X'), (',', '.'), ('only', 'ADV'), ('their', 'PRON'), ('holds', 'VERB'), ('should', 'VERB'), ('however', 'ADV'), ('third-quarter', 'NOUN'), ('would', 'VERB'), ('are', 'VERB'), ('key', 'ADJ'), ('year', 'NOUN'), ('cab', '.'), ('prizes', 'NOUN'), ('this', 'DET'), ('yeargin', 'NOUN'), ('by', 'ADP'), ('this', 'DET'), ('debt', 'NOUN'), ('to', 'PRT'), ('nederlanden', '.'), ('of', 'ADP'), ('*-2', 'X'), ('.', '.'), ('held', 'VERB'), ('be', 'VERB'), ('2.07', '.'), ('pardus', '.'), ('magazine', 'NOUN'), ('begin', 'VERB'), ('caused', 'VERB'), ('$', '.'), ('while', 'ADP'), ('is', 'VERB'), ('from', 'ADP'), ('for', 'ADP'), ('marching', 'VERB'), ('photographs', 'NOUN'), ('losing', 'VERB'), ('by', 'ADP'), ('mental', 'ADJ'), ('treasury', 'NOUN'), ('*', 'X'), ('on', 'ADP'), ('had', 'VERB'), ('plants', 'NOUN'), ('we', 'PRON'), ('the', 'DET'), ('the', 'DET'), ('craze', 'NOUN'), (',', '.'), ('at', 'ADP'), ('stock', 'NOUN'), ('trade', 'NOUN'), ('0.0085', '.'), ('inspirational', '.'), ('high', 'ADJ'), ('mr.', 'NOUN'), ('chase', 'NOUN'), (',', '.'), (',', '.'), ('nation', 'NOUN'), (\"'\", 'PRT'), ('hours', 'NOUN'), ('can', 'VERB'), ('its', 'PRON'), (',', '.'), ('.', '.'), ('not', 'ADV'), ('*-4', 'X'), ('which', 'DET'), ('market', 'NOUN'), ('have', 'VERB'), ('than', 'ADP'), ('their', 'PRON'), ('had', 'VERB'), ('say', 'VERB'), ('their', 'PRON'), ('aware', 'ADJ'), ('paying', 'VERB'), ('bell', 'NOUN'), ('quite', 'ADV'), (\"'s\", 'PRT'), ('.', '.'), ('*-2', 'X'), ('commitment', 'NOUN'), ('involving', 'VERB'), ('who', 'PRON'), ('ended', 'VERB'), ('was', 'VERB'), ('excess', 'ADJ'), ('nationwide', 'ADJ'), ('of', 'ADP'), ('programs', 'NOUN'), ('proposal', 'NOUN'), ('1', 'NUM'), ('effective', 'ADJ'), (',', '.'), ('had', 'VERB'), ('.', '.'), ('were', 'VERB'), ('which', 'DET'), ('of', 'ADP'), ('397', '.'), ('57.50', 'NUM'), ('0', 'X'), ('*-1', 'X'), ('exchange', 'NOUN'), ('for', 'ADP'), ('license', 'VERB'), (',', '.'), ('father', 'NOUN'), ('to', 'PRT'), ('for', 'ADP'), ('bells', 'NOUN'), ('expected', 'VERB'), ('a', 'DET'), ('$', '.'), ('safe-deposit', '.'), ('263.07', '.'), ('vs.', 'CONJ'), (',', '.'), ('one', 'NUM'), ('the', 'DET'), ('bottom', 'NOUN'), ('months', 'NOUN'), ('pickens', 'NOUN'), ('apparently', 'ADV'), ('would', 'VERB'), ('stores', 'NOUN'), ('kent', 'NOUN'), ('.', '.'), ('rather', 'ADV'), ('*', 'X'), ('the', 'DET'), ('sending', 'VERB'), ('to', 'PRT'), ('however', 'ADV'), ('raised', 'VERB'), ('.', '.'), ('he', 'PRON'), ('applications', 'NOUN'), ('over', 'ADP'), ('it', 'PRON'), ('-lrb-', '.'), ('state', 'NOUN'), ('returns', 'NOUN'), (',', '.'), ('many', 'ADJ'), ('up', 'PRT'), ('*u*', 'X'), ('according', 'VERB'), ('that', 'ADP'), ('may', 'VERB'), ('undergoing', '.'), (\"'s\", 'PRT'), ('demand', 'NOUN'), ('in', 'ADP'), ('*-88', '.'), ('england', 'NOUN'), ('*-1', 'X'), ('impression', '.'), ('supply', 'NOUN'), ('the', 'DET'), ('as', 'ADP'), (',', '.'), ('michael', 'NOUN'), ('but', 'CONJ'), ('later', 'ADJ'), ('i', 'PRON'), ('mcgovern', 'NOUN'), ('commission', 'NOUN'), ('is', 'VERB'), ('increase', 'NOUN'), ('the', 'DET'), ('that', 'ADP'), ('0', 'X'), ('than', 'ADP'), ('0', 'X'), ('exxon', 'NOUN'), ('course', 'NOUN'), ('plants', 'NOUN'), ('del', 'NOUN'), ('pay', 'VERB'), (',', '.'), ('oct.', 'NOUN'), (',', '.'), ('blood', 'NOUN'), ('but', 'CONJ'), ('5\\\\/8', 'NUM'), ('hosted', '.'), (',', '.'), ('william', 'NOUN'), ('were', 'VERB'), (',', '.'), ('0', 'X'), ('appeals', 'NOUN'), ('april', 'NOUN'), ('even', 'ADV'), ('to', 'PRT'), ('part', 'NOUN'), ('of', 'ADP'), ('roland', '.'), ('.', '.'), ('preston', '.'), ('partner', 'NOUN'), ('health', 'NOUN'), ('of', 'ADP'), ('jr.', 'NOUN'), ('44', 'NUM'), ('medical', 'ADJ'), (',', '.'), ('one-third', 'NOUN'), ('1\\\\/4', 'NUM'), ('such', 'ADJ'), ('the', 'DET'), ('crop', 'NOUN'), ('client', 'NOUN'), ('that', 'ADP'), ('wilder', 'NOUN'), ('mr.', 'NOUN'), ('the', 'DET'), (':', '.'), ('peals', 'NOUN'), ('different', 'ADJ'), ('avert', '.'), (\"'s\", 'PRT'), ('in', 'ADP'), ('u.s.', 'NOUN'), ('a', 'DET'), ('district', 'NOUN'), (\"''\", '.'), ('.', '.'), (\"''\", '.'), ('of', 'ADP'), ('medium-sized', 'ADJ'), ('other', 'ADJ'), ('billion', 'NUM'), ('asia', 'NOUN'), ('that', 'ADP'), (',', '.'), ('grace', 'NOUN'), ('*-2', 'X'), ('expected', 'VERB'), ('fairly', 'ADV'), ('it', 'PRON'), ('from', 'ADP'), ('has', 'VERB'), ('international', 'NOUN'), ('wolf', 'NOUN'), (\"''\", '.'), ('*u*', 'X'), ('of', 'ADP'), ('they', 'PRON'), ('a', 'DET'), ('his', 'PRON'), ('in', 'ADP'), ('.', '.'), ('it', 'PRON'), ('for', 'ADP'), ('this', 'DET'), ('long-term', 'ADJ'), ('.', '.'), ('there', 'DET'), ('are', 'VERB'), ('officers', 'NOUN'), ('classics', 'NOUN'), (\"''\", '.'), ('for', 'ADP'), ('to', 'PRT'), ('problems', 'NOUN'), ('chemicals', 'NOUN'), ('a', 'DET'), ('is', 'VERB'), (',', '.'), ('himself', 'PRON'), ('.', '.'), ('the', 'DET'), ('slow', 'VERB'), ('.', '.'), ('long', 'ADJ'), ('only', 'ADV'), ('as', 'ADP'), ('the', 'DET'), ('of', 'ADP'), ('near', 'ADP'), (',', '.'), ('protest', 'NOUN'), (',', '.'), ('shares', 'NOUN'), ('lewis', 'NOUN'), ('and', 'CONJ'), ('market', 'NOUN'), ('*-2', 'X'), ('voters', 'NOUN'), ('forced', 'VERB'), ('*t*-117', '.'), ('make', 'VERB'), ('``', '.'), ('quarterly', 'ADJ'), (',', '.'), ('investment', 'NOUN'), ('on', 'ADP'), ('strong', 'ADJ'), ('than', 'ADP'), ('mixed', 'VERB'), ('if', 'ADP'), ('%', 'NOUN'), (',', '.'), ('grace', 'NOUN'), ('putting', 'VERB'), ('.', '.'), ('company', 'NOUN'), ('said', 'VERB'), ('*t*-1', 'X'), ('calder', '.'), ('the', 'DET'), ('swings', 'NOUN'), ('its', 'PRON'), (',', '.'), ('buyer', 'NOUN'), ('*t*-1', 'X'), ('gyrate', '.'), ('cases', 'NOUN'), ('0', 'X'), ('it', 'PRON'), ('as', 'ADP'), ('losses', 'NOUN'), ('a', 'DET'), ('construction', 'NOUN'), ('?', '.'), ('47.125', 'NUM'), ('in', 'ADP'), ('*t*-1', 'X'), ('court', 'NOUN'), ('service', 'NOUN'), ('can', 'VERB'), ('both', 'DET'), ('offset', 'VERB'), ('print', 'VERB'), ('*', 'X'), ('publishing', 'NOUN'), ('1990', 'NUM'), ('development', 'NOUN'), ('is', 'VERB'), ('most', 'ADJ'), ('could', 'VERB'), ('holding', 'VERB'), ('with', 'ADP'), ('standard', 'NOUN'), ('disputes', 'NOUN'), ('york', 'NOUN'), (\"'s\", 'PRT'), ('.', '.'), ('and', 'CONJ'), ('serial', 'NOUN'), ('been', 'VERB'), ('in', 'ADP'), ('via', 'ADP'), ('an', 'DET'), ('``', '.'), (\"n't\", 'ADV'), ('investor', 'NOUN'), ('magazine', 'NOUN'), ('market', 'NOUN'), (',', '.'), ('at', 'ADP'), ('a', 'DET'), ('``', '.'), ('spending', 'NOUN'), (',', '.'), ('the', 'DET'), ('traders', 'NOUN'), ('circle', 'NOUN'), (',', '.'), ('coming', 'VERB'), ('the', 'DET'), ('proposed', 'VERB'), ('businessman', 'NOUN'), ('the', 'DET'), ('the', 'DET'), ('money-center', '.'), ('trade', 'NOUN'), (',', '.'), ('real', 'ADJ'), ('$', '.'), ('dollars', 'NOUN'), ('can', 'VERB'), (',', '.'), ('earnings', 'NOUN'), ('the', 'DET'), ('daily', 'ADJ'), ('health', 'NOUN'), ('adviser', 'NOUN'), ('moderate', 'ADJ'), ('stock', 'NOUN'), ('around', 'ADP'), ('the', 'DET'), ('a', 'DET'), ('he', 'PRON'), ('million', 'NUM'), ('believe', 'VERB'), ('merely', 'ADV'), ('.', '.'), (',', '.'), ('regions', 'NOUN'), ('reuters', 'NOUN'), ('testing', 'NOUN'), ('own', 'ADJ'), ('billion', 'NUM'), ('.', '.'), ('bilateral', 'ADJ'), ('risk', 'NOUN'), ('3.5', 'NUM'), ('an', 'DET'), ('a', 'DET'), ('or', 'CONJ'), (\"'s\", 'PRT'), ('to', 'PRT'), ('marks', 'NOUN'), (\"'s\", 'PRT'), ('own', 'ADJ'), ('sales', 'NOUN'), ('called', 'VERB'), ('control', 'NOUN'), ('of', 'ADP'), (',', '.'), ('of', 'ADP'), ('its', 'PRON'), ('to', 'PRT'), ('the', 'DET'), ('the', 'DET'), ('potential', 'ADJ'), ('in', 'ADP'), ('900', 'NUM'), ('the', 'DET'), ('.', '.'), ('-rrb-', '.'), ('stocks', 'NOUN'), (',', '.'), ('the', 'DET'), ('traders', 'NOUN'), ('inquiry', 'NOUN'), ('*', 'X'), ('my', 'PRON'), ('500', 'NUM'), ('continue', 'VERB'), (',', '.'), ('old', 'ADJ'), ('turn', 'VERB'), ('mitsubishi', 'NOUN'), ('securities', 'NOUN'), ('sacrifice', '.'), ('thrift', 'NOUN'), ('baum', 'NOUN'), ('in', 'ADP'), ('together', 'ADV'), ('trading', 'NOUN'), (\"''\", '.'), ('supply', 'NOUN'), ('england', 'NOUN'), ('--', '.'), ('co.', 'NOUN'), ('many', 'ADJ'), ('i', 'PRON'), ('$', '.'), ('*t*-1', 'X'), ('of', 'ADP'), ('high', 'ADJ'), ('.', '.'), ('spending', 'NOUN'), ('of', 'ADP'), (';', '.'), ('anything', 'NOUN'), ('.', '.'), ('.', '.'), ('as', 'ADP'), ('expense', '.'), ('oy', 'NOUN'), ('here', 'ADV'), ('and', 'CONJ'), ('fellow', 'ADJ'), ('he', 'PRON'), ('time', 'NOUN'), ('business', 'NOUN'), ('functioning', '.'), ('losses', 'NOUN'), ('*-1', 'X'), ('wine', 'NOUN'), ('3', 'NUM'), ('.', '.'), ('first', 'ADJ'), ('continue', 'VERB'), ('elsevier', '.'), ('%', 'NOUN'), ('some', 'DET'), ('months', 'NOUN'), ('was', 'VERB'), ('from', 'ADP'), ('a', 'DET'), ('1,400', '.'), ('payments', 'NOUN'), ('might', 'VERB'), ('of', 'ADP'), ('*ich*-1', 'X'), ('stake', 'NOUN'), ('the', 'DET'), ('.', '.'), ('assets', 'NOUN'), ('to', 'PRT'), (',', '.'), ('from', 'ADP'), ('began', 'VERB'), ('finance', 'NOUN'), ('and', 'CONJ'), ('9', 'NUM'), ('the', 'DET'), ('*t*-1', 'X'), ('0', 'X'), ('at', 'ADP'), ('industry', 'NOUN'), ('and', 'CONJ'), ('probably', 'ADV'), ('.', '.'), ('widely', 'ADV'), ('which', 'DET'), ('.', '.'), ('and', 'CONJ'), ('say', 'VERB'), ('who', 'PRON'), ('television', 'NOUN'), ('new', 'ADJ'), ('20', 'NUM'), ('a', 'DET'), ('.', '.'), (',', '.'), ('%', 'NOUN'), ('*t*-1', 'X'), ('year', 'NOUN'), ('*', 'X'), (',', '.'), ('maker', 'NOUN'), ('15', 'NUM'), ('has', 'VERB'), (\"'re\", 'VERB'), ('referring', '.'), ('sen.', 'NOUN'), ('week', 'NOUN'), ('twin', '.'), ('*ich*-1', 'X'), ('by', 'ADP'), ('as', 'ADP'), ('education', 'NOUN'), ('workers', 'NOUN'), ('*-1', 'X'), ('rewarding', '.'), ('japanese', 'ADJ'), ('once', 'ADV'), ('earlier', 'ADJ'), ('$', '.'), ('at', 'ADP'), ('been', 'VERB'), ('%', 'NOUN'), ('the', 'DET'), ('and', 'CONJ'), ('currently', 'ADV'), ('than', 'ADP'), ('ward', 'NOUN'), ('election', 'NOUN'), ('company', 'NOUN'), ('antitrust', 'ADJ'), ('0', 'X'), ('german', 'ADJ'), ('acres', 'NOUN'), ('*u*', 'X'), ('.', '.'), ('.', '.'), ('despite', 'ADP'), ('alan', 'NOUN'), ('prices', 'NOUN'), ('a', 'DET'), ('same', 'ADJ'), ('insurance', 'NOUN'), ('150,000', '.'), ('*u*', 'X'), ('program', 'NOUN'), ('integration', 'NOUN'), ('the', 'DET'), ('new', 'ADJ'), ('at', 'ADP'), (',', '.'), ('it', 'PRON'), ('research', 'NOUN'), (',', '.'), ('romance', 'NOUN'), ('*t*-2', 'X'), ('a', 'DET'), ('in', 'ADP'), ('65', 'NUM'), ('like', 'ADP'), ('she', 'PRON'), ('the', 'DET'), ('takes', 'VERB'), ('million', 'NUM'), ('neighbors', '.'), ('shares', 'NOUN'), ('consulting', 'NOUN'), ('--', '.'), ('state', 'NOUN'), ('because', 'ADP'), ('questions', 'NOUN'), ('or', 'CONJ'), ('i', 'PRON'), ('50', 'NUM'), ('*t*-1', 'X'), ('is', 'VERB'), (',', '.'), ('*-1', 'X'), (',', '.'), ('hahn', 'NOUN'), ('street', 'NOUN'), ('very', 'ADV'), ('take', 'VERB'), ('often', 'ADV'), ('prime', 'NOUN'), ('year', 'NOUN'), ('*u*', 'X'), ('thursday', 'NOUN'), ('newspaper', 'NOUN'), ('useful', 'ADJ'), ('effect', 'NOUN'), ('funds', 'NOUN'), ('data', 'NOUN'), ('31', 'NUM'), ('trades', 'NOUN'), (',', '.'), ('up', 'PRT'), ('long', 'ADJ'), ('a', 'DET'), ('a', 'DET'), ('.', '.'), ('does', 'VERB'), (',', '.')]\n"
     ]
    }
   ],
   "source": [
    "print(\"Time taken in seconds: \", difference)\n",
    "print(tagged_seq)"
   ]
  },
  {
   "cell_type": "code",
   "execution_count": 72,
   "metadata": {},
   "outputs": [],
   "source": [
    "# creating a list of word-tag pairs that have been tagged correctly \n",
    "\n",
    "correctly_tagged_pairs = [i for i, j in zip(tagged_seq, zip(validation_words, validation_tags)) if i == j] "
   ]
  },
  {
   "cell_type": "code",
   "execution_count": 73,
   "metadata": {},
   "outputs": [
    {
     "data": {
      "text/plain": [
       "0.8969010727056019"
      ]
     },
     "execution_count": 73,
     "metadata": {},
     "output_type": "execute_result"
    }
   ],
   "source": [
    "#Checking the percentage of words that were tagged correctly\n",
    "\n",
    "accuracy = len(correctly_tagged_pairs)/len(tagged_seq)\n",
    "accuracy"
   ]
  },
  {
   "cell_type": "markdown",
   "metadata": {},
   "source": [
    "#### Let's take a look at the words that have been tagged incorrectly"
   ]
  },
  {
   "cell_type": "code",
   "execution_count": 77,
   "metadata": {},
   "outputs": [],
   "source": [
    "# creating a list of word-tag pairs that have been tagged incorrectly \n",
    "\n",
    "incorrectly_tagged_pairs = [i for i, j in zip(tagged_seq, zip(validation_words, validation_tags)) if i != j] "
   ]
  },
  {
   "cell_type": "code",
   "execution_count": 80,
   "metadata": {},
   "outputs": [
    {
     "data": {
      "text/plain": [
       "[('.', 331), ('NOUN', 62), ('ADJ', 47)]"
      ]
     },
     "execution_count": 80,
     "metadata": {},
     "output_type": "execute_result"
    }
   ],
   "source": [
    "# Checking which tag appears most frequently in the list of incorrectly tagged words\n",
    "\n",
    "Counter([i[1] for i in incorrectly_tagged_pairs]).most_common(3)"
   ]
  },
  {
   "cell_type": "markdown",
   "metadata": {},
   "source": [
    "#### '.' is the tag that appears most frequently in the list of incorrectly tagged words. This is because, '.' is the first tag in the POS tags list, and the vanilla viterbi algorithm assigns this tag for unknown words"
   ]
  },
  {
   "cell_type": "code",
   "execution_count": 81,
   "metadata": {},
   "outputs": [
    {
     "data": {
      "text/plain": [
       "1238"
      ]
     },
     "execution_count": 81,
     "metadata": {},
     "output_type": "execute_result"
    }
   ],
   "source": [
    "#Triggering garbage collection\n",
    "gc.collect()"
   ]
  },
  {
   "cell_type": "markdown",
   "metadata": {},
   "source": [
    "### Solving the problem of unknown words"
   ]
  },
  {
   "cell_type": "markdown",
   "metadata": {},
   "source": [
    "### 2. Using the most commonly occurring tag in the train set"
   ]
  },
  {
   "cell_type": "markdown",
   "metadata": {},
   "source": [
    "Since '.' is the most commonly occurring tag in the list of incorrectly tagged words, let's insert the most commonly occurring tag in the train set for unknown words."
   ]
  },
  {
   "cell_type": "code",
   "execution_count": 85,
   "metadata": {},
   "outputs": [
    {
     "name": "stdout",
     "output_type": "stream",
     "text": [
      "[('NOUN', 27481)]\n",
      "95642\n",
      "NOUN\n"
     ]
    }
   ],
   "source": [
    "#Creating a list of tags in the train set\n",
    "tags_in_train_set = [pair[1] for pair in train_set]\n",
    "\n",
    "#Using the Counter() class to count how many times each tag appears in the train set\n",
    "tag_counts = Counter(tags_in_train_set)\n",
    "\n",
    "#Finding the most common POS tag in the train set\n",
    "most_common_tag = tag_counts.most_common(1)[0][0]\n",
    "\n",
    "#Comparing the number of tags in the train set and the number of occurrences of the most common tag\n",
    "print(tag_counts.most_common(1))\n",
    "print(len(tags_in_train_set))\n",
    "print(most_common_tag)"
   ]
  },
  {
   "cell_type": "code",
   "execution_count": 86,
   "metadata": {},
   "outputs": [],
   "source": [
    "# Using the Viterbi heuristic and assigning the most common tag for words that are not present in the train set\n",
    "\n",
    "def Viterbi_2(words):\n",
    "    #initialising a list to store the tag with the max state probability for each word\n",
    "    tags_list = []\n",
    "    \n",
    "    for key, word in enumerate(words):\n",
    "        \n",
    "        if word in Vocab:\n",
    "        \n",
    "            #initialising a list to calculate state probability for all tags for each word\n",
    "            prob_list = []\n",
    "\n",
    "            for tag in POS_tags:\n",
    "                if key == 0:\n",
    "                    transition_p = tags_df.loc['.', tag]\n",
    "                else:\n",
    "                    transition_p = tags_df.loc[tags_list[-1], tag]\n",
    "\n",
    "                # calculating the emission probability for the current word and tag\n",
    "                emission_p = word_given_tag(words[key], tag)[0]/word_given_tag(words[key], tag)[1]\n",
    "                \n",
    "                # computing the state probability for the current word and tag\n",
    "                state_probability = emission_p * transition_p    \n",
    "\n",
    "                # appending state probability to list of state probabilities for current word and tag\n",
    "                prob_list.append(state_probability)\n",
    "\n",
    "            # finding the max state probability for this word\n",
    "            prob_max = max(prob_list)\n",
    "            \n",
    "            # getting the tag with the max state probability for this word\n",
    "            tag_with_max_state_prob = POS_tags[prob_list.index(prob_max)] \n",
    "            tags_list.append(tag_with_max_state_prob)\n",
    "        \n",
    "        else:\n",
    "            tags_list.append(most_common_tag)\n",
    "        \n",
    "    return list(zip(words, tags_list))"
   ]
  },
  {
   "cell_type": "markdown",
   "metadata": {},
   "source": [
    "#### Using this modified alogrithm to tag the words in the validation set"
   ]
  },
  {
   "cell_type": "code",
   "execution_count": 87,
   "metadata": {},
   "outputs": [],
   "source": [
    "# tagging the test sentences\n",
    "start_2 = time.time()\n",
    "tagged_seq_2 = Viterbi_2(validation_words)\n",
    "end_2 = time.time()\n",
    "difference_2 = end_2 - start_2"
   ]
  },
  {
   "cell_type": "code",
   "execution_count": 88,
   "metadata": {},
   "outputs": [
    {
     "name": "stdout",
     "output_type": "stream",
     "text": [
      "Time taken in seconds:  1474.4693160057068\n",
      "[('61', 'NUM'), ('noodles', 'NOUN'), ('tokyo', 'NOUN'), ('the', 'DET'), ('buy', 'VERB'), ('beginning', 'VERB'), ('of', 'ADP'), ('circulation', 'NOUN'), ('bill', 'NOUN'), ('account', 'NOUN'), ('of', 'ADP'), ('``', '.'), ('a', 'DET'), ('*-2', 'X'), ('persuasive', 'NOUN'), ('*', 'X'), ('traders', 'NOUN'), ('over', 'ADP'), ('a', 'DET'), ('a', 'DET'), ('*-1', 'X'), ('there', 'DET'), ('miami', 'NOUN'), (',', '.'), ('hefty', 'ADJ'), (\"'s\", 'PRT'), ('be', 'VERB'), ('noting', 'VERB'), ('1990', 'NUM'), ('stores', 'NOUN'), ('of', 'ADP'), ('*t*-133', 'NOUN'), ('estimated', 'VERB'), ('company', 'NOUN'), ('of', 'ADP'), ('talks', 'NOUN'), ('4.6', 'NUM'), ('japanese', 'ADJ'), ('due', 'ADJ'), ('*rnr*-1', 'X'), ('comment', 'NOUN'), ('a.l.', 'NOUN'), ('of', 'ADP'), (',', '.'), ('.', '.'), ('the', 'DET'), ('concern', 'NOUN'), ('of', 'ADP'), ('they', 'PRON'), ('of', 'ADP'), ('reached', 'VERB'), ('april', 'NOUN'), ('helped', 'VERB'), ('exact', 'ADJ'), ('form', 'NOUN'), ('his', 'PRON'), ('would', 'VERB'), (',', '.'), ('major', 'ADJ'), ('markdown', 'NOUN'), ('3648.82', 'NOUN'), ('construction', 'NOUN'), ('to', 'PRT'), (',', '.'), ('said', 'VERB'), (',', '.'), (',', '.'), ('was', 'VERB'), ('case', 'NOUN'), ('*-1', 'X'), ('differences', 'NOUN'), ('the', 'DET'), (',', '.'), ('wanted', 'VERB'), ('things', 'NOUN'), ('sharply', 'ADV'), ('financier', 'NOUN'), ('and', 'CONJ'), ('in', 'ADP'), ('are', 'VERB'), ('.', '.'), (\"'s\", 'PRT'), ('in', 'ADP'), ('advantage', 'NOUN'), ('place', 'NOUN'), ('0', 'X'), ('milk', 'NOUN'), ('wayne', 'NOUN'), ('million', 'NUM'), ('evaluated', 'NOUN'), ('onto', 'ADP'), ('altruistic', 'NOUN'), ('quarterly', 'ADJ'), ('the', 'DET'), ('inc.', 'NOUN'), ('how', 'ADV'), ('million', 'NUM'), ('a', 'DET'), ('*-2', 'X'), ('100-share', 'ADJ'), ('charles', 'NOUN'), ('.', '.'), ('to', 'PRT'), ('chief', 'NOUN'), ('posting', 'VERB'), ('in', 'ADP'), ('in', 'ADP'), ('the', 'DET'), ('10.5', 'NOUN'), ('is', 'VERB'), ('the', 'DET'), ('dollars', 'NOUN'), ('portrayed', 'NOUN'), ('*-1', 'X'), ('of', 'ADP'), ('ill.', 'NOUN'), ('to', 'PRT'), ('at', 'ADP'), ('chief', 'NOUN'), (',', '.'), ('*t*-2', 'X'), ('inside', 'NOUN'), ('offering', 'NOUN'), ('customers', 'NOUN'), ('impact', 'NOUN'), ('refused', 'VERB'), ('was', 'VERB'), ('*t*-93', 'NOUN'), ('of', 'ADP'), ('and', 'CONJ'), ('and', 'CONJ'), ('even', 'ADV'), ('more', 'ADJ'), ('and', 'CONJ'), ('the', 'DET'), ('n.j.', 'NOUN'), ('than', 'ADP'), ('government', 'NOUN'), ('lights', 'NOUN'), ('aid', 'NOUN'), ('would', 'VERB'), ('.', '.'), ('shares', 'NOUN'), ('*t*-161', 'NOUN'), ('announced', 'VERB'), ('of', 'ADP'), ('give', 'VERB'), ('consecutive', 'ADJ'), ('factors', 'NOUN'), ('in', 'ADP'), ('planes', 'NOUN'), ('be', 'VERB'), (',', '.'), ('haul', 'NOUN'), ('individual', 'ADJ'), ('the', 'DET'), ('and', 'CONJ'), ('valley', 'NOUN'), ('eveready', 'NOUN'), ('*', 'X'), ('also', 'ADV'), ('whiting', 'NOUN'), ('at&t', 'NOUN'), ('acted', 'NOUN'), ('``', '.'), ('0', 'X'), (';', '.'), ('.', '.'), ('0', 'X'), ('operations', 'NOUN'), ('it', 'PRON'), ('for', 'ADP'), ('influence', 'NOUN'), ('was', 'VERB'), ('disregard', 'NOUN'), ('himself', 'PRON'), ('-lrb-', '.'), ('the', 'DET'), ('sharply', 'ADV'), ('case', 'NOUN'), ('the', 'DET'), ('up', 'PRT'), ('radio', 'NOUN'), ('and', 'CONJ'), ('value', 'NOUN'), ('filters', 'NOUN'), ('at', 'ADP'), ('.', '.'), ('a', 'DET'), ('do', 'VERB'), ('department', 'NOUN'), ('referrals', 'NOUN'), ('the', 'DET'), ('watchdogs', 'NOUN'), ('then-speaker', 'NOUN'), ('get', 'VERB'), ('and', 'CONJ'), ('up', 'PRT'), ('term', 'NOUN'), ('deficit', 'NOUN'), ('it', 'PRON'), ('tell', 'NOUN'), ('managers', 'NOUN'), ('farmers', 'NOUN'), ('heavily', 'ADV'), ('justices', 'NOUN'), ('educational', 'ADJ'), ('sale', 'NOUN'), ('sue', 'NOUN'), ('its', 'PRON'), (',', '.'), ('members', 'NOUN'), ('to', 'PRT'), ('lot', 'NOUN'), ('annual', 'ADJ'), ('further', 'ADJ'), ('markets', 'NOUN'), ('*-1', 'X'), ('evidence', 'NOUN'), ('gulf', 'NOUN'), ('an', 'DET'), ('of', 'ADP'), ('card', 'NOUN'), ('.', '.'), ('schoolchildren', 'NOUN'), ('a', 'DET'), ('the', 'DET'), ('to', 'PRT'), ('on', 'ADP'), ('would', 'VERB'), ('of', 'ADP'), (',', '.'), ('global', 'ADJ'), ('*-2', 'X'), ('as', 'ADP'), ('christmas', 'NOUN'), ('stressing', 'VERB'), ('it', 'PRON'), ('careers', 'NOUN'), ('experience', 'NOUN'), ('club', 'NOUN'), ('.', '.'), ('while', 'ADP'), ('the', 'DET'), (',', '.'), ('shops', 'NOUN'), ('if', 'ADP'), ('problems', 'NOUN'), ('*t*-1', 'X'), ('few', 'ADJ'), ('the', 'DET'), ('percentage', 'NOUN'), ('.', '.'), ('the', 'DET'), ('lieberman', 'NOUN'), ('continue', 'VERB'), ('initiating', 'NOUN'), ('0', 'X'), ('light', 'ADJ'), ('a', 'DET'), ('familiar', 'ADJ'), ('investors', 'NOUN'), ('of', 'ADP'), ('be', 'VERB'), (',', '.'), ('.', '.'), (',', '.'), (\"'s\", 'PRT'), ('the', 'DET'), ('oshkosh', 'NOUN'), ('concerns', 'NOUN'), ('with', 'ADP'), ('miles', 'NOUN'), ('%', 'NOUN'), ('*t*-2', 'X'), ('with', 'ADP'), ('management', 'NOUN'), ('before', 'ADP'), ('example', 'NOUN'), ('make', 'VERB'), ('8.48', 'NOUN'), ('interesting', 'ADJ'), ('different', 'ADJ'), ('of', 'ADP'), ('exit', 'NOUN'), ('0', 'X'), ('bush', 'NOUN'), (',', '.'), ('.', '.'), ('he', 'PRON'), ('50-50', 'NOUN'), ('losses', 'NOUN'), ('gave', 'VERB'), ('fifteen', 'NOUN'), ('-rrb-', '.'), ('river', 'NOUN'), ('*t*-165', 'NOUN'), ('district', 'NOUN'), ('as', 'ADP'), ('goes', 'VERB'), ('billion', 'NUM'), ('sales', 'NOUN'), (',', '.'), ('bidding', 'NOUN'), ('other', 'ADJ'), ('.', '.'), ('decrease', 'VERB'), ('shares', 'NOUN'), ('match', 'NOUN'), ('to', 'PRT'), ('due', 'ADJ'), ('software', 'NOUN'), (',', '.'), ('year', 'NOUN'), ('rose', 'VERB'), ('been', 'VERB'), ('*t*-2', 'X'), ('wage', 'NOUN'), ('at', 'ADP'), ('news', 'NOUN'), ('.', '.'), ('traditionally', 'ADV'), ('*u*', 'X'), (\"'s\", 'PRT'), ('international', 'NOUN'), (\"n't\", 'ADV'), ('operations', 'NOUN'), ('as', 'ADP'), ('.', '.'), ('their', 'PRON'), ('say', 'VERB'), ('week', 'NOUN'), ('.', '.'), ('a', 'DET'), ('if', 'ADP'), ('survey', 'NOUN'), ('contradictions', 'NOUN'), ('while', 'ADP'), ('developments', 'NOUN'), ('frankfurt', 'NOUN'), ('of', 'ADP'), ('the', 'DET'), ('the', 'DET'), ('supercomputer', 'NOUN'), ('*-1', 'X'), ('get', 'VERB'), ('government', 'NOUN'), ('pace', 'NOUN'), ('the', 'DET'), ('in', 'ADP'), (\"'s\", 'PRT'), ('been', 'VERB'), (',', '.'), (',', '.'), ('hit', 'VERB'), ('reading', 'NOUN'), ('.', '.'), ('in', 'ADP'), ('said', 'VERB'), ('.', '.'), ('barely', 'NOUN'), ('returned', 'VERB'), ('international', 'NOUN'), ('drugs', 'NOUN'), ('power', 'NOUN'), ('drop', 'NOUN'), ('but', 'CONJ'), ('new', 'ADJ'), ('most', 'ADJ'), ('cents', 'NOUN'), ('are', 'VERB'), ('corp.', 'NOUN'), ('growth', 'NOUN'), ('to', 'PRT'), ('are', 'VERB'), ('the', 'DET'), (\"'s\", 'PRT'), ('to', 'PRT'), ('student', 'NOUN'), ('market', 'NOUN'), (',', '.'), ('east', 'NOUN'), ('the', 'DET'), ('points', 'NOUN'), ('scenes', 'NOUN'), ('associated', 'VERB'), ('50,000', 'NUM'), ('ftc', 'NOUN'), ('right', 'NOUN'), ('a', 'DET'), ('cabernet', 'NOUN'), ('because', 'ADP'), ('financial', 'ADJ'), ('trotter', 'NOUN'), ('year', 'NOUN'), ('%', 'NOUN'), ('a', 'DET'), ('to', 'PRT'), ('*-1', 'X'), ('withdrawal', 'NOUN'), (',', '.'), ('.', '.'), ('there', 'DET'), ('tunes', 'NOUN'), ('*u*', 'X'), ('will', 'VERB'), ('*t*-2', 'X'), (',', '.'), ('due', 'ADJ'), ('one', 'NUM'), ('could', 'VERB'), ('anti-abortionists', 'NOUN'), ('*', 'X'), ('declined', 'VERB'), ('cases', 'NOUN'), (',', '.'), ('housing', 'NOUN'), ('versions', 'NOUN'), ('in', 'ADP'), ('or', 'CONJ'), ('*-150', 'NOUN'), ('traditional', 'ADJ'), ('on', 'ADP'), ('a', 'DET'), ('saying', 'VERB'), ('$', '.'), ('now', 'ADV'), ('is', 'VERB'), ('.', '.'), (',', '.'), ('last', 'ADJ'), ('army', 'NOUN'), (':', '.'), ('been', 'VERB'), ('#', '.'), ('issue', 'NOUN'), ('0', 'X'), ('one', 'NUM'), ('bramalea', 'NOUN'), ('the', 'DET'), ('much', 'ADJ'), ('pleaded', 'VERB'), ('$', '.'), ('st.', 'NOUN'), ('in', 'ADP'), ('statement', 'NOUN'), ('economy', 'NOUN'), ('national', 'NOUN'), ('most', 'ADJ'), (\"'s\", 'PRT'), ('it', 'PRON'), ('&', 'CONJ'), (',', '.'), ('1979', 'NUM'), ('fails', 'VERB'), ('will', 'VERB'), ('which', 'DET'), ('because', 'ADP'), ('the', 'DET'), ('record', 'NOUN'), (',', '.'), ('228', 'NUM'), ('to', 'PRT'), ('the', 'DET'), (',', '.'), ('for', 'ADP'), ('50', 'NUM'), ('of', 'ADP'), ('near-limit', 'NOUN'), ('says', 'VERB'), ('but', 'CONJ'), ('evidence', 'NOUN'), ('takeover', 'NOUN'), ('the', 'DET'), ('factory', 'NOUN'), ('congress', 'NOUN'), ('u.s.', 'NOUN'), ('companies', 'NOUN'), ('confidence', 'NOUN'), ('sold', 'VERB'), ('regional', 'ADJ'), ('.', '.'), ('rubber', 'NOUN'), ('ground', 'NOUN'), ('a', 'DET'), ('was', 'VERB'), ('lungs', 'NOUN'), ('outsiders', 'NOUN'), ('they', 'PRON'), ('u.s.', 'NOUN'), ('staying', 'NOUN'), ('or', 'CONJ'), ('built', 'VERB'), ('audiocassettes', 'NOUN'), ('*u*', 'X'), ('the', 'DET'), ('department', 'NOUN'), ('that', 'ADP'), ('continuing', 'VERB'), ('.', '.'), ('average', 'ADJ'), ('and', 'CONJ'), ('49', 'NUM'), ('to', 'PRT'), ('swing', 'VERB'), ('adopted', 'VERB'), (\"n't\", 'ADV'), ('secretary', 'NOUN'), ('and', 'CONJ'), ('manufacturing', 'NOUN'), ('world', 'NOUN'), ('these', 'DET'), ('shares', 'NOUN'), ('billion', 'NUM'), ('that', 'ADP'), ('worker', 'NOUN'), ('farmers', 'NOUN'), ('0', 'X'), ('nonexecutive', 'ADJ'), ('exports', 'NOUN'), ('reports', 'NOUN'), (',', '.'), ('and', 'CONJ'), ('vicar', 'NOUN'), ('wanted', 'VERB'), ('no', 'DET'), ('*u*', 'X'), ('even', 'ADV'), ('export', 'NOUN'), ('slowly', 'ADV'), ('chief', 'NOUN'), ('office', 'NOUN'), ('increase', 'NOUN'), ('in', 'ADP'), ('not', 'ADV'), ('*u*', 'X'), ('the', 'DET'), (',', '.'), ('stand', 'VERB'), ('older', 'ADJ'), ('late', 'ADJ'), ('in', 'ADP'), (',', '.'), ('is', 'VERB'), ('end', 'NOUN'), ('before', 'ADP'), ('on', 'ADP'), ('mrs.', 'NOUN'), ('0', 'X'), ('and', 'CONJ'), ('contends', 'VERB'), ('was', 'VERB'), ('*t*-2', 'X'), ('*u*', 'X'), ('then', 'ADV'), ('that', 'ADP'), ('says', 'VERB'), ('for', 'ADP'), ('.', '.'), ('such', 'ADJ'), ('in', 'ADP'), ('1988', 'NUM'), ('tramp', 'NOUN'), ('taccetta', 'NOUN'), ('avoid', 'VERB'), ('already', 'ADV'), ('.', '.'), ('and', 'CONJ'), ('videocassette', 'NOUN'), ('*u*', 'X'), ('said', 'VERB'), ('small', 'ADJ'), ('other', 'ADJ'), ('.', '.'), ('effort', 'NOUN'), ('w.', 'NOUN'), ('but', 'CONJ'), ('drive', 'VERB'), ('fine', 'NOUN'), ('issues', 'NOUN'), ('.', '.'), ('on', 'ADP'), ('*-1', 'X'), ('*t*-12', 'X'), ('they', 'PRON'), ('numerous', 'ADJ'), ('the', 'DET'), ('a', 'DET'), ('the', 'DET'), ('*-1', 'X'), ('*', 'X'), ('of', 'ADP'), ('switch', 'VERB'), ('of', 'ADP'), ('*', 'X'), ('said', 'VERB'), ('*t*-51', 'X'), ('present', 'VERB'), ('1985', 'NUM'), ('number', 'NOUN'), ('as', 'ADP'), ('*-52', 'X'), ('regulators', 'NOUN'), (',', '.'), ('re-thought', 'NOUN'), ('gross', 'ADJ'), ('promises', 'VERB'), ('.', '.'), ('a', 'DET'), (',', '.'), ('of', 'ADP'), ('as', 'ADP'), ('championing', 'NOUN'), ('changed', 'VERB'), ('.', '.'), ('0', 'X'), ('the', 'DET'), ('0', 'X'), ('the', 'DET'), ('``', '.'), ('0', 'X'), ('entirely', 'ADV'), ('be', 'VERB'), ('$', '.'), ('in', 'ADP'), ('26,000', 'NOUN'), ('in', 'ADP'), ('ballot', 'NOUN'), ('kidney', 'NOUN'), ('not', 'ADV'), ('of', 'ADP'), ('before', 'ADP'), ('*-1', 'X'), ('river', 'NOUN'), ('.', '.'), ('trading', 'NOUN'), ('replaced', 'VERB'), ('the', 'DET'), ('would-be', 'NOUN'), ('or', 'CONJ'), ('li', 'NOUN'), ('male', 'NOUN'), (\"''\", '.'), ('to', 'PRT'), ('rose', 'VERB'), ('for', 'ADP'), ('world', 'NOUN'), ('traders', 'NOUN'), ('.', '.'), ('.', '.'), ('in', 'ADP'), ('it', 'PRON'), ('of', 'ADP'), ('*t*-159', 'NOUN'), ('that', 'ADP'), ('at', 'ADP'), ('public', 'ADJ'), ('veto', 'NOUN'), ('into', 'ADP'), ('pencil', 'NOUN'), ('will', 'VERB'), ('tax', 'NOUN'), ('in', 'ADP'), ('.', '.'), ('.', '.'), ('firings', 'NOUN'), ('the', 'DET'), ('it', 'PRON'), ('``', '.'), ('acquisition', 'NOUN'), (',', '.'), ('the', 'DET'), ('largest', 'ADJ'), ('reflected', 'VERB'), ('accused', 'VERB'), (\"n't\", 'ADV'), ('may', 'VERB'), ('new', 'ADJ'), ('3.3', 'NUM'), ('*t*-1', 'X'), ('transportation', 'NOUN'), ('get', 'VERB'), ('persons', 'NOUN'), ('broader', 'ADJ'), ('report', 'NOUN'), ('obtaining', 'NOUN'), ('of', 'ADP'), (',', '.'), ('students', 'NOUN'), (',', '.'), ('market-based', 'NOUN'), ('preference', 'NOUN'), ('price', 'NOUN'), ('street', 'NOUN'), ('traded', 'VERB'), ('the', 'DET'), ('.', '.'), (',', '.'), ('paper', 'NOUN'), (\"''\", '.'), ('silver', 'NOUN'), ('moreover', 'ADV'), ('few', 'ADJ'), ('very', 'ADV'), ('*-2', 'X'), ('but', 'CONJ'), ('pressure', 'NOUN'), ('and', 'CONJ'), ('a', 'DET'), ('the', 'DET'), ('investors', 'NOUN'), (\"''\", '.'), ('acquisition', 'NOUN'), (',', '.'), ('germany', 'NOUN'), ('.', '.'), (',', '.'), ('*', 'X'), ('would', 'VERB'), ('much', 'ADV'), ('from', 'ADP'), ('0', 'X'), ('dramatically', 'ADV'), ('vineyard', 'NOUN'), ('0', 'X'), ('violations', 'NOUN'), (',', '.'), ('of', 'ADP'), ('trend', 'NOUN'), ('knows', 'VERB'), ('shortage', 'NOUN'), ('voluntary', 'NOUN'), ('at', 'ADP'), ('.', '.'), ('for', 'ADP'), ('with', 'ADP'), ('.', '.'), (\"'s\", 'PRT'), ('*ich*-2', 'X'), ('crucial', 'NOUN'), ('increase', 'NOUN'), ('gains', 'NOUN'), ('steel', 'NOUN'), (',', '.'), ('transportation', 'NOUN'), ('been', 'VERB'), ('in', 'ADP'), ('dropped', 'VERB'), ('whose', 'PRON'), ('zaharah', 'NOUN'), ('reorganization', 'NOUN'), ('parents', 'NOUN'), ('impose', 'VERB'), ('mr.', 'NOUN'), ('months', 'NOUN'), ('will', 'VERB'), ('at', 'ADP'), ('705.6', 'NOUN'), ('cars', 'NOUN'), ('would', 'VERB'), ('section', 'NOUN'), ('``', '.'), ('.', '.'), (',', '.'), ('.', '.'), ('concerns', 'NOUN'), ('big', 'ADJ'), (',', '.'), ('the', 'DET'), ('prices', 'NOUN'), ('he', 'PRON'), ('in', 'ADP'), ('rectified', 'NOUN'), (':', '.'), ('*-1', 'X'), ('chip', 'NOUN'), ('given', 'VERB'), (\"'\", 'PRT'), ('a', 'DET'), ('``', '.'), ('those', 'DET'), ('.', '.'), (',', '.'), (',', '.'), ('were', 'VERB'), ('u.k.', 'NOUN'), ('at', 'ADP'), (',', '.'), ('both', 'DET'), ('odd', 'ADJ'), (',', '.'), ('today', 'NOUN'), ('the', 'DET'), ('have', 'VERB'), ('$', '.'), ('by', 'ADP'), ('and', 'CONJ'), ('places', 'NOUN'), ('ran', 'VERB'), ('by', 'ADP'), ('.', '.'), ('13', 'NUM'), (',', '.'), ('non-encapsulating', 'NOUN'), ('heads', 'VERB'), ('a', 'DET'), ('hills', 'NOUN'), ('with', 'ADP'), ('hand', 'NOUN'), ('*u*', 'X'), ('of', 'ADP'), ('conditions', 'NOUN'), ('1.76', 'NUM'), ('based', 'VERB'), ('is', 'VERB'), ('latter', 'NOUN'), ('veselich', 'NOUN'), ('put', 'VERB'), ('start', 'VERB'), ('says', 'VERB'), ('in', 'ADP'), ('.', '.'), ('is', 'VERB'), ('you', 'PRON'), (',', '.'), ('*?*', 'X'), ('sacramento', 'NOUN'), ('selected', 'VERB'), ('number', 'NOUN'), (',', '.'), ('to', 'PRT'), ('would', 'VERB'), ('america', 'NOUN'), ('predicting', 'VERB'), ('*-3', 'X'), ('florio', 'NOUN'), ('moscow', 'NOUN'), ('*-1', 'X'), ('peripheral', 'ADJ'), ('some', 'DET'), ('performance', 'NOUN'), ('can', 'VERB'), ('no', 'DET'), ('``', '.'), ('woolworth', 'NOUN'), ('bushel', 'NOUN'), ('to', 'PRT'), ('*t*-1', 'X'), ('problems', 'NOUN'), ('retaining', 'VERB'), ('a', 'DET'), (',', '.'), ('0', 'X'), ('``', '.'), ('pre-emptive', 'NOUN'), ('lazzaroni', 'NOUN'), ('chateau', 'NOUN'), ('over', 'ADP'), ('just', 'ADV'), ('in', 'ADP'), ('according', 'VERB'), ('of', 'ADP'), ('blue-chips', 'NOUN'), ('notably', 'ADV'), ('in', 'ADP'), ('quantitive', 'NOUN'), ('reached', 'VERB'), ('wide', 'ADJ'), ('the', 'DET'), ('when', 'ADV'), ('less', 'ADJ'), ('novel', 'NOUN'), ('the', 'DET'), ('a', 'DET'), ('untrue', 'NOUN'), ('jack', 'NOUN'), ('was', 'VERB'), ('people', 'NOUN'), ('to', 'PRT'), ('*t*-1', 'X'), ('most', 'ADJ'), ('.', '.'), ('decide', 'VERB'), ('.', '.'), ('form', 'NOUN'), ('until', 'ADP'), ('annually', 'ADV'), ('covered', 'VERB'), ('the', 'DET'), ('before', 'ADP'), ('n.y.', 'NOUN'), ('daily', 'ADJ'), ('intelogic', 'NOUN'), ('bankers', 'NOUN'), ('discontinue', 'NOUN'), (',', '.'), ('increased', 'VERB'), ('angeles', 'NOUN'), ('*', 'X'), ('yesterday', 'NOUN'), ('*-3', 'X'), ('value', 'NOUN'), ('join', 'VERB'), ('fail', 'VERB'), ('many', 'ADJ'), ('new', 'ADJ'), ('computers', 'NOUN'), ('whether', 'ADP'), ('1\\\\/4', 'NUM'), ('*t*-2', 'X'), ('*-155', 'NOUN'), ('will', 'VERB'), ('900', 'NUM'), ('and', 'CONJ'), ('lentjes', 'NOUN'), ('on', 'ADP'), ('shut', 'VERB'), ('can', 'VERB'), ('for', 'ADP'), ('than', 'ADP'), ('of', 'ADP'), (',', '.'), ('exporter', 'NOUN'), ('or', 'CONJ'), ('the', 'DET'), ('type', 'NOUN'), ('be', 'VERB'), ('solely', 'NOUN'), ('fall', 'NOUN'), ('me', 'PRON'), (',', '.'), ('u.s.', 'NOUN'), ('the', 'DET'), ('270', 'NUM'), ('sport-utility', 'NOUN'), (',', '.'), (\"'s\", 'PRT'), ('gelatin', 'NOUN'), ('1988', 'NUM'), ('it', 'PRON'), ('campaigning', 'NOUN'), ('on', 'ADP'), ('is', 'VERB'), ('iowa', 'NOUN'), ('two', 'NUM'), ('only', 'ADV'), ('be', 'VERB'), ('card', 'NOUN'), ('light', 'ADJ'), ('free', 'ADJ'), ('to', 'PRT'), ('to', 'PRT'), ('billion', 'NUM'), ('the', 'DET'), ('.', '.'), ('a', 'DET'), ('totally', 'NOUN'), ('-lrb-', '.'), ('a', 'DET'), ('offered', 'VERB'), ('the', 'DET'), ('japan', 'NOUN'), ('japanese', 'ADJ'), ('seem', 'VERB'), ('from', 'ADP'), ('their', 'PRON'), ('by', 'ADP'), ('internal', 'ADJ'), ('billion', 'NUM'), ('contain', 'VERB'), ('just', 'ADV'), ('.', '.'), ('islands', 'NOUN'), (':', '.'), ('it', 'PRON'), ('year-earlier', 'ADJ'), ('wait', 'VERB'), ('hospital', 'NOUN'), ('get', 'VERB'), ('all', 'DET'), ('market', 'NOUN'), ('its', 'PRON'), ('small', 'ADJ'), ('the', 'DET'), ('wage', 'NOUN'), ('to', 'PRT'), ('in', 'ADP'), ('%', 'NOUN'), (';', '.'), ('novello', 'NOUN'), ('degenerative', 'NOUN'), ('sony', 'NOUN'), ('to', 'PRT'), ('current-carrying', 'ADJ'), ('a', 'DET'), ('increases', 'NOUN'), ('futures', 'NOUN'), ('and', 'CONJ'), ('they', 'PRON'), (',', '.'), ('is', 'VERB'), ('he', 'PRON'), ('do', 'VERB'), ('*t*-19', 'X'), (',', '.'), ('bowman', 'NOUN'), ('lasting', 'NOUN'), ('zayed', 'NOUN'), ('test', 'NOUN'), ('estimates', 'NOUN'), ('a', 'DET'), ('co.', 'NOUN'), ('year', 'NOUN'), (',', '.'), ('of', 'ADP'), (',', '.'), ('mechanism', 'NOUN'), ('$', '.'), ('*-2', 'X'), ('resulting', 'VERB'), ('because', 'ADP'), ('own', 'ADJ'), ('of', 'ADP'), ('exchange', 'NOUN'), ('the', 'DET'), ('no', 'DET'), ('in', 'ADP'), ('*t*-43', 'X'), ('*-1', 'X'), ('arbitrage', 'NOUN'), ('fallen', 'VERB'), ('week', 'NOUN'), ('the', 'DET'), ('of', 'ADP'), ('address', 'VERB'), ('0', 'X'), ('the', 'DET'), ('the', 'DET'), ('was', 'VERB'), ('says', 'VERB'), ('mandates', 'NOUN'), ('if', 'ADP'), ('so', 'ADV'), ('cold', 'NOUN'), ('diversification', 'NOUN'), ('for', 'ADP'), ('retained', 'VERB'), ('said', 'VERB'), (\"n't\", 'ADV'), ('if', 'ADP'), ('bend', 'NOUN'), (',', '.'), ('*t*-247', 'NOUN'), ('but', 'CONJ'), ('in', 'ADP'), ('500', 'NUM'), ('declining', 'VERB'), ('trade', 'NOUN'), ('short', 'ADJ'), ('church', 'NOUN'), ('to', 'PRT'), (',', '.'), ('the', 'DET'), ('financial', 'ADJ'), ('ohio', 'NOUN'), ('conduct', 'NOUN'), ('his', 'PRON'), ('committee', 'NOUN'), ('.', '.'), ('book', 'NOUN'), ('companies', 'NOUN'), ('olympic', 'NOUN'), ('have', 'VERB'), ('escape', 'NOUN'), ('buildup', 'NOUN'), ('the', 'DET'), (',', '.'), ('reduce', 'VERB'), ('what', 'PRON'), ('in', 'ADP'), ('fund', 'NOUN'), ('economy', 'NOUN'), ('have', 'VERB'), ('leaves', 'VERB'), ('exceedingly', 'NOUN'), ('series', 'NOUN'), ('million', 'NUM'), (',', '.'), ('*t*-194', 'NOUN'), ('*t*-2', 'X'), ('.', '.'), ('weddings', 'NOUN'), ('questioned', 'NOUN'), ('by', 'ADP'), ('the', 'DET'), ('someone', 'NOUN'), ('competing', 'VERB'), ('.', '.'), ('packed', 'NOUN'), ('promise', 'NOUN'), ('.', '.'), ('*-1', 'X'), ('s&p', 'NOUN'), ('priced', 'VERB'), ('0', 'X'), ('failed', 'VERB'), ('to', 'PRT'), ('smith', 'NOUN'), ('garbage', 'NOUN'), ('.', '.'), ('10,000', 'NUM'), ('time', 'NOUN'), ('2.375', 'NOUN'), ('projector', 'NOUN'), ('mr.', 'NOUN'), ('*-1', 'X'), ('areas', 'NOUN'), ('is', 'VERB'), ('the', 'DET'), (',', '.'), ('from', 'ADP'), ('mood', 'NOUN'), ('for', 'ADP'), ('stars', 'NOUN'), ('norfolk', 'NOUN'), ('mrs.', 'NOUN'), ('group', 'NOUN'), ('do', 'VERB'), ('york', 'NOUN'), ('may', 'VERB'), ('the', 'DET'), ('put', 'VERB'), ('will', 'VERB'), ('picture', 'NOUN'), ('inched', 'VERB'), ('companies', 'NOUN'), ('packaging', 'NOUN'), ('neither', 'DET'), ('.', '.'), (',', '.'), ('an', 'DET'), (',', '.'), ('*t*-1', 'X'), ('as', 'ADP'), (\"''\", '.'), (',', '.'), ('loss', 'NOUN'), ('solidarity', 'NOUN'), (\"'s\", 'PRT'), ('maintain', 'VERB'), ('julia', 'NOUN'), ('to', 'PRT'), ('for', 'ADP'), ('serial', 'NOUN'), ('british', 'ADJ'), ('that', 'ADP'), ('*t*-2', 'X'), ('drobnick', 'NOUN'), ('tuesday', 'NOUN'), ('surprised', 'VERB'), ('in', 'ADP'), ('the', 'DET'), ('and', 'CONJ'), ('futures', 'NOUN'), ('15', 'NUM'), ('unfair', 'ADJ'), (',', '.'), ('people', 'NOUN'), ('0', 'X'), ('with', 'ADP'), ('is', 'VERB'), ('kind', 'NOUN'), ('to', 'PRT'), ('*-1', 'X'), ('in', 'ADP'), ('``', '.'), ('of', 'ADP'), ('next', 'ADJ'), ('*', 'X'), ('dallara', 'NOUN'), ('two', 'NUM'), ('nine', 'NUM'), ('.', '.'), ('stamford', 'NOUN'), ('is', 'VERB'), (\"'d\", 'VERB'), ('bedding', 'NOUN'), ('i', 'PRON'), ('.', '.'), ('today', 'NOUN'), ('reforms', 'NOUN'), ('nemeth', 'NOUN'), ('the', 'DET'), ('*-1', 'X'), ('the', 'DET'), ('in', 'ADP'), ('armed', 'NOUN'), ('in', 'ADP'), ('also', 'ADV'), ('bob', 'NOUN'), ('``', '.'), ('the', 'DET'), ('which', 'DET'), ('the', 'DET'), ('an', 'DET'), ('accomplishments', 'NOUN'), ('totaled', 'VERB'), ('the', 'DET'), ('return', 'NOUN'), (\"n't\", 'ADV'), ('1', 'NUM'), ('right', 'NOUN'), ('upjohn', 'NOUN'), (',', '.'), ('had', 'VERB'), ('english', 'NOUN'), (',', '.'), (',', '.'), ('30-day', 'ADJ'), ('yield', 'VERB'), ('the', 'DET'), ('could', 'VERB'), ('man', 'NOUN'), ('in', 'ADP'), ('machinery', 'NOUN'), ('swiftly', 'ADV'), ('mr.', 'NOUN'), ('favored', 'VERB'), ('to', 'PRT'), ('of', 'ADP'), ('the', 'DET'), ('that', 'ADP'), ('administration', 'NOUN'), ('the', 'DET'), ('.', '.'), ('place', 'NOUN'), ('noncompetitively', 'NOUN'), ('folks', 'NOUN'), ('the', 'DET'), ('or', 'CONJ'), (',', '.'), ('saudi', 'NOUN'), ('and', 'CONJ'), ('both', 'DET'), ('fiber', 'NOUN'), ('a', 'DET'), ('insurance', 'NOUN'), ('*', 'X'), ('were', 'VERB'), ('an', 'DET'), ('*t*-1', 'X'), ('dealers', 'NOUN'), ('of', 'ADP'), ('inc.', 'NOUN'), ('7.90', 'NUM'), ('are', 'VERB'), ('trade', 'NOUN'), ('sound', 'NOUN'), ('or', 'CONJ'), ('the', 'DET'), ('gains', 'NOUN'), ('earlier', 'ADJ'), ('the', 'DET'), ('increasing', 'VERB'), ('bank', 'NOUN'), (',', '.'), ('growing', 'VERB'), ('*', 'X'), ('columbia', 'NOUN'), ('difference', 'NOUN'), ('your', 'PRON'), ('money', 'NOUN'), ('lane', 'NOUN'), ('the', 'DET'), ('said', 'VERB'), ('end', 'NOUN'), ('telling', 'VERB'), ('70', 'NUM'), ('on', 'ADP'), ('quoting', 'NOUN'), (',', '.'), ('heavily', 'ADV'), ('of', 'ADP'), ('0', 'X'), ('the', 'DET'), ('beer-belly', 'NOUN'), ('particularly', 'ADV'), ('that', 'ADP'), ('a', 'DET'), ('monday', 'NOUN'), ('begins', 'VERB'), ('billion', 'NUM'), ('and', 'CONJ'), ('sells', 'VERB'), ('the', 'DET'), ('*t*-31', 'X'), ('all', 'DET'), ('be', 'VERB'), ('space', 'NOUN'), ('implicitly', 'NOUN'), ('raise', 'VERB'), ('hoffman', 'NOUN'), (\"'s\", 'PRT'), ('unfortunately', 'NOUN'), ('mr.', 'NOUN'), ('reviewing', 'NOUN'), ('soviet', 'ADJ'), ('zip', 'NOUN'), ('was', 'VERB'), ('effect', 'NOUN'), ('of', 'ADP'), (',', '.'), ('extended', 'VERB'), ('such', 'ADJ'), ('taxes', 'NOUN'), (\"''\", '.'), ('percentage', 'NOUN'), ('*-1', 'X'), (';', '.'), ('in', 'ADP'), (',', '.'), ('such', 'ADJ'), (\"'s\", 'PRT'), ('*-4', 'X'), ('*-1', 'X'), ('this', 'DET'), ('the', 'DET'), ('information', 'NOUN'), ('125', 'NUM'), ('assets', 'NOUN'), ('declined', 'VERB'), ('*-66', 'NOUN'), ('increases', 'NOUN'), ('republican', 'ADJ'), ('yesterday', 'NOUN'), ('local', 'ADJ'), ('the', 'DET'), ('japanese', 'ADJ'), ('feelings', 'NOUN'), ('0', 'X'), ('currently', 'ADV'), ('jonas', 'NOUN'), ('may', 'VERB'), ('have', 'VERB'), ('out', 'PRT'), ('quarters', 'NOUN'), ('0', 'X'), ('told', 'VERB'), ('and', 'CONJ'), ('normally', 'ADV'), ('the', 'DET'), ('aptitude', 'NOUN'), ('those', 'DET'), ('greatly', 'ADV'), ('of', 'ADP'), ('cars', 'NOUN'), ('.', '.'), ('*-2', 'X'), (',', '.'), ('of', 'ADP'), ('for', 'ADP'), ('a', 'DET'), (',', '.'), ('.', '.'), ('guffey', 'NOUN'), ('fired', 'VERB'), ('nl', 'NOUN'), ('probably', 'ADV'), ('88', 'NUM'), ('georgia-pacific', 'NOUN'), ('england', 'NOUN'), ('.', '.'), ('reflecting', 'VERB'), ('companies', 'NOUN'), ('facing', 'VERB'), ('the', 'DET'), ('his', 'PRON'), ('dealers', 'NOUN'), ('b.', 'NOUN'), ('mistakenly', 'NOUN'), ('a', 'DET'), ('added', 'VERB'), ('sell', 'VERB'), ('400', 'NUM'), ('.', '.'), ('instruments', 'NOUN'), ('the', 'DET'), ('individuals', 'NOUN'), ('trockenbeerenauslesen', 'NOUN'), ('blind', 'ADJ'), ('.', '.'), ('trading', 'NOUN'), ('.', '.'), ('a', 'DET'), ('polish', 'ADJ'), ('seeking', 'VERB'), ('of', 'ADP'), ('--', '.'), ('days', 'NOUN'), ('those', 'DET'), (',', '.'), ('467', 'NOUN'), ('*u*', 'X'), ('*t*-1', 'X'), ('service', 'NOUN'), (',', '.'), ('transaction', 'NOUN'), ('producing', 'VERB'), ('that', 'ADP'), ('was', 'VERB'), ('to', 'PRT'), ('who', 'PRON'), ('calif.', 'NOUN'), ('on', 'ADP'), ('not', 'ADV'), ('of', 'ADP'), ('test', 'NOUN'), ('members', 'NOUN'), ('by', 'ADP'), ('ringers', 'NOUN'), ('*', 'X'), ('bald-faced', 'NOUN'), ('0', 'X'), ('in', 'ADP'), ('co', 'NOUN'), ('two', 'NUM'), ('an', 'DET'), ('state', 'NOUN'), ('a', 'DET'), ('in', 'ADP'), ('purchasing', 'NOUN'), ('might', 'VERB'), ('they', 'PRON'), ('balls', 'NOUN'), ('them', 'PRON'), ('agriculture', 'NOUN'), ('for', 'ADP'), ('europe', 'NOUN'), ('``', '.'), ('.', '.'), ('as', 'ADP'), ('asking', 'VERB'), ('of', 'ADP'), ('funding', 'NOUN'), (\"o'neill\", 'NOUN'), ('and', 'CONJ'), ('it', 'PRON'), ('brownell', 'NOUN'), ('explorer', 'NOUN'), ('special', 'ADJ'), ('space', 'NOUN'), ('for', 'ADP'), ('last', 'ADJ'), ('said', 'VERB'), ('on', 'ADP'), ('*t*-1', 'X'), ('however', 'ADV'), ('layer', 'NOUN'), ('100', 'NUM'), ('4', 'NUM'), ('-lrb-', '.'), ('of', 'ADP'), ('was', 'VERB'), ('$', '.'), ('me', 'PRON'), ('*t*-77', 'NOUN'), ('when', 'ADV'), ('series', 'NOUN'), ('expanding', 'VERB'), ('firms', 'NOUN'), ('the', 'DET'), ('its', 'PRON'), ('%', 'NOUN'), ('said', 'VERB'), ('yield', 'VERB'), ('fairless', 'NOUN'), ('the', 'DET'), ('no', 'DET'), ('said', 'VERB'), ('been', 'VERB'), ('s.', 'NOUN'), ('force', 'NOUN'), ('they', 'PRON'), ('liability', 'NOUN'), ('mr.', 'NOUN'), ('of', 'ADP'), ('house', 'NOUN'), ('7.95', 'NUM'), ('*t*-2', 'X'), ('amount', 'NOUN'), ('with', 'ADP'), ('program', 'NOUN'), ('potential', 'ADJ'), ('*u*', 'X'), ('*t*-1', 'X'), ('*u*', 'X'), ('to', 'PRT'), ('funds', 'NOUN'), ('meaning', 'NOUN'), ('been', 'VERB'), ('clients', 'NOUN'), ('a', 'DET'), ('share', 'NOUN'), ('lung', 'NOUN'), ('commission', 'NOUN'), ('billion', 'NUM'), ('.', '.'), ('acid', 'NOUN'), ('well', 'ADV'), ('banks', 'NOUN'), ('deprived', 'NOUN'), ('with', 'ADP'), ('do', 'VERB'), (';', '.'), ('is', 'VERB'), ('.', '.'), ('rieslings', 'NOUN'), ('.', '.'), ('*-3', 'X'), ('an', 'DET'), (',', '.'), ('november', 'NOUN'), ('$', '.'), ('.', '.'), ('concern', 'NOUN'), ('rally', 'NOUN'), ('year', 'NOUN'), (',', '.'), ('the', 'DET'), ('of', 'ADP'), ('inc.', 'NOUN'), ('nations', 'NOUN'), ('playing', 'VERB'), ('111', 'NUM'), ('-lrb-', '.'), ('international', 'NOUN'), ('you', 'PRON'), ('to', 'PRT'), ('growing', 'VERB'), ('really', 'ADV'), ('reduce', 'VERB'), ('.', '.'), ('northeast', 'NOUN'), ('compound', 'NOUN'), ('have', 'VERB'), ('the', 'DET'), (',', '.'), ('example', 'NOUN'), ('railroad', 'NOUN'), ('hegemony', 'NOUN'), ('gain', 'NOUN'), ('the', 'DET'), ('the', 'DET'), ('orders', 'NOUN'), ('to', 'PRT'), ('has', 'VERB'), ('an', 'DET'), ('.', '.'), ('of', 'ADP'), ('public', 'ADJ'), ('plan', 'NOUN'), ('*', 'X'), ('to', 'PRT'), ('reading', 'NOUN'), ('*-1', 'X'), (\"''\", '.'), ('.', '.'), ('its', 'PRON'), ('life-insurance', 'NOUN'), ('corn', 'NOUN'), ('looming', 'VERB'), ('won', 'VERB'), (',', '.'), ('.', '.'), ('sell', 'VERB'), ('between', 'ADP'), ('securities', 'NOUN'), ('include', 'VERB'), ('other', 'ADJ'), ('million', 'NUM'), ('worth', 'NOUN'), ('to', 'PRT'), ('to', 'PRT'), ('faces', 'VERB'), ('crucial', 'NOUN'), ('of', 'ADP'), ('buyer', 'NOUN'), ('classes', 'NOUN'), ('year', 'NOUN'), ('view', 'NOUN'), ('criminal', 'ADJ'), ('because', 'ADP'), (',', '.'), ('but', 'CONJ'), ('have', 'VERB'), ('ought', 'VERB'), (',', '.'), ('common', 'ADJ'), ('costs', 'NOUN'), ('*-1', 'X'), ('for', 'ADP'), (',', '.'), ('said', 'VERB'), ('tests', 'NOUN'), ('continue', 'VERB'), ('pick', 'VERB'), ('stores', 'NOUN'), ('to', 'PRT'), ('the', 'DET'), ('mr.', 'NOUN'), ('law', 'NOUN'), ('of', 'ADP'), ('to', 'PRT'), ('.', '.'), ('*-2', 'X'), ('as', 'ADP'), ('mr.', 'NOUN'), ('of', 'ADP'), ('*-3', 'X'), ('a', 'DET'), ('sales', 'NOUN'), ('quarter', 'NOUN'), ('said', 'VERB'), ('tune', 'VERB'), ('salmore', 'NOUN'), ('leming', 'NOUN'), ('stage', 'NOUN'), ('the', 'DET'), ('spurred', 'VERB'), ('to', 'PRT'), ('economy', 'NOUN'), ('the', 'DET'), ('*-1', 'X'), ('mr.', 'NOUN'), ('depression', 'NOUN'), ('bell', 'NOUN'), ('buy', 'VERB'), ('the', 'DET'), ('nev.', 'NOUN'), ('.', '.'), ('workers', 'NOUN'), ('were', 'VERB'), ('after', 'ADP'), ('from', 'ADP'), ('if', 'ADP'), ('a', 'DET'), ('to', 'PRT'), ('.', '.'), ('%', 'NOUN'), ('on', 'ADP'), (\"n't\", 'ADV'), ('demands', 'NOUN'), ('just', 'ADV'), ('are', 'VERB'), ('co', 'NOUN'), ('500', 'NUM'), ('0', 'X'), ('university', 'NOUN'), ('del.', 'NOUN'), ('of', 'ADP'), ('begin', 'VERB'), ('latest', 'ADJ'), ('*-1', 'X'), ('over', 'ADP'), ('.', '.'), ('midwest', 'NOUN'), ('significantly', 'ADV'), ('.', '.'), ('and', 'CONJ'), (',', '.'), ('artist', 'NOUN'), ('clients', 'NOUN'), ('violations', 'NOUN'), ('court', 'NOUN'), (',', '.'), (',', '.'), ('shelf', 'NOUN'), ('problem', 'NOUN'), ('*-1', 'X'), ('chest', 'NOUN'), ('*-2', 'X'), ('veraldi', 'NOUN'), ('which', 'DET'), ('items', 'NOUN'), ('president', 'NOUN'), ('``', '.'), ('soviets', 'NOUN'), (',', '.'), (\"'s\", 'PRT'), ('strength', 'NOUN'), ('by', 'ADP'), ('.', '.'), ('listing', 'NOUN'), ('``', '.'), ('receipt', 'NOUN'), ('months', 'NOUN'), ('also', 'ADV'), ('us', 'PRON'), ('they', 'PRON'), (';', '.'), ('federal', 'ADJ'), ('free', 'ADJ'), ('past', 'ADJ'), ('international', 'NOUN'), ('this', 'DET'), ('.', '.'), ('to', 'PRT'), ('he', 'PRON'), ('the', 'DET'), ('on', 'ADP'), ('ca', 'VERB'), ('classroom', 'NOUN'), ('terms', 'NOUN'), ('can', 'VERB'), (\"n't\", 'ADV'), ('a', 'DET'), ('trucks', 'NOUN'), ('funds', 'NOUN'), ('few', 'ADJ'), ('mercury', 'NOUN'), ('the', 'DET'), ('structural', 'NOUN'), ('and', 'CONJ'), ('telerate', 'NOUN'), ('stock', 'NOUN'), ('to', 'PRT'), ('$', '.'), ('in', 'ADP'), ('.', '.'), ('japan', 'NOUN'), ('protests', 'NOUN'), ('an', 'DET'), ('mainland', 'NOUN'), ('319.75', 'NOUN'), ('both', 'DET'), ('issue', 'NOUN'), ('agreement', 'NOUN'), ('at', 'ADP'), ('the', 'DET'), ('writers', 'NOUN'), ('a', 'DET'), ('any', 'DET'), ('to', 'PRT'), ('about', 'ADP'), ('*', 'X'), ('and', 'CONJ'), ('*t*-2', 'X'), ('flag', 'NOUN'), ('such', 'ADJ'), ('hearst', 'NOUN'), ('asia', 'NOUN'), ('speculation', 'NOUN'), ('apparently', 'ADV'), ('the', 'DET'), (':', '.'), ('ringer', 'NOUN'), ('pay', 'VERB'), ('that', 'ADP'), ('a.l.', 'NOUN'), ('plans', 'VERB'), ('acquire', 'VERB'), ('.', '.'), ('we', 'PRON'), ('six-month', 'ADJ'), ('schools', 'NOUN'), ('conference', 'NOUN'), ('announcement', 'NOUN'), ('and', 'CONJ'), ('common', 'ADJ'), ('other', 'ADJ'), ('sino-u.s.', 'ADJ'), ('soviets', 'NOUN'), ('.', '.'), (\"'s\", 'PRT'), ('the', 'DET'), ('some', 'DET'), ('.', '.'), ('make', 'VERB'), ('largest', 'ADJ'), ('taiwan', 'NOUN'), ('18', 'NUM'), ('treasury', 'NOUN'), (\"n't\", 'ADV'), ('and', 'CONJ'), ('other', 'ADJ'), ('.', '.'), ('80.50', 'NOUN'), ('*', 'X'), (\"''\", '.'), ('increasing', 'VERB'), ('*-1', 'X'), ('two', 'NUM'), (',', '.'), ('.', '.'), ('*', 'X'), ('peter', 'NOUN'), ('*', 'X'), ('.', '.'), ('less-than-brilliant', 'NOUN'), ('markets', 'NOUN'), ('be', 'VERB'), ('sulaiman', 'NOUN'), ('not', 'ADV'), ('are', 'VERB'), ('was', 'VERB'), ('.', '.'), ('three', 'NUM'), ('bill', 'NOUN'), ('far', 'ADV'), ('9', 'NUM'), (',', '.'), ('*', 'X'), ('the', 'DET'), ('fraud', 'NOUN'), ('has', 'VERB'), ('in', 'ADP'), ('a', 'DET'), ('one', 'NUM'), ('tony', 'NOUN'), ('president', 'NOUN'), ('*t*-1', 'X'), ('the', 'DET'), ('they', 'PRON'), ('0', 'X'), ('only', 'ADV'), ('company', 'NOUN'), ('curry', 'NOUN'), ('.', '.'), (',', '.'), ('to', 'PRT'), ('*t*-3', 'X'), (',', '.'), ('holdings', 'NOUN'), (',', '.'), (',', '.'), (',', '.'), ('coleman', 'NOUN'), ('$', '.'), ('reported', 'VERB'), (',', '.'), ('choose', 'VERB'), ('at&t', 'NOUN'), ('0', 'X'), ('they', 'PRON'), ('valley', 'NOUN'), ('$', '.'), ('of', 'ADP'), ('.', '.'), ('in', 'ADP'), (\"''\", '.'), ('*', 'X'), ('from', 'ADP'), ('modestly', 'ADV'), ('go', 'VERB'), ('the', 'DET'), ('cataract', 'NOUN'), ('and', 'CONJ'), ('shares', 'NOUN'), ('complex', 'ADJ'), ('*-41', 'X'), ('strapped', 'NOUN'), ('situation', 'NOUN'), ('inc.', 'NOUN'), ('number', 'NOUN'), ('and', 'CONJ'), ('said', 'VERB'), ('recently', 'ADV'), ('in', 'ADP'), ('co.', 'NOUN'), ('profited', 'NOUN'), ('lacks', 'VERB'), ('transaction', 'NOUN'), (',', '.'), ('of', 'ADP'), ('%', 'NOUN'), ('are', 'VERB'), ('.', '.'), ('new', 'ADJ'), (',', '.'), ('passed', 'VERB'), ('six', 'NUM'), ('million', 'NUM'), ('as', 'ADP'), ('and', 'CONJ'), ('they', 'PRON'), (\"''\", '.'), ('and', 'CONJ'), ('asia', 'NOUN'), ('u.s.', 'NOUN'), ('30.6', 'NOUN'), ('the', 'DET'), ('$', '.'), ('to', 'PRT'), ('warning', 'VERB'), ('pcs', 'NOUN'), ('the', 'DET'), ('fully', 'ADV'), (',', '.'), ('u.s.', 'NOUN'), ('plan', 'NOUN'), ('relatively', 'ADV'), ('the', 'DET'), ('survey', 'NOUN'), ('whether', 'ADP'), ('american', 'NOUN'), ('years', 'NOUN'), ('.', '.'), ('their', 'PRON'), ('because', 'ADP'), ('*t*-1', 'X'), ('earn', 'VERB'), (\"''\", '.'), ('facilities', 'NOUN'), ('0', 'X'), ('yesterday', 'NOUN'), ('as', 'ADP'), ('.', '.'), ('half-hour', 'NOUN'), ('the', 'DET'), ('.', '.'), ('smothering', 'NOUN'), ('to', 'PRT'), ('recently', 'ADV'), ('.', '.'), ('president', 'NOUN'), ('as', 'ADP'), ('stock', 'NOUN'), ('%', 'NOUN'), ('*-1', 'X'), ('top', 'ADJ'), ('for', 'ADP'), ('bid', 'NOUN'), ('small', 'ADJ'), ('the', 'DET'), ('finally', 'ADV'), ('further', 'ADJ'), ('airline', 'NOUN'), ('of', 'ADP'), ('resembles', 'NOUN'), ('a', 'DET'), ('-lcb-', '.'), ('...', '.'), ('of', 'ADP'), ('they', 'PRON'), ('a', 'DET'), ('.', '.'), ('sometimes-exhausting', 'NOUN'), ('changes', 'NOUN'), ('*ppa*-2', 'X'), ('each', 'DET'), ('mich.', 'NOUN'), ('instructed', 'NOUN'), ('*', 'X'), ('a', 'DET'), ('assemble', 'NOUN'), (':', '.'), ('officials', 'NOUN'), ('by', 'ADP'), ('to', 'PRT'), ('wines', 'NOUN'), (\"'s\", 'PRT'), ('new', 'ADJ'), ('doctor', 'NOUN'), ('``', '.'), ('or', 'CONJ'), ('of', 'ADP'), ('of', 'ADP'), ('*t*-1', 'X'), ('the', 'DET'), ('america', 'NOUN'), ('spur', 'VERB'), ('pro-choice', 'ADJ'), ('an', 'DET'), ('a', 'DET'), ('like', 'ADP'), ('military', 'ADJ'), (',', '.'), (',', '.'), ('government', 'NOUN'), ('17', 'NUM'), ('in', 'ADP'), ('stations', 'NOUN'), ('follows', 'VERB'), ('accounts', 'NOUN'), ('without', 'ADP'), ('over-the-counter', 'ADJ'), ('outnumbered', 'NOUN'), ('will', 'VERB'), ('it', 'PRON'), ('with', 'ADP'), ('*t*-1', 'X'), ('penalties', 'NOUN'), ('away', 'ADV'), ('.', '.'), ('that', 'ADP'), ('*t*-1', 'X'), ('%', 'NOUN'), ('who', 'PRON'), ('volatile', 'ADJ'), ('to', 'PRT'), (',', '.'), ('*-1', 'X'), ('club', 'NOUN'), ('1903', 'NOUN'), ('england', 'NOUN'), ('*t*-1', 'X'), ('20', 'NUM'), (',', '.'), ('observance', 'NOUN'), ('traditionalists', 'NOUN'), ('others', 'NOUN'), ('officials', 'NOUN'), ('doing', 'VERB'), ('among', 'ADP'), ('new', 'ADJ'), ('mr.', 'NOUN'), ('would', 'VERB'), (',', '.'), ('attention', 'NOUN'), ('became', 'VERB'), ('telegraph', 'NOUN'), ('.', '.'), ('terms', 'NOUN'), ('*-1', 'X'), ('that', 'ADP'), ('*u*', 'X'), ('from', 'ADP'), ('recovered', 'VERB'), ('of', 'ADP'), ('about', 'ADP'), ('figure', 'VERB'), ('0', 'X'), ('semiconductors', 'NOUN'), ('progress', 'NOUN'), ('and', 'CONJ'), ('average', 'ADJ'), ('new', 'ADJ'), ('of', 'ADP'), ('basic', 'ADJ'), ('followed', 'VERB'), ('repeatedly', 'NOUN'), ('the', 'DET'), ('and', 'CONJ'), ('yesterday', 'NOUN'), ('of', 'ADP'), ('of', 'ADP'), ('explanatory', 'NOUN'), ('seymour', 'NOUN'), ('l.', 'NOUN'), ('containers', 'NOUN'), ('i', 'PRON'), ('new', 'ADJ'), ('media', 'NOUN'), ('and', 'CONJ'), ('*t*-1', 'X'), ('whether', 'ADP'), ('drawing', 'VERB'), ('the', 'DET'), ('*t*-202', 'NOUN'), ('with', 'ADP'), ('support', 'NOUN'), ('bring', 'VERB'), ('requires', 'VERB'), ('*', 'X'), ('in', 'ADP'), ('of', 'ADP'), ('scripts', 'NOUN'), ('bushels', 'NOUN'), ('association', 'NOUN'), ('million', 'NUM'), ('u.s.', 'NOUN'), ('150', 'NUM'), ('justice', 'NOUN'), ('*-1', 'X'), ('shares', 'NOUN'), (',', '.'), ('house', 'NOUN'), ('failed', 'VERB'), ('220.45', 'NOUN'), ('language', 'NOUN'), ('cdc', 'NOUN'), ('line', 'NOUN'), ('about', 'ADP'), ('$', '.'), ('investment', 'NOUN'), ('-lrb-', '.'), ('history', 'NOUN'), ('undisclosed', 'NOUN'), ('to', 'PRT'), ('princely', 'NOUN'), ('%', 'NOUN'), ('.', '.'), ('low', 'ADJ'), ('.', '.'), ('at', 'ADP'), ('safety', 'NOUN'), ('that', 'ADP'), ('%', 'NOUN'), ('were', 'VERB'), ('which', 'DET'), ('fetal-tissue', 'ADJ'), (',', '.'), ('national', 'NOUN'), ('moines', 'NOUN'), ('c.d.s', 'NOUN'), ('the', 'DET'), ('to', 'PRT'), (',', '.'), ('the', 'DET'), ('abuse', 'NOUN'), ('the', 'DET'), (\"'s\", 'PRT'), ('islands', 'NOUN'), ('being', 'VERB'), ('of', 'ADP'), ('fifth-grade', 'NOUN'), ('*ich*-1', 'X'), ('is', 'VERB'), ('opportunities', 'NOUN'), ('``', '.'), ('%', 'NOUN'), ('they', 'PRON'), ('said', 'VERB'), ('notes', 'NOUN'), ('dislike', 'NOUN'), ('in', 'ADP'), ('someone', 'NOUN'), ('of', 'ADP'), ('.', '.'), ('it', 'PRON'), ('current', 'ADJ'), ('through', 'ADP'), ('generate', 'NOUN'), ('*ich*-2', 'X'), ('extent', 'NOUN'), ('will', 'VERB'), ('below', 'ADP'), ('bigger', 'ADJ'), ('your', 'PRON'), ('7', 'NUM'), ('to', 'PRT'), ('broader', 'ADJ'), (',', '.'), ('0', 'X'), ('and', 'CONJ'), ('year', 'NOUN'), ('--', '.'), (',', '.'), ('japan', 'NOUN'), (\"'s\", 'PRT'), ('monthly', 'ADJ'), ('yen', 'NOUN'), ('were', 'VERB'), ('matters', 'NOUN'), ('graphs', 'NOUN'), ('on', 'ADP'), ('notes', 'NOUN'), ('brazil', 'NOUN'), ('*-1', 'X'), ('virgin', 'NOUN'), ('of', 'ADP'), ('at', 'ADP'), ('our', 'PRON'), ('after', 'ADP'), ('practice', 'NOUN'), ('awaits', 'NOUN'), ('*t*-2', 'X'), ('-rrb-', '.'), (',', '.'), ('including', 'VERB'), ('when', 'ADV'), ('*rnr*-2', 'X'), ('half', 'DET'), ('been', 'VERB'), ('of', 'ADP'), ('make', 'VERB'), ('.', '.'), (',', '.'), ('to', 'PRT'), ('unpopularity', 'NOUN'), ('reclaimed', 'NOUN'), ('in', 'ADP'), ('management', 'NOUN'), (\"'s\", 'PRT'), ('simmons', 'NOUN'), ('banks', 'NOUN'), ('the', 'DET'), ('has', 'VERB'), ('market', 'NOUN'), ('while', 'ADP'), ('world', 'NOUN'), ('of', 'ADP'), ('by', 'ADP'), ('law', 'NOUN'), ('a', 'DET'), ('attached', 'VERB'), ('country', 'NOUN'), ('framers', 'NOUN'), ('*ich*-2', 'X'), (',', '.'), ('who', 'PRON'), ('.', '.'), ('as', 'ADP'), ('added', 'VERB'), ('week', 'NOUN'), ('into', 'ADP'), ('a', 'DET'), ('*u*', 'X'), ('a', 'DET'), ('early', 'ADJ'), ('insisted', 'VERB'), ('d.', 'NOUN'), ('merit', 'NOUN'), ('have', 'VERB'), (\"''\", '.'), ('.', '.'), ('``', '.'), ('gains', 'NOUN'), ('proposal', 'NOUN'), (\"'s\", 'PRT'), ('run-down', 'ADJ'), ('difficult', 'ADJ'), ('a', 'DET'), ('was', 'VERB'), ('within', 'ADP'), ('priced', 'VERB'), ('was', 'VERB'), ('direct', 'ADJ'), ('that', 'ADP'), ('7\\\\/8', 'NUM'), ('*exp*-1', 'X'), ('*', 'X'), ('national', 'NOUN'), ('slip', 'NOUN'), ('mailed', 'NOUN'), ('corp.', 'NOUN'), ('by', 'ADP'), ('to', 'PRT'), ('owed', 'VERB'), ('said', 'VERB'), ('made', 'VERB'), ('is', 'VERB'), ('an', 'DET'), ('.', '.'), ('by', 'ADP'), ('*t*-198', 'NOUN'), ('form', 'NOUN'), ('ordered', 'VERB'), ('have', 'VERB'), ('stock', 'NOUN'), ('15', 'NUM'), ('common', 'ADJ'), ('the', 'DET'), ('of', 'ADP'), ('a', 'DET'), ('the', 'DET'), ('10', 'NUM'), ('the', 'DET'), ('trading', 'NOUN'), ('for', 'ADP'), ('ordered', 'VERB'), ('will', 'VERB'), ('of', 'ADP'), ('another', 'DET'), ('group', 'NOUN'), ('.', '.'), ('yon', 'NOUN'), ('and', 'CONJ'), ('$', '.'), ('number', 'NOUN'), ('orders', 'NOUN'), ('copper', 'NOUN'), ('stadium', 'NOUN'), ('shrinks', 'VERB'), ('fixed-rate', 'ADJ'), ('of', 'ADP'), ('*u*', 'X'), ('parallels', 'VERB'), ('hahn', 'NOUN'), ('of', 'ADP'), ('cut', 'VERB'), ('a', 'DET'), ('does', 'VERB'), ('show', 'NOUN'), ('0', 'X'), ('the', 'DET'), ('mergers', 'NOUN'), ('.', '.'), ('jack', 'NOUN'), ('of', 'ADP'), ('.', '.'), ('quitting', 'NOUN'), (',', '.'), ('terms', 'NOUN'), ('by', 'ADP'), ('said', 'VERB'), ('car', 'NOUN'), ('a', 'DET'), ('systems', 'NOUN'), ('mcgovern', 'NOUN'), ('financing', 'NOUN'), ('.', '.'), ('or', 'CONJ'), ('and', 'CONJ'), ('*-1', 'X'), ('more', 'ADJ'), ('of', 'ADP'), ('the', 'DET'), ('*', 'X'), ('expanded', 'VERB'), ('you', 'PRON'), ('courtroom', 'NOUN'), ('the', 'DET'), ('off', 'PRT'), ('new', 'ADJ'), ('mr.', 'NOUN'), ('purchase', 'NOUN'), ('*t*-1', 'X'), ('share', 'NOUN'), ('sauvignon', 'NOUN'), ('bridge', 'NOUN'), ('they', 'PRON'), (',', '.'), ('leader', 'NOUN'), ('at', 'ADP'), ('*t*-4', 'X'), ('.', '.'), ('the', 'DET'), ('short-term', 'ADJ'), ('*t*-1', 'X'), ('congress', 'NOUN'), ('4', 'NUM'), ('9.37', 'NOUN'), ('``', '.'), ('regarded', 'VERB'), ('as', 'ADP'), ('a.', 'NOUN'), ('as', 'ADP'), ('into', 'ADP'), ('junk-bond', 'NOUN'), ('publishing', 'NOUN'), ('and', 'CONJ'), ('to', 'PRT'), ('$', '.'), ('a', 'DET'), (',', '.'), ('however', 'ADV'), ('yesterday', 'NOUN'), ('at', 'ADP'), ('lessen', 'NOUN'), ('*t*-1', 'X'), (\"'s\", 'PRT'), ('caldor', 'NOUN'), ('about', 'ADP'), ('from', 'ADP'), ('his', 'PRON'), ('is', 'VERB'), ('for', 'ADP'), ('performance', 'NOUN'), ('but', 'CONJ'), ('been', 'VERB'), ('going', 'VERB'), ('has', 'VERB'), (',', '.'), ('serious', 'ADJ'), ('already', 'ADV'), ('to', 'PRT'), ('boosters', 'NOUN'), ('they', 'PRON'), ('62', 'NUM'), ('the', 'DET'), ('charles', 'NOUN'), ('mixed', 'VERB'), ('slowing', 'VERB'), ('lord', 'NOUN'), ('hurricane', 'NOUN'), ('violations', 'NOUN'), ('unit', 'NOUN'), ('japan', 'NOUN'), ('when', 'ADV'), ('one', 'NUM'), ('showed', 'VERB'), ('representative', 'NOUN'), ('democrats', 'NOUN'), ('launched', 'VERB'), ('trade', 'NOUN'), ('family', 'NOUN'), ('reflect', 'VERB'), ('into', 'ADP'), ('$', '.'), ('$', '.'), ('.', '.'), ('million', 'NUM'), ('let', 'VERB'), ('america', 'NOUN'), ('ual', 'NOUN'), ('is', 'VERB'), ('paris', 'NOUN'), ('in', 'ADP'), ('``', '.'), ('faultlessly', 'NOUN'), ('his', 'PRON'), ('asserts', 'NOUN'), ('*u*', 'X'), ('the', 'DET'), ('billion', 'NUM'), ('*t*-9', 'X'), ('casting', 'VERB'), ('of', 'ADP'), ('the', 'DET'), ('warning', 'NOUN'), ('china', 'NOUN'), ('market', 'NOUN'), ('of', 'ADP'), ('million', 'NUM'), (',', '.'), ('the', 'DET'), ('all', 'DET'), ('eastern', 'NOUN'), ('.', '.'), (',', '.'), ('recommended', 'NOUN'), ('in', 'ADP'), ('here', 'ADV'), ('shareholder-rights', 'NOUN'), (\"''\", '.'), ('.', '.'), ('if', 'ADP'), ('the', 'DET'), ('mortgage', 'NOUN'), ('over', 'ADP'), ('good', 'ADJ'), ('the', 'DET'), ('and', 'CONJ'), ('upheld', 'VERB'), ('heavily', 'ADV'), ('is', 'VERB'), ('in', 'ADP'), ('sheaf', 'NOUN'), ('victory', 'NOUN'), ('is', 'VERB'), ('the', 'DET'), ('a', 'DET'), (\"'re\", 'VERB'), (',', '.'), ('to', 'PRT'), ('arbitrage', 'NOUN'), ('two', 'NUM'), ('3\\\\/4', 'NUM'), ('action', 'NOUN'), ('.', '.'), (',', '.'), ('a', 'DET'), ('a', 'DET'), ('``', '.'), ('``', '.'), ('a', 'DET'), ('numbered', 'NOUN'), ('and', 'CONJ'), (\"''\", '.'), ('leaving', 'VERB'), ('tray', 'NOUN'), ('graduate', 'NOUN'), ('home', 'NOUN'), ('by', 'ADP'), ('falls', 'VERB'), ('acquisition', 'NOUN'), (',', '.'), ('u.s.', 'NOUN'), ('commission', 'NOUN'), ('government-funded', 'NOUN'), ('to', 'PRT'), (',', '.'), ('the', 'DET'), ('one', 'NUM'), ('to', 'PRT'), (\"'s\", 'PRT'), ('plan', 'NOUN'), ('widgets', 'NOUN'), ('fundamental', 'ADJ'), ('by', 'ADP'), ('the', 'DET'), ('to', 'PRT'), ('available', 'ADJ'), ('stability', 'NOUN'), ('at', 'ADP'), ('managing', 'VERB'), ('the', 'DET'), ('the', 'DET'), ('flat', 'ADJ'), (',', '.'), ('12', 'NUM'), ('a', 'DET'), ('are', 'VERB'), ('is', 'VERB'), ('largest', 'ADJ'), ('for', 'ADP'), ('in', 'ADP'), ('cray-3', 'NOUN'), ('maker', 'NOUN'), (':', '.'), ('this', 'DET'), ('processing', 'NOUN'), ('of', 'ADP'), ('wrestling', 'NOUN'), ('some', 'DET'), ('avid', 'NOUN'), ('or', 'CONJ'), ('case', 'NOUN'), ('open-end', 'NOUN'), ('to', 'PRT'), ('0', 'X'), ('plans', 'VERB'), ('to', 'PRT'), ('and', 'CONJ'), ('that', 'ADP'), ('points', 'NOUN'), ('i', 'PRON'), ('as', 'ADP'), ('sold', 'VERB'), ('will', 'VERB'), ('financial', 'ADJ'), ('above', 'ADP'), ('0', 'X'), ('moleculon', 'NOUN'), ('u.s.', 'NOUN'), (',', '.'), ('the', 'DET'), ('sold', 'VERB'), ('curbing', 'NOUN'), ('24', 'NUM'), ('but', 'CONJ'), ('the', 'DET'), ('*u*', 'X'), ('--', '.'), ('profitable', 'ADJ'), ('the', 'DET'), ('have', 'VERB'), ('a', 'DET'), ('manager', 'NOUN'), ('alive', 'ADJ'), ('classroom', 'NOUN'), ('this', 'DET'), ('for', 'ADP'), ('series', 'NOUN'), ('biscayne', 'NOUN'), ('starting', 'VERB'), ('to', 'PRT'), ('%', 'NOUN'), (',', '.'), ('capital', 'NOUN'), ('*u*', 'X'), ('.', '.'), ('strong', 'ADJ'), ('votes', 'NOUN'), ('money', 'NOUN'), ('investors', 'NOUN'), ('377.60', 'NOUN'), ('``', '.'), ('``', '.'), ('poor', 'NOUN'), ('the', 'DET'), ('public', 'ADJ'), ('or', 'CONJ'), ('many', 'ADJ'), ('by', 'ADP'), ('control', 'NOUN'), ('decline', 'NOUN'), ('transplants', 'NOUN'), ('reported', 'VERB'), ('considered', 'VERB'), ('firms', 'NOUN'), ('that', 'ADP'), ('and', 'CONJ'), (\"'s\", 'PRT'), ('*t*-1', 'X'), ('cents', 'NOUN'), (\"'s\", 'PRT'), ('1997', 'NOUN'), ('global', 'ADJ'), ('s&p', 'NOUN'), ('600', 'NUM'), ('*t*-1', 'X'), ('stand', 'VERB'), ('chief', 'NOUN'), ('globe', 'NOUN'), ('as', 'ADP'), ('in', 'ADP'), ('to', 'PRT'), ('edison', 'NOUN'), ('well', 'ADV'), ('wa', 'NOUN'), ('gulf', 'NOUN'), (',', '.'), ('extramarital', 'NOUN'), ('causing', 'VERB'), ('places', 'NOUN'), ('asbestos', 'NOUN'), ('still', 'ADV'), ('n.j.-based', 'NOUN'), ('vice', 'NOUN'), ('fees', 'NOUN'), ('separate', 'ADJ'), ('operation', 'NOUN'), ('billion', 'NUM'), ('from', 'ADP'), ('hills', 'NOUN'), ('farmers', 'NOUN'), ('they', 'PRON'), ('u.s.', 'NOUN'), ('shareholders', 'NOUN'), ('network', 'NOUN'), ('securities', 'NOUN'), ('of', 'ADP'), ('conduct', 'VERB'), ('he', 'PRON'), ('homeless', 'NOUN'), ('%', 'NOUN'), ('by', 'ADP'), ('economic', 'ADJ'), ('require', 'VERB'), ('a', 'DET'), (',', '.'), ('ingredients', 'NOUN'), ('have', 'VERB'), (',', '.'), ('hustlers', 'NOUN'), ('laws', 'NOUN'), ('japanese', 'ADJ'), ('banks', 'NOUN'), ('business', 'NOUN'), ('often', 'ADV'), ('as', 'ADP'), ('hudson', 'NOUN'), ('of', 'ADP'), ('.', '.'), ('7.20', 'NOUN'), ('such', 'ADJ'), ('*u*', 'X'), ('economics', 'NOUN'), ('chrysler', 'NOUN'), ('had', 'VERB'), ('mr.', 'NOUN'), ('jr.', 'NOUN'), ('miller', 'NOUN'), ('the', 'DET'), ('the', 'DET'), ('small', 'ADJ'), ('japan', 'NOUN'), ('it', 'PRON'), ('clears', 'NOUN'), ('able', 'ADJ'), ('network', 'NOUN'), ('.', '.'), ('colleagues', 'NOUN'), ('*-1', 'X'), ('.', '.'), (',', '.'), ('dividends', 'NOUN'), ('slowly', 'ADV'), ('of', 'ADP'), ('of', 'ADP'), ('plants', 'NOUN'), ('will', 'VERB'), ('drag-down', 'NOUN'), ('$', '.'), (',', '.'), ('to', 'PRT'), ('of', 'ADP'), ('no', 'DET'), (',', '.'), ('*-1', 'X'), ('to', 'PRT'), ('new', 'ADJ'), ('afternoon', 'NOUN'), ('nearly', 'ADV'), ('*', 'X'), ('value', 'NOUN'), ('program', 'NOUN'), ('or', 'CONJ'), ('to', 'PRT'), ('$', '.'), ('mr.', 'NOUN'), ('.', '.'), (',', '.'), ('because', 'ADP'), ('26', 'NUM'), ('transportation', 'NOUN'), ('spitler', 'NOUN'), ('canadian', 'ADJ'), ('banks', 'NOUN'), ('added', 'VERB'), ('are', 'VERB'), ('``', '.'), ('off', 'PRT'), ('and', 'CONJ'), ('*-1', 'X'), ('seeing', 'VERB'), ('10', 'NUM'), ('balance', 'NOUN'), ('a', 'DET'), ('.', '.'), ('the', 'DET'), ('ward', 'NOUN'), ('the', 'DET'), ('%', 'NOUN'), ('under', 'ADP'), (\"'s\", 'PRT'), (',', '.'), ('acting', 'NOUN'), ('of', 'ADP'), ('support', 'NOUN'), ('the', 'DET'), ('--', '.'), ('1.6', 'NUM'), (\"'\", 'PRT'), ('several', 'ADJ'), ('$', '.'), ('to', 'PRT'), ('suspended', 'VERB'), ('.', '.'), ('million', 'NUM'), ('i', 'PRON'), ('were', 'VERB'), ('that', 'ADP'), ('share', 'NOUN'), ('medical', 'ADJ'), ('about', 'ADP'), (',', '.'), ('investors', 'NOUN'), ('edwards', 'NOUN'), ('of', 'ADP'), ('*t*-32', 'X'), ('``', '.'), ('.', '.'), ('questions', 'NOUN'), (',', '.'), ('deal', 'NOUN'), ('payouts', 'NOUN'), ('for', 'ADP'), ('president', 'NOUN'), ('the', 'DET'), ('october', 'NOUN'), ('tender', 'NOUN'), ('bowl', 'NOUN'), ('in', 'ADP'), ('fare', 'VERB'), ('before', 'ADP'), ('authorized', 'NOUN'), ('the', 'DET'), ('the', 'DET'), ('as', 'ADP'), ('filling', 'VERB'), ('by', 'ADP'), ('for', 'ADP'), ('utsumi', 'NOUN'), ('paid', 'VERB'), ('1.5', 'NUM'), ('to', 'PRT'), ('increased', 'VERB'), ('of', 'ADP'), ('3\\\\/4', 'NUM'), ('.', '.'), ('makers', 'NOUN'), ('first', 'ADJ'), ('.', '.'), ('a', 'DET'), ('the', 'DET'), ('could', 'VERB'), ('contract', 'NOUN'), ('the', 'DET'), ('of', 'ADP'), ('immune', 'ADJ'), ('to', 'PRT'), ('company', 'NOUN'), ('*u*', 'X'), ('xiaoping', 'NOUN'), ('companies', 'NOUN'), ('within', 'ADP'), ('$', '.'), ('company', 'NOUN'), ('massachusetts', 'NOUN'), ('&', 'CONJ'), ('scheduled', 'VERB'), ('and', 'CONJ'), ('of', 'ADP'), ('1', 'NUM'), ('he', 'PRON'), ('7.8', 'NOUN'), ('this', 'DET'), ('is', 'VERB'), ('corp.', 'NOUN'), ('wilcox', 'NOUN'), ('had', 'VERB'), ('any', 'DET'), ('constitutional', 'ADJ'), (',', '.'), ('valuation', 'NOUN'), ('830,000', 'NOUN'), ('.', '.'), ('those', 'DET'), ('the', 'DET'), ('were', 'VERB'), ('its', 'PRON'), ('it', 'PRON'), ('plo', 'NOUN'), ('a', 'DET'), ('.', '.'), ('dismissed', 'VERB'), ('church', 'NOUN'), ('mcgovern', 'NOUN'), ('should', 'VERB'), (',', '.'), ('the', 'DET'), ('1\\\\/2', 'NUM'), ('or', 'CONJ'), ('challenge', 'NOUN'), ('garbage', 'NOUN'), ('spending', 'NOUN'), ('disciplinary', 'ADJ'), ('team', 'NOUN'), ('minister', 'NOUN'), ('some', 'DET'), ('16.9', 'NOUN'), ('still', 'ADV'), (\"'\", 'PRT'), ('expects', 'VERB'), ('.', '.'), ('until', 'ADP'), ('proceeds', 'NOUN'), ('from', 'ADP'), ('purchase', 'NOUN'), ('futures', 'NOUN'), ('easier', 'ADJ'), ('*-3', 'X'), ('because', 'ADP'), (',', '.'), ('net', 'ADJ'), ('fell', 'VERB'), ('from', 'ADP'), ('of', 'ADP'), ('mayor', 'NOUN'), ('a', 'DET'), ('joined', 'VERB'), ('0', 'X'), ('$', '.'), ('about', 'ADP'), ('for', 'ADP'), ('its', 'PRON'), ('.', '.'), ('rose', 'VERB'), ('to', 'PRT'), ('hampshire', 'NOUN'), ('irs', 'NOUN'), ('the', 'DET'), ('even', 'ADV'), ('identify', 'VERB'), ('sell', 'VERB'), ('at', 'ADP'), ('0', 'X'), ('the', 'DET'), ('issue', 'NOUN'), ('mortgage-backed', 'ADJ'), ('to', 'PRT'), ('have', 'VERB'), ('bowed', 'VERB'), ('the', 'DET'), ('might', 'VERB'), ('in', 'ADP'), ('the', 'DET'), ('cents', 'NOUN'), ('to', 'PRT'), ('of', 'ADP'), (',', '.'), ('abrupt', 'NOUN'), ('to', 'PRT'), ('13', 'NUM'), ('was', 'VERB'), ('number', 'NOUN'), ('fit', 'NOUN'), ('that', 'ADP'), ('day', 'NOUN'), ('*-59', 'X'), ('president', 'NOUN'), ('.', '.'), (\"'s\", 'PRT'), ('playing', 'VERB'), ('interior', 'NOUN'), ('kids', 'NOUN'), ('dunkin', 'NOUN'), ('*t*-1', 'X'), (\"'s\", 'PRT'), ('sketch', 'NOUN'), ('``', '.'), ('dreamed', 'NOUN'), ('to', 'PRT'), ('do', 'VERB'), (',', '.'), ('at', 'ADP'), ('exchange', 'NOUN'), ('widgets', 'NOUN'), ('sub-markets', 'NOUN'), ('or', 'CONJ'), ('.', '.'), ('*-1', 'X'), ('methods', 'NOUN'), ('days', 'NOUN'), ('who', 'PRON'), (',', '.'), ('creating', 'VERB'), ('$', '.'), ('who', 'PRON'), ('executives', 'NOUN'), ('for', 'ADP'), ('engaged', 'VERB'), ('at', 'ADP'), ('and', 'CONJ'), ('and', 'CONJ'), ('of', 'ADP'), ('*t*-1', 'X'), ('*-1', 'X'), ('further', 'ADJ'), ('92.9', 'NOUN'), (',', '.'), ('of', 'ADP'), ('had', 'VERB'), (',', '.'), ('to', 'PRT'), ('-rcb-', '.'), ('filed', 'VERB'), ('recent', 'ADJ'), ('post', 'NOUN'), ('heating', 'NOUN'), ('offer', 'NOUN'), (';', '.'), ('at', 'ADP'), ('wants', 'VERB'), ('*-1', 'X'), (',', '.'), ('theory', 'NOUN'), ('60', 'NUM'), ('.', '.'), ('ross', 'NOUN'), (',', '.'), ('and', 'CONJ'), ('a', 'DET'), ('.', '.'), ('even', 'ADV'), ('her', 'PRON'), ('rapanelli', 'NOUN'), ('up', 'PRT'), ('we', 'PRON'), ('he', 'PRON'), ('to', 'PRT'), ('.', '.'), (',', '.'), ('breaker', 'NOUN'), ('$', '.'), ('.', '.'), ('--', '.'), ('*t*-1', 'X'), ('terminated', 'VERB'), ('bangkok', 'NOUN'), (',', '.'), ('what', 'PRON'), ('knew', 'VERB'), ('state', 'NOUN'), ('of', 'ADP'), ('business', 'NOUN'), ('*t*-1', 'X'), ('so-called', 'ADJ'), ('it', 'PRON'), ('october', 'NOUN'), ('ways', 'NOUN'), ('*t*-26', 'X'), ('reuter', 'NOUN'), ('24', 'NUM'), ('.', '.'), ('fall', 'NOUN'), ('china', 'NOUN'), ('stand', 'VERB'), ('william', 'NOUN'), ('the', 'DET'), ('to', 'PRT'), ('hermitage', 'NOUN'), ('which', 'DET'), ('*-1', 'X'), ('to', 'PRT'), ('magazine', 'NOUN'), ('budget', 'NOUN'), ('dawn', 'NOUN'), ('squier', 'NOUN'), ('grain', 'NOUN'), ('a', 'DET'), ('sales', 'NOUN'), ('trades', 'NOUN'), ('auto-safety', 'NOUN'), ('she', 'PRON'), ('for', 'ADP'), ('stated', 'VERB'), ('a', 'DET'), ('boy', 'NOUN'), ('f.w.', 'NOUN'), ('program', 'NOUN'), ('co.', 'NOUN'), ('planned', 'VERB'), ('losing', 'VERB'), (',', '.'), ('*-2', 'X'), ('billion', 'NUM'), ('cat', 'NOUN'), ('that', 'ADP'), (\"'\", 'PRT'), (',', '.'), ('hands', 'NOUN'), ('grant', 'NOUN'), ('over', 'ADP'), ('the', 'DET'), ('to', 'PRT'), ('than', 'ADP'), ('*-1', 'X'), ('obligation', 'NOUN'), ('commission', 'NOUN'), ('.', '.'), ('its', 'PRON'), ('term', 'NOUN'), ('have', 'VERB'), ('she', 'PRON'), ('it', 'PRON'), ('his', 'PRON'), (',', '.'), ('american', 'NOUN'), ('in', 'ADP'), ('for', 'ADP'), (\"n't\", 'ADV'), ('numeral', 'NOUN'), ('with', 'ADP'), ('back', 'ADV'), ('been', 'VERB'), ('these', 'DET'), ('run', 'VERB'), ('and', 'CONJ'), ('for', 'ADP'), (\"''\", '.'), ('in', 'ADP'), ('*-1', 'X'), ('0', 'X'), ('though', 'ADP'), ('to', 'PRT'), ('by', 'ADP'), ('workers', 'NOUN'), ('the', 'DET'), ('with', 'ADP'), ('&', 'CONJ'), ('its', 'PRON'), ('$', '.'), ('hurt', 'VERB'), ('over', 'ADP'), ('of', 'ADP'), ('.', '.'), ('on', 'ADP'), (',', '.'), ('a', 'DET'), ('in', 'ADP'), ('company', 'NOUN'), ('only', 'ADV'), ('``', '.'), ('ill.', 'NOUN'), ('containers', 'NOUN'), ('resilient', 'NOUN'), ('that', 'ADP'), ('machinists', 'NOUN'), ('of', 'ADP'), ('before', 'ADP'), ('treasury', 'NOUN'), (':', '.'), ('knowledgeable', 'NOUN'), ('chief', 'NOUN'), ('``', '.'), ('a', 'DET'), ('0', 'X'), ('first', 'ADJ'), ('.', '.'), ('ymca', 'NOUN'), ('jobs', 'NOUN'), ('banks', 'NOUN'), ('any', 'DET'), ('--', '.'), ('volatility', 'NOUN'), ('bottom-line', 'NOUN'), ('latest', 'ADJ'), ('fuel', 'NOUN'), ('was', 'VERB'), ('by', 'ADP'), (',', '.'), (';', '.'), ('would', 'VERB'), ('is', 'VERB'), (\"''\", '.'), ('the', 'DET'), ('to', 'PRT'), ('the', 'DET'), ('angle', 'NOUN'), ('over', 'ADP'), ('are', 'VERB'), ('of', 'ADP'), ('highest', 'ADJ'), (\"'s\", 'PRT'), ('enters', 'VERB'), ('is', 'VERB'), ('funny', 'ADJ'), ('to', 'PRT'), ('new', 'ADJ'), ('*t*-246', 'NOUN'), ('*ich*-2', 'X'), ('the', 'DET'), ('unit', 'NOUN'), (',', '.'), ('down', 'ADV'), ('.', '.'), ('other', 'ADJ'), ('there', 'DET'), ('foot', 'NOUN'), ('.', '.'), ('pretax', 'NOUN'), ('described', 'VERB'), ('48', 'NUM'), ('be', 'VERB'), ('*-1', 'X'), (',', '.'), ('$', '.'), ('a', 'DET'), ('transamerica', 'NOUN'), ('*ppa*-1', 'X'), ('surged', 'VERB'), ('a', 'DET'), ('cents', 'NOUN'), ('be', 'VERB'), ('even', 'ADV'), ('cry', 'NOUN'), ('see', 'VERB'), ('hold', 'VERB'), ('0', 'X'), ('2.80', 'NOUN'), ('we', 'PRON'), ('of', 'ADP'), ('said', 'VERB'), ('complicated', 'ADJ'), ('in', 'ADP'), ('capital', 'NOUN'), ('seems', 'VERB'), ('device', 'NOUN'), ('lower', 'ADJ'), ('coaching', 'NOUN'), ('his', 'PRON'), ('intermediate', 'NOUN'), ('6', 'NUM'), (',', '.'), ('.', '.'), ('steel', 'NOUN'), ('and', 'CONJ'), ('which', 'DET'), ('evenly', 'ADV'), (',', '.'), ('estimated', 'VERB'), ('*t*-49', 'X'), ('random', 'NOUN'), ('kidder', 'NOUN'), (',', '.'), ('markets', 'NOUN'), ('to', 'PRT'), ('also', 'ADV'), ('to', 'PRT'), (',', '.'), ('new', 'ADJ'), ('design', 'NOUN'), ('in', 'ADP'), ('eventually', 'ADV'), ('due', 'ADJ'), ('yesterday', 'NOUN'), ('*', 'X'), ('compound', 'NOUN'), ('*-2', 'X'), ('.', '.'), ('even', 'ADV'), (',', '.'), ('investment', 'NOUN'), ('read', 'VERB'), ('represent', 'VERB'), (';', '.'), ('he', 'PRON'), ('and', 'CONJ'), ('bought', 'VERB'), ('.', '.'), ('0', 'X'), ('president', 'NOUN'), ('on', 'ADP'), ('researchers', 'NOUN'), ('0', 'X'), ('light', 'ADJ'), ('with', 'ADP'), ('more', 'ADJ'), ('way', 'NOUN'), ('inadequate', 'ADJ'), ('next', 'ADJ'), ('risks', 'NOUN'), ('so', 'ADV'), ('sec', 'NOUN'), ('the', 'DET'), ('500', 'NUM'), ('investor', 'NOUN'), ('three', 'NUM'), ('500', 'NUM'), ('in', 'ADP'), ('vindication', 'NOUN'), ('our', 'PRON'), ('a', 'DET'), ('only', 'ADV'), ('*t*-3', 'X'), ('might', 'VERB'), ('programs', 'NOUN'), ('in', 'ADP'), ('*u*', 'X'), ('auction', 'NOUN'), ('restore', 'VERB'), ('number', 'NOUN'), ('high', 'ADJ'), ('nih', 'NOUN'), ('placing', 'VERB'), ('are', 'VERB'), ('out', 'PRT'), ('rules', 'NOUN'), ('1988', 'NUM'), ('of', 'ADP'), ('to', 'PRT'), ('despite', 'ADP'), ('germany', 'NOUN'), ('in', 'ADP'), ('more', 'ADJ'), ('comedies', 'NOUN'), ('landis', 'NOUN'), ('commonwealth', 'NOUN'), ('agents', 'NOUN'), ('programs', 'NOUN'), ('ideas', 'NOUN'), ('back', 'ADV'), ('is', 'VERB'), ('transplants', 'NOUN'), ('is', 'VERB'), ('trader', 'NOUN'), ('investors', 'NOUN'), ('equitable', 'NOUN'), ('were', 'VERB'), ('said', 'VERB'), ('resign', 'NOUN'), ('the', 'DET'), ('whether', 'ADP'), ('new', 'ADJ'), ('reflected', 'VERB'), ('truce', 'NOUN'), ('portfolio', 'NOUN'), ('faulding', 'NOUN'), (',', '.'), ('*-1', 'X'), ('they', 'PRON'), ('the', 'DET'), ('secretary', 'NOUN'), ('limited', 'VERB'), ('came', 'VERB'), ('a', 'DET'), ('south', 'NOUN'), ('ceiling', 'NOUN'), ('$', '.'), ('an', 'DET'), ('is', 'VERB'), ('peter', 'NOUN'), ('*', 'X'), ('an', 'DET'), ('*-1', 'X'), ('potential', 'ADJ'), ('0', 'X'), ('the', 'DET'), (',', '.'), ('luck', 'NOUN'), ('was', 'VERB'), ('has', 'VERB'), ('*', 'X'), ('targets', 'VERB'), ('had', 'VERB'), (',', '.'), (',', '.'), ('out', 'PRT'), ('foster', 'NOUN'), ('on', 'ADP'), ('of', 'ADP'), ('50', 'NUM'), ('anticipated', 'VERB'), ('451', 'NOUN'), ('r.i.', 'NOUN'), ('yen', 'NOUN'), ('was', 'VERB'), ('a', 'DET'), ('.', '.'), ('they', 'PRON'), ('*ich*-2', 'X'), ('the', 'DET'), ('stock-market', 'NOUN'), ('*', 'X'), ('the', 'DET'), ('.', '.'), ('the', 'DET'), ('bidder', 'NOUN'), ('the', 'DET'), ('.', '.'), ('vaccines', 'NOUN'), ('conditional', 'ADJ'), ('gold', 'NOUN'), ('closed', 'VERB'), ('debt', 'NOUN'), ('``', '.'), ('*u*', 'X'), ('.', '.'), (\"'s\", 'PRT'), ('*-2', 'X'), ('london', 'NOUN'), ('england', 'NOUN'), ('computers', 'NOUN'), ('yield', 'VERB'), ('and', 'CONJ'), ('alternatives', 'NOUN'), ('legislation', 'NOUN'), ('.', '.'), ('eurodollars', 'NOUN'), ('borough', 'NOUN'), (',', '.'), ('provides', 'VERB'), ('firm', 'NOUN'), ('bounce', 'NOUN'), ('disagrees', 'NOUN'), ('executives', 'NOUN'), ('*-1', 'X'), ('contel', 'NOUN'), (',', '.'), ('set', 'VERB'), ('electronics', 'NOUN'), ('contracts', 'NOUN'), ('and', 'CONJ'), ('corp.', 'NOUN'), ('and', 'CONJ'), ('indexing', 'NOUN'), ('*-2', 'X'), (',', '.'), ('``', '.'), ('help', 'VERB'), ('attractive', 'ADJ'), ('of', 'ADP'), ('a', 'DET'), ('because', 'ADP'), ('herald', 'NOUN'), ('cars', 'NOUN'), ('oxnard', 'NOUN'), ('0', 'X'), ('you', 'PRON'), (',', '.'), ('herald', 'NOUN'), ('0', 'X'), ('simultaneous', 'NOUN'), ('recently', 'ADV'), ('review', 'NOUN'), ('``', '.'), ('are', 'VERB'), ('japan', 'NOUN'), ('r.', 'NOUN'), ('spirit', 'NOUN'), ('for', 'ADP'), ('hahn', 'NOUN'), ('*t*-1', 'X'), ('the', 'DET'), ('chance', 'NOUN'), ('solid', 'ADJ'), ('has', 'VERB'), ('funds', 'NOUN'), ('strictly', 'NOUN'), ('share', 'NOUN'), ('down', 'ADV'), ('notes', 'NOUN'), ('3.8', 'NUM'), ('the', 'DET'), ('material', 'NOUN'), ('innovative', 'NOUN'), ('for', 'ADP'), (\"'m\", 'VERB'), ('mr.', 'NOUN'), ('america', 'NOUN'), ('be', 'VERB'), (',', '.'), ('to', 'PRT'), ('*-1', 'X'), ('i', 'PRON'), ('shares', 'NOUN'), ('in', 'ADP'), ('that', 'ADP'), ('``', '.'), ('industrial', 'ADJ'), ('*-1', 'X'), ('spending', 'NOUN'), ('to', 'PRT'), ('6,000', 'NUM'), ('learned', 'VERB'), ('*-121', 'NOUN'), ('bills', 'NOUN'), ('either', 'DET'), (\"n't\", 'ADV'), ('they', 'PRON'), ('by', 'ADP'), ('magleby', 'NOUN'), (\"''\", '.'), ('angola', 'NOUN'), ('wilfred', 'NOUN'), ('throughout', 'ADP'), ('in', 'ADP'), ('they', 'PRON'), ('of', 'ADP'), ('0', 'X'), ('financial', 'ADJ'), (',', '.'), ('yen', 'NOUN'), ('the', 'DET'), ('the', 'DET'), ('demand', 'NOUN'), ('words', 'NOUN'), ('to', 'PRT'), ('that', 'ADP'), ('debt', 'NOUN'), ('sometimes', 'ADV'), ('to', 'PRT'), ('big', 'ADJ'), ('similar', 'ADJ'), ('many', 'ADJ'), ('perceives', 'NOUN'), ('more', 'ADJ'), ('basket', 'NOUN'), ('225.6', 'NOUN'), ('bankruptcy', 'NOUN'), ('is', 'VERB'), ('.', '.'), ('as', 'ADP'), ('in', 'ADP'), ('exhaust', 'VERB'), ('manager', 'NOUN'), ('yesterday', 'NOUN'), ('day', 'NOUN'), ('shares', 'NOUN'), ('in', 'ADP'), (',', '.'), ('ftc', 'NOUN'), ('0', 'X'), ('keep', 'VERB'), ('problem', 'NOUN'), (\"'s\", 'PRT'), ('source', 'NOUN'), ('*-1', 'X'), ('it', 'PRON'), ('one', 'NUM'), ('of', 'ADP'), ('a', 'DET'), ('about', 'ADP'), ('increases', 'NOUN'), (',', '.'), (',', '.'), ('already', 'ADV'), ('edison', 'NOUN'), ('one', 'NUM'), ('a', 'DET'), ('said', 'VERB'), ('has', 'VERB'), ('in', 'ADP'), ('would', 'VERB'), ('its', 'PRON'), ('and', 'CONJ'), ('the', 'DET'), ('enough', 'ADV'), ('declare', 'NOUN'), ('850', 'NOUN'), (\"''\", '.'), ('*t*-1', 'X'), ('*u*', 'X'), ('it', 'PRON'), ('dodge', 'NOUN'), ('.', '.'), ('strong', 'ADJ'), ('giant', 'NOUN'), ('but', 'CONJ'), ('11th', 'NOUN'), ('investment', 'NOUN'), ('about', 'ADP'), ('to', 'PRT'), ('1990', 'NUM'), ('stock', 'NOUN'), (',', '.'), ('ec', 'NOUN'), ('that', 'ADP'), ('two', 'NUM'), (',', '.'), ('grant', 'NOUN'), ('million', 'NUM'), ('trust', 'NOUN'), ('a', 'DET'), ('.', '.'), ('really', 'ADV'), (',', '.'), ('superconductors', 'NOUN'), ('completed', 'VERB'), ('sets', 'NOUN'), ('necessarily', 'ADV'), ('appeared', 'VERB'), ('of', 'ADP'), ('record', 'NOUN'), ('new', 'ADJ'), ('unusually', 'ADV'), ('countries', 'NOUN'), ('deadline', 'NOUN'), ('traditional', 'ADJ'), ('grows', 'VERB'), ('beat', 'VERB'), (',', '.'), ('rates', 'NOUN'), ('wilbur', 'NOUN'), ('14.53', 'NOUN'), ('own', 'ADJ'), ('playwright', 'NOUN'), ('thrift', 'NOUN'), ('excess', 'ADJ'), ('torrent', 'NOUN'), ('demise', 'NOUN'), ('pretax', 'NOUN'), ('international', 'NOUN'), ('the', 'DET'), ('to', 'PRT'), ('.', '.'), (\"''\", '.'), ('office', 'NOUN'), ('advice', 'NOUN'), ('1989', 'NUM'), ('have', 'VERB'), ('examined', 'VERB'), ('will', 'VERB'), ('of', 'ADP'), ('--', '.'), (\"'\", 'PRT'), ('were', 'VERB'), (\"'s\", 'PRT'), ('.', '.'), ('higher', 'ADJ'), ('next', 'ADJ'), ('october', 'NOUN'), ('over', 'ADP'), ('new', 'ADJ'), ('america', 'NOUN'), ('.', '.'), ('ban', 'NOUN'), ('in', 'ADP'), ('112.9', 'NOUN'), ('the', 'DET'), ('.', '.'), ('*t*-2', 'X'), ('growing', 'VERB'), ('managing', 'VERB'), (\"'s\", 'PRT'), ('.', '.'), ('run', 'VERB'), ('achievement-test', 'NOUN'), ('arbitrage', 'NOUN'), ('the', 'DET'), ('minimum', 'ADJ'), ('up', 'PRT'), ('that', 'ADP'), ('unfairly', 'ADV'), ('from', 'ADP'), ('is', 'VERB'), ('but', 'CONJ'), ('and', 'CONJ'), ('markets', 'NOUN'), ('the', 'DET'), (',', '.'), ('suspension', 'NOUN'), ('had', 'VERB'), ('some', 'DET'), ('10-day', 'ADJ'), ('fiscal', 'ADJ'), ('and', 'CONJ'), ('dogs', 'NOUN'), (',', '.'), ('significant', 'ADJ'), ('*u*', 'X'), ('with', 'ADP'), ('*', 'X'), ('ago', 'ADP'), ('central', 'ADJ'), ('the', 'DET'), ('described', 'VERB'), ('no', 'DET'), ('0', 'X'), ('$', '.'), ('run', 'VERB'), ('terms', 'NOUN'), ('*-1', 'X'), ('to', 'PRT'), ('30', 'NUM'), ('fed', 'NOUN'), ('ad', 'NOUN'), ('few', 'ADJ'), ('*t*-1', 'X'), ('its', 'PRON'), ('capability', 'NOUN'), ('voice', 'NOUN'), ('even', 'ADV'), ('dealers', 'NOUN'), ('making', 'VERB'), ('said', 'VERB'), ('wall', 'NOUN'), ('the', 'DET'), ('it', 'PRON'), ('for', 'ADP'), ('compared', 'VERB'), ('though', 'ADP'), ('investor', 'NOUN'), ('revival', 'NOUN'), ('set', 'VERB'), ('collected', 'VERB'), ('an', 'DET'), ('.', '.'), ('spreads', 'NOUN'), ('income', 'NOUN'), ('and', 'CONJ'), ('next', 'ADJ'), ('ad', 'NOUN'), ('128', 'NOUN'), ('trucks', 'NOUN'), ('*-1', 'X'), ('he', 'PRON'), ('qualify', 'VERB'), ('receive', 'VERB'), ('mr.', 'NOUN'), ('measure', 'NOUN'), ('for', 'ADP'), ('they', 'PRON'), ('traitor', 'NOUN'), ('talking', 'VERB'), ('the', 'DET'), ('harsh', 'ADJ'), ('``', '.'), ('improve', 'VERB'), ('.', '.'), ('school', 'NOUN'), ('research', 'NOUN'), ('new', 'ADJ'), ('the', 'DET'), ('involving', 'VERB'), ('``', '.'), ('retain', 'VERB'), ('retirement', 'NOUN'), ('madison', 'NOUN'), ('international', 'NOUN'), ('money', 'NOUN'), ('necessary', 'ADJ'), ('.', '.'), ('georgia', 'NOUN'), ('of', 'ADP'), ('that', 'ADP'), ('in', 'ADP'), ('*', 'X'), ('wide', 'ADJ'), ('a', 'DET'), ('spurring', 'NOUN'), ('the', 'DET'), ('significant', 'ADJ'), ('51', 'NUM'), ('to', 'PRT'), ('.', '.'), ('.', '.'), (',', '.'), ('need', 'VERB'), ('from', 'ADP'), ('continuing', 'VERB'), ('and', 'CONJ'), ('ward', 'NOUN'), ('dividends', 'NOUN'), ('or', 'CONJ'), ('fired', 'VERB'), ('ward', 'NOUN'), ('rep.', 'NOUN'), ('on', 'ADP'), ('a', 'DET'), ('haven', 'NOUN'), ('first', 'ADJ'), ('higher', 'ADJ'), ('we', 'PRON'), ('and', 'CONJ'), ('year', 'NOUN'), ('teachers', 'NOUN'), ('its', 'PRON'), ('its', 'PRON'), (',', '.'), ('much', 'ADV'), ('washington', 'NOUN'), ('of', 'ADP'), ('ultimately', 'ADV'), ('they', 'PRON'), ('declines', 'NOUN'), ('street', 'NOUN'), ('.', '.'), ('indexes', 'NOUN'), ('*t*-24', 'X'), ('aggressively', 'ADV'), (',', '.'), ('it', 'PRON'), ('.', '.'), ('the', 'DET'), ('as', 'ADP'), ('in', 'ADP'), (',', '.'), (\"n't\", 'ADV'), ('ford', 'NOUN'), ('.', '.'), ('performing', 'VERB'), ('to', 'PRT'), ('the', 'DET'), ('as', 'ADP'), ('3\\\\/4', 'NUM'), ('spokesman', 'NOUN'), ('of', 'ADP'), ('of', 'ADP'), ('saying', 'VERB'), (',', '.'), ('rebuilding', 'NOUN'), ('very', 'ADV'), ('and', 'CONJ'), ('with', 'ADP'), (',', '.'), ('list', 'NOUN'), (\"n't\", 'ADV'), ('but', 'CONJ'), ('parties', 'NOUN'), ('common', 'ADJ'), ('these', 'DET'), ('*-1', 'X'), ('the', 'DET'), ('that', 'ADP'), ('*t*-3', 'X'), ('.', '.'), ('folks', 'NOUN'), ('if', 'ADP'), ('computer', 'NOUN'), ('skittishness', 'NOUN'), ('the', 'DET'), ('sphere', 'NOUN'), ('.', '.'), ('been', 'VERB'), ('a', 'DET'), ('work', 'NOUN'), ('$', '.'), ('him', 'PRON'), ('into', 'ADP'), ('in', 'ADP'), ('parent', 'NOUN'), ('long', 'ADJ'), ('third', 'ADJ'), ('%', 'NOUN'), ('the', 'DET'), ('value', 'NOUN'), ('*-2', 'X'), ('that', 'ADP'), ('and', 'CONJ'), ('redeemed', 'VERB'), ('of', 'ADP'), ('.', '.'), ('court', 'NOUN'), ('has', 'VERB'), ('funding', 'NOUN'), ('of', 'ADP'), ('indicated', 'VERB'), ('trade', 'NOUN'), ('signifying', 'NOUN'), ('labor', 'NOUN'), ('to', 'PRT'), ('stake', 'NOUN'), ('176', 'NOUN'), ('full', 'ADJ'), ('program', 'NOUN'), ('sectors', 'NOUN'), ('besuboru', 'NOUN'), ('that', 'ADP'), ('younkers', 'NOUN'), ('sony', 'NOUN'), ('into', 'ADP'), ('in', 'ADP'), ('with', 'ADP'), ('--', '.'), ('the', 'DET'), ('%', 'NOUN'), ('51', 'NUM'), ('the', 'DET'), ('plastic', 'ADJ'), ('is', 'VERB'), ('frozen', 'VERB'), ('ballpark', 'NOUN'), ('and', 'CONJ'), ('the', 'DET'), ('0', 'X'), ('.', '.'), ('the', 'DET'), ('other', 'ADJ'), ('increase', 'NOUN'), ('particular', 'ADJ'), ('of', 'ADP'), ('that', 'ADP'), ('nations', 'NOUN'), ('well-known', 'ADJ'), ('for', 'ADP'), ('department', 'NOUN'), ('sounded', 'VERB'), ('signing', 'VERB'), ('in', 'ADP'), ('chinese', 'ADJ'), ('young', 'ADJ'), (',', '.'), ('strength', 'NOUN'), ('*t*-1', 'X'), ('as', 'ADP'), ('self', 'NOUN'), ('he', 'PRON'), (\"'s\", 'PRT'), ('by', 'ADP'), ('vitulli', 'NOUN'), ('had', 'VERB'), (';', '.'), ('the', 'DET'), ('said', 'VERB'), ('market', 'NOUN'), ('taken', 'VERB'), ('and', 'CONJ'), (',', '.'), ('in', 'ADP'), ('is', 'VERB'), ('2', 'NUM'), ('have', 'VERB'), ('director', 'NOUN'), ('do', 'VERB'), ('have', 'VERB'), ('--', '.'), ('wine', 'NOUN'), ('-rrb-', '.'), ('will', 'VERB'), ('sonnett', 'NOUN'), ('interpretation', 'NOUN'), ('it', 'PRON'), ('story', 'NOUN'), ('industrial', 'ADJ'), ('the', 'DET'), ('cabernet', 'NOUN'), ('.', '.'), ('big', 'ADJ'), ('*u*', 'X'), ('``', '.'), ('massachusetts', 'NOUN'), ('own', 'ADJ'), ('business', 'NOUN'), (',', '.'), ('china', 'NOUN'), ('thrift', 'NOUN'), (\"''\", '.'), ('which', 'DET'), ('members', 'NOUN'), ('of', 'ADP'), ('to', 'PRT'), (',', '.'), ('0', 'X'), ('corp.', 'NOUN'), ('the', 'DET'), ('go', 'VERB'), ('shares', 'NOUN'), ('2,500', 'NUM'), ('and', 'CONJ'), ('things', 'NOUN'), ('a', 'DET'), ('18', 'NUM'), ('addition', 'NOUN'), (',', '.'), ('are', 'VERB'), ('%', 'NOUN'), ('are', 'VERB'), ('the', 'DET'), ('could', 'VERB'), ('his', 'PRON'), ('in', 'ADP'), ('delivery', 'NOUN'), ('*t*-1', 'X'), ('inventor', 'NOUN'), ('roll', 'NOUN'), ('0', 'X'), ('that', 'ADP'), ('so', 'ADV'), ('the', 'DET'), ('executive', 'NOUN'), ('company', 'NOUN'), ('provision', 'NOUN'), ('at', 'ADP'), ('of', 'ADP'), ('*-2', 'X'), ('says', 'VERB'), ('ownership', 'NOUN'), ('weaker', 'ADJ'), ('year', 'NOUN'), ('%', 'NOUN'), ('it', 'PRON'), ('administrator', 'NOUN'), ('memorize', 'NOUN'), ('information', 'NOUN'), ('recent', 'ADJ'), ('the', 'DET'), ('of', 'ADP'), ('.', '.'), ('*?*', 'X'), ('--', '.'), ('unsecured', 'ADJ'), ('45', 'NUM'), ('and', 'CONJ'), (',', '.'), ('independent', 'ADJ'), (\"'re\", 'VERB'), ('the', 'DET'), ('idea', 'NOUN'), ('la', 'NOUN'), ('180', 'NUM'), ('signal', 'NOUN'), ('for', 'ADP'), (\"n't\", 'ADV'), ('company', 'NOUN'), ('about', 'ADP'), ('the', 'DET'), ('less', 'ADJ'), ('bureaucracy', 'NOUN'), ('officials', 'NOUN'), ('in', 'ADP'), ('of', 'ADP'), ('the', 'DET'), ('*t*-220', 'NOUN'), ('or', 'CONJ'), ('corp', 'NOUN'), ('*-2', 'X'), ('traders', 'NOUN'), ('*t*-48', 'X'), ('donuts', 'NOUN'), ('same', 'ADJ'), ('the', 'DET'), ('the', 'DET'), ('veto', 'NOUN'), (',', '.'), ('it', 'PRON'), ('like', 'ADP'), ('interrogation', 'NOUN'), ('georgia', 'NOUN'), ('be', 'VERB'), ('consensus', 'NOUN'), ('high', 'ADJ'), ('women', 'NOUN'), ('are', 'VERB'), ('commerce', 'NOUN'), ('pcs', 'NOUN'), ('watchers', 'NOUN'), ('tire', 'NOUN'), ('durable-goods', 'NOUN'), ('a', 'DET'), ('be', 'VERB'), ('fighting', 'VERB'), ('into', 'ADP'), ('comprehensive', 'NOUN'), ('with', 'ADP'), ('get', 'VERB'), ('.', '.'), ('the', 'DET'), ('as', 'ADP'), (\"''\", '.'), ('lawyers', 'NOUN'), ('trading', 'NOUN'), ('the', 'DET'), (\"''\", '.'), ('to', 'PRT'), ('launched', 'VERB'), ('often', 'ADV'), ('bribery', 'NOUN'), ('of', 'ADP'), ('*u*', 'X'), ('the', 'DET'), ('products', 'NOUN'), ('and', 'CONJ'), ('age', 'NOUN'), ('*t*-3', 'X'), ('in', 'ADP'), ('crops', 'NOUN'), ('carnival', 'NOUN'), ('*-3', 'X'), ('needed', 'VERB'), ('force', 'NOUN'), ('*u*', 'X'), ('it', 'PRON'), ('0', 'X'), ('hampshire', 'NOUN'), ('thousands', 'NOUN'), ('same', 'ADJ'), ('approved', 'VERB'), ('the', 'DET'), ('*', 'X'), ('*-1', 'X'), ('for', 'ADP'), ('but', 'CONJ'), ('it', 'PRON'), ('than', 'ADP'), ('successfully', 'NOUN'), ('after', 'ADP'), ('able', 'ADJ'), ('ohio', 'NOUN'), ('retail', 'ADJ'), ('40', 'NUM'), ('stronger', 'ADJ'), ('furniture', 'NOUN'), ('the', 'DET'), ('never', 'ADV'), ('says', 'VERB'), ('in', 'ADP'), ('years', 'NOUN'), ('speed', 'NOUN'), ('corporate', 'ADJ'), ('0', 'X'), ('assisted', 'NOUN'), ('chemical', 'NOUN'), ('by', 'ADP'), ('--', '.'), ('czechoslovakia', 'NOUN'), ('hearst', 'NOUN'), ('it', 'PRON'), ('118', 'NUM'), (',', '.'), ('in', 'ADP'), ('and', 'CONJ'), ('operations', 'NOUN'), ('card', 'NOUN'), ('.', '.'), ('of', 'ADP'), ('1.64', 'NUM'), ('comment', 'NOUN'), ('absurd', 'NOUN'), ('yet', 'ADV'), ('of', 'ADP'), (',', '.'), ('sought', 'VERB'), ('the', 'DET'), ('*rnr*-4', 'X'), ('they', 'PRON'), ('.', '.'), (\"'s\", 'PRT'), ('irvine', 'NOUN'), ('white', 'NOUN'), ('for', 'ADP'), ('fiscal', 'ADJ'), (';', '.'), ('$', '.'), ('next', 'ADJ'), ('up', 'PRT'), ('investors', 'NOUN'), ('10', 'NUM'), ('a', 'DET'), ('``', '.'), ('acquired', 'VERB'), ('from', 'ADP'), ('malignant', 'NOUN'), ('outside', 'ADJ'), (',', '.'), ('this', 'DET'), ('reuters', 'NOUN'), ('considerable', 'ADJ'), ('*t*-2', 'X'), ('8.07', 'NUM'), ('is', 'VERB'), ('mcdermott', 'NOUN'), ('.', '.'), ('as', 'ADP'), ('consideration', 'NOUN'), ('our', 'PRON'), ('a', 'DET'), ('research', 'NOUN'), ('to', 'PRT'), ('in', 'ADP'), ('president', 'NOUN'), ('contract', 'NOUN'), ('march', 'NOUN'), (',', '.'), ('lives', 'NOUN'), ('side', 'NOUN'), ('.', '.'), ('by', 'ADP'), ('the', 'DET'), ('a', 'DET'), ('13.8', 'NUM'), ('.', '.'), (',', '.'), ('bank', 'NOUN'), ('tribe', 'NOUN'), (',', '.'), ('since', 'ADP'), ('*t*-2', 'X'), ('in', 'ADP'), ('which', 'DET'), ('they', 'PRON'), (\"''\", '.'), ('a', 'DET'), ('*-1', 'X'), ('tower', 'NOUN'), ('the', 'DET'), ('has', 'VERB'), ('combined', 'VERB'), ('these', 'DET'), ('rash', 'NOUN'), ('to', 'PRT'), ('*-2', 'X'), ('43', 'NUM'), ('earnings', 'NOUN'), ('maker', 'NOUN'), ('the', 'DET'), ('according', 'VERB'), ('a', 'DET'), ('for', 'ADP'), ('.', '.'), ('megabytes', 'NOUN'), ('called', 'VERB'), ('the', 'DET'), ('and', 'CONJ'), ('*t*-77', 'NOUN'), ('homelessness', 'NOUN'), ('mrs.', 'NOUN'), ('waiver', 'NOUN'), ('some', 'DET'), ('continue', 'VERB'), ('interest', 'NOUN'), ('prove', 'VERB'), ('meeting', 'NOUN'), ('the', 'DET'), ('denouncing', 'VERB'), ('*-1', 'X'), ('a', 'DET'), ('ceiling', 'NOUN'), ('be', 'VERB'), ('62%-owned', 'ADJ'), ('if', 'ADP'), ('all', 'DET'), ('discussions', 'NOUN'), ('of', 'ADP'), ('valuation', 'NOUN'), ('*-3', 'X'), ('real-estate', 'NOUN'), (',', '.'), ('as', 'ADP'), ('become', 'VERB'), ('of', 'ADP'), ('a', 'DET'), ('securities', 'NOUN'), ('requirements', 'NOUN'), ('*', 'X'), ('under', 'ADP'), ('*', 'X'), ('in', 'ADP'), ('pleased', 'VERB'), ('individual', 'ADJ'), ('u.s.', 'NOUN'), (\"''\", '.'), ('``', '.'), ('0', 'X'), ('an', 'DET'), ('0', 'X'), ('concerns', 'NOUN'), ('.', '.'), ('hard', 'ADJ'), (\"''\", '.'), ('*t*-1', 'X'), ('2019', 'NUM'), ('the', 'DET'), ('get', 'VERB'), ('executives', 'NOUN'), ('cutting', 'VERB'), ('the', 'DET'), ('%', 'NOUN'), ('treasury', 'NOUN'), ('capital', 'NOUN'), ('by', 'ADP'), ('markets', 'NOUN'), ('of', 'ADP'), ('iii', 'NOUN'), ('500', 'NUM'), ('to', 'PRT'), ('j.l.', 'NOUN'), ('said', 'VERB'), ('sports', 'NOUN'), ('first', 'ADJ'), ('say', 'VERB'), ('a', 'DET'), ('of', 'ADP'), ('proposing', 'VERB'), ('own', 'ADJ'), ('days', 'NOUN'), ('crunch', 'NOUN'), ('.', '.'), ('in', 'ADP'), ('would', 'VERB'), ('*-61', 'X'), ('4.4', 'NUM'), ('year', 'NOUN'), ('the', 'DET'), ('out', 'PRT'), ('*t*-1', 'X'), ('england', 'NOUN'), ('rising', 'VERB'), ('way', 'NOUN'), ('upjohn', 'NOUN'), (',', '.'), ('that', 'ADP'), ('demand', 'NOUN'), ('the', 'DET'), ('in', 'ADP'), ('swallow', 'NOUN'), (',', '.'), ('current-carrying', 'ADJ'), ('the', 'DET'), ('that', 'ADP'), (',', '.'), ('98.3', 'NOUN'), ('says', 'VERB'), ('were', 'VERB'), (',', '.'), ('on', 'ADP'), ('make', 'VERB'), ('.', '.'), ('opposition', 'NOUN'), ('more', 'ADJ'), ('cast-iron', 'NOUN'), ('long', 'ADJ'), ('found', 'VERB'), ('.', '.'), ('tuesday', 'NOUN'), ('``', '.'), ('of', 'ADP'), ('of', 'ADP'), ('new', 'ADJ'), ('said', 'VERB'), ('say', 'VERB'), ('that', 'ADP'), ('swiftly', 'ADV'), ('thrift', 'NOUN'), ('mae', 'NOUN'), ('full', 'ADJ'), ('here', 'ADV'), ('about', 'ADP'), ('as', 'ADP'), ('print', 'VERB'), ('139', 'NOUN'), ('morning', 'NOUN'), ('to', 'PRT'), ('wafa', 'NOUN'), (\"'s\", 'PRT'), ('dexterity', 'NOUN'), ('a', 'DET'), ('from', 'ADP'), ('the', 'DET'), ('compared', 'VERB'), ('$', '.'), ('its', 'PRON'), ('professional', 'ADJ'), ('compromise', 'NOUN'), ('formed', 'VERB'), ('.', '.'), ('health', 'NOUN'), ('``', '.'), ('farmers', 'NOUN'), ('pay', 'VERB'), ('insurance-company', 'NOUN'), (',', '.'), ('builders', 'NOUN'), ('*', 'X'), ('billion', 'NUM'), ('france', 'NOUN'), ('critics', 'NOUN'), ('*', 'X'), ('view', 'NOUN'), ('through', 'ADP'), ('these', 'DET'), ('duties', 'NOUN'), ('the', 'DET'), ('evidence', 'NOUN'), ('international', 'NOUN'), ('assets', 'NOUN'), (',', '.'), (',', '.'), ('a', 'DET'), ('%', 'NOUN'), ('how', 'ADV'), ('*', 'X'), ('common', 'ADJ'), ('to', 'PRT'), ('a', 'DET'), ('*-2', 'X'), ('income', 'NOUN'), ('chief', 'NOUN'), ('in', 'ADP'), ('to', 'PRT'), ('skin', 'NOUN'), ('of', 'ADP'), ('the', 'DET'), ('for', 'ADP'), ('an', 'DET'), ('net', 'ADJ'), ('to', 'PRT'), ('*u*', 'X'), (',', '.'), ('veto', 'NOUN'), ('italian', 'ADJ'), ('yellow', 'NOUN'), ('*-1', 'X'), ('for', 'ADP'), ('father-in-law', 'NOUN'), ('450', 'NUM'), ('initiative', 'NOUN'), ('rose', 'VERB'), ('negus', 'NOUN'), ('to', 'PRT'), ('account', 'NOUN'), ('funds', 'NOUN'), ('very', 'ADV'), ('rate', 'NOUN'), ('six-bottle', 'NOUN'), ('one', 'NUM'), (',', '.'), ('systems', 'NOUN'), ('size', 'NOUN'), ('both', 'DET'), ('of', 'ADP'), ('0', 'X'), ('quips', 'NOUN'), ('it', 'PRON'), (',', '.'), ('fully', 'ADV'), ('softening', 'VERB'), ('are', 'VERB'), ('before', 'ADP'), (',', '.'), ('a', 'DET'), ('big', 'ADJ'), ('the', 'DET'), ('net', 'ADJ'), ('railcars', 'NOUN'), ('burnham', 'NOUN'), ('an', 'DET'), ('.', '.'), ('$', '.'), ('not', 'ADV'), ('$', '.'), ('and', 'CONJ'), ('and', 'CONJ'), ('*t*-127', 'NOUN'), ('said', 'VERB'), (\"'s\", 'PRT'), ('automobile', 'NOUN'), ('*-1', 'X'), ('71', 'NUM'), ('for', 'ADP'), ('said', 'VERB'), ('markets', 'NOUN'), ('continued', 'VERB'), ('and', 'CONJ'), ('0', 'X'), ('market', 'NOUN'), ('posing', 'NOUN'), ('900', 'NUM'), ('in', 'ADP'), ('a', 'DET'), ('japan', 'NOUN'), ('a', 'DET'), ('monthly', 'ADJ'), ('*t*-1', 'X'), ('highly', 'ADV'), ('make', 'VERB'), ('400', 'NUM'), ('*', 'X'), (',', '.'), ('only', 'ADV'), ('their', 'PRON'), ('holds', 'VERB'), ('should', 'VERB'), ('however', 'ADV'), ('third-quarter', 'NOUN'), ('would', 'VERB'), ('are', 'VERB'), ('key', 'ADJ'), ('year', 'NOUN'), ('cab', 'NOUN'), ('prizes', 'NOUN'), ('this', 'DET'), ('yeargin', 'NOUN'), ('by', 'ADP'), ('this', 'DET'), ('debt', 'NOUN'), ('to', 'PRT'), ('nederlanden', 'NOUN'), ('of', 'ADP'), ('*-2', 'X'), ('.', '.'), ('held', 'VERB'), ('be', 'VERB'), ('2.07', 'NOUN'), ('pardus', 'NOUN'), ('magazine', 'NOUN'), ('begin', 'VERB'), ('caused', 'VERB'), ('$', '.'), ('while', 'ADP'), ('is', 'VERB'), ('from', 'ADP'), ('for', 'ADP'), ('marching', 'VERB'), ('photographs', 'NOUN'), ('losing', 'VERB'), ('by', 'ADP'), ('mental', 'ADJ'), ('treasury', 'NOUN'), ('*', 'X'), ('on', 'ADP'), ('had', 'VERB'), ('plants', 'NOUN'), ('we', 'PRON'), ('the', 'DET'), ('the', 'DET'), ('craze', 'NOUN'), (',', '.'), ('at', 'ADP'), ('stock', 'NOUN'), ('trade', 'NOUN'), ('0.0085', 'NOUN'), ('inspirational', 'NOUN'), ('high', 'ADJ'), ('mr.', 'NOUN'), ('chase', 'NOUN'), (',', '.'), (',', '.'), ('nation', 'NOUN'), (\"'\", 'PRT'), ('hours', 'NOUN'), ('can', 'VERB'), ('its', 'PRON'), (',', '.'), ('.', '.'), ('not', 'ADV'), ('*-4', 'X'), ('which', 'DET'), ('market', 'NOUN'), ('have', 'VERB'), ('than', 'ADP'), ('their', 'PRON'), ('had', 'VERB'), ('say', 'VERB'), ('their', 'PRON'), ('aware', 'ADJ'), ('paying', 'VERB'), ('bell', 'NOUN'), ('quite', 'ADV'), (\"'s\", 'PRT'), ('.', '.'), ('*-2', 'X'), ('commitment', 'NOUN'), ('involving', 'VERB'), ('who', 'PRON'), ('ended', 'VERB'), ('was', 'VERB'), ('excess', 'ADJ'), ('nationwide', 'ADJ'), ('of', 'ADP'), ('programs', 'NOUN'), ('proposal', 'NOUN'), ('1', 'NUM'), ('effective', 'ADJ'), (',', '.'), ('had', 'VERB'), ('.', '.'), ('were', 'VERB'), ('which', 'DET'), ('of', 'ADP'), ('397', 'NOUN'), ('57.50', 'NUM'), ('0', 'X'), ('*-1', 'X'), ('exchange', 'NOUN'), ('for', 'ADP'), ('license', 'VERB'), (',', '.'), ('father', 'NOUN'), ('to', 'PRT'), ('for', 'ADP'), ('bells', 'NOUN'), ('expected', 'VERB'), ('a', 'DET'), ('$', '.'), ('safe-deposit', 'NOUN'), ('263.07', 'NOUN'), ('vs.', 'CONJ'), (',', '.'), ('one', 'NUM'), ('the', 'DET'), ('bottom', 'NOUN'), ('months', 'NOUN'), ('pickens', 'NOUN'), ('apparently', 'ADV'), ('would', 'VERB'), ('stores', 'NOUN'), ('kent', 'NOUN'), ('.', '.'), ('rather', 'ADV'), ('*', 'X'), ('the', 'DET'), ('sending', 'VERB'), ('to', 'PRT'), ('however', 'ADV'), ('raised', 'VERB'), ('.', '.'), ('he', 'PRON'), ('applications', 'NOUN'), ('over', 'ADP'), ('it', 'PRON'), ('-lrb-', '.'), ('state', 'NOUN'), ('returns', 'NOUN'), (',', '.'), ('many', 'ADJ'), ('up', 'PRT'), ('*u*', 'X'), ('according', 'VERB'), ('that', 'ADP'), ('may', 'VERB'), ('undergoing', 'NOUN'), (\"'s\", 'PRT'), ('demand', 'NOUN'), ('in', 'ADP'), ('*-88', 'NOUN'), ('england', 'NOUN'), ('*-1', 'X'), ('impression', 'NOUN'), ('supply', 'NOUN'), ('the', 'DET'), ('as', 'ADP'), (',', '.'), ('michael', 'NOUN'), ('but', 'CONJ'), ('later', 'ADJ'), ('i', 'PRON'), ('mcgovern', 'NOUN'), ('commission', 'NOUN'), ('is', 'VERB'), ('increase', 'NOUN'), ('the', 'DET'), ('that', 'ADP'), ('0', 'X'), ('than', 'ADP'), ('0', 'X'), ('exxon', 'NOUN'), ('course', 'NOUN'), ('plants', 'NOUN'), ('del', 'NOUN'), ('pay', 'VERB'), (',', '.'), ('oct.', 'NOUN'), (',', '.'), ('blood', 'NOUN'), ('but', 'CONJ'), ('5\\\\/8', 'NUM'), ('hosted', 'NOUN'), (',', '.'), ('william', 'NOUN'), ('were', 'VERB'), (',', '.'), ('0', 'X'), ('appeals', 'NOUN'), ('april', 'NOUN'), ('even', 'ADV'), ('to', 'PRT'), ('part', 'NOUN'), ('of', 'ADP'), ('roland', 'NOUN'), ('.', '.'), ('preston', 'NOUN'), ('partner', 'NOUN'), ('health', 'NOUN'), ('of', 'ADP'), ('jr.', 'NOUN'), ('44', 'NUM'), ('medical', 'ADJ'), (',', '.'), ('one-third', 'NOUN'), ('1\\\\/4', 'NUM'), ('such', 'ADJ'), ('the', 'DET'), ('crop', 'NOUN'), ('client', 'NOUN'), ('that', 'ADP'), ('wilder', 'NOUN'), ('mr.', 'NOUN'), ('the', 'DET'), (':', '.'), ('peals', 'NOUN'), ('different', 'ADJ'), ('avert', 'NOUN'), (\"'s\", 'PRT'), ('in', 'ADP'), ('u.s.', 'NOUN'), ('a', 'DET'), ('district', 'NOUN'), (\"''\", '.'), ('.', '.'), (\"''\", '.'), ('of', 'ADP'), ('medium-sized', 'ADJ'), ('other', 'ADJ'), ('billion', 'NUM'), ('asia', 'NOUN'), ('that', 'ADP'), (',', '.'), ('grace', 'NOUN'), ('*-2', 'X'), ('expected', 'VERB'), ('fairly', 'ADV'), ('it', 'PRON'), ('from', 'ADP'), ('has', 'VERB'), ('international', 'NOUN'), ('wolf', 'NOUN'), (\"''\", '.'), ('*u*', 'X'), ('of', 'ADP'), ('they', 'PRON'), ('a', 'DET'), ('his', 'PRON'), ('in', 'ADP'), ('.', '.'), ('it', 'PRON'), ('for', 'ADP'), ('this', 'DET'), ('long-term', 'ADJ'), ('.', '.'), ('there', 'DET'), ('are', 'VERB'), ('officers', 'NOUN'), ('classics', 'NOUN'), (\"''\", '.'), ('for', 'ADP'), ('to', 'PRT'), ('problems', 'NOUN'), ('chemicals', 'NOUN'), ('a', 'DET'), ('is', 'VERB'), (',', '.'), ('himself', 'PRON'), ('.', '.'), ('the', 'DET'), ('slow', 'VERB'), ('.', '.'), ('long', 'ADJ'), ('only', 'ADV'), ('as', 'ADP'), ('the', 'DET'), ('of', 'ADP'), ('near', 'ADP'), (',', '.'), ('protest', 'NOUN'), (',', '.'), ('shares', 'NOUN'), ('lewis', 'NOUN'), ('and', 'CONJ'), ('market', 'NOUN'), ('*-2', 'X'), ('voters', 'NOUN'), ('forced', 'VERB'), ('*t*-117', 'NOUN'), ('make', 'VERB'), ('``', '.'), ('quarterly', 'ADJ'), (',', '.'), ('investment', 'NOUN'), ('on', 'ADP'), ('strong', 'ADJ'), ('than', 'ADP'), ('mixed', 'VERB'), ('if', 'ADP'), ('%', 'NOUN'), (',', '.'), ('grace', 'NOUN'), ('putting', 'VERB'), ('.', '.'), ('company', 'NOUN'), ('said', 'VERB'), ('*t*-1', 'X'), ('calder', 'NOUN'), ('the', 'DET'), ('swings', 'NOUN'), ('its', 'PRON'), (',', '.'), ('buyer', 'NOUN'), ('*t*-1', 'X'), ('gyrate', 'NOUN'), ('cases', 'NOUN'), ('0', 'X'), ('it', 'PRON'), ('as', 'ADP'), ('losses', 'NOUN'), ('a', 'DET'), ('construction', 'NOUN'), ('?', '.'), ('47.125', 'NUM'), ('in', 'ADP'), ('*t*-1', 'X'), ('court', 'NOUN'), ('service', 'NOUN'), ('can', 'VERB'), ('both', 'DET'), ('offset', 'VERB'), ('print', 'VERB'), ('*', 'X'), ('publishing', 'NOUN'), ('1990', 'NUM'), ('development', 'NOUN'), ('is', 'VERB'), ('most', 'ADJ'), ('could', 'VERB'), ('holding', 'VERB'), ('with', 'ADP'), ('standard', 'NOUN'), ('disputes', 'NOUN'), ('york', 'NOUN'), (\"'s\", 'PRT'), ('.', '.'), ('and', 'CONJ'), ('serial', 'NOUN'), ('been', 'VERB'), ('in', 'ADP'), ('via', 'ADP'), ('an', 'DET'), ('``', '.'), (\"n't\", 'ADV'), ('investor', 'NOUN'), ('magazine', 'NOUN'), ('market', 'NOUN'), (',', '.'), ('at', 'ADP'), ('a', 'DET'), ('``', '.'), ('spending', 'NOUN'), (',', '.'), ('the', 'DET'), ('traders', 'NOUN'), ('circle', 'NOUN'), (',', '.'), ('coming', 'VERB'), ('the', 'DET'), ('proposed', 'VERB'), ('businessman', 'NOUN'), ('the', 'DET'), ('the', 'DET'), ('money-center', 'NOUN'), ('trade', 'NOUN'), (',', '.'), ('real', 'ADJ'), ('$', '.'), ('dollars', 'NOUN'), ('can', 'VERB'), (',', '.'), ('earnings', 'NOUN'), ('the', 'DET'), ('daily', 'ADJ'), ('health', 'NOUN'), ('adviser', 'NOUN'), ('moderate', 'ADJ'), ('stock', 'NOUN'), ('around', 'ADP'), ('the', 'DET'), ('a', 'DET'), ('he', 'PRON'), ('million', 'NUM'), ('believe', 'VERB'), ('merely', 'ADV'), ('.', '.'), (',', '.'), ('regions', 'NOUN'), ('reuters', 'NOUN'), ('testing', 'NOUN'), ('own', 'ADJ'), ('billion', 'NUM'), ('.', '.'), ('bilateral', 'ADJ'), ('risk', 'NOUN'), ('3.5', 'NUM'), ('an', 'DET'), ('a', 'DET'), ('or', 'CONJ'), (\"'s\", 'PRT'), ('to', 'PRT'), ('marks', 'NOUN'), (\"'s\", 'PRT'), ('own', 'ADJ'), ('sales', 'NOUN'), ('called', 'VERB'), ('control', 'NOUN'), ('of', 'ADP'), (',', '.'), ('of', 'ADP'), ('its', 'PRON'), ('to', 'PRT'), ('the', 'DET'), ('the', 'DET'), ('potential', 'ADJ'), ('in', 'ADP'), ('900', 'NUM'), ('the', 'DET'), ('.', '.'), ('-rrb-', '.'), ('stocks', 'NOUN'), (',', '.'), ('the', 'DET'), ('traders', 'NOUN'), ('inquiry', 'NOUN'), ('*', 'X'), ('my', 'PRON'), ('500', 'NUM'), ('continue', 'VERB'), (',', '.'), ('old', 'ADJ'), ('turn', 'VERB'), ('mitsubishi', 'NOUN'), ('securities', 'NOUN'), ('sacrifice', 'NOUN'), ('thrift', 'NOUN'), ('baum', 'NOUN'), ('in', 'ADP'), ('together', 'ADV'), ('trading', 'NOUN'), (\"''\", '.'), ('supply', 'NOUN'), ('england', 'NOUN'), ('--', '.'), ('co.', 'NOUN'), ('many', 'ADJ'), ('i', 'PRON'), ('$', '.'), ('*t*-1', 'X'), ('of', 'ADP'), ('high', 'ADJ'), ('.', '.'), ('spending', 'NOUN'), ('of', 'ADP'), (';', '.'), ('anything', 'NOUN'), ('.', '.'), ('.', '.'), ('as', 'ADP'), ('expense', 'NOUN'), ('oy', 'NOUN'), ('here', 'ADV'), ('and', 'CONJ'), ('fellow', 'ADJ'), ('he', 'PRON'), ('time', 'NOUN'), ('business', 'NOUN'), ('functioning', 'NOUN'), ('losses', 'NOUN'), ('*-1', 'X'), ('wine', 'NOUN'), ('3', 'NUM'), ('.', '.'), ('first', 'ADJ'), ('continue', 'VERB'), ('elsevier', 'NOUN'), ('%', 'NOUN'), ('some', 'DET'), ('months', 'NOUN'), ('was', 'VERB'), ('from', 'ADP'), ('a', 'DET'), ('1,400', 'NOUN'), ('payments', 'NOUN'), ('might', 'VERB'), ('of', 'ADP'), ('*ich*-1', 'X'), ('stake', 'NOUN'), ('the', 'DET'), ('.', '.'), ('assets', 'NOUN'), ('to', 'PRT'), (',', '.'), ('from', 'ADP'), ('began', 'VERB'), ('finance', 'NOUN'), ('and', 'CONJ'), ('9', 'NUM'), ('the', 'DET'), ('*t*-1', 'X'), ('0', 'X'), ('at', 'ADP'), ('industry', 'NOUN'), ('and', 'CONJ'), ('probably', 'ADV'), ('.', '.'), ('widely', 'ADV'), ('which', 'DET'), ('.', '.'), ('and', 'CONJ'), ('say', 'VERB'), ('who', 'PRON'), ('television', 'NOUN'), ('new', 'ADJ'), ('20', 'NUM'), ('a', 'DET'), ('.', '.'), (',', '.'), ('%', 'NOUN'), ('*t*-1', 'X'), ('year', 'NOUN'), ('*', 'X'), (',', '.'), ('maker', 'NOUN'), ('15', 'NUM'), ('has', 'VERB'), (\"'re\", 'VERB'), ('referring', 'NOUN'), ('sen.', 'NOUN'), ('week', 'NOUN'), ('twin', 'NOUN'), ('*ich*-1', 'X'), ('by', 'ADP'), ('as', 'ADP'), ('education', 'NOUN'), ('workers', 'NOUN'), ('*-1', 'X'), ('rewarding', 'NOUN'), ('japanese', 'ADJ'), ('once', 'ADV'), ('earlier', 'ADJ'), ('$', '.'), ('at', 'ADP'), ('been', 'VERB'), ('%', 'NOUN'), ('the', 'DET'), ('and', 'CONJ'), ('currently', 'ADV'), ('than', 'ADP'), ('ward', 'NOUN'), ('election', 'NOUN'), ('company', 'NOUN'), ('antitrust', 'ADJ'), ('0', 'X'), ('german', 'ADJ'), ('acres', 'NOUN'), ('*u*', 'X'), ('.', '.'), ('.', '.'), ('despite', 'ADP'), ('alan', 'NOUN'), ('prices', 'NOUN'), ('a', 'DET'), ('same', 'ADJ'), ('insurance', 'NOUN'), ('150,000', 'NOUN'), ('*u*', 'X'), ('program', 'NOUN'), ('integration', 'NOUN'), ('the', 'DET'), ('new', 'ADJ'), ('at', 'ADP'), (',', '.'), ('it', 'PRON'), ('research', 'NOUN'), (',', '.'), ('romance', 'NOUN'), ('*t*-2', 'X'), ('a', 'DET'), ('in', 'ADP'), ('65', 'NUM'), ('like', 'ADP'), ('she', 'PRON'), ('the', 'DET'), ('takes', 'VERB'), ('million', 'NUM'), ('neighbors', 'NOUN'), ('shares', 'NOUN'), ('consulting', 'NOUN'), ('--', '.'), ('state', 'NOUN'), ('because', 'ADP'), ('questions', 'NOUN'), ('or', 'CONJ'), ('i', 'PRON'), ('50', 'NUM'), ('*t*-1', 'X'), ('is', 'VERB'), (',', '.'), ('*-1', 'X'), (',', '.'), ('hahn', 'NOUN'), ('street', 'NOUN'), ('very', 'ADV'), ('take', 'VERB'), ('often', 'ADV'), ('prime', 'NOUN'), ('year', 'NOUN'), ('*u*', 'X'), ('thursday', 'NOUN'), ('newspaper', 'NOUN'), ('useful', 'ADJ'), ('effect', 'NOUN'), ('funds', 'NOUN'), ('data', 'NOUN'), ('31', 'NUM'), ('trades', 'NOUN'), (',', '.'), ('up', 'PRT'), ('long', 'ADJ'), ('a', 'DET'), ('a', 'DET'), ('.', '.'), ('does', 'VERB'), (',', '.')]\n"
     ]
    }
   ],
   "source": [
    "print(\"Time taken in seconds: \", difference_2)\n",
    "print(tagged_seq_2)"
   ]
  },
  {
   "cell_type": "code",
   "execution_count": 89,
   "metadata": {},
   "outputs": [],
   "source": [
    "# creating a list of word-tag pairs that have been tagged correctly \n",
    "\n",
    "correctly_tagged_pairs_2 = [i for i, j in zip(tagged_seq_2, zip(validation_words, validation_tags)) if i == j]"
   ]
  },
  {
   "cell_type": "code",
   "execution_count": 90,
   "metadata": {},
   "outputs": [
    {
     "data": {
      "text/plain": [
       "0.9259038537941995"
      ]
     },
     "execution_count": 90,
     "metadata": {},
     "output_type": "execute_result"
    }
   ],
   "source": [
    "#Checking the percentage of words that were tagged correctly\n",
    "\n",
    "accuracy_2 = len(correctly_tagged_pairs_2)/len(tagged_seq_2)\n",
    "accuracy_2"
   ]
  },
  {
   "cell_type": "code",
   "execution_count": 91,
   "metadata": {},
   "outputs": [
    {
     "data": {
      "text/plain": [
       "43"
      ]
     },
     "execution_count": 91,
     "metadata": {},
     "output_type": "execute_result"
    }
   ],
   "source": [
    "#Triggering garbage collection\n",
    "gc.collect()"
   ]
  },
  {
   "cell_type": "markdown",
   "metadata": {},
   "source": [
    "### 3. Dealing with unknown words by creating rules based on the morphology of the word "
   ]
  },
  {
   "cell_type": "code",
   "execution_count": 92,
   "metadata": {},
   "outputs": [],
   "source": [
    "# Using the Viterbi heuristic and using rules for words that are not present in the train set\n",
    "\n",
    "def Viterbi_3(words):\n",
    "    #initialising a list to store the tag with the max state probability for each word\n",
    "    tags_list = []\n",
    "    \n",
    "    for key, word in enumerate(words):\n",
    "        \n",
    "        if word in Vocab:\n",
    "        \n",
    "            #initialising a list to calculate state probability for all tags for each word\n",
    "            prob_list = []\n",
    "\n",
    "            for tag in POS_tags:\n",
    "                if key == 0:\n",
    "                    transition_p = tags_df.loc['.', tag]\n",
    "                else:\n",
    "                    transition_p = tags_df.loc[tags_list[-1], tag]\n",
    "\n",
    "                # calculating the emission probability for the current word and tag\n",
    "                emission_p = word_given_tag(words[key], tag)[0]/word_given_tag(words[key], tag)[1]\n",
    "                \n",
    "                # computing the state probability for the current word and tag\n",
    "                state_probability = emission_p * transition_p    \n",
    "\n",
    "                # appending state probability to list of state probabilities for current word and tag\n",
    "                prob_list.append(state_probability)\n",
    "\n",
    "            # finding the max state probability for this word\n",
    "            prob_max = max(prob_list)\n",
    "            \n",
    "            # getting the tag with the max state probability for this word\n",
    "            tag_with_max_state_prob = POS_tags[prob_list.index(prob_max)] \n",
    "            tags_list.append(tag_with_max_state_prob)\n",
    "        \n",
    "        else:\n",
    "            #function call\n",
    "            morph_tag = morphology_rules([word])\n",
    "            tags_list.append(morph_tag)\n",
    "        \n",
    "    return list(zip(words, tags_list))"
   ]
  },
  {
   "cell_type": "markdown",
   "metadata": {},
   "source": [
    "#### Checking the words that were incorrectly tagged by the vanilla viterbi algorithm to identify the kind of rules required"
   ]
  },
  {
   "cell_type": "code",
   "execution_count": 93,
   "metadata": {},
   "outputs": [
    {
     "data": {
      "text/plain": [
       "[('noodles', '.'),\n",
       " ('persuasive', '.'),\n",
       " ('*t*-133', '.'),\n",
       " ('a.l.', '.'),\n",
       " ('3648.82', '.'),\n",
       " (\"'s\", 'PRT'),\n",
       " ('evaluated', '.'),\n",
       " ('altruistic', '.'),\n",
       " ('10.5', '.'),\n",
       " ('portrayed', '.'),\n",
       " ('inside', '.'),\n",
       " ('offering', 'NOUN'),\n",
       " ('*t*-93', '.'),\n",
       " ('even', 'ADV'),\n",
       " ('*t*-161', '.'),\n",
       " ('planes', '.'),\n",
       " ('eveready', '.'),\n",
       " ('acted', '.'),\n",
       " ('disregard', '.'),\n",
       " ('up', 'PRT'),\n",
       " ('referrals', '.'),\n",
       " ('watchdogs', '.'),\n",
       " ('then-speaker', '.'),\n",
       " ('up', 'PRT'),\n",
       " ('tell', '.'),\n",
       " ('sue', '.'),\n",
       " ('schoolchildren', '.'),\n",
       " ('christmas', '.'),\n",
       " ('initiating', '.'),\n",
       " ('8.48', '.'),\n",
       " ('exit', '.'),\n",
       " ('50-50', '.'),\n",
       " ('fifteen', '.'),\n",
       " ('*t*-165', '.'),\n",
       " ('decrease', 'VERB'),\n",
       " ('match', 'NOUN'),\n",
       " ('international', 'NOUN'),\n",
       " ('contradictions', '.'),\n",
       " ('developments', '.'),\n",
       " ('hit', 'VERB'),\n",
       " ('reading', 'NOUN'),\n",
       " ('in', 'ADP'),\n",
       " ('barely', '.'),\n",
       " ('new', 'ADJ'),\n",
       " ('east', 'NOUN'),\n",
       " ('tunes', '.'),\n",
       " ('*-150', '.'),\n",
       " ('much', 'ADJ'),\n",
       " ('in', 'ADP'),\n",
       " ('near-limit', '.'),\n",
       " ('lungs', '.'),\n",
       " ('outsiders', '.'),\n",
       " ('staying', '.'),\n",
       " ('audiocassettes', '.'),\n",
       " ('swing', 'VERB'),\n",
       " ('manufacturing', 'NOUN'),\n",
       " ('reports', 'NOUN'),\n",
       " ('switch', 'VERB'),\n",
       " ('present', 'VERB'),\n",
       " ('re-thought', '.'),\n",
       " ('gross', 'ADJ'),\n",
       " ('as', 'ADP'),\n",
       " ('championing', '.'),\n",
       " ('26,000', '.'),\n",
       " ('kidney', '.'),\n",
       " ('trading', 'NOUN'),\n",
       " ('would-be', '.'),\n",
       " ('male', 'NOUN'),\n",
       " ('*t*-159', '.'),\n",
       " ('that', 'ADP'),\n",
       " ('pencil', '.'),\n",
       " ('firings', '.'),\n",
       " ('obtaining', '.'),\n",
       " ('market-based', '.'),\n",
       " ('much', 'ADV'),\n",
       " ('voluntary', '.'),\n",
       " ('crucial', '.'),\n",
       " ('increase', 'NOUN'),\n",
       " ('zaharah', '.'),\n",
       " ('705.6', '.'),\n",
       " ('rectified', '.'),\n",
       " ('non-encapsulating', '.'),\n",
       " ('latter', '.'),\n",
       " ('veselich', '.'),\n",
       " ('woolworth', '.'),\n",
       " ('pre-emptive', '.'),\n",
       " ('lazzaroni', '.'),\n",
       " ('blue-chips', '.'),\n",
       " ('quantitive', '.'),\n",
       " ('untrue', '.'),\n",
       " ('most', 'ADJ'),\n",
       " ('daily', 'ADJ'),\n",
       " ('discontinue', '.'),\n",
       " ('*-155', '.'),\n",
       " ('solely', '.'),\n",
       " ('sport-utility', '.'),\n",
       " (\"'s\", 'PRT'),\n",
       " ('gelatin', '.'),\n",
       " ('totally', '.'),\n",
       " ('internal', 'ADJ'),\n",
       " ('islands', '.'),\n",
       " ('degenerative', '.'),\n",
       " ('lasting', '.'),\n",
       " ('zayed', '.'),\n",
       " ('estimates', 'NOUN'),\n",
       " ('own', 'ADJ'),\n",
       " ('mandates', '.'),\n",
       " ('so', 'ADV'),\n",
       " ('cold', 'NOUN'),\n",
       " ('diversification', '.'),\n",
       " ('bend', '.'),\n",
       " ('*t*-247', '.'),\n",
       " ('escape', '.'),\n",
       " ('buildup', '.'),\n",
       " ('exceedingly', '.'),\n",
       " ('*t*-194', '.'),\n",
       " ('questioned', '.'),\n",
       " ('packed', '.'),\n",
       " ('2.375', '.'),\n",
       " ('projector', '.'),\n",
       " ('mood', '.'),\n",
       " ('norfolk', '.'),\n",
       " ('solidarity', '.'),\n",
       " ('julia', '.'),\n",
       " ('serial', 'NOUN'),\n",
       " ('british', 'ADJ'),\n",
       " ('that', 'ADP'),\n",
       " ('drobnick', '.'),\n",
       " ('next', 'ADJ'),\n",
       " ('bedding', '.'),\n",
       " ('in', 'ADP'),\n",
       " ('armed', '.'),\n",
       " ('accomplishments', '.'),\n",
       " ('right', 'NOUN'),\n",
       " ('english', 'NOUN'),\n",
       " ('favored', 'VERB'),\n",
       " ('that', 'ADP'),\n",
       " ('noncompetitively', '.'),\n",
       " ('fiber', '.'),\n",
       " ('earlier', 'ADJ'),\n",
       " ('quoting', '.'),\n",
       " ('beer-belly', '.'),\n",
       " ('that', 'ADP'),\n",
       " ('implicitly', '.'),\n",
       " ('hoffman', '.'),\n",
       " ('unfortunately', '.'),\n",
       " ('reviewing', '.'),\n",
       " ('soviet', 'ADJ'),\n",
       " ('zip', '.'),\n",
       " ('*-66', '.'),\n",
       " ('feelings', '.'),\n",
       " ('jonas', '.'),\n",
       " ('aptitude', '.'),\n",
       " ('mistakenly', '.'),\n",
       " ('trockenbeerenauslesen', '.'),\n",
       " ('polish', 'ADJ'),\n",
       " ('467', '.'),\n",
       " ('bald-faced', '.'),\n",
       " ('purchasing', 'NOUN'),\n",
       " ('balls', '.'),\n",
       " ('funding', 'NOUN'),\n",
       " (\"o'neill\", '.'),\n",
       " ('explorer', '.'),\n",
       " ('last', 'ADJ'),\n",
       " ('layer', '.'),\n",
       " ('*t*-77', '.'),\n",
       " ('potential', 'ADJ'),\n",
       " ('meaning', 'NOUN'),\n",
       " ('acid', 'NOUN'),\n",
       " ('deprived', '.'),\n",
       " ('rieslings', '.'),\n",
       " ('international', 'NOUN'),\n",
       " ('hegemony', '.'),\n",
       " ('public', 'ADJ'),\n",
       " ('life-insurance', '.'),\n",
       " ('worth', 'NOUN'),\n",
       " ('crucial', '.'),\n",
       " ('depression', '.'),\n",
       " ('demands', '.'),\n",
       " ('shelf', '.'),\n",
       " ('chest', '.'),\n",
       " ('receipt', '.'),\n",
       " ('us', 'PRON'),\n",
       " ('past', 'ADJ'),\n",
       " ('mainland', '.'),\n",
       " ('319.75', '.'),\n",
       " ('a.l.', '.'),\n",
       " ('plans', 'VERB'),\n",
       " ('sino-u.s.', 'ADJ'),\n",
       " ('80.50', '.'),\n",
       " ('less-than-brilliant', '.'),\n",
       " ('sulaiman', '.'),\n",
       " ('one', 'NUM'),\n",
       " ('strapped', '.'),\n",
       " ('profited', '.'),\n",
       " ('30.6', '.'),\n",
       " ('warning', 'VERB'),\n",
       " ('american', 'NOUN'),\n",
       " ('half-hour', 'NOUN'),\n",
       " ('smothering', '.'),\n",
       " ('as', 'ADP'),\n",
       " ('further', 'ADJ'),\n",
       " ('resembles', '.'),\n",
       " ('sometimes-exhausting', '.'),\n",
       " ('instructed', '.'),\n",
       " ('assemble', '.'),\n",
       " ('new', 'ADJ'),\n",
       " ('doctor', '.'),\n",
       " ('like', 'ADP'),\n",
       " ('outnumbered', '.'),\n",
       " ('that', 'ADP'),\n",
       " ('1903', '.'),\n",
       " ('observance', '.'),\n",
       " ('traditionalists', '.'),\n",
       " ('new', 'ADJ'),\n",
       " ('telegraph', 'NOUN'),\n",
       " ('that', 'ADP'),\n",
       " ('figure', 'VERB'),\n",
       " ('semiconductors', '.'),\n",
       " ('average', 'ADJ'),\n",
       " ('new', 'ADJ'),\n",
       " ('repeatedly', '.'),\n",
       " ('explanatory', '.'),\n",
       " ('drawing', 'VERB'),\n",
       " ('*t*-202', '.'),\n",
       " ('support', 'NOUN'),\n",
       " ('justice', 'NOUN'),\n",
       " ('220.45', '.'),\n",
       " ('cdc', '.'),\n",
       " ('about', 'ADP'),\n",
       " ('undisclosed', '.'),\n",
       " ('princely', '.'),\n",
       " ('national', 'NOUN'),\n",
       " ('c.d.s', '.'),\n",
       " ('islands', '.'),\n",
       " ('dislike', 'NOUN'),\n",
       " ('generate', '.'),\n",
       " ('graphs', '.'),\n",
       " ('awaits', '.'),\n",
       " ('half', 'DET'),\n",
       " ('unpopularity', '.'),\n",
       " ('reclaimed', '.'),\n",
       " ('as', 'ADP'),\n",
       " ('merit', 'NOUN'),\n",
       " ('slip', '.'),\n",
       " ('mailed', '.'),\n",
       " ('*t*-198', '.'),\n",
       " ('yon', '.'),\n",
       " ('parallels', 'VERB'),\n",
       " ('quitting', '.'),\n",
       " ('purchase', 'NOUN'),\n",
       " ('sauvignon', '.'),\n",
       " ('9.37', '.'),\n",
       " ('lessen', '.'),\n",
       " ('trade', 'NOUN'),\n",
       " ('paris', '.'),\n",
       " ('faultlessly', '.'),\n",
       " ('asserts', '.'),\n",
       " ('warning', 'NOUN'),\n",
       " ('recommended', '.'),\n",
       " ('shareholder-rights', '.'),\n",
       " ('sheaf', '.'),\n",
       " ('numbered', '.'),\n",
       " ('tray', '.'),\n",
       " ('government-funded', '.'),\n",
       " ('widgets', '.'),\n",
       " ('wrestling', '.'),\n",
       " ('avid', '.'),\n",
       " ('open-end', '.'),\n",
       " ('that', 'ADP'),\n",
       " ('curbing', '.'),\n",
       " ('377.60', '.'),\n",
       " ('1997', '.'),\n",
       " ('extramarital', '.'),\n",
       " ('n.j.-based', '.'),\n",
       " ('homeless', 'NOUN'),\n",
       " ('economic', 'ADJ'),\n",
       " ('ingredients', '.'),\n",
       " ('hustlers', '.'),\n",
       " ('7.20', '.'),\n",
       " ('clears', '.'),\n",
       " ('drag-down', '.'),\n",
       " ('new', 'ADJ'),\n",
       " ('spitler', '.'),\n",
       " ('off', 'PRT'),\n",
       " ('acting', '.'),\n",
       " ('bowl', '.'),\n",
       " ('authorized', '.'),\n",
       " ('as', 'ADP'),\n",
       " ('filling', 'VERB'),\n",
       " ('utsumi', '.'),\n",
       " ('first', 'ADJ'),\n",
       " ('xiaoping', '.'),\n",
       " ('7.8', '.'),\n",
       " ('wilcox', '.'),\n",
       " ('valuation', '.'),\n",
       " ('830,000', '.'),\n",
       " ('plo', '.'),\n",
       " ('some', 'DET'),\n",
       " ('16.9', '.'),\n",
       " ('abrupt', '.'),\n",
       " ('fit', 'NOUN'),\n",
       " ('that', 'ADP'),\n",
       " ('interior', '.'),\n",
       " ('dunkin', '.'),\n",
       " ('dreamed', '.'),\n",
       " ('exchange', 'NOUN'),\n",
       " ('widgets', '.'),\n",
       " ('sub-markets', '.'),\n",
       " ('further', 'ADJ'),\n",
       " ('92.9', '.'),\n",
       " ('post', 'NOUN'),\n",
       " ('offer', 'NOUN'),\n",
       " ('bangkok', '.'),\n",
       " ('reuter', '.'),\n",
       " ('dawn', '.'),\n",
       " ('squier', '.'),\n",
       " ('auto-safety', '.'),\n",
       " ('boy', '.'),\n",
       " ('f.w.', '.'),\n",
       " (\"'\", 'PRT'),\n",
       " ('grant', 'NOUN'),\n",
       " ('over', 'ADP'),\n",
       " ('american', 'NOUN'),\n",
       " ('numeral', '.'),\n",
       " ('back', 'ADV'),\n",
       " ('resilient', '.'),\n",
       " ('machinists', '.'),\n",
       " ('knowledgeable', '.'),\n",
       " ('ymca', '.'),\n",
       " ('bottom-line', '.'),\n",
       " ('fuel', 'NOUN'),\n",
       " ('new', 'ADJ'),\n",
       " ('*t*-246', '.'),\n",
       " ('down', 'ADV'),\n",
       " ('pretax', 'NOUN'),\n",
       " ('cry', '.'),\n",
       " ('2.80', '.'),\n",
       " ('design', 'NOUN'),\n",
       " ('more', 'ADJ'),\n",
       " ('so', 'ADV'),\n",
       " ('high', 'ADJ'),\n",
       " ('out', 'PRT'),\n",
       " ('comedies', '.'),\n",
       " ('landis', '.'),\n",
       " ('back', 'ADV'),\n",
       " ('resign', '.'),\n",
       " ('new', 'ADJ'),\n",
       " ('luck', '.'),\n",
       " ('targets', 'VERB'),\n",
       " ('451', '.'),\n",
       " ('r.i.', '.'),\n",
       " ('bidder', '.'),\n",
       " ('vaccines', '.'),\n",
       " ('yield', 'VERB'),\n",
       " ('eurodollars', '.'),\n",
       " ('bounce', '.'),\n",
       " ('disagrees', '.'),\n",
       " ('indexing', '.'),\n",
       " ('help', 'VERB'),\n",
       " ('herald', 'NOUN'),\n",
       " ('simultaneous', '.'),\n",
       " ('strictly', '.'),\n",
       " ('down', 'ADV'),\n",
       " ('innovative', '.'),\n",
       " ('*-121', '.'),\n",
       " ('magleby', '.'),\n",
       " ('angola', '.'),\n",
       " ('wilfred', '.'),\n",
       " ('perceives', '.'),\n",
       " ('225.6', '.'),\n",
       " ('exhaust', 'VERB'),\n",
       " (\"'s\", 'PRT'),\n",
       " ('one', 'NUM'),\n",
       " ('declare', '.'),\n",
       " ('850', '.'),\n",
       " ('giant', 'NOUN'),\n",
       " ('11th', '.'),\n",
       " ('ec', '.'),\n",
       " ('that', 'ADP'),\n",
       " ('grant', 'NOUN'),\n",
       " ('sets', 'NOUN'),\n",
       " ('wilbur', '.'),\n",
       " ('14.53', '.'),\n",
       " ('playwright', '.'),\n",
       " ('excess', 'ADJ'),\n",
       " ('torrent', '.'),\n",
       " ('new', 'ADJ'),\n",
       " ('112.9', '.'),\n",
       " ('achievement-test', '.'),\n",
       " ('up', 'PRT'),\n",
       " ('that', 'ADP'),\n",
       " ('dogs', '.'),\n",
       " ('ago', 'ADP'),\n",
       " ('central', 'ADJ'),\n",
       " ('capability', '.'),\n",
       " ('though', 'ADP'),\n",
       " ('128', '.'),\n",
       " ('traitor', '.'),\n",
       " ('that', 'ADP'),\n",
       " ('spurring', '.'),\n",
       " ('ward', 'NOUN'),\n",
       " ('indexes', '.'),\n",
       " ('as', 'ADP'),\n",
       " ('rebuilding', '.'),\n",
       " ('skittishness', '.'),\n",
       " ('signifying', '.'),\n",
       " ('stake', 'NOUN'),\n",
       " ('176', '.'),\n",
       " ('sectors', '.'),\n",
       " ('besuboru', '.'),\n",
       " ('plastic', 'ADJ'),\n",
       " ('that', 'ADP'),\n",
       " ('chinese', 'ADJ'),\n",
       " ('self', '.'),\n",
       " ('inventor', '.'),\n",
       " ('memorize', '.'),\n",
       " ('signal', 'NOUN'),\n",
       " ('*t*-220', '.'),\n",
       " ('donuts', '.'),\n",
       " ('interrogation', '.'),\n",
       " ('high', 'ADJ'),\n",
       " ('durable-goods', '.'),\n",
       " ('bribery', '.'),\n",
       " ('successfully', '.'),\n",
       " ('assisted', '.'),\n",
       " ('comment', 'NOUN'),\n",
       " ('absurd', '.'),\n",
       " ('next', 'ADJ'),\n",
       " ('a', 'DET'),\n",
       " ('malignant', '.'),\n",
       " ('mcdermott', '.'),\n",
       " ('lives', 'NOUN'),\n",
       " ('rash', '.'),\n",
       " ('megabytes', '.'),\n",
       " ('*t*-77', '.'),\n",
       " ('waiver', '.'),\n",
       " ('all', 'DET'),\n",
       " ('valuation', '.'),\n",
       " ('hard', 'ADJ'),\n",
       " ('markets', 'NOUN'),\n",
       " ('first', 'ADJ'),\n",
       " ('that', 'ADP'),\n",
       " ('swallow', '.'),\n",
       " ('98.3', '.'),\n",
       " ('cast-iron', '.'),\n",
       " ('long', 'ADJ'),\n",
       " ('new', 'ADJ'),\n",
       " ('139', '.'),\n",
       " ('wafa', '.'),\n",
       " ('dexterity', '.'),\n",
       " ('professional', 'ADJ'),\n",
       " ('insurance-company', '.'),\n",
       " ('builders', '.'),\n",
       " ('yellow', '.'),\n",
       " ('father-in-law', '.'),\n",
       " ('negus', '.'),\n",
       " ('six-bottle', '.'),\n",
       " ('one', 'NUM'),\n",
       " ('quips', '.'),\n",
       " ('softening', 'VERB'),\n",
       " ('*t*-127', '.'),\n",
       " ('posing', '.'),\n",
       " ('only', 'ADV'),\n",
       " ('cab', '.'),\n",
       " ('nederlanden', '.'),\n",
       " ('2.07', '.'),\n",
       " ('pardus', '.'),\n",
       " ('trade', 'NOUN'),\n",
       " ('0.0085', '.'),\n",
       " ('inspirational', '.'),\n",
       " ('nationwide', 'ADJ'),\n",
       " ('397', '.'),\n",
       " ('license', 'VERB'),\n",
       " ('safe-deposit', '.'),\n",
       " ('263.07', '.'),\n",
       " ('vs.', 'CONJ'),\n",
       " ('undergoing', '.'),\n",
       " (\"'s\", 'PRT'),\n",
       " ('*-88', '.'),\n",
       " ('impression', '.'),\n",
       " ('supply', 'NOUN'),\n",
       " ('del', 'NOUN'),\n",
       " ('hosted', '.'),\n",
       " ('roland', '.'),\n",
       " ('preston', '.'),\n",
       " ('avert', '.'),\n",
       " ('that', 'ADP'),\n",
       " ('there', 'DET'),\n",
       " ('slow', 'VERB'),\n",
       " ('as', 'ADP'),\n",
       " ('*t*-117', '.'),\n",
       " ('calder', '.'),\n",
       " ('gyrate', '.'),\n",
       " ('publishing', 'NOUN'),\n",
       " ('standard', 'NOUN'),\n",
       " ('serial', 'NOUN'),\n",
       " ('money-center', '.'),\n",
       " ('trade', 'NOUN'),\n",
       " ('potential', 'ADJ'),\n",
       " ('sacrifice', '.'),\n",
       " ('together', 'ADV'),\n",
       " ('expense', '.'),\n",
       " ('functioning', '.'),\n",
       " ('elsevier', '.'),\n",
       " ('1,400', '.'),\n",
       " ('finance', 'NOUN'),\n",
       " ('new', 'ADJ'),\n",
       " ('referring', '.'),\n",
       " ('twin', '.'),\n",
       " ('as', 'ADP'),\n",
       " ('rewarding', '.'),\n",
       " ('japanese', 'ADJ'),\n",
       " ('150,000', '.'),\n",
       " ('neighbors', '.'),\n",
       " ('state', 'NOUN'),\n",
       " ('prime', 'NOUN'),\n",
       " ('up', 'PRT'),\n",
       " ('long', 'ADJ')]"
      ]
     },
     "execution_count": 93,
     "metadata": {},
     "output_type": "execute_result"
    }
   ],
   "source": [
    "incorrectly_tagged_pairs = [i for i, j in zip(tagged_seq, zip(validation_words, validation_tags)) if i != j]\n",
    "incorrectly_tagged_pairs"
   ]
  },
  {
   "cell_type": "markdown",
   "metadata": {},
   "source": [
    "#### Creating a list of patterns that can be used with RegexpTagger"
   ]
  },
  {
   "cell_type": "code",
   "execution_count": 94,
   "metadata": {},
   "outputs": [],
   "source": [
    "# specifying patterns for tagging\n",
    "\n",
    "patterns = [\n",
    "    (r'.*ing$', 'VERB'),              # gerund\n",
    "    (r'.*ed$', 'VERB'),               # past tense\n",
    "    (r'.*es$', 'VERB'),               # 3rd singular present\n",
    "    (r'.*ould$', 'VERB'),             # modals\n",
    "    (r'.*ize$', 'VERB'),              # verb\n",
    "    (r'.*ise$', 'VERB'),              # verb\n",
    "    (r'.*ous$', 'ADJ'),               # adjectives\n",
    "    (r'.*able$', 'ADJ'),              # adjectives\n",
    "    (r'.*less$', 'ADJ'),              # adjectives\n",
    "    (r'.*al$', 'ADJ'),                # adjectives\n",
    "    (r'.*ful$', 'ADJ'),               # adjectives\n",
    "    (r'.*ory$', 'ADJ'),               # adjectives\n",
    "    (r'.*tic$', 'ADJ'),               # adjectives\n",
    "    (r'.*ly$', 'ADV'),                # adverbs\n",
    "    (r'.*ness$', 'NOUN'),             # nouns\n",
    "    (r'.*ion$', 'NOUN'),              # nouns\n",
    "    (r'.*or$', 'NOUN'),               # nouns\n",
    "    (r'.*ty$', 'NOUN'),               # nouns\n",
    "    (r'.*\\'s$', 'NOUN'),              # possessive nouns\n",
    "    (r'[0-9]*\\.?[0-9]+$', 'NUM'),     # cardinal numbers\n",
    "    (r'[a-z]+-[a-z]+', 'ADJ'),        # hyphenated words - adjectives\n",
    "    (r'.*s$', 'NOUN'),                # plural nouns\n",
    "    (r'.*', 'NOUN')                   # nouns\n",
    "]"
   ]
  },
  {
   "cell_type": "code",
   "execution_count": 95,
   "metadata": {},
   "outputs": [],
   "source": [
    "#Creating a function that checks for pattern matches\n",
    "\n",
    "def morphology_rules(word):\n",
    "    regexp_tagger = nltk.RegexpTagger(patterns)\n",
    "    pair = regexp_tagger.tag(word)\n",
    "    return pair[0][1]\n"
   ]
  },
  {
   "cell_type": "markdown",
   "metadata": {},
   "source": [
    "#### Using this modified alogrithm to tag the words in the validation set"
   ]
  },
  {
   "cell_type": "code",
   "execution_count": 96,
   "metadata": {},
   "outputs": [],
   "source": [
    "# tagging the test sentences\n",
    "start_3 = time.time()\n",
    "tagged_seq_3 = Viterbi_3(validation_words)\n",
    "end_3 = time.time()\n",
    "difference_3 = end_3 - start_3"
   ]
  },
  {
   "cell_type": "code",
   "execution_count": 97,
   "metadata": {
    "scrolled": true
   },
   "outputs": [
    {
     "name": "stdout",
     "output_type": "stream",
     "text": [
      "Time taken in seconds:  1441.5843422412872\n",
      "[('61', 'NUM'), ('noodles', 'VERB'), ('tokyo', 'NOUN'), ('the', 'DET'), ('buy', 'VERB'), ('beginning', 'VERB'), ('of', 'ADP'), ('circulation', 'NOUN'), ('bill', 'NOUN'), ('account', 'NOUN'), ('of', 'ADP'), ('``', '.'), ('a', 'DET'), ('*-2', 'X'), ('persuasive', 'NOUN'), ('*', 'X'), ('traders', 'NOUN'), ('over', 'ADP'), ('a', 'DET'), ('a', 'DET'), ('*-1', 'X'), ('there', 'DET'), ('miami', 'NOUN'), (',', '.'), ('hefty', 'ADJ'), (\"'s\", 'PRT'), ('be', 'VERB'), ('noting', 'VERB'), ('1990', 'NUM'), ('stores', 'NOUN'), ('of', 'ADP'), ('*t*-133', 'NOUN'), ('estimated', 'VERB'), ('company', 'NOUN'), ('of', 'ADP'), ('talks', 'NOUN'), ('4.6', 'NUM'), ('japanese', 'ADJ'), ('due', 'ADJ'), ('*rnr*-1', 'X'), ('comment', 'NOUN'), ('a.l.', 'NOUN'), ('of', 'ADP'), (',', '.'), ('.', '.'), ('the', 'DET'), ('concern', 'NOUN'), ('of', 'ADP'), ('they', 'PRON'), ('of', 'ADP'), ('reached', 'VERB'), ('april', 'NOUN'), ('helped', 'VERB'), ('exact', 'ADJ'), ('form', 'NOUN'), ('his', 'PRON'), ('would', 'VERB'), (',', '.'), ('major', 'ADJ'), ('markdown', 'NOUN'), ('3648.82', 'NUM'), ('construction', 'NOUN'), ('to', 'PRT'), (',', '.'), ('said', 'VERB'), (',', '.'), (',', '.'), ('was', 'VERB'), ('case', 'NOUN'), ('*-1', 'X'), ('differences', 'NOUN'), ('the', 'DET'), (',', '.'), ('wanted', 'VERB'), ('things', 'NOUN'), ('sharply', 'ADV'), ('financier', 'NOUN'), ('and', 'CONJ'), ('in', 'ADP'), ('are', 'VERB'), ('.', '.'), (\"'s\", 'PRT'), ('in', 'ADP'), ('advantage', 'NOUN'), ('place', 'NOUN'), ('0', 'X'), ('milk', 'NOUN'), ('wayne', 'NOUN'), ('million', 'NUM'), ('evaluated', 'VERB'), ('onto', 'ADP'), ('altruistic', 'ADJ'), ('quarterly', 'ADJ'), ('the', 'DET'), ('inc.', 'NOUN'), ('how', 'ADV'), ('million', 'NUM'), ('a', 'DET'), ('*-2', 'X'), ('100-share', 'ADJ'), ('charles', 'NOUN'), ('.', '.'), ('to', 'PRT'), ('chief', 'NOUN'), ('posting', 'VERB'), ('in', 'ADP'), ('in', 'ADP'), ('the', 'DET'), ('10.5', 'NUM'), ('is', 'VERB'), ('the', 'DET'), ('dollars', 'NOUN'), ('portrayed', 'VERB'), ('*-1', 'X'), ('of', 'ADP'), ('ill.', 'NOUN'), ('to', 'PRT'), ('at', 'ADP'), ('chief', 'NOUN'), (',', '.'), ('*t*-2', 'X'), ('inside', 'NOUN'), ('offering', 'NOUN'), ('customers', 'NOUN'), ('impact', 'NOUN'), ('refused', 'VERB'), ('was', 'VERB'), ('*t*-93', 'NOUN'), ('of', 'ADP'), ('and', 'CONJ'), ('and', 'CONJ'), ('even', 'ADV'), ('more', 'ADJ'), ('and', 'CONJ'), ('the', 'DET'), ('n.j.', 'NOUN'), ('than', 'ADP'), ('government', 'NOUN'), ('lights', 'NOUN'), ('aid', 'NOUN'), ('would', 'VERB'), ('.', '.'), ('shares', 'NOUN'), ('*t*-161', 'NOUN'), ('announced', 'VERB'), ('of', 'ADP'), ('give', 'VERB'), ('consecutive', 'ADJ'), ('factors', 'NOUN'), ('in', 'ADP'), ('planes', 'VERB'), ('be', 'VERB'), (',', '.'), ('haul', 'NOUN'), ('individual', 'ADJ'), ('the', 'DET'), ('and', 'CONJ'), ('valley', 'NOUN'), ('eveready', 'NOUN'), ('*', 'X'), ('also', 'ADV'), ('whiting', 'NOUN'), ('at&t', 'NOUN'), ('acted', 'VERB'), ('``', '.'), ('0', 'X'), (';', '.'), ('.', '.'), ('0', 'X'), ('operations', 'NOUN'), ('it', 'PRON'), ('for', 'ADP'), ('influence', 'NOUN'), ('was', 'VERB'), ('disregard', 'NOUN'), ('himself', 'PRON'), ('-lrb-', '.'), ('the', 'DET'), ('sharply', 'ADV'), ('case', 'NOUN'), ('the', 'DET'), ('up', 'PRT'), ('radio', 'NOUN'), ('and', 'CONJ'), ('value', 'NOUN'), ('filters', 'NOUN'), ('at', 'ADP'), ('.', '.'), ('a', 'DET'), ('do', 'VERB'), ('department', 'NOUN'), ('referrals', 'NOUN'), ('the', 'DET'), ('watchdogs', 'NOUN'), ('then-speaker', 'ADJ'), ('get', 'VERB'), ('and', 'CONJ'), ('up', 'PRT'), ('term', 'NOUN'), ('deficit', 'NOUN'), ('it', 'PRON'), ('tell', 'NOUN'), ('managers', 'NOUN'), ('farmers', 'NOUN'), ('heavily', 'ADV'), ('justices', 'NOUN'), ('educational', 'ADJ'), ('sale', 'NOUN'), ('sue', 'NOUN'), ('its', 'PRON'), (',', '.'), ('members', 'NOUN'), ('to', 'PRT'), ('lot', 'NOUN'), ('annual', 'ADJ'), ('further', 'ADJ'), ('markets', 'NOUN'), ('*-1', 'X'), ('evidence', 'NOUN'), ('gulf', 'NOUN'), ('an', 'DET'), ('of', 'ADP'), ('card', 'NOUN'), ('.', '.'), ('schoolchildren', 'NOUN'), ('a', 'DET'), ('the', 'DET'), ('to', 'PRT'), ('on', 'ADP'), ('would', 'VERB'), ('of', 'ADP'), (',', '.'), ('global', 'ADJ'), ('*-2', 'X'), ('as', 'ADP'), ('christmas', 'NOUN'), ('stressing', 'VERB'), ('it', 'PRON'), ('careers', 'NOUN'), ('experience', 'NOUN'), ('club', 'NOUN'), ('.', '.'), ('while', 'ADP'), ('the', 'DET'), (',', '.'), ('shops', 'NOUN'), ('if', 'ADP'), ('problems', 'NOUN'), ('*t*-1', 'X'), ('few', 'ADJ'), ('the', 'DET'), ('percentage', 'NOUN'), ('.', '.'), ('the', 'DET'), ('lieberman', 'NOUN'), ('continue', 'VERB'), ('initiating', 'VERB'), ('0', 'X'), ('light', 'ADJ'), ('a', 'DET'), ('familiar', 'ADJ'), ('investors', 'NOUN'), ('of', 'ADP'), ('be', 'VERB'), (',', '.'), ('.', '.'), (',', '.'), (\"'s\", 'PRT'), ('the', 'DET'), ('oshkosh', 'NOUN'), ('concerns', 'NOUN'), ('with', 'ADP'), ('miles', 'NOUN'), ('%', 'NOUN'), ('*t*-2', 'X'), ('with', 'ADP'), ('management', 'NOUN'), ('before', 'ADP'), ('example', 'NOUN'), ('make', 'VERB'), ('8.48', 'NUM'), ('interesting', 'ADJ'), ('different', 'ADJ'), ('of', 'ADP'), ('exit', 'NOUN'), ('0', 'X'), ('bush', 'NOUN'), (',', '.'), ('.', '.'), ('he', 'PRON'), ('50-50', 'NOUN'), ('losses', 'NOUN'), ('gave', 'VERB'), ('fifteen', 'NOUN'), ('-rrb-', '.'), ('river', 'NOUN'), ('*t*-165', 'NOUN'), ('district', 'NOUN'), ('as', 'ADP'), ('goes', 'VERB'), ('billion', 'NUM'), ('sales', 'NOUN'), (',', '.'), ('bidding', 'NOUN'), ('other', 'ADJ'), ('.', '.'), ('decrease', 'VERB'), ('shares', 'NOUN'), ('match', 'NOUN'), ('to', 'PRT'), ('due', 'ADJ'), ('software', 'NOUN'), (',', '.'), ('year', 'NOUN'), ('rose', 'VERB'), ('been', 'VERB'), ('*t*-2', 'X'), ('wage', 'NOUN'), ('at', 'ADP'), ('news', 'NOUN'), ('.', '.'), ('traditionally', 'ADV'), ('*u*', 'X'), (\"'s\", 'PRT'), ('international', 'NOUN'), (\"n't\", 'ADV'), ('operations', 'NOUN'), ('as', 'ADP'), ('.', '.'), ('their', 'PRON'), ('say', 'VERB'), ('week', 'NOUN'), ('.', '.'), ('a', 'DET'), ('if', 'ADP'), ('survey', 'NOUN'), ('contradictions', 'NOUN'), ('while', 'ADP'), ('developments', 'NOUN'), ('frankfurt', 'NOUN'), ('of', 'ADP'), ('the', 'DET'), ('the', 'DET'), ('supercomputer', 'NOUN'), ('*-1', 'X'), ('get', 'VERB'), ('government', 'NOUN'), ('pace', 'NOUN'), ('the', 'DET'), ('in', 'ADP'), (\"'s\", 'PRT'), ('been', 'VERB'), (',', '.'), (',', '.'), ('hit', 'VERB'), ('reading', 'NOUN'), ('.', '.'), ('in', 'ADP'), ('said', 'VERB'), ('.', '.'), ('barely', 'ADV'), ('returned', 'VERB'), ('international', 'NOUN'), ('drugs', 'NOUN'), ('power', 'NOUN'), ('drop', 'NOUN'), ('but', 'CONJ'), ('new', 'ADJ'), ('most', 'ADJ'), ('cents', 'NOUN'), ('are', 'VERB'), ('corp.', 'NOUN'), ('growth', 'NOUN'), ('to', 'PRT'), ('are', 'VERB'), ('the', 'DET'), (\"'s\", 'PRT'), ('to', 'PRT'), ('student', 'NOUN'), ('market', 'NOUN'), (',', '.'), ('east', 'NOUN'), ('the', 'DET'), ('points', 'NOUN'), ('scenes', 'NOUN'), ('associated', 'VERB'), ('50,000', 'NUM'), ('ftc', 'NOUN'), ('right', 'NOUN'), ('a', 'DET'), ('cabernet', 'NOUN'), ('because', 'ADP'), ('financial', 'ADJ'), ('trotter', 'NOUN'), ('year', 'NOUN'), ('%', 'NOUN'), ('a', 'DET'), ('to', 'PRT'), ('*-1', 'X'), ('withdrawal', 'NOUN'), (',', '.'), ('.', '.'), ('there', 'DET'), ('tunes', 'VERB'), ('*u*', 'X'), ('will', 'VERB'), ('*t*-2', 'X'), (',', '.'), ('due', 'ADJ'), ('one', 'NUM'), ('could', 'VERB'), ('anti-abortionists', 'NOUN'), ('*', 'X'), ('declined', 'VERB'), ('cases', 'NOUN'), (',', '.'), ('housing', 'NOUN'), ('versions', 'NOUN'), ('in', 'ADP'), ('or', 'CONJ'), ('*-150', 'NOUN'), ('traditional', 'ADJ'), ('on', 'ADP'), ('a', 'DET'), ('saying', 'VERB'), ('$', '.'), ('now', 'ADV'), ('is', 'VERB'), ('.', '.'), (',', '.'), ('last', 'ADJ'), ('army', 'NOUN'), (':', '.'), ('been', 'VERB'), ('#', '.'), ('issue', 'NOUN'), ('0', 'X'), ('one', 'NUM'), ('bramalea', 'NOUN'), ('the', 'DET'), ('much', 'ADJ'), ('pleaded', 'VERB'), ('$', '.'), ('st.', 'NOUN'), ('in', 'ADP'), ('statement', 'NOUN'), ('economy', 'NOUN'), ('national', 'NOUN'), ('most', 'ADJ'), (\"'s\", 'PRT'), ('it', 'PRON'), ('&', 'CONJ'), (',', '.'), ('1979', 'NUM'), ('fails', 'VERB'), ('will', 'VERB'), ('which', 'DET'), ('because', 'ADP'), ('the', 'DET'), ('record', 'NOUN'), (',', '.'), ('228', 'NUM'), ('to', 'PRT'), ('the', 'DET'), (',', '.'), ('for', 'ADP'), ('50', 'NUM'), ('of', 'ADP'), ('near-limit', 'ADJ'), ('says', 'VERB'), ('but', 'CONJ'), ('evidence', 'NOUN'), ('takeover', 'NOUN'), ('the', 'DET'), ('factory', 'NOUN'), ('congress', 'NOUN'), ('u.s.', 'NOUN'), ('companies', 'NOUN'), ('confidence', 'NOUN'), ('sold', 'VERB'), ('regional', 'ADJ'), ('.', '.'), ('rubber', 'NOUN'), ('ground', 'NOUN'), ('a', 'DET'), ('was', 'VERB'), ('lungs', 'NOUN'), ('outsiders', 'NOUN'), ('they', 'PRON'), ('u.s.', 'NOUN'), ('staying', 'VERB'), ('or', 'CONJ'), ('built', 'VERB'), ('audiocassettes', 'VERB'), ('*u*', 'X'), ('the', 'DET'), ('department', 'NOUN'), ('that', 'ADP'), ('continuing', 'VERB'), ('.', '.'), ('average', 'ADJ'), ('and', 'CONJ'), ('49', 'NUM'), ('to', 'PRT'), ('swing', 'VERB'), ('adopted', 'VERB'), (\"n't\", 'ADV'), ('secretary', 'NOUN'), ('and', 'CONJ'), ('manufacturing', 'NOUN'), ('world', 'NOUN'), ('these', 'DET'), ('shares', 'NOUN'), ('billion', 'NUM'), ('that', 'ADP'), ('worker', 'NOUN'), ('farmers', 'NOUN'), ('0', 'X'), ('nonexecutive', 'ADJ'), ('exports', 'NOUN'), ('reports', 'NOUN'), (',', '.'), ('and', 'CONJ'), ('vicar', 'NOUN'), ('wanted', 'VERB'), ('no', 'DET'), ('*u*', 'X'), ('even', 'ADV'), ('export', 'NOUN'), ('slowly', 'ADV'), ('chief', 'NOUN'), ('office', 'NOUN'), ('increase', 'NOUN'), ('in', 'ADP'), ('not', 'ADV'), ('*u*', 'X'), ('the', 'DET'), (',', '.'), ('stand', 'VERB'), ('older', 'ADJ'), ('late', 'ADJ'), ('in', 'ADP'), (',', '.'), ('is', 'VERB'), ('end', 'NOUN'), ('before', 'ADP'), ('on', 'ADP'), ('mrs.', 'NOUN'), ('0', 'X'), ('and', 'CONJ'), ('contends', 'VERB'), ('was', 'VERB'), ('*t*-2', 'X'), ('*u*', 'X'), ('then', 'ADV'), ('that', 'ADP'), ('says', 'VERB'), ('for', 'ADP'), ('.', '.'), ('such', 'ADJ'), ('in', 'ADP'), ('1988', 'NUM'), ('tramp', 'NOUN'), ('taccetta', 'NOUN'), ('avoid', 'VERB'), ('already', 'ADV'), ('.', '.'), ('and', 'CONJ'), ('videocassette', 'NOUN'), ('*u*', 'X'), ('said', 'VERB'), ('small', 'ADJ'), ('other', 'ADJ'), ('.', '.'), ('effort', 'NOUN'), ('w.', 'NOUN'), ('but', 'CONJ'), ('drive', 'VERB'), ('fine', 'NOUN'), ('issues', 'NOUN'), ('.', '.'), ('on', 'ADP'), ('*-1', 'X'), ('*t*-12', 'X'), ('they', 'PRON'), ('numerous', 'ADJ'), ('the', 'DET'), ('a', 'DET'), ('the', 'DET'), ('*-1', 'X'), ('*', 'X'), ('of', 'ADP'), ('switch', 'VERB'), ('of', 'ADP'), ('*', 'X'), ('said', 'VERB'), ('*t*-51', 'X'), ('present', 'VERB'), ('1985', 'NUM'), ('number', 'NOUN'), ('as', 'ADP'), ('*-52', 'X'), ('regulators', 'NOUN'), (',', '.'), ('re-thought', 'ADJ'), ('gross', 'ADJ'), ('promises', 'VERB'), ('.', '.'), ('a', 'DET'), (',', '.'), ('of', 'ADP'), ('as', 'ADP'), ('championing', 'VERB'), ('changed', 'VERB'), ('.', '.'), ('0', 'X'), ('the', 'DET'), ('0', 'X'), ('the', 'DET'), ('``', '.'), ('0', 'X'), ('entirely', 'ADV'), ('be', 'VERB'), ('$', '.'), ('in', 'ADP'), ('26,000', 'NOUN'), ('in', 'ADP'), ('ballot', 'NOUN'), ('kidney', 'NOUN'), ('not', 'ADV'), ('of', 'ADP'), ('before', 'ADP'), ('*-1', 'X'), ('river', 'NOUN'), ('.', '.'), ('trading', 'NOUN'), ('replaced', 'VERB'), ('the', 'DET'), ('would-be', 'ADJ'), ('or', 'CONJ'), ('li', 'NOUN'), ('male', 'NOUN'), (\"''\", '.'), ('to', 'PRT'), ('rose', 'VERB'), ('for', 'ADP'), ('world', 'NOUN'), ('traders', 'NOUN'), ('.', '.'), ('.', '.'), ('in', 'ADP'), ('it', 'PRON'), ('of', 'ADP'), ('*t*-159', 'NOUN'), ('that', 'ADP'), ('at', 'ADP'), ('public', 'ADJ'), ('veto', 'NOUN'), ('into', 'ADP'), ('pencil', 'NOUN'), ('will', 'VERB'), ('tax', 'NOUN'), ('in', 'ADP'), ('.', '.'), ('.', '.'), ('firings', 'NOUN'), ('the', 'DET'), ('it', 'PRON'), ('``', '.'), ('acquisition', 'NOUN'), (',', '.'), ('the', 'DET'), ('largest', 'ADJ'), ('reflected', 'VERB'), ('accused', 'VERB'), (\"n't\", 'ADV'), ('may', 'VERB'), ('new', 'ADJ'), ('3.3', 'NUM'), ('*t*-1', 'X'), ('transportation', 'NOUN'), ('get', 'VERB'), ('persons', 'NOUN'), ('broader', 'ADJ'), ('report', 'NOUN'), ('obtaining', 'VERB'), ('of', 'ADP'), (',', '.'), ('students', 'NOUN'), (',', '.'), ('market-based', 'VERB'), ('preference', 'NOUN'), ('price', 'NOUN'), ('street', 'NOUN'), ('traded', 'VERB'), ('the', 'DET'), ('.', '.'), (',', '.'), ('paper', 'NOUN'), (\"''\", '.'), ('silver', 'NOUN'), ('moreover', 'ADV'), ('few', 'ADJ'), ('very', 'ADV'), ('*-2', 'X'), ('but', 'CONJ'), ('pressure', 'NOUN'), ('and', 'CONJ'), ('a', 'DET'), ('the', 'DET'), ('investors', 'NOUN'), (\"''\", '.'), ('acquisition', 'NOUN'), (',', '.'), ('germany', 'NOUN'), ('.', '.'), (',', '.'), ('*', 'X'), ('would', 'VERB'), ('much', 'ADV'), ('from', 'ADP'), ('0', 'X'), ('dramatically', 'ADV'), ('vineyard', 'NOUN'), ('0', 'X'), ('violations', 'NOUN'), (',', '.'), ('of', 'ADP'), ('trend', 'NOUN'), ('knows', 'VERB'), ('shortage', 'NOUN'), ('voluntary', 'NOUN'), ('at', 'ADP'), ('.', '.'), ('for', 'ADP'), ('with', 'ADP'), ('.', '.'), (\"'s\", 'PRT'), ('*ich*-2', 'X'), ('crucial', 'ADJ'), ('increase', 'NOUN'), ('gains', 'NOUN'), ('steel', 'NOUN'), (',', '.'), ('transportation', 'NOUN'), ('been', 'VERB'), ('in', 'ADP'), ('dropped', 'VERB'), ('whose', 'PRON'), ('zaharah', 'NOUN'), ('reorganization', 'NOUN'), ('parents', 'NOUN'), ('impose', 'VERB'), ('mr.', 'NOUN'), ('months', 'NOUN'), ('will', 'VERB'), ('at', 'ADP'), ('705.6', 'NUM'), ('cars', 'NOUN'), ('would', 'VERB'), ('section', 'NOUN'), ('``', '.'), ('.', '.'), (',', '.'), ('.', '.'), ('concerns', 'NOUN'), ('big', 'ADJ'), (',', '.'), ('the', 'DET'), ('prices', 'NOUN'), ('he', 'PRON'), ('in', 'ADP'), ('rectified', 'VERB'), (':', '.'), ('*-1', 'X'), ('chip', 'NOUN'), ('given', 'VERB'), (\"'\", 'PRT'), ('a', 'DET'), ('``', '.'), ('those', 'DET'), ('.', '.'), (',', '.'), (',', '.'), ('were', 'VERB'), ('u.k.', 'NOUN'), ('at', 'ADP'), (',', '.'), ('both', 'DET'), ('odd', 'ADJ'), (',', '.'), ('today', 'NOUN'), ('the', 'DET'), ('have', 'VERB'), ('$', '.'), ('by', 'ADP'), ('and', 'CONJ'), ('places', 'NOUN'), ('ran', 'VERB'), ('by', 'ADP'), ('.', '.'), ('13', 'NUM'), (',', '.'), ('non-encapsulating', 'VERB'), ('heads', 'VERB'), ('a', 'DET'), ('hills', 'NOUN'), ('with', 'ADP'), ('hand', 'NOUN'), ('*u*', 'X'), ('of', 'ADP'), ('conditions', 'NOUN'), ('1.76', 'NUM'), ('based', 'VERB'), ('is', 'VERB'), ('latter', 'NOUN'), ('veselich', 'NOUN'), ('put', 'VERB'), ('start', 'VERB'), ('says', 'VERB'), ('in', 'ADP'), ('.', '.'), ('is', 'VERB'), ('you', 'PRON'), (',', '.'), ('*?*', 'X'), ('sacramento', 'NOUN'), ('selected', 'VERB'), ('number', 'NOUN'), (',', '.'), ('to', 'PRT'), ('would', 'VERB'), ('america', 'NOUN'), ('predicting', 'VERB'), ('*-3', 'X'), ('florio', 'NOUN'), ('moscow', 'NOUN'), ('*-1', 'X'), ('peripheral', 'ADJ'), ('some', 'DET'), ('performance', 'NOUN'), ('can', 'VERB'), ('no', 'DET'), ('``', '.'), ('woolworth', 'NOUN'), ('bushel', 'NOUN'), ('to', 'PRT'), ('*t*-1', 'X'), ('problems', 'NOUN'), ('retaining', 'VERB'), ('a', 'DET'), (',', '.'), ('0', 'X'), ('``', '.'), ('pre-emptive', 'ADJ'), ('lazzaroni', 'NOUN'), ('chateau', 'NOUN'), ('over', 'ADP'), ('just', 'ADV'), ('in', 'ADP'), ('according', 'VERB'), ('of', 'ADP'), ('blue-chips', 'ADJ'), ('notably', 'ADV'), ('in', 'ADP'), ('quantitive', 'NOUN'), ('reached', 'VERB'), ('wide', 'ADJ'), ('the', 'DET'), ('when', 'ADV'), ('less', 'ADJ'), ('novel', 'NOUN'), ('the', 'DET'), ('a', 'DET'), ('untrue', 'NOUN'), ('jack', 'NOUN'), ('was', 'VERB'), ('people', 'NOUN'), ('to', 'PRT'), ('*t*-1', 'X'), ('most', 'ADJ'), ('.', '.'), ('decide', 'VERB'), ('.', '.'), ('form', 'NOUN'), ('until', 'ADP'), ('annually', 'ADV'), ('covered', 'VERB'), ('the', 'DET'), ('before', 'ADP'), ('n.y.', 'NOUN'), ('daily', 'ADJ'), ('intelogic', 'NOUN'), ('bankers', 'NOUN'), ('discontinue', 'NOUN'), (',', '.'), ('increased', 'VERB'), ('angeles', 'NOUN'), ('*', 'X'), ('yesterday', 'NOUN'), ('*-3', 'X'), ('value', 'NOUN'), ('join', 'VERB'), ('fail', 'VERB'), ('many', 'ADJ'), ('new', 'ADJ'), ('computers', 'NOUN'), ('whether', 'ADP'), ('1\\\\/4', 'NUM'), ('*t*-2', 'X'), ('*-155', 'NOUN'), ('will', 'VERB'), ('900', 'NUM'), ('and', 'CONJ'), ('lentjes', 'NOUN'), ('on', 'ADP'), ('shut', 'VERB'), ('can', 'VERB'), ('for', 'ADP'), ('than', 'ADP'), ('of', 'ADP'), (',', '.'), ('exporter', 'NOUN'), ('or', 'CONJ'), ('the', 'DET'), ('type', 'NOUN'), ('be', 'VERB'), ('solely', 'ADV'), ('fall', 'NOUN'), ('me', 'PRON'), (',', '.'), ('u.s.', 'NOUN'), ('the', 'DET'), ('270', 'NUM'), ('sport-utility', 'NOUN'), (',', '.'), (\"'s\", 'PRT'), ('gelatin', 'NOUN'), ('1988', 'NUM'), ('it', 'PRON'), ('campaigning', 'NOUN'), ('on', 'ADP'), ('is', 'VERB'), ('iowa', 'NOUN'), ('two', 'NUM'), ('only', 'ADV'), ('be', 'VERB'), ('card', 'NOUN'), ('light', 'ADJ'), ('free', 'ADJ'), ('to', 'PRT'), ('to', 'PRT'), ('billion', 'NUM'), ('the', 'DET'), ('.', '.'), ('a', 'DET'), ('totally', 'ADV'), ('-lrb-', '.'), ('a', 'DET'), ('offered', 'VERB'), ('the', 'DET'), ('japan', 'NOUN'), ('japanese', 'ADJ'), ('seem', 'VERB'), ('from', 'ADP'), ('their', 'PRON'), ('by', 'ADP'), ('internal', 'ADJ'), ('billion', 'NUM'), ('contain', 'VERB'), ('just', 'ADV'), ('.', '.'), ('islands', 'NOUN'), (':', '.'), ('it', 'PRON'), ('year-earlier', 'ADJ'), ('wait', 'VERB'), ('hospital', 'NOUN'), ('get', 'VERB'), ('all', 'DET'), ('market', 'NOUN'), ('its', 'PRON'), ('small', 'ADJ'), ('the', 'DET'), ('wage', 'NOUN'), ('to', 'PRT'), ('in', 'ADP'), ('%', 'NOUN'), (';', '.'), ('novello', 'NOUN'), ('degenerative', 'NOUN'), ('sony', 'NOUN'), ('to', 'PRT'), ('current-carrying', 'ADJ'), ('a', 'DET'), ('increases', 'NOUN'), ('futures', 'NOUN'), ('and', 'CONJ'), ('they', 'PRON'), (',', '.'), ('is', 'VERB'), ('he', 'PRON'), ('do', 'VERB'), ('*t*-19', 'X'), (',', '.'), ('bowman', 'NOUN'), ('lasting', 'VERB'), ('zayed', 'VERB'), ('test', 'NOUN'), ('estimates', 'NOUN'), ('a', 'DET'), ('co.', 'NOUN'), ('year', 'NOUN'), (',', '.'), ('of', 'ADP'), (',', '.'), ('mechanism', 'NOUN'), ('$', '.'), ('*-2', 'X'), ('resulting', 'VERB'), ('because', 'ADP'), ('own', 'ADJ'), ('of', 'ADP'), ('exchange', 'NOUN'), ('the', 'DET'), ('no', 'DET'), ('in', 'ADP'), ('*t*-43', 'X'), ('*-1', 'X'), ('arbitrage', 'NOUN'), ('fallen', 'VERB'), ('week', 'NOUN'), ('the', 'DET'), ('of', 'ADP'), ('address', 'VERB'), ('0', 'X'), ('the', 'DET'), ('the', 'DET'), ('was', 'VERB'), ('says', 'VERB'), ('mandates', 'VERB'), ('if', 'ADP'), ('so', 'ADV'), ('cold', 'NOUN'), ('diversification', 'NOUN'), ('for', 'ADP'), ('retained', 'VERB'), ('said', 'VERB'), (\"n't\", 'ADV'), ('if', 'ADP'), ('bend', 'NOUN'), (',', '.'), ('*t*-247', 'NOUN'), ('but', 'CONJ'), ('in', 'ADP'), ('500', 'NUM'), ('declining', 'VERB'), ('trade', 'NOUN'), ('short', 'ADJ'), ('church', 'NOUN'), ('to', 'PRT'), (',', '.'), ('the', 'DET'), ('financial', 'ADJ'), ('ohio', 'NOUN'), ('conduct', 'NOUN'), ('his', 'PRON'), ('committee', 'NOUN'), ('.', '.'), ('book', 'NOUN'), ('companies', 'NOUN'), ('olympic', 'NOUN'), ('have', 'VERB'), ('escape', 'NOUN'), ('buildup', 'NOUN'), ('the', 'DET'), (',', '.'), ('reduce', 'VERB'), ('what', 'PRON'), ('in', 'ADP'), ('fund', 'NOUN'), ('economy', 'NOUN'), ('have', 'VERB'), ('leaves', 'VERB'), ('exceedingly', 'ADV'), ('series', 'NOUN'), ('million', 'NUM'), (',', '.'), ('*t*-194', 'NOUN'), ('*t*-2', 'X'), ('.', '.'), ('weddings', 'NOUN'), ('questioned', 'VERB'), ('by', 'ADP'), ('the', 'DET'), ('someone', 'NOUN'), ('competing', 'VERB'), ('.', '.'), ('packed', 'VERB'), ('promise', 'NOUN'), ('.', '.'), ('*-1', 'X'), ('s&p', 'NOUN'), ('priced', 'VERB'), ('0', 'X'), ('failed', 'VERB'), ('to', 'PRT'), ('smith', 'NOUN'), ('garbage', 'NOUN'), ('.', '.'), ('10,000', 'NUM'), ('time', 'NOUN'), ('2.375', 'NUM'), ('projector', 'NOUN'), ('mr.', 'NOUN'), ('*-1', 'X'), ('areas', 'NOUN'), ('is', 'VERB'), ('the', 'DET'), (',', '.'), ('from', 'ADP'), ('mood', 'NOUN'), ('for', 'ADP'), ('stars', 'NOUN'), ('norfolk', 'NOUN'), ('mrs.', 'NOUN'), ('group', 'NOUN'), ('do', 'VERB'), ('york', 'NOUN'), ('may', 'VERB'), ('the', 'DET'), ('put', 'VERB'), ('will', 'VERB'), ('picture', 'NOUN'), ('inched', 'VERB'), ('companies', 'NOUN'), ('packaging', 'NOUN'), ('neither', 'DET'), ('.', '.'), (',', '.'), ('an', 'DET'), (',', '.'), ('*t*-1', 'X'), ('as', 'ADP'), (\"''\", '.'), (',', '.'), ('loss', 'NOUN'), ('solidarity', 'NOUN'), (\"'s\", 'PRT'), ('maintain', 'VERB'), ('julia', 'NOUN'), ('to', 'PRT'), ('for', 'ADP'), ('serial', 'NOUN'), ('british', 'ADJ'), ('that', 'ADP'), ('*t*-2', 'X'), ('drobnick', 'NOUN'), ('tuesday', 'NOUN'), ('surprised', 'VERB'), ('in', 'ADP'), ('the', 'DET'), ('and', 'CONJ'), ('futures', 'NOUN'), ('15', 'NUM'), ('unfair', 'ADJ'), (',', '.'), ('people', 'NOUN'), ('0', 'X'), ('with', 'ADP'), ('is', 'VERB'), ('kind', 'NOUN'), ('to', 'PRT'), ('*-1', 'X'), ('in', 'ADP'), ('``', '.'), ('of', 'ADP'), ('next', 'ADJ'), ('*', 'X'), ('dallara', 'NOUN'), ('two', 'NUM'), ('nine', 'NUM'), ('.', '.'), ('stamford', 'NOUN'), ('is', 'VERB'), (\"'d\", 'VERB'), ('bedding', 'VERB'), ('i', 'PRON'), ('.', '.'), ('today', 'NOUN'), ('reforms', 'NOUN'), ('nemeth', 'NOUN'), ('the', 'DET'), ('*-1', 'X'), ('the', 'DET'), ('in', 'ADP'), ('armed', 'VERB'), ('in', 'ADP'), ('also', 'ADV'), ('bob', 'NOUN'), ('``', '.'), ('the', 'DET'), ('which', 'DET'), ('the', 'DET'), ('an', 'DET'), ('accomplishments', 'NOUN'), ('totaled', 'VERB'), ('the', 'DET'), ('return', 'NOUN'), (\"n't\", 'ADV'), ('1', 'NUM'), ('right', 'NOUN'), ('upjohn', 'NOUN'), (',', '.'), ('had', 'VERB'), ('english', 'NOUN'), (',', '.'), (',', '.'), ('30-day', 'ADJ'), ('yield', 'VERB'), ('the', 'DET'), ('could', 'VERB'), ('man', 'NOUN'), ('in', 'ADP'), ('machinery', 'NOUN'), ('swiftly', 'ADV'), ('mr.', 'NOUN'), ('favored', 'VERB'), ('to', 'PRT'), ('of', 'ADP'), ('the', 'DET'), ('that', 'ADP'), ('administration', 'NOUN'), ('the', 'DET'), ('.', '.'), ('place', 'NOUN'), ('noncompetitively', 'ADV'), ('folks', 'NOUN'), ('the', 'DET'), ('or', 'CONJ'), (',', '.'), ('saudi', 'NOUN'), ('and', 'CONJ'), ('both', 'DET'), ('fiber', 'NOUN'), ('a', 'DET'), ('insurance', 'NOUN'), ('*', 'X'), ('were', 'VERB'), ('an', 'DET'), ('*t*-1', 'X'), ('dealers', 'NOUN'), ('of', 'ADP'), ('inc.', 'NOUN'), ('7.90', 'NUM'), ('are', 'VERB'), ('trade', 'NOUN'), ('sound', 'NOUN'), ('or', 'CONJ'), ('the', 'DET'), ('gains', 'NOUN'), ('earlier', 'ADJ'), ('the', 'DET'), ('increasing', 'VERB'), ('bank', 'NOUN'), (',', '.'), ('growing', 'VERB'), ('*', 'X'), ('columbia', 'NOUN'), ('difference', 'NOUN'), ('your', 'PRON'), ('money', 'NOUN'), ('lane', 'NOUN'), ('the', 'DET'), ('said', 'VERB'), ('end', 'NOUN'), ('telling', 'VERB'), ('70', 'NUM'), ('on', 'ADP'), ('quoting', 'VERB'), (',', '.'), ('heavily', 'ADV'), ('of', 'ADP'), ('0', 'X'), ('the', 'DET'), ('beer-belly', 'ADV'), ('particularly', 'ADV'), ('that', 'ADP'), ('a', 'DET'), ('monday', 'NOUN'), ('begins', 'VERB'), ('billion', 'NUM'), ('and', 'CONJ'), ('sells', 'VERB'), ('the', 'DET'), ('*t*-31', 'X'), ('all', 'DET'), ('be', 'VERB'), ('space', 'NOUN'), ('implicitly', 'ADV'), ('raise', 'VERB'), ('hoffman', 'NOUN'), (\"'s\", 'PRT'), ('unfortunately', 'ADV'), ('mr.', 'NOUN'), ('reviewing', 'VERB'), ('soviet', 'ADJ'), ('zip', 'NOUN'), ('was', 'VERB'), ('effect', 'NOUN'), ('of', 'ADP'), (',', '.'), ('extended', 'VERB'), ('such', 'ADJ'), ('taxes', 'NOUN'), (\"''\", '.'), ('percentage', 'NOUN'), ('*-1', 'X'), (';', '.'), ('in', 'ADP'), (',', '.'), ('such', 'ADJ'), (\"'s\", 'PRT'), ('*-4', 'X'), ('*-1', 'X'), ('this', 'DET'), ('the', 'DET'), ('information', 'NOUN'), ('125', 'NUM'), ('assets', 'NOUN'), ('declined', 'VERB'), ('*-66', 'NOUN'), ('increases', 'NOUN'), ('republican', 'ADJ'), ('yesterday', 'NOUN'), ('local', 'ADJ'), ('the', 'DET'), ('japanese', 'ADJ'), ('feelings', 'NOUN'), ('0', 'X'), ('currently', 'ADV'), ('jonas', 'NOUN'), ('may', 'VERB'), ('have', 'VERB'), ('out', 'PRT'), ('quarters', 'NOUN'), ('0', 'X'), ('told', 'VERB'), ('and', 'CONJ'), ('normally', 'ADV'), ('the', 'DET'), ('aptitude', 'NOUN'), ('those', 'DET'), ('greatly', 'ADV'), ('of', 'ADP'), ('cars', 'NOUN'), ('.', '.'), ('*-2', 'X'), (',', '.'), ('of', 'ADP'), ('for', 'ADP'), ('a', 'DET'), (',', '.'), ('.', '.'), ('guffey', 'NOUN'), ('fired', 'VERB'), ('nl', 'NOUN'), ('probably', 'ADV'), ('88', 'NUM'), ('georgia-pacific', 'NOUN'), ('england', 'NOUN'), ('.', '.'), ('reflecting', 'VERB'), ('companies', 'NOUN'), ('facing', 'VERB'), ('the', 'DET'), ('his', 'PRON'), ('dealers', 'NOUN'), ('b.', 'NOUN'), ('mistakenly', 'ADV'), ('a', 'DET'), ('added', 'VERB'), ('sell', 'VERB'), ('400', 'NUM'), ('.', '.'), ('instruments', 'NOUN'), ('the', 'DET'), ('individuals', 'NOUN'), ('trockenbeerenauslesen', 'NOUN'), ('blind', 'ADJ'), ('.', '.'), ('trading', 'NOUN'), ('.', '.'), ('a', 'DET'), ('polish', 'ADJ'), ('seeking', 'VERB'), ('of', 'ADP'), ('--', '.'), ('days', 'NOUN'), ('those', 'DET'), (',', '.'), ('467', 'NUM'), ('*u*', 'X'), ('*t*-1', 'X'), ('service', 'NOUN'), (',', '.'), ('transaction', 'NOUN'), ('producing', 'VERB'), ('that', 'ADP'), ('was', 'VERB'), ('to', 'PRT'), ('who', 'PRON'), ('calif.', 'NOUN'), ('on', 'ADP'), ('not', 'ADV'), ('of', 'ADP'), ('test', 'NOUN'), ('members', 'NOUN'), ('by', 'ADP'), ('ringers', 'NOUN'), ('*', 'X'), ('bald-faced', 'VERB'), ('0', 'X'), ('in', 'ADP'), ('co', 'NOUN'), ('two', 'NUM'), ('an', 'DET'), ('state', 'NOUN'), ('a', 'DET'), ('in', 'ADP'), ('purchasing', 'NOUN'), ('might', 'VERB'), ('they', 'PRON'), ('balls', 'NOUN'), ('them', 'PRON'), ('agriculture', 'NOUN'), ('for', 'ADP'), ('europe', 'NOUN'), ('``', '.'), ('.', '.'), ('as', 'ADP'), ('asking', 'VERB'), ('of', 'ADP'), ('funding', 'NOUN'), (\"o'neill\", 'NOUN'), ('and', 'CONJ'), ('it', 'PRON'), ('brownell', 'NOUN'), ('explorer', 'NOUN'), ('special', 'ADJ'), ('space', 'NOUN'), ('for', 'ADP'), ('last', 'ADJ'), ('said', 'VERB'), ('on', 'ADP'), ('*t*-1', 'X'), ('however', 'ADV'), ('layer', 'NOUN'), ('100', 'NUM'), ('4', 'NUM'), ('-lrb-', '.'), ('of', 'ADP'), ('was', 'VERB'), ('$', '.'), ('me', 'PRON'), ('*t*-77', 'NOUN'), ('when', 'ADV'), ('series', 'NOUN'), ('expanding', 'VERB'), ('firms', 'NOUN'), ('the', 'DET'), ('its', 'PRON'), ('%', 'NOUN'), ('said', 'VERB'), ('yield', 'VERB'), ('fairless', 'NOUN'), ('the', 'DET'), ('no', 'DET'), ('said', 'VERB'), ('been', 'VERB'), ('s.', 'NOUN'), ('force', 'NOUN'), ('they', 'PRON'), ('liability', 'NOUN'), ('mr.', 'NOUN'), ('of', 'ADP'), ('house', 'NOUN'), ('7.95', 'NUM'), ('*t*-2', 'X'), ('amount', 'NOUN'), ('with', 'ADP'), ('program', 'NOUN'), ('potential', 'ADJ'), ('*u*', 'X'), ('*t*-1', 'X'), ('*u*', 'X'), ('to', 'PRT'), ('funds', 'NOUN'), ('meaning', 'NOUN'), ('been', 'VERB'), ('clients', 'NOUN'), ('a', 'DET'), ('share', 'NOUN'), ('lung', 'NOUN'), ('commission', 'NOUN'), ('billion', 'NUM'), ('.', '.'), ('acid', 'NOUN'), ('well', 'ADV'), ('banks', 'NOUN'), ('deprived', 'VERB'), ('with', 'ADP'), ('do', 'VERB'), (';', '.'), ('is', 'VERB'), ('.', '.'), ('rieslings', 'NOUN'), ('.', '.'), ('*-3', 'X'), ('an', 'DET'), (',', '.'), ('november', 'NOUN'), ('$', '.'), ('.', '.'), ('concern', 'NOUN'), ('rally', 'NOUN'), ('year', 'NOUN'), (',', '.'), ('the', 'DET'), ('of', 'ADP'), ('inc.', 'NOUN'), ('nations', 'NOUN'), ('playing', 'VERB'), ('111', 'NUM'), ('-lrb-', '.'), ('international', 'NOUN'), ('you', 'PRON'), ('to', 'PRT'), ('growing', 'VERB'), ('really', 'ADV'), ('reduce', 'VERB'), ('.', '.'), ('northeast', 'NOUN'), ('compound', 'NOUN'), ('have', 'VERB'), ('the', 'DET'), (',', '.'), ('example', 'NOUN'), ('railroad', 'NOUN'), ('hegemony', 'NOUN'), ('gain', 'NOUN'), ('the', 'DET'), ('the', 'DET'), ('orders', 'NOUN'), ('to', 'PRT'), ('has', 'VERB'), ('an', 'DET'), ('.', '.'), ('of', 'ADP'), ('public', 'ADJ'), ('plan', 'NOUN'), ('*', 'X'), ('to', 'PRT'), ('reading', 'NOUN'), ('*-1', 'X'), (\"''\", '.'), ('.', '.'), ('its', 'PRON'), ('life-insurance', 'ADJ'), ('corn', 'NOUN'), ('looming', 'VERB'), ('won', 'VERB'), (',', '.'), ('.', '.'), ('sell', 'VERB'), ('between', 'ADP'), ('securities', 'NOUN'), ('include', 'VERB'), ('other', 'ADJ'), ('million', 'NUM'), ('worth', 'NOUN'), ('to', 'PRT'), ('to', 'PRT'), ('faces', 'VERB'), ('crucial', 'ADJ'), ('of', 'ADP'), ('buyer', 'NOUN'), ('classes', 'NOUN'), ('year', 'NOUN'), ('view', 'NOUN'), ('criminal', 'ADJ'), ('because', 'ADP'), (',', '.'), ('but', 'CONJ'), ('have', 'VERB'), ('ought', 'VERB'), (',', '.'), ('common', 'ADJ'), ('costs', 'NOUN'), ('*-1', 'X'), ('for', 'ADP'), (',', '.'), ('said', 'VERB'), ('tests', 'NOUN'), ('continue', 'VERB'), ('pick', 'VERB'), ('stores', 'NOUN'), ('to', 'PRT'), ('the', 'DET'), ('mr.', 'NOUN'), ('law', 'NOUN'), ('of', 'ADP'), ('to', 'PRT'), ('.', '.'), ('*-2', 'X'), ('as', 'ADP'), ('mr.', 'NOUN'), ('of', 'ADP'), ('*-3', 'X'), ('a', 'DET'), ('sales', 'NOUN'), ('quarter', 'NOUN'), ('said', 'VERB'), ('tune', 'VERB'), ('salmore', 'NOUN'), ('leming', 'NOUN'), ('stage', 'NOUN'), ('the', 'DET'), ('spurred', 'VERB'), ('to', 'PRT'), ('economy', 'NOUN'), ('the', 'DET'), ('*-1', 'X'), ('mr.', 'NOUN'), ('depression', 'NOUN'), ('bell', 'NOUN'), ('buy', 'VERB'), ('the', 'DET'), ('nev.', 'NOUN'), ('.', '.'), ('workers', 'NOUN'), ('were', 'VERB'), ('after', 'ADP'), ('from', 'ADP'), ('if', 'ADP'), ('a', 'DET'), ('to', 'PRT'), ('.', '.'), ('%', 'NOUN'), ('on', 'ADP'), (\"n't\", 'ADV'), ('demands', 'NOUN'), ('just', 'ADV'), ('are', 'VERB'), ('co', 'NOUN'), ('500', 'NUM'), ('0', 'X'), ('university', 'NOUN'), ('del.', 'NOUN'), ('of', 'ADP'), ('begin', 'VERB'), ('latest', 'ADJ'), ('*-1', 'X'), ('over', 'ADP'), ('.', '.'), ('midwest', 'NOUN'), ('significantly', 'ADV'), ('.', '.'), ('and', 'CONJ'), (',', '.'), ('artist', 'NOUN'), ('clients', 'NOUN'), ('violations', 'NOUN'), ('court', 'NOUN'), (',', '.'), (',', '.'), ('shelf', 'NOUN'), ('problem', 'NOUN'), ('*-1', 'X'), ('chest', 'NOUN'), ('*-2', 'X'), ('veraldi', 'NOUN'), ('which', 'DET'), ('items', 'NOUN'), ('president', 'NOUN'), ('``', '.'), ('soviets', 'NOUN'), (',', '.'), (\"'s\", 'PRT'), ('strength', 'NOUN'), ('by', 'ADP'), ('.', '.'), ('listing', 'NOUN'), ('``', '.'), ('receipt', 'NOUN'), ('months', 'NOUN'), ('also', 'ADV'), ('us', 'PRON'), ('they', 'PRON'), (';', '.'), ('federal', 'ADJ'), ('free', 'ADJ'), ('past', 'ADJ'), ('international', 'NOUN'), ('this', 'DET'), ('.', '.'), ('to', 'PRT'), ('he', 'PRON'), ('the', 'DET'), ('on', 'ADP'), ('ca', 'VERB'), ('classroom', 'NOUN'), ('terms', 'NOUN'), ('can', 'VERB'), (\"n't\", 'ADV'), ('a', 'DET'), ('trucks', 'NOUN'), ('funds', 'NOUN'), ('few', 'ADJ'), ('mercury', 'NOUN'), ('the', 'DET'), ('structural', 'NOUN'), ('and', 'CONJ'), ('telerate', 'NOUN'), ('stock', 'NOUN'), ('to', 'PRT'), ('$', '.'), ('in', 'ADP'), ('.', '.'), ('japan', 'NOUN'), ('protests', 'NOUN'), ('an', 'DET'), ('mainland', 'NOUN'), ('319.75', 'NUM'), ('both', 'DET'), ('issue', 'NOUN'), ('agreement', 'NOUN'), ('at', 'ADP'), ('the', 'DET'), ('writers', 'NOUN'), ('a', 'DET'), ('any', 'DET'), ('to', 'PRT'), ('about', 'ADP'), ('*', 'X'), ('and', 'CONJ'), ('*t*-2', 'X'), ('flag', 'NOUN'), ('such', 'ADJ'), ('hearst', 'NOUN'), ('asia', 'NOUN'), ('speculation', 'NOUN'), ('apparently', 'ADV'), ('the', 'DET'), (':', '.'), ('ringer', 'NOUN'), ('pay', 'VERB'), ('that', 'ADP'), ('a.l.', 'NOUN'), ('plans', 'VERB'), ('acquire', 'VERB'), ('.', '.'), ('we', 'PRON'), ('six-month', 'ADJ'), ('schools', 'NOUN'), ('conference', 'NOUN'), ('announcement', 'NOUN'), ('and', 'CONJ'), ('common', 'ADJ'), ('other', 'ADJ'), ('sino-u.s.', 'ADJ'), ('soviets', 'NOUN'), ('.', '.'), (\"'s\", 'PRT'), ('the', 'DET'), ('some', 'DET'), ('.', '.'), ('make', 'VERB'), ('largest', 'ADJ'), ('taiwan', 'NOUN'), ('18', 'NUM'), ('treasury', 'NOUN'), (\"n't\", 'ADV'), ('and', 'CONJ'), ('other', 'ADJ'), ('.', '.'), ('80.50', 'NUM'), ('*', 'X'), (\"''\", '.'), ('increasing', 'VERB'), ('*-1', 'X'), ('two', 'NUM'), (',', '.'), ('.', '.'), ('*', 'X'), ('peter', 'NOUN'), ('*', 'X'), ('.', '.'), ('less-than-brilliant', 'ADJ'), ('markets', 'NOUN'), ('be', 'VERB'), ('sulaiman', 'NOUN'), ('not', 'ADV'), ('are', 'VERB'), ('was', 'VERB'), ('.', '.'), ('three', 'NUM'), ('bill', 'NOUN'), ('far', 'ADV'), ('9', 'NUM'), (',', '.'), ('*', 'X'), ('the', 'DET'), ('fraud', 'NOUN'), ('has', 'VERB'), ('in', 'ADP'), ('a', 'DET'), ('one', 'NUM'), ('tony', 'NOUN'), ('president', 'NOUN'), ('*t*-1', 'X'), ('the', 'DET'), ('they', 'PRON'), ('0', 'X'), ('only', 'ADV'), ('company', 'NOUN'), ('curry', 'NOUN'), ('.', '.'), (',', '.'), ('to', 'PRT'), ('*t*-3', 'X'), (',', '.'), ('holdings', 'NOUN'), (',', '.'), (',', '.'), (',', '.'), ('coleman', 'NOUN'), ('$', '.'), ('reported', 'VERB'), (',', '.'), ('choose', 'VERB'), ('at&t', 'NOUN'), ('0', 'X'), ('they', 'PRON'), ('valley', 'NOUN'), ('$', '.'), ('of', 'ADP'), ('.', '.'), ('in', 'ADP'), (\"''\", '.'), ('*', 'X'), ('from', 'ADP'), ('modestly', 'ADV'), ('go', 'VERB'), ('the', 'DET'), ('cataract', 'NOUN'), ('and', 'CONJ'), ('shares', 'NOUN'), ('complex', 'ADJ'), ('*-41', 'X'), ('strapped', 'VERB'), ('situation', 'NOUN'), ('inc.', 'NOUN'), ('number', 'NOUN'), ('and', 'CONJ'), ('said', 'VERB'), ('recently', 'ADV'), ('in', 'ADP'), ('co.', 'NOUN'), ('profited', 'VERB'), ('lacks', 'VERB'), ('transaction', 'NOUN'), (',', '.'), ('of', 'ADP'), ('%', 'NOUN'), ('are', 'VERB'), ('.', '.'), ('new', 'ADJ'), (',', '.'), ('passed', 'VERB'), ('six', 'NUM'), ('million', 'NUM'), ('as', 'ADP'), ('and', 'CONJ'), ('they', 'PRON'), (\"''\", '.'), ('and', 'CONJ'), ('asia', 'NOUN'), ('u.s.', 'NOUN'), ('30.6', 'NUM'), ('the', 'DET'), ('$', '.'), ('to', 'PRT'), ('warning', 'VERB'), ('pcs', 'NOUN'), ('the', 'DET'), ('fully', 'ADV'), (',', '.'), ('u.s.', 'NOUN'), ('plan', 'NOUN'), ('relatively', 'ADV'), ('the', 'DET'), ('survey', 'NOUN'), ('whether', 'ADP'), ('american', 'NOUN'), ('years', 'NOUN'), ('.', '.'), ('their', 'PRON'), ('because', 'ADP'), ('*t*-1', 'X'), ('earn', 'VERB'), (\"''\", '.'), ('facilities', 'NOUN'), ('0', 'X'), ('yesterday', 'NOUN'), ('as', 'ADP'), ('.', '.'), ('half-hour', 'NOUN'), ('the', 'DET'), ('.', '.'), ('smothering', 'VERB'), ('to', 'PRT'), ('recently', 'ADV'), ('.', '.'), ('president', 'NOUN'), ('as', 'ADP'), ('stock', 'NOUN'), ('%', 'NOUN'), ('*-1', 'X'), ('top', 'ADJ'), ('for', 'ADP'), ('bid', 'NOUN'), ('small', 'ADJ'), ('the', 'DET'), ('finally', 'ADV'), ('further', 'ADJ'), ('airline', 'NOUN'), ('of', 'ADP'), ('resembles', 'VERB'), ('a', 'DET'), ('-lcb-', '.'), ('...', '.'), ('of', 'ADP'), ('they', 'PRON'), ('a', 'DET'), ('.', '.'), ('sometimes-exhausting', 'VERB'), ('changes', 'NOUN'), ('*ppa*-2', 'X'), ('each', 'DET'), ('mich.', 'NOUN'), ('instructed', 'VERB'), ('*', 'X'), ('a', 'DET'), ('assemble', 'NOUN'), (':', '.'), ('officials', 'NOUN'), ('by', 'ADP'), ('to', 'PRT'), ('wines', 'NOUN'), (\"'s\", 'PRT'), ('new', 'ADJ'), ('doctor', 'NOUN'), ('``', '.'), ('or', 'CONJ'), ('of', 'ADP'), ('of', 'ADP'), ('*t*-1', 'X'), ('the', 'DET'), ('america', 'NOUN'), ('spur', 'VERB'), ('pro-choice', 'ADJ'), ('an', 'DET'), ('a', 'DET'), ('like', 'ADP'), ('military', 'ADJ'), (',', '.'), (',', '.'), ('government', 'NOUN'), ('17', 'NUM'), ('in', 'ADP'), ('stations', 'NOUN'), ('follows', 'VERB'), ('accounts', 'NOUN'), ('without', 'ADP'), ('over-the-counter', 'ADJ'), ('outnumbered', 'VERB'), ('will', 'VERB'), ('it', 'PRON'), ('with', 'ADP'), ('*t*-1', 'X'), ('penalties', 'NOUN'), ('away', 'ADV'), ('.', '.'), ('that', 'ADP'), ('*t*-1', 'X'), ('%', 'NOUN'), ('who', 'PRON'), ('volatile', 'ADJ'), ('to', 'PRT'), (',', '.'), ('*-1', 'X'), ('club', 'NOUN'), ('1903', 'NUM'), ('england', 'NOUN'), ('*t*-1', 'X'), ('20', 'NUM'), (',', '.'), ('observance', 'NOUN'), ('traditionalists', 'NOUN'), ('others', 'NOUN'), ('officials', 'NOUN'), ('doing', 'VERB'), ('among', 'ADP'), ('new', 'ADJ'), ('mr.', 'NOUN'), ('would', 'VERB'), (',', '.'), ('attention', 'NOUN'), ('became', 'VERB'), ('telegraph', 'NOUN'), ('.', '.'), ('terms', 'NOUN'), ('*-1', 'X'), ('that', 'ADP'), ('*u*', 'X'), ('from', 'ADP'), ('recovered', 'VERB'), ('of', 'ADP'), ('about', 'ADP'), ('figure', 'VERB'), ('0', 'X'), ('semiconductors', 'NOUN'), ('progress', 'NOUN'), ('and', 'CONJ'), ('average', 'ADJ'), ('new', 'ADJ'), ('of', 'ADP'), ('basic', 'ADJ'), ('followed', 'VERB'), ('repeatedly', 'ADV'), ('the', 'DET'), ('and', 'CONJ'), ('yesterday', 'NOUN'), ('of', 'ADP'), ('of', 'ADP'), ('explanatory', 'ADJ'), ('seymour', 'NOUN'), ('l.', 'NOUN'), ('containers', 'NOUN'), ('i', 'PRON'), ('new', 'ADJ'), ('media', 'NOUN'), ('and', 'CONJ'), ('*t*-1', 'X'), ('whether', 'ADP'), ('drawing', 'VERB'), ('the', 'DET'), ('*t*-202', 'NOUN'), ('with', 'ADP'), ('support', 'NOUN'), ('bring', 'VERB'), ('requires', 'VERB'), ('*', 'X'), ('in', 'ADP'), ('of', 'ADP'), ('scripts', 'NOUN'), ('bushels', 'NOUN'), ('association', 'NOUN'), ('million', 'NUM'), ('u.s.', 'NOUN'), ('150', 'NUM'), ('justice', 'NOUN'), ('*-1', 'X'), ('shares', 'NOUN'), (',', '.'), ('house', 'NOUN'), ('failed', 'VERB'), ('220.45', 'NUM'), ('language', 'NOUN'), ('cdc', 'NOUN'), ('line', 'NOUN'), ('about', 'ADP'), ('$', '.'), ('investment', 'NOUN'), ('-lrb-', '.'), ('history', 'NOUN'), ('undisclosed', 'VERB'), ('to', 'PRT'), ('princely', 'ADV'), ('%', 'NOUN'), ('.', '.'), ('low', 'ADJ'), ('.', '.'), ('at', 'ADP'), ('safety', 'NOUN'), ('that', 'ADP'), ('%', 'NOUN'), ('were', 'VERB'), ('which', 'DET'), ('fetal-tissue', 'ADJ'), (',', '.'), ('national', 'NOUN'), ('moines', 'NOUN'), ('c.d.s', 'NOUN'), ('the', 'DET'), ('to', 'PRT'), (',', '.'), ('the', 'DET'), ('abuse', 'NOUN'), ('the', 'DET'), (\"'s\", 'PRT'), ('islands', 'NOUN'), ('being', 'VERB'), ('of', 'ADP'), ('fifth-grade', 'NOUN'), ('*ich*-1', 'X'), ('is', 'VERB'), ('opportunities', 'NOUN'), ('``', '.'), ('%', 'NOUN'), ('they', 'PRON'), ('said', 'VERB'), ('notes', 'NOUN'), ('dislike', 'NOUN'), ('in', 'ADP'), ('someone', 'NOUN'), ('of', 'ADP'), ('.', '.'), ('it', 'PRON'), ('current', 'ADJ'), ('through', 'ADP'), ('generate', 'NOUN'), ('*ich*-2', 'X'), ('extent', 'NOUN'), ('will', 'VERB'), ('below', 'ADP'), ('bigger', 'ADJ'), ('your', 'PRON'), ('7', 'NUM'), ('to', 'PRT'), ('broader', 'ADJ'), (',', '.'), ('0', 'X'), ('and', 'CONJ'), ('year', 'NOUN'), ('--', '.'), (',', '.'), ('japan', 'NOUN'), (\"'s\", 'PRT'), ('monthly', 'ADJ'), ('yen', 'NOUN'), ('were', 'VERB'), ('matters', 'NOUN'), ('graphs', 'NOUN'), ('on', 'ADP'), ('notes', 'NOUN'), ('brazil', 'NOUN'), ('*-1', 'X'), ('virgin', 'NOUN'), ('of', 'ADP'), ('at', 'ADP'), ('our', 'PRON'), ('after', 'ADP'), ('practice', 'NOUN'), ('awaits', 'NOUN'), ('*t*-2', 'X'), ('-rrb-', '.'), (',', '.'), ('including', 'VERB'), ('when', 'ADV'), ('*rnr*-2', 'X'), ('half', 'DET'), ('been', 'VERB'), ('of', 'ADP'), ('make', 'VERB'), ('.', '.'), (',', '.'), ('to', 'PRT'), ('unpopularity', 'NOUN'), ('reclaimed', 'VERB'), ('in', 'ADP'), ('management', 'NOUN'), (\"'s\", 'PRT'), ('simmons', 'NOUN'), ('banks', 'NOUN'), ('the', 'DET'), ('has', 'VERB'), ('market', 'NOUN'), ('while', 'ADP'), ('world', 'NOUN'), ('of', 'ADP'), ('by', 'ADP'), ('law', 'NOUN'), ('a', 'DET'), ('attached', 'VERB'), ('country', 'NOUN'), ('framers', 'NOUN'), ('*ich*-2', 'X'), (',', '.'), ('who', 'PRON'), ('.', '.'), ('as', 'ADP'), ('added', 'VERB'), ('week', 'NOUN'), ('into', 'ADP'), ('a', 'DET'), ('*u*', 'X'), ('a', 'DET'), ('early', 'ADJ'), ('insisted', 'VERB'), ('d.', 'NOUN'), ('merit', 'NOUN'), ('have', 'VERB'), (\"''\", '.'), ('.', '.'), ('``', '.'), ('gains', 'NOUN'), ('proposal', 'NOUN'), (\"'s\", 'PRT'), ('run-down', 'ADJ'), ('difficult', 'ADJ'), ('a', 'DET'), ('was', 'VERB'), ('within', 'ADP'), ('priced', 'VERB'), ('was', 'VERB'), ('direct', 'ADJ'), ('that', 'ADP'), ('7\\\\/8', 'NUM'), ('*exp*-1', 'X'), ('*', 'X'), ('national', 'NOUN'), ('slip', 'NOUN'), ('mailed', 'VERB'), ('corp.', 'NOUN'), ('by', 'ADP'), ('to', 'PRT'), ('owed', 'VERB'), ('said', 'VERB'), ('made', 'VERB'), ('is', 'VERB'), ('an', 'DET'), ('.', '.'), ('by', 'ADP'), ('*t*-198', 'NOUN'), ('form', 'NOUN'), ('ordered', 'VERB'), ('have', 'VERB'), ('stock', 'NOUN'), ('15', 'NUM'), ('common', 'ADJ'), ('the', 'DET'), ('of', 'ADP'), ('a', 'DET'), ('the', 'DET'), ('10', 'NUM'), ('the', 'DET'), ('trading', 'NOUN'), ('for', 'ADP'), ('ordered', 'VERB'), ('will', 'VERB'), ('of', 'ADP'), ('another', 'DET'), ('group', 'NOUN'), ('.', '.'), ('yon', 'NOUN'), ('and', 'CONJ'), ('$', '.'), ('number', 'NOUN'), ('orders', 'NOUN'), ('copper', 'NOUN'), ('stadium', 'NOUN'), ('shrinks', 'VERB'), ('fixed-rate', 'ADJ'), ('of', 'ADP'), ('*u*', 'X'), ('parallels', 'VERB'), ('hahn', 'NOUN'), ('of', 'ADP'), ('cut', 'VERB'), ('a', 'DET'), ('does', 'VERB'), ('show', 'NOUN'), ('0', 'X'), ('the', 'DET'), ('mergers', 'NOUN'), ('.', '.'), ('jack', 'NOUN'), ('of', 'ADP'), ('.', '.'), ('quitting', 'VERB'), (',', '.'), ('terms', 'NOUN'), ('by', 'ADP'), ('said', 'VERB'), ('car', 'NOUN'), ('a', 'DET'), ('systems', 'NOUN'), ('mcgovern', 'NOUN'), ('financing', 'NOUN'), ('.', '.'), ('or', 'CONJ'), ('and', 'CONJ'), ('*-1', 'X'), ('more', 'ADJ'), ('of', 'ADP'), ('the', 'DET'), ('*', 'X'), ('expanded', 'VERB'), ('you', 'PRON'), ('courtroom', 'NOUN'), ('the', 'DET'), ('off', 'PRT'), ('new', 'ADJ'), ('mr.', 'NOUN'), ('purchase', 'NOUN'), ('*t*-1', 'X'), ('share', 'NOUN'), ('sauvignon', 'NOUN'), ('bridge', 'NOUN'), ('they', 'PRON'), (',', '.'), ('leader', 'NOUN'), ('at', 'ADP'), ('*t*-4', 'X'), ('.', '.'), ('the', 'DET'), ('short-term', 'ADJ'), ('*t*-1', 'X'), ('congress', 'NOUN'), ('4', 'NUM'), ('9.37', 'NUM'), ('``', '.'), ('regarded', 'VERB'), ('as', 'ADP'), ('a.', 'NOUN'), ('as', 'ADP'), ('into', 'ADP'), ('junk-bond', 'NOUN'), ('publishing', 'NOUN'), ('and', 'CONJ'), ('to', 'PRT'), ('$', '.'), ('a', 'DET'), (',', '.'), ('however', 'ADV'), ('yesterday', 'NOUN'), ('at', 'ADP'), ('lessen', 'NOUN'), ('*t*-1', 'X'), (\"'s\", 'PRT'), ('caldor', 'NOUN'), ('about', 'ADP'), ('from', 'ADP'), ('his', 'PRON'), ('is', 'VERB'), ('for', 'ADP'), ('performance', 'NOUN'), ('but', 'CONJ'), ('been', 'VERB'), ('going', 'VERB'), ('has', 'VERB'), (',', '.'), ('serious', 'ADJ'), ('already', 'ADV'), ('to', 'PRT'), ('boosters', 'NOUN'), ('they', 'PRON'), ('62', 'NUM'), ('the', 'DET'), ('charles', 'NOUN'), ('mixed', 'VERB'), ('slowing', 'VERB'), ('lord', 'NOUN'), ('hurricane', 'NOUN'), ('violations', 'NOUN'), ('unit', 'NOUN'), ('japan', 'NOUN'), ('when', 'ADV'), ('one', 'NUM'), ('showed', 'VERB'), ('representative', 'NOUN'), ('democrats', 'NOUN'), ('launched', 'VERB'), ('trade', 'NOUN'), ('family', 'NOUN'), ('reflect', 'VERB'), ('into', 'ADP'), ('$', '.'), ('$', '.'), ('.', '.'), ('million', 'NUM'), ('let', 'VERB'), ('america', 'NOUN'), ('ual', 'NOUN'), ('is', 'VERB'), ('paris', 'NOUN'), ('in', 'ADP'), ('``', '.'), ('faultlessly', 'ADV'), ('his', 'PRON'), ('asserts', 'NOUN'), ('*u*', 'X'), ('the', 'DET'), ('billion', 'NUM'), ('*t*-9', 'X'), ('casting', 'VERB'), ('of', 'ADP'), ('the', 'DET'), ('warning', 'NOUN'), ('china', 'NOUN'), ('market', 'NOUN'), ('of', 'ADP'), ('million', 'NUM'), (',', '.'), ('the', 'DET'), ('all', 'DET'), ('eastern', 'NOUN'), ('.', '.'), (',', '.'), ('recommended', 'VERB'), ('in', 'ADP'), ('here', 'ADV'), ('shareholder-rights', 'ADJ'), (\"''\", '.'), ('.', '.'), ('if', 'ADP'), ('the', 'DET'), ('mortgage', 'NOUN'), ('over', 'ADP'), ('good', 'ADJ'), ('the', 'DET'), ('and', 'CONJ'), ('upheld', 'VERB'), ('heavily', 'ADV'), ('is', 'VERB'), ('in', 'ADP'), ('sheaf', 'NOUN'), ('victory', 'NOUN'), ('is', 'VERB'), ('the', 'DET'), ('a', 'DET'), (\"'re\", 'VERB'), (',', '.'), ('to', 'PRT'), ('arbitrage', 'NOUN'), ('two', 'NUM'), ('3\\\\/4', 'NUM'), ('action', 'NOUN'), ('.', '.'), (',', '.'), ('a', 'DET'), ('a', 'DET'), ('``', '.'), ('``', '.'), ('a', 'DET'), ('numbered', 'VERB'), ('and', 'CONJ'), (\"''\", '.'), ('leaving', 'VERB'), ('tray', 'NOUN'), ('graduate', 'NOUN'), ('home', 'NOUN'), ('by', 'ADP'), ('falls', 'VERB'), ('acquisition', 'NOUN'), (',', '.'), ('u.s.', 'NOUN'), ('commission', 'NOUN'), ('government-funded', 'VERB'), ('to', 'PRT'), (',', '.'), ('the', 'DET'), ('one', 'NUM'), ('to', 'PRT'), (\"'s\", 'PRT'), ('plan', 'NOUN'), ('widgets', 'NOUN'), ('fundamental', 'ADJ'), ('by', 'ADP'), ('the', 'DET'), ('to', 'PRT'), ('available', 'ADJ'), ('stability', 'NOUN'), ('at', 'ADP'), ('managing', 'VERB'), ('the', 'DET'), ('the', 'DET'), ('flat', 'ADJ'), (',', '.'), ('12', 'NUM'), ('a', 'DET'), ('are', 'VERB'), ('is', 'VERB'), ('largest', 'ADJ'), ('for', 'ADP'), ('in', 'ADP'), ('cray-3', 'NOUN'), ('maker', 'NOUN'), (':', '.'), ('this', 'DET'), ('processing', 'NOUN'), ('of', 'ADP'), ('wrestling', 'VERB'), ('some', 'DET'), ('avid', 'NOUN'), ('or', 'CONJ'), ('case', 'NOUN'), ('open-end', 'ADJ'), ('to', 'PRT'), ('0', 'X'), ('plans', 'VERB'), ('to', 'PRT'), ('and', 'CONJ'), ('that', 'ADP'), ('points', 'NOUN'), ('i', 'PRON'), ('as', 'ADP'), ('sold', 'VERB'), ('will', 'VERB'), ('financial', 'ADJ'), ('above', 'ADP'), ('0', 'X'), ('moleculon', 'NOUN'), ('u.s.', 'NOUN'), (',', '.'), ('the', 'DET'), ('sold', 'VERB'), ('curbing', 'VERB'), ('24', 'NUM'), ('but', 'CONJ'), ('the', 'DET'), ('*u*', 'X'), ('--', '.'), ('profitable', 'ADJ'), ('the', 'DET'), ('have', 'VERB'), ('a', 'DET'), ('manager', 'NOUN'), ('alive', 'ADJ'), ('classroom', 'NOUN'), ('this', 'DET'), ('for', 'ADP'), ('series', 'NOUN'), ('biscayne', 'NOUN'), ('starting', 'VERB'), ('to', 'PRT'), ('%', 'NOUN'), (',', '.'), ('capital', 'NOUN'), ('*u*', 'X'), ('.', '.'), ('strong', 'ADJ'), ('votes', 'NOUN'), ('money', 'NOUN'), ('investors', 'NOUN'), ('377.60', 'NUM'), ('``', '.'), ('``', '.'), ('poor', 'NOUN'), ('the', 'DET'), ('public', 'ADJ'), ('or', 'CONJ'), ('many', 'ADJ'), ('by', 'ADP'), ('control', 'NOUN'), ('decline', 'NOUN'), ('transplants', 'NOUN'), ('reported', 'VERB'), ('considered', 'VERB'), ('firms', 'NOUN'), ('that', 'ADP'), ('and', 'CONJ'), (\"'s\", 'PRT'), ('*t*-1', 'X'), ('cents', 'NOUN'), (\"'s\", 'PRT'), ('1997', 'NUM'), ('global', 'ADJ'), ('s&p', 'NOUN'), ('600', 'NUM'), ('*t*-1', 'X'), ('stand', 'VERB'), ('chief', 'NOUN'), ('globe', 'NOUN'), ('as', 'ADP'), ('in', 'ADP'), ('to', 'PRT'), ('edison', 'NOUN'), ('well', 'ADV'), ('wa', 'NOUN'), ('gulf', 'NOUN'), (',', '.'), ('extramarital', 'ADJ'), ('causing', 'VERB'), ('places', 'NOUN'), ('asbestos', 'NOUN'), ('still', 'ADV'), ('n.j.-based', 'VERB'), ('vice', 'NOUN'), ('fees', 'NOUN'), ('separate', 'ADJ'), ('operation', 'NOUN'), ('billion', 'NUM'), ('from', 'ADP'), ('hills', 'NOUN'), ('farmers', 'NOUN'), ('they', 'PRON'), ('u.s.', 'NOUN'), ('shareholders', 'NOUN'), ('network', 'NOUN'), ('securities', 'NOUN'), ('of', 'ADP'), ('conduct', 'VERB'), ('he', 'PRON'), ('homeless', 'NOUN'), ('%', 'NOUN'), ('by', 'ADP'), ('economic', 'ADJ'), ('require', 'VERB'), ('a', 'DET'), (',', '.'), ('ingredients', 'NOUN'), ('have', 'VERB'), (',', '.'), ('hustlers', 'NOUN'), ('laws', 'NOUN'), ('japanese', 'ADJ'), ('banks', 'NOUN'), ('business', 'NOUN'), ('often', 'ADV'), ('as', 'ADP'), ('hudson', 'NOUN'), ('of', 'ADP'), ('.', '.'), ('7.20', 'NUM'), ('such', 'ADJ'), ('*u*', 'X'), ('economics', 'NOUN'), ('chrysler', 'NOUN'), ('had', 'VERB'), ('mr.', 'NOUN'), ('jr.', 'NOUN'), ('miller', 'NOUN'), ('the', 'DET'), ('the', 'DET'), ('small', 'ADJ'), ('japan', 'NOUN'), ('it', 'PRON'), ('clears', 'NOUN'), ('able', 'ADJ'), ('network', 'NOUN'), ('.', '.'), ('colleagues', 'NOUN'), ('*-1', 'X'), ('.', '.'), (',', '.'), ('dividends', 'NOUN'), ('slowly', 'ADV'), ('of', 'ADP'), ('of', 'ADP'), ('plants', 'NOUN'), ('will', 'VERB'), ('drag-down', 'ADJ'), ('$', '.'), (',', '.'), ('to', 'PRT'), ('of', 'ADP'), ('no', 'DET'), (',', '.'), ('*-1', 'X'), ('to', 'PRT'), ('new', 'ADJ'), ('afternoon', 'NOUN'), ('nearly', 'ADV'), ('*', 'X'), ('value', 'NOUN'), ('program', 'NOUN'), ('or', 'CONJ'), ('to', 'PRT'), ('$', '.'), ('mr.', 'NOUN'), ('.', '.'), (',', '.'), ('because', 'ADP'), ('26', 'NUM'), ('transportation', 'NOUN'), ('spitler', 'NOUN'), ('canadian', 'ADJ'), ('banks', 'NOUN'), ('added', 'VERB'), ('are', 'VERB'), ('``', '.'), ('off', 'PRT'), ('and', 'CONJ'), ('*-1', 'X'), ('seeing', 'VERB'), ('10', 'NUM'), ('balance', 'NOUN'), ('a', 'DET'), ('.', '.'), ('the', 'DET'), ('ward', 'NOUN'), ('the', 'DET'), ('%', 'NOUN'), ('under', 'ADP'), (\"'s\", 'PRT'), (',', '.'), ('acting', 'VERB'), ('of', 'ADP'), ('support', 'NOUN'), ('the', 'DET'), ('--', '.'), ('1.6', 'NUM'), (\"'\", 'PRT'), ('several', 'ADJ'), ('$', '.'), ('to', 'PRT'), ('suspended', 'VERB'), ('.', '.'), ('million', 'NUM'), ('i', 'PRON'), ('were', 'VERB'), ('that', 'ADP'), ('share', 'NOUN'), ('medical', 'ADJ'), ('about', 'ADP'), (',', '.'), ('investors', 'NOUN'), ('edwards', 'NOUN'), ('of', 'ADP'), ('*t*-32', 'X'), ('``', '.'), ('.', '.'), ('questions', 'NOUN'), (',', '.'), ('deal', 'NOUN'), ('payouts', 'NOUN'), ('for', 'ADP'), ('president', 'NOUN'), ('the', 'DET'), ('october', 'NOUN'), ('tender', 'NOUN'), ('bowl', 'NOUN'), ('in', 'ADP'), ('fare', 'VERB'), ('before', 'ADP'), ('authorized', 'VERB'), ('the', 'DET'), ('the', 'DET'), ('as', 'ADP'), ('filling', 'VERB'), ('by', 'ADP'), ('for', 'ADP'), ('utsumi', 'NOUN'), ('paid', 'VERB'), ('1.5', 'NUM'), ('to', 'PRT'), ('increased', 'VERB'), ('of', 'ADP'), ('3\\\\/4', 'NUM'), ('.', '.'), ('makers', 'NOUN'), ('first', 'ADJ'), ('.', '.'), ('a', 'DET'), ('the', 'DET'), ('could', 'VERB'), ('contract', 'NOUN'), ('the', 'DET'), ('of', 'ADP'), ('immune', 'ADJ'), ('to', 'PRT'), ('company', 'NOUN'), ('*u*', 'X'), ('xiaoping', 'VERB'), ('companies', 'NOUN'), ('within', 'ADP'), ('$', '.'), ('company', 'NOUN'), ('massachusetts', 'NOUN'), ('&', 'CONJ'), ('scheduled', 'VERB'), ('and', 'CONJ'), ('of', 'ADP'), ('1', 'NUM'), ('he', 'PRON'), ('7.8', 'NUM'), ('this', 'DET'), ('is', 'VERB'), ('corp.', 'NOUN'), ('wilcox', 'NOUN'), ('had', 'VERB'), ('any', 'DET'), ('constitutional', 'ADJ'), (',', '.'), ('valuation', 'NOUN'), ('830,000', 'NOUN'), ('.', '.'), ('those', 'DET'), ('the', 'DET'), ('were', 'VERB'), ('its', 'PRON'), ('it', 'PRON'), ('plo', 'NOUN'), ('a', 'DET'), ('.', '.'), ('dismissed', 'VERB'), ('church', 'NOUN'), ('mcgovern', 'NOUN'), ('should', 'VERB'), (',', '.'), ('the', 'DET'), ('1\\\\/2', 'NUM'), ('or', 'CONJ'), ('challenge', 'NOUN'), ('garbage', 'NOUN'), ('spending', 'NOUN'), ('disciplinary', 'ADJ'), ('team', 'NOUN'), ('minister', 'NOUN'), ('some', 'DET'), ('16.9', 'NUM'), ('still', 'ADV'), (\"'\", 'PRT'), ('expects', 'VERB'), ('.', '.'), ('until', 'ADP'), ('proceeds', 'NOUN'), ('from', 'ADP'), ('purchase', 'NOUN'), ('futures', 'NOUN'), ('easier', 'ADJ'), ('*-3', 'X'), ('because', 'ADP'), (',', '.'), ('net', 'ADJ'), ('fell', 'VERB'), ('from', 'ADP'), ('of', 'ADP'), ('mayor', 'NOUN'), ('a', 'DET'), ('joined', 'VERB'), ('0', 'X'), ('$', '.'), ('about', 'ADP'), ('for', 'ADP'), ('its', 'PRON'), ('.', '.'), ('rose', 'VERB'), ('to', 'PRT'), ('hampshire', 'NOUN'), ('irs', 'NOUN'), ('the', 'DET'), ('even', 'ADV'), ('identify', 'VERB'), ('sell', 'VERB'), ('at', 'ADP'), ('0', 'X'), ('the', 'DET'), ('issue', 'NOUN'), ('mortgage-backed', 'ADJ'), ('to', 'PRT'), ('have', 'VERB'), ('bowed', 'VERB'), ('the', 'DET'), ('might', 'VERB'), ('in', 'ADP'), ('the', 'DET'), ('cents', 'NOUN'), ('to', 'PRT'), ('of', 'ADP'), (',', '.'), ('abrupt', 'NOUN'), ('to', 'PRT'), ('13', 'NUM'), ('was', 'VERB'), ('number', 'NOUN'), ('fit', 'NOUN'), ('that', 'ADP'), ('day', 'NOUN'), ('*-59', 'X'), ('president', 'NOUN'), ('.', '.'), (\"'s\", 'PRT'), ('playing', 'VERB'), ('interior', 'NOUN'), ('kids', 'NOUN'), ('dunkin', 'NOUN'), ('*t*-1', 'X'), (\"'s\", 'PRT'), ('sketch', 'NOUN'), ('``', '.'), ('dreamed', 'VERB'), ('to', 'PRT'), ('do', 'VERB'), (',', '.'), ('at', 'ADP'), ('exchange', 'NOUN'), ('widgets', 'NOUN'), ('sub-markets', 'ADJ'), ('or', 'CONJ'), ('.', '.'), ('*-1', 'X'), ('methods', 'NOUN'), ('days', 'NOUN'), ('who', 'PRON'), (',', '.'), ('creating', 'VERB'), ('$', '.'), ('who', 'PRON'), ('executives', 'NOUN'), ('for', 'ADP'), ('engaged', 'VERB'), ('at', 'ADP'), ('and', 'CONJ'), ('and', 'CONJ'), ('of', 'ADP'), ('*t*-1', 'X'), ('*-1', 'X'), ('further', 'ADJ'), ('92.9', 'NUM'), (',', '.'), ('of', 'ADP'), ('had', 'VERB'), (',', '.'), ('to', 'PRT'), ('-rcb-', '.'), ('filed', 'VERB'), ('recent', 'ADJ'), ('post', 'NOUN'), ('heating', 'NOUN'), ('offer', 'NOUN'), (';', '.'), ('at', 'ADP'), ('wants', 'VERB'), ('*-1', 'X'), (',', '.'), ('theory', 'NOUN'), ('60', 'NUM'), ('.', '.'), ('ross', 'NOUN'), (',', '.'), ('and', 'CONJ'), ('a', 'DET'), ('.', '.'), ('even', 'ADV'), ('her', 'PRON'), ('rapanelli', 'NOUN'), ('up', 'PRT'), ('we', 'PRON'), ('he', 'PRON'), ('to', 'PRT'), ('.', '.'), (',', '.'), ('breaker', 'NOUN'), ('$', '.'), ('.', '.'), ('--', '.'), ('*t*-1', 'X'), ('terminated', 'VERB'), ('bangkok', 'NOUN'), (',', '.'), ('what', 'PRON'), ('knew', 'VERB'), ('state', 'NOUN'), ('of', 'ADP'), ('business', 'NOUN'), ('*t*-1', 'X'), ('so-called', 'ADJ'), ('it', 'PRON'), ('october', 'NOUN'), ('ways', 'NOUN'), ('*t*-26', 'X'), ('reuter', 'NOUN'), ('24', 'NUM'), ('.', '.'), ('fall', 'NOUN'), ('china', 'NOUN'), ('stand', 'VERB'), ('william', 'NOUN'), ('the', 'DET'), ('to', 'PRT'), ('hermitage', 'NOUN'), ('which', 'DET'), ('*-1', 'X'), ('to', 'PRT'), ('magazine', 'NOUN'), ('budget', 'NOUN'), ('dawn', 'NOUN'), ('squier', 'NOUN'), ('grain', 'NOUN'), ('a', 'DET'), ('sales', 'NOUN'), ('trades', 'NOUN'), ('auto-safety', 'NOUN'), ('she', 'PRON'), ('for', 'ADP'), ('stated', 'VERB'), ('a', 'DET'), ('boy', 'NOUN'), ('f.w.', 'NOUN'), ('program', 'NOUN'), ('co.', 'NOUN'), ('planned', 'VERB'), ('losing', 'VERB'), (',', '.'), ('*-2', 'X'), ('billion', 'NUM'), ('cat', 'NOUN'), ('that', 'ADP'), (\"'\", 'PRT'), (',', '.'), ('hands', 'NOUN'), ('grant', 'NOUN'), ('over', 'ADP'), ('the', 'DET'), ('to', 'PRT'), ('than', 'ADP'), ('*-1', 'X'), ('obligation', 'NOUN'), ('commission', 'NOUN'), ('.', '.'), ('its', 'PRON'), ('term', 'NOUN'), ('have', 'VERB'), ('she', 'PRON'), ('it', 'PRON'), ('his', 'PRON'), (',', '.'), ('american', 'NOUN'), ('in', 'ADP'), ('for', 'ADP'), (\"n't\", 'ADV'), ('numeral', 'ADJ'), ('with', 'ADP'), ('back', 'ADV'), ('been', 'VERB'), ('these', 'DET'), ('run', 'VERB'), ('and', 'CONJ'), ('for', 'ADP'), (\"''\", '.'), ('in', 'ADP'), ('*-1', 'X'), ('0', 'X'), ('though', 'ADP'), ('to', 'PRT'), ('by', 'ADP'), ('workers', 'NOUN'), ('the', 'DET'), ('with', 'ADP'), ('&', 'CONJ'), ('its', 'PRON'), ('$', '.'), ('hurt', 'VERB'), ('over', 'ADP'), ('of', 'ADP'), ('.', '.'), ('on', 'ADP'), (',', '.'), ('a', 'DET'), ('in', 'ADP'), ('company', 'NOUN'), ('only', 'ADV'), ('``', '.'), ('ill.', 'NOUN'), ('containers', 'NOUN'), ('resilient', 'NOUN'), ('that', 'ADP'), ('machinists', 'NOUN'), ('of', 'ADP'), ('before', 'ADP'), ('treasury', 'NOUN'), (':', '.'), ('knowledgeable', 'ADJ'), ('chief', 'NOUN'), ('``', '.'), ('a', 'DET'), ('0', 'X'), ('first', 'ADJ'), ('.', '.'), ('ymca', 'NOUN'), ('jobs', 'NOUN'), ('banks', 'NOUN'), ('any', 'DET'), ('--', '.'), ('volatility', 'NOUN'), ('bottom-line', 'ADJ'), ('latest', 'ADJ'), ('fuel', 'NOUN'), ('was', 'VERB'), ('by', 'ADP'), (',', '.'), (';', '.'), ('would', 'VERB'), ('is', 'VERB'), (\"''\", '.'), ('the', 'DET'), ('to', 'PRT'), ('the', 'DET'), ('angle', 'NOUN'), ('over', 'ADP'), ('are', 'VERB'), ('of', 'ADP'), ('highest', 'ADJ'), (\"'s\", 'PRT'), ('enters', 'VERB'), ('is', 'VERB'), ('funny', 'ADJ'), ('to', 'PRT'), ('new', 'ADJ'), ('*t*-246', 'NOUN'), ('*ich*-2', 'X'), ('the', 'DET'), ('unit', 'NOUN'), (',', '.'), ('down', 'ADV'), ('.', '.'), ('other', 'ADJ'), ('there', 'DET'), ('foot', 'NOUN'), ('.', '.'), ('pretax', 'NOUN'), ('described', 'VERB'), ('48', 'NUM'), ('be', 'VERB'), ('*-1', 'X'), (',', '.'), ('$', '.'), ('a', 'DET'), ('transamerica', 'NOUN'), ('*ppa*-1', 'X'), ('surged', 'VERB'), ('a', 'DET'), ('cents', 'NOUN'), ('be', 'VERB'), ('even', 'ADV'), ('cry', 'NOUN'), ('see', 'VERB'), ('hold', 'VERB'), ('0', 'X'), ('2.80', 'NUM'), ('we', 'PRON'), ('of', 'ADP'), ('said', 'VERB'), ('complicated', 'ADJ'), ('in', 'ADP'), ('capital', 'NOUN'), ('seems', 'VERB'), ('device', 'NOUN'), ('lower', 'ADJ'), ('coaching', 'NOUN'), ('his', 'PRON'), ('intermediate', 'NOUN'), ('6', 'NUM'), (',', '.'), ('.', '.'), ('steel', 'NOUN'), ('and', 'CONJ'), ('which', 'DET'), ('evenly', 'ADV'), (',', '.'), ('estimated', 'VERB'), ('*t*-49', 'X'), ('random', 'NOUN'), ('kidder', 'NOUN'), (',', '.'), ('markets', 'NOUN'), ('to', 'PRT'), ('also', 'ADV'), ('to', 'PRT'), (',', '.'), ('new', 'ADJ'), ('design', 'NOUN'), ('in', 'ADP'), ('eventually', 'ADV'), ('due', 'ADJ'), ('yesterday', 'NOUN'), ('*', 'X'), ('compound', 'NOUN'), ('*-2', 'X'), ('.', '.'), ('even', 'ADV'), (',', '.'), ('investment', 'NOUN'), ('read', 'VERB'), ('represent', 'VERB'), (';', '.'), ('he', 'PRON'), ('and', 'CONJ'), ('bought', 'VERB'), ('.', '.'), ('0', 'X'), ('president', 'NOUN'), ('on', 'ADP'), ('researchers', 'NOUN'), ('0', 'X'), ('light', 'ADJ'), ('with', 'ADP'), ('more', 'ADJ'), ('way', 'NOUN'), ('inadequate', 'ADJ'), ('next', 'ADJ'), ('risks', 'NOUN'), ('so', 'ADV'), ('sec', 'NOUN'), ('the', 'DET'), ('500', 'NUM'), ('investor', 'NOUN'), ('three', 'NUM'), ('500', 'NUM'), ('in', 'ADP'), ('vindication', 'NOUN'), ('our', 'PRON'), ('a', 'DET'), ('only', 'ADV'), ('*t*-3', 'X'), ('might', 'VERB'), ('programs', 'NOUN'), ('in', 'ADP'), ('*u*', 'X'), ('auction', 'NOUN'), ('restore', 'VERB'), ('number', 'NOUN'), ('high', 'ADJ'), ('nih', 'NOUN'), ('placing', 'VERB'), ('are', 'VERB'), ('out', 'PRT'), ('rules', 'NOUN'), ('1988', 'NUM'), ('of', 'ADP'), ('to', 'PRT'), ('despite', 'ADP'), ('germany', 'NOUN'), ('in', 'ADP'), ('more', 'ADJ'), ('comedies', 'VERB'), ('landis', 'NOUN'), ('commonwealth', 'NOUN'), ('agents', 'NOUN'), ('programs', 'NOUN'), ('ideas', 'NOUN'), ('back', 'ADV'), ('is', 'VERB'), ('transplants', 'NOUN'), ('is', 'VERB'), ('trader', 'NOUN'), ('investors', 'NOUN'), ('equitable', 'NOUN'), ('were', 'VERB'), ('said', 'VERB'), ('resign', 'NOUN'), ('the', 'DET'), ('whether', 'ADP'), ('new', 'ADJ'), ('reflected', 'VERB'), ('truce', 'NOUN'), ('portfolio', 'NOUN'), ('faulding', 'NOUN'), (',', '.'), ('*-1', 'X'), ('they', 'PRON'), ('the', 'DET'), ('secretary', 'NOUN'), ('limited', 'VERB'), ('came', 'VERB'), ('a', 'DET'), ('south', 'NOUN'), ('ceiling', 'NOUN'), ('$', '.'), ('an', 'DET'), ('is', 'VERB'), ('peter', 'NOUN'), ('*', 'X'), ('an', 'DET'), ('*-1', 'X'), ('potential', 'ADJ'), ('0', 'X'), ('the', 'DET'), (',', '.'), ('luck', 'NOUN'), ('was', 'VERB'), ('has', 'VERB'), ('*', 'X'), ('targets', 'VERB'), ('had', 'VERB'), (',', '.'), (',', '.'), ('out', 'PRT'), ('foster', 'NOUN'), ('on', 'ADP'), ('of', 'ADP'), ('50', 'NUM'), ('anticipated', 'VERB'), ('451', 'NUM'), ('r.i.', 'NOUN'), ('yen', 'NOUN'), ('was', 'VERB'), ('a', 'DET'), ('.', '.'), ('they', 'PRON'), ('*ich*-2', 'X'), ('the', 'DET'), ('stock-market', 'NOUN'), ('*', 'X'), ('the', 'DET'), ('.', '.'), ('the', 'DET'), ('bidder', 'NOUN'), ('the', 'DET'), ('.', '.'), ('vaccines', 'VERB'), ('conditional', 'ADJ'), ('gold', 'NOUN'), ('closed', 'VERB'), ('debt', 'NOUN'), ('``', '.'), ('*u*', 'X'), ('.', '.'), (\"'s\", 'PRT'), ('*-2', 'X'), ('london', 'NOUN'), ('england', 'NOUN'), ('computers', 'NOUN'), ('yield', 'VERB'), ('and', 'CONJ'), ('alternatives', 'NOUN'), ('legislation', 'NOUN'), ('.', '.'), ('eurodollars', 'NOUN'), ('borough', 'NOUN'), (',', '.'), ('provides', 'VERB'), ('firm', 'NOUN'), ('bounce', 'NOUN'), ('disagrees', 'VERB'), ('executives', 'NOUN'), ('*-1', 'X'), ('contel', 'NOUN'), (',', '.'), ('set', 'VERB'), ('electronics', 'NOUN'), ('contracts', 'NOUN'), ('and', 'CONJ'), ('corp.', 'NOUN'), ('and', 'CONJ'), ('indexing', 'VERB'), ('*-2', 'X'), (',', '.'), ('``', '.'), ('help', 'VERB'), ('attractive', 'ADJ'), ('of', 'ADP'), ('a', 'DET'), ('because', 'ADP'), ('herald', 'NOUN'), ('cars', 'NOUN'), ('oxnard', 'NOUN'), ('0', 'X'), ('you', 'PRON'), (',', '.'), ('herald', 'NOUN'), ('0', 'X'), ('simultaneous', 'ADJ'), ('recently', 'ADV'), ('review', 'NOUN'), ('``', '.'), ('are', 'VERB'), ('japan', 'NOUN'), ('r.', 'NOUN'), ('spirit', 'NOUN'), ('for', 'ADP'), ('hahn', 'NOUN'), ('*t*-1', 'X'), ('the', 'DET'), ('chance', 'NOUN'), ('solid', 'ADJ'), ('has', 'VERB'), ('funds', 'NOUN'), ('strictly', 'ADV'), ('share', 'NOUN'), ('down', 'ADV'), ('notes', 'NOUN'), ('3.8', 'NUM'), ('the', 'DET'), ('material', 'NOUN'), ('innovative', 'NOUN'), ('for', 'ADP'), (\"'m\", 'VERB'), ('mr.', 'NOUN'), ('america', 'NOUN'), ('be', 'VERB'), (',', '.'), ('to', 'PRT'), ('*-1', 'X'), ('i', 'PRON'), ('shares', 'NOUN'), ('in', 'ADP'), ('that', 'ADP'), ('``', '.'), ('industrial', 'ADJ'), ('*-1', 'X'), ('spending', 'NOUN'), ('to', 'PRT'), ('6,000', 'NUM'), ('learned', 'VERB'), ('*-121', 'NOUN'), ('bills', 'NOUN'), ('either', 'DET'), (\"n't\", 'ADV'), ('they', 'PRON'), ('by', 'ADP'), ('magleby', 'NOUN'), (\"''\", '.'), ('angola', 'NOUN'), ('wilfred', 'VERB'), ('throughout', 'ADP'), ('in', 'ADP'), ('they', 'PRON'), ('of', 'ADP'), ('0', 'X'), ('financial', 'ADJ'), (',', '.'), ('yen', 'NOUN'), ('the', 'DET'), ('the', 'DET'), ('demand', 'NOUN'), ('words', 'NOUN'), ('to', 'PRT'), ('that', 'ADP'), ('debt', 'NOUN'), ('sometimes', 'ADV'), ('to', 'PRT'), ('big', 'ADJ'), ('similar', 'ADJ'), ('many', 'ADJ'), ('perceives', 'VERB'), ('more', 'ADJ'), ('basket', 'NOUN'), ('225.6', 'NUM'), ('bankruptcy', 'NOUN'), ('is', 'VERB'), ('.', '.'), ('as', 'ADP'), ('in', 'ADP'), ('exhaust', 'VERB'), ('manager', 'NOUN'), ('yesterday', 'NOUN'), ('day', 'NOUN'), ('shares', 'NOUN'), ('in', 'ADP'), (',', '.'), ('ftc', 'NOUN'), ('0', 'X'), ('keep', 'VERB'), ('problem', 'NOUN'), (\"'s\", 'PRT'), ('source', 'NOUN'), ('*-1', 'X'), ('it', 'PRON'), ('one', 'NUM'), ('of', 'ADP'), ('a', 'DET'), ('about', 'ADP'), ('increases', 'NOUN'), (',', '.'), (',', '.'), ('already', 'ADV'), ('edison', 'NOUN'), ('one', 'NUM'), ('a', 'DET'), ('said', 'VERB'), ('has', 'VERB'), ('in', 'ADP'), ('would', 'VERB'), ('its', 'PRON'), ('and', 'CONJ'), ('the', 'DET'), ('enough', 'ADV'), ('declare', 'NOUN'), ('850', 'NUM'), (\"''\", '.'), ('*t*-1', 'X'), ('*u*', 'X'), ('it', 'PRON'), ('dodge', 'NOUN'), ('.', '.'), ('strong', 'ADJ'), ('giant', 'NOUN'), ('but', 'CONJ'), ('11th', 'NOUN'), ('investment', 'NOUN'), ('about', 'ADP'), ('to', 'PRT'), ('1990', 'NUM'), ('stock', 'NOUN'), (',', '.'), ('ec', 'NOUN'), ('that', 'ADP'), ('two', 'NUM'), (',', '.'), ('grant', 'NOUN'), ('million', 'NUM'), ('trust', 'NOUN'), ('a', 'DET'), ('.', '.'), ('really', 'ADV'), (',', '.'), ('superconductors', 'NOUN'), ('completed', 'VERB'), ('sets', 'NOUN'), ('necessarily', 'ADV'), ('appeared', 'VERB'), ('of', 'ADP'), ('record', 'NOUN'), ('new', 'ADJ'), ('unusually', 'ADV'), ('countries', 'NOUN'), ('deadline', 'NOUN'), ('traditional', 'ADJ'), ('grows', 'VERB'), ('beat', 'VERB'), (',', '.'), ('rates', 'NOUN'), ('wilbur', 'NOUN'), ('14.53', 'NUM'), ('own', 'ADJ'), ('playwright', 'NOUN'), ('thrift', 'NOUN'), ('excess', 'ADJ'), ('torrent', 'NOUN'), ('demise', 'NOUN'), ('pretax', 'NOUN'), ('international', 'NOUN'), ('the', 'DET'), ('to', 'PRT'), ('.', '.'), (\"''\", '.'), ('office', 'NOUN'), ('advice', 'NOUN'), ('1989', 'NUM'), ('have', 'VERB'), ('examined', 'VERB'), ('will', 'VERB'), ('of', 'ADP'), ('--', '.'), (\"'\", 'PRT'), ('were', 'VERB'), (\"'s\", 'PRT'), ('.', '.'), ('higher', 'ADJ'), ('next', 'ADJ'), ('october', 'NOUN'), ('over', 'ADP'), ('new', 'ADJ'), ('america', 'NOUN'), ('.', '.'), ('ban', 'NOUN'), ('in', 'ADP'), ('112.9', 'NUM'), ('the', 'DET'), ('.', '.'), ('*t*-2', 'X'), ('growing', 'VERB'), ('managing', 'VERB'), (\"'s\", 'PRT'), ('.', '.'), ('run', 'VERB'), ('achievement-test', 'ADJ'), ('arbitrage', 'NOUN'), ('the', 'DET'), ('minimum', 'ADJ'), ('up', 'PRT'), ('that', 'ADP'), ('unfairly', 'ADV'), ('from', 'ADP'), ('is', 'VERB'), ('but', 'CONJ'), ('and', 'CONJ'), ('markets', 'NOUN'), ('the', 'DET'), (',', '.'), ('suspension', 'NOUN'), ('had', 'VERB'), ('some', 'DET'), ('10-day', 'ADJ'), ('fiscal', 'ADJ'), ('and', 'CONJ'), ('dogs', 'NOUN'), (',', '.'), ('significant', 'ADJ'), ('*u*', 'X'), ('with', 'ADP'), ('*', 'X'), ('ago', 'ADP'), ('central', 'ADJ'), ('the', 'DET'), ('described', 'VERB'), ('no', 'DET'), ('0', 'X'), ('$', '.'), ('run', 'VERB'), ('terms', 'NOUN'), ('*-1', 'X'), ('to', 'PRT'), ('30', 'NUM'), ('fed', 'NOUN'), ('ad', 'NOUN'), ('few', 'ADJ'), ('*t*-1', 'X'), ('its', 'PRON'), ('capability', 'NOUN'), ('voice', 'NOUN'), ('even', 'ADV'), ('dealers', 'NOUN'), ('making', 'VERB'), ('said', 'VERB'), ('wall', 'NOUN'), ('the', 'DET'), ('it', 'PRON'), ('for', 'ADP'), ('compared', 'VERB'), ('though', 'ADP'), ('investor', 'NOUN'), ('revival', 'NOUN'), ('set', 'VERB'), ('collected', 'VERB'), ('an', 'DET'), ('.', '.'), ('spreads', 'NOUN'), ('income', 'NOUN'), ('and', 'CONJ'), ('next', 'ADJ'), ('ad', 'NOUN'), ('128', 'NUM'), ('trucks', 'NOUN'), ('*-1', 'X'), ('he', 'PRON'), ('qualify', 'VERB'), ('receive', 'VERB'), ('mr.', 'NOUN'), ('measure', 'NOUN'), ('for', 'ADP'), ('they', 'PRON'), ('traitor', 'NOUN'), ('talking', 'VERB'), ('the', 'DET'), ('harsh', 'ADJ'), ('``', '.'), ('improve', 'VERB'), ('.', '.'), ('school', 'NOUN'), ('research', 'NOUN'), ('new', 'ADJ'), ('the', 'DET'), ('involving', 'VERB'), ('``', '.'), ('retain', 'VERB'), ('retirement', 'NOUN'), ('madison', 'NOUN'), ('international', 'NOUN'), ('money', 'NOUN'), ('necessary', 'ADJ'), ('.', '.'), ('georgia', 'NOUN'), ('of', 'ADP'), ('that', 'ADP'), ('in', 'ADP'), ('*', 'X'), ('wide', 'ADJ'), ('a', 'DET'), ('spurring', 'VERB'), ('the', 'DET'), ('significant', 'ADJ'), ('51', 'NUM'), ('to', 'PRT'), ('.', '.'), ('.', '.'), (',', '.'), ('need', 'VERB'), ('from', 'ADP'), ('continuing', 'VERB'), ('and', 'CONJ'), ('ward', 'NOUN'), ('dividends', 'NOUN'), ('or', 'CONJ'), ('fired', 'VERB'), ('ward', 'NOUN'), ('rep.', 'NOUN'), ('on', 'ADP'), ('a', 'DET'), ('haven', 'NOUN'), ('first', 'ADJ'), ('higher', 'ADJ'), ('we', 'PRON'), ('and', 'CONJ'), ('year', 'NOUN'), ('teachers', 'NOUN'), ('its', 'PRON'), ('its', 'PRON'), (',', '.'), ('much', 'ADV'), ('washington', 'NOUN'), ('of', 'ADP'), ('ultimately', 'ADV'), ('they', 'PRON'), ('declines', 'NOUN'), ('street', 'NOUN'), ('.', '.'), ('indexes', 'VERB'), ('*t*-24', 'X'), ('aggressively', 'ADV'), (',', '.'), ('it', 'PRON'), ('.', '.'), ('the', 'DET'), ('as', 'ADP'), ('in', 'ADP'), (',', '.'), (\"n't\", 'ADV'), ('ford', 'NOUN'), ('.', '.'), ('performing', 'VERB'), ('to', 'PRT'), ('the', 'DET'), ('as', 'ADP'), ('3\\\\/4', 'NUM'), ('spokesman', 'NOUN'), ('of', 'ADP'), ('of', 'ADP'), ('saying', 'VERB'), (',', '.'), ('rebuilding', 'VERB'), ('very', 'ADV'), ('and', 'CONJ'), ('with', 'ADP'), (',', '.'), ('list', 'NOUN'), (\"n't\", 'ADV'), ('but', 'CONJ'), ('parties', 'NOUN'), ('common', 'ADJ'), ('these', 'DET'), ('*-1', 'X'), ('the', 'DET'), ('that', 'ADP'), ('*t*-3', 'X'), ('.', '.'), ('folks', 'NOUN'), ('if', 'ADP'), ('computer', 'NOUN'), ('skittishness', 'NOUN'), ('the', 'DET'), ('sphere', 'NOUN'), ('.', '.'), ('been', 'VERB'), ('a', 'DET'), ('work', 'NOUN'), ('$', '.'), ('him', 'PRON'), ('into', 'ADP'), ('in', 'ADP'), ('parent', 'NOUN'), ('long', 'ADJ'), ('third', 'ADJ'), ('%', 'NOUN'), ('the', 'DET'), ('value', 'NOUN'), ('*-2', 'X'), ('that', 'ADP'), ('and', 'CONJ'), ('redeemed', 'VERB'), ('of', 'ADP'), ('.', '.'), ('court', 'NOUN'), ('has', 'VERB'), ('funding', 'NOUN'), ('of', 'ADP'), ('indicated', 'VERB'), ('trade', 'NOUN'), ('signifying', 'VERB'), ('labor', 'NOUN'), ('to', 'PRT'), ('stake', 'NOUN'), ('176', 'NUM'), ('full', 'ADJ'), ('program', 'NOUN'), ('sectors', 'NOUN'), ('besuboru', 'NOUN'), ('that', 'ADP'), ('younkers', 'NOUN'), ('sony', 'NOUN'), ('into', 'ADP'), ('in', 'ADP'), ('with', 'ADP'), ('--', '.'), ('the', 'DET'), ('%', 'NOUN'), ('51', 'NUM'), ('the', 'DET'), ('plastic', 'ADJ'), ('is', 'VERB'), ('frozen', 'VERB'), ('ballpark', 'NOUN'), ('and', 'CONJ'), ('the', 'DET'), ('0', 'X'), ('.', '.'), ('the', 'DET'), ('other', 'ADJ'), ('increase', 'NOUN'), ('particular', 'ADJ'), ('of', 'ADP'), ('that', 'ADP'), ('nations', 'NOUN'), ('well-known', 'ADJ'), ('for', 'ADP'), ('department', 'NOUN'), ('sounded', 'VERB'), ('signing', 'VERB'), ('in', 'ADP'), ('chinese', 'ADJ'), ('young', 'ADJ'), (',', '.'), ('strength', 'NOUN'), ('*t*-1', 'X'), ('as', 'ADP'), ('self', 'NOUN'), ('he', 'PRON'), (\"'s\", 'PRT'), ('by', 'ADP'), ('vitulli', 'NOUN'), ('had', 'VERB'), (';', '.'), ('the', 'DET'), ('said', 'VERB'), ('market', 'NOUN'), ('taken', 'VERB'), ('and', 'CONJ'), (',', '.'), ('in', 'ADP'), ('is', 'VERB'), ('2', 'NUM'), ('have', 'VERB'), ('director', 'NOUN'), ('do', 'VERB'), ('have', 'VERB'), ('--', '.'), ('wine', 'NOUN'), ('-rrb-', '.'), ('will', 'VERB'), ('sonnett', 'NOUN'), ('interpretation', 'NOUN'), ('it', 'PRON'), ('story', 'NOUN'), ('industrial', 'ADJ'), ('the', 'DET'), ('cabernet', 'NOUN'), ('.', '.'), ('big', 'ADJ'), ('*u*', 'X'), ('``', '.'), ('massachusetts', 'NOUN'), ('own', 'ADJ'), ('business', 'NOUN'), (',', '.'), ('china', 'NOUN'), ('thrift', 'NOUN'), (\"''\", '.'), ('which', 'DET'), ('members', 'NOUN'), ('of', 'ADP'), ('to', 'PRT'), (',', '.'), ('0', 'X'), ('corp.', 'NOUN'), ('the', 'DET'), ('go', 'VERB'), ('shares', 'NOUN'), ('2,500', 'NUM'), ('and', 'CONJ'), ('things', 'NOUN'), ('a', 'DET'), ('18', 'NUM'), ('addition', 'NOUN'), (',', '.'), ('are', 'VERB'), ('%', 'NOUN'), ('are', 'VERB'), ('the', 'DET'), ('could', 'VERB'), ('his', 'PRON'), ('in', 'ADP'), ('delivery', 'NOUN'), ('*t*-1', 'X'), ('inventor', 'NOUN'), ('roll', 'NOUN'), ('0', 'X'), ('that', 'ADP'), ('so', 'ADV'), ('the', 'DET'), ('executive', 'NOUN'), ('company', 'NOUN'), ('provision', 'NOUN'), ('at', 'ADP'), ('of', 'ADP'), ('*-2', 'X'), ('says', 'VERB'), ('ownership', 'NOUN'), ('weaker', 'ADJ'), ('year', 'NOUN'), ('%', 'NOUN'), ('it', 'PRON'), ('administrator', 'NOUN'), ('memorize', 'VERB'), ('information', 'NOUN'), ('recent', 'ADJ'), ('the', 'DET'), ('of', 'ADP'), ('.', '.'), ('*?*', 'X'), ('--', '.'), ('unsecured', 'ADJ'), ('45', 'NUM'), ('and', 'CONJ'), (',', '.'), ('independent', 'ADJ'), (\"'re\", 'VERB'), ('the', 'DET'), ('idea', 'NOUN'), ('la', 'NOUN'), ('180', 'NUM'), ('signal', 'NOUN'), ('for', 'ADP'), (\"n't\", 'ADV'), ('company', 'NOUN'), ('about', 'ADP'), ('the', 'DET'), ('less', 'ADJ'), ('bureaucracy', 'NOUN'), ('officials', 'NOUN'), ('in', 'ADP'), ('of', 'ADP'), ('the', 'DET'), ('*t*-220', 'NOUN'), ('or', 'CONJ'), ('corp', 'NOUN'), ('*-2', 'X'), ('traders', 'NOUN'), ('*t*-48', 'X'), ('donuts', 'NOUN'), ('same', 'ADJ'), ('the', 'DET'), ('the', 'DET'), ('veto', 'NOUN'), (',', '.'), ('it', 'PRON'), ('like', 'ADP'), ('interrogation', 'NOUN'), ('georgia', 'NOUN'), ('be', 'VERB'), ('consensus', 'NOUN'), ('high', 'ADJ'), ('women', 'NOUN'), ('are', 'VERB'), ('commerce', 'NOUN'), ('pcs', 'NOUN'), ('watchers', 'NOUN'), ('tire', 'NOUN'), ('durable-goods', 'ADJ'), ('a', 'DET'), ('be', 'VERB'), ('fighting', 'VERB'), ('into', 'ADP'), ('comprehensive', 'NOUN'), ('with', 'ADP'), ('get', 'VERB'), ('.', '.'), ('the', 'DET'), ('as', 'ADP'), (\"''\", '.'), ('lawyers', 'NOUN'), ('trading', 'NOUN'), ('the', 'DET'), (\"''\", '.'), ('to', 'PRT'), ('launched', 'VERB'), ('often', 'ADV'), ('bribery', 'NOUN'), ('of', 'ADP'), ('*u*', 'X'), ('the', 'DET'), ('products', 'NOUN'), ('and', 'CONJ'), ('age', 'NOUN'), ('*t*-3', 'X'), ('in', 'ADP'), ('crops', 'NOUN'), ('carnival', 'NOUN'), ('*-3', 'X'), ('needed', 'VERB'), ('force', 'NOUN'), ('*u*', 'X'), ('it', 'PRON'), ('0', 'X'), ('hampshire', 'NOUN'), ('thousands', 'NOUN'), ('same', 'ADJ'), ('approved', 'VERB'), ('the', 'DET'), ('*', 'X'), ('*-1', 'X'), ('for', 'ADP'), ('but', 'CONJ'), ('it', 'PRON'), ('than', 'ADP'), ('successfully', 'ADV'), ('after', 'ADP'), ('able', 'ADJ'), ('ohio', 'NOUN'), ('retail', 'ADJ'), ('40', 'NUM'), ('stronger', 'ADJ'), ('furniture', 'NOUN'), ('the', 'DET'), ('never', 'ADV'), ('says', 'VERB'), ('in', 'ADP'), ('years', 'NOUN'), ('speed', 'NOUN'), ('corporate', 'ADJ'), ('0', 'X'), ('assisted', 'VERB'), ('chemical', 'NOUN'), ('by', 'ADP'), ('--', '.'), ('czechoslovakia', 'NOUN'), ('hearst', 'NOUN'), ('it', 'PRON'), ('118', 'NUM'), (',', '.'), ('in', 'ADP'), ('and', 'CONJ'), ('operations', 'NOUN'), ('card', 'NOUN'), ('.', '.'), ('of', 'ADP'), ('1.64', 'NUM'), ('comment', 'NOUN'), ('absurd', 'NOUN'), ('yet', 'ADV'), ('of', 'ADP'), (',', '.'), ('sought', 'VERB'), ('the', 'DET'), ('*rnr*-4', 'X'), ('they', 'PRON'), ('.', '.'), (\"'s\", 'PRT'), ('irvine', 'NOUN'), ('white', 'NOUN'), ('for', 'ADP'), ('fiscal', 'ADJ'), (';', '.'), ('$', '.'), ('next', 'ADJ'), ('up', 'PRT'), ('investors', 'NOUN'), ('10', 'NUM'), ('a', 'DET'), ('``', '.'), ('acquired', 'VERB'), ('from', 'ADP'), ('malignant', 'NOUN'), ('outside', 'ADJ'), (',', '.'), ('this', 'DET'), ('reuters', 'NOUN'), ('considerable', 'ADJ'), ('*t*-2', 'X'), ('8.07', 'NUM'), ('is', 'VERB'), ('mcdermott', 'NOUN'), ('.', '.'), ('as', 'ADP'), ('consideration', 'NOUN'), ('our', 'PRON'), ('a', 'DET'), ('research', 'NOUN'), ('to', 'PRT'), ('in', 'ADP'), ('president', 'NOUN'), ('contract', 'NOUN'), ('march', 'NOUN'), (',', '.'), ('lives', 'NOUN'), ('side', 'NOUN'), ('.', '.'), ('by', 'ADP'), ('the', 'DET'), ('a', 'DET'), ('13.8', 'NUM'), ('.', '.'), (',', '.'), ('bank', 'NOUN'), ('tribe', 'NOUN'), (',', '.'), ('since', 'ADP'), ('*t*-2', 'X'), ('in', 'ADP'), ('which', 'DET'), ('they', 'PRON'), (\"''\", '.'), ('a', 'DET'), ('*-1', 'X'), ('tower', 'NOUN'), ('the', 'DET'), ('has', 'VERB'), ('combined', 'VERB'), ('these', 'DET'), ('rash', 'NOUN'), ('to', 'PRT'), ('*-2', 'X'), ('43', 'NUM'), ('earnings', 'NOUN'), ('maker', 'NOUN'), ('the', 'DET'), ('according', 'VERB'), ('a', 'DET'), ('for', 'ADP'), ('.', '.'), ('megabytes', 'VERB'), ('called', 'VERB'), ('the', 'DET'), ('and', 'CONJ'), ('*t*-77', 'NOUN'), ('homelessness', 'NOUN'), ('mrs.', 'NOUN'), ('waiver', 'NOUN'), ('some', 'DET'), ('continue', 'VERB'), ('interest', 'NOUN'), ('prove', 'VERB'), ('meeting', 'NOUN'), ('the', 'DET'), ('denouncing', 'VERB'), ('*-1', 'X'), ('a', 'DET'), ('ceiling', 'NOUN'), ('be', 'VERB'), ('62%-owned', 'ADJ'), ('if', 'ADP'), ('all', 'DET'), ('discussions', 'NOUN'), ('of', 'ADP'), ('valuation', 'NOUN'), ('*-3', 'X'), ('real-estate', 'NOUN'), (',', '.'), ('as', 'ADP'), ('become', 'VERB'), ('of', 'ADP'), ('a', 'DET'), ('securities', 'NOUN'), ('requirements', 'NOUN'), ('*', 'X'), ('under', 'ADP'), ('*', 'X'), ('in', 'ADP'), ('pleased', 'VERB'), ('individual', 'ADJ'), ('u.s.', 'NOUN'), (\"''\", '.'), ('``', '.'), ('0', 'X'), ('an', 'DET'), ('0', 'X'), ('concerns', 'NOUN'), ('.', '.'), ('hard', 'ADJ'), (\"''\", '.'), ('*t*-1', 'X'), ('2019', 'NUM'), ('the', 'DET'), ('get', 'VERB'), ('executives', 'NOUN'), ('cutting', 'VERB'), ('the', 'DET'), ('%', 'NOUN'), ('treasury', 'NOUN'), ('capital', 'NOUN'), ('by', 'ADP'), ('markets', 'NOUN'), ('of', 'ADP'), ('iii', 'NOUN'), ('500', 'NUM'), ('to', 'PRT'), ('j.l.', 'NOUN'), ('said', 'VERB'), ('sports', 'NOUN'), ('first', 'ADJ'), ('say', 'VERB'), ('a', 'DET'), ('of', 'ADP'), ('proposing', 'VERB'), ('own', 'ADJ'), ('days', 'NOUN'), ('crunch', 'NOUN'), ('.', '.'), ('in', 'ADP'), ('would', 'VERB'), ('*-61', 'X'), ('4.4', 'NUM'), ('year', 'NOUN'), ('the', 'DET'), ('out', 'PRT'), ('*t*-1', 'X'), ('england', 'NOUN'), ('rising', 'VERB'), ('way', 'NOUN'), ('upjohn', 'NOUN'), (',', '.'), ('that', 'ADP'), ('demand', 'NOUN'), ('the', 'DET'), ('in', 'ADP'), ('swallow', 'NOUN'), (',', '.'), ('current-carrying', 'ADJ'), ('the', 'DET'), ('that', 'ADP'), (',', '.'), ('98.3', 'NUM'), ('says', 'VERB'), ('were', 'VERB'), (',', '.'), ('on', 'ADP'), ('make', 'VERB'), ('.', '.'), ('opposition', 'NOUN'), ('more', 'ADJ'), ('cast-iron', 'ADJ'), ('long', 'ADJ'), ('found', 'VERB'), ('.', '.'), ('tuesday', 'NOUN'), ('``', '.'), ('of', 'ADP'), ('of', 'ADP'), ('new', 'ADJ'), ('said', 'VERB'), ('say', 'VERB'), ('that', 'ADP'), ('swiftly', 'ADV'), ('thrift', 'NOUN'), ('mae', 'NOUN'), ('full', 'ADJ'), ('here', 'ADV'), ('about', 'ADP'), ('as', 'ADP'), ('print', 'VERB'), ('139', 'NUM'), ('morning', 'NOUN'), ('to', 'PRT'), ('wafa', 'NOUN'), (\"'s\", 'PRT'), ('dexterity', 'NOUN'), ('a', 'DET'), ('from', 'ADP'), ('the', 'DET'), ('compared', 'VERB'), ('$', '.'), ('its', 'PRON'), ('professional', 'ADJ'), ('compromise', 'NOUN'), ('formed', 'VERB'), ('.', '.'), ('health', 'NOUN'), ('``', '.'), ('farmers', 'NOUN'), ('pay', 'VERB'), ('insurance-company', 'ADJ'), (',', '.'), ('builders', 'NOUN'), ('*', 'X'), ('billion', 'NUM'), ('france', 'NOUN'), ('critics', 'NOUN'), ('*', 'X'), ('view', 'NOUN'), ('through', 'ADP'), ('these', 'DET'), ('duties', 'NOUN'), ('the', 'DET'), ('evidence', 'NOUN'), ('international', 'NOUN'), ('assets', 'NOUN'), (',', '.'), (',', '.'), ('a', 'DET'), ('%', 'NOUN'), ('how', 'ADV'), ('*', 'X'), ('common', 'ADJ'), ('to', 'PRT'), ('a', 'DET'), ('*-2', 'X'), ('income', 'NOUN'), ('chief', 'NOUN'), ('in', 'ADP'), ('to', 'PRT'), ('skin', 'NOUN'), ('of', 'ADP'), ('the', 'DET'), ('for', 'ADP'), ('an', 'DET'), ('net', 'ADJ'), ('to', 'PRT'), ('*u*', 'X'), (',', '.'), ('veto', 'NOUN'), ('italian', 'ADJ'), ('yellow', 'NOUN'), ('*-1', 'X'), ('for', 'ADP'), ('father-in-law', 'ADJ'), ('450', 'NUM'), ('initiative', 'NOUN'), ('rose', 'VERB'), ('negus', 'NOUN'), ('to', 'PRT'), ('account', 'NOUN'), ('funds', 'NOUN'), ('very', 'ADV'), ('rate', 'NOUN'), ('six-bottle', 'ADJ'), ('one', 'NUM'), (',', '.'), ('systems', 'NOUN'), ('size', 'NOUN'), ('both', 'DET'), ('of', 'ADP'), ('0', 'X'), ('quips', 'NOUN'), ('it', 'PRON'), (',', '.'), ('fully', 'ADV'), ('softening', 'VERB'), ('are', 'VERB'), ('before', 'ADP'), (',', '.'), ('a', 'DET'), ('big', 'ADJ'), ('the', 'DET'), ('net', 'ADJ'), ('railcars', 'NOUN'), ('burnham', 'NOUN'), ('an', 'DET'), ('.', '.'), ('$', '.'), ('not', 'ADV'), ('$', '.'), ('and', 'CONJ'), ('and', 'CONJ'), ('*t*-127', 'NOUN'), ('said', 'VERB'), (\"'s\", 'PRT'), ('automobile', 'NOUN'), ('*-1', 'X'), ('71', 'NUM'), ('for', 'ADP'), ('said', 'VERB'), ('markets', 'NOUN'), ('continued', 'VERB'), ('and', 'CONJ'), ('0', 'X'), ('market', 'NOUN'), ('posing', 'VERB'), ('900', 'NUM'), ('in', 'ADP'), ('a', 'DET'), ('japan', 'NOUN'), ('a', 'DET'), ('monthly', 'ADJ'), ('*t*-1', 'X'), ('highly', 'ADV'), ('make', 'VERB'), ('400', 'NUM'), ('*', 'X'), (',', '.'), ('only', 'ADV'), ('their', 'PRON'), ('holds', 'VERB'), ('should', 'VERB'), ('however', 'ADV'), ('third-quarter', 'NOUN'), ('would', 'VERB'), ('are', 'VERB'), ('key', 'ADJ'), ('year', 'NOUN'), ('cab', 'NOUN'), ('prizes', 'NOUN'), ('this', 'DET'), ('yeargin', 'NOUN'), ('by', 'ADP'), ('this', 'DET'), ('debt', 'NOUN'), ('to', 'PRT'), ('nederlanden', 'NOUN'), ('of', 'ADP'), ('*-2', 'X'), ('.', '.'), ('held', 'VERB'), ('be', 'VERB'), ('2.07', 'NUM'), ('pardus', 'NOUN'), ('magazine', 'NOUN'), ('begin', 'VERB'), ('caused', 'VERB'), ('$', '.'), ('while', 'ADP'), ('is', 'VERB'), ('from', 'ADP'), ('for', 'ADP'), ('marching', 'VERB'), ('photographs', 'NOUN'), ('losing', 'VERB'), ('by', 'ADP'), ('mental', 'ADJ'), ('treasury', 'NOUN'), ('*', 'X'), ('on', 'ADP'), ('had', 'VERB'), ('plants', 'NOUN'), ('we', 'PRON'), ('the', 'DET'), ('the', 'DET'), ('craze', 'NOUN'), (',', '.'), ('at', 'ADP'), ('stock', 'NOUN'), ('trade', 'NOUN'), ('0.0085', 'NUM'), ('inspirational', 'ADJ'), ('high', 'ADJ'), ('mr.', 'NOUN'), ('chase', 'NOUN'), (',', '.'), (',', '.'), ('nation', 'NOUN'), (\"'\", 'PRT'), ('hours', 'NOUN'), ('can', 'VERB'), ('its', 'PRON'), (',', '.'), ('.', '.'), ('not', 'ADV'), ('*-4', 'X'), ('which', 'DET'), ('market', 'NOUN'), ('have', 'VERB'), ('than', 'ADP'), ('their', 'PRON'), ('had', 'VERB'), ('say', 'VERB'), ('their', 'PRON'), ('aware', 'ADJ'), ('paying', 'VERB'), ('bell', 'NOUN'), ('quite', 'ADV'), (\"'s\", 'PRT'), ('.', '.'), ('*-2', 'X'), ('commitment', 'NOUN'), ('involving', 'VERB'), ('who', 'PRON'), ('ended', 'VERB'), ('was', 'VERB'), ('excess', 'ADJ'), ('nationwide', 'ADJ'), ('of', 'ADP'), ('programs', 'NOUN'), ('proposal', 'NOUN'), ('1', 'NUM'), ('effective', 'ADJ'), (',', '.'), ('had', 'VERB'), ('.', '.'), ('were', 'VERB'), ('which', 'DET'), ('of', 'ADP'), ('397', 'NUM'), ('57.50', 'NUM'), ('0', 'X'), ('*-1', 'X'), ('exchange', 'NOUN'), ('for', 'ADP'), ('license', 'VERB'), (',', '.'), ('father', 'NOUN'), ('to', 'PRT'), ('for', 'ADP'), ('bells', 'NOUN'), ('expected', 'VERB'), ('a', 'DET'), ('$', '.'), ('safe-deposit', 'ADJ'), ('263.07', 'NUM'), ('vs.', 'CONJ'), (',', '.'), ('one', 'NUM'), ('the', 'DET'), ('bottom', 'NOUN'), ('months', 'NOUN'), ('pickens', 'NOUN'), ('apparently', 'ADV'), ('would', 'VERB'), ('stores', 'NOUN'), ('kent', 'NOUN'), ('.', '.'), ('rather', 'ADV'), ('*', 'X'), ('the', 'DET'), ('sending', 'VERB'), ('to', 'PRT'), ('however', 'ADV'), ('raised', 'VERB'), ('.', '.'), ('he', 'PRON'), ('applications', 'NOUN'), ('over', 'ADP'), ('it', 'PRON'), ('-lrb-', '.'), ('state', 'NOUN'), ('returns', 'NOUN'), (',', '.'), ('many', 'ADJ'), ('up', 'PRT'), ('*u*', 'X'), ('according', 'VERB'), ('that', 'ADP'), ('may', 'VERB'), ('undergoing', 'VERB'), (\"'s\", 'PRT'), ('demand', 'NOUN'), ('in', 'ADP'), ('*-88', 'NOUN'), ('england', 'NOUN'), ('*-1', 'X'), ('impression', 'NOUN'), ('supply', 'NOUN'), ('the', 'DET'), ('as', 'ADP'), (',', '.'), ('michael', 'NOUN'), ('but', 'CONJ'), ('later', 'ADJ'), ('i', 'PRON'), ('mcgovern', 'NOUN'), ('commission', 'NOUN'), ('is', 'VERB'), ('increase', 'NOUN'), ('the', 'DET'), ('that', 'ADP'), ('0', 'X'), ('than', 'ADP'), ('0', 'X'), ('exxon', 'NOUN'), ('course', 'NOUN'), ('plants', 'NOUN'), ('del', 'NOUN'), ('pay', 'VERB'), (',', '.'), ('oct.', 'NOUN'), (',', '.'), ('blood', 'NOUN'), ('but', 'CONJ'), ('5\\\\/8', 'NUM'), ('hosted', 'VERB'), (',', '.'), ('william', 'NOUN'), ('were', 'VERB'), (',', '.'), ('0', 'X'), ('appeals', 'NOUN'), ('april', 'NOUN'), ('even', 'ADV'), ('to', 'PRT'), ('part', 'NOUN'), ('of', 'ADP'), ('roland', 'NOUN'), ('.', '.'), ('preston', 'NOUN'), ('partner', 'NOUN'), ('health', 'NOUN'), ('of', 'ADP'), ('jr.', 'NOUN'), ('44', 'NUM'), ('medical', 'ADJ'), (',', '.'), ('one-third', 'NOUN'), ('1\\\\/4', 'NUM'), ('such', 'ADJ'), ('the', 'DET'), ('crop', 'NOUN'), ('client', 'NOUN'), ('that', 'ADP'), ('wilder', 'NOUN'), ('mr.', 'NOUN'), ('the', 'DET'), (':', '.'), ('peals', 'NOUN'), ('different', 'ADJ'), ('avert', 'NOUN'), (\"'s\", 'PRT'), ('in', 'ADP'), ('u.s.', 'NOUN'), ('a', 'DET'), ('district', 'NOUN'), (\"''\", '.'), ('.', '.'), (\"''\", '.'), ('of', 'ADP'), ('medium-sized', 'ADJ'), ('other', 'ADJ'), ('billion', 'NUM'), ('asia', 'NOUN'), ('that', 'ADP'), (',', '.'), ('grace', 'NOUN'), ('*-2', 'X'), ('expected', 'VERB'), ('fairly', 'ADV'), ('it', 'PRON'), ('from', 'ADP'), ('has', 'VERB'), ('international', 'NOUN'), ('wolf', 'NOUN'), (\"''\", '.'), ('*u*', 'X'), ('of', 'ADP'), ('they', 'PRON'), ('a', 'DET'), ('his', 'PRON'), ('in', 'ADP'), ('.', '.'), ('it', 'PRON'), ('for', 'ADP'), ('this', 'DET'), ('long-term', 'ADJ'), ('.', '.'), ('there', 'DET'), ('are', 'VERB'), ('officers', 'NOUN'), ('classics', 'NOUN'), (\"''\", '.'), ('for', 'ADP'), ('to', 'PRT'), ('problems', 'NOUN'), ('chemicals', 'NOUN'), ('a', 'DET'), ('is', 'VERB'), (',', '.'), ('himself', 'PRON'), ('.', '.'), ('the', 'DET'), ('slow', 'VERB'), ('.', '.'), ('long', 'ADJ'), ('only', 'ADV'), ('as', 'ADP'), ('the', 'DET'), ('of', 'ADP'), ('near', 'ADP'), (',', '.'), ('protest', 'NOUN'), (',', '.'), ('shares', 'NOUN'), ('lewis', 'NOUN'), ('and', 'CONJ'), ('market', 'NOUN'), ('*-2', 'X'), ('voters', 'NOUN'), ('forced', 'VERB'), ('*t*-117', 'NOUN'), ('make', 'VERB'), ('``', '.'), ('quarterly', 'ADJ'), (',', '.'), ('investment', 'NOUN'), ('on', 'ADP'), ('strong', 'ADJ'), ('than', 'ADP'), ('mixed', 'VERB'), ('if', 'ADP'), ('%', 'NOUN'), (',', '.'), ('grace', 'NOUN'), ('putting', 'VERB'), ('.', '.'), ('company', 'NOUN'), ('said', 'VERB'), ('*t*-1', 'X'), ('calder', 'NOUN'), ('the', 'DET'), ('swings', 'NOUN'), ('its', 'PRON'), (',', '.'), ('buyer', 'NOUN'), ('*t*-1', 'X'), ('gyrate', 'NOUN'), ('cases', 'NOUN'), ('0', 'X'), ('it', 'PRON'), ('as', 'ADP'), ('losses', 'NOUN'), ('a', 'DET'), ('construction', 'NOUN'), ('?', '.'), ('47.125', 'NUM'), ('in', 'ADP'), ('*t*-1', 'X'), ('court', 'NOUN'), ('service', 'NOUN'), ('can', 'VERB'), ('both', 'DET'), ('offset', 'VERB'), ('print', 'VERB'), ('*', 'X'), ('publishing', 'NOUN'), ('1990', 'NUM'), ('development', 'NOUN'), ('is', 'VERB'), ('most', 'ADJ'), ('could', 'VERB'), ('holding', 'VERB'), ('with', 'ADP'), ('standard', 'NOUN'), ('disputes', 'NOUN'), ('york', 'NOUN'), (\"'s\", 'PRT'), ('.', '.'), ('and', 'CONJ'), ('serial', 'NOUN'), ('been', 'VERB'), ('in', 'ADP'), ('via', 'ADP'), ('an', 'DET'), ('``', '.'), (\"n't\", 'ADV'), ('investor', 'NOUN'), ('magazine', 'NOUN'), ('market', 'NOUN'), (',', '.'), ('at', 'ADP'), ('a', 'DET'), ('``', '.'), ('spending', 'NOUN'), (',', '.'), ('the', 'DET'), ('traders', 'NOUN'), ('circle', 'NOUN'), (',', '.'), ('coming', 'VERB'), ('the', 'DET'), ('proposed', 'VERB'), ('businessman', 'NOUN'), ('the', 'DET'), ('the', 'DET'), ('money-center', 'ADJ'), ('trade', 'NOUN'), (',', '.'), ('real', 'ADJ'), ('$', '.'), ('dollars', 'NOUN'), ('can', 'VERB'), (',', '.'), ('earnings', 'NOUN'), ('the', 'DET'), ('daily', 'ADJ'), ('health', 'NOUN'), ('adviser', 'NOUN'), ('moderate', 'ADJ'), ('stock', 'NOUN'), ('around', 'ADP'), ('the', 'DET'), ('a', 'DET'), ('he', 'PRON'), ('million', 'NUM'), ('believe', 'VERB'), ('merely', 'ADV'), ('.', '.'), (',', '.'), ('regions', 'NOUN'), ('reuters', 'NOUN'), ('testing', 'NOUN'), ('own', 'ADJ'), ('billion', 'NUM'), ('.', '.'), ('bilateral', 'ADJ'), ('risk', 'NOUN'), ('3.5', 'NUM'), ('an', 'DET'), ('a', 'DET'), ('or', 'CONJ'), (\"'s\", 'PRT'), ('to', 'PRT'), ('marks', 'NOUN'), (\"'s\", 'PRT'), ('own', 'ADJ'), ('sales', 'NOUN'), ('called', 'VERB'), ('control', 'NOUN'), ('of', 'ADP'), (',', '.'), ('of', 'ADP'), ('its', 'PRON'), ('to', 'PRT'), ('the', 'DET'), ('the', 'DET'), ('potential', 'ADJ'), ('in', 'ADP'), ('900', 'NUM'), ('the', 'DET'), ('.', '.'), ('-rrb-', '.'), ('stocks', 'NOUN'), (',', '.'), ('the', 'DET'), ('traders', 'NOUN'), ('inquiry', 'NOUN'), ('*', 'X'), ('my', 'PRON'), ('500', 'NUM'), ('continue', 'VERB'), (',', '.'), ('old', 'ADJ'), ('turn', 'VERB'), ('mitsubishi', 'NOUN'), ('securities', 'NOUN'), ('sacrifice', 'NOUN'), ('thrift', 'NOUN'), ('baum', 'NOUN'), ('in', 'ADP'), ('together', 'ADV'), ('trading', 'NOUN'), (\"''\", '.'), ('supply', 'NOUN'), ('england', 'NOUN'), ('--', '.'), ('co.', 'NOUN'), ('many', 'ADJ'), ('i', 'PRON'), ('$', '.'), ('*t*-1', 'X'), ('of', 'ADP'), ('high', 'ADJ'), ('.', '.'), ('spending', 'NOUN'), ('of', 'ADP'), (';', '.'), ('anything', 'NOUN'), ('.', '.'), ('.', '.'), ('as', 'ADP'), ('expense', 'NOUN'), ('oy', 'NOUN'), ('here', 'ADV'), ('and', 'CONJ'), ('fellow', 'ADJ'), ('he', 'PRON'), ('time', 'NOUN'), ('business', 'NOUN'), ('functioning', 'VERB'), ('losses', 'NOUN'), ('*-1', 'X'), ('wine', 'NOUN'), ('3', 'NUM'), ('.', '.'), ('first', 'ADJ'), ('continue', 'VERB'), ('elsevier', 'NOUN'), ('%', 'NOUN'), ('some', 'DET'), ('months', 'NOUN'), ('was', 'VERB'), ('from', 'ADP'), ('a', 'DET'), ('1,400', 'NOUN'), ('payments', 'NOUN'), ('might', 'VERB'), ('of', 'ADP'), ('*ich*-1', 'X'), ('stake', 'NOUN'), ('the', 'DET'), ('.', '.'), ('assets', 'NOUN'), ('to', 'PRT'), (',', '.'), ('from', 'ADP'), ('began', 'VERB'), ('finance', 'NOUN'), ('and', 'CONJ'), ('9', 'NUM'), ('the', 'DET'), ('*t*-1', 'X'), ('0', 'X'), ('at', 'ADP'), ('industry', 'NOUN'), ('and', 'CONJ'), ('probably', 'ADV'), ('.', '.'), ('widely', 'ADV'), ('which', 'DET'), ('.', '.'), ('and', 'CONJ'), ('say', 'VERB'), ('who', 'PRON'), ('television', 'NOUN'), ('new', 'ADJ'), ('20', 'NUM'), ('a', 'DET'), ('.', '.'), (',', '.'), ('%', 'NOUN'), ('*t*-1', 'X'), ('year', 'NOUN'), ('*', 'X'), (',', '.'), ('maker', 'NOUN'), ('15', 'NUM'), ('has', 'VERB'), (\"'re\", 'VERB'), ('referring', 'VERB'), ('sen.', 'NOUN'), ('week', 'NOUN'), ('twin', 'NOUN'), ('*ich*-1', 'X'), ('by', 'ADP'), ('as', 'ADP'), ('education', 'NOUN'), ('workers', 'NOUN'), ('*-1', 'X'), ('rewarding', 'VERB'), ('japanese', 'ADJ'), ('once', 'ADV'), ('earlier', 'ADJ'), ('$', '.'), ('at', 'ADP'), ('been', 'VERB'), ('%', 'NOUN'), ('the', 'DET'), ('and', 'CONJ'), ('currently', 'ADV'), ('than', 'ADP'), ('ward', 'NOUN'), ('election', 'NOUN'), ('company', 'NOUN'), ('antitrust', 'ADJ'), ('0', 'X'), ('german', 'ADJ'), ('acres', 'NOUN'), ('*u*', 'X'), ('.', '.'), ('.', '.'), ('despite', 'ADP'), ('alan', 'NOUN'), ('prices', 'NOUN'), ('a', 'DET'), ('same', 'ADJ'), ('insurance', 'NOUN'), ('150,000', 'NOUN'), ('*u*', 'X'), ('program', 'NOUN'), ('integration', 'NOUN'), ('the', 'DET'), ('new', 'ADJ'), ('at', 'ADP'), (',', '.'), ('it', 'PRON'), ('research', 'NOUN'), (',', '.'), ('romance', 'NOUN'), ('*t*-2', 'X'), ('a', 'DET'), ('in', 'ADP'), ('65', 'NUM'), ('like', 'ADP'), ('she', 'PRON'), ('the', 'DET'), ('takes', 'VERB'), ('million', 'NUM'), ('neighbors', 'NOUN'), ('shares', 'NOUN'), ('consulting', 'NOUN'), ('--', '.'), ('state', 'NOUN'), ('because', 'ADP'), ('questions', 'NOUN'), ('or', 'CONJ'), ('i', 'PRON'), ('50', 'NUM'), ('*t*-1', 'X'), ('is', 'VERB'), (',', '.'), ('*-1', 'X'), (',', '.'), ('hahn', 'NOUN'), ('street', 'NOUN'), ('very', 'ADV'), ('take', 'VERB'), ('often', 'ADV'), ('prime', 'NOUN'), ('year', 'NOUN'), ('*u*', 'X'), ('thursday', 'NOUN'), ('newspaper', 'NOUN'), ('useful', 'ADJ'), ('effect', 'NOUN'), ('funds', 'NOUN'), ('data', 'NOUN'), ('31', 'NUM'), ('trades', 'NOUN'), (',', '.'), ('up', 'PRT'), ('long', 'ADJ'), ('a', 'DET'), ('a', 'DET'), ('.', '.'), ('does', 'VERB'), (',', '.')]\n"
     ]
    }
   ],
   "source": [
    "print(\"Time taken in seconds: \", difference_3)\n",
    "print(tagged_seq_3)"
   ]
  },
  {
   "cell_type": "code",
   "execution_count": 98,
   "metadata": {},
   "outputs": [],
   "source": [
    "# creating a list of word-tag pairs that have been tagged correctly \n",
    "\n",
    "correctly_tagged_pairs_3 = [i for i, j in zip(tagged_seq_3, zip(validation_words, validation_tags)) if i == j]"
   ]
  },
  {
   "cell_type": "code",
   "execution_count": 99,
   "metadata": {},
   "outputs": [
    {
     "data": {
      "text/plain": [
       "0.9429876837504966"
      ]
     },
     "execution_count": 99,
     "metadata": {},
     "output_type": "execute_result"
    }
   ],
   "source": [
    "#Checking the percentage of words that were tagged correctly\n",
    "\n",
    "accuracy_3 = len(correctly_tagged_pairs_3)/len(tagged_seq_3)\n",
    "accuracy_3"
   ]
  },
  {
   "cell_type": "code",
   "execution_count": 100,
   "metadata": {},
   "outputs": [
    {
     "data": {
      "text/plain": [
       "80"
      ]
     },
     "execution_count": 100,
     "metadata": {},
     "output_type": "execute_result"
    }
   ],
   "source": [
    "#Triggering garbage collection\n",
    "gc.collect()"
   ]
  },
  {
   "cell_type": "markdown",
   "metadata": {},
   "source": [
    "### 4. Dealing with unknown words by considering only the transition probabilities for unknown words"
   ]
  },
  {
   "cell_type": "code",
   "execution_count": 101,
   "metadata": {},
   "outputs": [],
   "source": [
    "# Using the Viterbi heuristic and ignoring the emission probability for words that are not in the train set\n",
    "\n",
    "def Viterbi_4(words):\n",
    "    #initialising a list to store the tag with the max state probability for each word\n",
    "    tags_list = []\n",
    "    \n",
    "    for key, word in enumerate(words):\n",
    "        \n",
    "        #initialising a list to calculate state probability for all tags for each word\n",
    "        prob_list = []\n",
    "\n",
    "        for tag in POS_tags:\n",
    "            if key == 0:\n",
    "                transition_p = tags_df.loc['.', tag]\n",
    "            else:\n",
    "                transition_p = tags_df.loc[tags_list[-1], tag]\n",
    "\n",
    "            # checking if the current word exists in the vocabulary\n",
    "            if (word in Vocab):\n",
    "                # calculating the emission probability and state probabiliy for the current word and tag\n",
    "                emission_p = word_given_tag(words[key], tag)[0]/word_given_tag(words[key], tag)[1]\n",
    "                state_probability = emission_p * transition_p\n",
    "            else:\n",
    "                # setting the transition probability as state probability since the emission prob will be zero for a word\n",
    "                # that's not in the vocabulary\n",
    "                state_probability = transition_p\n",
    "            \n",
    "            # appending state probability to list of state probabilities for current word and tag\n",
    "            prob_list.append(state_probability)\n",
    "\n",
    "        # finding the max state probability for this word\n",
    "        prob_max = max(prob_list)\n",
    "\n",
    "        # getting the tag with the max state probability for this word\n",
    "        tag_with_max_state_prob = POS_tags[prob_list.index(prob_max)]\n",
    "        tags_list.append(tag_with_max_state_prob)\n",
    "        \n",
    "    return list(zip(words, tags_list))"
   ]
  },
  {
   "cell_type": "markdown",
   "metadata": {},
   "source": [
    "#### Using this modified alogrithm to tag the words in the validation set"
   ]
  },
  {
   "cell_type": "code",
   "execution_count": 102,
   "metadata": {},
   "outputs": [],
   "source": [
    "# tagging the test sentences\n",
    "start_4 = time.time()\n",
    "tagged_seq_4 = Viterbi_4(validation_words)\n",
    "end_4 = time.time()\n",
    "difference_4 = end_4 - start_4"
   ]
  },
  {
   "cell_type": "code",
   "execution_count": 103,
   "metadata": {},
   "outputs": [
    {
     "name": "stdout",
     "output_type": "stream",
     "text": [
      "Time taken in seconds:  1466.207983493805\n",
      "[('61', 'NUM'), ('noodles', 'NOUN'), ('tokyo', 'NOUN'), ('the', 'DET'), ('buy', 'VERB'), ('beginning', 'VERB'), ('of', 'ADP'), ('circulation', 'NOUN'), ('bill', 'NOUN'), ('account', 'NOUN'), ('of', 'ADP'), ('``', '.'), ('a', 'DET'), ('*-2', 'X'), ('persuasive', 'NOUN'), ('*', 'X'), ('traders', 'NOUN'), ('over', 'ADP'), ('a', 'DET'), ('a', 'DET'), ('*-1', 'X'), ('there', 'DET'), ('miami', 'NOUN'), (',', '.'), ('hefty', 'ADJ'), (\"'s\", 'PRT'), ('be', 'VERB'), ('noting', 'VERB'), ('1990', 'NUM'), ('stores', 'NOUN'), ('of', 'ADP'), ('*t*-133', 'NOUN'), ('estimated', 'VERB'), ('company', 'NOUN'), ('of', 'ADP'), ('talks', 'NOUN'), ('4.6', 'NUM'), ('japanese', 'ADJ'), ('due', 'ADJ'), ('*rnr*-1', 'X'), ('comment', 'NOUN'), ('a.l.', 'NOUN'), ('of', 'ADP'), (',', '.'), ('.', '.'), ('the', 'DET'), ('concern', 'NOUN'), ('of', 'ADP'), ('they', 'PRON'), ('of', 'ADP'), ('reached', 'VERB'), ('april', 'NOUN'), ('helped', 'VERB'), ('exact', 'ADJ'), ('form', 'NOUN'), ('his', 'PRON'), ('would', 'VERB'), (',', '.'), ('major', 'ADJ'), ('markdown', 'NOUN'), ('3648.82', 'NOUN'), ('construction', 'NOUN'), ('to', 'PRT'), (',', '.'), ('said', 'VERB'), (',', '.'), (',', '.'), ('was', 'VERB'), ('case', 'NOUN'), ('*-1', 'X'), ('differences', 'NOUN'), ('the', 'DET'), (',', '.'), ('wanted', 'VERB'), ('things', 'NOUN'), ('sharply', 'ADV'), ('financier', 'NOUN'), ('and', 'CONJ'), ('in', 'ADP'), ('are', 'VERB'), ('.', '.'), (\"'s\", 'PRT'), ('in', 'ADP'), ('advantage', 'NOUN'), ('place', 'NOUN'), ('0', 'X'), ('milk', 'NOUN'), ('wayne', 'NOUN'), ('million', 'NUM'), ('evaluated', 'NOUN'), ('onto', 'ADP'), ('altruistic', 'NOUN'), ('quarterly', 'ADJ'), ('the', 'DET'), ('inc.', 'NOUN'), ('how', 'ADV'), ('million', 'NUM'), ('a', 'DET'), ('*-2', 'X'), ('100-share', 'ADJ'), ('charles', 'NOUN'), ('.', '.'), ('to', 'PRT'), ('chief', 'NOUN'), ('posting', 'VERB'), ('in', 'ADP'), ('in', 'ADP'), ('the', 'DET'), ('10.5', 'NOUN'), ('is', 'VERB'), ('the', 'DET'), ('dollars', 'NOUN'), ('portrayed', 'NOUN'), ('*-1', 'X'), ('of', 'ADP'), ('ill.', 'NOUN'), ('to', 'PRT'), ('at', 'ADP'), ('chief', 'NOUN'), (',', '.'), ('*t*-2', 'X'), ('inside', 'NOUN'), ('offering', 'NOUN'), ('customers', 'NOUN'), ('impact', 'NOUN'), ('refused', 'VERB'), ('was', 'VERB'), ('*t*-93', 'NOUN'), ('of', 'ADP'), ('and', 'CONJ'), ('and', 'CONJ'), ('even', 'ADV'), ('more', 'ADJ'), ('and', 'CONJ'), ('the', 'DET'), ('n.j.', 'NOUN'), ('than', 'ADP'), ('government', 'NOUN'), ('lights', 'NOUN'), ('aid', 'NOUN'), ('would', 'VERB'), ('.', '.'), ('shares', 'NOUN'), ('*t*-161', 'NOUN'), ('announced', 'VERB'), ('of', 'ADP'), ('give', 'VERB'), ('consecutive', 'ADJ'), ('factors', 'NOUN'), ('in', 'ADP'), ('planes', 'NOUN'), ('be', 'VERB'), (',', '.'), ('haul', 'NOUN'), ('individual', 'ADJ'), ('the', 'DET'), ('and', 'CONJ'), ('valley', 'NOUN'), ('eveready', 'NOUN'), ('*', 'X'), ('also', 'ADV'), ('whiting', 'NOUN'), ('at&t', 'NOUN'), ('acted', 'NOUN'), ('``', '.'), ('0', 'X'), (';', '.'), ('.', '.'), ('0', 'X'), ('operations', 'NOUN'), ('it', 'PRON'), ('for', 'ADP'), ('influence', 'NOUN'), ('was', 'VERB'), ('disregard', 'NOUN'), ('himself', 'PRON'), ('-lrb-', '.'), ('the', 'DET'), ('sharply', 'ADV'), ('case', 'NOUN'), ('the', 'DET'), ('up', 'PRT'), ('radio', 'NOUN'), ('and', 'CONJ'), ('value', 'NOUN'), ('filters', 'NOUN'), ('at', 'ADP'), ('.', '.'), ('a', 'DET'), ('do', 'VERB'), ('department', 'NOUN'), ('referrals', 'NOUN'), ('the', 'DET'), ('watchdogs', 'NOUN'), ('then-speaker', 'NOUN'), ('get', 'VERB'), ('and', 'CONJ'), ('up', 'PRT'), ('term', 'NOUN'), ('deficit', 'NOUN'), ('it', 'PRON'), ('tell', 'NOUN'), ('managers', 'NOUN'), ('farmers', 'NOUN'), ('heavily', 'ADV'), ('justices', 'NOUN'), ('educational', 'ADJ'), ('sale', 'NOUN'), ('sue', 'NOUN'), ('its', 'PRON'), (',', '.'), ('members', 'NOUN'), ('to', 'PRT'), ('lot', 'NOUN'), ('annual', 'ADJ'), ('further', 'ADJ'), ('markets', 'NOUN'), ('*-1', 'X'), ('evidence', 'NOUN'), ('gulf', 'NOUN'), ('an', 'DET'), ('of', 'ADP'), ('card', 'NOUN'), ('.', '.'), ('schoolchildren', 'NOUN'), ('a', 'DET'), ('the', 'DET'), ('to', 'PRT'), ('on', 'ADP'), ('would', 'VERB'), ('of', 'ADP'), (',', '.'), ('global', 'ADJ'), ('*-2', 'X'), ('as', 'ADP'), ('christmas', 'NOUN'), ('stressing', 'VERB'), ('it', 'PRON'), ('careers', 'NOUN'), ('experience', 'NOUN'), ('club', 'NOUN'), ('.', '.'), ('while', 'ADP'), ('the', 'DET'), (',', '.'), ('shops', 'NOUN'), ('if', 'ADP'), ('problems', 'NOUN'), ('*t*-1', 'X'), ('few', 'ADJ'), ('the', 'DET'), ('percentage', 'NOUN'), ('.', '.'), ('the', 'DET'), ('lieberman', 'NOUN'), ('continue', 'VERB'), ('initiating', 'NOUN'), ('0', 'X'), ('light', 'ADJ'), ('a', 'DET'), ('familiar', 'ADJ'), ('investors', 'NOUN'), ('of', 'ADP'), ('be', 'VERB'), (',', '.'), ('.', '.'), (',', '.'), (\"'s\", 'PRT'), ('the', 'DET'), ('oshkosh', 'NOUN'), ('concerns', 'NOUN'), ('with', 'ADP'), ('miles', 'NOUN'), ('%', 'NOUN'), ('*t*-2', 'X'), ('with', 'ADP'), ('management', 'NOUN'), ('before', 'ADP'), ('example', 'NOUN'), ('make', 'VERB'), ('8.48', 'NOUN'), ('interesting', 'ADJ'), ('different', 'ADJ'), ('of', 'ADP'), ('exit', 'NOUN'), ('0', 'X'), ('bush', 'NOUN'), (',', '.'), ('.', '.'), ('he', 'PRON'), ('50-50', 'NOUN'), ('losses', 'NOUN'), ('gave', 'VERB'), ('fifteen', 'NOUN'), ('-rrb-', '.'), ('river', 'NOUN'), ('*t*-165', 'NOUN'), ('district', 'NOUN'), ('as', 'ADP'), ('goes', 'VERB'), ('billion', 'NUM'), ('sales', 'NOUN'), (',', '.'), ('bidding', 'NOUN'), ('other', 'ADJ'), ('.', '.'), ('decrease', 'VERB'), ('shares', 'NOUN'), ('match', 'NOUN'), ('to', 'PRT'), ('due', 'ADJ'), ('software', 'NOUN'), (',', '.'), ('year', 'NOUN'), ('rose', 'VERB'), ('been', 'VERB'), ('*t*-2', 'X'), ('wage', 'NOUN'), ('at', 'ADP'), ('news', 'NOUN'), ('.', '.'), ('traditionally', 'ADV'), ('*u*', 'X'), (\"'s\", 'PRT'), ('international', 'NOUN'), (\"n't\", 'ADV'), ('operations', 'NOUN'), ('as', 'ADP'), ('.', '.'), ('their', 'PRON'), ('say', 'VERB'), ('week', 'NOUN'), ('.', '.'), ('a', 'DET'), ('if', 'ADP'), ('survey', 'NOUN'), ('contradictions', 'NOUN'), ('while', 'ADP'), ('developments', 'NOUN'), ('frankfurt', 'NOUN'), ('of', 'ADP'), ('the', 'DET'), ('the', 'DET'), ('supercomputer', 'NOUN'), ('*-1', 'X'), ('get', 'VERB'), ('government', 'NOUN'), ('pace', 'NOUN'), ('the', 'DET'), ('in', 'ADP'), (\"'s\", 'PRT'), ('been', 'VERB'), (',', '.'), (',', '.'), ('hit', 'VERB'), ('reading', 'NOUN'), ('.', '.'), ('in', 'ADP'), ('said', 'VERB'), ('.', '.'), ('barely', 'NOUN'), ('returned', 'VERB'), ('international', 'NOUN'), ('drugs', 'NOUN'), ('power', 'NOUN'), ('drop', 'NOUN'), ('but', 'CONJ'), ('new', 'ADJ'), ('most', 'ADJ'), ('cents', 'NOUN'), ('are', 'VERB'), ('corp.', 'NOUN'), ('growth', 'NOUN'), ('to', 'PRT'), ('are', 'VERB'), ('the', 'DET'), (\"'s\", 'PRT'), ('to', 'PRT'), ('student', 'NOUN'), ('market', 'NOUN'), (',', '.'), ('east', 'NOUN'), ('the', 'DET'), ('points', 'NOUN'), ('scenes', 'NOUN'), ('associated', 'VERB'), ('50,000', 'NUM'), ('ftc', 'NOUN'), ('right', 'NOUN'), ('a', 'DET'), ('cabernet', 'NOUN'), ('because', 'ADP'), ('financial', 'ADJ'), ('trotter', 'NOUN'), ('year', 'NOUN'), ('%', 'NOUN'), ('a', 'DET'), ('to', 'PRT'), ('*-1', 'X'), ('withdrawal', 'NOUN'), (',', '.'), ('.', '.'), ('there', 'DET'), ('tunes', 'NOUN'), ('*u*', 'X'), ('will', 'VERB'), ('*t*-2', 'X'), (',', '.'), ('due', 'ADJ'), ('one', 'NUM'), ('could', 'VERB'), ('anti-abortionists', 'NOUN'), ('*', 'X'), ('declined', 'VERB'), ('cases', 'NOUN'), (',', '.'), ('housing', 'NOUN'), ('versions', 'NOUN'), ('in', 'ADP'), ('or', 'CONJ'), ('*-150', 'NOUN'), ('traditional', 'ADJ'), ('on', 'ADP'), ('a', 'DET'), ('saying', 'VERB'), ('$', '.'), ('now', 'ADV'), ('is', 'VERB'), ('.', '.'), (',', '.'), ('last', 'ADJ'), ('army', 'NOUN'), (':', '.'), ('been', 'VERB'), ('#', '.'), ('issue', 'NOUN'), ('0', 'X'), ('one', 'NUM'), ('bramalea', 'NOUN'), ('the', 'DET'), ('much', 'ADJ'), ('pleaded', 'VERB'), ('$', '.'), ('st.', 'NOUN'), ('in', 'ADP'), ('statement', 'NOUN'), ('economy', 'NOUN'), ('national', 'NOUN'), ('most', 'ADJ'), (\"'s\", 'PRT'), ('it', 'PRON'), ('&', 'CONJ'), (',', '.'), ('1979', 'NUM'), ('fails', 'VERB'), ('will', 'VERB'), ('which', 'DET'), ('because', 'ADP'), ('the', 'DET'), ('record', 'NOUN'), (',', '.'), ('228', 'NUM'), ('to', 'PRT'), ('the', 'DET'), (',', '.'), ('for', 'ADP'), ('50', 'NUM'), ('of', 'ADP'), ('near-limit', 'NOUN'), ('says', 'VERB'), ('but', 'CONJ'), ('evidence', 'NOUN'), ('takeover', 'NOUN'), ('the', 'DET'), ('factory', 'NOUN'), ('congress', 'NOUN'), ('u.s.', 'NOUN'), ('companies', 'NOUN'), ('confidence', 'NOUN'), ('sold', 'VERB'), ('regional', 'ADJ'), ('.', '.'), ('rubber', 'NOUN'), ('ground', 'NOUN'), ('a', 'DET'), ('was', 'VERB'), ('lungs', 'NOUN'), ('outsiders', 'NOUN'), ('they', 'PRON'), ('u.s.', 'NOUN'), ('staying', 'NOUN'), ('or', 'CONJ'), ('built', 'VERB'), ('audiocassettes', 'NOUN'), ('*u*', 'X'), ('the', 'DET'), ('department', 'NOUN'), ('that', 'ADP'), ('continuing', 'VERB'), ('.', '.'), ('average', 'ADJ'), ('and', 'CONJ'), ('49', 'NUM'), ('to', 'PRT'), ('swing', 'VERB'), ('adopted', 'VERB'), (\"n't\", 'ADV'), ('secretary', 'NOUN'), ('and', 'CONJ'), ('manufacturing', 'NOUN'), ('world', 'NOUN'), ('these', 'DET'), ('shares', 'NOUN'), ('billion', 'NUM'), ('that', 'ADP'), ('worker', 'NOUN'), ('farmers', 'NOUN'), ('0', 'X'), ('nonexecutive', 'ADJ'), ('exports', 'NOUN'), ('reports', 'NOUN'), (',', '.'), ('and', 'CONJ'), ('vicar', 'NOUN'), ('wanted', 'VERB'), ('no', 'DET'), ('*u*', 'X'), ('even', 'ADV'), ('export', 'NOUN'), ('slowly', 'ADV'), ('chief', 'NOUN'), ('office', 'NOUN'), ('increase', 'NOUN'), ('in', 'ADP'), ('not', 'ADV'), ('*u*', 'X'), ('the', 'DET'), (',', '.'), ('stand', 'VERB'), ('older', 'ADJ'), ('late', 'ADJ'), ('in', 'ADP'), (',', '.'), ('is', 'VERB'), ('end', 'NOUN'), ('before', 'ADP'), ('on', 'ADP'), ('mrs.', 'NOUN'), ('0', 'X'), ('and', 'CONJ'), ('contends', 'VERB'), ('was', 'VERB'), ('*t*-2', 'X'), ('*u*', 'X'), ('then', 'ADV'), ('that', 'ADP'), ('says', 'VERB'), ('for', 'ADP'), ('.', '.'), ('such', 'ADJ'), ('in', 'ADP'), ('1988', 'NUM'), ('tramp', 'NOUN'), ('taccetta', 'NOUN'), ('avoid', 'VERB'), ('already', 'ADV'), ('.', '.'), ('and', 'CONJ'), ('videocassette', 'NOUN'), ('*u*', 'X'), ('said', 'VERB'), ('small', 'ADJ'), ('other', 'ADJ'), ('.', '.'), ('effort', 'NOUN'), ('w.', 'NOUN'), ('but', 'CONJ'), ('drive', 'VERB'), ('fine', 'NOUN'), ('issues', 'NOUN'), ('.', '.'), ('on', 'ADP'), ('*-1', 'X'), ('*t*-12', 'X'), ('they', 'PRON'), ('numerous', 'ADJ'), ('the', 'DET'), ('a', 'DET'), ('the', 'DET'), ('*-1', 'X'), ('*', 'X'), ('of', 'ADP'), ('switch', 'VERB'), ('of', 'ADP'), ('*', 'X'), ('said', 'VERB'), ('*t*-51', 'X'), ('present', 'VERB'), ('1985', 'NUM'), ('number', 'NOUN'), ('as', 'ADP'), ('*-52', 'X'), ('regulators', 'NOUN'), (',', '.'), ('re-thought', 'NOUN'), ('gross', 'ADJ'), ('promises', 'VERB'), ('.', '.'), ('a', 'DET'), (',', '.'), ('of', 'ADP'), ('as', 'ADP'), ('championing', 'NOUN'), ('changed', 'VERB'), ('.', '.'), ('0', 'X'), ('the', 'DET'), ('0', 'X'), ('the', 'DET'), ('``', '.'), ('0', 'X'), ('entirely', 'ADV'), ('be', 'VERB'), ('$', '.'), ('in', 'ADP'), ('26,000', 'NOUN'), ('in', 'ADP'), ('ballot', 'NOUN'), ('kidney', 'NOUN'), ('not', 'ADV'), ('of', 'ADP'), ('before', 'ADP'), ('*-1', 'X'), ('river', 'NOUN'), ('.', '.'), ('trading', 'NOUN'), ('replaced', 'VERB'), ('the', 'DET'), ('would-be', 'NOUN'), ('or', 'CONJ'), ('li', 'NOUN'), ('male', 'NOUN'), (\"''\", '.'), ('to', 'PRT'), ('rose', 'VERB'), ('for', 'ADP'), ('world', 'NOUN'), ('traders', 'NOUN'), ('.', '.'), ('.', '.'), ('in', 'ADP'), ('it', 'PRON'), ('of', 'ADP'), ('*t*-159', 'NOUN'), ('that', 'ADP'), ('at', 'ADP'), ('public', 'ADJ'), ('veto', 'NOUN'), ('into', 'ADP'), ('pencil', 'NOUN'), ('will', 'VERB'), ('tax', 'NOUN'), ('in', 'ADP'), ('.', '.'), ('.', '.'), ('firings', 'NOUN'), ('the', 'DET'), ('it', 'PRON'), ('``', '.'), ('acquisition', 'NOUN'), (',', '.'), ('the', 'DET'), ('largest', 'ADJ'), ('reflected', 'VERB'), ('accused', 'VERB'), (\"n't\", 'ADV'), ('may', 'VERB'), ('new', 'ADJ'), ('3.3', 'NUM'), ('*t*-1', 'X'), ('transportation', 'NOUN'), ('get', 'VERB'), ('persons', 'NOUN'), ('broader', 'ADJ'), ('report', 'NOUN'), ('obtaining', 'NOUN'), ('of', 'ADP'), (',', '.'), ('students', 'NOUN'), (',', '.'), ('market-based', 'NOUN'), ('preference', 'NOUN'), ('price', 'NOUN'), ('street', 'NOUN'), ('traded', 'VERB'), ('the', 'DET'), ('.', '.'), (',', '.'), ('paper', 'NOUN'), (\"''\", '.'), ('silver', 'NOUN'), ('moreover', 'ADV'), ('few', 'ADJ'), ('very', 'ADV'), ('*-2', 'X'), ('but', 'CONJ'), ('pressure', 'NOUN'), ('and', 'CONJ'), ('a', 'DET'), ('the', 'DET'), ('investors', 'NOUN'), (\"''\", '.'), ('acquisition', 'NOUN'), (',', '.'), ('germany', 'NOUN'), ('.', '.'), (',', '.'), ('*', 'X'), ('would', 'VERB'), ('much', 'ADV'), ('from', 'ADP'), ('0', 'X'), ('dramatically', 'ADV'), ('vineyard', 'NOUN'), ('0', 'X'), ('violations', 'NOUN'), (',', '.'), ('of', 'ADP'), ('trend', 'NOUN'), ('knows', 'VERB'), ('shortage', 'NOUN'), ('voluntary', 'NOUN'), ('at', 'ADP'), ('.', '.'), ('for', 'ADP'), ('with', 'ADP'), ('.', '.'), (\"'s\", 'PRT'), ('*ich*-2', 'X'), ('crucial', 'NOUN'), ('increase', 'NOUN'), ('gains', 'NOUN'), ('steel', 'NOUN'), (',', '.'), ('transportation', 'NOUN'), ('been', 'VERB'), ('in', 'ADP'), ('dropped', 'VERB'), ('whose', 'PRON'), ('zaharah', 'NOUN'), ('reorganization', 'NOUN'), ('parents', 'NOUN'), ('impose', 'VERB'), ('mr.', 'NOUN'), ('months', 'NOUN'), ('will', 'VERB'), ('at', 'ADP'), ('705.6', 'NOUN'), ('cars', 'NOUN'), ('would', 'VERB'), ('section', 'NOUN'), ('``', '.'), ('.', '.'), (',', '.'), ('.', '.'), ('concerns', 'NOUN'), ('big', 'ADJ'), (',', '.'), ('the', 'DET'), ('prices', 'NOUN'), ('he', 'PRON'), ('in', 'ADP'), ('rectified', 'NOUN'), (':', '.'), ('*-1', 'X'), ('chip', 'NOUN'), ('given', 'VERB'), (\"'\", 'PRT'), ('a', 'DET'), ('``', '.'), ('those', 'DET'), ('.', '.'), (',', '.'), (',', '.'), ('were', 'VERB'), ('u.k.', 'NOUN'), ('at', 'ADP'), (',', '.'), ('both', 'DET'), ('odd', 'ADJ'), (',', '.'), ('today', 'NOUN'), ('the', 'DET'), ('have', 'VERB'), ('$', '.'), ('by', 'ADP'), ('and', 'CONJ'), ('places', 'NOUN'), ('ran', 'VERB'), ('by', 'ADP'), ('.', '.'), ('13', 'NUM'), (',', '.'), ('non-encapsulating', 'NOUN'), ('heads', 'VERB'), ('a', 'DET'), ('hills', 'NOUN'), ('with', 'ADP'), ('hand', 'NOUN'), ('*u*', 'X'), ('of', 'ADP'), ('conditions', 'NOUN'), ('1.76', 'NUM'), ('based', 'VERB'), ('is', 'VERB'), ('latter', 'NOUN'), ('veselich', 'NOUN'), ('put', 'VERB'), ('start', 'VERB'), ('says', 'VERB'), ('in', 'ADP'), ('.', '.'), ('is', 'VERB'), ('you', 'PRON'), (',', '.'), ('*?*', 'X'), ('sacramento', 'NOUN'), ('selected', 'VERB'), ('number', 'NOUN'), (',', '.'), ('to', 'PRT'), ('would', 'VERB'), ('america', 'NOUN'), ('predicting', 'VERB'), ('*-3', 'X'), ('florio', 'NOUN'), ('moscow', 'NOUN'), ('*-1', 'X'), ('peripheral', 'ADJ'), ('some', 'DET'), ('performance', 'NOUN'), ('can', 'VERB'), ('no', 'DET'), ('``', '.'), ('woolworth', 'NOUN'), ('bushel', 'NOUN'), ('to', 'PRT'), ('*t*-1', 'X'), ('problems', 'NOUN'), ('retaining', 'VERB'), ('a', 'DET'), (',', '.'), ('0', 'X'), ('``', '.'), ('pre-emptive', 'NOUN'), ('lazzaroni', 'NOUN'), ('chateau', 'NOUN'), ('over', 'ADP'), ('just', 'ADV'), ('in', 'ADP'), ('according', 'VERB'), ('of', 'ADP'), ('blue-chips', 'NOUN'), ('notably', 'ADV'), ('in', 'ADP'), ('quantitive', 'NOUN'), ('reached', 'VERB'), ('wide', 'ADJ'), ('the', 'DET'), ('when', 'ADV'), ('less', 'ADJ'), ('novel', 'NOUN'), ('the', 'DET'), ('a', 'DET'), ('untrue', 'NOUN'), ('jack', 'NOUN'), ('was', 'VERB'), ('people', 'NOUN'), ('to', 'PRT'), ('*t*-1', 'X'), ('most', 'ADJ'), ('.', '.'), ('decide', 'VERB'), ('.', '.'), ('form', 'NOUN'), ('until', 'ADP'), ('annually', 'ADV'), ('covered', 'VERB'), ('the', 'DET'), ('before', 'ADP'), ('n.y.', 'NOUN'), ('daily', 'ADJ'), ('intelogic', 'NOUN'), ('bankers', 'NOUN'), ('discontinue', 'NOUN'), (',', '.'), ('increased', 'VERB'), ('angeles', 'NOUN'), ('*', 'X'), ('yesterday', 'NOUN'), ('*-3', 'X'), ('value', 'NOUN'), ('join', 'VERB'), ('fail', 'VERB'), ('many', 'ADJ'), ('new', 'ADJ'), ('computers', 'NOUN'), ('whether', 'ADP'), ('1\\\\/4', 'NUM'), ('*t*-2', 'X'), ('*-155', 'NOUN'), ('will', 'VERB'), ('900', 'NUM'), ('and', 'CONJ'), ('lentjes', 'NOUN'), ('on', 'ADP'), ('shut', 'VERB'), ('can', 'VERB'), ('for', 'ADP'), ('than', 'ADP'), ('of', 'ADP'), (',', '.'), ('exporter', 'NOUN'), ('or', 'CONJ'), ('the', 'DET'), ('type', 'NOUN'), ('be', 'VERB'), ('solely', 'NOUN'), ('fall', 'NOUN'), ('me', 'PRON'), (',', '.'), ('u.s.', 'NOUN'), ('the', 'DET'), ('270', 'NUM'), ('sport-utility', 'NOUN'), (',', '.'), (\"'s\", 'PRT'), ('gelatin', 'NOUN'), ('1988', 'NUM'), ('it', 'PRON'), ('campaigning', 'NOUN'), ('on', 'ADP'), ('is', 'VERB'), ('iowa', 'NOUN'), ('two', 'NUM'), ('only', 'ADV'), ('be', 'VERB'), ('card', 'NOUN'), ('light', 'ADJ'), ('free', 'ADJ'), ('to', 'PRT'), ('to', 'PRT'), ('billion', 'NUM'), ('the', 'DET'), ('.', '.'), ('a', 'DET'), ('totally', 'NOUN'), ('-lrb-', '.'), ('a', 'DET'), ('offered', 'VERB'), ('the', 'DET'), ('japan', 'NOUN'), ('japanese', 'ADJ'), ('seem', 'VERB'), ('from', 'ADP'), ('their', 'PRON'), ('by', 'ADP'), ('internal', 'ADJ'), ('billion', 'NUM'), ('contain', 'VERB'), ('just', 'ADV'), ('.', '.'), ('islands', 'NOUN'), (':', '.'), ('it', 'PRON'), ('year-earlier', 'ADJ'), ('wait', 'VERB'), ('hospital', 'NOUN'), ('get', 'VERB'), ('all', 'DET'), ('market', 'NOUN'), ('its', 'PRON'), ('small', 'ADJ'), ('the', 'DET'), ('wage', 'NOUN'), ('to', 'PRT'), ('in', 'ADP'), ('%', 'NOUN'), (';', '.'), ('novello', 'NOUN'), ('degenerative', 'NOUN'), ('sony', 'NOUN'), ('to', 'PRT'), ('current-carrying', 'ADJ'), ('a', 'DET'), ('increases', 'NOUN'), ('futures', 'NOUN'), ('and', 'CONJ'), ('they', 'PRON'), (',', '.'), ('is', 'VERB'), ('he', 'PRON'), ('do', 'VERB'), ('*t*-19', 'X'), (',', '.'), ('bowman', 'NOUN'), ('lasting', 'NOUN'), ('zayed', 'NOUN'), ('test', 'NOUN'), ('estimates', 'NOUN'), ('a', 'DET'), ('co.', 'NOUN'), ('year', 'NOUN'), (',', '.'), ('of', 'ADP'), (',', '.'), ('mechanism', 'NOUN'), ('$', '.'), ('*-2', 'X'), ('resulting', 'VERB'), ('because', 'ADP'), ('own', 'ADJ'), ('of', 'ADP'), ('exchange', 'NOUN'), ('the', 'DET'), ('no', 'DET'), ('in', 'ADP'), ('*t*-43', 'X'), ('*-1', 'X'), ('arbitrage', 'NOUN'), ('fallen', 'VERB'), ('week', 'NOUN'), ('the', 'DET'), ('of', 'ADP'), ('address', 'VERB'), ('0', 'X'), ('the', 'DET'), ('the', 'DET'), ('was', 'VERB'), ('says', 'VERB'), ('mandates', 'NOUN'), ('if', 'ADP'), ('so', 'ADV'), ('cold', 'NOUN'), ('diversification', 'NOUN'), ('for', 'ADP'), ('retained', 'VERB'), ('said', 'VERB'), (\"n't\", 'ADV'), ('if', 'ADP'), ('bend', 'NOUN'), (',', '.'), ('*t*-247', 'NOUN'), ('but', 'CONJ'), ('in', 'ADP'), ('500', 'NUM'), ('declining', 'VERB'), ('trade', 'NOUN'), ('short', 'ADJ'), ('church', 'NOUN'), ('to', 'PRT'), (',', '.'), ('the', 'DET'), ('financial', 'ADJ'), ('ohio', 'NOUN'), ('conduct', 'NOUN'), ('his', 'PRON'), ('committee', 'NOUN'), ('.', '.'), ('book', 'NOUN'), ('companies', 'NOUN'), ('olympic', 'NOUN'), ('have', 'VERB'), ('escape', 'NOUN'), ('buildup', 'NOUN'), ('the', 'DET'), (',', '.'), ('reduce', 'VERB'), ('what', 'PRON'), ('in', 'ADP'), ('fund', 'NOUN'), ('economy', 'NOUN'), ('have', 'VERB'), ('leaves', 'VERB'), ('exceedingly', 'NOUN'), ('series', 'NOUN'), ('million', 'NUM'), (',', '.'), ('*t*-194', 'NOUN'), ('*t*-2', 'X'), ('.', '.'), ('weddings', 'NOUN'), ('questioned', 'NOUN'), ('by', 'ADP'), ('the', 'DET'), ('someone', 'NOUN'), ('competing', 'VERB'), ('.', '.'), ('packed', 'NOUN'), ('promise', 'NOUN'), ('.', '.'), ('*-1', 'X'), ('s&p', 'NOUN'), ('priced', 'VERB'), ('0', 'X'), ('failed', 'VERB'), ('to', 'PRT'), ('smith', 'NOUN'), ('garbage', 'NOUN'), ('.', '.'), ('10,000', 'NUM'), ('time', 'NOUN'), ('2.375', 'NOUN'), ('projector', 'NOUN'), ('mr.', 'NOUN'), ('*-1', 'X'), ('areas', 'NOUN'), ('is', 'VERB'), ('the', 'DET'), (',', '.'), ('from', 'ADP'), ('mood', 'NOUN'), ('for', 'ADP'), ('stars', 'NOUN'), ('norfolk', 'NOUN'), ('mrs.', 'NOUN'), ('group', 'NOUN'), ('do', 'VERB'), ('york', 'NOUN'), ('may', 'VERB'), ('the', 'DET'), ('put', 'VERB'), ('will', 'VERB'), ('picture', 'NOUN'), ('inched', 'VERB'), ('companies', 'NOUN'), ('packaging', 'NOUN'), ('neither', 'DET'), ('.', '.'), (',', '.'), ('an', 'DET'), (',', '.'), ('*t*-1', 'X'), ('as', 'ADP'), (\"''\", '.'), (',', '.'), ('loss', 'NOUN'), ('solidarity', 'NOUN'), (\"'s\", 'PRT'), ('maintain', 'VERB'), ('julia', 'NOUN'), ('to', 'PRT'), ('for', 'ADP'), ('serial', 'NOUN'), ('british', 'ADJ'), ('that', 'ADP'), ('*t*-2', 'X'), ('drobnick', 'NOUN'), ('tuesday', 'NOUN'), ('surprised', 'VERB'), ('in', 'ADP'), ('the', 'DET'), ('and', 'CONJ'), ('futures', 'NOUN'), ('15', 'NUM'), ('unfair', 'ADJ'), (',', '.'), ('people', 'NOUN'), ('0', 'X'), ('with', 'ADP'), ('is', 'VERB'), ('kind', 'NOUN'), ('to', 'PRT'), ('*-1', 'X'), ('in', 'ADP'), ('``', '.'), ('of', 'ADP'), ('next', 'ADJ'), ('*', 'X'), ('dallara', 'NOUN'), ('two', 'NUM'), ('nine', 'NUM'), ('.', '.'), ('stamford', 'NOUN'), ('is', 'VERB'), (\"'d\", 'VERB'), ('bedding', 'NOUN'), ('i', 'PRON'), ('.', '.'), ('today', 'NOUN'), ('reforms', 'NOUN'), ('nemeth', 'NOUN'), ('the', 'DET'), ('*-1', 'X'), ('the', 'DET'), ('in', 'ADP'), ('armed', 'NOUN'), ('in', 'ADP'), ('also', 'ADV'), ('bob', 'NOUN'), ('``', '.'), ('the', 'DET'), ('which', 'DET'), ('the', 'DET'), ('an', 'DET'), ('accomplishments', 'NOUN'), ('totaled', 'VERB'), ('the', 'DET'), ('return', 'NOUN'), (\"n't\", 'ADV'), ('1', 'NUM'), ('right', 'NOUN'), ('upjohn', 'NOUN'), (',', '.'), ('had', 'VERB'), ('english', 'NOUN'), (',', '.'), (',', '.'), ('30-day', 'ADJ'), ('yield', 'VERB'), ('the', 'DET'), ('could', 'VERB'), ('man', 'NOUN'), ('in', 'ADP'), ('machinery', 'NOUN'), ('swiftly', 'ADV'), ('mr.', 'NOUN'), ('favored', 'VERB'), ('to', 'PRT'), ('of', 'ADP'), ('the', 'DET'), ('that', 'ADP'), ('administration', 'NOUN'), ('the', 'DET'), ('.', '.'), ('place', 'NOUN'), ('noncompetitively', 'NOUN'), ('folks', 'NOUN'), ('the', 'DET'), ('or', 'CONJ'), (',', '.'), ('saudi', 'NOUN'), ('and', 'CONJ'), ('both', 'DET'), ('fiber', 'NOUN'), ('a', 'DET'), ('insurance', 'NOUN'), ('*', 'X'), ('were', 'VERB'), ('an', 'DET'), ('*t*-1', 'X'), ('dealers', 'NOUN'), ('of', 'ADP'), ('inc.', 'NOUN'), ('7.90', 'NUM'), ('are', 'VERB'), ('trade', 'NOUN'), ('sound', 'NOUN'), ('or', 'CONJ'), ('the', 'DET'), ('gains', 'NOUN'), ('earlier', 'ADJ'), ('the', 'DET'), ('increasing', 'VERB'), ('bank', 'NOUN'), (',', '.'), ('growing', 'VERB'), ('*', 'X'), ('columbia', 'NOUN'), ('difference', 'NOUN'), ('your', 'PRON'), ('money', 'NOUN'), ('lane', 'NOUN'), ('the', 'DET'), ('said', 'VERB'), ('end', 'NOUN'), ('telling', 'VERB'), ('70', 'NUM'), ('on', 'ADP'), ('quoting', 'NOUN'), (',', '.'), ('heavily', 'ADV'), ('of', 'ADP'), ('0', 'X'), ('the', 'DET'), ('beer-belly', 'NOUN'), ('particularly', 'ADV'), ('that', 'ADP'), ('a', 'DET'), ('monday', 'NOUN'), ('begins', 'VERB'), ('billion', 'NUM'), ('and', 'CONJ'), ('sells', 'VERB'), ('the', 'DET'), ('*t*-31', 'X'), ('all', 'DET'), ('be', 'VERB'), ('space', 'NOUN'), ('implicitly', 'NOUN'), ('raise', 'VERB'), ('hoffman', 'NOUN'), (\"'s\", 'PRT'), ('unfortunately', 'NOUN'), ('mr.', 'NOUN'), ('reviewing', 'NOUN'), ('soviet', 'ADJ'), ('zip', 'NOUN'), ('was', 'VERB'), ('effect', 'NOUN'), ('of', 'ADP'), (',', '.'), ('extended', 'VERB'), ('such', 'ADJ'), ('taxes', 'NOUN'), (\"''\", '.'), ('percentage', 'NOUN'), ('*-1', 'X'), (';', '.'), ('in', 'ADP'), (',', '.'), ('such', 'ADJ'), (\"'s\", 'PRT'), ('*-4', 'X'), ('*-1', 'X'), ('this', 'DET'), ('the', 'DET'), ('information', 'NOUN'), ('125', 'NUM'), ('assets', 'NOUN'), ('declined', 'VERB'), ('*-66', 'NOUN'), ('increases', 'NOUN'), ('republican', 'ADJ'), ('yesterday', 'NOUN'), ('local', 'ADJ'), ('the', 'DET'), ('japanese', 'ADJ'), ('feelings', 'NOUN'), ('0', 'X'), ('currently', 'ADV'), ('jonas', 'NOUN'), ('may', 'VERB'), ('have', 'VERB'), ('out', 'PRT'), ('quarters', 'NOUN'), ('0', 'X'), ('told', 'VERB'), ('and', 'CONJ'), ('normally', 'ADV'), ('the', 'DET'), ('aptitude', 'NOUN'), ('those', 'DET'), ('greatly', 'ADV'), ('of', 'ADP'), ('cars', 'NOUN'), ('.', '.'), ('*-2', 'X'), (',', '.'), ('of', 'ADP'), ('for', 'ADP'), ('a', 'DET'), (',', '.'), ('.', '.'), ('guffey', 'NOUN'), ('fired', 'VERB'), ('nl', 'NOUN'), ('probably', 'ADV'), ('88', 'NUM'), ('georgia-pacific', 'NOUN'), ('england', 'NOUN'), ('.', '.'), ('reflecting', 'VERB'), ('companies', 'NOUN'), ('facing', 'VERB'), ('the', 'DET'), ('his', 'PRON'), ('dealers', 'NOUN'), ('b.', 'NOUN'), ('mistakenly', 'NOUN'), ('a', 'DET'), ('added', 'VERB'), ('sell', 'VERB'), ('400', 'NUM'), ('.', '.'), ('instruments', 'NOUN'), ('the', 'DET'), ('individuals', 'NOUN'), ('trockenbeerenauslesen', 'NOUN'), ('blind', 'ADJ'), ('.', '.'), ('trading', 'NOUN'), ('.', '.'), ('a', 'DET'), ('polish', 'ADJ'), ('seeking', 'VERB'), ('of', 'ADP'), ('--', '.'), ('days', 'NOUN'), ('those', 'DET'), (',', '.'), ('467', 'NOUN'), ('*u*', 'X'), ('*t*-1', 'X'), ('service', 'NOUN'), (',', '.'), ('transaction', 'NOUN'), ('producing', 'VERB'), ('that', 'ADP'), ('was', 'VERB'), ('to', 'PRT'), ('who', 'PRON'), ('calif.', 'NOUN'), ('on', 'ADP'), ('not', 'ADV'), ('of', 'ADP'), ('test', 'NOUN'), ('members', 'NOUN'), ('by', 'ADP'), ('ringers', 'NOUN'), ('*', 'X'), ('bald-faced', 'NOUN'), ('0', 'X'), ('in', 'ADP'), ('co', 'NOUN'), ('two', 'NUM'), ('an', 'DET'), ('state', 'NOUN'), ('a', 'DET'), ('in', 'ADP'), ('purchasing', 'NOUN'), ('might', 'VERB'), ('they', 'PRON'), ('balls', 'NOUN'), ('them', 'PRON'), ('agriculture', 'NOUN'), ('for', 'ADP'), ('europe', 'NOUN'), ('``', '.'), ('.', '.'), ('as', 'ADP'), ('asking', 'VERB'), ('of', 'ADP'), ('funding', 'NOUN'), (\"o'neill\", 'NOUN'), ('and', 'CONJ'), ('it', 'PRON'), ('brownell', 'NOUN'), ('explorer', 'NOUN'), ('special', 'ADJ'), ('space', 'NOUN'), ('for', 'ADP'), ('last', 'ADJ'), ('said', 'VERB'), ('on', 'ADP'), ('*t*-1', 'X'), ('however', 'ADV'), ('layer', 'NOUN'), ('100', 'NUM'), ('4', 'NUM'), ('-lrb-', '.'), ('of', 'ADP'), ('was', 'VERB'), ('$', '.'), ('me', 'PRON'), ('*t*-77', 'NOUN'), ('when', 'ADV'), ('series', 'NOUN'), ('expanding', 'VERB'), ('firms', 'NOUN'), ('the', 'DET'), ('its', 'PRON'), ('%', 'NOUN'), ('said', 'VERB'), ('yield', 'VERB'), ('fairless', 'NOUN'), ('the', 'DET'), ('no', 'DET'), ('said', 'VERB'), ('been', 'VERB'), ('s.', 'NOUN'), ('force', 'NOUN'), ('they', 'PRON'), ('liability', 'NOUN'), ('mr.', 'NOUN'), ('of', 'ADP'), ('house', 'NOUN'), ('7.95', 'NUM'), ('*t*-2', 'X'), ('amount', 'NOUN'), ('with', 'ADP'), ('program', 'NOUN'), ('potential', 'ADJ'), ('*u*', 'X'), ('*t*-1', 'X'), ('*u*', 'X'), ('to', 'PRT'), ('funds', 'NOUN'), ('meaning', 'NOUN'), ('been', 'VERB'), ('clients', 'NOUN'), ('a', 'DET'), ('share', 'NOUN'), ('lung', 'NOUN'), ('commission', 'NOUN'), ('billion', 'NUM'), ('.', '.'), ('acid', 'NOUN'), ('well', 'ADV'), ('banks', 'NOUN'), ('deprived', 'NOUN'), ('with', 'ADP'), ('do', 'VERB'), (';', '.'), ('is', 'VERB'), ('.', '.'), ('rieslings', 'NOUN'), ('.', '.'), ('*-3', 'X'), ('an', 'DET'), (',', '.'), ('november', 'NOUN'), ('$', '.'), ('.', '.'), ('concern', 'NOUN'), ('rally', 'NOUN'), ('year', 'NOUN'), (',', '.'), ('the', 'DET'), ('of', 'ADP'), ('inc.', 'NOUN'), ('nations', 'NOUN'), ('playing', 'VERB'), ('111', 'NUM'), ('-lrb-', '.'), ('international', 'NOUN'), ('you', 'PRON'), ('to', 'PRT'), ('growing', 'VERB'), ('really', 'ADV'), ('reduce', 'VERB'), ('.', '.'), ('northeast', 'NOUN'), ('compound', 'NOUN'), ('have', 'VERB'), ('the', 'DET'), (',', '.'), ('example', 'NOUN'), ('railroad', 'NOUN'), ('hegemony', 'NOUN'), ('gain', 'NOUN'), ('the', 'DET'), ('the', 'DET'), ('orders', 'NOUN'), ('to', 'PRT'), ('has', 'VERB'), ('an', 'DET'), ('.', '.'), ('of', 'ADP'), ('public', 'ADJ'), ('plan', 'NOUN'), ('*', 'X'), ('to', 'PRT'), ('reading', 'NOUN'), ('*-1', 'X'), (\"''\", '.'), ('.', '.'), ('its', 'PRON'), ('life-insurance', 'NOUN'), ('corn', 'NOUN'), ('looming', 'VERB'), ('won', 'VERB'), (',', '.'), ('.', '.'), ('sell', 'VERB'), ('between', 'ADP'), ('securities', 'NOUN'), ('include', 'VERB'), ('other', 'ADJ'), ('million', 'NUM'), ('worth', 'NOUN'), ('to', 'PRT'), ('to', 'PRT'), ('faces', 'VERB'), ('crucial', 'NOUN'), ('of', 'ADP'), ('buyer', 'NOUN'), ('classes', 'NOUN'), ('year', 'NOUN'), ('view', 'NOUN'), ('criminal', 'ADJ'), ('because', 'ADP'), (',', '.'), ('but', 'CONJ'), ('have', 'VERB'), ('ought', 'VERB'), (',', '.'), ('common', 'ADJ'), ('costs', 'NOUN'), ('*-1', 'X'), ('for', 'ADP'), (',', '.'), ('said', 'VERB'), ('tests', 'NOUN'), ('continue', 'VERB'), ('pick', 'VERB'), ('stores', 'NOUN'), ('to', 'PRT'), ('the', 'DET'), ('mr.', 'NOUN'), ('law', 'NOUN'), ('of', 'ADP'), ('to', 'PRT'), ('.', '.'), ('*-2', 'X'), ('as', 'ADP'), ('mr.', 'NOUN'), ('of', 'ADP'), ('*-3', 'X'), ('a', 'DET'), ('sales', 'NOUN'), ('quarter', 'NOUN'), ('said', 'VERB'), ('tune', 'VERB'), ('salmore', 'NOUN'), ('leming', 'NOUN'), ('stage', 'NOUN'), ('the', 'DET'), ('spurred', 'VERB'), ('to', 'PRT'), ('economy', 'NOUN'), ('the', 'DET'), ('*-1', 'X'), ('mr.', 'NOUN'), ('depression', 'NOUN'), ('bell', 'NOUN'), ('buy', 'VERB'), ('the', 'DET'), ('nev.', 'NOUN'), ('.', '.'), ('workers', 'NOUN'), ('were', 'VERB'), ('after', 'ADP'), ('from', 'ADP'), ('if', 'ADP'), ('a', 'DET'), ('to', 'PRT'), ('.', '.'), ('%', 'NOUN'), ('on', 'ADP'), (\"n't\", 'ADV'), ('demands', 'NOUN'), ('just', 'ADV'), ('are', 'VERB'), ('co', 'NOUN'), ('500', 'NUM'), ('0', 'X'), ('university', 'NOUN'), ('del.', 'NOUN'), ('of', 'ADP'), ('begin', 'VERB'), ('latest', 'ADJ'), ('*-1', 'X'), ('over', 'ADP'), ('.', '.'), ('midwest', 'NOUN'), ('significantly', 'ADV'), ('.', '.'), ('and', 'CONJ'), (',', '.'), ('artist', 'NOUN'), ('clients', 'NOUN'), ('violations', 'NOUN'), ('court', 'NOUN'), (',', '.'), (',', '.'), ('shelf', 'NOUN'), ('problem', 'NOUN'), ('*-1', 'X'), ('chest', 'NOUN'), ('*-2', 'X'), ('veraldi', 'NOUN'), ('which', 'DET'), ('items', 'NOUN'), ('president', 'NOUN'), ('``', '.'), ('soviets', 'NOUN'), (',', '.'), (\"'s\", 'PRT'), ('strength', 'NOUN'), ('by', 'ADP'), ('.', '.'), ('listing', 'NOUN'), ('``', '.'), ('receipt', 'NOUN'), ('months', 'NOUN'), ('also', 'ADV'), ('us', 'PRON'), ('they', 'PRON'), (';', '.'), ('federal', 'ADJ'), ('free', 'ADJ'), ('past', 'ADJ'), ('international', 'NOUN'), ('this', 'DET'), ('.', '.'), ('to', 'PRT'), ('he', 'PRON'), ('the', 'DET'), ('on', 'ADP'), ('ca', 'VERB'), ('classroom', 'NOUN'), ('terms', 'NOUN'), ('can', 'VERB'), (\"n't\", 'ADV'), ('a', 'DET'), ('trucks', 'NOUN'), ('funds', 'NOUN'), ('few', 'ADJ'), ('mercury', 'NOUN'), ('the', 'DET'), ('structural', 'NOUN'), ('and', 'CONJ'), ('telerate', 'NOUN'), ('stock', 'NOUN'), ('to', 'PRT'), ('$', '.'), ('in', 'ADP'), ('.', '.'), ('japan', 'NOUN'), ('protests', 'NOUN'), ('an', 'DET'), ('mainland', 'NOUN'), ('319.75', 'NOUN'), ('both', 'DET'), ('issue', 'NOUN'), ('agreement', 'NOUN'), ('at', 'ADP'), ('the', 'DET'), ('writers', 'NOUN'), ('a', 'DET'), ('any', 'DET'), ('to', 'PRT'), ('about', 'ADP'), ('*', 'X'), ('and', 'CONJ'), ('*t*-2', 'X'), ('flag', 'NOUN'), ('such', 'ADJ'), ('hearst', 'NOUN'), ('asia', 'NOUN'), ('speculation', 'NOUN'), ('apparently', 'ADV'), ('the', 'DET'), (':', '.'), ('ringer', 'NOUN'), ('pay', 'VERB'), ('that', 'ADP'), ('a.l.', 'NOUN'), ('plans', 'VERB'), ('acquire', 'VERB'), ('.', '.'), ('we', 'PRON'), ('six-month', 'ADJ'), ('schools', 'NOUN'), ('conference', 'NOUN'), ('announcement', 'NOUN'), ('and', 'CONJ'), ('common', 'ADJ'), ('other', 'ADJ'), ('sino-u.s.', 'ADJ'), ('soviets', 'NOUN'), ('.', '.'), (\"'s\", 'PRT'), ('the', 'DET'), ('some', 'DET'), ('.', '.'), ('make', 'VERB'), ('largest', 'ADJ'), ('taiwan', 'NOUN'), ('18', 'NUM'), ('treasury', 'NOUN'), (\"n't\", 'ADV'), ('and', 'CONJ'), ('other', 'ADJ'), ('.', '.'), ('80.50', 'NOUN'), ('*', 'X'), (\"''\", '.'), ('increasing', 'VERB'), ('*-1', 'X'), ('two', 'NUM'), (',', '.'), ('.', '.'), ('*', 'X'), ('peter', 'NOUN'), ('*', 'X'), ('.', '.'), ('less-than-brilliant', 'NOUN'), ('markets', 'NOUN'), ('be', 'VERB'), ('sulaiman', 'NOUN'), ('not', 'ADV'), ('are', 'VERB'), ('was', 'VERB'), ('.', '.'), ('three', 'NUM'), ('bill', 'NOUN'), ('far', 'ADV'), ('9', 'NUM'), (',', '.'), ('*', 'X'), ('the', 'DET'), ('fraud', 'NOUN'), ('has', 'VERB'), ('in', 'ADP'), ('a', 'DET'), ('one', 'NUM'), ('tony', 'NOUN'), ('president', 'NOUN'), ('*t*-1', 'X'), ('the', 'DET'), ('they', 'PRON'), ('0', 'X'), ('only', 'ADV'), ('company', 'NOUN'), ('curry', 'NOUN'), ('.', '.'), (',', '.'), ('to', 'PRT'), ('*t*-3', 'X'), (',', '.'), ('holdings', 'NOUN'), (',', '.'), (',', '.'), (',', '.'), ('coleman', 'NOUN'), ('$', '.'), ('reported', 'VERB'), (',', '.'), ('choose', 'VERB'), ('at&t', 'NOUN'), ('0', 'X'), ('they', 'PRON'), ('valley', 'NOUN'), ('$', '.'), ('of', 'ADP'), ('.', '.'), ('in', 'ADP'), (\"''\", '.'), ('*', 'X'), ('from', 'ADP'), ('modestly', 'ADV'), ('go', 'VERB'), ('the', 'DET'), ('cataract', 'NOUN'), ('and', 'CONJ'), ('shares', 'NOUN'), ('complex', 'ADJ'), ('*-41', 'X'), ('strapped', 'NOUN'), ('situation', 'NOUN'), ('inc.', 'NOUN'), ('number', 'NOUN'), ('and', 'CONJ'), ('said', 'VERB'), ('recently', 'ADV'), ('in', 'ADP'), ('co.', 'NOUN'), ('profited', 'NOUN'), ('lacks', 'VERB'), ('transaction', 'NOUN'), (',', '.'), ('of', 'ADP'), ('%', 'NOUN'), ('are', 'VERB'), ('.', '.'), ('new', 'ADJ'), (',', '.'), ('passed', 'VERB'), ('six', 'NUM'), ('million', 'NUM'), ('as', 'ADP'), ('and', 'CONJ'), ('they', 'PRON'), (\"''\", '.'), ('and', 'CONJ'), ('asia', 'NOUN'), ('u.s.', 'NOUN'), ('30.6', 'NOUN'), ('the', 'DET'), ('$', '.'), ('to', 'PRT'), ('warning', 'VERB'), ('pcs', 'NOUN'), ('the', 'DET'), ('fully', 'ADV'), (',', '.'), ('u.s.', 'NOUN'), ('plan', 'NOUN'), ('relatively', 'ADV'), ('the', 'DET'), ('survey', 'NOUN'), ('whether', 'ADP'), ('american', 'NOUN'), ('years', 'NOUN'), ('.', '.'), ('their', 'PRON'), ('because', 'ADP'), ('*t*-1', 'X'), ('earn', 'VERB'), (\"''\", '.'), ('facilities', 'NOUN'), ('0', 'X'), ('yesterday', 'NOUN'), ('as', 'ADP'), ('.', '.'), ('half-hour', 'NOUN'), ('the', 'DET'), ('.', '.'), ('smothering', 'NOUN'), ('to', 'PRT'), ('recently', 'ADV'), ('.', '.'), ('president', 'NOUN'), ('as', 'ADP'), ('stock', 'NOUN'), ('%', 'NOUN'), ('*-1', 'X'), ('top', 'ADJ'), ('for', 'ADP'), ('bid', 'NOUN'), ('small', 'ADJ'), ('the', 'DET'), ('finally', 'ADV'), ('further', 'ADJ'), ('airline', 'NOUN'), ('of', 'ADP'), ('resembles', 'NOUN'), ('a', 'DET'), ('-lcb-', '.'), ('...', '.'), ('of', 'ADP'), ('they', 'PRON'), ('a', 'DET'), ('.', '.'), ('sometimes-exhausting', 'NOUN'), ('changes', 'NOUN'), ('*ppa*-2', 'X'), ('each', 'DET'), ('mich.', 'NOUN'), ('instructed', 'NOUN'), ('*', 'X'), ('a', 'DET'), ('assemble', 'NOUN'), (':', '.'), ('officials', 'NOUN'), ('by', 'ADP'), ('to', 'PRT'), ('wines', 'NOUN'), (\"'s\", 'PRT'), ('new', 'ADJ'), ('doctor', 'NOUN'), ('``', '.'), ('or', 'CONJ'), ('of', 'ADP'), ('of', 'ADP'), ('*t*-1', 'X'), ('the', 'DET'), ('america', 'NOUN'), ('spur', 'VERB'), ('pro-choice', 'ADJ'), ('an', 'DET'), ('a', 'DET'), ('like', 'ADP'), ('military', 'ADJ'), (',', '.'), (',', '.'), ('government', 'NOUN'), ('17', 'NUM'), ('in', 'ADP'), ('stations', 'NOUN'), ('follows', 'VERB'), ('accounts', 'NOUN'), ('without', 'ADP'), ('over-the-counter', 'ADJ'), ('outnumbered', 'NOUN'), ('will', 'VERB'), ('it', 'PRON'), ('with', 'ADP'), ('*t*-1', 'X'), ('penalties', 'NOUN'), ('away', 'ADV'), ('.', '.'), ('that', 'ADP'), ('*t*-1', 'X'), ('%', 'NOUN'), ('who', 'PRON'), ('volatile', 'ADJ'), ('to', 'PRT'), (',', '.'), ('*-1', 'X'), ('club', 'NOUN'), ('1903', 'NOUN'), ('england', 'NOUN'), ('*t*-1', 'X'), ('20', 'NUM'), (',', '.'), ('observance', 'NOUN'), ('traditionalists', 'NOUN'), ('others', 'NOUN'), ('officials', 'NOUN'), ('doing', 'VERB'), ('among', 'ADP'), ('new', 'ADJ'), ('mr.', 'NOUN'), ('would', 'VERB'), (',', '.'), ('attention', 'NOUN'), ('became', 'VERB'), ('telegraph', 'NOUN'), ('.', '.'), ('terms', 'NOUN'), ('*-1', 'X'), ('that', 'ADP'), ('*u*', 'X'), ('from', 'ADP'), ('recovered', 'VERB'), ('of', 'ADP'), ('about', 'ADP'), ('figure', 'VERB'), ('0', 'X'), ('semiconductors', 'NOUN'), ('progress', 'NOUN'), ('and', 'CONJ'), ('average', 'ADJ'), ('new', 'ADJ'), ('of', 'ADP'), ('basic', 'ADJ'), ('followed', 'VERB'), ('repeatedly', 'NOUN'), ('the', 'DET'), ('and', 'CONJ'), ('yesterday', 'NOUN'), ('of', 'ADP'), ('of', 'ADP'), ('explanatory', 'NOUN'), ('seymour', 'NOUN'), ('l.', 'NOUN'), ('containers', 'NOUN'), ('i', 'PRON'), ('new', 'ADJ'), ('media', 'NOUN'), ('and', 'CONJ'), ('*t*-1', 'X'), ('whether', 'ADP'), ('drawing', 'VERB'), ('the', 'DET'), ('*t*-202', 'NOUN'), ('with', 'ADP'), ('support', 'NOUN'), ('bring', 'VERB'), ('requires', 'VERB'), ('*', 'X'), ('in', 'ADP'), ('of', 'ADP'), ('scripts', 'NOUN'), ('bushels', 'NOUN'), ('association', 'NOUN'), ('million', 'NUM'), ('u.s.', 'NOUN'), ('150', 'NUM'), ('justice', 'NOUN'), ('*-1', 'X'), ('shares', 'NOUN'), (',', '.'), ('house', 'NOUN'), ('failed', 'VERB'), ('220.45', 'NOUN'), ('language', 'NOUN'), ('cdc', 'NOUN'), ('line', 'NOUN'), ('about', 'ADP'), ('$', '.'), ('investment', 'NOUN'), ('-lrb-', '.'), ('history', 'NOUN'), ('undisclosed', 'NOUN'), ('to', 'PRT'), ('princely', 'NOUN'), ('%', 'NOUN'), ('.', '.'), ('low', 'ADJ'), ('.', '.'), ('at', 'ADP'), ('safety', 'NOUN'), ('that', 'ADP'), ('%', 'NOUN'), ('were', 'VERB'), ('which', 'DET'), ('fetal-tissue', 'ADJ'), (',', '.'), ('national', 'NOUN'), ('moines', 'NOUN'), ('c.d.s', 'NOUN'), ('the', 'DET'), ('to', 'PRT'), (',', '.'), ('the', 'DET'), ('abuse', 'NOUN'), ('the', 'DET'), (\"'s\", 'PRT'), ('islands', 'NOUN'), ('being', 'VERB'), ('of', 'ADP'), ('fifth-grade', 'NOUN'), ('*ich*-1', 'X'), ('is', 'VERB'), ('opportunities', 'NOUN'), ('``', '.'), ('%', 'NOUN'), ('they', 'PRON'), ('said', 'VERB'), ('notes', 'NOUN'), ('dislike', 'NOUN'), ('in', 'ADP'), ('someone', 'NOUN'), ('of', 'ADP'), ('.', '.'), ('it', 'PRON'), ('current', 'ADJ'), ('through', 'ADP'), ('generate', 'NOUN'), ('*ich*-2', 'X'), ('extent', 'NOUN'), ('will', 'VERB'), ('below', 'ADP'), ('bigger', 'ADJ'), ('your', 'PRON'), ('7', 'NUM'), ('to', 'PRT'), ('broader', 'ADJ'), (',', '.'), ('0', 'X'), ('and', 'CONJ'), ('year', 'NOUN'), ('--', '.'), (',', '.'), ('japan', 'NOUN'), (\"'s\", 'PRT'), ('monthly', 'ADJ'), ('yen', 'NOUN'), ('were', 'VERB'), ('matters', 'NOUN'), ('graphs', 'NOUN'), ('on', 'ADP'), ('notes', 'NOUN'), ('brazil', 'NOUN'), ('*-1', 'X'), ('virgin', 'NOUN'), ('of', 'ADP'), ('at', 'ADP'), ('our', 'PRON'), ('after', 'ADP'), ('practice', 'NOUN'), ('awaits', 'NOUN'), ('*t*-2', 'X'), ('-rrb-', '.'), (',', '.'), ('including', 'VERB'), ('when', 'ADV'), ('*rnr*-2', 'X'), ('half', 'DET'), ('been', 'VERB'), ('of', 'ADP'), ('make', 'VERB'), ('.', '.'), (',', '.'), ('to', 'PRT'), ('unpopularity', 'NOUN'), ('reclaimed', 'NOUN'), ('in', 'ADP'), ('management', 'NOUN'), (\"'s\", 'PRT'), ('simmons', 'NOUN'), ('banks', 'NOUN'), ('the', 'DET'), ('has', 'VERB'), ('market', 'NOUN'), ('while', 'ADP'), ('world', 'NOUN'), ('of', 'ADP'), ('by', 'ADP'), ('law', 'NOUN'), ('a', 'DET'), ('attached', 'VERB'), ('country', 'NOUN'), ('framers', 'NOUN'), ('*ich*-2', 'X'), (',', '.'), ('who', 'PRON'), ('.', '.'), ('as', 'ADP'), ('added', 'VERB'), ('week', 'NOUN'), ('into', 'ADP'), ('a', 'DET'), ('*u*', 'X'), ('a', 'DET'), ('early', 'ADJ'), ('insisted', 'VERB'), ('d.', 'NOUN'), ('merit', 'NOUN'), ('have', 'VERB'), (\"''\", '.'), ('.', '.'), ('``', '.'), ('gains', 'NOUN'), ('proposal', 'NOUN'), (\"'s\", 'PRT'), ('run-down', 'ADJ'), ('difficult', 'ADJ'), ('a', 'DET'), ('was', 'VERB'), ('within', 'ADP'), ('priced', 'VERB'), ('was', 'VERB'), ('direct', 'ADJ'), ('that', 'ADP'), ('7\\\\/8', 'NUM'), ('*exp*-1', 'X'), ('*', 'X'), ('national', 'NOUN'), ('slip', 'NOUN'), ('mailed', 'NOUN'), ('corp.', 'NOUN'), ('by', 'ADP'), ('to', 'PRT'), ('owed', 'VERB'), ('said', 'VERB'), ('made', 'VERB'), ('is', 'VERB'), ('an', 'DET'), ('.', '.'), ('by', 'ADP'), ('*t*-198', 'NOUN'), ('form', 'NOUN'), ('ordered', 'VERB'), ('have', 'VERB'), ('stock', 'NOUN'), ('15', 'NUM'), ('common', 'ADJ'), ('the', 'DET'), ('of', 'ADP'), ('a', 'DET'), ('the', 'DET'), ('10', 'NUM'), ('the', 'DET'), ('trading', 'NOUN'), ('for', 'ADP'), ('ordered', 'VERB'), ('will', 'VERB'), ('of', 'ADP'), ('another', 'DET'), ('group', 'NOUN'), ('.', '.'), ('yon', 'NOUN'), ('and', 'CONJ'), ('$', '.'), ('number', 'NOUN'), ('orders', 'NOUN'), ('copper', 'NOUN'), ('stadium', 'NOUN'), ('shrinks', 'VERB'), ('fixed-rate', 'ADJ'), ('of', 'ADP'), ('*u*', 'X'), ('parallels', 'VERB'), ('hahn', 'NOUN'), ('of', 'ADP'), ('cut', 'VERB'), ('a', 'DET'), ('does', 'VERB'), ('show', 'NOUN'), ('0', 'X'), ('the', 'DET'), ('mergers', 'NOUN'), ('.', '.'), ('jack', 'NOUN'), ('of', 'ADP'), ('.', '.'), ('quitting', 'NOUN'), (',', '.'), ('terms', 'NOUN'), ('by', 'ADP'), ('said', 'VERB'), ('car', 'NOUN'), ('a', 'DET'), ('systems', 'NOUN'), ('mcgovern', 'NOUN'), ('financing', 'NOUN'), ('.', '.'), ('or', 'CONJ'), ('and', 'CONJ'), ('*-1', 'X'), ('more', 'ADJ'), ('of', 'ADP'), ('the', 'DET'), ('*', 'X'), ('expanded', 'VERB'), ('you', 'PRON'), ('courtroom', 'NOUN'), ('the', 'DET'), ('off', 'PRT'), ('new', 'ADJ'), ('mr.', 'NOUN'), ('purchase', 'NOUN'), ('*t*-1', 'X'), ('share', 'NOUN'), ('sauvignon', 'NOUN'), ('bridge', 'NOUN'), ('they', 'PRON'), (',', '.'), ('leader', 'NOUN'), ('at', 'ADP'), ('*t*-4', 'X'), ('.', '.'), ('the', 'DET'), ('short-term', 'ADJ'), ('*t*-1', 'X'), ('congress', 'NOUN'), ('4', 'NUM'), ('9.37', 'NOUN'), ('``', '.'), ('regarded', 'VERB'), ('as', 'ADP'), ('a.', 'NOUN'), ('as', 'ADP'), ('into', 'ADP'), ('junk-bond', 'NOUN'), ('publishing', 'NOUN'), ('and', 'CONJ'), ('to', 'PRT'), ('$', '.'), ('a', 'DET'), (',', '.'), ('however', 'ADV'), ('yesterday', 'NOUN'), ('at', 'ADP'), ('lessen', 'NOUN'), ('*t*-1', 'X'), (\"'s\", 'PRT'), ('caldor', 'NOUN'), ('about', 'ADP'), ('from', 'ADP'), ('his', 'PRON'), ('is', 'VERB'), ('for', 'ADP'), ('performance', 'NOUN'), ('but', 'CONJ'), ('been', 'VERB'), ('going', 'VERB'), ('has', 'VERB'), (',', '.'), ('serious', 'ADJ'), ('already', 'ADV'), ('to', 'PRT'), ('boosters', 'NOUN'), ('they', 'PRON'), ('62', 'NUM'), ('the', 'DET'), ('charles', 'NOUN'), ('mixed', 'VERB'), ('slowing', 'VERB'), ('lord', 'NOUN'), ('hurricane', 'NOUN'), ('violations', 'NOUN'), ('unit', 'NOUN'), ('japan', 'NOUN'), ('when', 'ADV'), ('one', 'NUM'), ('showed', 'VERB'), ('representative', 'NOUN'), ('democrats', 'NOUN'), ('launched', 'VERB'), ('trade', 'NOUN'), ('family', 'NOUN'), ('reflect', 'VERB'), ('into', 'ADP'), ('$', '.'), ('$', '.'), ('.', '.'), ('million', 'NUM'), ('let', 'VERB'), ('america', 'NOUN'), ('ual', 'NOUN'), ('is', 'VERB'), ('paris', 'NOUN'), ('in', 'ADP'), ('``', '.'), ('faultlessly', 'NOUN'), ('his', 'PRON'), ('asserts', 'NOUN'), ('*u*', 'X'), ('the', 'DET'), ('billion', 'NUM'), ('*t*-9', 'X'), ('casting', 'VERB'), ('of', 'ADP'), ('the', 'DET'), ('warning', 'NOUN'), ('china', 'NOUN'), ('market', 'NOUN'), ('of', 'ADP'), ('million', 'NUM'), (',', '.'), ('the', 'DET'), ('all', 'DET'), ('eastern', 'NOUN'), ('.', '.'), (',', '.'), ('recommended', 'NOUN'), ('in', 'ADP'), ('here', 'ADV'), ('shareholder-rights', 'NOUN'), (\"''\", '.'), ('.', '.'), ('if', 'ADP'), ('the', 'DET'), ('mortgage', 'NOUN'), ('over', 'ADP'), ('good', 'ADJ'), ('the', 'DET'), ('and', 'CONJ'), ('upheld', 'VERB'), ('heavily', 'ADV'), ('is', 'VERB'), ('in', 'ADP'), ('sheaf', 'NOUN'), ('victory', 'NOUN'), ('is', 'VERB'), ('the', 'DET'), ('a', 'DET'), (\"'re\", 'VERB'), (',', '.'), ('to', 'PRT'), ('arbitrage', 'NOUN'), ('two', 'NUM'), ('3\\\\/4', 'NUM'), ('action', 'NOUN'), ('.', '.'), (',', '.'), ('a', 'DET'), ('a', 'DET'), ('``', '.'), ('``', '.'), ('a', 'DET'), ('numbered', 'NOUN'), ('and', 'CONJ'), (\"''\", '.'), ('leaving', 'VERB'), ('tray', 'NOUN'), ('graduate', 'NOUN'), ('home', 'NOUN'), ('by', 'ADP'), ('falls', 'VERB'), ('acquisition', 'NOUN'), (',', '.'), ('u.s.', 'NOUN'), ('commission', 'NOUN'), ('government-funded', 'NOUN'), ('to', 'PRT'), (',', '.'), ('the', 'DET'), ('one', 'NUM'), ('to', 'PRT'), (\"'s\", 'PRT'), ('plan', 'NOUN'), ('widgets', 'NOUN'), ('fundamental', 'ADJ'), ('by', 'ADP'), ('the', 'DET'), ('to', 'PRT'), ('available', 'ADJ'), ('stability', 'NOUN'), ('at', 'ADP'), ('managing', 'VERB'), ('the', 'DET'), ('the', 'DET'), ('flat', 'ADJ'), (',', '.'), ('12', 'NUM'), ('a', 'DET'), ('are', 'VERB'), ('is', 'VERB'), ('largest', 'ADJ'), ('for', 'ADP'), ('in', 'ADP'), ('cray-3', 'NOUN'), ('maker', 'NOUN'), (':', '.'), ('this', 'DET'), ('processing', 'NOUN'), ('of', 'ADP'), ('wrestling', 'NOUN'), ('some', 'DET'), ('avid', 'NOUN'), ('or', 'CONJ'), ('case', 'NOUN'), ('open-end', 'NOUN'), ('to', 'PRT'), ('0', 'X'), ('plans', 'VERB'), ('to', 'PRT'), ('and', 'CONJ'), ('that', 'ADP'), ('points', 'NOUN'), ('i', 'PRON'), ('as', 'ADP'), ('sold', 'VERB'), ('will', 'VERB'), ('financial', 'ADJ'), ('above', 'ADP'), ('0', 'X'), ('moleculon', 'NOUN'), ('u.s.', 'NOUN'), (',', '.'), ('the', 'DET'), ('sold', 'VERB'), ('curbing', 'NOUN'), ('24', 'NUM'), ('but', 'CONJ'), ('the', 'DET'), ('*u*', 'X'), ('--', '.'), ('profitable', 'ADJ'), ('the', 'DET'), ('have', 'VERB'), ('a', 'DET'), ('manager', 'NOUN'), ('alive', 'ADJ'), ('classroom', 'NOUN'), ('this', 'DET'), ('for', 'ADP'), ('series', 'NOUN'), ('biscayne', 'NOUN'), ('starting', 'VERB'), ('to', 'PRT'), ('%', 'NOUN'), (',', '.'), ('capital', 'NOUN'), ('*u*', 'X'), ('.', '.'), ('strong', 'ADJ'), ('votes', 'NOUN'), ('money', 'NOUN'), ('investors', 'NOUN'), ('377.60', 'NOUN'), ('``', '.'), ('``', '.'), ('poor', 'NOUN'), ('the', 'DET'), ('public', 'ADJ'), ('or', 'CONJ'), ('many', 'ADJ'), ('by', 'ADP'), ('control', 'NOUN'), ('decline', 'NOUN'), ('transplants', 'NOUN'), ('reported', 'VERB'), ('considered', 'VERB'), ('firms', 'NOUN'), ('that', 'ADP'), ('and', 'CONJ'), (\"'s\", 'PRT'), ('*t*-1', 'X'), ('cents', 'NOUN'), (\"'s\", 'PRT'), ('1997', 'NOUN'), ('global', 'ADJ'), ('s&p', 'NOUN'), ('600', 'NUM'), ('*t*-1', 'X'), ('stand', 'VERB'), ('chief', 'NOUN'), ('globe', 'NOUN'), ('as', 'ADP'), ('in', 'ADP'), ('to', 'PRT'), ('edison', 'NOUN'), ('well', 'ADV'), ('wa', 'NOUN'), ('gulf', 'NOUN'), (',', '.'), ('extramarital', 'NOUN'), ('causing', 'VERB'), ('places', 'NOUN'), ('asbestos', 'NOUN'), ('still', 'ADV'), ('n.j.-based', 'NOUN'), ('vice', 'NOUN'), ('fees', 'NOUN'), ('separate', 'ADJ'), ('operation', 'NOUN'), ('billion', 'NUM'), ('from', 'ADP'), ('hills', 'NOUN'), ('farmers', 'NOUN'), ('they', 'PRON'), ('u.s.', 'NOUN'), ('shareholders', 'NOUN'), ('network', 'NOUN'), ('securities', 'NOUN'), ('of', 'ADP'), ('conduct', 'VERB'), ('he', 'PRON'), ('homeless', 'NOUN'), ('%', 'NOUN'), ('by', 'ADP'), ('economic', 'ADJ'), ('require', 'VERB'), ('a', 'DET'), (',', '.'), ('ingredients', 'NOUN'), ('have', 'VERB'), (',', '.'), ('hustlers', 'NOUN'), ('laws', 'NOUN'), ('japanese', 'ADJ'), ('banks', 'NOUN'), ('business', 'NOUN'), ('often', 'ADV'), ('as', 'ADP'), ('hudson', 'NOUN'), ('of', 'ADP'), ('.', '.'), ('7.20', 'NOUN'), ('such', 'ADJ'), ('*u*', 'X'), ('economics', 'NOUN'), ('chrysler', 'NOUN'), ('had', 'VERB'), ('mr.', 'NOUN'), ('jr.', 'NOUN'), ('miller', 'NOUN'), ('the', 'DET'), ('the', 'DET'), ('small', 'ADJ'), ('japan', 'NOUN'), ('it', 'PRON'), ('clears', 'NOUN'), ('able', 'ADJ'), ('network', 'NOUN'), ('.', '.'), ('colleagues', 'NOUN'), ('*-1', 'X'), ('.', '.'), (',', '.'), ('dividends', 'NOUN'), ('slowly', 'ADV'), ('of', 'ADP'), ('of', 'ADP'), ('plants', 'NOUN'), ('will', 'VERB'), ('drag-down', 'NOUN'), ('$', '.'), (',', '.'), ('to', 'PRT'), ('of', 'ADP'), ('no', 'DET'), (',', '.'), ('*-1', 'X'), ('to', 'PRT'), ('new', 'ADJ'), ('afternoon', 'NOUN'), ('nearly', 'ADV'), ('*', 'X'), ('value', 'NOUN'), ('program', 'NOUN'), ('or', 'CONJ'), ('to', 'PRT'), ('$', '.'), ('mr.', 'NOUN'), ('.', '.'), (',', '.'), ('because', 'ADP'), ('26', 'NUM'), ('transportation', 'NOUN'), ('spitler', 'NOUN'), ('canadian', 'ADJ'), ('banks', 'NOUN'), ('added', 'VERB'), ('are', 'VERB'), ('``', '.'), ('off', 'PRT'), ('and', 'CONJ'), ('*-1', 'X'), ('seeing', 'VERB'), ('10', 'NUM'), ('balance', 'NOUN'), ('a', 'DET'), ('.', '.'), ('the', 'DET'), ('ward', 'NOUN'), ('the', 'DET'), ('%', 'NOUN'), ('under', 'ADP'), (\"'s\", 'PRT'), (',', '.'), ('acting', 'NOUN'), ('of', 'ADP'), ('support', 'NOUN'), ('the', 'DET'), ('--', '.'), ('1.6', 'NUM'), (\"'\", 'PRT'), ('several', 'ADJ'), ('$', '.'), ('to', 'PRT'), ('suspended', 'VERB'), ('.', '.'), ('million', 'NUM'), ('i', 'PRON'), ('were', 'VERB'), ('that', 'ADP'), ('share', 'NOUN'), ('medical', 'ADJ'), ('about', 'ADP'), (',', '.'), ('investors', 'NOUN'), ('edwards', 'NOUN'), ('of', 'ADP'), ('*t*-32', 'X'), ('``', '.'), ('.', '.'), ('questions', 'NOUN'), (',', '.'), ('deal', 'NOUN'), ('payouts', 'NOUN'), ('for', 'ADP'), ('president', 'NOUN'), ('the', 'DET'), ('october', 'NOUN'), ('tender', 'NOUN'), ('bowl', 'NOUN'), ('in', 'ADP'), ('fare', 'VERB'), ('before', 'ADP'), ('authorized', 'NOUN'), ('the', 'DET'), ('the', 'DET'), ('as', 'ADP'), ('filling', 'VERB'), ('by', 'ADP'), ('for', 'ADP'), ('utsumi', 'NOUN'), ('paid', 'VERB'), ('1.5', 'NUM'), ('to', 'PRT'), ('increased', 'VERB'), ('of', 'ADP'), ('3\\\\/4', 'NUM'), ('.', '.'), ('makers', 'NOUN'), ('first', 'ADJ'), ('.', '.'), ('a', 'DET'), ('the', 'DET'), ('could', 'VERB'), ('contract', 'NOUN'), ('the', 'DET'), ('of', 'ADP'), ('immune', 'ADJ'), ('to', 'PRT'), ('company', 'NOUN'), ('*u*', 'X'), ('xiaoping', 'NOUN'), ('companies', 'NOUN'), ('within', 'ADP'), ('$', '.'), ('company', 'NOUN'), ('massachusetts', 'NOUN'), ('&', 'CONJ'), ('scheduled', 'VERB'), ('and', 'CONJ'), ('of', 'ADP'), ('1', 'NUM'), ('he', 'PRON'), ('7.8', 'NOUN'), ('this', 'DET'), ('is', 'VERB'), ('corp.', 'NOUN'), ('wilcox', 'NOUN'), ('had', 'VERB'), ('any', 'DET'), ('constitutional', 'ADJ'), (',', '.'), ('valuation', 'NOUN'), ('830,000', 'NOUN'), ('.', '.'), ('those', 'DET'), ('the', 'DET'), ('were', 'VERB'), ('its', 'PRON'), ('it', 'PRON'), ('plo', 'NOUN'), ('a', 'DET'), ('.', '.'), ('dismissed', 'VERB'), ('church', 'NOUN'), ('mcgovern', 'NOUN'), ('should', 'VERB'), (',', '.'), ('the', 'DET'), ('1\\\\/2', 'NUM'), ('or', 'CONJ'), ('challenge', 'NOUN'), ('garbage', 'NOUN'), ('spending', 'NOUN'), ('disciplinary', 'ADJ'), ('team', 'NOUN'), ('minister', 'NOUN'), ('some', 'DET'), ('16.9', 'NOUN'), ('still', 'ADV'), (\"'\", 'PRT'), ('expects', 'VERB'), ('.', '.'), ('until', 'ADP'), ('proceeds', 'NOUN'), ('from', 'ADP'), ('purchase', 'NOUN'), ('futures', 'NOUN'), ('easier', 'ADJ'), ('*-3', 'X'), ('because', 'ADP'), (',', '.'), ('net', 'ADJ'), ('fell', 'VERB'), ('from', 'ADP'), ('of', 'ADP'), ('mayor', 'NOUN'), ('a', 'DET'), ('joined', 'VERB'), ('0', 'X'), ('$', '.'), ('about', 'ADP'), ('for', 'ADP'), ('its', 'PRON'), ('.', '.'), ('rose', 'VERB'), ('to', 'PRT'), ('hampshire', 'NOUN'), ('irs', 'NOUN'), ('the', 'DET'), ('even', 'ADV'), ('identify', 'VERB'), ('sell', 'VERB'), ('at', 'ADP'), ('0', 'X'), ('the', 'DET'), ('issue', 'NOUN'), ('mortgage-backed', 'ADJ'), ('to', 'PRT'), ('have', 'VERB'), ('bowed', 'VERB'), ('the', 'DET'), ('might', 'VERB'), ('in', 'ADP'), ('the', 'DET'), ('cents', 'NOUN'), ('to', 'PRT'), ('of', 'ADP'), (',', '.'), ('abrupt', 'NOUN'), ('to', 'PRT'), ('13', 'NUM'), ('was', 'VERB'), ('number', 'NOUN'), ('fit', 'NOUN'), ('that', 'ADP'), ('day', 'NOUN'), ('*-59', 'X'), ('president', 'NOUN'), ('.', '.'), (\"'s\", 'PRT'), ('playing', 'VERB'), ('interior', 'NOUN'), ('kids', 'NOUN'), ('dunkin', 'NOUN'), ('*t*-1', 'X'), (\"'s\", 'PRT'), ('sketch', 'NOUN'), ('``', '.'), ('dreamed', 'NOUN'), ('to', 'PRT'), ('do', 'VERB'), (',', '.'), ('at', 'ADP'), ('exchange', 'NOUN'), ('widgets', 'NOUN'), ('sub-markets', 'NOUN'), ('or', 'CONJ'), ('.', '.'), ('*-1', 'X'), ('methods', 'NOUN'), ('days', 'NOUN'), ('who', 'PRON'), (',', '.'), ('creating', 'VERB'), ('$', '.'), ('who', 'PRON'), ('executives', 'NOUN'), ('for', 'ADP'), ('engaged', 'VERB'), ('at', 'ADP'), ('and', 'CONJ'), ('and', 'CONJ'), ('of', 'ADP'), ('*t*-1', 'X'), ('*-1', 'X'), ('further', 'ADJ'), ('92.9', 'NOUN'), (',', '.'), ('of', 'ADP'), ('had', 'VERB'), (',', '.'), ('to', 'PRT'), ('-rcb-', '.'), ('filed', 'VERB'), ('recent', 'ADJ'), ('post', 'NOUN'), ('heating', 'NOUN'), ('offer', 'NOUN'), (';', '.'), ('at', 'ADP'), ('wants', 'VERB'), ('*-1', 'X'), (',', '.'), ('theory', 'NOUN'), ('60', 'NUM'), ('.', '.'), ('ross', 'NOUN'), (',', '.'), ('and', 'CONJ'), ('a', 'DET'), ('.', '.'), ('even', 'ADV'), ('her', 'PRON'), ('rapanelli', 'NOUN'), ('up', 'PRT'), ('we', 'PRON'), ('he', 'PRON'), ('to', 'PRT'), ('.', '.'), (',', '.'), ('breaker', 'NOUN'), ('$', '.'), ('.', '.'), ('--', '.'), ('*t*-1', 'X'), ('terminated', 'VERB'), ('bangkok', 'NOUN'), (',', '.'), ('what', 'PRON'), ('knew', 'VERB'), ('state', 'NOUN'), ('of', 'ADP'), ('business', 'NOUN'), ('*t*-1', 'X'), ('so-called', 'ADJ'), ('it', 'PRON'), ('october', 'NOUN'), ('ways', 'NOUN'), ('*t*-26', 'X'), ('reuter', 'NOUN'), ('24', 'NUM'), ('.', '.'), ('fall', 'NOUN'), ('china', 'NOUN'), ('stand', 'VERB'), ('william', 'NOUN'), ('the', 'DET'), ('to', 'PRT'), ('hermitage', 'NOUN'), ('which', 'DET'), ('*-1', 'X'), ('to', 'PRT'), ('magazine', 'NOUN'), ('budget', 'NOUN'), ('dawn', 'NOUN'), ('squier', 'NOUN'), ('grain', 'NOUN'), ('a', 'DET'), ('sales', 'NOUN'), ('trades', 'NOUN'), ('auto-safety', 'NOUN'), ('she', 'PRON'), ('for', 'ADP'), ('stated', 'VERB'), ('a', 'DET'), ('boy', 'NOUN'), ('f.w.', 'NOUN'), ('program', 'NOUN'), ('co.', 'NOUN'), ('planned', 'VERB'), ('losing', 'VERB'), (',', '.'), ('*-2', 'X'), ('billion', 'NUM'), ('cat', 'NOUN'), ('that', 'ADP'), (\"'\", 'PRT'), (',', '.'), ('hands', 'NOUN'), ('grant', 'NOUN'), ('over', 'ADP'), ('the', 'DET'), ('to', 'PRT'), ('than', 'ADP'), ('*-1', 'X'), ('obligation', 'NOUN'), ('commission', 'NOUN'), ('.', '.'), ('its', 'PRON'), ('term', 'NOUN'), ('have', 'VERB'), ('she', 'PRON'), ('it', 'PRON'), ('his', 'PRON'), (',', '.'), ('american', 'NOUN'), ('in', 'ADP'), ('for', 'ADP'), (\"n't\", 'ADV'), ('numeral', 'NOUN'), ('with', 'ADP'), ('back', 'ADV'), ('been', 'VERB'), ('these', 'DET'), ('run', 'VERB'), ('and', 'CONJ'), ('for', 'ADP'), (\"''\", '.'), ('in', 'ADP'), ('*-1', 'X'), ('0', 'X'), ('though', 'ADP'), ('to', 'PRT'), ('by', 'ADP'), ('workers', 'NOUN'), ('the', 'DET'), ('with', 'ADP'), ('&', 'CONJ'), ('its', 'PRON'), ('$', '.'), ('hurt', 'VERB'), ('over', 'ADP'), ('of', 'ADP'), ('.', '.'), ('on', 'ADP'), (',', '.'), ('a', 'DET'), ('in', 'ADP'), ('company', 'NOUN'), ('only', 'ADV'), ('``', '.'), ('ill.', 'NOUN'), ('containers', 'NOUN'), ('resilient', 'NOUN'), ('that', 'ADP'), ('machinists', 'NOUN'), ('of', 'ADP'), ('before', 'ADP'), ('treasury', 'NOUN'), (':', '.'), ('knowledgeable', 'NOUN'), ('chief', 'NOUN'), ('``', '.'), ('a', 'DET'), ('0', 'X'), ('first', 'ADJ'), ('.', '.'), ('ymca', 'NOUN'), ('jobs', 'NOUN'), ('banks', 'NOUN'), ('any', 'DET'), ('--', '.'), ('volatility', 'NOUN'), ('bottom-line', 'NOUN'), ('latest', 'ADJ'), ('fuel', 'NOUN'), ('was', 'VERB'), ('by', 'ADP'), (',', '.'), (';', '.'), ('would', 'VERB'), ('is', 'VERB'), (\"''\", '.'), ('the', 'DET'), ('to', 'PRT'), ('the', 'DET'), ('angle', 'NOUN'), ('over', 'ADP'), ('are', 'VERB'), ('of', 'ADP'), ('highest', 'ADJ'), (\"'s\", 'PRT'), ('enters', 'VERB'), ('is', 'VERB'), ('funny', 'ADJ'), ('to', 'PRT'), ('new', 'ADJ'), ('*t*-246', 'NOUN'), ('*ich*-2', 'X'), ('the', 'DET'), ('unit', 'NOUN'), (',', '.'), ('down', 'ADV'), ('.', '.'), ('other', 'ADJ'), ('there', 'DET'), ('foot', 'NOUN'), ('.', '.'), ('pretax', 'NOUN'), ('described', 'VERB'), ('48', 'NUM'), ('be', 'VERB'), ('*-1', 'X'), (',', '.'), ('$', '.'), ('a', 'DET'), ('transamerica', 'NOUN'), ('*ppa*-1', 'X'), ('surged', 'VERB'), ('a', 'DET'), ('cents', 'NOUN'), ('be', 'VERB'), ('even', 'ADV'), ('cry', 'NOUN'), ('see', 'VERB'), ('hold', 'VERB'), ('0', 'X'), ('2.80', 'NOUN'), ('we', 'PRON'), ('of', 'ADP'), ('said', 'VERB'), ('complicated', 'ADJ'), ('in', 'ADP'), ('capital', 'NOUN'), ('seems', 'VERB'), ('device', 'NOUN'), ('lower', 'ADJ'), ('coaching', 'NOUN'), ('his', 'PRON'), ('intermediate', 'NOUN'), ('6', 'NUM'), (',', '.'), ('.', '.'), ('steel', 'NOUN'), ('and', 'CONJ'), ('which', 'DET'), ('evenly', 'ADV'), (',', '.'), ('estimated', 'VERB'), ('*t*-49', 'X'), ('random', 'NOUN'), ('kidder', 'NOUN'), (',', '.'), ('markets', 'NOUN'), ('to', 'PRT'), ('also', 'ADV'), ('to', 'PRT'), (',', '.'), ('new', 'ADJ'), ('design', 'NOUN'), ('in', 'ADP'), ('eventually', 'ADV'), ('due', 'ADJ'), ('yesterday', 'NOUN'), ('*', 'X'), ('compound', 'NOUN'), ('*-2', 'X'), ('.', '.'), ('even', 'ADV'), (',', '.'), ('investment', 'NOUN'), ('read', 'VERB'), ('represent', 'VERB'), (';', '.'), ('he', 'PRON'), ('and', 'CONJ'), ('bought', 'VERB'), ('.', '.'), ('0', 'X'), ('president', 'NOUN'), ('on', 'ADP'), ('researchers', 'NOUN'), ('0', 'X'), ('light', 'ADJ'), ('with', 'ADP'), ('more', 'ADJ'), ('way', 'NOUN'), ('inadequate', 'ADJ'), ('next', 'ADJ'), ('risks', 'NOUN'), ('so', 'ADV'), ('sec', 'NOUN'), ('the', 'DET'), ('500', 'NUM'), ('investor', 'NOUN'), ('three', 'NUM'), ('500', 'NUM'), ('in', 'ADP'), ('vindication', 'NOUN'), ('our', 'PRON'), ('a', 'DET'), ('only', 'ADV'), ('*t*-3', 'X'), ('might', 'VERB'), ('programs', 'NOUN'), ('in', 'ADP'), ('*u*', 'X'), ('auction', 'NOUN'), ('restore', 'VERB'), ('number', 'NOUN'), ('high', 'ADJ'), ('nih', 'NOUN'), ('placing', 'VERB'), ('are', 'VERB'), ('out', 'PRT'), ('rules', 'NOUN'), ('1988', 'NUM'), ('of', 'ADP'), ('to', 'PRT'), ('despite', 'ADP'), ('germany', 'NOUN'), ('in', 'ADP'), ('more', 'ADJ'), ('comedies', 'NOUN'), ('landis', 'NOUN'), ('commonwealth', 'NOUN'), ('agents', 'NOUN'), ('programs', 'NOUN'), ('ideas', 'NOUN'), ('back', 'ADV'), ('is', 'VERB'), ('transplants', 'NOUN'), ('is', 'VERB'), ('trader', 'NOUN'), ('investors', 'NOUN'), ('equitable', 'NOUN'), ('were', 'VERB'), ('said', 'VERB'), ('resign', 'NOUN'), ('the', 'DET'), ('whether', 'ADP'), ('new', 'ADJ'), ('reflected', 'VERB'), ('truce', 'NOUN'), ('portfolio', 'NOUN'), ('faulding', 'NOUN'), (',', '.'), ('*-1', 'X'), ('they', 'PRON'), ('the', 'DET'), ('secretary', 'NOUN'), ('limited', 'VERB'), ('came', 'VERB'), ('a', 'DET'), ('south', 'NOUN'), ('ceiling', 'NOUN'), ('$', '.'), ('an', 'DET'), ('is', 'VERB'), ('peter', 'NOUN'), ('*', 'X'), ('an', 'DET'), ('*-1', 'X'), ('potential', 'ADJ'), ('0', 'X'), ('the', 'DET'), (',', '.'), ('luck', 'NOUN'), ('was', 'VERB'), ('has', 'VERB'), ('*', 'X'), ('targets', 'VERB'), ('had', 'VERB'), (',', '.'), (',', '.'), ('out', 'PRT'), ('foster', 'NOUN'), ('on', 'ADP'), ('of', 'ADP'), ('50', 'NUM'), ('anticipated', 'VERB'), ('451', 'NOUN'), ('r.i.', 'NOUN'), ('yen', 'NOUN'), ('was', 'VERB'), ('a', 'DET'), ('.', '.'), ('they', 'PRON'), ('*ich*-2', 'X'), ('the', 'DET'), ('stock-market', 'NOUN'), ('*', 'X'), ('the', 'DET'), ('.', '.'), ('the', 'DET'), ('bidder', 'NOUN'), ('the', 'DET'), ('.', '.'), ('vaccines', 'NOUN'), ('conditional', 'ADJ'), ('gold', 'NOUN'), ('closed', 'VERB'), ('debt', 'NOUN'), ('``', '.'), ('*u*', 'X'), ('.', '.'), (\"'s\", 'PRT'), ('*-2', 'X'), ('london', 'NOUN'), ('england', 'NOUN'), ('computers', 'NOUN'), ('yield', 'VERB'), ('and', 'CONJ'), ('alternatives', 'NOUN'), ('legislation', 'NOUN'), ('.', '.'), ('eurodollars', 'NOUN'), ('borough', 'NOUN'), (',', '.'), ('provides', 'VERB'), ('firm', 'NOUN'), ('bounce', 'NOUN'), ('disagrees', 'NOUN'), ('executives', 'NOUN'), ('*-1', 'X'), ('contel', 'NOUN'), (',', '.'), ('set', 'VERB'), ('electronics', 'NOUN'), ('contracts', 'NOUN'), ('and', 'CONJ'), ('corp.', 'NOUN'), ('and', 'CONJ'), ('indexing', 'NOUN'), ('*-2', 'X'), (',', '.'), ('``', '.'), ('help', 'VERB'), ('attractive', 'ADJ'), ('of', 'ADP'), ('a', 'DET'), ('because', 'ADP'), ('herald', 'NOUN'), ('cars', 'NOUN'), ('oxnard', 'NOUN'), ('0', 'X'), ('you', 'PRON'), (',', '.'), ('herald', 'NOUN'), ('0', 'X'), ('simultaneous', 'NOUN'), ('recently', 'ADV'), ('review', 'NOUN'), ('``', '.'), ('are', 'VERB'), ('japan', 'NOUN'), ('r.', 'NOUN'), ('spirit', 'NOUN'), ('for', 'ADP'), ('hahn', 'NOUN'), ('*t*-1', 'X'), ('the', 'DET'), ('chance', 'NOUN'), ('solid', 'ADJ'), ('has', 'VERB'), ('funds', 'NOUN'), ('strictly', 'NOUN'), ('share', 'NOUN'), ('down', 'ADV'), ('notes', 'NOUN'), ('3.8', 'NUM'), ('the', 'DET'), ('material', 'NOUN'), ('innovative', 'NOUN'), ('for', 'ADP'), (\"'m\", 'VERB'), ('mr.', 'NOUN'), ('america', 'NOUN'), ('be', 'VERB'), (',', '.'), ('to', 'PRT'), ('*-1', 'X'), ('i', 'PRON'), ('shares', 'NOUN'), ('in', 'ADP'), ('that', 'ADP'), ('``', '.'), ('industrial', 'ADJ'), ('*-1', 'X'), ('spending', 'NOUN'), ('to', 'PRT'), ('6,000', 'NUM'), ('learned', 'VERB'), ('*-121', 'NOUN'), ('bills', 'NOUN'), ('either', 'DET'), (\"n't\", 'ADV'), ('they', 'PRON'), ('by', 'ADP'), ('magleby', 'NOUN'), (\"''\", '.'), ('angola', 'NOUN'), ('wilfred', 'NOUN'), ('throughout', 'ADP'), ('in', 'ADP'), ('they', 'PRON'), ('of', 'ADP'), ('0', 'X'), ('financial', 'ADJ'), (',', '.'), ('yen', 'NOUN'), ('the', 'DET'), ('the', 'DET'), ('demand', 'NOUN'), ('words', 'NOUN'), ('to', 'PRT'), ('that', 'ADP'), ('debt', 'NOUN'), ('sometimes', 'ADV'), ('to', 'PRT'), ('big', 'ADJ'), ('similar', 'ADJ'), ('many', 'ADJ'), ('perceives', 'NOUN'), ('more', 'ADJ'), ('basket', 'NOUN'), ('225.6', 'NOUN'), ('bankruptcy', 'NOUN'), ('is', 'VERB'), ('.', '.'), ('as', 'ADP'), ('in', 'ADP'), ('exhaust', 'VERB'), ('manager', 'NOUN'), ('yesterday', 'NOUN'), ('day', 'NOUN'), ('shares', 'NOUN'), ('in', 'ADP'), (',', '.'), ('ftc', 'NOUN'), ('0', 'X'), ('keep', 'VERB'), ('problem', 'NOUN'), (\"'s\", 'PRT'), ('source', 'NOUN'), ('*-1', 'X'), ('it', 'PRON'), ('one', 'NUM'), ('of', 'ADP'), ('a', 'DET'), ('about', 'ADP'), ('increases', 'NOUN'), (',', '.'), (',', '.'), ('already', 'ADV'), ('edison', 'NOUN'), ('one', 'NUM'), ('a', 'DET'), ('said', 'VERB'), ('has', 'VERB'), ('in', 'ADP'), ('would', 'VERB'), ('its', 'PRON'), ('and', 'CONJ'), ('the', 'DET'), ('enough', 'ADV'), ('declare', 'NOUN'), ('850', 'NOUN'), (\"''\", '.'), ('*t*-1', 'X'), ('*u*', 'X'), ('it', 'PRON'), ('dodge', 'NOUN'), ('.', '.'), ('strong', 'ADJ'), ('giant', 'NOUN'), ('but', 'CONJ'), ('11th', 'NOUN'), ('investment', 'NOUN'), ('about', 'ADP'), ('to', 'PRT'), ('1990', 'NUM'), ('stock', 'NOUN'), (',', '.'), ('ec', 'NOUN'), ('that', 'ADP'), ('two', 'NUM'), (',', '.'), ('grant', 'NOUN'), ('million', 'NUM'), ('trust', 'NOUN'), ('a', 'DET'), ('.', '.'), ('really', 'ADV'), (',', '.'), ('superconductors', 'NOUN'), ('completed', 'VERB'), ('sets', 'NOUN'), ('necessarily', 'ADV'), ('appeared', 'VERB'), ('of', 'ADP'), ('record', 'NOUN'), ('new', 'ADJ'), ('unusually', 'ADV'), ('countries', 'NOUN'), ('deadline', 'NOUN'), ('traditional', 'ADJ'), ('grows', 'VERB'), ('beat', 'VERB'), (',', '.'), ('rates', 'NOUN'), ('wilbur', 'NOUN'), ('14.53', 'NOUN'), ('own', 'ADJ'), ('playwright', 'NOUN'), ('thrift', 'NOUN'), ('excess', 'ADJ'), ('torrent', 'NOUN'), ('demise', 'NOUN'), ('pretax', 'NOUN'), ('international', 'NOUN'), ('the', 'DET'), ('to', 'PRT'), ('.', '.'), (\"''\", '.'), ('office', 'NOUN'), ('advice', 'NOUN'), ('1989', 'NUM'), ('have', 'VERB'), ('examined', 'VERB'), ('will', 'VERB'), ('of', 'ADP'), ('--', '.'), (\"'\", 'PRT'), ('were', 'VERB'), (\"'s\", 'PRT'), ('.', '.'), ('higher', 'ADJ'), ('next', 'ADJ'), ('october', 'NOUN'), ('over', 'ADP'), ('new', 'ADJ'), ('america', 'NOUN'), ('.', '.'), ('ban', 'NOUN'), ('in', 'ADP'), ('112.9', 'NOUN'), ('the', 'DET'), ('.', '.'), ('*t*-2', 'X'), ('growing', 'VERB'), ('managing', 'VERB'), (\"'s\", 'PRT'), ('.', '.'), ('run', 'VERB'), ('achievement-test', 'NOUN'), ('arbitrage', 'NOUN'), ('the', 'DET'), ('minimum', 'ADJ'), ('up', 'PRT'), ('that', 'ADP'), ('unfairly', 'ADV'), ('from', 'ADP'), ('is', 'VERB'), ('but', 'CONJ'), ('and', 'CONJ'), ('markets', 'NOUN'), ('the', 'DET'), (',', '.'), ('suspension', 'NOUN'), ('had', 'VERB'), ('some', 'DET'), ('10-day', 'ADJ'), ('fiscal', 'ADJ'), ('and', 'CONJ'), ('dogs', 'NOUN'), (',', '.'), ('significant', 'ADJ'), ('*u*', 'X'), ('with', 'ADP'), ('*', 'X'), ('ago', 'ADP'), ('central', 'ADJ'), ('the', 'DET'), ('described', 'VERB'), ('no', 'DET'), ('0', 'X'), ('$', '.'), ('run', 'VERB'), ('terms', 'NOUN'), ('*-1', 'X'), ('to', 'PRT'), ('30', 'NUM'), ('fed', 'NOUN'), ('ad', 'NOUN'), ('few', 'ADJ'), ('*t*-1', 'X'), ('its', 'PRON'), ('capability', 'NOUN'), ('voice', 'NOUN'), ('even', 'ADV'), ('dealers', 'NOUN'), ('making', 'VERB'), ('said', 'VERB'), ('wall', 'NOUN'), ('the', 'DET'), ('it', 'PRON'), ('for', 'ADP'), ('compared', 'VERB'), ('though', 'ADP'), ('investor', 'NOUN'), ('revival', 'NOUN'), ('set', 'VERB'), ('collected', 'VERB'), ('an', 'DET'), ('.', '.'), ('spreads', 'NOUN'), ('income', 'NOUN'), ('and', 'CONJ'), ('next', 'ADJ'), ('ad', 'NOUN'), ('128', 'NOUN'), ('trucks', 'NOUN'), ('*-1', 'X'), ('he', 'PRON'), ('qualify', 'VERB'), ('receive', 'VERB'), ('mr.', 'NOUN'), ('measure', 'NOUN'), ('for', 'ADP'), ('they', 'PRON'), ('traitor', 'NOUN'), ('talking', 'VERB'), ('the', 'DET'), ('harsh', 'ADJ'), ('``', '.'), ('improve', 'VERB'), ('.', '.'), ('school', 'NOUN'), ('research', 'NOUN'), ('new', 'ADJ'), ('the', 'DET'), ('involving', 'VERB'), ('``', '.'), ('retain', 'VERB'), ('retirement', 'NOUN'), ('madison', 'NOUN'), ('international', 'NOUN'), ('money', 'NOUN'), ('necessary', 'ADJ'), ('.', '.'), ('georgia', 'NOUN'), ('of', 'ADP'), ('that', 'ADP'), ('in', 'ADP'), ('*', 'X'), ('wide', 'ADJ'), ('a', 'DET'), ('spurring', 'NOUN'), ('the', 'DET'), ('significant', 'ADJ'), ('51', 'NUM'), ('to', 'PRT'), ('.', '.'), ('.', '.'), (',', '.'), ('need', 'VERB'), ('from', 'ADP'), ('continuing', 'VERB'), ('and', 'CONJ'), ('ward', 'NOUN'), ('dividends', 'NOUN'), ('or', 'CONJ'), ('fired', 'VERB'), ('ward', 'NOUN'), ('rep.', 'NOUN'), ('on', 'ADP'), ('a', 'DET'), ('haven', 'NOUN'), ('first', 'ADJ'), ('higher', 'ADJ'), ('we', 'PRON'), ('and', 'CONJ'), ('year', 'NOUN'), ('teachers', 'NOUN'), ('its', 'PRON'), ('its', 'PRON'), (',', '.'), ('much', 'ADV'), ('washington', 'NOUN'), ('of', 'ADP'), ('ultimately', 'ADV'), ('they', 'PRON'), ('declines', 'NOUN'), ('street', 'NOUN'), ('.', '.'), ('indexes', 'NOUN'), ('*t*-24', 'X'), ('aggressively', 'ADV'), (',', '.'), ('it', 'PRON'), ('.', '.'), ('the', 'DET'), ('as', 'ADP'), ('in', 'ADP'), (',', '.'), (\"n't\", 'ADV'), ('ford', 'NOUN'), ('.', '.'), ('performing', 'VERB'), ('to', 'PRT'), ('the', 'DET'), ('as', 'ADP'), ('3\\\\/4', 'NUM'), ('spokesman', 'NOUN'), ('of', 'ADP'), ('of', 'ADP'), ('saying', 'VERB'), (',', '.'), ('rebuilding', 'NOUN'), ('very', 'ADV'), ('and', 'CONJ'), ('with', 'ADP'), (',', '.'), ('list', 'NOUN'), (\"n't\", 'ADV'), ('but', 'CONJ'), ('parties', 'NOUN'), ('common', 'ADJ'), ('these', 'DET'), ('*-1', 'X'), ('the', 'DET'), ('that', 'ADP'), ('*t*-3', 'X'), ('.', '.'), ('folks', 'NOUN'), ('if', 'ADP'), ('computer', 'NOUN'), ('skittishness', 'NOUN'), ('the', 'DET'), ('sphere', 'NOUN'), ('.', '.'), ('been', 'VERB'), ('a', 'DET'), ('work', 'NOUN'), ('$', '.'), ('him', 'PRON'), ('into', 'ADP'), ('in', 'ADP'), ('parent', 'NOUN'), ('long', 'ADJ'), ('third', 'ADJ'), ('%', 'NOUN'), ('the', 'DET'), ('value', 'NOUN'), ('*-2', 'X'), ('that', 'ADP'), ('and', 'CONJ'), ('redeemed', 'VERB'), ('of', 'ADP'), ('.', '.'), ('court', 'NOUN'), ('has', 'VERB'), ('funding', 'NOUN'), ('of', 'ADP'), ('indicated', 'VERB'), ('trade', 'NOUN'), ('signifying', 'NOUN'), ('labor', 'NOUN'), ('to', 'PRT'), ('stake', 'NOUN'), ('176', 'NOUN'), ('full', 'ADJ'), ('program', 'NOUN'), ('sectors', 'NOUN'), ('besuboru', 'NOUN'), ('that', 'ADP'), ('younkers', 'NOUN'), ('sony', 'NOUN'), ('into', 'ADP'), ('in', 'ADP'), ('with', 'ADP'), ('--', '.'), ('the', 'DET'), ('%', 'NOUN'), ('51', 'NUM'), ('the', 'DET'), ('plastic', 'ADJ'), ('is', 'VERB'), ('frozen', 'VERB'), ('ballpark', 'NOUN'), ('and', 'CONJ'), ('the', 'DET'), ('0', 'X'), ('.', '.'), ('the', 'DET'), ('other', 'ADJ'), ('increase', 'NOUN'), ('particular', 'ADJ'), ('of', 'ADP'), ('that', 'ADP'), ('nations', 'NOUN'), ('well-known', 'ADJ'), ('for', 'ADP'), ('department', 'NOUN'), ('sounded', 'VERB'), ('signing', 'VERB'), ('in', 'ADP'), ('chinese', 'ADJ'), ('young', 'ADJ'), (',', '.'), ('strength', 'NOUN'), ('*t*-1', 'X'), ('as', 'ADP'), ('self', 'NOUN'), ('he', 'PRON'), (\"'s\", 'PRT'), ('by', 'ADP'), ('vitulli', 'NOUN'), ('had', 'VERB'), (';', '.'), ('the', 'DET'), ('said', 'VERB'), ('market', 'NOUN'), ('taken', 'VERB'), ('and', 'CONJ'), (',', '.'), ('in', 'ADP'), ('is', 'VERB'), ('2', 'NUM'), ('have', 'VERB'), ('director', 'NOUN'), ('do', 'VERB'), ('have', 'VERB'), ('--', '.'), ('wine', 'NOUN'), ('-rrb-', '.'), ('will', 'VERB'), ('sonnett', 'NOUN'), ('interpretation', 'NOUN'), ('it', 'PRON'), ('story', 'NOUN'), ('industrial', 'ADJ'), ('the', 'DET'), ('cabernet', 'NOUN'), ('.', '.'), ('big', 'ADJ'), ('*u*', 'X'), ('``', '.'), ('massachusetts', 'NOUN'), ('own', 'ADJ'), ('business', 'NOUN'), (',', '.'), ('china', 'NOUN'), ('thrift', 'NOUN'), (\"''\", '.'), ('which', 'DET'), ('members', 'NOUN'), ('of', 'ADP'), ('to', 'PRT'), (',', '.'), ('0', 'X'), ('corp.', 'NOUN'), ('the', 'DET'), ('go', 'VERB'), ('shares', 'NOUN'), ('2,500', 'NUM'), ('and', 'CONJ'), ('things', 'NOUN'), ('a', 'DET'), ('18', 'NUM'), ('addition', 'NOUN'), (',', '.'), ('are', 'VERB'), ('%', 'NOUN'), ('are', 'VERB'), ('the', 'DET'), ('could', 'VERB'), ('his', 'PRON'), ('in', 'ADP'), ('delivery', 'NOUN'), ('*t*-1', 'X'), ('inventor', 'NOUN'), ('roll', 'NOUN'), ('0', 'X'), ('that', 'ADP'), ('so', 'ADV'), ('the', 'DET'), ('executive', 'NOUN'), ('company', 'NOUN'), ('provision', 'NOUN'), ('at', 'ADP'), ('of', 'ADP'), ('*-2', 'X'), ('says', 'VERB'), ('ownership', 'NOUN'), ('weaker', 'ADJ'), ('year', 'NOUN'), ('%', 'NOUN'), ('it', 'PRON'), ('administrator', 'NOUN'), ('memorize', 'NOUN'), ('information', 'NOUN'), ('recent', 'ADJ'), ('the', 'DET'), ('of', 'ADP'), ('.', '.'), ('*?*', 'X'), ('--', '.'), ('unsecured', 'ADJ'), ('45', 'NUM'), ('and', 'CONJ'), (',', '.'), ('independent', 'ADJ'), (\"'re\", 'VERB'), ('the', 'DET'), ('idea', 'NOUN'), ('la', 'NOUN'), ('180', 'NUM'), ('signal', 'NOUN'), ('for', 'ADP'), (\"n't\", 'ADV'), ('company', 'NOUN'), ('about', 'ADP'), ('the', 'DET'), ('less', 'ADJ'), ('bureaucracy', 'NOUN'), ('officials', 'NOUN'), ('in', 'ADP'), ('of', 'ADP'), ('the', 'DET'), ('*t*-220', 'NOUN'), ('or', 'CONJ'), ('corp', 'NOUN'), ('*-2', 'X'), ('traders', 'NOUN'), ('*t*-48', 'X'), ('donuts', 'NOUN'), ('same', 'ADJ'), ('the', 'DET'), ('the', 'DET'), ('veto', 'NOUN'), (',', '.'), ('it', 'PRON'), ('like', 'ADP'), ('interrogation', 'NOUN'), ('georgia', 'NOUN'), ('be', 'VERB'), ('consensus', 'NOUN'), ('high', 'ADJ'), ('women', 'NOUN'), ('are', 'VERB'), ('commerce', 'NOUN'), ('pcs', 'NOUN'), ('watchers', 'NOUN'), ('tire', 'NOUN'), ('durable-goods', 'NOUN'), ('a', 'DET'), ('be', 'VERB'), ('fighting', 'VERB'), ('into', 'ADP'), ('comprehensive', 'NOUN'), ('with', 'ADP'), ('get', 'VERB'), ('.', '.'), ('the', 'DET'), ('as', 'ADP'), (\"''\", '.'), ('lawyers', 'NOUN'), ('trading', 'NOUN'), ('the', 'DET'), (\"''\", '.'), ('to', 'PRT'), ('launched', 'VERB'), ('often', 'ADV'), ('bribery', 'NOUN'), ('of', 'ADP'), ('*u*', 'X'), ('the', 'DET'), ('products', 'NOUN'), ('and', 'CONJ'), ('age', 'NOUN'), ('*t*-3', 'X'), ('in', 'ADP'), ('crops', 'NOUN'), ('carnival', 'NOUN'), ('*-3', 'X'), ('needed', 'VERB'), ('force', 'NOUN'), ('*u*', 'X'), ('it', 'PRON'), ('0', 'X'), ('hampshire', 'NOUN'), ('thousands', 'NOUN'), ('same', 'ADJ'), ('approved', 'VERB'), ('the', 'DET'), ('*', 'X'), ('*-1', 'X'), ('for', 'ADP'), ('but', 'CONJ'), ('it', 'PRON'), ('than', 'ADP'), ('successfully', 'NOUN'), ('after', 'ADP'), ('able', 'ADJ'), ('ohio', 'NOUN'), ('retail', 'ADJ'), ('40', 'NUM'), ('stronger', 'ADJ'), ('furniture', 'NOUN'), ('the', 'DET'), ('never', 'ADV'), ('says', 'VERB'), ('in', 'ADP'), ('years', 'NOUN'), ('speed', 'NOUN'), ('corporate', 'ADJ'), ('0', 'X'), ('assisted', 'NOUN'), ('chemical', 'NOUN'), ('by', 'ADP'), ('--', '.'), ('czechoslovakia', 'NOUN'), ('hearst', 'NOUN'), ('it', 'PRON'), ('118', 'NUM'), (',', '.'), ('in', 'ADP'), ('and', 'CONJ'), ('operations', 'NOUN'), ('card', 'NOUN'), ('.', '.'), ('of', 'ADP'), ('1.64', 'NUM'), ('comment', 'NOUN'), ('absurd', 'NOUN'), ('yet', 'ADV'), ('of', 'ADP'), (',', '.'), ('sought', 'VERB'), ('the', 'DET'), ('*rnr*-4', 'X'), ('they', 'PRON'), ('.', '.'), (\"'s\", 'PRT'), ('irvine', 'NOUN'), ('white', 'NOUN'), ('for', 'ADP'), ('fiscal', 'ADJ'), (';', '.'), ('$', '.'), ('next', 'ADJ'), ('up', 'PRT'), ('investors', 'NOUN'), ('10', 'NUM'), ('a', 'DET'), ('``', '.'), ('acquired', 'VERB'), ('from', 'ADP'), ('malignant', 'NOUN'), ('outside', 'ADJ'), (',', '.'), ('this', 'DET'), ('reuters', 'NOUN'), ('considerable', 'ADJ'), ('*t*-2', 'X'), ('8.07', 'NUM'), ('is', 'VERB'), ('mcdermott', 'NOUN'), ('.', '.'), ('as', 'ADP'), ('consideration', 'NOUN'), ('our', 'PRON'), ('a', 'DET'), ('research', 'NOUN'), ('to', 'PRT'), ('in', 'ADP'), ('president', 'NOUN'), ('contract', 'NOUN'), ('march', 'NOUN'), (',', '.'), ('lives', 'NOUN'), ('side', 'NOUN'), ('.', '.'), ('by', 'ADP'), ('the', 'DET'), ('a', 'DET'), ('13.8', 'NUM'), ('.', '.'), (',', '.'), ('bank', 'NOUN'), ('tribe', 'NOUN'), (',', '.'), ('since', 'ADP'), ('*t*-2', 'X'), ('in', 'ADP'), ('which', 'DET'), ('they', 'PRON'), (\"''\", '.'), ('a', 'DET'), ('*-1', 'X'), ('tower', 'NOUN'), ('the', 'DET'), ('has', 'VERB'), ('combined', 'VERB'), ('these', 'DET'), ('rash', 'NOUN'), ('to', 'PRT'), ('*-2', 'X'), ('43', 'NUM'), ('earnings', 'NOUN'), ('maker', 'NOUN'), ('the', 'DET'), ('according', 'VERB'), ('a', 'DET'), ('for', 'ADP'), ('.', '.'), ('megabytes', 'NOUN'), ('called', 'VERB'), ('the', 'DET'), ('and', 'CONJ'), ('*t*-77', 'NOUN'), ('homelessness', 'NOUN'), ('mrs.', 'NOUN'), ('waiver', 'NOUN'), ('some', 'DET'), ('continue', 'VERB'), ('interest', 'NOUN'), ('prove', 'VERB'), ('meeting', 'NOUN'), ('the', 'DET'), ('denouncing', 'VERB'), ('*-1', 'X'), ('a', 'DET'), ('ceiling', 'NOUN'), ('be', 'VERB'), ('62%-owned', 'ADJ'), ('if', 'ADP'), ('all', 'DET'), ('discussions', 'NOUN'), ('of', 'ADP'), ('valuation', 'NOUN'), ('*-3', 'X'), ('real-estate', 'NOUN'), (',', '.'), ('as', 'ADP'), ('become', 'VERB'), ('of', 'ADP'), ('a', 'DET'), ('securities', 'NOUN'), ('requirements', 'NOUN'), ('*', 'X'), ('under', 'ADP'), ('*', 'X'), ('in', 'ADP'), ('pleased', 'VERB'), ('individual', 'ADJ'), ('u.s.', 'NOUN'), (\"''\", '.'), ('``', '.'), ('0', 'X'), ('an', 'DET'), ('0', 'X'), ('concerns', 'NOUN'), ('.', '.'), ('hard', 'ADJ'), (\"''\", '.'), ('*t*-1', 'X'), ('2019', 'NUM'), ('the', 'DET'), ('get', 'VERB'), ('executives', 'NOUN'), ('cutting', 'VERB'), ('the', 'DET'), ('%', 'NOUN'), ('treasury', 'NOUN'), ('capital', 'NOUN'), ('by', 'ADP'), ('markets', 'NOUN'), ('of', 'ADP'), ('iii', 'NOUN'), ('500', 'NUM'), ('to', 'PRT'), ('j.l.', 'NOUN'), ('said', 'VERB'), ('sports', 'NOUN'), ('first', 'ADJ'), ('say', 'VERB'), ('a', 'DET'), ('of', 'ADP'), ('proposing', 'VERB'), ('own', 'ADJ'), ('days', 'NOUN'), ('crunch', 'NOUN'), ('.', '.'), ('in', 'ADP'), ('would', 'VERB'), ('*-61', 'X'), ('4.4', 'NUM'), ('year', 'NOUN'), ('the', 'DET'), ('out', 'PRT'), ('*t*-1', 'X'), ('england', 'NOUN'), ('rising', 'VERB'), ('way', 'NOUN'), ('upjohn', 'NOUN'), (',', '.'), ('that', 'ADP'), ('demand', 'NOUN'), ('the', 'DET'), ('in', 'ADP'), ('swallow', 'NOUN'), (',', '.'), ('current-carrying', 'ADJ'), ('the', 'DET'), ('that', 'ADP'), (',', '.'), ('98.3', 'NOUN'), ('says', 'VERB'), ('were', 'VERB'), (',', '.'), ('on', 'ADP'), ('make', 'VERB'), ('.', '.'), ('opposition', 'NOUN'), ('more', 'ADJ'), ('cast-iron', 'NOUN'), ('long', 'ADJ'), ('found', 'VERB'), ('.', '.'), ('tuesday', 'NOUN'), ('``', '.'), ('of', 'ADP'), ('of', 'ADP'), ('new', 'ADJ'), ('said', 'VERB'), ('say', 'VERB'), ('that', 'ADP'), ('swiftly', 'ADV'), ('thrift', 'NOUN'), ('mae', 'NOUN'), ('full', 'ADJ'), ('here', 'ADV'), ('about', 'ADP'), ('as', 'ADP'), ('print', 'VERB'), ('139', 'NOUN'), ('morning', 'NOUN'), ('to', 'PRT'), ('wafa', 'NOUN'), (\"'s\", 'PRT'), ('dexterity', 'NOUN'), ('a', 'DET'), ('from', 'ADP'), ('the', 'DET'), ('compared', 'VERB'), ('$', '.'), ('its', 'PRON'), ('professional', 'ADJ'), ('compromise', 'NOUN'), ('formed', 'VERB'), ('.', '.'), ('health', 'NOUN'), ('``', '.'), ('farmers', 'NOUN'), ('pay', 'VERB'), ('insurance-company', 'NOUN'), (',', '.'), ('builders', 'NOUN'), ('*', 'X'), ('billion', 'NUM'), ('france', 'NOUN'), ('critics', 'NOUN'), ('*', 'X'), ('view', 'NOUN'), ('through', 'ADP'), ('these', 'DET'), ('duties', 'NOUN'), ('the', 'DET'), ('evidence', 'NOUN'), ('international', 'NOUN'), ('assets', 'NOUN'), (',', '.'), (',', '.'), ('a', 'DET'), ('%', 'NOUN'), ('how', 'ADV'), ('*', 'X'), ('common', 'ADJ'), ('to', 'PRT'), ('a', 'DET'), ('*-2', 'X'), ('income', 'NOUN'), ('chief', 'NOUN'), ('in', 'ADP'), ('to', 'PRT'), ('skin', 'NOUN'), ('of', 'ADP'), ('the', 'DET'), ('for', 'ADP'), ('an', 'DET'), ('net', 'ADJ'), ('to', 'PRT'), ('*u*', 'X'), (',', '.'), ('veto', 'NOUN'), ('italian', 'ADJ'), ('yellow', 'NOUN'), ('*-1', 'X'), ('for', 'ADP'), ('father-in-law', 'NOUN'), ('450', 'NUM'), ('initiative', 'NOUN'), ('rose', 'VERB'), ('negus', 'NOUN'), ('to', 'PRT'), ('account', 'NOUN'), ('funds', 'NOUN'), ('very', 'ADV'), ('rate', 'NOUN'), ('six-bottle', 'NOUN'), ('one', 'NUM'), (',', '.'), ('systems', 'NOUN'), ('size', 'NOUN'), ('both', 'DET'), ('of', 'ADP'), ('0', 'X'), ('quips', 'NOUN'), ('it', 'PRON'), (',', '.'), ('fully', 'ADV'), ('softening', 'VERB'), ('are', 'VERB'), ('before', 'ADP'), (',', '.'), ('a', 'DET'), ('big', 'ADJ'), ('the', 'DET'), ('net', 'ADJ'), ('railcars', 'NOUN'), ('burnham', 'NOUN'), ('an', 'DET'), ('.', '.'), ('$', '.'), ('not', 'ADV'), ('$', '.'), ('and', 'CONJ'), ('and', 'CONJ'), ('*t*-127', 'NOUN'), ('said', 'VERB'), (\"'s\", 'PRT'), ('automobile', 'NOUN'), ('*-1', 'X'), ('71', 'NUM'), ('for', 'ADP'), ('said', 'VERB'), ('markets', 'NOUN'), ('continued', 'VERB'), ('and', 'CONJ'), ('0', 'X'), ('market', 'NOUN'), ('posing', 'NOUN'), ('900', 'NUM'), ('in', 'ADP'), ('a', 'DET'), ('japan', 'NOUN'), ('a', 'DET'), ('monthly', 'ADJ'), ('*t*-1', 'X'), ('highly', 'ADV'), ('make', 'VERB'), ('400', 'NUM'), ('*', 'X'), (',', '.'), ('only', 'ADV'), ('their', 'PRON'), ('holds', 'VERB'), ('should', 'VERB'), ('however', 'ADV'), ('third-quarter', 'NOUN'), ('would', 'VERB'), ('are', 'VERB'), ('key', 'ADJ'), ('year', 'NOUN'), ('cab', 'NOUN'), ('prizes', 'NOUN'), ('this', 'DET'), ('yeargin', 'NOUN'), ('by', 'ADP'), ('this', 'DET'), ('debt', 'NOUN'), ('to', 'PRT'), ('nederlanden', 'NOUN'), ('of', 'ADP'), ('*-2', 'X'), ('.', '.'), ('held', 'VERB'), ('be', 'VERB'), ('2.07', 'NOUN'), ('pardus', 'NOUN'), ('magazine', 'NOUN'), ('begin', 'VERB'), ('caused', 'VERB'), ('$', '.'), ('while', 'ADP'), ('is', 'VERB'), ('from', 'ADP'), ('for', 'ADP'), ('marching', 'VERB'), ('photographs', 'NOUN'), ('losing', 'VERB'), ('by', 'ADP'), ('mental', 'ADJ'), ('treasury', 'NOUN'), ('*', 'X'), ('on', 'ADP'), ('had', 'VERB'), ('plants', 'NOUN'), ('we', 'PRON'), ('the', 'DET'), ('the', 'DET'), ('craze', 'NOUN'), (',', '.'), ('at', 'ADP'), ('stock', 'NOUN'), ('trade', 'NOUN'), ('0.0085', 'NOUN'), ('inspirational', 'NOUN'), ('high', 'ADJ'), ('mr.', 'NOUN'), ('chase', 'NOUN'), (',', '.'), (',', '.'), ('nation', 'NOUN'), (\"'\", 'PRT'), ('hours', 'NOUN'), ('can', 'VERB'), ('its', 'PRON'), (',', '.'), ('.', '.'), ('not', 'ADV'), ('*-4', 'X'), ('which', 'DET'), ('market', 'NOUN'), ('have', 'VERB'), ('than', 'ADP'), ('their', 'PRON'), ('had', 'VERB'), ('say', 'VERB'), ('their', 'PRON'), ('aware', 'ADJ'), ('paying', 'VERB'), ('bell', 'NOUN'), ('quite', 'ADV'), (\"'s\", 'PRT'), ('.', '.'), ('*-2', 'X'), ('commitment', 'NOUN'), ('involving', 'VERB'), ('who', 'PRON'), ('ended', 'VERB'), ('was', 'VERB'), ('excess', 'ADJ'), ('nationwide', 'ADJ'), ('of', 'ADP'), ('programs', 'NOUN'), ('proposal', 'NOUN'), ('1', 'NUM'), ('effective', 'ADJ'), (',', '.'), ('had', 'VERB'), ('.', '.'), ('were', 'VERB'), ('which', 'DET'), ('of', 'ADP'), ('397', 'NOUN'), ('57.50', 'NUM'), ('0', 'X'), ('*-1', 'X'), ('exchange', 'NOUN'), ('for', 'ADP'), ('license', 'VERB'), (',', '.'), ('father', 'NOUN'), ('to', 'PRT'), ('for', 'ADP'), ('bells', 'NOUN'), ('expected', 'VERB'), ('a', 'DET'), ('$', '.'), ('safe-deposit', 'NOUN'), ('263.07', 'NOUN'), ('vs.', 'CONJ'), (',', '.'), ('one', 'NUM'), ('the', 'DET'), ('bottom', 'NOUN'), ('months', 'NOUN'), ('pickens', 'NOUN'), ('apparently', 'ADV'), ('would', 'VERB'), ('stores', 'NOUN'), ('kent', 'NOUN'), ('.', '.'), ('rather', 'ADV'), ('*', 'X'), ('the', 'DET'), ('sending', 'VERB'), ('to', 'PRT'), ('however', 'ADV'), ('raised', 'VERB'), ('.', '.'), ('he', 'PRON'), ('applications', 'NOUN'), ('over', 'ADP'), ('it', 'PRON'), ('-lrb-', '.'), ('state', 'NOUN'), ('returns', 'NOUN'), (',', '.'), ('many', 'ADJ'), ('up', 'PRT'), ('*u*', 'X'), ('according', 'VERB'), ('that', 'ADP'), ('may', 'VERB'), ('undergoing', 'NOUN'), (\"'s\", 'PRT'), ('demand', 'NOUN'), ('in', 'ADP'), ('*-88', 'NOUN'), ('england', 'NOUN'), ('*-1', 'X'), ('impression', 'NOUN'), ('supply', 'NOUN'), ('the', 'DET'), ('as', 'ADP'), (',', '.'), ('michael', 'NOUN'), ('but', 'CONJ'), ('later', 'ADJ'), ('i', 'PRON'), ('mcgovern', 'NOUN'), ('commission', 'NOUN'), ('is', 'VERB'), ('increase', 'NOUN'), ('the', 'DET'), ('that', 'ADP'), ('0', 'X'), ('than', 'ADP'), ('0', 'X'), ('exxon', 'NOUN'), ('course', 'NOUN'), ('plants', 'NOUN'), ('del', 'NOUN'), ('pay', 'VERB'), (',', '.'), ('oct.', 'NOUN'), (',', '.'), ('blood', 'NOUN'), ('but', 'CONJ'), ('5\\\\/8', 'NUM'), ('hosted', 'NOUN'), (',', '.'), ('william', 'NOUN'), ('were', 'VERB'), (',', '.'), ('0', 'X'), ('appeals', 'NOUN'), ('april', 'NOUN'), ('even', 'ADV'), ('to', 'PRT'), ('part', 'NOUN'), ('of', 'ADP'), ('roland', 'NOUN'), ('.', '.'), ('preston', 'NOUN'), ('partner', 'NOUN'), ('health', 'NOUN'), ('of', 'ADP'), ('jr.', 'NOUN'), ('44', 'NUM'), ('medical', 'ADJ'), (',', '.'), ('one-third', 'NOUN'), ('1\\\\/4', 'NUM'), ('such', 'ADJ'), ('the', 'DET'), ('crop', 'NOUN'), ('client', 'NOUN'), ('that', 'ADP'), ('wilder', 'NOUN'), ('mr.', 'NOUN'), ('the', 'DET'), (':', '.'), ('peals', 'NOUN'), ('different', 'ADJ'), ('avert', 'NOUN'), (\"'s\", 'PRT'), ('in', 'ADP'), ('u.s.', 'NOUN'), ('a', 'DET'), ('district', 'NOUN'), (\"''\", '.'), ('.', '.'), (\"''\", '.'), ('of', 'ADP'), ('medium-sized', 'ADJ'), ('other', 'ADJ'), ('billion', 'NUM'), ('asia', 'NOUN'), ('that', 'ADP'), (',', '.'), ('grace', 'NOUN'), ('*-2', 'X'), ('expected', 'VERB'), ('fairly', 'ADV'), ('it', 'PRON'), ('from', 'ADP'), ('has', 'VERB'), ('international', 'NOUN'), ('wolf', 'NOUN'), (\"''\", '.'), ('*u*', 'X'), ('of', 'ADP'), ('they', 'PRON'), ('a', 'DET'), ('his', 'PRON'), ('in', 'ADP'), ('.', '.'), ('it', 'PRON'), ('for', 'ADP'), ('this', 'DET'), ('long-term', 'ADJ'), ('.', '.'), ('there', 'DET'), ('are', 'VERB'), ('officers', 'NOUN'), ('classics', 'NOUN'), (\"''\", '.'), ('for', 'ADP'), ('to', 'PRT'), ('problems', 'NOUN'), ('chemicals', 'NOUN'), ('a', 'DET'), ('is', 'VERB'), (',', '.'), ('himself', 'PRON'), ('.', '.'), ('the', 'DET'), ('slow', 'VERB'), ('.', '.'), ('long', 'ADJ'), ('only', 'ADV'), ('as', 'ADP'), ('the', 'DET'), ('of', 'ADP'), ('near', 'ADP'), (',', '.'), ('protest', 'NOUN'), (',', '.'), ('shares', 'NOUN'), ('lewis', 'NOUN'), ('and', 'CONJ'), ('market', 'NOUN'), ('*-2', 'X'), ('voters', 'NOUN'), ('forced', 'VERB'), ('*t*-117', 'NOUN'), ('make', 'VERB'), ('``', '.'), ('quarterly', 'ADJ'), (',', '.'), ('investment', 'NOUN'), ('on', 'ADP'), ('strong', 'ADJ'), ('than', 'ADP'), ('mixed', 'VERB'), ('if', 'ADP'), ('%', 'NOUN'), (',', '.'), ('grace', 'NOUN'), ('putting', 'VERB'), ('.', '.'), ('company', 'NOUN'), ('said', 'VERB'), ('*t*-1', 'X'), ('calder', 'NOUN'), ('the', 'DET'), ('swings', 'NOUN'), ('its', 'PRON'), (',', '.'), ('buyer', 'NOUN'), ('*t*-1', 'X'), ('gyrate', 'NOUN'), ('cases', 'NOUN'), ('0', 'X'), ('it', 'PRON'), ('as', 'ADP'), ('losses', 'NOUN'), ('a', 'DET'), ('construction', 'NOUN'), ('?', '.'), ('47.125', 'NUM'), ('in', 'ADP'), ('*t*-1', 'X'), ('court', 'NOUN'), ('service', 'NOUN'), ('can', 'VERB'), ('both', 'DET'), ('offset', 'VERB'), ('print', 'VERB'), ('*', 'X'), ('publishing', 'NOUN'), ('1990', 'NUM'), ('development', 'NOUN'), ('is', 'VERB'), ('most', 'ADJ'), ('could', 'VERB'), ('holding', 'VERB'), ('with', 'ADP'), ('standard', 'NOUN'), ('disputes', 'NOUN'), ('york', 'NOUN'), (\"'s\", 'PRT'), ('.', '.'), ('and', 'CONJ'), ('serial', 'NOUN'), ('been', 'VERB'), ('in', 'ADP'), ('via', 'ADP'), ('an', 'DET'), ('``', '.'), (\"n't\", 'ADV'), ('investor', 'NOUN'), ('magazine', 'NOUN'), ('market', 'NOUN'), (',', '.'), ('at', 'ADP'), ('a', 'DET'), ('``', '.'), ('spending', 'NOUN'), (',', '.'), ('the', 'DET'), ('traders', 'NOUN'), ('circle', 'NOUN'), (',', '.'), ('coming', 'VERB'), ('the', 'DET'), ('proposed', 'VERB'), ('businessman', 'NOUN'), ('the', 'DET'), ('the', 'DET'), ('money-center', 'NOUN'), ('trade', 'NOUN'), (',', '.'), ('real', 'ADJ'), ('$', '.'), ('dollars', 'NOUN'), ('can', 'VERB'), (',', '.'), ('earnings', 'NOUN'), ('the', 'DET'), ('daily', 'ADJ'), ('health', 'NOUN'), ('adviser', 'NOUN'), ('moderate', 'ADJ'), ('stock', 'NOUN'), ('around', 'ADP'), ('the', 'DET'), ('a', 'DET'), ('he', 'PRON'), ('million', 'NUM'), ('believe', 'VERB'), ('merely', 'ADV'), ('.', '.'), (',', '.'), ('regions', 'NOUN'), ('reuters', 'NOUN'), ('testing', 'NOUN'), ('own', 'ADJ'), ('billion', 'NUM'), ('.', '.'), ('bilateral', 'ADJ'), ('risk', 'NOUN'), ('3.5', 'NUM'), ('an', 'DET'), ('a', 'DET'), ('or', 'CONJ'), (\"'s\", 'PRT'), ('to', 'PRT'), ('marks', 'NOUN'), (\"'s\", 'PRT'), ('own', 'ADJ'), ('sales', 'NOUN'), ('called', 'VERB'), ('control', 'NOUN'), ('of', 'ADP'), (',', '.'), ('of', 'ADP'), ('its', 'PRON'), ('to', 'PRT'), ('the', 'DET'), ('the', 'DET'), ('potential', 'ADJ'), ('in', 'ADP'), ('900', 'NUM'), ('the', 'DET'), ('.', '.'), ('-rrb-', '.'), ('stocks', 'NOUN'), (',', '.'), ('the', 'DET'), ('traders', 'NOUN'), ('inquiry', 'NOUN'), ('*', 'X'), ('my', 'PRON'), ('500', 'NUM'), ('continue', 'VERB'), (',', '.'), ('old', 'ADJ'), ('turn', 'VERB'), ('mitsubishi', 'NOUN'), ('securities', 'NOUN'), ('sacrifice', 'NOUN'), ('thrift', 'NOUN'), ('baum', 'NOUN'), ('in', 'ADP'), ('together', 'ADV'), ('trading', 'NOUN'), (\"''\", '.'), ('supply', 'NOUN'), ('england', 'NOUN'), ('--', '.'), ('co.', 'NOUN'), ('many', 'ADJ'), ('i', 'PRON'), ('$', '.'), ('*t*-1', 'X'), ('of', 'ADP'), ('high', 'ADJ'), ('.', '.'), ('spending', 'NOUN'), ('of', 'ADP'), (';', '.'), ('anything', 'NOUN'), ('.', '.'), ('.', '.'), ('as', 'ADP'), ('expense', 'NOUN'), ('oy', 'NOUN'), ('here', 'ADV'), ('and', 'CONJ'), ('fellow', 'ADJ'), ('he', 'PRON'), ('time', 'NOUN'), ('business', 'NOUN'), ('functioning', 'NOUN'), ('losses', 'NOUN'), ('*-1', 'X'), ('wine', 'NOUN'), ('3', 'NUM'), ('.', '.'), ('first', 'ADJ'), ('continue', 'VERB'), ('elsevier', 'NOUN'), ('%', 'NOUN'), ('some', 'DET'), ('months', 'NOUN'), ('was', 'VERB'), ('from', 'ADP'), ('a', 'DET'), ('1,400', 'NOUN'), ('payments', 'NOUN'), ('might', 'VERB'), ('of', 'ADP'), ('*ich*-1', 'X'), ('stake', 'NOUN'), ('the', 'DET'), ('.', '.'), ('assets', 'NOUN'), ('to', 'PRT'), (',', '.'), ('from', 'ADP'), ('began', 'VERB'), ('finance', 'NOUN'), ('and', 'CONJ'), ('9', 'NUM'), ('the', 'DET'), ('*t*-1', 'X'), ('0', 'X'), ('at', 'ADP'), ('industry', 'NOUN'), ('and', 'CONJ'), ('probably', 'ADV'), ('.', '.'), ('widely', 'ADV'), ('which', 'DET'), ('.', '.'), ('and', 'CONJ'), ('say', 'VERB'), ('who', 'PRON'), ('television', 'NOUN'), ('new', 'ADJ'), ('20', 'NUM'), ('a', 'DET'), ('.', '.'), (',', '.'), ('%', 'NOUN'), ('*t*-1', 'X'), ('year', 'NOUN'), ('*', 'X'), (',', '.'), ('maker', 'NOUN'), ('15', 'NUM'), ('has', 'VERB'), (\"'re\", 'VERB'), ('referring', 'NOUN'), ('sen.', 'NOUN'), ('week', 'NOUN'), ('twin', 'NOUN'), ('*ich*-1', 'X'), ('by', 'ADP'), ('as', 'ADP'), ('education', 'NOUN'), ('workers', 'NOUN'), ('*-1', 'X'), ('rewarding', 'NOUN'), ('japanese', 'ADJ'), ('once', 'ADV'), ('earlier', 'ADJ'), ('$', '.'), ('at', 'ADP'), ('been', 'VERB'), ('%', 'NOUN'), ('the', 'DET'), ('and', 'CONJ'), ('currently', 'ADV'), ('than', 'ADP'), ('ward', 'NOUN'), ('election', 'NOUN'), ('company', 'NOUN'), ('antitrust', 'ADJ'), ('0', 'X'), ('german', 'ADJ'), ('acres', 'NOUN'), ('*u*', 'X'), ('.', '.'), ('.', '.'), ('despite', 'ADP'), ('alan', 'NOUN'), ('prices', 'NOUN'), ('a', 'DET'), ('same', 'ADJ'), ('insurance', 'NOUN'), ('150,000', 'NOUN'), ('*u*', 'X'), ('program', 'NOUN'), ('integration', 'NOUN'), ('the', 'DET'), ('new', 'ADJ'), ('at', 'ADP'), (',', '.'), ('it', 'PRON'), ('research', 'NOUN'), (',', '.'), ('romance', 'NOUN'), ('*t*-2', 'X'), ('a', 'DET'), ('in', 'ADP'), ('65', 'NUM'), ('like', 'ADP'), ('she', 'PRON'), ('the', 'DET'), ('takes', 'VERB'), ('million', 'NUM'), ('neighbors', 'NOUN'), ('shares', 'NOUN'), ('consulting', 'NOUN'), ('--', '.'), ('state', 'NOUN'), ('because', 'ADP'), ('questions', 'NOUN'), ('or', 'CONJ'), ('i', 'PRON'), ('50', 'NUM'), ('*t*-1', 'X'), ('is', 'VERB'), (',', '.'), ('*-1', 'X'), (',', '.'), ('hahn', 'NOUN'), ('street', 'NOUN'), ('very', 'ADV'), ('take', 'VERB'), ('often', 'ADV'), ('prime', 'NOUN'), ('year', 'NOUN'), ('*u*', 'X'), ('thursday', 'NOUN'), ('newspaper', 'NOUN'), ('useful', 'ADJ'), ('effect', 'NOUN'), ('funds', 'NOUN'), ('data', 'NOUN'), ('31', 'NUM'), ('trades', 'NOUN'), (',', '.'), ('up', 'PRT'), ('long', 'ADJ'), ('a', 'DET'), ('a', 'DET'), ('.', '.'), ('does', 'VERB'), (',', '.')]\n"
     ]
    }
   ],
   "source": [
    "print(\"Time taken in seconds: \", difference_4)\n",
    "print(tagged_seq_4)"
   ]
  },
  {
   "cell_type": "code",
   "execution_count": 104,
   "metadata": {},
   "outputs": [],
   "source": [
    "# creating a list of word-tag pairs that have been tagged correctly \n",
    "\n",
    "correctly_tagged_pairs_4 = [i for i, j in zip(tagged_seq_4, zip(validation_words, validation_tags)) if i == j]"
   ]
  },
  {
   "cell_type": "code",
   "execution_count": 105,
   "metadata": {},
   "outputs": [
    {
     "data": {
      "text/plain": [
       "0.9259038537941995"
      ]
     },
     "execution_count": 105,
     "metadata": {},
     "output_type": "execute_result"
    }
   ],
   "source": [
    "#Checking the percentage of words that were tagged correctly\n",
    "\n",
    "accuracy_4 = len(correctly_tagged_pairs_4)/len(tagged_seq_4)\n",
    "accuracy_4"
   ]
  },
  {
   "cell_type": "code",
   "execution_count": 106,
   "metadata": {},
   "outputs": [
    {
     "data": {
      "text/plain": [
       "40"
      ]
     },
     "execution_count": 106,
     "metadata": {},
     "output_type": "execute_result"
    }
   ],
   "source": [
    "#Triggering garbage collection\n",
    "gc.collect()"
   ]
  },
  {
   "cell_type": "markdown",
   "metadata": {},
   "source": [
    "### 5. Using Laplace smoothing"
   ]
  },
  {
   "cell_type": "code",
   "execution_count": 107,
   "metadata": {},
   "outputs": [],
   "source": [
    "# Using the Viterbi heuristic with Laplace smoothing \n",
    "\n",
    "def Viterbi_5(words):\n",
    "    #initialising a list to store the tag with the max state probability for each word\n",
    "    tags_list = []\n",
    "    \n",
    "    #Initializing alpha value for laplace smoothing\n",
    "    alpha = 0.01\n",
    "    \n",
    "    for key, word in enumerate(words):\n",
    "        \n",
    "        #initialising a list to calculate state probability for all tags for each word\n",
    "        prob_list = []\n",
    "\n",
    "        for tag in POS_tags:\n",
    "            if key == 0:\n",
    "                transition_p = tags_df.loc['.', tag]\n",
    "            else:\n",
    "                transition_p = tags_df.loc[tags_list[-1], tag]\n",
    "           \n",
    "            # calculating the emission probability and state probabiliy for the current word and tag\n",
    "            emission_p = (word_given_tag(words[key], tag)[0] + alpha)/(word_given_tag(words[key], tag)[1] \n",
    "                                                                        + (alpha*len(POS_tags)))\n",
    "            state_probability = emission_p * transition_p\n",
    "\n",
    "            # appending state probability to list of state probabilities for current word and tag\n",
    "            prob_list.append(state_probability)\n",
    "\n",
    "        # finding the max state probability for this word\n",
    "        prob_max = max(prob_list)\n",
    "\n",
    "        # getting the tag with the max state probability for this word\n",
    "        tag_with_max_state_prob = POS_tags[prob_list.index(prob_max)]\n",
    "        tags_list.append(tag_with_max_state_prob)\n",
    "        \n",
    "    return list(zip(words, tags_list))"
   ]
  },
  {
   "cell_type": "markdown",
   "metadata": {},
   "source": [
    "#### Using this modified alogrithm to tag the words in the validation set"
   ]
  },
  {
   "cell_type": "code",
   "execution_count": 108,
   "metadata": {},
   "outputs": [],
   "source": [
    "# tagging the test sentences\n",
    "start_5 = time.time()\n",
    "tagged_seq_5 = Viterbi_5(validation_words)\n",
    "end_5 = time.time()\n",
    "difference_5 = end_5 - start_5"
   ]
  },
  {
   "cell_type": "code",
   "execution_count": 109,
   "metadata": {},
   "outputs": [
    {
     "name": "stdout",
     "output_type": "stream",
     "text": [
      "Time taken in seconds:  2045.8845884799957\n",
      "[('61', 'NUM'), ('noodles', 'ADP'), ('tokyo', 'NOUN'), ('the', 'DET'), ('buy', 'VERB'), ('beginning', 'VERB'), ('of', 'ADP'), ('circulation', 'NOUN'), ('bill', 'NOUN'), ('account', 'NOUN'), ('of', 'ADP'), ('``', '.'), ('a', 'DET'), ('*-2', 'X'), ('persuasive', 'ADJ'), ('*', 'X'), ('traders', 'NOUN'), ('over', 'ADP'), ('a', 'DET'), ('a', 'DET'), ('*-1', 'X'), ('there', 'DET'), ('miami', 'NOUN'), (',', '.'), ('hefty', 'ADJ'), (\"'s\", 'PRT'), ('be', 'VERB'), ('noting', 'VERB'), ('1990', 'NUM'), ('stores', 'NOUN'), ('of', 'ADP'), ('*t*-133', 'PRT'), ('estimated', 'VERB'), ('company', 'NOUN'), ('of', 'ADP'), ('talks', 'NOUN'), ('4.6', 'NUM'), ('japanese', 'ADJ'), ('due', 'ADJ'), ('*rnr*-1', 'X'), ('comment', 'NOUN'), ('a.l.', 'NUM'), ('of', 'ADP'), (',', '.'), ('.', '.'), ('the', 'DET'), ('concern', 'NOUN'), ('of', 'ADP'), ('they', 'PRON'), ('of', 'ADP'), ('reached', 'VERB'), ('april', 'NOUN'), ('helped', 'VERB'), ('exact', 'ADJ'), ('form', 'NOUN'), ('his', 'PRON'), ('would', 'VERB'), (',', '.'), ('major', 'ADJ'), ('markdown', 'NOUN'), ('3648.82', 'NUM'), ('construction', 'NOUN'), ('to', 'PRT'), (',', '.'), ('said', 'VERB'), (',', '.'), (',', '.'), ('was', 'VERB'), ('case', 'NOUN'), ('*-1', 'X'), ('differences', 'NOUN'), ('the', 'DET'), (',', '.'), ('wanted', 'VERB'), ('things', 'NOUN'), ('sharply', 'ADV'), ('financier', 'NOUN'), ('and', 'CONJ'), ('in', 'ADP'), ('are', 'VERB'), ('.', '.'), (\"'s\", 'PRT'), ('in', 'ADP'), ('advantage', 'NOUN'), ('place', 'NOUN'), ('0', 'X'), ('milk', 'NOUN'), ('wayne', 'NOUN'), ('million', 'NUM'), ('evaluated', 'ADP'), ('onto', 'ADP'), ('altruistic', 'PRT'), ('quarterly', 'ADJ'), ('the', 'DET'), ('inc.', 'NOUN'), ('how', 'ADV'), ('million', 'NUM'), ('a', 'DET'), ('*-2', 'X'), ('100-share', 'ADJ'), ('charles', 'NOUN'), ('.', '.'), ('to', 'PRT'), ('chief', 'NOUN'), ('posting', 'VERB'), ('in', 'ADP'), ('in', 'ADP'), ('the', 'DET'), ('10.5', 'PRT'), ('is', 'VERB'), ('the', 'DET'), ('dollars', 'NOUN'), ('portrayed', 'NUM'), ('*-1', 'X'), ('of', 'ADP'), ('ill.', 'NOUN'), ('to', 'PRT'), ('at', 'ADP'), ('chief', 'NOUN'), (',', '.'), ('*t*-2', 'X'), ('inside', 'ADJ'), ('offering', 'NOUN'), ('customers', 'NOUN'), ('impact', 'NOUN'), ('refused', 'VERB'), ('was', 'VERB'), ('*t*-93', 'ADV'), ('of', 'ADP'), ('and', 'CONJ'), ('and', 'CONJ'), ('even', 'ADV'), ('more', 'ADJ'), ('and', 'CONJ'), ('the', 'DET'), ('n.j.', 'NOUN'), ('than', 'ADP'), ('government', 'NOUN'), ('lights', 'NOUN'), ('aid', 'NOUN'), ('would', 'VERB'), ('.', '.'), ('shares', 'NOUN'), ('*t*-161', 'NUM'), ('announced', 'VERB'), ('of', 'ADP'), ('give', 'VERB'), ('consecutive', 'ADJ'), ('factors', 'NOUN'), ('in', 'ADP'), ('planes', 'PRT'), ('be', 'VERB'), (',', '.'), ('haul', 'NOUN'), ('individual', 'ADJ'), ('the', 'DET'), ('and', 'CONJ'), ('valley', 'NOUN'), ('eveready', 'NUM'), ('*', 'X'), ('also', 'ADV'), ('whiting', 'NOUN'), ('at&t', 'NOUN'), ('acted', 'NUM'), ('``', '.'), ('0', 'X'), (';', '.'), ('.', '.'), ('0', 'X'), ('operations', 'NOUN'), ('it', 'PRON'), ('for', 'ADP'), ('influence', 'NOUN'), ('was', 'VERB'), ('disregard', 'ADV'), ('himself', 'PRON'), ('-lrb-', '.'), ('the', 'DET'), ('sharply', 'ADV'), ('case', 'NOUN'), ('the', 'DET'), ('up', 'PRT'), ('radio', 'NOUN'), ('and', 'CONJ'), ('value', 'NOUN'), ('filters', 'NOUN'), ('at', 'ADP'), ('.', '.'), ('a', 'DET'), ('do', 'VERB'), ('department', 'NOUN'), ('referrals', 'NUM'), ('the', 'DET'), ('watchdogs', 'PRT'), ('then-speaker', 'CONJ'), ('get', 'VERB'), ('and', 'CONJ'), ('up', 'PRT'), ('term', 'NOUN'), ('deficit', 'NOUN'), ('it', 'PRON'), ('tell', '.'), ('managers', 'NOUN'), ('farmers', 'NOUN'), ('heavily', 'ADV'), ('justices', 'NOUN'), ('educational', 'ADJ'), ('sale', 'NOUN'), ('sue', 'NUM'), ('its', 'PRON'), (',', '.'), ('members', 'NOUN'), ('to', 'PRT'), ('lot', 'NOUN'), ('annual', 'ADJ'), ('further', 'ADJ'), ('markets', 'NOUN'), ('*-1', 'X'), ('evidence', 'NOUN'), ('gulf', 'NOUN'), ('an', 'DET'), ('of', 'ADP'), ('card', 'NOUN'), ('.', '.'), ('schoolchildren', 'X'), ('a', 'DET'), ('the', 'DET'), ('to', 'PRT'), ('on', 'ADP'), ('would', 'VERB'), ('of', 'ADP'), (',', '.'), ('global', 'ADJ'), ('*-2', 'X'), ('as', 'ADP'), ('christmas', 'PRT'), ('stressing', 'VERB'), ('it', 'PRON'), ('careers', 'NOUN'), ('experience', 'NOUN'), ('club', 'NOUN'), ('.', '.'), ('while', 'ADP'), ('the', 'DET'), (',', '.'), ('shops', 'NOUN'), ('if', 'ADP'), ('problems', 'NOUN'), ('*t*-1', 'X'), ('few', 'ADJ'), ('the', 'DET'), ('percentage', 'NOUN'), ('.', '.'), ('the', 'DET'), ('lieberman', 'NOUN'), ('continue', 'VERB'), ('initiating', 'ADV'), ('0', 'X'), ('light', 'ADJ'), ('a', 'DET'), ('familiar', 'ADJ'), ('investors', 'NOUN'), ('of', 'ADP'), ('be', 'VERB'), (',', '.'), ('.', '.'), (',', '.'), (\"'s\", 'PRT'), ('the', 'DET'), ('oshkosh', 'NOUN'), ('concerns', 'NOUN'), ('with', 'ADP'), ('miles', 'NOUN'), ('%', 'NOUN'), ('*t*-2', 'X'), ('with', 'ADP'), ('management', 'NOUN'), ('before', 'ADP'), ('example', 'NOUN'), ('make', 'VERB'), ('8.48', 'ADV'), ('interesting', 'ADJ'), ('different', 'ADJ'), ('of', 'ADP'), ('exit', 'PRT'), ('0', 'X'), ('bush', 'NOUN'), (',', '.'), ('.', '.'), ('he', 'PRON'), ('50-50', '.'), ('losses', 'NOUN'), ('gave', 'VERB'), ('fifteen', 'ADV'), ('-rrb-', '.'), ('river', 'NOUN'), ('*t*-165', 'NUM'), ('district', 'NOUN'), ('as', 'ADP'), ('goes', 'VERB'), ('billion', 'NUM'), ('sales', 'NOUN'), (',', '.'), ('bidding', 'NOUN'), ('other', 'ADJ'), ('.', '.'), ('decrease', 'VERB'), ('shares', 'NOUN'), ('match', 'NOUN'), ('to', 'PRT'), ('due', 'ADJ'), ('software', 'NOUN'), (',', '.'), ('year', 'NOUN'), ('rose', 'VERB'), ('been', 'VERB'), ('*t*-2', 'X'), ('wage', 'NOUN'), ('at', 'ADP'), ('news', 'NOUN'), ('.', '.'), ('traditionally', 'ADV'), ('*u*', 'X'), (\"'s\", 'PRT'), ('international', 'NOUN'), (\"n't\", 'ADV'), ('operations', 'NOUN'), ('as', 'ADP'), ('.', '.'), ('their', 'PRON'), ('say', 'VERB'), ('week', 'NOUN'), ('.', '.'), ('a', 'DET'), ('if', 'ADP'), ('survey', 'NOUN'), ('contradictions', 'NUM'), ('while', 'ADP'), ('developments', 'PRT'), ('frankfurt', 'NOUN'), ('of', 'ADP'), ('the', 'DET'), ('the', 'DET'), ('supercomputer', 'NOUN'), ('*-1', 'X'), ('get', 'VERB'), ('government', 'NOUN'), ('pace', 'NOUN'), ('the', 'DET'), ('in', 'ADP'), (\"'s\", 'PRT'), ('been', 'VERB'), (',', '.'), (',', '.'), ('hit', 'VERB'), ('reading', 'NOUN'), ('.', '.'), ('in', 'ADP'), ('said', 'VERB'), ('.', '.'), ('barely', 'X'), ('returned', 'VERB'), ('international', 'NOUN'), ('drugs', 'NOUN'), ('power', 'NOUN'), ('drop', 'NOUN'), ('but', 'CONJ'), ('new', 'ADJ'), ('most', 'ADJ'), ('cents', 'NOUN'), ('are', 'VERB'), ('corp.', 'NOUN'), ('growth', 'NOUN'), ('to', 'PRT'), ('are', 'VERB'), ('the', 'DET'), (\"'s\", 'PRT'), ('to', 'PRT'), ('student', 'NOUN'), ('market', 'NOUN'), (',', '.'), ('east', 'NOUN'), ('the', 'DET'), ('points', 'NOUN'), ('scenes', 'NOUN'), ('associated', 'VERB'), ('50,000', 'NUM'), ('ftc', 'NOUN'), ('right', 'NOUN'), ('a', 'DET'), ('cabernet', 'NOUN'), ('because', 'ADP'), ('financial', 'ADJ'), ('trotter', 'NOUN'), ('year', 'NOUN'), ('%', 'NOUN'), ('a', 'DET'), ('to', 'PRT'), ('*-1', 'X'), ('withdrawal', 'NOUN'), (',', '.'), ('.', '.'), ('there', 'DET'), ('tunes', 'PRT'), ('*u*', 'X'), ('will', 'VERB'), ('*t*-2', 'X'), (',', '.'), ('due', 'ADJ'), ('one', 'NUM'), ('could', 'VERB'), ('anti-abortionists', 'NOUN'), ('*', 'X'), ('declined', 'VERB'), ('cases', 'NOUN'), (',', '.'), ('housing', 'NOUN'), ('versions', 'NOUN'), ('in', 'ADP'), ('or', 'CONJ'), ('*-150', 'DET'), ('traditional', 'ADJ'), ('on', 'ADP'), ('a', 'DET'), ('saying', 'VERB'), ('$', '.'), ('now', 'ADV'), ('is', 'VERB'), ('.', '.'), (',', '.'), ('last', 'ADJ'), ('army', 'NOUN'), (':', '.'), ('been', 'VERB'), ('#', '.'), ('issue', 'NOUN'), ('0', 'X'), ('one', 'NUM'), ('bramalea', 'NOUN'), ('the', 'DET'), ('much', 'ADJ'), ('pleaded', 'VERB'), ('$', '.'), ('st.', 'NOUN'), ('in', 'ADP'), ('statement', 'NOUN'), ('economy', 'NOUN'), ('national', 'NOUN'), ('most', 'ADJ'), (\"'s\", 'PRT'), ('it', 'PRON'), ('&', 'CONJ'), (',', '.'), ('1979', 'NUM'), ('fails', 'VERB'), ('will', 'VERB'), ('which', 'DET'), ('because', 'ADP'), ('the', 'DET'), ('record', 'NOUN'), (',', '.'), ('228', 'NUM'), ('to', 'PRT'), ('the', 'DET'), (',', '.'), ('for', 'ADP'), ('50', 'NUM'), ('of', 'ADP'), ('near-limit', 'PRT'), ('says', 'VERB'), ('but', 'CONJ'), ('evidence', 'NOUN'), ('takeover', 'NOUN'), ('the', 'DET'), ('factory', 'NOUN'), ('congress', 'NOUN'), ('u.s.', 'NOUN'), ('companies', 'NOUN'), ('confidence', 'NOUN'), ('sold', 'VERB'), ('regional', 'ADJ'), ('.', '.'), ('rubber', 'NOUN'), ('ground', 'NOUN'), ('a', 'DET'), ('was', 'VERB'), ('lungs', 'ADV'), ('outsiders', 'CONJ'), ('they', 'PRON'), ('u.s.', 'NOUN'), ('staying', 'NUM'), ('or', 'CONJ'), ('built', 'VERB'), ('audiocassettes', 'ADV'), ('*u*', 'X'), ('the', 'DET'), ('department', 'NOUN'), ('that', 'ADP'), ('continuing', 'VERB'), ('.', '.'), ('average', 'ADJ'), ('and', 'CONJ'), ('49', 'NUM'), ('to', 'PRT'), ('swing', 'VERB'), ('adopted', 'VERB'), (\"n't\", 'ADV'), ('secretary', 'NOUN'), ('and', 'CONJ'), ('manufacturing', 'NOUN'), ('world', 'NOUN'), ('these', 'DET'), ('shares', 'NOUN'), ('billion', 'NUM'), ('that', 'ADP'), ('worker', 'NOUN'), ('farmers', 'NOUN'), ('0', 'X'), ('nonexecutive', 'ADJ'), ('exports', 'NOUN'), ('reports', 'NOUN'), (',', '.'), ('and', 'CONJ'), ('vicar', 'NOUN'), ('wanted', 'VERB'), ('no', 'DET'), ('*u*', 'X'), ('even', 'ADV'), ('export', 'NOUN'), ('slowly', 'ADV'), ('chief', 'NOUN'), ('office', 'NOUN'), ('increase', 'NOUN'), ('in', 'ADP'), ('not', 'ADV'), ('*u*', 'X'), ('the', 'DET'), (',', '.'), ('stand', 'VERB'), ('older', 'ADJ'), ('late', 'ADJ'), ('in', 'ADP'), (',', '.'), ('is', 'VERB'), ('end', 'NOUN'), ('before', 'ADP'), ('on', 'ADP'), ('mrs.', 'NOUN'), ('0', 'X'), ('and', 'CONJ'), ('contends', 'VERB'), ('was', 'VERB'), ('*t*-2', 'X'), ('*u*', 'X'), ('then', 'ADV'), ('that', 'ADP'), ('says', 'VERB'), ('for', 'ADP'), ('.', '.'), ('such', 'ADJ'), ('in', 'ADP'), ('1988', 'NUM'), ('tramp', 'NOUN'), ('taccetta', 'NOUN'), ('avoid', 'VERB'), ('already', 'ADV'), ('.', '.'), ('and', 'CONJ'), ('videocassette', 'NOUN'), ('*u*', 'X'), ('said', 'VERB'), ('small', 'ADJ'), ('other', 'ADJ'), ('.', '.'), ('effort', 'NOUN'), ('w.', 'NOUN'), ('but', 'CONJ'), ('drive', 'VERB'), ('fine', 'NOUN'), ('issues', 'NOUN'), ('.', '.'), ('on', 'ADP'), ('*-1', 'X'), ('*t*-12', 'X'), ('they', 'PRON'), ('numerous', 'ADJ'), ('the', 'DET'), ('a', 'DET'), ('the', 'DET'), ('*-1', 'X'), ('*', 'X'), ('of', 'ADP'), ('switch', 'VERB'), ('of', 'ADP'), ('*', 'X'), ('said', 'VERB'), ('*t*-51', 'X'), ('present', 'VERB'), ('1985', 'NUM'), ('number', 'NOUN'), ('as', 'ADP'), ('*-52', 'X'), ('regulators', 'NOUN'), (',', '.'), ('re-thought', 'X'), ('gross', 'ADJ'), ('promises', 'VERB'), ('.', '.'), ('a', 'DET'), (',', '.'), ('of', 'ADP'), ('as', 'ADP'), ('championing', 'PRT'), ('changed', 'VERB'), ('.', '.'), ('0', 'X'), ('the', 'DET'), ('0', 'X'), ('the', 'DET'), ('``', '.'), ('0', 'X'), ('entirely', 'ADV'), ('be', 'VERB'), ('$', '.'), ('in', 'ADP'), ('26,000', 'PRT'), ('in', 'ADP'), ('ballot', 'NOUN'), ('kidney', 'NUM'), ('not', 'ADV'), ('of', 'ADP'), ('before', 'ADP'), ('*-1', 'X'), ('river', 'NOUN'), ('.', '.'), ('trading', 'NOUN'), ('replaced', 'VERB'), ('the', 'DET'), ('would-be', 'PRT'), ('or', 'CONJ'), ('li', 'NOUN'), ('male', 'NOUN'), (\"''\", '.'), ('to', 'PRT'), ('rose', 'VERB'), ('for', 'ADP'), ('world', 'NOUN'), ('traders', 'NOUN'), ('.', '.'), ('.', '.'), ('in', 'ADP'), ('it', 'PRON'), ('of', 'ADP'), ('*t*-159', 'PRT'), ('that', 'ADP'), ('at', 'ADP'), ('public', 'ADJ'), ('veto', 'NOUN'), ('into', 'ADP'), ('pencil', 'PRT'), ('will', 'VERB'), ('tax', 'NOUN'), ('in', 'ADP'), ('.', '.'), ('.', '.'), ('firings', 'X'), ('the', 'DET'), ('it', 'PRON'), ('``', '.'), ('acquisition', 'NOUN'), (',', '.'), ('the', 'DET'), ('largest', 'ADJ'), ('reflected', 'VERB'), ('accused', 'VERB'), (\"n't\", 'ADV'), ('may', 'VERB'), ('new', 'ADJ'), ('3.3', 'NUM'), ('*t*-1', 'X'), ('transportation', 'NOUN'), ('get', 'VERB'), ('persons', 'NOUN'), ('broader', 'ADJ'), ('report', 'NOUN'), ('obtaining', 'NUM'), ('of', 'ADP'), (',', '.'), ('students', 'NOUN'), (',', '.'), ('market-based', 'X'), ('preference', 'NOUN'), ('price', 'NOUN'), ('street', 'NOUN'), ('traded', 'VERB'), ('the', 'DET'), ('.', '.'), (',', '.'), ('paper', 'NOUN'), (\"''\", '.'), ('silver', 'NOUN'), ('moreover', 'ADV'), ('few', 'ADJ'), ('very', 'ADV'), ('*-2', 'X'), ('but', 'CONJ'), ('pressure', 'NOUN'), ('and', 'CONJ'), ('a', 'DET'), ('the', 'DET'), ('investors', 'NOUN'), (\"''\", '.'), ('acquisition', 'NOUN'), (',', '.'), ('germany', 'NOUN'), ('.', '.'), (',', '.'), ('*', 'X'), ('would', 'VERB'), ('much', 'ADV'), ('from', 'ADP'), ('0', 'X'), ('dramatically', 'ADV'), ('vineyard', 'NOUN'), ('0', 'X'), ('violations', 'NOUN'), (',', '.'), ('of', 'ADP'), ('trend', 'NOUN'), ('knows', 'VERB'), ('shortage', 'NOUN'), ('voluntary', 'NUM'), ('at', 'ADP'), ('.', '.'), ('for', 'ADP'), ('with', 'ADP'), ('.', '.'), (\"'s\", 'PRT'), ('*ich*-2', 'X'), ('crucial', 'ADJ'), ('increase', 'NOUN'), ('gains', 'NOUN'), ('steel', 'NOUN'), (',', '.'), ('transportation', 'NOUN'), ('been', 'VERB'), ('in', 'ADP'), ('dropped', 'VERB'), ('whose', 'PRON'), ('zaharah', '.'), ('reorganization', 'NOUN'), ('parents', 'NOUN'), ('impose', 'VERB'), ('mr.', 'NOUN'), ('months', 'NOUN'), ('will', 'VERB'), ('at', 'ADP'), ('705.6', 'PRT'), ('cars', 'NOUN'), ('would', 'VERB'), ('section', 'NOUN'), ('``', '.'), ('.', '.'), (',', '.'), ('.', '.'), ('concerns', 'NOUN'), ('big', 'ADJ'), (',', '.'), ('the', 'DET'), ('prices', 'NOUN'), ('he', 'PRON'), ('in', 'ADP'), ('rectified', 'PRT'), (':', '.'), ('*-1', 'X'), ('chip', 'NOUN'), ('given', 'VERB'), (\"'\", 'PRT'), ('a', 'DET'), ('``', '.'), ('those', 'DET'), ('.', '.'), (',', '.'), (',', '.'), ('were', 'VERB'), ('u.k.', 'NOUN'), ('at', 'ADP'), (',', '.'), ('both', 'DET'), ('odd', 'ADJ'), (',', '.'), ('today', 'NOUN'), ('the', 'DET'), ('have', 'VERB'), ('$', '.'), ('by', 'ADP'), ('and', 'CONJ'), ('places', 'NOUN'), ('ran', 'VERB'), ('by', 'ADP'), ('.', '.'), ('13', 'NUM'), (',', '.'), ('non-encapsulating', 'X'), ('heads', 'VERB'), ('a', 'DET'), ('hills', 'NOUN'), ('with', 'ADP'), ('hand', 'NOUN'), ('*u*', 'X'), ('of', 'ADP'), ('conditions', 'NOUN'), ('1.76', 'NUM'), ('based', 'VERB'), ('is', 'VERB'), ('latter', 'ADV'), ('veselich', 'CONJ'), ('put', 'VERB'), ('start', 'VERB'), ('says', 'VERB'), ('in', 'ADP'), ('.', '.'), ('is', 'VERB'), ('you', 'PRON'), (',', '.'), ('*?*', 'X'), ('sacramento', 'NOUN'), ('selected', 'VERB'), ('number', 'NOUN'), (',', '.'), ('to', 'PRT'), ('would', 'VERB'), ('america', 'NOUN'), ('predicting', 'VERB'), ('*-3', 'X'), ('florio', 'NOUN'), ('moscow', 'NOUN'), ('*-1', 'X'), ('peripheral', 'ADJ'), ('some', 'DET'), ('performance', 'NOUN'), ('can', 'VERB'), ('no', 'DET'), ('``', '.'), ('woolworth', 'X'), ('bushel', 'NOUN'), ('to', 'PRT'), ('*t*-1', 'X'), ('problems', 'NOUN'), ('retaining', 'VERB'), ('a', 'DET'), (',', '.'), ('0', 'X'), ('``', '.'), ('pre-emptive', 'X'), ('lazzaroni', 'ADJ'), ('chateau', 'NOUN'), ('over', 'ADP'), ('just', 'ADV'), ('in', 'ADP'), ('according', 'VERB'), ('of', 'ADP'), ('blue-chips', 'PRT'), ('notably', 'ADV'), ('in', 'ADP'), ('quantitive', 'PRT'), ('reached', 'VERB'), ('wide', 'ADJ'), ('the', 'DET'), ('when', 'ADV'), ('less', 'ADJ'), ('novel', 'NOUN'), ('the', 'DET'), ('a', 'DET'), ('untrue', 'PRT'), ('jack', 'NOUN'), ('was', 'VERB'), ('people', 'NOUN'), ('to', 'PRT'), ('*t*-1', 'X'), ('most', 'ADJ'), ('.', '.'), ('decide', 'VERB'), ('.', '.'), ('form', 'NOUN'), ('until', 'ADP'), ('annually', 'ADV'), ('covered', 'VERB'), ('the', 'DET'), ('before', 'ADP'), ('n.y.', 'NOUN'), ('daily', 'ADJ'), ('intelogic', 'NOUN'), ('bankers', 'NOUN'), ('discontinue', 'NUM'), (',', '.'), ('increased', 'VERB'), ('angeles', 'NOUN'), ('*', 'X'), ('yesterday', 'NOUN'), ('*-3', 'X'), ('value', 'NOUN'), ('join', 'VERB'), ('fail', 'VERB'), ('many', 'ADJ'), ('new', 'ADJ'), ('computers', 'NOUN'), ('whether', 'ADP'), ('1\\\\/4', 'NUM'), ('*t*-2', 'X'), ('*-155', 'ADJ'), ('will', 'VERB'), ('900', 'NUM'), ('and', 'CONJ'), ('lentjes', 'NOUN'), ('on', 'ADP'), ('shut', 'VERB'), ('can', 'VERB'), ('for', 'ADP'), ('than', 'ADP'), ('of', 'ADP'), (',', '.'), ('exporter', 'NOUN'), ('or', 'CONJ'), ('the', 'DET'), ('type', 'NOUN'), ('be', 'VERB'), ('solely', 'ADV'), ('fall', 'NOUN'), ('me', 'PRON'), (',', '.'), ('u.s.', 'NOUN'), ('the', 'DET'), ('270', 'NUM'), ('sport-utility', 'ADP'), (',', '.'), (\"'s\", 'PRT'), ('gelatin', 'CONJ'), ('1988', 'NUM'), ('it', 'PRON'), ('campaigning', 'NOUN'), ('on', 'ADP'), ('is', 'VERB'), ('iowa', 'NOUN'), ('two', 'NUM'), ('only', 'ADV'), ('be', 'VERB'), ('card', 'NOUN'), ('light', 'ADJ'), ('free', 'ADJ'), ('to', 'PRT'), ('to', 'PRT'), ('billion', 'NUM'), ('the', 'DET'), ('.', '.'), ('a', 'DET'), ('totally', 'PRT'), ('-lrb-', '.'), ('a', 'DET'), ('offered', 'VERB'), ('the', 'DET'), ('japan', 'NOUN'), ('japanese', 'ADJ'), ('seem', 'VERB'), ('from', 'ADP'), ('their', 'PRON'), ('by', 'ADP'), ('internal', 'ADJ'), ('billion', 'NUM'), ('contain', 'VERB'), ('just', 'ADV'), ('.', '.'), ('islands', 'X'), (':', '.'), ('it', 'PRON'), ('year-earlier', 'ADJ'), ('wait', 'VERB'), ('hospital', 'NOUN'), ('get', 'VERB'), ('all', 'DET'), ('market', 'NOUN'), ('its', 'PRON'), ('small', 'ADJ'), ('the', 'DET'), ('wage', 'NOUN'), ('to', 'PRT'), ('in', 'ADP'), ('%', 'NOUN'), (';', '.'), ('novello', 'NOUN'), ('degenerative', 'NUM'), ('sony', 'NOUN'), ('to', 'PRT'), ('current-carrying', 'ADJ'), ('a', 'DET'), ('increases', 'NOUN'), ('futures', 'NOUN'), ('and', 'CONJ'), ('they', 'PRON'), (',', '.'), ('is', 'VERB'), ('he', 'PRON'), ('do', 'VERB'), ('*t*-19', 'X'), (',', '.'), ('bowman', 'NOUN'), ('lasting', 'NUM'), ('zayed', 'ADP'), ('test', 'NOUN'), ('estimates', 'NOUN'), ('a', 'DET'), ('co.', 'NOUN'), ('year', 'NOUN'), (',', '.'), ('of', 'ADP'), (',', '.'), ('mechanism', 'NOUN'), ('$', '.'), ('*-2', 'X'), ('resulting', 'VERB'), ('because', 'ADP'), ('own', 'ADJ'), ('of', 'ADP'), ('exchange', 'NOUN'), ('the', 'DET'), ('no', 'DET'), ('in', 'ADP'), ('*t*-43', 'X'), ('*-1', 'X'), ('arbitrage', 'NOUN'), ('fallen', 'VERB'), ('week', 'NOUN'), ('the', 'DET'), ('of', 'ADP'), ('address', 'VERB'), ('0', 'X'), ('the', 'DET'), ('the', 'DET'), ('was', 'VERB'), ('says', 'VERB'), ('mandates', 'ADV'), ('if', 'ADP'), ('so', 'ADV'), ('cold', 'NOUN'), ('diversification', 'NUM'), ('for', 'ADP'), ('retained', 'VERB'), ('said', 'VERB'), (\"n't\", 'ADV'), ('if', 'ADP'), ('bend', 'PRT'), (',', '.'), ('*t*-247', 'X'), ('but', 'CONJ'), ('in', 'ADP'), ('500', 'NUM'), ('declining', 'VERB'), ('trade', 'NOUN'), ('short', 'ADJ'), ('church', 'NOUN'), ('to', 'PRT'), (',', '.'), ('the', 'DET'), ('financial', 'ADJ'), ('ohio', 'NOUN'), ('conduct', 'NOUN'), ('his', 'PRON'), ('committee', 'NOUN'), ('.', '.'), ('book', 'NOUN'), ('companies', 'NOUN'), ('olympic', 'NOUN'), ('have', 'VERB'), ('escape', 'ADV'), ('buildup', 'CONJ'), ('the', 'DET'), (',', '.'), ('reduce', 'VERB'), ('what', 'PRON'), ('in', 'ADP'), ('fund', 'NOUN'), ('economy', 'NOUN'), ('have', 'VERB'), ('leaves', 'VERB'), ('exceedingly', 'ADV'), ('series', 'NOUN'), ('million', 'NUM'), (',', '.'), ('*t*-194', 'X'), ('*t*-2', 'X'), ('.', '.'), ('weddings', 'NOUN'), ('questioned', 'NUM'), ('by', 'ADP'), ('the', 'DET'), ('someone', 'NOUN'), ('competing', 'VERB'), ('.', '.'), ('packed', 'X'), ('promise', 'NOUN'), ('.', '.'), ('*-1', 'X'), ('s&p', 'NOUN'), ('priced', 'VERB'), ('0', 'X'), ('failed', 'VERB'), ('to', 'PRT'), ('smith', 'NOUN'), ('garbage', 'NOUN'), ('.', '.'), ('10,000', 'NUM'), ('time', 'NOUN'), ('2.375', 'NUM'), ('projector', 'ADP'), ('mr.', 'NOUN'), ('*-1', 'X'), ('areas', 'NOUN'), ('is', 'VERB'), ('the', 'DET'), (',', '.'), ('from', 'ADP'), ('mood', 'PRT'), ('for', 'ADP'), ('stars', 'NOUN'), ('norfolk', 'NUM'), ('mrs.', 'NOUN'), ('group', 'NOUN'), ('do', 'VERB'), ('york', 'NOUN'), ('may', 'VERB'), ('the', 'DET'), ('put', 'VERB'), ('will', 'VERB'), ('picture', 'NOUN'), ('inched', 'VERB'), ('companies', 'NOUN'), ('packaging', 'NOUN'), ('neither', 'DET'), ('.', '.'), (',', '.'), ('an', 'DET'), (',', '.'), ('*t*-1', 'X'), ('as', 'ADP'), (\"''\", '.'), (',', '.'), ('loss', 'NOUN'), ('solidarity', 'NUM'), (\"'s\", 'PRT'), ('maintain', 'VERB'), ('julia', 'ADV'), ('to', 'PRT'), ('for', 'ADP'), ('serial', 'NOUN'), ('british', 'ADJ'), ('that', 'ADP'), ('*t*-2', 'X'), ('drobnick', 'ADJ'), ('tuesday', 'NOUN'), ('surprised', 'VERB'), ('in', 'ADP'), ('the', 'DET'), ('and', 'CONJ'), ('futures', 'NOUN'), ('15', 'NUM'), ('unfair', 'ADJ'), (',', '.'), ('people', 'NOUN'), ('0', 'X'), ('with', 'ADP'), ('is', 'VERB'), ('kind', 'NOUN'), ('to', 'PRT'), ('*-1', 'X'), ('in', 'ADP'), ('``', '.'), ('of', 'ADP'), ('next', 'ADJ'), ('*', 'X'), ('dallara', 'NOUN'), ('two', 'NUM'), ('nine', 'NUM'), ('.', '.'), ('stamford', 'NOUN'), ('is', 'VERB'), (\"'d\", 'VERB'), ('bedding', 'ADV'), ('i', 'PRON'), ('.', '.'), ('today', 'NOUN'), ('reforms', 'NOUN'), ('nemeth', 'NOUN'), ('the', 'DET'), ('*-1', 'X'), ('the', 'DET'), ('in', 'ADP'), ('armed', 'PRT'), ('in', 'ADP'), ('also', 'ADV'), ('bob', 'NOUN'), ('``', '.'), ('the', 'DET'), ('which', 'DET'), ('the', 'DET'), ('an', 'DET'), ('accomplishments', 'PRT'), ('totaled', 'VERB'), ('the', 'DET'), ('return', 'NOUN'), (\"n't\", 'ADV'), ('1', 'NUM'), ('right', 'NOUN'), ('upjohn', 'NOUN'), (',', '.'), ('had', 'VERB'), ('english', 'NOUN'), (',', '.'), (',', '.'), ('30-day', 'ADJ'), ('yield', 'VERB'), ('the', 'DET'), ('could', 'VERB'), ('man', 'NOUN'), ('in', 'ADP'), ('machinery', 'NOUN'), ('swiftly', 'ADV'), ('mr.', 'NOUN'), ('favored', 'VERB'), ('to', 'PRT'), ('of', 'ADP'), ('the', 'DET'), ('that', 'ADP'), ('administration', 'NOUN'), ('the', 'DET'), ('.', '.'), ('place', 'NOUN'), ('noncompetitively', 'NUM'), ('folks', 'NOUN'), ('the', 'DET'), ('or', 'CONJ'), (',', '.'), ('saudi', 'NOUN'), ('and', 'CONJ'), ('both', 'DET'), ('fiber', 'PRT'), ('a', 'DET'), ('insurance', 'NOUN'), ('*', 'X'), ('were', 'VERB'), ('an', 'DET'), ('*t*-1', 'X'), ('dealers', 'NOUN'), ('of', 'ADP'), ('inc.', 'NOUN'), ('7.90', 'NUM'), ('are', 'VERB'), ('trade', 'NOUN'), ('sound', 'NOUN'), ('or', 'CONJ'), ('the', 'DET'), ('gains', 'NOUN'), ('earlier', 'ADJ'), ('the', 'DET'), ('increasing', 'VERB'), ('bank', 'NOUN'), (',', '.'), ('growing', 'VERB'), ('*', 'X'), ('columbia', 'NOUN'), ('difference', 'NOUN'), ('your', 'PRON'), ('money', 'NOUN'), ('lane', 'NOUN'), ('the', 'DET'), ('said', 'VERB'), ('end', 'NOUN'), ('telling', 'VERB'), ('70', 'NUM'), ('on', 'ADP'), ('quoting', 'PRT'), (',', '.'), ('heavily', 'ADV'), ('of', 'ADP'), ('0', 'X'), ('the', 'DET'), ('beer-belly', 'PRT'), ('particularly', 'ADV'), ('that', 'ADP'), ('a', 'DET'), ('monday', 'NOUN'), ('begins', 'VERB'), ('billion', 'NUM'), ('and', 'CONJ'), ('sells', 'VERB'), ('the', 'DET'), ('*t*-31', 'X'), ('all', 'DET'), ('be', 'VERB'), ('space', 'NOUN'), ('implicitly', 'NUM'), ('raise', 'VERB'), ('hoffman', 'ADV'), (\"'s\", 'PRT'), ('unfortunately', 'CONJ'), ('mr.', 'NOUN'), ('reviewing', 'NUM'), ('soviet', 'ADJ'), ('zip', 'PRON'), ('was', 'VERB'), ('effect', 'NOUN'), ('of', 'ADP'), (',', '.'), ('extended', 'VERB'), ('such', 'ADJ'), ('taxes', 'NOUN'), (\"''\", '.'), ('percentage', 'NOUN'), ('*-1', 'X'), (';', '.'), ('in', 'ADP'), (',', '.'), ('such', 'ADJ'), (\"'s\", 'PRT'), ('*-4', 'X'), ('*-1', 'X'), ('this', 'DET'), ('the', 'DET'), ('information', 'NOUN'), ('125', 'NUM'), ('assets', 'NOUN'), ('declined', 'VERB'), ('*-66', 'ADV'), ('increases', 'NOUN'), ('republican', 'ADJ'), ('yesterday', 'NOUN'), ('local', 'ADJ'), ('the', 'DET'), ('japanese', 'ADJ'), ('feelings', 'PRON'), ('0', 'X'), ('currently', 'ADV'), ('jonas', 'CONJ'), ('may', 'VERB'), ('have', 'VERB'), ('out', 'PRT'), ('quarters', 'NOUN'), ('0', 'X'), ('told', 'VERB'), ('and', 'CONJ'), ('normally', 'ADV'), ('the', 'DET'), ('aptitude', 'PRT'), ('those', 'DET'), ('greatly', 'ADV'), ('of', 'ADP'), ('cars', 'NOUN'), ('.', '.'), ('*-2', 'X'), (',', '.'), ('of', 'ADP'), ('for', 'ADP'), ('a', 'DET'), (',', '.'), ('.', '.'), ('guffey', 'NOUN'), ('fired', 'VERB'), ('nl', 'NOUN'), ('probably', 'ADV'), ('88', 'NUM'), ('georgia-pacific', 'NOUN'), ('england', 'NOUN'), ('.', '.'), ('reflecting', 'VERB'), ('companies', 'NOUN'), ('facing', 'VERB'), ('the', 'DET'), ('his', 'PRON'), ('dealers', 'NOUN'), ('b.', 'NOUN'), ('mistakenly', 'NUM'), ('a', 'DET'), ('added', 'VERB'), ('sell', 'VERB'), ('400', 'NUM'), ('.', '.'), ('instruments', 'NOUN'), ('the', 'DET'), ('individuals', 'NOUN'), ('trockenbeerenauslesen', 'NUM'), ('blind', 'ADJ'), ('.', '.'), ('trading', 'NOUN'), ('.', '.'), ('a', 'DET'), ('polish', 'ADJ'), ('seeking', 'VERB'), ('of', 'ADP'), ('--', '.'), ('days', 'NOUN'), ('those', 'DET'), (',', '.'), ('467', 'X'), ('*u*', 'X'), ('*t*-1', 'X'), ('service', 'NOUN'), (',', '.'), ('transaction', 'NOUN'), ('producing', 'VERB'), ('that', 'ADP'), ('was', 'VERB'), ('to', 'PRT'), ('who', 'PRON'), ('calif.', 'NOUN'), ('on', 'ADP'), ('not', 'ADV'), ('of', 'ADP'), ('test', 'NOUN'), ('members', 'NOUN'), ('by', 'ADP'), ('ringers', 'NOUN'), ('*', 'X'), ('bald-faced', 'ADJ'), ('0', 'X'), ('in', 'ADP'), ('co', 'NOUN'), ('two', 'NUM'), ('an', 'DET'), ('state', 'NOUN'), ('a', 'DET'), ('in', 'ADP'), ('purchasing', 'NOUN'), ('might', 'VERB'), ('they', 'PRON'), ('balls', '.'), ('them', 'PRON'), ('agriculture', 'NOUN'), ('for', 'ADP'), ('europe', 'NOUN'), ('``', '.'), ('.', '.'), ('as', 'ADP'), ('asking', 'VERB'), ('of', 'ADP'), ('funding', 'NOUN'), (\"o'neill\", 'NUM'), ('and', 'CONJ'), ('it', 'PRON'), ('brownell', 'NOUN'), ('explorer', 'NUM'), ('special', 'ADJ'), ('space', 'NOUN'), ('for', 'ADP'), ('last', 'ADJ'), ('said', 'VERB'), ('on', 'ADP'), ('*t*-1', 'X'), ('however', 'ADV'), ('layer', 'CONJ'), ('100', 'NUM'), ('4', 'NUM'), ('-lrb-', '.'), ('of', 'ADP'), ('was', 'VERB'), ('$', '.'), ('me', 'PRON'), ('*t*-77', '.'), ('when', 'ADV'), ('series', 'NOUN'), ('expanding', 'VERB'), ('firms', 'NOUN'), ('the', 'DET'), ('its', 'PRON'), ('%', 'NOUN'), ('said', 'VERB'), ('yield', 'VERB'), ('fairless', 'NOUN'), ('the', 'DET'), ('no', 'DET'), ('said', 'VERB'), ('been', 'VERB'), ('s.', 'NOUN'), ('force', 'NOUN'), ('they', 'PRON'), ('liability', 'NOUN'), ('mr.', 'NOUN'), ('of', 'ADP'), ('house', 'NOUN'), ('7.95', 'NUM'), ('*t*-2', 'X'), ('amount', 'NOUN'), ('with', 'ADP'), ('program', 'NOUN'), ('potential', 'ADJ'), ('*u*', 'X'), ('*t*-1', 'X'), ('*u*', 'X'), ('to', 'PRT'), ('funds', 'NOUN'), ('meaning', 'NOUN'), ('been', 'VERB'), ('clients', 'NOUN'), ('a', 'DET'), ('share', 'NOUN'), ('lung', 'NOUN'), ('commission', 'NOUN'), ('billion', 'NUM'), ('.', '.'), ('acid', 'NOUN'), ('well', 'ADV'), ('banks', 'NOUN'), ('deprived', 'NUM'), ('with', 'ADP'), ('do', 'VERB'), (';', '.'), ('is', 'VERB'), ('.', '.'), ('rieslings', 'X'), ('.', '.'), ('*-3', 'X'), ('an', 'DET'), (',', '.'), ('november', 'NOUN'), ('$', '.'), ('.', '.'), ('concern', 'NOUN'), ('rally', 'NOUN'), ('year', 'NOUN'), (',', '.'), ('the', 'DET'), ('of', 'ADP'), ('inc.', 'NOUN'), ('nations', 'NOUN'), ('playing', 'VERB'), ('111', 'NUM'), ('-lrb-', '.'), ('international', 'NOUN'), ('you', 'PRON'), ('to', 'PRT'), ('growing', 'VERB'), ('really', 'ADV'), ('reduce', 'VERB'), ('.', '.'), ('northeast', 'NOUN'), ('compound', 'NOUN'), ('have', 'VERB'), ('the', 'DET'), (',', '.'), ('example', 'NOUN'), ('railroad', 'NOUN'), ('hegemony', 'NUM'), ('gain', 'NOUN'), ('the', 'DET'), ('the', 'DET'), ('orders', 'NOUN'), ('to', 'PRT'), ('has', 'VERB'), ('an', 'DET'), ('.', '.'), ('of', 'ADP'), ('public', 'ADJ'), ('plan', 'NOUN'), ('*', 'X'), ('to', 'PRT'), ('reading', 'NOUN'), ('*-1', 'X'), (\"''\", '.'), ('.', '.'), ('its', 'PRON'), ('life-insurance', '.'), ('corn', 'NOUN'), ('looming', 'VERB'), ('won', 'VERB'), (',', '.'), ('.', '.'), ('sell', 'VERB'), ('between', 'ADP'), ('securities', 'NOUN'), ('include', 'VERB'), ('other', 'ADJ'), ('million', 'NUM'), ('worth', 'NOUN'), ('to', 'PRT'), ('to', 'PRT'), ('faces', 'VERB'), ('crucial', 'ADV'), ('of', 'ADP'), ('buyer', 'NOUN'), ('classes', 'NOUN'), ('year', 'NOUN'), ('view', 'NOUN'), ('criminal', 'ADJ'), ('because', 'ADP'), (',', '.'), ('but', 'CONJ'), ('have', 'VERB'), ('ought', 'VERB'), (',', '.'), ('common', 'ADJ'), ('costs', 'NOUN'), ('*-1', 'X'), ('for', 'ADP'), (',', '.'), ('said', 'VERB'), ('tests', 'NOUN'), ('continue', 'VERB'), ('pick', 'VERB'), ('stores', 'NOUN'), ('to', 'PRT'), ('the', 'DET'), ('mr.', 'NOUN'), ('law', 'NOUN'), ('of', 'ADP'), ('to', 'PRT'), ('.', '.'), ('*-2', 'X'), ('as', 'ADP'), ('mr.', 'NOUN'), ('of', 'ADP'), ('*-3', 'X'), ('a', 'DET'), ('sales', 'NOUN'), ('quarter', 'NOUN'), ('said', 'VERB'), ('tune', 'VERB'), ('salmore', 'NOUN'), ('leming', 'NOUN'), ('stage', 'NOUN'), ('the', 'DET'), ('spurred', 'VERB'), ('to', 'PRT'), ('economy', 'NOUN'), ('the', 'DET'), ('*-1', 'X'), ('mr.', 'NOUN'), ('depression', 'NUM'), ('bell', 'NOUN'), ('buy', 'VERB'), ('the', 'DET'), ('nev.', 'NOUN'), ('.', '.'), ('workers', 'NOUN'), ('were', 'VERB'), ('after', 'ADP'), ('from', 'ADP'), ('if', 'ADP'), ('a', 'DET'), ('to', 'PRT'), ('.', '.'), ('%', 'NOUN'), ('on', 'ADP'), (\"n't\", 'ADV'), ('demands', 'CONJ'), ('just', 'ADV'), ('are', 'VERB'), ('co', 'NOUN'), ('500', 'NUM'), ('0', 'X'), ('university', 'NOUN'), ('del.', 'NOUN'), ('of', 'ADP'), ('begin', 'VERB'), ('latest', 'ADJ'), ('*-1', 'X'), ('over', 'ADP'), ('.', '.'), ('midwest', 'NOUN'), ('significantly', 'ADV'), ('.', '.'), ('and', 'CONJ'), (',', '.'), ('artist', 'NOUN'), ('clients', 'NOUN'), ('violations', 'NOUN'), ('court', 'NOUN'), (',', '.'), (',', '.'), ('shelf', 'X'), ('problem', 'NOUN'), ('*-1', 'X'), ('chest', 'ADJ'), ('*-2', 'X'), ('veraldi', 'NOUN'), ('which', 'DET'), ('items', 'NOUN'), ('president', 'NOUN'), ('``', '.'), ('soviets', 'NOUN'), (',', '.'), (\"'s\", 'PRT'), ('strength', 'NOUN'), ('by', 'ADP'), ('.', '.'), ('listing', 'NOUN'), ('``', '.'), ('receipt', 'X'), ('months', 'NOUN'), ('also', 'ADV'), ('us', 'PRON'), ('they', 'PRON'), (';', '.'), ('federal', 'ADJ'), ('free', 'ADJ'), ('past', 'ADJ'), ('international', 'NOUN'), ('this', 'DET'), ('.', '.'), ('to', 'PRT'), ('he', 'PRON'), ('the', 'DET'), ('on', 'ADP'), ('ca', 'VERB'), ('classroom', 'NOUN'), ('terms', 'NOUN'), ('can', 'VERB'), (\"n't\", 'ADV'), ('a', 'DET'), ('trucks', 'NOUN'), ('funds', 'NOUN'), ('few', 'ADJ'), ('mercury', 'NOUN'), ('the', 'DET'), ('structural', 'NOUN'), ('and', 'CONJ'), ('telerate', 'NOUN'), ('stock', 'NOUN'), ('to', 'PRT'), ('$', '.'), ('in', 'ADP'), ('.', '.'), ('japan', 'NOUN'), ('protests', 'NOUN'), ('an', 'DET'), ('mainland', 'PRT'), ('319.75', 'CONJ'), ('both', 'DET'), ('issue', 'NOUN'), ('agreement', 'NOUN'), ('at', 'ADP'), ('the', 'DET'), ('writers', 'NOUN'), ('a', 'DET'), ('any', 'DET'), ('to', 'PRT'), ('about', 'ADP'), ('*', 'X'), ('and', 'CONJ'), ('*t*-2', 'X'), ('flag', 'NOUN'), ('such', 'ADJ'), ('hearst', 'NOUN'), ('asia', 'NOUN'), ('speculation', 'NOUN'), ('apparently', 'ADV'), ('the', 'DET'), (':', '.'), ('ringer', 'NOUN'), ('pay', 'VERB'), ('that', 'ADP'), ('a.l.', 'PRT'), ('plans', 'VERB'), ('acquire', 'VERB'), ('.', '.'), ('we', 'PRON'), ('six-month', 'ADJ'), ('schools', 'NOUN'), ('conference', 'NOUN'), ('announcement', 'NOUN'), ('and', 'CONJ'), ('common', 'ADJ'), ('other', 'ADJ'), ('sino-u.s.', 'ADJ'), ('soviets', 'NOUN'), ('.', '.'), (\"'s\", 'PRT'), ('the', 'DET'), ('some', 'DET'), ('.', '.'), ('make', 'VERB'), ('largest', 'ADJ'), ('taiwan', 'NOUN'), ('18', 'NUM'), ('treasury', 'NOUN'), (\"n't\", 'ADV'), ('and', 'CONJ'), ('other', 'ADJ'), ('.', '.'), ('80.50', 'X'), ('*', 'X'), (\"''\", '.'), ('increasing', 'VERB'), ('*-1', 'X'), ('two', 'NUM'), (',', '.'), ('.', '.'), ('*', 'X'), ('peter', 'NOUN'), ('*', 'X'), ('.', '.'), ('less-than-brilliant', 'X'), ('markets', 'NOUN'), ('be', 'VERB'), ('sulaiman', 'ADV'), ('not', 'ADV'), ('are', 'VERB'), ('was', 'VERB'), ('.', '.'), ('three', 'NUM'), ('bill', 'NOUN'), ('far', 'ADV'), ('9', 'NUM'), (',', '.'), ('*', 'X'), ('the', 'DET'), ('fraud', 'NOUN'), ('has', 'VERB'), ('in', 'ADP'), ('a', 'DET'), ('one', 'NUM'), ('tony', 'NOUN'), ('president', 'NOUN'), ('*t*-1', 'X'), ('the', 'DET'), ('they', 'PRON'), ('0', 'X'), ('only', 'ADV'), ('company', 'NOUN'), ('curry', 'NOUN'), ('.', '.'), (',', '.'), ('to', 'PRT'), ('*t*-3', 'X'), (',', '.'), ('holdings', 'NOUN'), (',', '.'), (',', '.'), (',', '.'), ('coleman', 'NOUN'), ('$', '.'), ('reported', 'VERB'), (',', '.'), ('choose', 'VERB'), ('at&t', 'NOUN'), ('0', 'X'), ('they', 'PRON'), ('valley', 'NOUN'), ('$', '.'), ('of', 'ADP'), ('.', '.'), ('in', 'ADP'), (\"''\", '.'), ('*', 'X'), ('from', 'ADP'), ('modestly', 'ADV'), ('go', 'VERB'), ('the', 'DET'), ('cataract', 'NOUN'), ('and', 'CONJ'), ('shares', 'NOUN'), ('complex', 'ADJ'), ('*-41', 'X'), ('strapped', 'ADJ'), ('situation', 'NOUN'), ('inc.', 'NOUN'), ('number', 'NOUN'), ('and', 'CONJ'), ('said', 'VERB'), ('recently', 'ADV'), ('in', 'ADP'), ('co.', 'NOUN'), ('profited', 'NUM'), ('lacks', 'VERB'), ('transaction', 'NOUN'), (',', '.'), ('of', 'ADP'), ('%', 'NOUN'), ('are', 'VERB'), ('.', '.'), ('new', 'ADJ'), (',', '.'), ('passed', 'VERB'), ('six', 'NUM'), ('million', 'NUM'), ('as', 'ADP'), ('and', 'CONJ'), ('they', 'PRON'), (\"''\", '.'), ('and', 'CONJ'), ('asia', 'NOUN'), ('u.s.', 'NOUN'), ('30.6', 'NUM'), ('the', 'DET'), ('$', '.'), ('to', 'PRT'), ('warning', 'VERB'), ('pcs', 'NOUN'), ('the', 'DET'), ('fully', 'ADV'), (',', '.'), ('u.s.', 'NOUN'), ('plan', 'NOUN'), ('relatively', 'ADV'), ('the', 'DET'), ('survey', 'NOUN'), ('whether', 'ADP'), ('american', 'NOUN'), ('years', 'NOUN'), ('.', '.'), ('their', 'PRON'), ('because', 'ADP'), ('*t*-1', 'X'), ('earn', 'VERB'), (\"''\", '.'), ('facilities', 'NOUN'), ('0', 'X'), ('yesterday', 'NOUN'), ('as', 'ADP'), ('.', '.'), ('half-hour', 'NOUN'), ('the', 'DET'), ('.', '.'), ('smothering', 'X'), ('to', 'PRT'), ('recently', 'ADV'), ('.', '.'), ('president', 'NOUN'), ('as', 'ADP'), ('stock', 'NOUN'), ('%', 'NOUN'), ('*-1', 'X'), ('top', 'ADJ'), ('for', 'ADP'), ('bid', 'NOUN'), ('small', 'ADJ'), ('the', 'DET'), ('finally', 'ADV'), ('further', 'ADJ'), ('airline', 'NOUN'), ('of', 'ADP'), ('resembles', 'PRT'), ('a', 'DET'), ('-lcb-', '.'), ('...', '.'), ('of', 'ADP'), ('they', 'PRON'), ('a', 'DET'), ('.', '.'), ('sometimes-exhausting', 'X'), ('changes', 'NOUN'), ('*ppa*-2', 'X'), ('each', 'DET'), ('mich.', 'NOUN'), ('instructed', 'NUM'), ('*', 'X'), ('a', 'DET'), ('assemble', 'PRT'), (':', '.'), ('officials', 'NOUN'), ('by', 'ADP'), ('to', 'PRT'), ('wines', 'NOUN'), (\"'s\", 'PRT'), ('new', 'ADJ'), ('doctor', 'PRON'), ('``', '.'), ('or', 'CONJ'), ('of', 'ADP'), ('of', 'ADP'), ('*t*-1', 'X'), ('the', 'DET'), ('america', 'NOUN'), ('spur', 'VERB'), ('pro-choice', 'ADJ'), ('an', 'DET'), ('a', 'DET'), ('like', 'ADP'), ('military', 'ADJ'), (',', '.'), (',', '.'), ('government', 'NOUN'), ('17', 'NUM'), ('in', 'ADP'), ('stations', 'NOUN'), ('follows', 'VERB'), ('accounts', 'NOUN'), ('without', 'ADP'), ('over-the-counter', 'ADJ'), ('outnumbered', 'PRON'), ('will', 'VERB'), ('it', 'PRON'), ('with', 'ADP'), ('*t*-1', 'X'), ('penalties', 'NOUN'), ('away', 'ADV'), ('.', '.'), ('that', 'ADP'), ('*t*-1', 'X'), ('%', 'NOUN'), ('who', 'PRON'), ('volatile', 'ADJ'), ('to', 'PRT'), (',', '.'), ('*-1', 'X'), ('club', 'NOUN'), ('1903', 'NUM'), ('england', 'NOUN'), ('*t*-1', 'X'), ('20', 'NUM'), (',', '.'), ('observance', 'X'), ('traditionalists', 'ADJ'), ('others', 'NOUN'), ('officials', 'NOUN'), ('doing', 'VERB'), ('among', 'ADP'), ('new', 'ADJ'), ('mr.', 'NOUN'), ('would', 'VERB'), (',', '.'), ('attention', 'NOUN'), ('became', 'VERB'), ('telegraph', 'NOUN'), ('.', '.'), ('terms', 'NOUN'), ('*-1', 'X'), ('that', 'ADP'), ('*u*', 'X'), ('from', 'ADP'), ('recovered', 'VERB'), ('of', 'ADP'), ('about', 'ADP'), ('figure', 'VERB'), ('0', 'X'), ('semiconductors', 'ADJ'), ('progress', 'NOUN'), ('and', 'CONJ'), ('average', 'ADJ'), ('new', 'ADJ'), ('of', 'ADP'), ('basic', 'ADJ'), ('followed', 'VERB'), ('repeatedly', 'ADV'), ('the', 'DET'), ('and', 'CONJ'), ('yesterday', 'NOUN'), ('of', 'ADP'), ('of', 'ADP'), ('explanatory', 'PRT'), ('seymour', 'NOUN'), ('l.', 'NOUN'), ('containers', 'NOUN'), ('i', 'PRON'), ('new', 'ADJ'), ('media', 'NOUN'), ('and', 'CONJ'), ('*t*-1', 'X'), ('whether', 'ADP'), ('drawing', 'VERB'), ('the', 'DET'), ('*t*-202', 'PRT'), ('with', 'ADP'), ('support', 'NOUN'), ('bring', 'VERB'), ('requires', 'VERB'), ('*', 'X'), ('in', 'ADP'), ('of', 'ADP'), ('scripts', 'NOUN'), ('bushels', 'NOUN'), ('association', 'NOUN'), ('million', 'NUM'), ('u.s.', 'NOUN'), ('150', 'NUM'), ('justice', 'NOUN'), ('*-1', 'X'), ('shares', 'NOUN'), (',', '.'), ('house', 'NOUN'), ('failed', 'VERB'), ('220.45', 'ADV'), ('language', 'NOUN'), ('cdc', 'NUM'), ('line', 'NOUN'), ('about', 'ADP'), ('$', '.'), ('investment', 'NOUN'), ('-lrb-', '.'), ('history', 'NOUN'), ('undisclosed', 'NUM'), ('to', 'PRT'), ('princely', 'CONJ'), ('%', 'NOUN'), ('.', '.'), ('low', 'ADJ'), ('.', '.'), ('at', 'ADP'), ('safety', 'NOUN'), ('that', 'ADP'), ('%', 'NOUN'), ('were', 'VERB'), ('which', 'DET'), ('fetal-tissue', 'ADJ'), (',', '.'), ('national', 'NOUN'), ('moines', 'NOUN'), ('c.d.s', 'NUM'), ('the', 'DET'), ('to', 'PRT'), (',', '.'), ('the', 'DET'), ('abuse', 'NOUN'), ('the', 'DET'), (\"'s\", 'PRT'), ('islands', 'CONJ'), ('being', 'VERB'), ('of', 'ADP'), ('fifth-grade', 'NOUN'), ('*ich*-1', 'X'), ('is', 'VERB'), ('opportunities', 'NOUN'), ('``', '.'), ('%', 'NOUN'), ('they', 'PRON'), ('said', 'VERB'), ('notes', 'NOUN'), ('dislike', 'NOUN'), ('in', 'ADP'), ('someone', 'NOUN'), ('of', 'ADP'), ('.', '.'), ('it', 'PRON'), ('current', 'ADJ'), ('through', 'ADP'), ('generate', 'PRT'), ('*ich*-2', 'X'), ('extent', 'NOUN'), ('will', 'VERB'), ('below', 'ADP'), ('bigger', 'ADJ'), ('your', 'PRON'), ('7', 'NUM'), ('to', 'PRT'), ('broader', 'ADJ'), (',', '.'), ('0', 'X'), ('and', 'CONJ'), ('year', 'NOUN'), ('--', '.'), (',', '.'), ('japan', 'NOUN'), (\"'s\", 'PRT'), ('monthly', 'ADJ'), ('yen', 'NOUN'), ('were', 'VERB'), ('matters', 'NOUN'), ('graphs', 'NUM'), ('on', 'ADP'), ('notes', 'NOUN'), ('brazil', 'NOUN'), ('*-1', 'X'), ('virgin', 'NOUN'), ('of', 'ADP'), ('at', 'ADP'), ('our', 'PRON'), ('after', 'ADP'), ('practice', 'NOUN'), ('awaits', 'NUM'), ('*t*-2', 'X'), ('-rrb-', '.'), (',', '.'), ('including', 'VERB'), ('when', 'ADV'), ('*rnr*-2', 'X'), ('half', 'DET'), ('been', 'VERB'), ('of', 'ADP'), ('make', 'VERB'), ('.', '.'), (',', '.'), ('to', 'PRT'), ('unpopularity', 'CONJ'), ('reclaimed', 'DET'), ('in', 'ADP'), ('management', 'NOUN'), (\"'s\", 'PRT'), ('simmons', 'NOUN'), ('banks', 'NOUN'), ('the', 'DET'), ('has', 'VERB'), ('market', 'NOUN'), ('while', 'ADP'), ('world', 'NOUN'), ('of', 'ADP'), ('by', 'ADP'), ('law', 'NOUN'), ('a', 'DET'), ('attached', 'VERB'), ('country', 'NOUN'), ('framers', 'NOUN'), ('*ich*-2', 'X'), (',', '.'), ('who', 'PRON'), ('.', '.'), ('as', 'ADP'), ('added', 'VERB'), ('week', 'NOUN'), ('into', 'ADP'), ('a', 'DET'), ('*u*', 'X'), ('a', 'DET'), ('early', 'ADJ'), ('insisted', 'VERB'), ('d.', 'NOUN'), ('merit', 'NOUN'), ('have', 'VERB'), (\"''\", '.'), ('.', '.'), ('``', '.'), ('gains', 'NOUN'), ('proposal', 'NOUN'), (\"'s\", 'PRT'), ('run-down', 'ADJ'), ('difficult', 'ADJ'), ('a', 'DET'), ('was', 'VERB'), ('within', 'ADP'), ('priced', 'VERB'), ('was', 'VERB'), ('direct', 'ADJ'), ('that', 'ADP'), ('7\\\\/8', 'NUM'), ('*exp*-1', 'X'), ('*', 'X'), ('national', 'NOUN'), ('slip', 'NUM'), ('mailed', 'ADP'), ('corp.', 'NOUN'), ('by', 'ADP'), ('to', 'PRT'), ('owed', 'VERB'), ('said', 'VERB'), ('made', 'VERB'), ('is', 'VERB'), ('an', 'DET'), ('.', '.'), ('by', 'ADP'), ('*t*-198', 'PRT'), ('form', 'NOUN'), ('ordered', 'VERB'), ('have', 'VERB'), ('stock', 'NOUN'), ('15', 'NUM'), ('common', 'ADJ'), ('the', 'DET'), ('of', 'ADP'), ('a', 'DET'), ('the', 'DET'), ('10', 'NUM'), ('the', 'DET'), ('trading', 'NOUN'), ('for', 'ADP'), ('ordered', 'VERB'), ('will', 'VERB'), ('of', 'ADP'), ('another', 'DET'), ('group', 'NOUN'), ('.', '.'), ('yon', 'X'), ('and', 'CONJ'), ('$', '.'), ('number', 'NOUN'), ('orders', 'NOUN'), ('copper', 'NOUN'), ('stadium', 'NOUN'), ('shrinks', 'VERB'), ('fixed-rate', 'ADJ'), ('of', 'ADP'), ('*u*', 'X'), ('parallels', 'VERB'), ('hahn', 'NOUN'), ('of', 'ADP'), ('cut', 'VERB'), ('a', 'DET'), ('does', 'VERB'), ('show', 'NOUN'), ('0', 'X'), ('the', 'DET'), ('mergers', 'NOUN'), ('.', '.'), ('jack', 'NOUN'), ('of', 'ADP'), ('.', '.'), ('quitting', 'X'), (',', '.'), ('terms', 'NOUN'), ('by', 'ADP'), ('said', 'VERB'), ('car', 'NOUN'), ('a', 'DET'), ('systems', 'NOUN'), ('mcgovern', 'NOUN'), ('financing', 'NOUN'), ('.', '.'), ('or', 'CONJ'), ('and', 'CONJ'), ('*-1', 'X'), ('more', 'ADJ'), ('of', 'ADP'), ('the', 'DET'), ('*', 'X'), ('expanded', 'VERB'), ('you', 'PRON'), ('courtroom', 'NOUN'), ('the', 'DET'), ('off', 'PRT'), ('new', 'ADJ'), ('mr.', 'NOUN'), ('purchase', 'NOUN'), ('*t*-1', 'X'), ('share', 'NOUN'), ('sauvignon', 'NUM'), ('bridge', 'NOUN'), ('they', 'PRON'), (',', '.'), ('leader', 'NOUN'), ('at', 'ADP'), ('*t*-4', 'X'), ('.', '.'), ('the', 'DET'), ('short-term', 'ADJ'), ('*t*-1', 'X'), ('congress', 'NOUN'), ('4', 'NUM'), ('9.37', 'ADP'), ('``', '.'), ('regarded', 'VERB'), ('as', 'ADP'), ('a.', 'NOUN'), ('as', 'ADP'), ('into', 'ADP'), ('junk-bond', 'NOUN'), ('publishing', 'NOUN'), ('and', 'CONJ'), ('to', 'PRT'), ('$', '.'), ('a', 'DET'), (',', '.'), ('however', 'ADV'), ('yesterday', 'NOUN'), ('at', 'ADP'), ('lessen', 'PRT'), ('*t*-1', 'X'), (\"'s\", 'PRT'), ('caldor', 'NOUN'), ('about', 'ADP'), ('from', 'ADP'), ('his', 'PRON'), ('is', 'VERB'), ('for', 'ADP'), ('performance', 'NOUN'), ('but', 'CONJ'), ('been', 'VERB'), ('going', 'VERB'), ('has', 'VERB'), (',', '.'), ('serious', 'ADJ'), ('already', 'ADV'), ('to', 'PRT'), ('boosters', 'NOUN'), ('they', 'PRON'), ('62', 'NUM'), ('the', 'DET'), ('charles', 'NOUN'), ('mixed', 'VERB'), ('slowing', 'VERB'), ('lord', 'NOUN'), ('hurricane', 'NOUN'), ('violations', 'NOUN'), ('unit', 'NOUN'), ('japan', 'NOUN'), ('when', 'ADV'), ('one', 'NUM'), ('showed', 'VERB'), ('representative', 'NOUN'), ('democrats', 'NOUN'), ('launched', 'VERB'), ('trade', 'NOUN'), ('family', 'NOUN'), ('reflect', 'VERB'), ('into', 'ADP'), ('$', '.'), ('$', '.'), ('.', '.'), ('million', 'NUM'), ('let', 'VERB'), ('america', 'NOUN'), ('ual', 'NOUN'), ('is', 'VERB'), ('paris', 'ADV'), ('in', 'ADP'), ('``', '.'), ('faultlessly', 'X'), ('his', 'PRON'), ('asserts', '.'), ('*u*', 'X'), ('the', 'DET'), ('billion', 'NUM'), ('*t*-9', 'X'), ('casting', 'VERB'), ('of', 'ADP'), ('the', 'DET'), ('warning', 'NOUN'), ('china', 'NOUN'), ('market', 'NOUN'), ('of', 'ADP'), ('million', 'NUM'), (',', '.'), ('the', 'DET'), ('all', 'DET'), ('eastern', 'NOUN'), ('.', '.'), (',', '.'), ('recommended', 'X'), ('in', 'ADP'), ('here', 'ADV'), ('shareholder-rights', 'CONJ'), (\"''\", '.'), ('.', '.'), ('if', 'ADP'), ('the', 'DET'), ('mortgage', 'NOUN'), ('over', 'ADP'), ('good', 'ADJ'), ('the', 'DET'), ('and', 'CONJ'), ('upheld', 'VERB'), ('heavily', 'ADV'), ('is', 'VERB'), ('in', 'ADP'), ('sheaf', 'PRT'), ('victory', 'NOUN'), ('is', 'VERB'), ('the', 'DET'), ('a', 'DET'), (\"'re\", 'VERB'), (',', '.'), ('to', 'PRT'), ('arbitrage', 'NOUN'), ('two', 'NUM'), ('3\\\\/4', 'NUM'), ('action', 'NOUN'), ('.', '.'), (',', '.'), ('a', 'DET'), ('a', 'DET'), ('``', '.'), ('``', '.'), ('a', 'DET'), ('numbered', 'PRT'), ('and', 'CONJ'), (\"''\", '.'), ('leaving', 'VERB'), ('tray', 'ADV'), ('graduate', 'NOUN'), ('home', 'NOUN'), ('by', 'ADP'), ('falls', 'VERB'), ('acquisition', 'NOUN'), (',', '.'), ('u.s.', 'NOUN'), ('commission', 'NOUN'), ('government-funded', 'NUM'), ('to', 'PRT'), (',', '.'), ('the', 'DET'), ('one', 'NUM'), ('to', 'PRT'), (\"'s\", 'PRT'), ('plan', 'NOUN'), ('widgets', 'NUM'), ('fundamental', 'ADJ'), ('by', 'ADP'), ('the', 'DET'), ('to', 'PRT'), ('available', 'ADJ'), ('stability', 'NOUN'), ('at', 'ADP'), ('managing', 'VERB'), ('the', 'DET'), ('the', 'DET'), ('flat', 'ADJ'), (',', '.'), ('12', 'NUM'), ('a', 'DET'), ('are', 'VERB'), ('is', 'VERB'), ('largest', 'ADJ'), ('for', 'ADP'), ('in', 'ADP'), ('cray-3', 'NOUN'), ('maker', 'NOUN'), (':', '.'), ('this', 'DET'), ('processing', 'NOUN'), ('of', 'ADP'), ('wrestling', 'PRT'), ('some', 'DET'), ('avid', 'PRT'), ('or', 'CONJ'), ('case', 'NOUN'), ('open-end', 'NUM'), ('to', 'PRT'), ('0', 'X'), ('plans', 'VERB'), ('to', 'PRT'), ('and', 'CONJ'), ('that', 'ADP'), ('points', 'NOUN'), ('i', 'PRON'), ('as', 'ADP'), ('sold', 'VERB'), ('will', 'VERB'), ('financial', 'ADJ'), ('above', 'ADP'), ('0', 'X'), ('moleculon', 'NOUN'), ('u.s.', 'NOUN'), (',', '.'), ('the', 'DET'), ('sold', 'VERB'), ('curbing', 'ADV'), ('24', 'NUM'), ('but', 'CONJ'), ('the', 'DET'), ('*u*', 'X'), ('--', '.'), ('profitable', 'ADJ'), ('the', 'DET'), ('have', 'VERB'), ('a', 'DET'), ('manager', 'NOUN'), ('alive', 'ADJ'), ('classroom', 'NOUN'), ('this', 'DET'), ('for', 'ADP'), ('series', 'NOUN'), ('biscayne', 'NOUN'), ('starting', 'VERB'), ('to', 'PRT'), ('%', 'NOUN'), (',', '.'), ('capital', 'NOUN'), ('*u*', 'X'), ('.', '.'), ('strong', 'ADJ'), ('votes', 'NOUN'), ('money', 'NOUN'), ('investors', 'NOUN'), ('377.60', 'NUM'), ('``', '.'), ('``', '.'), ('poor', 'NOUN'), ('the', 'DET'), ('public', 'ADJ'), ('or', 'CONJ'), ('many', 'ADJ'), ('by', 'ADP'), ('control', 'NOUN'), ('decline', 'NOUN'), ('transplants', 'NOUN'), ('reported', 'VERB'), ('considered', 'VERB'), ('firms', 'NOUN'), ('that', 'ADP'), ('and', 'CONJ'), (\"'s\", 'PRT'), ('*t*-1', 'X'), ('cents', 'NOUN'), (\"'s\", 'PRT'), ('1997', 'CONJ'), ('global', 'ADJ'), ('s&p', 'NOUN'), ('600', 'NUM'), ('*t*-1', 'X'), ('stand', 'VERB'), ('chief', 'NOUN'), ('globe', 'NOUN'), ('as', 'ADP'), ('in', 'ADP'), ('to', 'PRT'), ('edison', 'NOUN'), ('well', 'ADV'), ('wa', 'NOUN'), ('gulf', 'NOUN'), (',', '.'), ('extramarital', 'X'), ('causing', 'VERB'), ('places', 'NOUN'), ('asbestos', 'NOUN'), ('still', 'ADV'), ('n.j.-based', 'CONJ'), ('vice', 'NOUN'), ('fees', 'NOUN'), ('separate', 'ADJ'), ('operation', 'NOUN'), ('billion', 'NUM'), ('from', 'ADP'), ('hills', 'NOUN'), ('farmers', 'NOUN'), ('they', 'PRON'), ('u.s.', 'NOUN'), ('shareholders', 'NOUN'), ('network', 'NOUN'), ('securities', 'NOUN'), ('of', 'ADP'), ('conduct', 'VERB'), ('he', 'PRON'), ('homeless', 'NOUN'), ('%', 'NOUN'), ('by', 'ADP'), ('economic', 'ADJ'), ('require', 'VERB'), ('a', 'DET'), (',', '.'), ('ingredients', 'X'), ('have', 'VERB'), (',', '.'), ('hustlers', 'X'), ('laws', 'NOUN'), ('japanese', 'ADJ'), ('banks', 'NOUN'), ('business', 'NOUN'), ('often', 'ADV'), ('as', 'ADP'), ('hudson', 'NOUN'), ('of', 'ADP'), ('.', '.'), ('7.20', 'X'), ('such', 'ADJ'), ('*u*', 'X'), ('economics', 'NOUN'), ('chrysler', 'NOUN'), ('had', 'VERB'), ('mr.', 'NOUN'), ('jr.', 'NOUN'), ('miller', 'NOUN'), ('the', 'DET'), ('the', 'DET'), ('small', 'ADJ'), ('japan', 'NOUN'), ('it', 'PRON'), ('clears', '.'), ('able', 'ADJ'), ('network', 'NOUN'), ('.', '.'), ('colleagues', 'NOUN'), ('*-1', 'X'), ('.', '.'), (',', '.'), ('dividends', 'NOUN'), ('slowly', 'ADV'), ('of', 'ADP'), ('of', 'ADP'), ('plants', 'NOUN'), ('will', 'VERB'), ('drag-down', 'ADV'), ('$', '.'), (',', '.'), ('to', 'PRT'), ('of', 'ADP'), ('no', 'DET'), (',', '.'), ('*-1', 'X'), ('to', 'PRT'), ('new', 'ADJ'), ('afternoon', 'NOUN'), ('nearly', 'ADV'), ('*', 'X'), ('value', 'NOUN'), ('program', 'NOUN'), ('or', 'CONJ'), ('to', 'PRT'), ('$', '.'), ('mr.', 'NOUN'), ('.', '.'), (',', '.'), ('because', 'ADP'), ('26', 'NUM'), ('transportation', 'NOUN'), ('spitler', 'NUM'), ('canadian', 'ADJ'), ('banks', 'NOUN'), ('added', 'VERB'), ('are', 'VERB'), ('``', '.'), ('off', 'PRT'), ('and', 'CONJ'), ('*-1', 'X'), ('seeing', 'VERB'), ('10', 'NUM'), ('balance', 'NOUN'), ('a', 'DET'), ('.', '.'), ('the', 'DET'), ('ward', 'NOUN'), ('the', 'DET'), ('%', 'NOUN'), ('under', 'ADP'), (\"'s\", 'PRT'), (',', '.'), ('acting', 'X'), ('of', 'ADP'), ('support', 'NOUN'), ('the', 'DET'), ('--', '.'), ('1.6', 'NUM'), (\"'\", 'PRT'), ('several', 'ADJ'), ('$', '.'), ('to', 'PRT'), ('suspended', 'VERB'), ('.', '.'), ('million', 'NUM'), ('i', 'PRON'), ('were', 'VERB'), ('that', 'ADP'), ('share', 'NOUN'), ('medical', 'ADJ'), ('about', 'ADP'), (',', '.'), ('investors', 'NOUN'), ('edwards', 'NOUN'), ('of', 'ADP'), ('*t*-32', 'X'), ('``', '.'), ('.', '.'), ('questions', 'NOUN'), (',', '.'), ('deal', 'NOUN'), ('payouts', 'NOUN'), ('for', 'ADP'), ('president', 'NOUN'), ('the', 'DET'), ('october', 'NOUN'), ('tender', 'NOUN'), ('bowl', 'NUM'), ('in', 'ADP'), ('fare', 'VERB'), ('before', 'ADP'), ('authorized', 'PRT'), ('the', 'DET'), ('the', 'DET'), ('as', 'ADP'), ('filling', 'VERB'), ('by', 'ADP'), ('for', 'ADP'), ('utsumi', 'PRT'), ('paid', 'VERB'), ('1.5', 'NUM'), ('to', 'PRT'), ('increased', 'VERB'), ('of', 'ADP'), ('3\\\\/4', 'NUM'), ('.', '.'), ('makers', 'NOUN'), ('first', 'ADJ'), ('.', '.'), ('a', 'DET'), ('the', 'DET'), ('could', 'VERB'), ('contract', 'NOUN'), ('the', 'DET'), ('of', 'ADP'), ('immune', 'ADJ'), ('to', 'PRT'), ('company', 'NOUN'), ('*u*', 'X'), ('xiaoping', 'ADJ'), ('companies', 'NOUN'), ('within', 'ADP'), ('$', '.'), ('company', 'NOUN'), ('massachusetts', 'NOUN'), ('&', 'CONJ'), ('scheduled', 'VERB'), ('and', 'CONJ'), ('of', 'ADP'), ('1', 'NUM'), ('he', 'PRON'), ('7.8', '.'), ('this', 'DET'), ('is', 'VERB'), ('corp.', 'NOUN'), ('wilcox', 'NUM'), ('had', 'VERB'), ('any', 'DET'), ('constitutional', 'ADJ'), (',', '.'), ('valuation', 'X'), ('830,000', 'ADJ'), ('.', '.'), ('those', 'DET'), ('the', 'DET'), ('were', 'VERB'), ('its', 'PRON'), ('it', 'PRON'), ('plo', '.'), ('a', 'DET'), ('.', '.'), ('dismissed', 'VERB'), ('church', 'NOUN'), ('mcgovern', 'NOUN'), ('should', 'VERB'), (',', '.'), ('the', 'DET'), ('1\\\\/2', 'NUM'), ('or', 'CONJ'), ('challenge', 'NOUN'), ('garbage', 'NOUN'), ('spending', 'NOUN'), ('disciplinary', 'ADJ'), ('team', 'NOUN'), ('minister', 'NOUN'), ('some', 'DET'), ('16.9', 'PRT'), ('still', 'ADV'), (\"'\", 'PRT'), ('expects', 'VERB'), ('.', '.'), ('until', 'ADP'), ('proceeds', 'NOUN'), ('from', 'ADP'), ('purchase', 'NOUN'), ('futures', 'NOUN'), ('easier', 'ADJ'), ('*-3', 'X'), ('because', 'ADP'), (',', '.'), ('net', 'ADJ'), ('fell', 'VERB'), ('from', 'ADP'), ('of', 'ADP'), ('mayor', 'NOUN'), ('a', 'DET'), ('joined', 'VERB'), ('0', 'X'), ('$', '.'), ('about', 'ADP'), ('for', 'ADP'), ('its', 'PRON'), ('.', '.'), ('rose', 'VERB'), ('to', 'PRT'), ('hampshire', 'NOUN'), ('irs', 'NOUN'), ('the', 'DET'), ('even', 'ADV'), ('identify', 'VERB'), ('sell', 'VERB'), ('at', 'ADP'), ('0', 'X'), ('the', 'DET'), ('issue', 'NOUN'), ('mortgage-backed', 'ADJ'), ('to', 'PRT'), ('have', 'VERB'), ('bowed', 'VERB'), ('the', 'DET'), ('might', 'VERB'), ('in', 'ADP'), ('the', 'DET'), ('cents', 'NOUN'), ('to', 'PRT'), ('of', 'ADP'), (',', '.'), ('abrupt', 'X'), ('to', 'PRT'), ('13', 'NUM'), ('was', 'VERB'), ('number', 'NOUN'), ('fit', 'NOUN'), ('that', 'ADP'), ('day', 'NOUN'), ('*-59', 'X'), ('president', 'NOUN'), ('.', '.'), (\"'s\", 'PRT'), ('playing', 'VERB'), ('interior', 'ADV'), ('kids', 'NOUN'), ('dunkin', 'NUM'), ('*t*-1', 'X'), (\"'s\", 'PRT'), ('sketch', 'NOUN'), ('``', '.'), ('dreamed', 'X'), ('to', 'PRT'), ('do', 'VERB'), (',', '.'), ('at', 'ADP'), ('exchange', 'NOUN'), ('widgets', 'NUM'), ('sub-markets', 'ADP'), ('or', 'CONJ'), ('.', '.'), ('*-1', 'X'), ('methods', 'NOUN'), ('days', 'NOUN'), ('who', 'PRON'), (',', '.'), ('creating', 'VERB'), ('$', '.'), ('who', 'PRON'), ('executives', 'NOUN'), ('for', 'ADP'), ('engaged', 'VERB'), ('at', 'ADP'), ('and', 'CONJ'), ('and', 'CONJ'), ('of', 'ADP'), ('*t*-1', 'X'), ('*-1', 'X'), ('further', 'ADJ'), ('92.9', 'PRON'), (',', '.'), ('of', 'ADP'), ('had', 'VERB'), (',', '.'), ('to', 'PRT'), ('-rcb-', '.'), ('filed', 'VERB'), ('recent', 'ADJ'), ('post', 'NOUN'), ('heating', 'NOUN'), ('offer', 'NOUN'), (';', '.'), ('at', 'ADP'), ('wants', 'VERB'), ('*-1', 'X'), (',', '.'), ('theory', 'NOUN'), ('60', 'NUM'), ('.', '.'), ('ross', 'NOUN'), (',', '.'), ('and', 'CONJ'), ('a', 'DET'), ('.', '.'), ('even', 'ADV'), ('her', 'PRON'), ('rapanelli', 'NOUN'), ('up', 'PRT'), ('we', 'PRON'), ('he', 'PRON'), ('to', 'PRT'), ('.', '.'), (',', '.'), ('breaker', 'NOUN'), ('$', '.'), ('.', '.'), ('--', '.'), ('*t*-1', 'X'), ('terminated', 'VERB'), ('bangkok', 'ADV'), (',', '.'), ('what', 'PRON'), ('knew', 'VERB'), ('state', 'NOUN'), ('of', 'ADP'), ('business', 'NOUN'), ('*t*-1', 'X'), ('so-called', 'ADJ'), ('it', 'PRON'), ('october', 'NOUN'), ('ways', 'NOUN'), ('*t*-26', 'X'), ('reuter', 'ADJ'), ('24', 'NUM'), ('.', '.'), ('fall', 'NOUN'), ('china', 'NOUN'), ('stand', 'VERB'), ('william', 'NOUN'), ('the', 'DET'), ('to', 'PRT'), ('hermitage', 'NOUN'), ('which', 'DET'), ('*-1', 'X'), ('to', 'PRT'), ('magazine', 'NOUN'), ('budget', 'NOUN'), ('dawn', 'NUM'), ('squier', 'ADP'), ('grain', 'NOUN'), ('a', 'DET'), ('sales', 'NOUN'), ('trades', 'NOUN'), ('auto-safety', 'NUM'), ('she', 'PRON'), ('for', 'ADP'), ('stated', 'VERB'), ('a', 'DET'), ('boy', 'PRT'), ('f.w.', 'CONJ'), ('program', 'NOUN'), ('co.', 'NOUN'), ('planned', 'VERB'), ('losing', 'VERB'), (',', '.'), ('*-2', 'X'), ('billion', 'NUM'), ('cat', 'NOUN'), ('that', 'ADP'), (\"'\", 'PRT'), (',', '.'), ('hands', 'NOUN'), ('grant', 'NOUN'), ('over', 'ADP'), ('the', 'DET'), ('to', 'PRT'), ('than', 'ADP'), ('*-1', 'X'), ('obligation', 'NOUN'), ('commission', 'NOUN'), ('.', '.'), ('its', 'PRON'), ('term', 'NOUN'), ('have', 'VERB'), ('she', 'PRON'), ('it', 'PRON'), ('his', 'PRON'), (',', '.'), ('american', 'NOUN'), ('in', 'ADP'), ('for', 'ADP'), (\"n't\", 'ADV'), ('numeral', 'CONJ'), ('with', 'ADP'), ('back', 'ADV'), ('been', 'VERB'), ('these', 'DET'), ('run', 'VERB'), ('and', 'CONJ'), ('for', 'ADP'), (\"''\", '.'), ('in', 'ADP'), ('*-1', 'X'), ('0', 'X'), ('though', 'ADP'), ('to', 'PRT'), ('by', 'ADP'), ('workers', 'NOUN'), ('the', 'DET'), ('with', 'ADP'), ('&', 'CONJ'), ('its', 'PRON'), ('$', '.'), ('hurt', 'VERB'), ('over', 'ADP'), ('of', 'ADP'), ('.', '.'), ('on', 'ADP'), (',', '.'), ('a', 'DET'), ('in', 'ADP'), ('company', 'NOUN'), ('only', 'ADV'), ('``', '.'), ('ill.', 'NOUN'), ('containers', 'NOUN'), ('resilient', 'NUM'), ('that', 'ADP'), ('machinists', 'PRT'), ('of', 'ADP'), ('before', 'ADP'), ('treasury', 'NOUN'), (':', '.'), ('knowledgeable', 'X'), ('chief', 'NOUN'), ('``', '.'), ('a', 'DET'), ('0', 'X'), ('first', 'ADJ'), ('.', '.'), ('ymca', 'X'), ('jobs', 'NOUN'), ('banks', 'NOUN'), ('any', 'DET'), ('--', '.'), ('volatility', 'NOUN'), ('bottom-line', 'NUM'), ('latest', 'ADJ'), ('fuel', 'NOUN'), ('was', 'VERB'), ('by', 'ADP'), (',', '.'), (';', '.'), ('would', 'VERB'), ('is', 'VERB'), (\"''\", '.'), ('the', 'DET'), ('to', 'PRT'), ('the', 'DET'), ('angle', 'NOUN'), ('over', 'ADP'), ('are', 'VERB'), ('of', 'ADP'), ('highest', 'ADJ'), (\"'s\", 'PRT'), ('enters', 'VERB'), ('is', 'VERB'), ('funny', 'ADJ'), ('to', 'PRT'), ('new', 'ADJ'), ('*t*-246', 'PRON'), ('*ich*-2', 'X'), ('the', 'DET'), ('unit', 'NOUN'), (',', '.'), ('down', 'ADV'), ('.', '.'), ('other', 'ADJ'), ('there', 'DET'), ('foot', 'NOUN'), ('.', '.'), ('pretax', 'NOUN'), ('described', 'VERB'), ('48', 'NUM'), ('be', 'VERB'), ('*-1', 'X'), (',', '.'), ('$', '.'), ('a', 'DET'), ('transamerica', 'NOUN'), ('*ppa*-1', 'X'), ('surged', 'VERB'), ('a', 'DET'), ('cents', 'NOUN'), ('be', 'VERB'), ('even', 'ADV'), ('cry', 'CONJ'), ('see', 'VERB'), ('hold', 'VERB'), ('0', 'X'), ('2.80', 'ADJ'), ('we', 'PRON'), ('of', 'ADP'), ('said', 'VERB'), ('complicated', 'ADJ'), ('in', 'ADP'), ('capital', 'NOUN'), ('seems', 'VERB'), ('device', 'NOUN'), ('lower', 'ADJ'), ('coaching', 'NOUN'), ('his', 'PRON'), ('intermediate', 'NOUN'), ('6', 'NUM'), (',', '.'), ('.', '.'), ('steel', 'NOUN'), ('and', 'CONJ'), ('which', 'DET'), ('evenly', 'ADV'), (',', '.'), ('estimated', 'VERB'), ('*t*-49', 'X'), ('random', 'NOUN'), ('kidder', 'NOUN'), (',', '.'), ('markets', 'NOUN'), ('to', 'PRT'), ('also', 'ADV'), ('to', 'PRT'), (',', '.'), ('new', 'ADJ'), ('design', 'NOUN'), ('in', 'ADP'), ('eventually', 'ADV'), ('due', 'ADJ'), ('yesterday', 'NOUN'), ('*', 'X'), ('compound', 'NOUN'), ('*-2', 'X'), ('.', '.'), ('even', 'ADV'), (',', '.'), ('investment', 'NOUN'), ('read', 'VERB'), ('represent', 'VERB'), (';', '.'), ('he', 'PRON'), ('and', 'CONJ'), ('bought', 'VERB'), ('.', '.'), ('0', 'X'), ('president', 'NOUN'), ('on', 'ADP'), ('researchers', 'NOUN'), ('0', 'X'), ('light', 'ADJ'), ('with', 'ADP'), ('more', 'ADJ'), ('way', 'NOUN'), ('inadequate', 'ADJ'), ('next', 'ADJ'), ('risks', 'NOUN'), ('so', 'ADV'), ('sec', 'NOUN'), ('the', 'DET'), ('500', 'NUM'), ('investor', 'NOUN'), ('three', 'NUM'), ('500', 'NUM'), ('in', 'ADP'), ('vindication', 'NOUN'), ('our', 'PRON'), ('a', 'DET'), ('only', 'ADV'), ('*t*-3', 'X'), ('might', 'VERB'), ('programs', 'NOUN'), ('in', 'ADP'), ('*u*', 'X'), ('auction', 'NOUN'), ('restore', 'VERB'), ('number', 'NOUN'), ('high', 'ADJ'), ('nih', 'NOUN'), ('placing', 'VERB'), ('are', 'VERB'), ('out', 'PRT'), ('rules', 'NOUN'), ('1988', 'NUM'), ('of', 'ADP'), ('to', 'PRT'), ('despite', 'ADP'), ('germany', 'NOUN'), ('in', 'ADP'), ('more', 'ADJ'), ('comedies', 'PRON'), ('landis', '.'), ('commonwealth', 'NOUN'), ('agents', 'NOUN'), ('programs', 'NOUN'), ('ideas', 'NOUN'), ('back', 'ADV'), ('is', 'VERB'), ('transplants', 'NOUN'), ('is', 'VERB'), ('trader', 'NOUN'), ('investors', 'NOUN'), ('equitable', 'NOUN'), ('were', 'VERB'), ('said', 'VERB'), ('resign', 'ADV'), ('the', 'DET'), ('whether', 'ADP'), ('new', 'ADJ'), ('reflected', 'VERB'), ('truce', 'NOUN'), ('portfolio', 'NOUN'), ('faulding', 'NOUN'), (',', '.'), ('*-1', 'X'), ('they', 'PRON'), ('the', 'DET'), ('secretary', 'NOUN'), ('limited', 'VERB'), ('came', 'VERB'), ('a', 'DET'), ('south', 'NOUN'), ('ceiling', 'NOUN'), ('$', '.'), ('an', 'DET'), ('is', 'VERB'), ('peter', 'NOUN'), ('*', 'X'), ('an', 'DET'), ('*-1', 'X'), ('potential', 'ADJ'), ('0', 'X'), ('the', 'DET'), (',', '.'), ('luck', 'X'), ('was', 'VERB'), ('has', 'VERB'), ('*', 'X'), ('targets', 'VERB'), ('had', 'VERB'), (',', '.'), (',', '.'), ('out', 'PRT'), ('foster', 'NOUN'), ('on', 'ADP'), ('of', 'ADP'), ('50', 'NUM'), ('anticipated', 'VERB'), ('451', 'ADV'), ('r.i.', 'CONJ'), ('yen', 'NOUN'), ('was', 'VERB'), ('a', 'DET'), ('.', '.'), ('they', 'PRON'), ('*ich*-2', 'X'), ('the', 'DET'), ('stock-market', 'NOUN'), ('*', 'X'), ('the', 'DET'), ('.', '.'), ('the', 'DET'), ('bidder', 'PRT'), ('the', 'DET'), ('.', '.'), ('vaccines', 'X'), ('conditional', 'ADJ'), ('gold', 'NOUN'), ('closed', 'VERB'), ('debt', 'NOUN'), ('``', '.'), ('*u*', 'X'), ('.', '.'), (\"'s\", 'PRT'), ('*-2', 'X'), ('london', 'NOUN'), ('england', 'NOUN'), ('computers', 'NOUN'), ('yield', 'VERB'), ('and', 'CONJ'), ('alternatives', 'NOUN'), ('legislation', 'NOUN'), ('.', '.'), ('eurodollars', 'X'), ('borough', 'NOUN'), (',', '.'), ('provides', 'VERB'), ('firm', 'NOUN'), ('bounce', 'NUM'), ('disagrees', 'ADP'), ('executives', 'NOUN'), ('*-1', 'X'), ('contel', 'NOUN'), (',', '.'), ('set', 'VERB'), ('electronics', 'NOUN'), ('contracts', 'NOUN'), ('and', 'CONJ'), ('corp.', 'NOUN'), ('and', 'CONJ'), ('indexing', 'DET'), ('*-2', 'X'), (',', '.'), ('``', '.'), ('help', 'VERB'), ('attractive', 'ADJ'), ('of', 'ADP'), ('a', 'DET'), ('because', 'ADP'), ('herald', 'NOUN'), ('cars', 'NOUN'), ('oxnard', 'NOUN'), ('0', 'X'), ('you', 'PRON'), (',', '.'), ('herald', 'NOUN'), ('0', 'X'), ('simultaneous', 'ADJ'), ('recently', 'ADV'), ('review', 'NOUN'), ('``', '.'), ('are', 'VERB'), ('japan', 'NOUN'), ('r.', 'NOUN'), ('spirit', 'NOUN'), ('for', 'ADP'), ('hahn', 'NOUN'), ('*t*-1', 'X'), ('the', 'DET'), ('chance', 'NOUN'), ('solid', 'ADJ'), ('has', 'VERB'), ('funds', 'NOUN'), ('strictly', 'NUM'), ('share', 'NOUN'), ('down', 'ADV'), ('notes', 'NOUN'), ('3.8', 'NUM'), ('the', 'DET'), ('material', 'NOUN'), ('innovative', 'NUM'), ('for', 'ADP'), (\"'m\", 'VERB'), ('mr.', 'NOUN'), ('america', 'NOUN'), ('be', 'VERB'), (',', '.'), ('to', 'PRT'), ('*-1', 'X'), ('i', 'PRON'), ('shares', 'NOUN'), ('in', 'ADP'), ('that', 'ADP'), ('``', '.'), ('industrial', 'ADJ'), ('*-1', 'X'), ('spending', 'NOUN'), ('to', 'PRT'), ('6,000', 'NUM'), ('learned', 'VERB'), ('*-121', 'ADV'), ('bills', 'NOUN'), ('either', 'DET'), (\"n't\", 'ADV'), ('they', 'PRON'), ('by', 'ADP'), ('magleby', 'PRT'), (\"''\", '.'), ('angola', 'X'), ('wilfred', 'ADJ'), ('throughout', 'ADP'), ('in', 'ADP'), ('they', 'PRON'), ('of', 'ADP'), ('0', 'X'), ('financial', 'ADJ'), (',', '.'), ('yen', 'NOUN'), ('the', 'DET'), ('the', 'DET'), ('demand', 'NOUN'), ('words', 'NOUN'), ('to', 'PRT'), ('that', 'ADP'), ('debt', 'NOUN'), ('sometimes', 'ADV'), ('to', 'PRT'), ('big', 'ADJ'), ('similar', 'ADJ'), ('many', 'ADJ'), ('perceives', 'PRON'), ('more', 'ADJ'), ('basket', 'NOUN'), ('225.6', 'NUM'), ('bankruptcy', 'NOUN'), ('is', 'VERB'), ('.', '.'), ('as', 'ADP'), ('in', 'ADP'), ('exhaust', 'VERB'), ('manager', 'NOUN'), ('yesterday', 'NOUN'), ('day', 'NOUN'), ('shares', 'NOUN'), ('in', 'ADP'), (',', '.'), ('ftc', 'NOUN'), ('0', 'X'), ('keep', 'VERB'), ('problem', 'NOUN'), (\"'s\", 'PRT'), ('source', 'NOUN'), ('*-1', 'X'), ('it', 'PRON'), ('one', 'NUM'), ('of', 'ADP'), ('a', 'DET'), ('about', 'ADP'), ('increases', 'NOUN'), (',', '.'), (',', '.'), ('already', 'ADV'), ('edison', 'NOUN'), ('one', 'NUM'), ('a', 'DET'), ('said', 'VERB'), ('has', 'VERB'), ('in', 'ADP'), ('would', 'VERB'), ('its', 'PRON'), ('and', 'CONJ'), ('the', 'DET'), ('enough', 'ADV'), ('declare', 'CONJ'), ('850', 'DET'), (\"''\", '.'), ('*t*-1', 'X'), ('*u*', 'X'), ('it', 'PRON'), ('dodge', 'NOUN'), ('.', '.'), ('strong', 'ADJ'), ('giant', 'NOUN'), ('but', 'CONJ'), ('11th', 'DET'), ('investment', 'NOUN'), ('about', 'ADP'), ('to', 'PRT'), ('1990', 'NUM'), ('stock', 'NOUN'), (',', '.'), ('ec', 'X'), ('that', 'ADP'), ('two', 'NUM'), (',', '.'), ('grant', 'NOUN'), ('million', 'NUM'), ('trust', 'NOUN'), ('a', 'DET'), ('.', '.'), ('really', 'ADV'), (',', '.'), ('superconductors', 'NOUN'), ('completed', 'VERB'), ('sets', 'NOUN'), ('necessarily', 'ADV'), ('appeared', 'VERB'), ('of', 'ADP'), ('record', 'NOUN'), ('new', 'ADJ'), ('unusually', 'ADV'), ('countries', 'NOUN'), ('deadline', 'NOUN'), ('traditional', 'ADJ'), ('grows', 'VERB'), ('beat', 'VERB'), (',', '.'), ('rates', 'NOUN'), ('wilbur', 'NUM'), ('14.53', 'ADP'), ('own', 'ADJ'), ('playwright', 'PRON'), ('thrift', 'NOUN'), ('excess', 'ADJ'), ('torrent', 'PRON'), ('demise', 'NOUN'), ('pretax', 'NOUN'), ('international', 'NOUN'), ('the', 'DET'), ('to', 'PRT'), ('.', '.'), (\"''\", '.'), ('office', 'NOUN'), ('advice', 'NOUN'), ('1989', 'NUM'), ('have', 'VERB'), ('examined', 'VERB'), ('will', 'VERB'), ('of', 'ADP'), ('--', '.'), (\"'\", 'PRT'), ('were', 'VERB'), (\"'s\", 'PRT'), ('.', '.'), ('higher', 'ADJ'), ('next', 'ADJ'), ('october', 'NOUN'), ('over', 'ADP'), ('new', 'ADJ'), ('america', 'NOUN'), ('.', '.'), ('ban', 'NOUN'), ('in', 'ADP'), ('112.9', 'PRT'), ('the', 'DET'), ('.', '.'), ('*t*-2', 'X'), ('growing', 'VERB'), ('managing', 'VERB'), (\"'s\", 'PRT'), ('.', '.'), ('run', 'VERB'), ('achievement-test', 'ADV'), ('arbitrage', 'NOUN'), ('the', 'DET'), ('minimum', 'ADJ'), ('up', 'PRT'), ('that', 'ADP'), ('unfairly', 'ADV'), ('from', 'ADP'), ('is', 'VERB'), ('but', 'CONJ'), ('and', 'CONJ'), ('markets', 'NOUN'), ('the', 'DET'), (',', '.'), ('suspension', 'NOUN'), ('had', 'VERB'), ('some', 'DET'), ('10-day', 'ADJ'), ('fiscal', 'ADJ'), ('and', 'CONJ'), ('dogs', 'DET'), (',', '.'), ('significant', 'ADJ'), ('*u*', 'X'), ('with', 'ADP'), ('*', 'X'), ('ago', 'ADP'), ('central', 'ADJ'), ('the', 'DET'), ('described', 'VERB'), ('no', 'DET'), ('0', 'X'), ('$', '.'), ('run', 'VERB'), ('terms', 'NOUN'), ('*-1', 'X'), ('to', 'PRT'), ('30', 'NUM'), ('fed', 'NOUN'), ('ad', 'NOUN'), ('few', 'ADJ'), ('*t*-1', 'X'), ('its', 'PRON'), ('capability', '.'), ('voice', 'NOUN'), ('even', 'ADV'), ('dealers', 'NOUN'), ('making', 'VERB'), ('said', 'VERB'), ('wall', 'NOUN'), ('the', 'DET'), ('it', 'PRON'), ('for', 'ADP'), ('compared', 'VERB'), ('though', 'ADP'), ('investor', 'NOUN'), ('revival', 'NOUN'), ('set', 'VERB'), ('collected', 'VERB'), ('an', 'DET'), ('.', '.'), ('spreads', 'NOUN'), ('income', 'NOUN'), ('and', 'CONJ'), ('next', 'ADJ'), ('ad', 'NOUN'), ('128', 'NUM'), ('trucks', 'NOUN'), ('*-1', 'X'), ('he', 'PRON'), ('qualify', 'VERB'), ('receive', 'VERB'), ('mr.', 'NOUN'), ('measure', 'NOUN'), ('for', 'ADP'), ('they', 'PRON'), ('traitor', '.'), ('talking', 'VERB'), ('the', 'DET'), ('harsh', 'ADJ'), ('``', '.'), ('improve', 'VERB'), ('.', '.'), ('school', 'NOUN'), ('research', 'NOUN'), ('new', 'ADJ'), ('the', 'DET'), ('involving', 'VERB'), ('``', '.'), ('retain', 'VERB'), ('retirement', 'NOUN'), ('madison', 'NOUN'), ('international', 'NOUN'), ('money', 'NOUN'), ('necessary', 'ADJ'), ('.', '.'), ('georgia', 'NOUN'), ('of', 'ADP'), ('that', 'ADP'), ('in', 'ADP'), ('*', 'X'), ('wide', 'ADJ'), ('a', 'DET'), ('spurring', 'PRT'), ('the', 'DET'), ('significant', 'ADJ'), ('51', 'NUM'), ('to', 'PRT'), ('.', '.'), ('.', '.'), (',', '.'), ('need', 'VERB'), ('from', 'ADP'), ('continuing', 'VERB'), ('and', 'CONJ'), ('ward', 'NOUN'), ('dividends', 'NOUN'), ('or', 'CONJ'), ('fired', 'VERB'), ('ward', 'NOUN'), ('rep.', 'NOUN'), ('on', 'ADP'), ('a', 'DET'), ('haven', 'NOUN'), ('first', 'ADJ'), ('higher', 'ADJ'), ('we', 'PRON'), ('and', 'CONJ'), ('year', 'NOUN'), ('teachers', 'NOUN'), ('its', 'PRON'), ('its', 'PRON'), (',', '.'), ('much', 'ADV'), ('washington', 'NOUN'), ('of', 'ADP'), ('ultimately', 'ADV'), ('they', 'PRON'), ('declines', 'NOUN'), ('street', 'NOUN'), ('.', '.'), ('indexes', 'X'), ('*t*-24', 'X'), ('aggressively', 'ADV'), (',', '.'), ('it', 'PRON'), ('.', '.'), ('the', 'DET'), ('as', 'ADP'), ('in', 'ADP'), (',', '.'), (\"n't\", 'ADV'), ('ford', 'NOUN'), ('.', '.'), ('performing', 'VERB'), ('to', 'PRT'), ('the', 'DET'), ('as', 'ADP'), ('3\\\\/4', 'NUM'), ('spokesman', 'NOUN'), ('of', 'ADP'), ('of', 'ADP'), ('saying', 'VERB'), (',', '.'), ('rebuilding', 'X'), ('very', 'ADV'), ('and', 'CONJ'), ('with', 'ADP'), (',', '.'), ('list', 'NOUN'), (\"n't\", 'ADV'), ('but', 'CONJ'), ('parties', 'NOUN'), ('common', 'ADJ'), ('these', 'DET'), ('*-1', 'X'), ('the', 'DET'), ('that', 'ADP'), ('*t*-3', 'X'), ('.', '.'), ('folks', 'NOUN'), ('if', 'ADP'), ('computer', 'NOUN'), ('skittishness', 'NUM'), ('the', 'DET'), ('sphere', 'NOUN'), ('.', '.'), ('been', 'VERB'), ('a', 'DET'), ('work', 'NOUN'), ('$', '.'), ('him', 'PRON'), ('into', 'ADP'), ('in', 'ADP'), ('parent', 'NOUN'), ('long', 'ADJ'), ('third', 'ADJ'), ('%', 'NOUN'), ('the', 'DET'), ('value', 'NOUN'), ('*-2', 'X'), ('that', 'ADP'), ('and', 'CONJ'), ('redeemed', 'VERB'), ('of', 'ADP'), ('.', '.'), ('court', 'NOUN'), ('has', 'VERB'), ('funding', 'NOUN'), ('of', 'ADP'), ('indicated', 'VERB'), ('trade', 'NOUN'), ('signifying', 'NUM'), ('labor', 'NOUN'), ('to', 'PRT'), ('stake', 'NOUN'), ('176', 'NUM'), ('full', 'ADJ'), ('program', 'NOUN'), ('sectors', 'NUM'), ('besuboru', 'ADP'), ('that', 'ADP'), ('younkers', 'NOUN'), ('sony', 'NOUN'), ('into', 'ADP'), ('in', 'ADP'), ('with', 'ADP'), ('--', '.'), ('the', 'DET'), ('%', 'NOUN'), ('51', 'NUM'), ('the', 'DET'), ('plastic', 'ADJ'), ('is', 'VERB'), ('frozen', 'VERB'), ('ballpark', 'NOUN'), ('and', 'CONJ'), ('the', 'DET'), ('0', 'X'), ('.', '.'), ('the', 'DET'), ('other', 'ADJ'), ('increase', 'NOUN'), ('particular', 'ADJ'), ('of', 'ADP'), ('that', 'ADP'), ('nations', 'NOUN'), ('well-known', 'ADJ'), ('for', 'ADP'), ('department', 'NOUN'), ('sounded', 'VERB'), ('signing', 'VERB'), ('in', 'ADP'), ('chinese', 'ADJ'), ('young', 'ADJ'), (',', '.'), ('strength', 'NOUN'), ('*t*-1', 'X'), ('as', 'ADP'), ('self', 'PRT'), ('he', 'PRON'), (\"'s\", 'PRT'), ('by', 'ADP'), ('vitulli', 'NOUN'), ('had', 'VERB'), (';', '.'), ('the', 'DET'), ('said', 'VERB'), ('market', 'NOUN'), ('taken', 'VERB'), ('and', 'CONJ'), (',', '.'), ('in', 'ADP'), ('is', 'VERB'), ('2', 'NUM'), ('have', 'VERB'), ('director', 'NOUN'), ('do', 'VERB'), ('have', 'VERB'), ('--', '.'), ('wine', 'NOUN'), ('-rrb-', '.'), ('will', 'VERB'), ('sonnett', 'NOUN'), ('interpretation', 'NOUN'), ('it', 'PRON'), ('story', 'NOUN'), ('industrial', 'ADJ'), ('the', 'DET'), ('cabernet', 'NOUN'), ('.', '.'), ('big', 'ADJ'), ('*u*', 'X'), ('``', '.'), ('massachusetts', 'NOUN'), ('own', 'ADJ'), ('business', 'NOUN'), (',', '.'), ('china', 'NOUN'), ('thrift', 'NOUN'), (\"''\", '.'), ('which', 'DET'), ('members', 'NOUN'), ('of', 'ADP'), ('to', 'PRT'), (',', '.'), ('0', 'X'), ('corp.', 'NOUN'), ('the', 'DET'), ('go', 'VERB'), ('shares', 'NOUN'), ('2,500', 'NUM'), ('and', 'CONJ'), ('things', 'NOUN'), ('a', 'DET'), ('18', 'NUM'), ('addition', 'NOUN'), (',', '.'), ('are', 'VERB'), ('%', 'NOUN'), ('are', 'VERB'), ('the', 'DET'), ('could', 'VERB'), ('his', 'PRON'), ('in', 'ADP'), ('delivery', 'NOUN'), ('*t*-1', 'X'), ('inventor', 'ADJ'), ('roll', 'VERB'), ('0', 'X'), ('that', 'ADP'), ('so', 'ADV'), ('the', 'DET'), ('executive', 'NOUN'), ('company', 'NOUN'), ('provision', 'NOUN'), ('at', 'ADP'), ('of', 'ADP'), ('*-2', 'X'), ('says', 'VERB'), ('ownership', 'NOUN'), ('weaker', 'ADJ'), ('year', 'NOUN'), ('%', 'NOUN'), ('it', 'PRON'), ('administrator', 'NOUN'), ('memorize', 'NUM'), ('information', 'NOUN'), ('recent', 'ADJ'), ('the', 'DET'), ('of', 'ADP'), ('.', '.'), ('*?*', 'X'), ('--', '.'), ('unsecured', 'ADJ'), ('45', 'NUM'), ('and', 'CONJ'), (',', '.'), ('independent', 'ADJ'), (\"'re\", 'VERB'), ('the', 'DET'), ('idea', 'NOUN'), ('la', 'NOUN'), ('180', 'NUM'), ('signal', 'NOUN'), ('for', 'ADP'), (\"n't\", 'ADV'), ('company', 'NOUN'), ('about', 'ADP'), ('the', 'DET'), ('less', 'ADJ'), ('bureaucracy', 'NOUN'), ('officials', 'NOUN'), ('in', 'ADP'), ('of', 'ADP'), ('the', 'DET'), ('*t*-220', 'PRT'), ('or', 'CONJ'), ('corp', 'NOUN'), ('*-2', 'X'), ('traders', 'NOUN'), ('*t*-48', 'X'), ('donuts', 'ADJ'), ('same', 'ADJ'), ('the', 'DET'), ('the', 'DET'), ('veto', 'NOUN'), (',', '.'), ('it', 'PRON'), ('like', 'ADP'), ('interrogation', 'PRT'), ('georgia', 'NOUN'), ('be', 'VERB'), ('consensus', 'NOUN'), ('high', 'ADJ'), ('women', 'NOUN'), ('are', 'VERB'), ('commerce', 'NOUN'), ('pcs', 'NOUN'), ('watchers', 'NOUN'), ('tire', 'NOUN'), ('durable-goods', 'NUM'), ('a', 'DET'), ('be', 'VERB'), ('fighting', 'VERB'), ('into', 'ADP'), ('comprehensive', 'NOUN'), ('with', 'ADP'), ('get', 'VERB'), ('.', '.'), ('the', 'DET'), ('as', 'ADP'), (\"''\", '.'), ('lawyers', 'NOUN'), ('trading', 'NOUN'), ('the', 'DET'), (\"''\", '.'), ('to', 'PRT'), ('launched', 'VERB'), ('often', 'ADV'), ('bribery', 'CONJ'), ('of', 'ADP'), ('*u*', 'X'), ('the', 'DET'), ('products', 'NOUN'), ('and', 'CONJ'), ('age', 'NOUN'), ('*t*-3', 'X'), ('in', 'ADP'), ('crops', 'NOUN'), ('carnival', 'NOUN'), ('*-3', 'X'), ('needed', 'VERB'), ('force', 'NOUN'), ('*u*', 'X'), ('it', 'PRON'), ('0', 'X'), ('hampshire', 'NOUN'), ('thousands', 'NOUN'), ('same', 'ADJ'), ('approved', 'VERB'), ('the', 'DET'), ('*', 'X'), ('*-1', 'X'), ('for', 'ADP'), ('but', 'CONJ'), ('it', 'PRON'), ('than', 'ADP'), ('successfully', 'PRT'), ('after', 'ADP'), ('able', 'ADJ'), ('ohio', 'NOUN'), ('retail', 'ADJ'), ('40', 'NUM'), ('stronger', 'ADJ'), ('furniture', 'NOUN'), ('the', 'DET'), ('never', 'ADV'), ('says', 'VERB'), ('in', 'ADP'), ('years', 'NOUN'), ('speed', 'NOUN'), ('corporate', 'ADJ'), ('0', 'X'), ('assisted', 'ADJ'), ('chemical', 'NOUN'), ('by', 'ADP'), ('--', '.'), ('czechoslovakia', 'NOUN'), ('hearst', 'NOUN'), ('it', 'PRON'), ('118', 'NUM'), (',', '.'), ('in', 'ADP'), ('and', 'CONJ'), ('operations', 'NOUN'), ('card', 'NOUN'), ('.', '.'), ('of', 'ADP'), ('1.64', 'NUM'), ('comment', 'NOUN'), ('absurd', 'NUM'), ('yet', 'ADV'), ('of', 'ADP'), (',', '.'), ('sought', 'VERB'), ('the', 'DET'), ('*rnr*-4', 'X'), ('they', 'PRON'), ('.', '.'), (\"'s\", 'PRT'), ('irvine', 'NOUN'), ('white', 'NOUN'), ('for', 'ADP'), ('fiscal', 'ADJ'), (';', '.'), ('$', '.'), ('next', 'ADJ'), ('up', 'PRT'), ('investors', 'NOUN'), ('10', 'NUM'), ('a', 'DET'), ('``', '.'), ('acquired', 'VERB'), ('from', 'ADP'), ('malignant', 'PRT'), ('outside', 'ADJ'), (',', '.'), ('this', 'DET'), ('reuters', 'NOUN'), ('considerable', 'ADJ'), ('*t*-2', 'X'), ('8.07', 'NUM'), ('is', 'VERB'), ('mcdermott', 'ADV'), ('.', '.'), ('as', 'ADP'), ('consideration', 'NOUN'), ('our', 'PRON'), ('a', 'DET'), ('research', 'NOUN'), ('to', 'PRT'), ('in', 'ADP'), ('president', 'NOUN'), ('contract', 'NOUN'), ('march', 'NOUN'), (',', '.'), ('lives', 'NOUN'), ('side', 'NOUN'), ('.', '.'), ('by', 'ADP'), ('the', 'DET'), ('a', 'DET'), ('13.8', 'NUM'), ('.', '.'), (',', '.'), ('bank', 'NOUN'), ('tribe', 'NOUN'), (',', '.'), ('since', 'ADP'), ('*t*-2', 'X'), ('in', 'ADP'), ('which', 'DET'), ('they', 'PRON'), (\"''\", '.'), ('a', 'DET'), ('*-1', 'X'), ('tower', 'NOUN'), ('the', 'DET'), ('has', 'VERB'), ('combined', 'VERB'), ('these', 'DET'), ('rash', 'PRT'), ('to', 'PRT'), ('*-2', 'X'), ('43', 'NUM'), ('earnings', 'NOUN'), ('maker', 'NOUN'), ('the', 'DET'), ('according', 'VERB'), ('a', 'DET'), ('for', 'ADP'), ('.', '.'), ('megabytes', 'X'), ('called', 'VERB'), ('the', 'DET'), ('and', 'CONJ'), ('*t*-77', 'DET'), ('homelessness', 'NOUN'), ('mrs.', 'NOUN'), ('waiver', 'NUM'), ('some', 'DET'), ('continue', 'VERB'), ('interest', 'NOUN'), ('prove', 'VERB'), ('meeting', 'NOUN'), ('the', 'DET'), ('denouncing', 'VERB'), ('*-1', 'X'), ('a', 'DET'), ('ceiling', 'NOUN'), ('be', 'VERB'), ('62%-owned', 'ADJ'), ('if', 'ADP'), ('all', 'DET'), ('discussions', 'NOUN'), ('of', 'ADP'), ('valuation', 'PRT'), ('*-3', 'X'), ('real-estate', 'NOUN'), (',', '.'), ('as', 'ADP'), ('become', 'VERB'), ('of', 'ADP'), ('a', 'DET'), ('securities', 'NOUN'), ('requirements', 'NOUN'), ('*', 'X'), ('under', 'ADP'), ('*', 'X'), ('in', 'ADP'), ('pleased', 'VERB'), ('individual', 'ADJ'), ('u.s.', 'NOUN'), (\"''\", '.'), ('``', '.'), ('0', 'X'), ('an', 'DET'), ('0', 'X'), ('concerns', 'NOUN'), ('.', '.'), ('hard', 'ADJ'), (\"''\", '.'), ('*t*-1', 'X'), ('2019', 'NUM'), ('the', 'DET'), ('get', 'VERB'), ('executives', 'NOUN'), ('cutting', 'VERB'), ('the', 'DET'), ('%', 'NOUN'), ('treasury', 'NOUN'), ('capital', 'NOUN'), ('by', 'ADP'), ('markets', 'NOUN'), ('of', 'ADP'), ('iii', 'NOUN'), ('500', 'NUM'), ('to', 'PRT'), ('j.l.', 'NOUN'), ('said', 'VERB'), ('sports', 'NOUN'), ('first', 'ADJ'), ('say', 'VERB'), ('a', 'DET'), ('of', 'ADP'), ('proposing', 'VERB'), ('own', 'ADJ'), ('days', 'NOUN'), ('crunch', 'NOUN'), ('.', '.'), ('in', 'ADP'), ('would', 'VERB'), ('*-61', 'X'), ('4.4', 'NUM'), ('year', 'NOUN'), ('the', 'DET'), ('out', 'PRT'), ('*t*-1', 'X'), ('england', 'NOUN'), ('rising', 'VERB'), ('way', 'NOUN'), ('upjohn', 'NOUN'), (',', '.'), ('that', 'ADP'), ('demand', 'NOUN'), ('the', 'DET'), ('in', 'ADP'), ('swallow', 'PRT'), (',', '.'), ('current-carrying', 'ADJ'), ('the', 'DET'), ('that', 'ADP'), (',', '.'), ('98.3', 'X'), ('says', 'VERB'), ('were', 'VERB'), (',', '.'), ('on', 'ADP'), ('make', 'VERB'), ('.', '.'), ('opposition', 'NOUN'), ('more', 'ADJ'), ('cast-iron', 'PRON'), ('long', 'ADJ'), ('found', 'VERB'), ('.', '.'), ('tuesday', 'NOUN'), ('``', '.'), ('of', 'ADP'), ('of', 'ADP'), ('new', 'ADJ'), ('said', 'VERB'), ('say', 'VERB'), ('that', 'ADP'), ('swiftly', 'ADV'), ('thrift', 'NOUN'), ('mae', 'NOUN'), ('full', 'ADJ'), ('here', 'ADV'), ('about', 'ADP'), ('as', 'ADP'), ('print', 'VERB'), ('139', 'ADV'), ('morning', 'NOUN'), ('to', 'PRT'), ('wafa', 'CONJ'), (\"'s\", 'PRT'), ('dexterity', 'CONJ'), ('a', 'DET'), ('from', 'ADP'), ('the', 'DET'), ('compared', 'VERB'), ('$', '.'), ('its', 'PRON'), ('professional', 'ADJ'), ('compromise', 'NOUN'), ('formed', 'VERB'), ('.', '.'), ('health', 'NOUN'), ('``', '.'), ('farmers', 'NOUN'), ('pay', 'VERB'), ('insurance-company', 'ADV'), (',', '.'), ('builders', 'X'), ('*', 'X'), ('billion', 'NUM'), ('france', 'NOUN'), ('critics', 'NOUN'), ('*', 'X'), ('view', 'NOUN'), ('through', 'ADP'), ('these', 'DET'), ('duties', 'NOUN'), ('the', 'DET'), ('evidence', 'NOUN'), ('international', 'NOUN'), ('assets', 'NOUN'), (',', '.'), (',', '.'), ('a', 'DET'), ('%', 'NOUN'), ('how', 'ADV'), ('*', 'X'), ('common', 'ADJ'), ('to', 'PRT'), ('a', 'DET'), ('*-2', 'X'), ('income', 'NOUN'), ('chief', 'NOUN'), ('in', 'ADP'), ('to', 'PRT'), ('skin', 'NOUN'), ('of', 'ADP'), ('the', 'DET'), ('for', 'ADP'), ('an', 'DET'), ('net', 'ADJ'), ('to', 'PRT'), ('*u*', 'X'), (',', '.'), ('veto', 'NOUN'), ('italian', 'ADJ'), ('yellow', 'PRON'), ('*-1', 'X'), ('for', 'ADP'), ('father-in-law', 'PRT'), ('450', 'NUM'), ('initiative', 'NOUN'), ('rose', 'VERB'), ('negus', 'ADV'), ('to', 'PRT'), ('account', 'NOUN'), ('funds', 'NOUN'), ('very', 'ADV'), ('rate', 'NOUN'), ('six-bottle', 'NUM'), ('one', 'NUM'), (',', '.'), ('systems', 'NOUN'), ('size', 'NOUN'), ('both', 'DET'), ('of', 'ADP'), ('0', 'X'), ('quips', 'ADJ'), ('it', 'PRON'), (',', '.'), ('fully', 'ADV'), ('softening', 'VERB'), ('are', 'VERB'), ('before', 'ADP'), (',', '.'), ('a', 'DET'), ('big', 'ADJ'), ('the', 'DET'), ('net', 'ADJ'), ('railcars', 'NOUN'), ('burnham', 'NOUN'), ('an', 'DET'), ('.', '.'), ('$', '.'), ('not', 'ADV'), ('$', '.'), ('and', 'CONJ'), ('and', 'CONJ'), ('*t*-127', 'DET'), ('said', 'VERB'), (\"'s\", 'PRT'), ('automobile', 'NOUN'), ('*-1', 'X'), ('71', 'NUM'), ('for', 'ADP'), ('said', 'VERB'), ('markets', 'NOUN'), ('continued', 'VERB'), ('and', 'CONJ'), ('0', 'X'), ('market', 'NOUN'), ('posing', 'NUM'), ('900', 'NUM'), ('in', 'ADP'), ('a', 'DET'), ('japan', 'NOUN'), ('a', 'DET'), ('monthly', 'ADJ'), ('*t*-1', 'X'), ('highly', 'ADV'), ('make', 'VERB'), ('400', 'NUM'), ('*', 'X'), (',', '.'), ('only', 'ADV'), ('their', 'PRON'), ('holds', 'VERB'), ('should', 'VERB'), ('however', 'ADV'), ('third-quarter', 'NOUN'), ('would', 'VERB'), ('are', 'VERB'), ('key', 'ADJ'), ('year', 'NOUN'), ('cab', 'NUM'), ('prizes', 'NOUN'), ('this', 'DET'), ('yeargin', 'NOUN'), ('by', 'ADP'), ('this', 'DET'), ('debt', 'NOUN'), ('to', 'PRT'), ('nederlanden', 'CONJ'), ('of', 'ADP'), ('*-2', 'X'), ('.', '.'), ('held', 'VERB'), ('be', 'VERB'), ('2.07', 'ADV'), ('pardus', 'CONJ'), ('magazine', 'NOUN'), ('begin', 'VERB'), ('caused', 'VERB'), ('$', '.'), ('while', 'ADP'), ('is', 'VERB'), ('from', 'ADP'), ('for', 'ADP'), ('marching', 'VERB'), ('photographs', 'NOUN'), ('losing', 'VERB'), ('by', 'ADP'), ('mental', 'ADJ'), ('treasury', 'NOUN'), ('*', 'X'), ('on', 'ADP'), ('had', 'VERB'), ('plants', 'NOUN'), ('we', 'PRON'), ('the', 'DET'), ('the', 'DET'), ('craze', 'NOUN'), (',', '.'), ('at', 'ADP'), ('stock', 'NOUN'), ('trade', 'NOUN'), ('0.0085', 'NUM'), ('inspirational', 'ADP'), ('high', 'ADJ'), ('mr.', 'NOUN'), ('chase', 'NOUN'), (',', '.'), (',', '.'), ('nation', 'NOUN'), (\"'\", 'PRT'), ('hours', 'NOUN'), ('can', 'VERB'), ('its', 'PRON'), (',', '.'), ('.', '.'), ('not', 'ADV'), ('*-4', 'X'), ('which', 'DET'), ('market', 'NOUN'), ('have', 'VERB'), ('than', 'ADP'), ('their', 'PRON'), ('had', 'VERB'), ('say', 'VERB'), ('their', 'PRON'), ('aware', 'ADJ'), ('paying', 'VERB'), ('bell', 'NOUN'), ('quite', 'ADV'), (\"'s\", 'PRT'), ('.', '.'), ('*-2', 'X'), ('commitment', 'NOUN'), ('involving', 'VERB'), ('who', 'PRON'), ('ended', 'VERB'), ('was', 'VERB'), ('excess', 'ADJ'), ('nationwide', 'ADJ'), ('of', 'ADP'), ('programs', 'NOUN'), ('proposal', 'NOUN'), ('1', 'NUM'), ('effective', 'ADJ'), (',', '.'), ('had', 'VERB'), ('.', '.'), ('were', 'VERB'), ('which', 'DET'), ('of', 'ADP'), ('397', 'PRT'), ('57.50', 'NUM'), ('0', 'X'), ('*-1', 'X'), ('exchange', 'NOUN'), ('for', 'ADP'), ('license', 'VERB'), (',', '.'), ('father', 'NOUN'), ('to', 'PRT'), ('for', 'ADP'), ('bells', 'NOUN'), ('expected', 'VERB'), ('a', 'DET'), ('$', '.'), ('safe-deposit', 'X'), ('263.07', 'ADJ'), ('vs.', 'CONJ'), (',', '.'), ('one', 'NUM'), ('the', 'DET'), ('bottom', 'NOUN'), ('months', 'NOUN'), ('pickens', 'NOUN'), ('apparently', 'ADV'), ('would', 'VERB'), ('stores', 'NOUN'), ('kent', 'NOUN'), ('.', '.'), ('rather', 'ADV'), ('*', 'X'), ('the', 'DET'), ('sending', 'VERB'), ('to', 'PRT'), ('however', 'ADV'), ('raised', 'VERB'), ('.', '.'), ('he', 'PRON'), ('applications', 'NOUN'), ('over', 'ADP'), ('it', 'PRON'), ('-lrb-', '.'), ('state', 'NOUN'), ('returns', 'NOUN'), (',', '.'), ('many', 'ADJ'), ('up', 'PRT'), ('*u*', 'X'), ('according', 'VERB'), ('that', 'ADP'), ('may', 'VERB'), ('undergoing', 'ADV'), (\"'s\", 'PRT'), ('demand', 'NOUN'), ('in', 'ADP'), ('*-88', 'PRT'), ('england', 'NOUN'), ('*-1', 'X'), ('impression', 'ADJ'), ('supply', 'NOUN'), ('the', 'DET'), ('as', 'ADP'), (',', '.'), ('michael', 'NOUN'), ('but', 'CONJ'), ('later', 'ADJ'), ('i', 'PRON'), ('mcgovern', 'NOUN'), ('commission', 'NOUN'), ('is', 'VERB'), ('increase', 'NOUN'), ('the', 'DET'), ('that', 'ADP'), ('0', 'X'), ('than', 'ADP'), ('0', 'X'), ('exxon', 'NOUN'), ('course', 'NOUN'), ('plants', 'NOUN'), ('del', 'NOUN'), ('pay', 'VERB'), (',', '.'), ('oct.', 'NOUN'), (',', '.'), ('blood', 'NOUN'), ('but', 'CONJ'), ('5\\\\/8', 'NUM'), ('hosted', 'ADP'), (',', '.'), ('william', 'NOUN'), ('were', 'VERB'), (',', '.'), ('0', 'X'), ('appeals', 'NOUN'), ('april', 'NOUN'), ('even', 'ADV'), ('to', 'PRT'), ('part', 'NOUN'), ('of', 'ADP'), ('roland', 'PRT'), ('.', '.'), ('preston', 'X'), ('partner', 'NOUN'), ('health', 'NOUN'), ('of', 'ADP'), ('jr.', 'NOUN'), ('44', 'NUM'), ('medical', 'ADJ'), (',', '.'), ('one-third', 'NOUN'), ('1\\\\/4', 'NUM'), ('such', 'ADJ'), ('the', 'DET'), ('crop', 'NOUN'), ('client', 'NOUN'), ('that', 'ADP'), ('wilder', 'NOUN'), ('mr.', 'NOUN'), ('the', 'DET'), (':', '.'), ('peals', 'NOUN'), ('different', 'ADJ'), ('avert', 'PRON'), (\"'s\", 'PRT'), ('in', 'ADP'), ('u.s.', 'NOUN'), ('a', 'DET'), ('district', 'NOUN'), (\"''\", '.'), ('.', '.'), (\"''\", '.'), ('of', 'ADP'), ('medium-sized', 'ADJ'), ('other', 'ADJ'), ('billion', 'NUM'), ('asia', 'NOUN'), ('that', 'ADP'), (',', '.'), ('grace', 'NOUN'), ('*-2', 'X'), ('expected', 'VERB'), ('fairly', 'ADV'), ('it', 'PRON'), ('from', 'ADP'), ('has', 'VERB'), ('international', 'NOUN'), ('wolf', 'NOUN'), (\"''\", '.'), ('*u*', 'X'), ('of', 'ADP'), ('they', 'PRON'), ('a', 'DET'), ('his', 'PRON'), ('in', 'ADP'), ('.', '.'), ('it', 'PRON'), ('for', 'ADP'), ('this', 'DET'), ('long-term', 'ADJ'), ('.', '.'), ('there', 'DET'), ('are', 'VERB'), ('officers', 'NOUN'), ('classics', 'NOUN'), (\"''\", '.'), ('for', 'ADP'), ('to', 'PRT'), ('problems', 'NOUN'), ('chemicals', 'NOUN'), ('a', 'DET'), ('is', 'VERB'), (',', '.'), ('himself', 'PRON'), ('.', '.'), ('the', 'DET'), ('slow', 'VERB'), ('.', '.'), ('long', 'ADJ'), ('only', 'ADV'), ('as', 'ADP'), ('the', 'DET'), ('of', 'ADP'), ('near', 'ADP'), (',', '.'), ('protest', 'NOUN'), (',', '.'), ('shares', 'NOUN'), ('lewis', 'NOUN'), ('and', 'CONJ'), ('market', 'NOUN'), ('*-2', 'X'), ('voters', 'NOUN'), ('forced', 'VERB'), ('*t*-117', 'ADV'), ('make', 'VERB'), ('``', '.'), ('quarterly', 'ADJ'), (',', '.'), ('investment', 'NOUN'), ('on', 'ADP'), ('strong', 'ADJ'), ('than', 'ADP'), ('mixed', 'VERB'), ('if', 'ADP'), ('%', 'NOUN'), (',', '.'), ('grace', 'NOUN'), ('putting', 'VERB'), ('.', '.'), ('company', 'NOUN'), ('said', 'VERB'), ('*t*-1', 'X'), ('calder', 'ADJ'), ('the', 'DET'), ('swings', 'NOUN'), ('its', 'PRON'), (',', '.'), ('buyer', 'NOUN'), ('*t*-1', 'X'), ('gyrate', 'ADJ'), ('cases', 'NOUN'), ('0', 'X'), ('it', 'PRON'), ('as', 'ADP'), ('losses', 'NOUN'), ('a', 'DET'), ('construction', 'NOUN'), ('?', '.'), ('47.125', 'NUM'), ('in', 'ADP'), ('*t*-1', 'X'), ('court', 'NOUN'), ('service', 'NOUN'), ('can', 'VERB'), ('both', 'DET'), ('offset', 'VERB'), ('print', 'VERB'), ('*', 'X'), ('publishing', 'NOUN'), ('1990', 'NUM'), ('development', 'NOUN'), ('is', 'VERB'), ('most', 'ADJ'), ('could', 'VERB'), ('holding', 'VERB'), ('with', 'ADP'), ('standard', 'NOUN'), ('disputes', 'NOUN'), ('york', 'NOUN'), (\"'s\", 'PRT'), ('.', '.'), ('and', 'CONJ'), ('serial', 'NOUN'), ('been', 'VERB'), ('in', 'ADP'), ('via', 'ADP'), ('an', 'DET'), ('``', '.'), (\"n't\", 'ADV'), ('investor', 'NOUN'), ('magazine', 'NOUN'), ('market', 'NOUN'), (',', '.'), ('at', 'ADP'), ('a', 'DET'), ('``', '.'), ('spending', 'NOUN'), (',', '.'), ('the', 'DET'), ('traders', 'NOUN'), ('circle', 'NOUN'), (',', '.'), ('coming', 'VERB'), ('the', 'DET'), ('proposed', 'VERB'), ('businessman', 'NOUN'), ('the', 'DET'), ('the', 'DET'), ('money-center', 'PRT'), ('trade', 'NOUN'), (',', '.'), ('real', 'ADJ'), ('$', '.'), ('dollars', 'NOUN'), ('can', 'VERB'), (',', '.'), ('earnings', 'NOUN'), ('the', 'DET'), ('daily', 'ADJ'), ('health', 'NOUN'), ('adviser', 'NOUN'), ('moderate', 'ADJ'), ('stock', 'NOUN'), ('around', 'ADP'), ('the', 'DET'), ('a', 'DET'), ('he', 'PRON'), ('million', 'NUM'), ('believe', 'VERB'), ('merely', 'ADV'), ('.', '.'), (',', '.'), ('regions', 'NOUN'), ('reuters', 'NOUN'), ('testing', 'NOUN'), ('own', 'ADJ'), ('billion', 'NUM'), ('.', '.'), ('bilateral', 'ADJ'), ('risk', 'NOUN'), ('3.5', 'NUM'), ('an', 'DET'), ('a', 'DET'), ('or', 'CONJ'), (\"'s\", 'PRT'), ('to', 'PRT'), ('marks', 'NOUN'), (\"'s\", 'PRT'), ('own', 'ADJ'), ('sales', 'NOUN'), ('called', 'VERB'), ('control', 'NOUN'), ('of', 'ADP'), (',', '.'), ('of', 'ADP'), ('its', 'PRON'), ('to', 'PRT'), ('the', 'DET'), ('the', 'DET'), ('potential', 'ADJ'), ('in', 'ADP'), ('900', 'NUM'), ('the', 'DET'), ('.', '.'), ('-rrb-', '.'), ('stocks', 'NOUN'), (',', '.'), ('the', 'DET'), ('traders', 'NOUN'), ('inquiry', 'NOUN'), ('*', 'X'), ('my', 'PRON'), ('500', 'NUM'), ('continue', 'VERB'), (',', '.'), ('old', 'ADJ'), ('turn', 'VERB'), ('mitsubishi', 'NOUN'), ('securities', 'NOUN'), ('sacrifice', 'NUM'), ('thrift', 'NOUN'), ('baum', 'NOUN'), ('in', 'ADP'), ('together', 'ADV'), ('trading', 'NOUN'), (\"''\", '.'), ('supply', 'NOUN'), ('england', 'NOUN'), ('--', '.'), ('co.', 'NOUN'), ('many', 'ADJ'), ('i', 'PRON'), ('$', '.'), ('*t*-1', 'X'), ('of', 'ADP'), ('high', 'ADJ'), ('.', '.'), ('spending', 'NOUN'), ('of', 'ADP'), (';', '.'), ('anything', 'NOUN'), ('.', '.'), ('.', '.'), ('as', 'ADP'), ('expense', 'PRT'), ('oy', 'NOUN'), ('here', 'ADV'), ('and', 'CONJ'), ('fellow', 'ADJ'), ('he', 'PRON'), ('time', 'NOUN'), ('business', 'NOUN'), ('functioning', 'NUM'), ('losses', 'NOUN'), ('*-1', 'X'), ('wine', 'NOUN'), ('3', 'NUM'), ('.', '.'), ('first', 'ADJ'), ('continue', 'VERB'), ('elsevier', 'ADV'), ('%', 'NOUN'), ('some', 'DET'), ('months', 'NOUN'), ('was', 'VERB'), ('from', 'ADP'), ('a', 'DET'), ('1,400', 'PRT'), ('payments', 'NOUN'), ('might', 'VERB'), ('of', 'ADP'), ('*ich*-1', 'X'), ('stake', 'NOUN'), ('the', 'DET'), ('.', '.'), ('assets', 'NOUN'), ('to', 'PRT'), (',', '.'), ('from', 'ADP'), ('began', 'VERB'), ('finance', 'NOUN'), ('and', 'CONJ'), ('9', 'NUM'), ('the', 'DET'), ('*t*-1', 'X'), ('0', 'X'), ('at', 'ADP'), ('industry', 'NOUN'), ('and', 'CONJ'), ('probably', 'ADV'), ('.', '.'), ('widely', 'ADV'), ('which', 'DET'), ('.', '.'), ('and', 'CONJ'), ('say', 'VERB'), ('who', 'PRON'), ('television', 'NOUN'), ('new', 'ADJ'), ('20', 'NUM'), ('a', 'DET'), ('.', '.'), (',', '.'), ('%', 'NOUN'), ('*t*-1', 'X'), ('year', 'NOUN'), ('*', 'X'), (',', '.'), ('maker', 'NOUN'), ('15', 'NUM'), ('has', 'VERB'), (\"'re\", 'VERB'), ('referring', 'ADV'), ('sen.', 'NOUN'), ('week', 'NOUN'), ('twin', 'NUM'), ('*ich*-1', 'X'), ('by', 'ADP'), ('as', 'ADP'), ('education', 'NOUN'), ('workers', 'NOUN'), ('*-1', 'X'), ('rewarding', 'ADJ'), ('japanese', 'ADJ'), ('once', 'ADV'), ('earlier', 'ADJ'), ('$', '.'), ('at', 'ADP'), ('been', 'VERB'), ('%', 'NOUN'), ('the', 'DET'), ('and', 'CONJ'), ('currently', 'ADV'), ('than', 'ADP'), ('ward', 'NOUN'), ('election', 'NOUN'), ('company', 'NOUN'), ('antitrust', 'ADJ'), ('0', 'X'), ('german', 'ADJ'), ('acres', 'NOUN'), ('*u*', 'X'), ('.', '.'), ('.', '.'), ('despite', 'ADP'), ('alan', 'NOUN'), ('prices', 'NOUN'), ('a', 'DET'), ('same', 'ADJ'), ('insurance', 'NOUN'), ('150,000', 'NUM'), ('*u*', 'X'), ('program', 'NOUN'), ('integration', 'NOUN'), ('the', 'DET'), ('new', 'ADJ'), ('at', 'ADP'), (',', '.'), ('it', 'PRON'), ('research', 'NOUN'), (',', '.'), ('romance', 'NOUN'), ('*t*-2', 'X'), ('a', 'DET'), ('in', 'ADP'), ('65', 'NUM'), ('like', 'ADP'), ('she', 'PRON'), ('the', 'DET'), ('takes', 'VERB'), ('million', 'NUM'), ('neighbors', 'ADP'), ('shares', 'NOUN'), ('consulting', 'NOUN'), ('--', '.'), ('state', 'NOUN'), ('because', 'ADP'), ('questions', 'NOUN'), ('or', 'CONJ'), ('i', 'PRON'), ('50', 'NUM'), ('*t*-1', 'X'), ('is', 'VERB'), (',', '.'), ('*-1', 'X'), (',', '.'), ('hahn', 'NOUN'), ('street', 'NOUN'), ('very', 'ADV'), ('take', 'VERB'), ('often', 'ADV'), ('prime', 'NOUN'), ('year', 'NOUN'), ('*u*', 'X'), ('thursday', 'NOUN'), ('newspaper', 'NOUN'), ('useful', 'ADJ'), ('effect', 'NOUN'), ('funds', 'NOUN'), ('data', 'NOUN'), ('31', 'NUM'), ('trades', 'NOUN'), (',', '.'), ('up', 'PRT'), ('long', 'ADJ'), ('a', 'DET'), ('a', 'DET'), ('.', '.'), ('does', 'VERB'), (',', '.')]\n"
     ]
    }
   ],
   "source": [
    "print(\"Time taken in seconds: \", difference_5)\n",
    "print(tagged_seq_5)"
   ]
  },
  {
   "cell_type": "code",
   "execution_count": 110,
   "metadata": {},
   "outputs": [],
   "source": [
    "# creating a list of word-tag pairs that have been tagged correctly \n",
    "\n",
    "correctly_tagged_pairs_5 = [i for i, j in zip(tagged_seq_5, zip(validation_words, validation_tags)) if i == j]"
   ]
  },
  {
   "cell_type": "code",
   "execution_count": 111,
   "metadata": {},
   "outputs": [
    {
     "data": {
      "text/plain": [
       "0.9006754072308304"
      ]
     },
     "execution_count": 111,
     "metadata": {},
     "output_type": "execute_result"
    }
   ],
   "source": [
    "#Checking the percentage of words that were tagged correctly\n",
    "\n",
    "accuracy_5 = len(correctly_tagged_pairs_5)/len(tagged_seq_5)\n",
    "accuracy_5"
   ]
  },
  {
   "cell_type": "code",
   "execution_count": 112,
   "metadata": {},
   "outputs": [
    {
     "data": {
      "text/plain": [
       "80"
      ]
     },
     "execution_count": 112,
     "metadata": {},
     "output_type": "execute_result"
    }
   ],
   "source": [
    "#Triggering garbage collection\n",
    "gc.collect()"
   ]
  },
  {
   "cell_type": "markdown",
   "metadata": {},
   "source": [
    "## Evaluating tagging accuracy"
   ]
  },
  {
   "cell_type": "markdown",
   "metadata": {},
   "source": [
    "#### Comparing the tagging accuracies of the modifications with the vanilla Viterbi algorithm"
   ]
  },
  {
   "cell_type": "markdown",
   "metadata": {},
   "source": [
    "We've seen the tagging accuracies of all the variations of the Viterbi algorithm. Let's put them together to compare them."
   ]
  },
  {
   "cell_type": "code",
   "execution_count": 124,
   "metadata": {},
   "outputs": [
    {
     "name": "stdout",
     "output_type": "stream",
     "text": [
      "Accuracy of various models:\n",
      "Vanilla Viterbi algorithm: 89.69\n",
      "Modified Viterbi tagger that inserts the most common tag for unknown words: 92.59\n",
      "Modified Viterbi tagger that uses rule-based tagging for unknown words: 94.3\n",
      "Modified Viterbi tagger that uses only the transition probabilities for unknown words: 92.59\n",
      "Modified Viterbi tagger that uses Laplace smoothing: 90.07\n"
     ]
    }
   ],
   "source": [
    "print(\"Accuracy of various models:\")\n",
    "print(\"Vanilla Viterbi algorithm: {}\".format(round(accuracy*100, 2)))\n",
    "print(\"Modified Viterbi tagger that inserts the most common tag for unknown words: {}\".format(round(accuracy_2*100, 2)))\n",
    "print(\"Modified Viterbi tagger that uses rule-based tagging for unknown words: {}\".format(round(accuracy_3*100, 2)))\n",
    "print(\"Modified Viterbi tagger that uses only the transition probabilities for unknown words: {}\".format(round(accuracy_4*100, 2)))\n",
    "print(\"Modified Viterbi tagger that uses Laplace smoothing: {}\".format(round(accuracy_5*100, 2)))"
   ]
  },
  {
   "cell_type": "markdown",
   "metadata": {},
   "source": [
    "#### The third model, the rule-based tagger, has the highest accuracy percentage. Note that the second and fourth models have the same accuracy percentage. We'll discuss this below. "
   ]
  },
  {
   "cell_type": "markdown",
   "metadata": {},
   "source": [
    "#### Next, let's compare the confusion matrices of the five models to make sure that the accuracies are not due to correct tagging of one or two types of tags. The performance should be spread across different types of tags."
   ]
  },
  {
   "cell_type": "markdown",
   "metadata": {},
   "source": [
    "### Model 1"
   ]
  },
  {
   "cell_type": "code",
   "execution_count": 113,
   "metadata": {},
   "outputs": [
    {
     "data": {
      "text/html": [
       "<div>\n",
       "<style scoped>\n",
       "    .dataframe tbody tr th:only-of-type {\n",
       "        vertical-align: middle;\n",
       "    }\n",
       "\n",
       "    .dataframe tbody tr th {\n",
       "        vertical-align: top;\n",
       "    }\n",
       "\n",
       "    .dataframe thead th {\n",
       "        text-align: right;\n",
       "    }\n",
       "</style>\n",
       "<table border=\"1\" class=\"dataframe\">\n",
       "  <thead>\n",
       "    <tr style=\"text-align: right;\">\n",
       "      <th></th>\n",
       "      <th>.</th>\n",
       "      <th>ADJ</th>\n",
       "      <th>ADP</th>\n",
       "      <th>ADV</th>\n",
       "      <th>CONJ</th>\n",
       "      <th>DET</th>\n",
       "      <th>NOUN</th>\n",
       "      <th>NUM</th>\n",
       "      <th>PRON</th>\n",
       "      <th>PRT</th>\n",
       "      <th>VERB</th>\n",
       "      <th>X</th>\n",
       "    </tr>\n",
       "  </thead>\n",
       "  <tbody>\n",
       "    <tr>\n",
       "      <th>.</th>\n",
       "      <td>612</td>\n",
       "      <td>49</td>\n",
       "      <td>0</td>\n",
       "      <td>13</td>\n",
       "      <td>0</td>\n",
       "      <td>0</td>\n",
       "      <td>147</td>\n",
       "      <td>38</td>\n",
       "      <td>0</td>\n",
       "      <td>0</td>\n",
       "      <td>63</td>\n",
       "      <td>21</td>\n",
       "    </tr>\n",
       "    <tr>\n",
       "      <th>ADJ</th>\n",
       "      <td>0</td>\n",
       "      <td>246</td>\n",
       "      <td>2</td>\n",
       "      <td>9</td>\n",
       "      <td>0</td>\n",
       "      <td>0</td>\n",
       "      <td>33</td>\n",
       "      <td>0</td>\n",
       "      <td>0</td>\n",
       "      <td>0</td>\n",
       "      <td>3</td>\n",
       "      <td>0</td>\n",
       "    </tr>\n",
       "    <tr>\n",
       "      <th>ADP</th>\n",
       "      <td>0</td>\n",
       "      <td>0</td>\n",
       "      <td>501</td>\n",
       "      <td>10</td>\n",
       "      <td>0</td>\n",
       "      <td>14</td>\n",
       "      <td>0</td>\n",
       "      <td>0</td>\n",
       "      <td>0</td>\n",
       "      <td>4</td>\n",
       "      <td>1</td>\n",
       "      <td>0</td>\n",
       "    </tr>\n",
       "    <tr>\n",
       "      <th>ADV</th>\n",
       "      <td>0</td>\n",
       "      <td>2</td>\n",
       "      <td>4</td>\n",
       "      <td>126</td>\n",
       "      <td>0</td>\n",
       "      <td>0</td>\n",
       "      <td>0</td>\n",
       "      <td>0</td>\n",
       "      <td>0</td>\n",
       "      <td>3</td>\n",
       "      <td>1</td>\n",
       "      <td>0</td>\n",
       "    </tr>\n",
       "    <tr>\n",
       "      <th>CONJ</th>\n",
       "      <td>0</td>\n",
       "      <td>0</td>\n",
       "      <td>1</td>\n",
       "      <td>0</td>\n",
       "      <td>111</td>\n",
       "      <td>0</td>\n",
       "      <td>0</td>\n",
       "      <td>0</td>\n",
       "      <td>0</td>\n",
       "      <td>0</td>\n",
       "      <td>0</td>\n",
       "      <td>0</td>\n",
       "    </tr>\n",
       "    <tr>\n",
       "      <th>DET</th>\n",
       "      <td>0</td>\n",
       "      <td>0</td>\n",
       "      <td>0</td>\n",
       "      <td>2</td>\n",
       "      <td>0</td>\n",
       "      <td>418</td>\n",
       "      <td>3</td>\n",
       "      <td>0</td>\n",
       "      <td>0</td>\n",
       "      <td>0</td>\n",
       "      <td>0</td>\n",
       "      <td>0</td>\n",
       "    </tr>\n",
       "    <tr>\n",
       "      <th>NOUN</th>\n",
       "      <td>0</td>\n",
       "      <td>21</td>\n",
       "      <td>0</td>\n",
       "      <td>1</td>\n",
       "      <td>0</td>\n",
       "      <td>1</td>\n",
       "      <td>1185</td>\n",
       "      <td>0</td>\n",
       "      <td>0</td>\n",
       "      <td>0</td>\n",
       "      <td>39</td>\n",
       "      <td>0</td>\n",
       "    </tr>\n",
       "    <tr>\n",
       "      <th>NUM</th>\n",
       "      <td>0</td>\n",
       "      <td>0</td>\n",
       "      <td>0</td>\n",
       "      <td>0</td>\n",
       "      <td>0</td>\n",
       "      <td>0</td>\n",
       "      <td>1</td>\n",
       "      <td>146</td>\n",
       "      <td>2</td>\n",
       "      <td>0</td>\n",
       "      <td>0</td>\n",
       "      <td>0</td>\n",
       "    </tr>\n",
       "    <tr>\n",
       "      <th>PRON</th>\n",
       "      <td>0</td>\n",
       "      <td>0</td>\n",
       "      <td>0</td>\n",
       "      <td>0</td>\n",
       "      <td>0</td>\n",
       "      <td>0</td>\n",
       "      <td>1</td>\n",
       "      <td>0</td>\n",
       "      <td>142</td>\n",
       "      <td>0</td>\n",
       "      <td>0</td>\n",
       "      <td>0</td>\n",
       "    </tr>\n",
       "    <tr>\n",
       "      <th>PRT</th>\n",
       "      <td>1</td>\n",
       "      <td>0</td>\n",
       "      <td>4</td>\n",
       "      <td>2</td>\n",
       "      <td>0</td>\n",
       "      <td>0</td>\n",
       "      <td>0</td>\n",
       "      <td>0</td>\n",
       "      <td>0</td>\n",
       "      <td>157</td>\n",
       "      <td>4</td>\n",
       "      <td>0</td>\n",
       "    </tr>\n",
       "    <tr>\n",
       "      <th>VERB</th>\n",
       "      <td>0</td>\n",
       "      <td>3</td>\n",
       "      <td>0</td>\n",
       "      <td>0</td>\n",
       "      <td>0</td>\n",
       "      <td>0</td>\n",
       "      <td>16</td>\n",
       "      <td>0</td>\n",
       "      <td>0</td>\n",
       "      <td>0</td>\n",
       "      <td>559</td>\n",
       "      <td>0</td>\n",
       "    </tr>\n",
       "    <tr>\n",
       "      <th>X</th>\n",
       "      <td>0</td>\n",
       "      <td>0</td>\n",
       "      <td>0</td>\n",
       "      <td>0</td>\n",
       "      <td>0</td>\n",
       "      <td>0</td>\n",
       "      <td>0</td>\n",
       "      <td>0</td>\n",
       "      <td>0</td>\n",
       "      <td>0</td>\n",
       "      <td>0</td>\n",
       "      <td>312</td>\n",
       "    </tr>\n",
       "  </tbody>\n",
       "</table>\n",
       "</div>"
      ],
      "text/plain": [
       "        .  ADJ  ADP  ADV  CONJ  DET  NOUN  NUM  PRON  PRT  VERB    X\n",
       ".     612   49    0   13     0    0   147   38     0    0    63   21\n",
       "ADJ     0  246    2    9     0    0    33    0     0    0     3    0\n",
       "ADP     0    0  501   10     0   14     0    0     0    4     1    0\n",
       "ADV     0    2    4  126     0    0     0    0     0    3     1    0\n",
       "CONJ    0    0    1    0   111    0     0    0     0    0     0    0\n",
       "DET     0    0    0    2     0  418     3    0     0    0     0    0\n",
       "NOUN    0   21    0    1     0    1  1185    0     0    0    39    0\n",
       "NUM     0    0    0    0     0    0     1  146     2    0     0    0\n",
       "PRON    0    0    0    0     0    0     1    0   142    0     0    0\n",
       "PRT     1    0    4    2     0    0     0    0     0  157     4    0\n",
       "VERB    0    3    0    0     0    0    16    0     0    0   559    0\n",
       "X       0    0    0    0     0    0     0    0     0    0     0  312"
      ]
     },
     "execution_count": 113,
     "metadata": {},
     "output_type": "execute_result"
    }
   ],
   "source": [
    "conf_matrix_viterbi = pd.DataFrame(confusion_matrix([i[1] for i in tagged_seq], validation_tags, labels = POS_tags), columns=POS_tags, index=POS_tags)\n",
    "conf_matrix_viterbi"
   ]
  },
  {
   "cell_type": "markdown",
   "metadata": {},
   "source": [
    "#### Rows represent true labels and columns represent prediced labels. This confusion matrix shows that a lot of words get tagged as '.' This is because, this is the first POS tag in the transition probabilities matrix. Note that the performance seems to be fairly even: a lot of different tags are being correctly identified."
   ]
  },
  {
   "cell_type": "markdown",
   "metadata": {},
   "source": [
    "### Model 2"
   ]
  },
  {
   "cell_type": "code",
   "execution_count": 114,
   "metadata": {},
   "outputs": [
    {
     "data": {
      "text/html": [
       "<div>\n",
       "<style scoped>\n",
       "    .dataframe tbody tr th:only-of-type {\n",
       "        vertical-align: middle;\n",
       "    }\n",
       "\n",
       "    .dataframe tbody tr th {\n",
       "        vertical-align: top;\n",
       "    }\n",
       "\n",
       "    .dataframe thead th {\n",
       "        text-align: right;\n",
       "    }\n",
       "</style>\n",
       "<table border=\"1\" class=\"dataframe\">\n",
       "  <thead>\n",
       "    <tr style=\"text-align: right;\">\n",
       "      <th></th>\n",
       "      <th>.</th>\n",
       "      <th>ADJ</th>\n",
       "      <th>ADP</th>\n",
       "      <th>ADV</th>\n",
       "      <th>CONJ</th>\n",
       "      <th>DET</th>\n",
       "      <th>NOUN</th>\n",
       "      <th>NUM</th>\n",
       "      <th>PRON</th>\n",
       "      <th>PRT</th>\n",
       "      <th>VERB</th>\n",
       "      <th>X</th>\n",
       "    </tr>\n",
       "  </thead>\n",
       "  <tbody>\n",
       "    <tr>\n",
       "      <th>.</th>\n",
       "      <td>612</td>\n",
       "      <td>0</td>\n",
       "      <td>0</td>\n",
       "      <td>0</td>\n",
       "      <td>0</td>\n",
       "      <td>0</td>\n",
       "      <td>0</td>\n",
       "      <td>0</td>\n",
       "      <td>0</td>\n",
       "      <td>0</td>\n",
       "      <td>0</td>\n",
       "      <td>0</td>\n",
       "    </tr>\n",
       "    <tr>\n",
       "      <th>ADJ</th>\n",
       "      <td>0</td>\n",
       "      <td>246</td>\n",
       "      <td>2</td>\n",
       "      <td>9</td>\n",
       "      <td>0</td>\n",
       "      <td>0</td>\n",
       "      <td>33</td>\n",
       "      <td>0</td>\n",
       "      <td>0</td>\n",
       "      <td>0</td>\n",
       "      <td>3</td>\n",
       "      <td>0</td>\n",
       "    </tr>\n",
       "    <tr>\n",
       "      <th>ADP</th>\n",
       "      <td>0</td>\n",
       "      <td>0</td>\n",
       "      <td>501</td>\n",
       "      <td>10</td>\n",
       "      <td>0</td>\n",
       "      <td>14</td>\n",
       "      <td>0</td>\n",
       "      <td>0</td>\n",
       "      <td>0</td>\n",
       "      <td>4</td>\n",
       "      <td>1</td>\n",
       "      <td>0</td>\n",
       "    </tr>\n",
       "    <tr>\n",
       "      <th>ADV</th>\n",
       "      <td>0</td>\n",
       "      <td>2</td>\n",
       "      <td>4</td>\n",
       "      <td>126</td>\n",
       "      <td>0</td>\n",
       "      <td>0</td>\n",
       "      <td>0</td>\n",
       "      <td>0</td>\n",
       "      <td>0</td>\n",
       "      <td>3</td>\n",
       "      <td>1</td>\n",
       "      <td>0</td>\n",
       "    </tr>\n",
       "    <tr>\n",
       "      <th>CONJ</th>\n",
       "      <td>0</td>\n",
       "      <td>0</td>\n",
       "      <td>1</td>\n",
       "      <td>0</td>\n",
       "      <td>111</td>\n",
       "      <td>0</td>\n",
       "      <td>0</td>\n",
       "      <td>0</td>\n",
       "      <td>0</td>\n",
       "      <td>0</td>\n",
       "      <td>0</td>\n",
       "      <td>0</td>\n",
       "    </tr>\n",
       "    <tr>\n",
       "      <th>DET</th>\n",
       "      <td>0</td>\n",
       "      <td>0</td>\n",
       "      <td>0</td>\n",
       "      <td>2</td>\n",
       "      <td>0</td>\n",
       "      <td>418</td>\n",
       "      <td>3</td>\n",
       "      <td>0</td>\n",
       "      <td>0</td>\n",
       "      <td>0</td>\n",
       "      <td>0</td>\n",
       "      <td>0</td>\n",
       "    </tr>\n",
       "    <tr>\n",
       "      <th>NOUN</th>\n",
       "      <td>0</td>\n",
       "      <td>70</td>\n",
       "      <td>0</td>\n",
       "      <td>14</td>\n",
       "      <td>0</td>\n",
       "      <td>1</td>\n",
       "      <td>1332</td>\n",
       "      <td>38</td>\n",
       "      <td>0</td>\n",
       "      <td>0</td>\n",
       "      <td>103</td>\n",
       "      <td>21</td>\n",
       "    </tr>\n",
       "    <tr>\n",
       "      <th>NUM</th>\n",
       "      <td>0</td>\n",
       "      <td>0</td>\n",
       "      <td>0</td>\n",
       "      <td>0</td>\n",
       "      <td>0</td>\n",
       "      <td>0</td>\n",
       "      <td>1</td>\n",
       "      <td>146</td>\n",
       "      <td>2</td>\n",
       "      <td>0</td>\n",
       "      <td>0</td>\n",
       "      <td>0</td>\n",
       "    </tr>\n",
       "    <tr>\n",
       "      <th>PRON</th>\n",
       "      <td>0</td>\n",
       "      <td>0</td>\n",
       "      <td>0</td>\n",
       "      <td>0</td>\n",
       "      <td>0</td>\n",
       "      <td>0</td>\n",
       "      <td>1</td>\n",
       "      <td>0</td>\n",
       "      <td>142</td>\n",
       "      <td>0</td>\n",
       "      <td>0</td>\n",
       "      <td>0</td>\n",
       "    </tr>\n",
       "    <tr>\n",
       "      <th>PRT</th>\n",
       "      <td>1</td>\n",
       "      <td>0</td>\n",
       "      <td>4</td>\n",
       "      <td>2</td>\n",
       "      <td>0</td>\n",
       "      <td>0</td>\n",
       "      <td>0</td>\n",
       "      <td>0</td>\n",
       "      <td>0</td>\n",
       "      <td>157</td>\n",
       "      <td>4</td>\n",
       "      <td>0</td>\n",
       "    </tr>\n",
       "    <tr>\n",
       "      <th>VERB</th>\n",
       "      <td>0</td>\n",
       "      <td>3</td>\n",
       "      <td>0</td>\n",
       "      <td>0</td>\n",
       "      <td>0</td>\n",
       "      <td>0</td>\n",
       "      <td>16</td>\n",
       "      <td>0</td>\n",
       "      <td>0</td>\n",
       "      <td>0</td>\n",
       "      <td>558</td>\n",
       "      <td>0</td>\n",
       "    </tr>\n",
       "    <tr>\n",
       "      <th>X</th>\n",
       "      <td>0</td>\n",
       "      <td>0</td>\n",
       "      <td>0</td>\n",
       "      <td>0</td>\n",
       "      <td>0</td>\n",
       "      <td>0</td>\n",
       "      <td>0</td>\n",
       "      <td>0</td>\n",
       "      <td>0</td>\n",
       "      <td>0</td>\n",
       "      <td>0</td>\n",
       "      <td>312</td>\n",
       "    </tr>\n",
       "  </tbody>\n",
       "</table>\n",
       "</div>"
      ],
      "text/plain": [
       "        .  ADJ  ADP  ADV  CONJ  DET  NOUN  NUM  PRON  PRT  VERB    X\n",
       ".     612    0    0    0     0    0     0    0     0    0     0    0\n",
       "ADJ     0  246    2    9     0    0    33    0     0    0     3    0\n",
       "ADP     0    0  501   10     0   14     0    0     0    4     1    0\n",
       "ADV     0    2    4  126     0    0     0    0     0    3     1    0\n",
       "CONJ    0    0    1    0   111    0     0    0     0    0     0    0\n",
       "DET     0    0    0    2     0  418     3    0     0    0     0    0\n",
       "NOUN    0   70    0   14     0    1  1332   38     0    0   103   21\n",
       "NUM     0    0    0    0     0    0     1  146     2    0     0    0\n",
       "PRON    0    0    0    0     0    0     1    0   142    0     0    0\n",
       "PRT     1    0    4    2     0    0     0    0     0  157     4    0\n",
       "VERB    0    3    0    0     0    0    16    0     0    0   558    0\n",
       "X       0    0    0    0     0    0     0    0     0    0     0  312"
      ]
     },
     "execution_count": 114,
     "metadata": {},
     "output_type": "execute_result"
    }
   ],
   "source": [
    "conf_matrix_viterbi_2 = pd.DataFrame(confusion_matrix([i[1] for i in tagged_seq_2], validation_tags, labels = POS_tags), columns=POS_tags, index=POS_tags)\n",
    "conf_matrix_viterbi_2"
   ]
  },
  {
   "cell_type": "markdown",
   "metadata": {},
   "source": [
    "#### In this model, the number of words that are tagged as NOUN increases as we're tagging all unknown words as NOUN."
   ]
  },
  {
   "cell_type": "markdown",
   "metadata": {},
   "source": [
    "### Model 3"
   ]
  },
  {
   "cell_type": "code",
   "execution_count": 115,
   "metadata": {},
   "outputs": [
    {
     "data": {
      "text/html": [
       "<div>\n",
       "<style scoped>\n",
       "    .dataframe tbody tr th:only-of-type {\n",
       "        vertical-align: middle;\n",
       "    }\n",
       "\n",
       "    .dataframe tbody tr th {\n",
       "        vertical-align: top;\n",
       "    }\n",
       "\n",
       "    .dataframe thead th {\n",
       "        text-align: right;\n",
       "    }\n",
       "</style>\n",
       "<table border=\"1\" class=\"dataframe\">\n",
       "  <thead>\n",
       "    <tr style=\"text-align: right;\">\n",
       "      <th></th>\n",
       "      <th>.</th>\n",
       "      <th>ADJ</th>\n",
       "      <th>ADP</th>\n",
       "      <th>ADV</th>\n",
       "      <th>CONJ</th>\n",
       "      <th>DET</th>\n",
       "      <th>NOUN</th>\n",
       "      <th>NUM</th>\n",
       "      <th>PRON</th>\n",
       "      <th>PRT</th>\n",
       "      <th>VERB</th>\n",
       "      <th>X</th>\n",
       "    </tr>\n",
       "  </thead>\n",
       "  <tbody>\n",
       "    <tr>\n",
       "      <th>.</th>\n",
       "      <td>612</td>\n",
       "      <td>0</td>\n",
       "      <td>0</td>\n",
       "      <td>0</td>\n",
       "      <td>0</td>\n",
       "      <td>0</td>\n",
       "      <td>0</td>\n",
       "      <td>0</td>\n",
       "      <td>0</td>\n",
       "      <td>0</td>\n",
       "      <td>0</td>\n",
       "      <td>0</td>\n",
       "    </tr>\n",
       "    <tr>\n",
       "      <th>ADJ</th>\n",
       "      <td>0</td>\n",
       "      <td>268</td>\n",
       "      <td>2</td>\n",
       "      <td>9</td>\n",
       "      <td>0</td>\n",
       "      <td>0</td>\n",
       "      <td>41</td>\n",
       "      <td>0</td>\n",
       "      <td>0</td>\n",
       "      <td>0</td>\n",
       "      <td>3</td>\n",
       "      <td>0</td>\n",
       "    </tr>\n",
       "    <tr>\n",
       "      <th>ADP</th>\n",
       "      <td>0</td>\n",
       "      <td>0</td>\n",
       "      <td>501</td>\n",
       "      <td>10</td>\n",
       "      <td>0</td>\n",
       "      <td>14</td>\n",
       "      <td>0</td>\n",
       "      <td>0</td>\n",
       "      <td>0</td>\n",
       "      <td>4</td>\n",
       "      <td>1</td>\n",
       "      <td>0</td>\n",
       "    </tr>\n",
       "    <tr>\n",
       "      <th>ADV</th>\n",
       "      <td>0</td>\n",
       "      <td>3</td>\n",
       "      <td>4</td>\n",
       "      <td>138</td>\n",
       "      <td>0</td>\n",
       "      <td>0</td>\n",
       "      <td>1</td>\n",
       "      <td>0</td>\n",
       "      <td>0</td>\n",
       "      <td>3</td>\n",
       "      <td>1</td>\n",
       "      <td>0</td>\n",
       "    </tr>\n",
       "    <tr>\n",
       "      <th>CONJ</th>\n",
       "      <td>0</td>\n",
       "      <td>0</td>\n",
       "      <td>1</td>\n",
       "      <td>0</td>\n",
       "      <td>111</td>\n",
       "      <td>0</td>\n",
       "      <td>0</td>\n",
       "      <td>0</td>\n",
       "      <td>0</td>\n",
       "      <td>0</td>\n",
       "      <td>0</td>\n",
       "      <td>0</td>\n",
       "    </tr>\n",
       "    <tr>\n",
       "      <th>DET</th>\n",
       "      <td>0</td>\n",
       "      <td>0</td>\n",
       "      <td>0</td>\n",
       "      <td>2</td>\n",
       "      <td>0</td>\n",
       "      <td>418</td>\n",
       "      <td>3</td>\n",
       "      <td>0</td>\n",
       "      <td>0</td>\n",
       "      <td>0</td>\n",
       "      <td>0</td>\n",
       "      <td>0</td>\n",
       "    </tr>\n",
       "    <tr>\n",
       "      <th>NOUN</th>\n",
       "      <td>0</td>\n",
       "      <td>37</td>\n",
       "      <td>0</td>\n",
       "      <td>2</td>\n",
       "      <td>0</td>\n",
       "      <td>1</td>\n",
       "      <td>1310</td>\n",
       "      <td>6</td>\n",
       "      <td>0</td>\n",
       "      <td>0</td>\n",
       "      <td>61</td>\n",
       "      <td>21</td>\n",
       "    </tr>\n",
       "    <tr>\n",
       "      <th>NUM</th>\n",
       "      <td>0</td>\n",
       "      <td>0</td>\n",
       "      <td>0</td>\n",
       "      <td>0</td>\n",
       "      <td>0</td>\n",
       "      <td>0</td>\n",
       "      <td>1</td>\n",
       "      <td>178</td>\n",
       "      <td>2</td>\n",
       "      <td>0</td>\n",
       "      <td>0</td>\n",
       "      <td>0</td>\n",
       "    </tr>\n",
       "    <tr>\n",
       "      <th>PRON</th>\n",
       "      <td>0</td>\n",
       "      <td>0</td>\n",
       "      <td>0</td>\n",
       "      <td>0</td>\n",
       "      <td>0</td>\n",
       "      <td>0</td>\n",
       "      <td>1</td>\n",
       "      <td>0</td>\n",
       "      <td>142</td>\n",
       "      <td>0</td>\n",
       "      <td>0</td>\n",
       "      <td>0</td>\n",
       "    </tr>\n",
       "    <tr>\n",
       "      <th>PRT</th>\n",
       "      <td>1</td>\n",
       "      <td>0</td>\n",
       "      <td>4</td>\n",
       "      <td>2</td>\n",
       "      <td>0</td>\n",
       "      <td>0</td>\n",
       "      <td>0</td>\n",
       "      <td>0</td>\n",
       "      <td>0</td>\n",
       "      <td>157</td>\n",
       "      <td>4</td>\n",
       "      <td>0</td>\n",
       "    </tr>\n",
       "    <tr>\n",
       "      <th>VERB</th>\n",
       "      <td>0</td>\n",
       "      <td>13</td>\n",
       "      <td>0</td>\n",
       "      <td>0</td>\n",
       "      <td>0</td>\n",
       "      <td>0</td>\n",
       "      <td>29</td>\n",
       "      <td>0</td>\n",
       "      <td>0</td>\n",
       "      <td>0</td>\n",
       "      <td>600</td>\n",
       "      <td>0</td>\n",
       "    </tr>\n",
       "    <tr>\n",
       "      <th>X</th>\n",
       "      <td>0</td>\n",
       "      <td>0</td>\n",
       "      <td>0</td>\n",
       "      <td>0</td>\n",
       "      <td>0</td>\n",
       "      <td>0</td>\n",
       "      <td>0</td>\n",
       "      <td>0</td>\n",
       "      <td>0</td>\n",
       "      <td>0</td>\n",
       "      <td>0</td>\n",
       "      <td>312</td>\n",
       "    </tr>\n",
       "  </tbody>\n",
       "</table>\n",
       "</div>"
      ],
      "text/plain": [
       "        .  ADJ  ADP  ADV  CONJ  DET  NOUN  NUM  PRON  PRT  VERB    X\n",
       ".     612    0    0    0     0    0     0    0     0    0     0    0\n",
       "ADJ     0  268    2    9     0    0    41    0     0    0     3    0\n",
       "ADP     0    0  501   10     0   14     0    0     0    4     1    0\n",
       "ADV     0    3    4  138     0    0     1    0     0    3     1    0\n",
       "CONJ    0    0    1    0   111    0     0    0     0    0     0    0\n",
       "DET     0    0    0    2     0  418     3    0     0    0     0    0\n",
       "NOUN    0   37    0    2     0    1  1310    6     0    0    61   21\n",
       "NUM     0    0    0    0     0    0     1  178     2    0     0    0\n",
       "PRON    0    0    0    0     0    0     1    0   142    0     0    0\n",
       "PRT     1    0    4    2     0    0     0    0     0  157     4    0\n",
       "VERB    0   13    0    0     0    0    29    0     0    0   600    0\n",
       "X       0    0    0    0     0    0     0    0     0    0     0  312"
      ]
     },
     "execution_count": 115,
     "metadata": {},
     "output_type": "execute_result"
    }
   ],
   "source": [
    "conf_matrix_viterbi_3 = pd.DataFrame(confusion_matrix([i[1] for i in tagged_seq_3], validation_tags, labels = POS_tags), columns=POS_tags, index=POS_tags)\n",
    "conf_matrix_viterbi_3"
   ]
  },
  {
   "cell_type": "markdown",
   "metadata": {},
   "source": [
    "#### In this model, the number of words that are correctly tagged as ADJ and VERB increases when compared to the previous model. This is because a lot of rules identify words that are adjectives and verbs."
   ]
  },
  {
   "cell_type": "markdown",
   "metadata": {},
   "source": [
    "### Model 4"
   ]
  },
  {
   "cell_type": "code",
   "execution_count": 116,
   "metadata": {},
   "outputs": [
    {
     "data": {
      "text/html": [
       "<div>\n",
       "<style scoped>\n",
       "    .dataframe tbody tr th:only-of-type {\n",
       "        vertical-align: middle;\n",
       "    }\n",
       "\n",
       "    .dataframe tbody tr th {\n",
       "        vertical-align: top;\n",
       "    }\n",
       "\n",
       "    .dataframe thead th {\n",
       "        text-align: right;\n",
       "    }\n",
       "</style>\n",
       "<table border=\"1\" class=\"dataframe\">\n",
       "  <thead>\n",
       "    <tr style=\"text-align: right;\">\n",
       "      <th></th>\n",
       "      <th>.</th>\n",
       "      <th>ADJ</th>\n",
       "      <th>ADP</th>\n",
       "      <th>ADV</th>\n",
       "      <th>CONJ</th>\n",
       "      <th>DET</th>\n",
       "      <th>NOUN</th>\n",
       "      <th>NUM</th>\n",
       "      <th>PRON</th>\n",
       "      <th>PRT</th>\n",
       "      <th>VERB</th>\n",
       "      <th>X</th>\n",
       "    </tr>\n",
       "  </thead>\n",
       "  <tbody>\n",
       "    <tr>\n",
       "      <th>.</th>\n",
       "      <td>612</td>\n",
       "      <td>0</td>\n",
       "      <td>0</td>\n",
       "      <td>0</td>\n",
       "      <td>0</td>\n",
       "      <td>0</td>\n",
       "      <td>0</td>\n",
       "      <td>0</td>\n",
       "      <td>0</td>\n",
       "      <td>0</td>\n",
       "      <td>0</td>\n",
       "      <td>0</td>\n",
       "    </tr>\n",
       "    <tr>\n",
       "      <th>ADJ</th>\n",
       "      <td>0</td>\n",
       "      <td>246</td>\n",
       "      <td>2</td>\n",
       "      <td>9</td>\n",
       "      <td>0</td>\n",
       "      <td>0</td>\n",
       "      <td>33</td>\n",
       "      <td>0</td>\n",
       "      <td>0</td>\n",
       "      <td>0</td>\n",
       "      <td>3</td>\n",
       "      <td>0</td>\n",
       "    </tr>\n",
       "    <tr>\n",
       "      <th>ADP</th>\n",
       "      <td>0</td>\n",
       "      <td>0</td>\n",
       "      <td>501</td>\n",
       "      <td>10</td>\n",
       "      <td>0</td>\n",
       "      <td>14</td>\n",
       "      <td>0</td>\n",
       "      <td>0</td>\n",
       "      <td>0</td>\n",
       "      <td>4</td>\n",
       "      <td>1</td>\n",
       "      <td>0</td>\n",
       "    </tr>\n",
       "    <tr>\n",
       "      <th>ADV</th>\n",
       "      <td>0</td>\n",
       "      <td>2</td>\n",
       "      <td>4</td>\n",
       "      <td>126</td>\n",
       "      <td>0</td>\n",
       "      <td>0</td>\n",
       "      <td>0</td>\n",
       "      <td>0</td>\n",
       "      <td>0</td>\n",
       "      <td>3</td>\n",
       "      <td>1</td>\n",
       "      <td>0</td>\n",
       "    </tr>\n",
       "    <tr>\n",
       "      <th>CONJ</th>\n",
       "      <td>0</td>\n",
       "      <td>0</td>\n",
       "      <td>1</td>\n",
       "      <td>0</td>\n",
       "      <td>111</td>\n",
       "      <td>0</td>\n",
       "      <td>0</td>\n",
       "      <td>0</td>\n",
       "      <td>0</td>\n",
       "      <td>0</td>\n",
       "      <td>0</td>\n",
       "      <td>0</td>\n",
       "    </tr>\n",
       "    <tr>\n",
       "      <th>DET</th>\n",
       "      <td>0</td>\n",
       "      <td>0</td>\n",
       "      <td>0</td>\n",
       "      <td>2</td>\n",
       "      <td>0</td>\n",
       "      <td>418</td>\n",
       "      <td>3</td>\n",
       "      <td>0</td>\n",
       "      <td>0</td>\n",
       "      <td>0</td>\n",
       "      <td>0</td>\n",
       "      <td>0</td>\n",
       "    </tr>\n",
       "    <tr>\n",
       "      <th>NOUN</th>\n",
       "      <td>0</td>\n",
       "      <td>70</td>\n",
       "      <td>0</td>\n",
       "      <td>14</td>\n",
       "      <td>0</td>\n",
       "      <td>1</td>\n",
       "      <td>1332</td>\n",
       "      <td>38</td>\n",
       "      <td>0</td>\n",
       "      <td>0</td>\n",
       "      <td>103</td>\n",
       "      <td>21</td>\n",
       "    </tr>\n",
       "    <tr>\n",
       "      <th>NUM</th>\n",
       "      <td>0</td>\n",
       "      <td>0</td>\n",
       "      <td>0</td>\n",
       "      <td>0</td>\n",
       "      <td>0</td>\n",
       "      <td>0</td>\n",
       "      <td>1</td>\n",
       "      <td>146</td>\n",
       "      <td>2</td>\n",
       "      <td>0</td>\n",
       "      <td>0</td>\n",
       "      <td>0</td>\n",
       "    </tr>\n",
       "    <tr>\n",
       "      <th>PRON</th>\n",
       "      <td>0</td>\n",
       "      <td>0</td>\n",
       "      <td>0</td>\n",
       "      <td>0</td>\n",
       "      <td>0</td>\n",
       "      <td>0</td>\n",
       "      <td>1</td>\n",
       "      <td>0</td>\n",
       "      <td>142</td>\n",
       "      <td>0</td>\n",
       "      <td>0</td>\n",
       "      <td>0</td>\n",
       "    </tr>\n",
       "    <tr>\n",
       "      <th>PRT</th>\n",
       "      <td>1</td>\n",
       "      <td>0</td>\n",
       "      <td>4</td>\n",
       "      <td>2</td>\n",
       "      <td>0</td>\n",
       "      <td>0</td>\n",
       "      <td>0</td>\n",
       "      <td>0</td>\n",
       "      <td>0</td>\n",
       "      <td>157</td>\n",
       "      <td>4</td>\n",
       "      <td>0</td>\n",
       "    </tr>\n",
       "    <tr>\n",
       "      <th>VERB</th>\n",
       "      <td>0</td>\n",
       "      <td>3</td>\n",
       "      <td>0</td>\n",
       "      <td>0</td>\n",
       "      <td>0</td>\n",
       "      <td>0</td>\n",
       "      <td>16</td>\n",
       "      <td>0</td>\n",
       "      <td>0</td>\n",
       "      <td>0</td>\n",
       "      <td>558</td>\n",
       "      <td>0</td>\n",
       "    </tr>\n",
       "    <tr>\n",
       "      <th>X</th>\n",
       "      <td>0</td>\n",
       "      <td>0</td>\n",
       "      <td>0</td>\n",
       "      <td>0</td>\n",
       "      <td>0</td>\n",
       "      <td>0</td>\n",
       "      <td>0</td>\n",
       "      <td>0</td>\n",
       "      <td>0</td>\n",
       "      <td>0</td>\n",
       "      <td>0</td>\n",
       "      <td>312</td>\n",
       "    </tr>\n",
       "  </tbody>\n",
       "</table>\n",
       "</div>"
      ],
      "text/plain": [
       "        .  ADJ  ADP  ADV  CONJ  DET  NOUN  NUM  PRON  PRT  VERB    X\n",
       ".     612    0    0    0     0    0     0    0     0    0     0    0\n",
       "ADJ     0  246    2    9     0    0    33    0     0    0     3    0\n",
       "ADP     0    0  501   10     0   14     0    0     0    4     1    0\n",
       "ADV     0    2    4  126     0    0     0    0     0    3     1    0\n",
       "CONJ    0    0    1    0   111    0     0    0     0    0     0    0\n",
       "DET     0    0    0    2     0  418     3    0     0    0     0    0\n",
       "NOUN    0   70    0   14     0    1  1332   38     0    0   103   21\n",
       "NUM     0    0    0    0     0    0     1  146     2    0     0    0\n",
       "PRON    0    0    0    0     0    0     1    0   142    0     0    0\n",
       "PRT     1    0    4    2     0    0     0    0     0  157     4    0\n",
       "VERB    0    3    0    0     0    0    16    0     0    0   558    0\n",
       "X       0    0    0    0     0    0     0    0     0    0     0  312"
      ]
     },
     "execution_count": 116,
     "metadata": {},
     "output_type": "execute_result"
    }
   ],
   "source": [
    "conf_matrix_viterbi_4 = pd.DataFrame(confusion_matrix([i[1] for i in tagged_seq_4], validation_tags, labels = POS_tags), columns=POS_tags, index=POS_tags)\n",
    "conf_matrix_viterbi_4"
   ]
  },
  {
   "cell_type": "markdown",
   "metadata": {},
   "source": [
    "#### This model produces the same results as the first modified Viterbi model. That's because for all given t1, t2 is highest for nouns (as we saw in the second heatmap). Therefore, all unknown words are tagged as NOUNs by this model too."
   ]
  },
  {
   "cell_type": "markdown",
   "metadata": {},
   "source": [
    "### Model 5"
   ]
  },
  {
   "cell_type": "code",
   "execution_count": 117,
   "metadata": {},
   "outputs": [
    {
     "data": {
      "text/html": [
       "<div>\n",
       "<style scoped>\n",
       "    .dataframe tbody tr th:only-of-type {\n",
       "        vertical-align: middle;\n",
       "    }\n",
       "\n",
       "    .dataframe tbody tr th {\n",
       "        vertical-align: top;\n",
       "    }\n",
       "\n",
       "    .dataframe thead th {\n",
       "        text-align: right;\n",
       "    }\n",
       "</style>\n",
       "<table border=\"1\" class=\"dataframe\">\n",
       "  <thead>\n",
       "    <tr style=\"text-align: right;\">\n",
       "      <th></th>\n",
       "      <th>.</th>\n",
       "      <th>ADJ</th>\n",
       "      <th>ADP</th>\n",
       "      <th>ADV</th>\n",
       "      <th>CONJ</th>\n",
       "      <th>DET</th>\n",
       "      <th>NOUN</th>\n",
       "      <th>NUM</th>\n",
       "      <th>PRON</th>\n",
       "      <th>PRT</th>\n",
       "      <th>VERB</th>\n",
       "      <th>X</th>\n",
       "    </tr>\n",
       "  </thead>\n",
       "  <tbody>\n",
       "    <tr>\n",
       "      <th>.</th>\n",
       "      <td>612</td>\n",
       "      <td>0</td>\n",
       "      <td>0</td>\n",
       "      <td>0</td>\n",
       "      <td>0</td>\n",
       "      <td>0</td>\n",
       "      <td>7</td>\n",
       "      <td>2</td>\n",
       "      <td>0</td>\n",
       "      <td>0</td>\n",
       "      <td>3</td>\n",
       "      <td>1</td>\n",
       "    </tr>\n",
       "    <tr>\n",
       "      <th>ADJ</th>\n",
       "      <td>0</td>\n",
       "      <td>250</td>\n",
       "      <td>2</td>\n",
       "      <td>9</td>\n",
       "      <td>0</td>\n",
       "      <td>0</td>\n",
       "      <td>46</td>\n",
       "      <td>3</td>\n",
       "      <td>0</td>\n",
       "      <td>0</td>\n",
       "      <td>8</td>\n",
       "      <td>1</td>\n",
       "    </tr>\n",
       "    <tr>\n",
       "      <th>ADP</th>\n",
       "      <td>0</td>\n",
       "      <td>2</td>\n",
       "      <td>501</td>\n",
       "      <td>10</td>\n",
       "      <td>0</td>\n",
       "      <td>14</td>\n",
       "      <td>6</td>\n",
       "      <td>2</td>\n",
       "      <td>0</td>\n",
       "      <td>4</td>\n",
       "      <td>5</td>\n",
       "      <td>1</td>\n",
       "    </tr>\n",
       "    <tr>\n",
       "      <th>ADV</th>\n",
       "      <td>0</td>\n",
       "      <td>5</td>\n",
       "      <td>4</td>\n",
       "      <td>129</td>\n",
       "      <td>0</td>\n",
       "      <td>0</td>\n",
       "      <td>17</td>\n",
       "      <td>6</td>\n",
       "      <td>0</td>\n",
       "      <td>3</td>\n",
       "      <td>7</td>\n",
       "      <td>4</td>\n",
       "    </tr>\n",
       "    <tr>\n",
       "      <th>CONJ</th>\n",
       "      <td>0</td>\n",
       "      <td>4</td>\n",
       "      <td>1</td>\n",
       "      <td>1</td>\n",
       "      <td>111</td>\n",
       "      <td>0</td>\n",
       "      <td>17</td>\n",
       "      <td>2</td>\n",
       "      <td>0</td>\n",
       "      <td>0</td>\n",
       "      <td>2</td>\n",
       "      <td>0</td>\n",
       "    </tr>\n",
       "    <tr>\n",
       "      <th>DET</th>\n",
       "      <td>0</td>\n",
       "      <td>1</td>\n",
       "      <td>0</td>\n",
       "      <td>2</td>\n",
       "      <td>0</td>\n",
       "      <td>418</td>\n",
       "      <td>5</td>\n",
       "      <td>1</td>\n",
       "      <td>0</td>\n",
       "      <td>0</td>\n",
       "      <td>1</td>\n",
       "      <td>3</td>\n",
       "    </tr>\n",
       "    <tr>\n",
       "      <th>NOUN</th>\n",
       "      <td>0</td>\n",
       "      <td>21</td>\n",
       "      <td>0</td>\n",
       "      <td>1</td>\n",
       "      <td>0</td>\n",
       "      <td>1</td>\n",
       "      <td>1185</td>\n",
       "      <td>0</td>\n",
       "      <td>0</td>\n",
       "      <td>0</td>\n",
       "      <td>39</td>\n",
       "      <td>0</td>\n",
       "    </tr>\n",
       "    <tr>\n",
       "      <th>NUM</th>\n",
       "      <td>0</td>\n",
       "      <td>12</td>\n",
       "      <td>0</td>\n",
       "      <td>4</td>\n",
       "      <td>0</td>\n",
       "      <td>0</td>\n",
       "      <td>32</td>\n",
       "      <td>156</td>\n",
       "      <td>2</td>\n",
       "      <td>0</td>\n",
       "      <td>19</td>\n",
       "      <td>2</td>\n",
       "    </tr>\n",
       "    <tr>\n",
       "      <th>PRON</th>\n",
       "      <td>0</td>\n",
       "      <td>2</td>\n",
       "      <td>0</td>\n",
       "      <td>0</td>\n",
       "      <td>0</td>\n",
       "      <td>0</td>\n",
       "      <td>6</td>\n",
       "      <td>1</td>\n",
       "      <td>142</td>\n",
       "      <td>0</td>\n",
       "      <td>4</td>\n",
       "      <td>1</td>\n",
       "    </tr>\n",
       "    <tr>\n",
       "      <th>PRT</th>\n",
       "      <td>1</td>\n",
       "      <td>9</td>\n",
       "      <td>4</td>\n",
       "      <td>4</td>\n",
       "      <td>0</td>\n",
       "      <td>0</td>\n",
       "      <td>28</td>\n",
       "      <td>7</td>\n",
       "      <td>0</td>\n",
       "      <td>157</td>\n",
       "      <td>18</td>\n",
       "      <td>6</td>\n",
       "    </tr>\n",
       "    <tr>\n",
       "      <th>VERB</th>\n",
       "      <td>0</td>\n",
       "      <td>3</td>\n",
       "      <td>0</td>\n",
       "      <td>0</td>\n",
       "      <td>0</td>\n",
       "      <td>0</td>\n",
       "      <td>16</td>\n",
       "      <td>0</td>\n",
       "      <td>0</td>\n",
       "      <td>0</td>\n",
       "      <td>559</td>\n",
       "      <td>0</td>\n",
       "    </tr>\n",
       "    <tr>\n",
       "      <th>X</th>\n",
       "      <td>0</td>\n",
       "      <td>12</td>\n",
       "      <td>0</td>\n",
       "      <td>3</td>\n",
       "      <td>0</td>\n",
       "      <td>0</td>\n",
       "      <td>21</td>\n",
       "      <td>4</td>\n",
       "      <td>0</td>\n",
       "      <td>0</td>\n",
       "      <td>5</td>\n",
       "      <td>314</td>\n",
       "    </tr>\n",
       "  </tbody>\n",
       "</table>\n",
       "</div>"
      ],
      "text/plain": [
       "        .  ADJ  ADP  ADV  CONJ  DET  NOUN  NUM  PRON  PRT  VERB    X\n",
       ".     612    0    0    0     0    0     7    2     0    0     3    1\n",
       "ADJ     0  250    2    9     0    0    46    3     0    0     8    1\n",
       "ADP     0    2  501   10     0   14     6    2     0    4     5    1\n",
       "ADV     0    5    4  129     0    0    17    6     0    3     7    4\n",
       "CONJ    0    4    1    1   111    0    17    2     0    0     2    0\n",
       "DET     0    1    0    2     0  418     5    1     0    0     1    3\n",
       "NOUN    0   21    0    1     0    1  1185    0     0    0    39    0\n",
       "NUM     0   12    0    4     0    0    32  156     2    0    19    2\n",
       "PRON    0    2    0    0     0    0     6    1   142    0     4    1\n",
       "PRT     1    9    4    4     0    0    28    7     0  157    18    6\n",
       "VERB    0    3    0    0     0    0    16    0     0    0   559    0\n",
       "X       0   12    0    3     0    0    21    4     0    0     5  314"
      ]
     },
     "execution_count": 117,
     "metadata": {},
     "output_type": "execute_result"
    }
   ],
   "source": [
    "conf_matrix_viterbi_5 = pd.DataFrame(confusion_matrix([i[1] for i in tagged_seq_5], validation_tags, labels = POS_tags), columns=POS_tags, index=POS_tags)\n",
    "conf_matrix_viterbi_5"
   ]
  },
  {
   "cell_type": "markdown",
   "metadata": {},
   "source": [
    "#### This model doesn't perform as well as the other models. It's performance can be improved by tuning the alpha value that's used for Laplace smoothing. However, since that's very resource intensive and we have other models that are performing well, I'm retaining this alpha value."
   ]
  },
  {
   "cell_type": "markdown",
   "metadata": {},
   "source": [
    "### List down cases which were incorrectly tagged by original POS tagger and got corrected by your modifications"
   ]
  },
  {
   "cell_type": "markdown",
   "metadata": {},
   "source": [
    "As we can see, the rule-based tagger performs best. Let's compare the performance of the vanilla Viterbi tagger and the rule-based modified Viterbi tagger."
   ]
  },
  {
   "cell_type": "code",
   "execution_count": 220,
   "metadata": {},
   "outputs": [],
   "source": [
    "#Entering each sentence as a string\n",
    "test_sentences = [\"Android is a mobile operating system developed by Google.\", \n",
    "                  \"Android has been the best-selling OS worldwide on smartphones since 2011 and on tablets since 2013.\",\n",
    "                  \"Google and Twitter made a deal in 2015 that gave Google access to Twitter's firehose.\",\n",
    "                  'Twitter is an online news and social networking service on which users post and interact with messages known as tweets.',\n",
    "                  'Before entering politics, Donald Trump was a domineering businessman and a television personality.',\n",
    "                  'The 2018 FIFA World Cup is the 21st FIFA World Cup, an international football tournament contested once every four years.',\n",
    "                  'This is the first World Cup to be held in Eastern Europe and the 11th time that it has been held in Europe.',\n",
    "                  'Show me the cheapest round trips from Dallas to Atlanta.',\n",
    "                  'I would like to see flights from Denver to Philadelphia.',\n",
    "                  'Show me the price of the flights leaving Atlanta at about 3 in the afternoon and arriving in San Francisco.',\n",
    "                  'NASA invited social media users to experience the launch of ICESAT-2 Satellite.']\n"
   ]
  },
  {
   "cell_type": "code",
   "execution_count": 221,
   "metadata": {},
   "outputs": [
    {
     "data": {
      "text/plain": [
       "11"
      ]
     },
     "execution_count": 221,
     "metadata": {},
     "output_type": "execute_result"
    }
   ],
   "source": [
    "#Checking the number of test sentences\n",
    "len(test_sentences)"
   ]
  },
  {
   "cell_type": "code",
   "execution_count": 222,
   "metadata": {},
   "outputs": [
    {
     "data": {
      "text/plain": [
       "\"Android is a mobile operating system developed by Google. Android has been the best-selling OS worldwide on smartphones since 2011 and on tablets since 2013. Google and Twitter made a deal in 2015 that gave Google access to Twitter's firehose. Twitter is an online news and social networking service on which users post and interact with messages known as tweets. Before entering politics, Donald Trump was a domineering businessman and a television personality. The 2018 FIFA World Cup is the 21st FIFA World Cup, an international football tournament contested once every four years. This is the first World Cup to be held in Eastern Europe and the 11th time that it has been held in Europe. Show me the cheapest round trips from Dallas to Atlanta. I would like to see flights from Denver to Philadelphia. Show me the price of the flights leaving Atlanta at about 3 in the afternoon and arriving in San Francisco. NASA invited social media users to experience the launch of ICESAT-2 Satellite.\""
      ]
     },
     "execution_count": 222,
     "metadata": {},
     "output_type": "execute_result"
    }
   ],
   "source": [
    "#Joining all the sentences with a space to make a test set that is one string object\n",
    "\n",
    "test_set = ' '.join([sent for sent in test_sentences])\n",
    "test_set"
   ]
  },
  {
   "cell_type": "code",
   "execution_count": 223,
   "metadata": {},
   "outputs": [
    {
     "name": "stdout",
     "output_type": "stream",
     "text": [
      "994\n",
      "<class 'str'>\n"
     ]
    }
   ],
   "source": [
    "#Checking the length of the test set and its type\n",
    "print(len(test_set))\n",
    "print(type(test_set))"
   ]
  },
  {
   "cell_type": "code",
   "execution_count": 224,
   "metadata": {},
   "outputs": [
    {
     "data": {
      "text/plain": [
       "['Android',\n",
       " 'is',\n",
       " 'a',\n",
       " 'mobile',\n",
       " 'operating',\n",
       " 'system',\n",
       " 'developed',\n",
       " 'by',\n",
       " 'Google.',\n",
       " 'Android',\n",
       " 'has',\n",
       " 'been',\n",
       " 'the',\n",
       " 'best-selling',\n",
       " 'OS',\n",
       " 'worldwide',\n",
       " 'on',\n",
       " 'smartphones',\n",
       " 'since',\n",
       " '2011',\n",
       " 'and',\n",
       " 'on',\n",
       " 'tablets',\n",
       " 'since',\n",
       " '2013.',\n",
       " 'Google',\n",
       " 'and',\n",
       " 'Twitter',\n",
       " 'made',\n",
       " 'a',\n",
       " 'deal',\n",
       " 'in',\n",
       " '2015',\n",
       " 'that',\n",
       " 'gave',\n",
       " 'Google',\n",
       " 'access',\n",
       " 'to',\n",
       " \"Twitter's\",\n",
       " 'firehose.',\n",
       " 'Twitter',\n",
       " 'is',\n",
       " 'an',\n",
       " 'online',\n",
       " 'news',\n",
       " 'and',\n",
       " 'social',\n",
       " 'networking',\n",
       " 'service',\n",
       " 'on',\n",
       " 'which',\n",
       " 'users',\n",
       " 'post',\n",
       " 'and',\n",
       " 'interact',\n",
       " 'with',\n",
       " 'messages',\n",
       " 'known',\n",
       " 'as',\n",
       " 'tweets.',\n",
       " 'Before',\n",
       " 'entering',\n",
       " 'politics,',\n",
       " 'Donald',\n",
       " 'Trump',\n",
       " 'was',\n",
       " 'a',\n",
       " 'domineering',\n",
       " 'businessman',\n",
       " 'and',\n",
       " 'a',\n",
       " 'television',\n",
       " 'personality.',\n",
       " 'The',\n",
       " '2018',\n",
       " 'FIFA',\n",
       " 'World',\n",
       " 'Cup',\n",
       " 'is',\n",
       " 'the',\n",
       " '21st',\n",
       " 'FIFA',\n",
       " 'World',\n",
       " 'Cup,',\n",
       " 'an',\n",
       " 'international',\n",
       " 'football',\n",
       " 'tournament',\n",
       " 'contested',\n",
       " 'once',\n",
       " 'every',\n",
       " 'four',\n",
       " 'years.',\n",
       " 'This',\n",
       " 'is',\n",
       " 'the',\n",
       " 'first',\n",
       " 'World',\n",
       " 'Cup',\n",
       " 'to',\n",
       " 'be',\n",
       " 'held',\n",
       " 'in',\n",
       " 'Eastern',\n",
       " 'Europe',\n",
       " 'and',\n",
       " 'the',\n",
       " '11th',\n",
       " 'time',\n",
       " 'that',\n",
       " 'it',\n",
       " 'has',\n",
       " 'been',\n",
       " 'held',\n",
       " 'in',\n",
       " 'Europe.',\n",
       " 'Show',\n",
       " 'me',\n",
       " 'the',\n",
       " 'cheapest',\n",
       " 'round',\n",
       " 'trips',\n",
       " 'from',\n",
       " 'Dallas',\n",
       " 'to',\n",
       " 'Atlanta.',\n",
       " 'I',\n",
       " 'would',\n",
       " 'like',\n",
       " 'to',\n",
       " 'see',\n",
       " 'flights',\n",
       " 'from',\n",
       " 'Denver',\n",
       " 'to',\n",
       " 'Philadelphia.',\n",
       " 'Show',\n",
       " 'me',\n",
       " 'the',\n",
       " 'price',\n",
       " 'of',\n",
       " 'the',\n",
       " 'flights',\n",
       " 'leaving',\n",
       " 'Atlanta',\n",
       " 'at',\n",
       " 'about',\n",
       " '3',\n",
       " 'in',\n",
       " 'the',\n",
       " 'afternoon',\n",
       " 'and',\n",
       " 'arriving',\n",
       " 'in',\n",
       " 'San',\n",
       " 'Francisco.',\n",
       " 'NASA',\n",
       " 'invited',\n",
       " 'social',\n",
       " 'media',\n",
       " 'users',\n",
       " 'to',\n",
       " 'experience',\n",
       " 'the',\n",
       " 'launch',\n",
       " 'of',\n",
       " 'ICESAT-2',\n",
       " 'Satellite.']"
      ]
     },
     "execution_count": 224,
     "metadata": {},
     "output_type": "execute_result"
    }
   ],
   "source": [
    "#Splitting the string on spaces to get individual words as items in a list\n",
    "test_words = test_set.split(' ')\n",
    "test_words"
   ]
  },
  {
   "cell_type": "code",
   "execution_count": 225,
   "metadata": {},
   "outputs": [
    {
     "data": {
      "text/plain": [
       "['Android',\n",
       " 'is',\n",
       " 'a',\n",
       " 'mobile',\n",
       " 'operating',\n",
       " 'system',\n",
       " 'developed',\n",
       " 'by',\n",
       " ['Google', '.'],\n",
       " 'Android',\n",
       " 'has',\n",
       " 'been',\n",
       " 'the',\n",
       " 'best-selling',\n",
       " 'OS',\n",
       " 'worldwide',\n",
       " 'on',\n",
       " 'smartphones',\n",
       " 'since',\n",
       " '2011',\n",
       " 'and',\n",
       " 'on',\n",
       " 'tablets',\n",
       " 'since',\n",
       " ['2013', '.'],\n",
       " 'Google',\n",
       " 'and',\n",
       " 'Twitter',\n",
       " 'made',\n",
       " 'a',\n",
       " 'deal',\n",
       " 'in',\n",
       " '2015',\n",
       " 'that',\n",
       " 'gave',\n",
       " 'Google',\n",
       " 'access',\n",
       " 'to',\n",
       " \"Twitter's\",\n",
       " ['firehose', '.'],\n",
       " 'Twitter',\n",
       " 'is',\n",
       " 'an',\n",
       " 'online',\n",
       " 'news',\n",
       " 'and',\n",
       " 'social',\n",
       " 'networking',\n",
       " 'service',\n",
       " 'on',\n",
       " 'which',\n",
       " 'users',\n",
       " 'post',\n",
       " 'and',\n",
       " 'interact',\n",
       " 'with',\n",
       " 'messages',\n",
       " 'known',\n",
       " 'as',\n",
       " ['tweets', '.'],\n",
       " 'Before',\n",
       " 'entering',\n",
       " 'politics,',\n",
       " 'Donald',\n",
       " 'Trump',\n",
       " 'was',\n",
       " 'a',\n",
       " 'domineering',\n",
       " 'businessman',\n",
       " 'and',\n",
       " 'a',\n",
       " 'television',\n",
       " ['personality', '.'],\n",
       " 'The',\n",
       " '2018',\n",
       " 'FIFA',\n",
       " 'World',\n",
       " 'Cup',\n",
       " 'is',\n",
       " 'the',\n",
       " '21st',\n",
       " 'FIFA',\n",
       " 'World',\n",
       " 'Cup,',\n",
       " 'an',\n",
       " 'international',\n",
       " 'football',\n",
       " 'tournament',\n",
       " 'contested',\n",
       " 'once',\n",
       " 'every',\n",
       " 'four',\n",
       " ['years', '.'],\n",
       " 'This',\n",
       " 'is',\n",
       " 'the',\n",
       " 'first',\n",
       " 'World',\n",
       " 'Cup',\n",
       " 'to',\n",
       " 'be',\n",
       " 'held',\n",
       " 'in',\n",
       " 'Eastern',\n",
       " 'Europe',\n",
       " 'and',\n",
       " 'the',\n",
       " '11th',\n",
       " 'time',\n",
       " 'that',\n",
       " 'it',\n",
       " 'has',\n",
       " 'been',\n",
       " 'held',\n",
       " 'in',\n",
       " ['Europe', '.'],\n",
       " 'Show',\n",
       " 'me',\n",
       " 'the',\n",
       " 'cheapest',\n",
       " 'round',\n",
       " 'trips',\n",
       " 'from',\n",
       " 'Dallas',\n",
       " 'to',\n",
       " ['Atlanta', '.'],\n",
       " 'I',\n",
       " 'would',\n",
       " 'like',\n",
       " 'to',\n",
       " 'see',\n",
       " 'flights',\n",
       " 'from',\n",
       " 'Denver',\n",
       " 'to',\n",
       " ['Philadelphia', '.'],\n",
       " 'Show',\n",
       " 'me',\n",
       " 'the',\n",
       " 'price',\n",
       " 'of',\n",
       " 'the',\n",
       " 'flights',\n",
       " 'leaving',\n",
       " 'Atlanta',\n",
       " 'at',\n",
       " 'about',\n",
       " '3',\n",
       " 'in',\n",
       " 'the',\n",
       " 'afternoon',\n",
       " 'and',\n",
       " 'arriving',\n",
       " 'in',\n",
       " 'San',\n",
       " ['Francisco', '.'],\n",
       " 'NASA',\n",
       " 'invited',\n",
       " 'social',\n",
       " 'media',\n",
       " 'users',\n",
       " 'to',\n",
       " 'experience',\n",
       " 'the',\n",
       " 'launch',\n",
       " 'of',\n",
       " 'ICESAT-2',\n",
       " ['Satellite', '.']]"
      ]
     },
     "execution_count": 225,
     "metadata": {},
     "output_type": "execute_result"
    }
   ],
   "source": [
    "#Splitting '.' as separate characters as '.' has its own part of speech tag\n",
    "\n",
    "test_words = [[word[:-1], word[-1]] if '.' in word else word for word in test_words]\n",
    "test_words"
   ]
  },
  {
   "cell_type": "code",
   "execution_count": 226,
   "metadata": {},
   "outputs": [
    {
     "data": {
      "text/plain": [
       "['Android',\n",
       " 'is',\n",
       " 'a',\n",
       " 'mobile',\n",
       " 'operating',\n",
       " 'system',\n",
       " 'developed',\n",
       " 'by',\n",
       " 'Google',\n",
       " '.',\n",
       " 'Android',\n",
       " 'has',\n",
       " 'been',\n",
       " 'the',\n",
       " 'best-selling',\n",
       " 'OS',\n",
       " 'worldwide',\n",
       " 'on',\n",
       " 'smartphones',\n",
       " 'since',\n",
       " '2011',\n",
       " 'and',\n",
       " 'on',\n",
       " 'tablets',\n",
       " 'since',\n",
       " '2013',\n",
       " '.',\n",
       " 'Google',\n",
       " 'and',\n",
       " 'Twitter',\n",
       " 'made',\n",
       " 'a',\n",
       " 'deal',\n",
       " 'in',\n",
       " '2015',\n",
       " 'that',\n",
       " 'gave',\n",
       " 'Google',\n",
       " 'access',\n",
       " 'to',\n",
       " \"Twitter's\",\n",
       " 'firehose',\n",
       " '.',\n",
       " 'Twitter',\n",
       " 'is',\n",
       " 'an',\n",
       " 'online',\n",
       " 'news',\n",
       " 'and',\n",
       " 'social',\n",
       " 'networking',\n",
       " 'service',\n",
       " 'on',\n",
       " 'which',\n",
       " 'users',\n",
       " 'post',\n",
       " 'and',\n",
       " 'interact',\n",
       " 'with',\n",
       " 'messages',\n",
       " 'known',\n",
       " 'as',\n",
       " 'tweets',\n",
       " '.',\n",
       " 'Before',\n",
       " 'entering',\n",
       " 'politics,',\n",
       " 'Donald',\n",
       " 'Trump',\n",
       " 'was',\n",
       " 'a',\n",
       " 'domineering',\n",
       " 'businessman',\n",
       " 'and',\n",
       " 'a',\n",
       " 'television',\n",
       " 'personality',\n",
       " '.',\n",
       " 'The',\n",
       " '2018',\n",
       " 'FIFA',\n",
       " 'World',\n",
       " 'Cup',\n",
       " 'is',\n",
       " 'the',\n",
       " '21st',\n",
       " 'FIFA',\n",
       " 'World',\n",
       " 'Cup,',\n",
       " 'an',\n",
       " 'international',\n",
       " 'football',\n",
       " 'tournament',\n",
       " 'contested',\n",
       " 'once',\n",
       " 'every',\n",
       " 'four',\n",
       " 'years',\n",
       " '.',\n",
       " 'This',\n",
       " 'is',\n",
       " 'the',\n",
       " 'first',\n",
       " 'World',\n",
       " 'Cup',\n",
       " 'to',\n",
       " 'be',\n",
       " 'held',\n",
       " 'in',\n",
       " 'Eastern',\n",
       " 'Europe',\n",
       " 'and',\n",
       " 'the',\n",
       " '11th',\n",
       " 'time',\n",
       " 'that',\n",
       " 'it',\n",
       " 'has',\n",
       " 'been',\n",
       " 'held',\n",
       " 'in',\n",
       " 'Europe',\n",
       " '.',\n",
       " 'Show',\n",
       " 'me',\n",
       " 'the',\n",
       " 'cheapest',\n",
       " 'round',\n",
       " 'trips',\n",
       " 'from',\n",
       " 'Dallas',\n",
       " 'to',\n",
       " 'Atlanta',\n",
       " '.',\n",
       " 'I',\n",
       " 'would',\n",
       " 'like',\n",
       " 'to',\n",
       " 'see',\n",
       " 'flights',\n",
       " 'from',\n",
       " 'Denver',\n",
       " 'to',\n",
       " 'Philadelphia',\n",
       " '.',\n",
       " 'Show',\n",
       " 'me',\n",
       " 'the',\n",
       " 'price',\n",
       " 'of',\n",
       " 'the',\n",
       " 'flights',\n",
       " 'leaving',\n",
       " 'Atlanta',\n",
       " 'at',\n",
       " 'about',\n",
       " '3',\n",
       " 'in',\n",
       " 'the',\n",
       " 'afternoon',\n",
       " 'and',\n",
       " 'arriving',\n",
       " 'in',\n",
       " 'San',\n",
       " 'Francisco',\n",
       " '.',\n",
       " 'NASA',\n",
       " 'invited',\n",
       " 'social',\n",
       " 'media',\n",
       " 'users',\n",
       " 'to',\n",
       " 'experience',\n",
       " 'the',\n",
       " 'launch',\n",
       " 'of',\n",
       " 'ICESAT-2',\n",
       " 'Satellite',\n",
       " '.']"
      ]
     },
     "execution_count": 226,
     "metadata": {},
     "output_type": "execute_result"
    }
   ],
   "source": [
    "#Flattening the list\n",
    "\n",
    "flat_test_words  = []\n",
    "for sublist in test_words:\n",
    "    if type(sublist) is list:\n",
    "        for word in sublist:\n",
    "            flat_test_words.append(word)\n",
    "    else:\n",
    "        flat_test_words.append(sublist)\n",
    "        \n",
    "flat_test_words"
   ]
  },
  {
   "cell_type": "code",
   "execution_count": null,
   "metadata": {},
   "outputs": [],
   "source": [
    "flat_test_words = [word.lower() for word in flat_test_words]"
   ]
  },
  {
   "cell_type": "code",
   "execution_count": 227,
   "metadata": {},
   "outputs": [
    {
     "data": {
      "text/plain": [
       "179"
      ]
     },
     "execution_count": 227,
     "metadata": {},
     "output_type": "execute_result"
    }
   ],
   "source": [
    "#Checking the number of test words in the flat list\n",
    "len(flat_test_words)"
   ]
  },
  {
   "cell_type": "code",
   "execution_count": 228,
   "metadata": {},
   "outputs": [],
   "source": [
    "#Using the vanilla viterbi tagger and the rule-based viterbi tagger to tag the test words\n",
    "\n",
    "test_Viterbi_vanilla = Viterbi(flat_test_words)\n",
    "test_Viterbi_rule = Viterbi_3(flat_test_words)"
   ]
  },
  {
   "cell_type": "code",
   "execution_count": 229,
   "metadata": {},
   "outputs": [
    {
     "data": {
      "text/plain": [
       "[(('Android', '.'), ('Android', 'NOUN')),\n",
       " (('is', 'VERB'), ('is', 'VERB')),\n",
       " (('a', 'DET'), ('a', 'DET')),\n",
       " (('mobile', 'ADJ'), ('mobile', 'ADJ')),\n",
       " (('operating', 'NOUN'), ('operating', 'NOUN')),\n",
       " (('system', 'NOUN'), ('system', 'NOUN')),\n",
       " (('developed', 'VERB'), ('developed', 'VERB')),\n",
       " (('by', 'ADP'), ('by', 'ADP')),\n",
       " (('Google', '.'), ('Google', 'NOUN')),\n",
       " (('.', '.'), ('.', '.')),\n",
       " (('Android', '.'), ('Android', 'NOUN')),\n",
       " (('has', 'VERB'), ('has', 'VERB')),\n",
       " (('been', 'VERB'), ('been', 'VERB')),\n",
       " (('the', 'DET'), ('the', 'DET')),\n",
       " (('best-selling', 'ADJ'), ('best-selling', 'ADJ')),\n",
       " (('OS', '.'), ('OS', 'NOUN')),\n",
       " (('worldwide', '.'), ('worldwide', 'NOUN')),\n",
       " (('on', 'ADP'), ('on', 'ADP')),\n",
       " (('smartphones', '.'), ('smartphones', 'VERB')),\n",
       " (('since', 'ADP'), ('since', 'ADP')),\n",
       " (('2011', '.'), ('2011', 'NUM')),\n",
       " (('and', 'CONJ'), ('and', 'CONJ')),\n",
       " (('on', 'ADP'), ('on', 'ADP')),\n",
       " (('tablets', 'NOUN'), ('tablets', 'NOUN')),\n",
       " (('since', 'ADP'), ('since', 'ADP')),\n",
       " (('2013', '.'), ('2013', 'NUM')),\n",
       " (('.', '.'), ('.', '.')),\n",
       " (('Google', '.'), ('Google', 'NOUN')),\n",
       " (('and', 'CONJ'), ('and', 'CONJ')),\n",
       " (('Twitter', '.'), ('Twitter', 'NOUN')),\n",
       " (('made', 'VERB'), ('made', 'VERB')),\n",
       " (('a', 'DET'), ('a', 'DET')),\n",
       " (('deal', 'NOUN'), ('deal', 'NOUN')),\n",
       " (('in', 'ADP'), ('in', 'ADP')),\n",
       " (('2015', '.'), ('2015', 'NUM')),\n",
       " (('that', 'ADP'), ('that', 'ADP')),\n",
       " (('gave', 'VERB'), ('gave', 'VERB')),\n",
       " (('Google', '.'), ('Google', 'NOUN')),\n",
       " (('access', 'NOUN'), ('access', 'NOUN')),\n",
       " (('to', 'PRT'), ('to', 'PRT')),\n",
       " ((\"Twitter's\", '.'), (\"Twitter's\", 'NOUN')),\n",
       " (('firehose', '.'), ('firehose', 'NOUN')),\n",
       " (('.', '.'), ('.', '.')),\n",
       " (('Twitter', '.'), ('Twitter', 'NOUN')),\n",
       " (('is', 'VERB'), ('is', 'VERB')),\n",
       " (('an', 'DET'), ('an', 'DET')),\n",
       " (('online', '.'), ('online', 'NOUN')),\n",
       " (('news', 'NOUN'), ('news', 'NOUN')),\n",
       " (('and', 'CONJ'), ('and', 'CONJ')),\n",
       " (('social', 'ADJ'), ('social', 'ADJ')),\n",
       " (('networking', 'NOUN'), ('networking', 'NOUN')),\n",
       " (('service', 'NOUN'), ('service', 'NOUN')),\n",
       " (('on', 'ADP'), ('on', 'ADP')),\n",
       " (('which', 'DET'), ('which', 'DET')),\n",
       " (('users', 'NOUN'), ('users', 'NOUN')),\n",
       " (('post', 'NOUN'), ('post', 'NOUN')),\n",
       " (('and', 'CONJ'), ('and', 'CONJ')),\n",
       " (('interact', '.'), ('interact', 'NOUN')),\n",
       " (('with', 'ADP'), ('with', 'ADP')),\n",
       " (('messages', '.'), ('messages', 'VERB')),\n",
       " (('known', 'VERB'), ('known', 'VERB')),\n",
       " (('as', 'ADP'), ('as', 'ADP')),\n",
       " (('tweets', '.'), ('tweets', 'NOUN')),\n",
       " (('.', '.'), ('.', '.')),\n",
       " (('Before', '.'), ('Before', 'NOUN')),\n",
       " (('entering', 'VERB'), ('entering', 'VERB')),\n",
       " (('politics,', '.'), ('politics,', 'NOUN')),\n",
       " (('Donald', '.'), ('Donald', 'NOUN')),\n",
       " (('Trump', '.'), ('Trump', 'NOUN')),\n",
       " (('was', 'VERB'), ('was', 'VERB')),\n",
       " (('a', 'DET'), ('a', 'DET')),\n",
       " (('domineering', '.'), ('domineering', 'VERB')),\n",
       " (('businessman', 'NOUN'), ('businessman', 'NOUN')),\n",
       " (('and', 'CONJ'), ('and', 'CONJ')),\n",
       " (('a', 'DET'), ('a', 'DET')),\n",
       " (('television', 'NOUN'), ('television', 'NOUN')),\n",
       " (('personality', '.'), ('personality', 'NOUN')),\n",
       " (('.', '.'), ('.', '.')),\n",
       " (('The', '.'), ('The', 'NOUN')),\n",
       " (('2018', '.'), ('2018', 'NUM')),\n",
       " (('FIFA', '.'), ('FIFA', 'NOUN')),\n",
       " (('World', '.'), ('World', 'NOUN')),\n",
       " (('Cup', '.'), ('Cup', 'NOUN')),\n",
       " (('is', 'VERB'), ('is', 'VERB')),\n",
       " (('the', 'DET'), ('the', 'DET')),\n",
       " (('21st', '.'), ('21st', 'NOUN')),\n",
       " (('FIFA', '.'), ('FIFA', 'NOUN')),\n",
       " (('World', '.'), ('World', 'NOUN')),\n",
       " (('Cup,', '.'), ('Cup,', 'NOUN')),\n",
       " (('an', 'DET'), ('an', 'DET')),\n",
       " (('international', 'NOUN'), ('international', 'NOUN')),\n",
       " (('football', 'NOUN'), ('football', 'NOUN')),\n",
       " (('tournament', '.'), ('tournament', 'NOUN')),\n",
       " (('contested', '.'), ('contested', 'VERB')),\n",
       " (('once', 'ADV'), ('once', 'ADV')),\n",
       " (('every', 'DET'), ('every', 'DET')),\n",
       " (('four', 'NUM'), ('four', 'NUM')),\n",
       " (('years', 'NOUN'), ('years', 'NOUN')),\n",
       " (('.', '.'), ('.', '.')),\n",
       " (('This', '.'), ('This', 'NOUN')),\n",
       " (('is', 'VERB'), ('is', 'VERB')),\n",
       " (('the', 'DET'), ('the', 'DET')),\n",
       " (('first', 'ADJ'), ('first', 'ADJ')),\n",
       " (('World', '.'), ('World', 'NOUN')),\n",
       " (('Cup', '.'), ('Cup', 'NOUN')),\n",
       " (('to', 'PRT'), ('to', 'PRT')),\n",
       " (('be', 'VERB'), ('be', 'VERB')),\n",
       " (('held', 'VERB'), ('held', 'VERB')),\n",
       " (('in', 'ADP'), ('in', 'ADP')),\n",
       " (('Eastern', '.'), ('Eastern', 'NOUN')),\n",
       " (('Europe', '.'), ('Europe', 'NOUN')),\n",
       " (('and', 'CONJ'), ('and', 'CONJ')),\n",
       " (('the', 'DET'), ('the', 'DET')),\n",
       " (('11th', '.'), ('11th', 'NOUN')),\n",
       " (('time', 'NOUN'), ('time', 'NOUN')),\n",
       " (('that', 'ADP'), ('that', 'ADP')),\n",
       " (('it', 'PRON'), ('it', 'PRON')),\n",
       " (('has', 'VERB'), ('has', 'VERB')),\n",
       " (('been', 'VERB'), ('been', 'VERB')),\n",
       " (('held', 'VERB'), ('held', 'VERB')),\n",
       " (('in', 'ADP'), ('in', 'ADP')),\n",
       " (('Europe', '.'), ('Europe', 'NOUN')),\n",
       " (('.', '.'), ('.', '.')),\n",
       " (('Show', '.'), ('Show', 'NOUN')),\n",
       " (('me', 'PRON'), ('me', 'PRON')),\n",
       " (('the', 'DET'), ('the', 'DET')),\n",
       " (('cheapest', 'ADJ'), ('cheapest', 'ADJ')),\n",
       " (('round', 'NOUN'), ('round', 'NOUN')),\n",
       " (('trips', '.'), ('trips', 'NOUN')),\n",
       " (('from', 'ADP'), ('from', 'ADP')),\n",
       " (('Dallas', '.'), ('Dallas', 'NOUN')),\n",
       " (('to', 'PRT'), ('to', 'PRT')),\n",
       " (('Atlanta', '.'), ('Atlanta', 'NOUN')),\n",
       " (('.', '.'), ('.', '.')),\n",
       " (('I', '.'), ('I', 'NOUN')),\n",
       " (('would', 'VERB'), ('would', 'VERB')),\n",
       " (('like', 'ADP'), ('like', 'ADP')),\n",
       " (('to', 'PRT'), ('to', 'PRT')),\n",
       " (('see', 'VERB'), ('see', 'VERB')),\n",
       " (('flights', 'NOUN'), ('flights', 'NOUN')),\n",
       " (('from', 'ADP'), ('from', 'ADP')),\n",
       " (('Denver', '.'), ('Denver', 'NOUN')),\n",
       " (('to', 'PRT'), ('to', 'PRT')),\n",
       " (('Philadelphia', '.'), ('Philadelphia', 'NOUN')),\n",
       " (('.', '.'), ('.', '.')),\n",
       " (('Show', '.'), ('Show', 'NOUN')),\n",
       " (('me', 'PRON'), ('me', 'PRON')),\n",
       " (('the', 'DET'), ('the', 'DET')),\n",
       " (('price', 'NOUN'), ('price', 'NOUN')),\n",
       " (('of', 'ADP'), ('of', 'ADP')),\n",
       " (('the', 'DET'), ('the', 'DET')),\n",
       " (('flights', 'NOUN'), ('flights', 'NOUN')),\n",
       " (('leaving', 'VERB'), ('leaving', 'VERB')),\n",
       " (('Atlanta', '.'), ('Atlanta', 'NOUN')),\n",
       " (('at', 'ADP'), ('at', 'ADP')),\n",
       " (('about', 'ADP'), ('about', 'ADP')),\n",
       " (('3', 'NUM'), ('3', 'NUM')),\n",
       " (('in', 'ADP'), ('in', 'ADP')),\n",
       " (('the', 'DET'), ('the', 'DET')),\n",
       " (('afternoon', 'NOUN'), ('afternoon', 'NOUN')),\n",
       " (('and', 'CONJ'), ('and', 'CONJ')),\n",
       " (('arriving', '.'), ('arriving', 'VERB')),\n",
       " (('in', 'ADP'), ('in', 'ADP')),\n",
       " (('San', '.'), ('San', 'NOUN')),\n",
       " (('Francisco', '.'), ('Francisco', 'NOUN')),\n",
       " (('.', '.'), ('.', '.')),\n",
       " (('NASA', '.'), ('NASA', 'NOUN')),\n",
       " (('invited', '.'), ('invited', 'VERB')),\n",
       " (('social', 'ADJ'), ('social', 'ADJ')),\n",
       " (('media', 'NOUN'), ('media', 'NOUN')),\n",
       " (('users', 'NOUN'), ('users', 'NOUN')),\n",
       " (('to', 'PRT'), ('to', 'PRT')),\n",
       " (('experience', 'NOUN'), ('experience', 'NOUN')),\n",
       " (('the', 'DET'), ('the', 'DET')),\n",
       " (('launch', 'NOUN'), ('launch', 'NOUN')),\n",
       " (('of', 'ADP'), ('of', 'ADP')),\n",
       " (('ICESAT-2', '.'), ('ICESAT-2', 'NOUN')),\n",
       " (('Satellite', '.'), ('Satellite', 'NOUN')),\n",
       " (('.', '.'), ('.', '.'))]"
      ]
     },
     "execution_count": 229,
     "metadata": {},
     "output_type": "execute_result"
    }
   ],
   "source": [
    "#Zipping the two lists to compare the performance of the two taggers\n",
    "\n",
    "list(zip(test_Viterbi_vanilla, test_Viterbi_rule))"
   ]
  },
  {
   "cell_type": "markdown",
   "metadata": {},
   "source": [
    "#### The rule-based tagger correctly tags many unknown words that the vanilla Viterbi tagger tagged incorrectly (more than 30). They are:"
   ]
  },
  {
   "cell_type": "markdown",
   "metadata": {},
   "source": [
    "android, google, os, 2011, 2013, twitter, 2015, twitter's, tweets, donald, trump, personality, 2018, fifa, world, cup, tournament, contested, europe, trips, dallas, atlanta, i, philadelphia, arriving, san, francisco, nasa, invited, icesat-2, satellite"
   ]
  },
  {
   "cell_type": "code",
   "execution_count": null,
   "metadata": {},
   "outputs": [],
   "source": []
  },
  {
   "cell_type": "code",
   "execution_count": null,
   "metadata": {},
   "outputs": [],
   "source": []
  }
 ],
 "metadata": {
  "kernelspec": {
   "display_name": "Python 3",
   "language": "python",
   "name": "python3"
  },
  "language_info": {
   "codemirror_mode": {
    "name": "ipython",
    "version": 3
   },
   "file_extension": ".py",
   "mimetype": "text/x-python",
   "name": "python",
   "nbconvert_exporter": "python",
   "pygments_lexer": "ipython3",
   "version": "3.7.3"
  }
 },
 "nbformat": 4,
 "nbformat_minor": 2
}
